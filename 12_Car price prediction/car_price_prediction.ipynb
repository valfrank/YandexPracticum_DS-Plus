{
 "cells": [
  {
   "cell_type": "markdown",
   "metadata": {},
   "source": [
    "# Car price prediction"
   ]
  },
  {
   "cell_type": "markdown",
   "metadata": {},
   "source": [
    "Service for selling used cars is developing an application to attract new customers. \n",
    "\n",
    "We have data on the technical characteristics, equipment and prices of other vehicles.\n",
    "\n",
    "**Criteria that are important to the customer:**\n",
    "\n",
    "- quality of prediction;\n",
    "- model training time;\n",
    "- model prediction time.\n"
   ]
  },
  {
   "cell_type": "markdown",
   "metadata": {},
   "source": [
    "## Libraries and data loading"
   ]
  },
  {
   "cell_type": "code",
   "execution_count": 2,
   "metadata": {},
   "outputs": [
    {
     "name": "stdout",
     "output_type": "stream",
     "text": [
      "Collecting sweetviz\n",
      "  Downloading sweetviz-2.1.4-py3-none-any.whl (15.1 MB)\n",
      "     -------------------------------------- 15.1/15.1 MB 199.3 kB/s eta 0:00:00\n",
      "Collecting importlib-resources>=1.2.0\n",
      "  Downloading importlib_resources-5.10.2-py3-none-any.whl (34 kB)\n",
      "Requirement already satisfied: pandas!=1.0.0,!=1.0.1,!=1.0.2,>=0.25.3 in c:\\users\\jcbhf\\anaconda3\\lib\\site-packages (from sweetviz) (1.4.4)\n",
      "Requirement already satisfied: jinja2>=2.11.1 in c:\\users\\jcbhf\\anaconda3\\lib\\site-packages (from sweetviz) (2.11.3)\n",
      "Requirement already satisfied: numpy>=1.16.0 in c:\\users\\jcbhf\\anaconda3\\lib\\site-packages (from sweetviz) (1.21.5)\n",
      "Requirement already satisfied: scipy>=1.3.2 in c:\\users\\jcbhf\\anaconda3\\lib\\site-packages (from sweetviz) (1.9.1)\n",
      "Requirement already satisfied: tqdm>=4.43.0 in c:\\users\\jcbhf\\anaconda3\\lib\\site-packages (from sweetviz) (4.64.1)\n",
      "Requirement already satisfied: matplotlib>=3.1.3 in c:\\users\\jcbhf\\anaconda3\\lib\\site-packages (from sweetviz) (3.5.2)\n",
      "Requirement already satisfied: zipp>=3.1.0 in c:\\users\\jcbhf\\anaconda3\\lib\\site-packages (from importlib-resources>=1.2.0->sweetviz) (3.8.0)\n",
      "Requirement already satisfied: MarkupSafe>=0.23 in c:\\users\\jcbhf\\anaconda3\\lib\\site-packages (from jinja2>=2.11.1->sweetviz) (2.0.1)\n",
      "Requirement already satisfied: fonttools>=4.22.0 in c:\\users\\jcbhf\\anaconda3\\lib\\site-packages (from matplotlib>=3.1.3->sweetviz) (4.25.0)\n",
      "Requirement already satisfied: python-dateutil>=2.7 in c:\\users\\jcbhf\\anaconda3\\lib\\site-packages (from matplotlib>=3.1.3->sweetviz) (2.8.2)\n",
      "Requirement already satisfied: pyparsing>=2.2.1 in c:\\users\\jcbhf\\anaconda3\\lib\\site-packages (from matplotlib>=3.1.3->sweetviz) (3.0.9)\n",
      "Requirement already satisfied: packaging>=20.0 in c:\\users\\jcbhf\\anaconda3\\lib\\site-packages (from matplotlib>=3.1.3->sweetviz) (21.3)\n",
      "Requirement already satisfied: kiwisolver>=1.0.1 in c:\\users\\jcbhf\\anaconda3\\lib\\site-packages (from matplotlib>=3.1.3->sweetviz) (1.4.2)\n",
      "Requirement already satisfied: pillow>=6.2.0 in c:\\users\\jcbhf\\anaconda3\\lib\\site-packages (from matplotlib>=3.1.3->sweetviz) (9.2.0)\n",
      "Requirement already satisfied: cycler>=0.10 in c:\\users\\jcbhf\\anaconda3\\lib\\site-packages (from matplotlib>=3.1.3->sweetviz) (0.11.0)\n",
      "Requirement already satisfied: pytz>=2020.1 in c:\\users\\jcbhf\\anaconda3\\lib\\site-packages (from pandas!=1.0.0,!=1.0.1,!=1.0.2,>=0.25.3->sweetviz) (2022.1)\n",
      "Requirement already satisfied: colorama in c:\\users\\jcbhf\\anaconda3\\lib\\site-packages (from tqdm>=4.43.0->sweetviz) (0.4.5)\n",
      "Requirement already satisfied: six>=1.5 in c:\\users\\jcbhf\\anaconda3\\lib\\site-packages (from python-dateutil>=2.7->matplotlib>=3.1.3->sweetviz) (1.16.0)\n",
      "Installing collected packages: importlib-resources, sweetviz\n",
      "Successfully installed importlib-resources-5.10.2 sweetviz-2.1.4\n",
      "Note: you may need to restart the kernel to use updated packages.\n"
     ]
    }
   ],
   "source": [
    "pip install sweetviz"
   ]
  },
  {
   "cell_type": "code",
   "execution_count": 4,
   "metadata": {},
   "outputs": [
    {
     "name": "stdout",
     "output_type": "stream",
     "text": [
      "Collecting lightgbm\n",
      "  Downloading lightgbm-3.3.5-py3-none-win_amd64.whl (1.0 MB)\n",
      "     ---------------------------------------- 1.0/1.0 MB 229.3 kB/s eta 0:00:00\n",
      "Requirement already satisfied: numpy in c:\\users\\jcbhf\\anaconda3\\lib\\site-packages (from lightgbm) (1.21.5)\n",
      "Requirement already satisfied: scipy in c:\\users\\jcbhf\\anaconda3\\lib\\site-packages (from lightgbm) (1.9.1)\n",
      "Requirement already satisfied: scikit-learn!=0.22.0 in c:\\users\\jcbhf\\anaconda3\\lib\\site-packages (from lightgbm) (1.0.2)\n",
      "Requirement already satisfied: wheel in c:\\users\\jcbhf\\anaconda3\\lib\\site-packages (from lightgbm) (0.37.1)\n",
      "Requirement already satisfied: joblib>=0.11 in c:\\users\\jcbhf\\anaconda3\\lib\\site-packages (from scikit-learn!=0.22.0->lightgbm) (1.1.0)\n",
      "Requirement already satisfied: threadpoolctl>=2.0.0 in c:\\users\\jcbhf\\anaconda3\\lib\\site-packages (from scikit-learn!=0.22.0->lightgbm) (2.2.0)\n",
      "Installing collected packages: lightgbm\n",
      "Successfully installed lightgbm-3.3.5\n",
      "Note: you may need to restart the kernel to use updated packages.\n"
     ]
    }
   ],
   "source": [
    "pip install lightgbm"
   ]
  },
  {
   "cell_type": "code",
   "execution_count": 5,
   "metadata": {},
   "outputs": [
    {
     "name": "stdout",
     "output_type": "stream",
     "text": [
      "Requirement already satisfied: xgboost in c:\\users\\jcbhf\\anaconda3\\lib\\site-packages (1.7.3)\n",
      "Requirement already satisfied: scipy in c:\\users\\jcbhf\\anaconda3\\lib\\site-packages (from xgboost) (1.9.1)\n",
      "Requirement already satisfied: numpy in c:\\users\\jcbhf\\anaconda3\\lib\\site-packages (from xgboost) (1.21.5)\n",
      "Note: you may need to restart the kernel to use updated packages.\n"
     ]
    }
   ],
   "source": [
    "pip install xgboost"
   ]
  },
  {
   "cell_type": "code",
   "execution_count": 7,
   "metadata": {},
   "outputs": [],
   "source": [
    "import pandas as pd\n",
    "import numpy as np\n",
    "import matplotlib.pyplot as plt\n",
    "import seaborn as sns\n",
    "import sweetviz as sv\n",
    "\n",
    "#-----------------------------\n",
    "import warnings\n",
    "warnings.filterwarnings(\"ignore\")\n",
    "\n",
    "# Models\n",
    "from sklearn.ensemble import RandomForestRegressor\n",
    "from sklearn.linear_model import Ridge, RidgeCV\n",
    "from sklearn.linear_model import ElasticNet, ElasticNetCV\n",
    "\n",
    "import lightgbm as lgb\n",
    "from lightgbm import LGBMRegressor\n",
    "from xgboost import XGBRegressor\n",
    "\n",
    "# Stats\n",
    "from scipy.stats import skew, norm\n",
    "from scipy import stats\n",
    "\n",
    "# Misc\n",
    "from sklearn.model_selection import KFold, cross_val_score\n",
    "from sklearn.metrics import mean_squared_error\n",
    "from sklearn.model_selection import train_test_split, GridSearchCV\n",
    "from sklearn.preprocessing import StandardScaler, OrdinalEncoder\n"
   ]
  },
  {
   "cell_type": "code",
   "execution_count": 11,
   "metadata": {},
   "outputs": [
    {
     "data": {
      "text/html": [
       "<div>\n",
       "<style scoped>\n",
       "    .dataframe tbody tr th:only-of-type {\n",
       "        vertical-align: middle;\n",
       "    }\n",
       "\n",
       "    .dataframe tbody tr th {\n",
       "        vertical-align: top;\n",
       "    }\n",
       "\n",
       "    .dataframe thead th {\n",
       "        text-align: right;\n",
       "    }\n",
       "</style>\n",
       "<table border=\"1\" class=\"dataframe\">\n",
       "  <thead>\n",
       "    <tr style=\"text-align: right;\">\n",
       "      <th></th>\n",
       "      <th>DateCrawled</th>\n",
       "      <th>Price</th>\n",
       "      <th>VehicleType</th>\n",
       "      <th>RegistrationYear</th>\n",
       "      <th>Gearbox</th>\n",
       "      <th>Power</th>\n",
       "      <th>Model</th>\n",
       "      <th>Kilometer</th>\n",
       "      <th>RegistrationMonth</th>\n",
       "      <th>FuelType</th>\n",
       "      <th>Brand</th>\n",
       "      <th>Repaired</th>\n",
       "      <th>DateCreated</th>\n",
       "      <th>NumberOfPictures</th>\n",
       "      <th>PostalCode</th>\n",
       "      <th>LastSeen</th>\n",
       "    </tr>\n",
       "  </thead>\n",
       "  <tbody>\n",
       "    <tr>\n",
       "      <th>0</th>\n",
       "      <td>2016-03-24 11:52:17</td>\n",
       "      <td>480</td>\n",
       "      <td>NaN</td>\n",
       "      <td>1993</td>\n",
       "      <td>manual</td>\n",
       "      <td>0</td>\n",
       "      <td>golf</td>\n",
       "      <td>150000</td>\n",
       "      <td>0</td>\n",
       "      <td>petrol</td>\n",
       "      <td>volkswagen</td>\n",
       "      <td>NaN</td>\n",
       "      <td>2016-03-24 00:00:00</td>\n",
       "      <td>0</td>\n",
       "      <td>70435</td>\n",
       "      <td>2016-04-07 03:16:57</td>\n",
       "    </tr>\n",
       "    <tr>\n",
       "      <th>1</th>\n",
       "      <td>2016-03-24 10:58:45</td>\n",
       "      <td>18300</td>\n",
       "      <td>coupe</td>\n",
       "      <td>2011</td>\n",
       "      <td>manual</td>\n",
       "      <td>190</td>\n",
       "      <td>NaN</td>\n",
       "      <td>125000</td>\n",
       "      <td>5</td>\n",
       "      <td>gasoline</td>\n",
       "      <td>audi</td>\n",
       "      <td>yes</td>\n",
       "      <td>2016-03-24 00:00:00</td>\n",
       "      <td>0</td>\n",
       "      <td>66954</td>\n",
       "      <td>2016-04-07 01:46:50</td>\n",
       "    </tr>\n",
       "    <tr>\n",
       "      <th>2</th>\n",
       "      <td>2016-03-14 12:52:21</td>\n",
       "      <td>9800</td>\n",
       "      <td>suv</td>\n",
       "      <td>2004</td>\n",
       "      <td>auto</td>\n",
       "      <td>163</td>\n",
       "      <td>grand</td>\n",
       "      <td>125000</td>\n",
       "      <td>8</td>\n",
       "      <td>gasoline</td>\n",
       "      <td>jeep</td>\n",
       "      <td>NaN</td>\n",
       "      <td>2016-03-14 00:00:00</td>\n",
       "      <td>0</td>\n",
       "      <td>90480</td>\n",
       "      <td>2016-04-05 12:47:46</td>\n",
       "    </tr>\n",
       "    <tr>\n",
       "      <th>3</th>\n",
       "      <td>2016-03-17 16:54:04</td>\n",
       "      <td>1500</td>\n",
       "      <td>small</td>\n",
       "      <td>2001</td>\n",
       "      <td>manual</td>\n",
       "      <td>75</td>\n",
       "      <td>golf</td>\n",
       "      <td>150000</td>\n",
       "      <td>6</td>\n",
       "      <td>petrol</td>\n",
       "      <td>volkswagen</td>\n",
       "      <td>no</td>\n",
       "      <td>2016-03-17 00:00:00</td>\n",
       "      <td>0</td>\n",
       "      <td>91074</td>\n",
       "      <td>2016-03-17 17:40:17</td>\n",
       "    </tr>\n",
       "    <tr>\n",
       "      <th>4</th>\n",
       "      <td>2016-03-31 17:25:20</td>\n",
       "      <td>3600</td>\n",
       "      <td>small</td>\n",
       "      <td>2008</td>\n",
       "      <td>manual</td>\n",
       "      <td>69</td>\n",
       "      <td>fabia</td>\n",
       "      <td>90000</td>\n",
       "      <td>7</td>\n",
       "      <td>gasoline</td>\n",
       "      <td>skoda</td>\n",
       "      <td>no</td>\n",
       "      <td>2016-03-31 00:00:00</td>\n",
       "      <td>0</td>\n",
       "      <td>60437</td>\n",
       "      <td>2016-04-06 10:17:21</td>\n",
       "    </tr>\n",
       "  </tbody>\n",
       "</table>\n",
       "</div>"
      ],
      "text/plain": [
       "           DateCrawled  Price VehicleType  RegistrationYear Gearbox  Power  \\\n",
       "0  2016-03-24 11:52:17    480         NaN              1993  manual      0   \n",
       "1  2016-03-24 10:58:45  18300       coupe              2011  manual    190   \n",
       "2  2016-03-14 12:52:21   9800         suv              2004    auto    163   \n",
       "3  2016-03-17 16:54:04   1500       small              2001  manual     75   \n",
       "4  2016-03-31 17:25:20   3600       small              2008  manual     69   \n",
       "\n",
       "   Model  Kilometer  RegistrationMonth  FuelType       Brand Repaired  \\\n",
       "0   golf     150000                  0    petrol  volkswagen      NaN   \n",
       "1    NaN     125000                  5  gasoline        audi      yes   \n",
       "2  grand     125000                  8  gasoline        jeep      NaN   \n",
       "3   golf     150000                  6    petrol  volkswagen       no   \n",
       "4  fabia      90000                  7  gasoline       skoda       no   \n",
       "\n",
       "           DateCreated  NumberOfPictures  PostalCode             LastSeen  \n",
       "0  2016-03-24 00:00:00                 0       70435  2016-04-07 03:16:57  \n",
       "1  2016-03-24 00:00:00                 0       66954  2016-04-07 01:46:50  \n",
       "2  2016-03-14 00:00:00                 0       90480  2016-04-05 12:47:46  \n",
       "3  2016-03-17 00:00:00                 0       91074  2016-03-17 17:40:17  \n",
       "4  2016-03-31 00:00:00                 0       60437  2016-04-06 10:17:21  "
      ]
     },
     "execution_count": 11,
     "metadata": {},
     "output_type": "execute_result"
    }
   ],
   "source": [
    "server_path = '/datasets/autos.csv'\n",
    "local_path= r'D:\\Downloads\\Lera\\autos.csv'\n",
    "\n",
    "try:\n",
    "    data = pd.read_csv(server_path)\n",
    "except:\n",
    "    data = pd.read_csv(local_path)\n",
    "\n",
    "data.head()"
   ]
  },
  {
   "cell_type": "markdown",
   "metadata": {},
   "source": [
    "**Признаки**\n",
    "\n",
    "- DateCrawled — дата скачивания анкеты из базы\n",
    "- VehicleType — тип автомобильного кузова\n",
    "- RegistrationYear — год регистрации автомобиля\n",
    "- Gearbox — тип коробки передач\n",
    "- Power — мощность (л. с.)\n",
    "- Model — модель автомобиля\n",
    "- Kilometer — пробег (км)\n",
    "- RegistrationMonth — месяц регистрации автомобиля\n",
    "- FuelType — тип топлива\n",
    "- Brand — марка автомобиля\n",
    "- NotRepaired — была машина в ремонте или нет\n",
    "- DateCreated — дата создания анкеты\n",
    "- NumberOfPictures — количество фотографий автомобиля\n",
    "- PostalCode — почтовый индекс владельца анкеты (пользователя)\n",
    "- LastSeen — дата последней активности пользователя\n",
    "\n",
    "**Целевой признак**\n",
    "\n",
    "- Price — цена (евро)"
   ]
  },
  {
   "cell_type": "code",
   "execution_count": 12,
   "metadata": {},
   "outputs": [
    {
     "name": "stdout",
     "output_type": "stream",
     "text": [
      "<class 'pandas.core.frame.DataFrame'>\n",
      "RangeIndex: 354369 entries, 0 to 354368\n",
      "Data columns (total 16 columns):\n",
      " #   Column             Non-Null Count   Dtype \n",
      "---  ------             --------------   ----- \n",
      " 0   DateCrawled        354369 non-null  object\n",
      " 1   Price              354369 non-null  int64 \n",
      " 2   VehicleType        316879 non-null  object\n",
      " 3   RegistrationYear   354369 non-null  int64 \n",
      " 4   Gearbox            334536 non-null  object\n",
      " 5   Power              354369 non-null  int64 \n",
      " 6   Model              334664 non-null  object\n",
      " 7   Kilometer          354369 non-null  int64 \n",
      " 8   RegistrationMonth  354369 non-null  int64 \n",
      " 9   FuelType           321474 non-null  object\n",
      " 10  Brand              354369 non-null  object\n",
      " 11  Repaired           283215 non-null  object\n",
      " 12  DateCreated        354369 non-null  object\n",
      " 13  NumberOfPictures   354369 non-null  int64 \n",
      " 14  PostalCode         354369 non-null  int64 \n",
      " 15  LastSeen           354369 non-null  object\n",
      "dtypes: int64(7), object(9)\n",
      "memory usage: 43.3+ MB\n"
     ]
    }
   ],
   "source": [
    "data.info()"
   ]
  },
  {
   "cell_type": "code",
   "execution_count": 13,
   "metadata": {},
   "outputs": [
    {
     "data": {
      "text/plain": [
       "(354369, 16)"
      ]
     },
     "execution_count": 13,
     "metadata": {},
     "output_type": "execute_result"
    }
   ],
   "source": [
    "data.shape"
   ]
  },
  {
   "cell_type": "code",
   "execution_count": 14,
   "metadata": {},
   "outputs": [],
   "source": [
    "# drop irrelevant columns \n",
    "columns_to_drop = ['DateCrawled', 'RegistrationMonth', 'DateCreated', 'NumberOfPictures', 'PostalCode', 'LastSeen']\n",
    "data.drop(columns_to_drop, axis=1, inplace=True)"
   ]
  },
  {
   "cell_type": "markdown",
   "metadata": {},
   "source": [
    "### Data analysis using the Sweetviz library"
   ]
  },
  {
   "cell_type": "code",
   "execution_count": 15,
   "metadata": {},
   "outputs": [
    {
     "data": {
      "application/vnd.jupyter.widget-view+json": {
       "model_id": "869a9b2681494889bf112a56a0b5992b",
       "version_major": 2,
       "version_minor": 0
      },
      "text/plain": [
       "                                             |                                             | [  0%]   00:00 ->…"
      ]
     },
     "metadata": {},
     "output_type": "display_data"
    },
    {
     "name": "stdout",
     "output_type": "stream",
     "text": [
      "Report SWEETVIZ_REPORT.html was generated! NOTEBOOK/COLAB USERS: the web browser MAY not pop up, regardless, the report IS saved in your notebook/colab files.\n"
     ]
    }
   ],
   "source": [
    "eda_report = sv.analyze(data, target_feat='Price')\n",
    "eda_report.show_html()"
   ]
  },
  {
   "cell_type": "markdown",
   "metadata": {},
   "source": [
    "**Resume**\n",
    "\n",
    "5 categorical values, 4 numerical, 1 text (car model)\n",
    "\n",
    "1. There are missing values in the columns `VehicleType`, `Gearbox`, `Model`, `FuelType`, `Repaired`\n",
    "2. There are outliers in the `Price` column (0 - 3%), `RegistrationYear`, `Power`, - there are outliers with implausible values\n",
    "3. The highest price correlation is observed with the brand, body type, fuel type, whether the car was under repair\n",
    "\n",
    "*Data preprocessing*\n",
    "- fill missing values,\n",
    "- remove outliers\n",
    "- convert categorical values\n",
    "- scale numerical values\n",
    "- correct the asymmetry of the distribution of the target trait"
   ]
  },
  {
   "cell_type": "markdown",
   "metadata": {},
   "source": [
    "## Data preprocessing"
   ]
  },
  {
   "cell_type": "markdown",
   "metadata": {},
   "source": [
    "### Target value: Price"
   ]
  },
  {
   "cell_type": "code",
   "execution_count": 16,
   "metadata": {},
   "outputs": [
    {
     "data": {
      "text/plain": [
       "count    354369.000000\n",
       "mean       4416.656776\n",
       "std        4514.158514\n",
       "min           0.000000\n",
       "25%        1050.000000\n",
       "50%        2700.000000\n",
       "75%        6400.000000\n",
       "max       20000.000000\n",
       "Name: Price, dtype: float64"
      ]
     },
     "execution_count": 16,
     "metadata": {},
     "output_type": "execute_result"
    }
   ],
   "source": [
    "data['Price'].describe()"
   ]
  },
  {
   "cell_type": "code",
   "execution_count": 17,
   "metadata": {},
   "outputs": [
    {
     "data": {
      "text/plain": [
       "0.030397692800442477"
      ]
     },
     "execution_count": 17,
     "metadata": {},
     "output_type": "execute_result"
    }
   ],
   "source": [
    "# partion of cars with a \"0\" price \n",
    "len(data[data['Price'] == 0])/len(data['Price'])"
   ]
  },
  {
   "cell_type": "code",
   "execution_count": 18,
   "metadata": {},
   "outputs": [
    {
     "data": {
      "text/plain": [
       "0.03757100649323163"
      ]
     },
     "execution_count": 18,
     "metadata": {},
     "output_type": "execute_result"
    }
   ],
   "source": [
    "# partion of cars with a price '< 100' \n",
    "len(data[data['Price'] < 100])/len(data['Price'])"
   ]
  },
  {
   "cell_type": "markdown",
   "metadata": {},
   "source": [
    "- There are price values equal to 0. We will consider them outliers and remove all values less than 100 euros"
   ]
  },
  {
   "cell_type": "code",
   "execution_count": 19,
   "metadata": {},
   "outputs": [],
   "source": [
    "# delete objects with a price less than 100 euros\n",
    "data.drop(data[data['Price'] < 100].index, inplace=True)\n"
   ]
  },
  {
   "cell_type": "code",
   "execution_count": 20,
   "metadata": {},
   "outputs": [
    {
     "data": {
      "text/plain": [
       "count    341055.000000\n",
       "mean       4588.861052\n",
       "std        4514.844700\n",
       "min         100.000000\n",
       "25%        1200.000000\n",
       "50%        2900.000000\n",
       "75%        6500.000000\n",
       "max       20000.000000\n",
       "Name: Price, dtype: float64"
      ]
     },
     "execution_count": 20,
     "metadata": {},
     "output_type": "execute_result"
    }
   ],
   "source": [
    "data['Price'].describe()"
   ]
  },
  {
   "cell_type": "code",
   "execution_count": 21,
   "metadata": {},
   "outputs": [
    {
     "data": {
      "image/png": "[encoded data removed]",
      "text/plain": [
       "<Figure size 800x700 with 1 Axes>"
      ]
     },
     "metadata": {},
     "output_type": "display_data"
    }
   ],
   "source": [
    "sns.set_style(\"white\")\n",
    "sns.set_color_codes(palette='deep')\n",
    "f, ax = plt.subplots(figsize=(8, 7))\n",
    "#Check the new distribution\n",
    "sns.distplot(data['Price'], color=\"b\");\n",
    "ax.xaxis.grid(False)\n",
    "ax.set(ylabel=\"Frequency\")\n",
    "ax.set(xlabel=\"Price\")\n",
    "ax.set(title=\"Price distribution\")\n",
    "sns.despine(trim=True, left=True)\n",
    "plt.show()"
   ]
  },
  {
   "cell_type": "markdown",
   "metadata": {},
   "source": [
    "- Deviation from the normal distribution.\n",
    "- Observe a noticeable asymmetry.\n",
    "- There is a clear peak."
   ]
  },
  {
   "cell_type": "markdown",
   "metadata": {},
   "source": [
    "### Missing values"
   ]
  },
  {
   "cell_type": "code",
   "execution_count": 22,
   "metadata": {},
   "outputs": [
    {
     "data": {
      "text/html": [
       "<div>\n",
       "<style scoped>\n",
       "    .dataframe tbody tr th:only-of-type {\n",
       "        vertical-align: middle;\n",
       "    }\n",
       "\n",
       "    .dataframe tbody tr th {\n",
       "        vertical-align: top;\n",
       "    }\n",
       "\n",
       "    .dataframe thead th {\n",
       "        text-align: right;\n",
       "    }\n",
       "</style>\n",
       "<table border=\"1\" class=\"dataframe\">\n",
       "  <thead>\n",
       "    <tr style=\"text-align: right;\">\n",
       "      <th></th>\n",
       "      <th>Total</th>\n",
       "      <th>Percent</th>\n",
       "    </tr>\n",
       "  </thead>\n",
       "  <tbody>\n",
       "    <tr>\n",
       "      <th>Repaired</th>\n",
       "      <td>64357</td>\n",
       "      <td>0.188700</td>\n",
       "    </tr>\n",
       "    <tr>\n",
       "      <th>VehicleType</th>\n",
       "      <td>32612</td>\n",
       "      <td>0.095621</td>\n",
       "    </tr>\n",
       "    <tr>\n",
       "      <th>FuelType</th>\n",
       "      <td>28349</td>\n",
       "      <td>0.083121</td>\n",
       "    </tr>\n",
       "    <tr>\n",
       "      <th>Model</th>\n",
       "      <td>17033</td>\n",
       "      <td>0.049942</td>\n",
       "    </tr>\n",
       "    <tr>\n",
       "      <th>Gearbox</th>\n",
       "      <td>16314</td>\n",
       "      <td>0.047834</td>\n",
       "    </tr>\n",
       "    <tr>\n",
       "      <th>Price</th>\n",
       "      <td>0</td>\n",
       "      <td>0.000000</td>\n",
       "    </tr>\n",
       "    <tr>\n",
       "      <th>RegistrationYear</th>\n",
       "      <td>0</td>\n",
       "      <td>0.000000</td>\n",
       "    </tr>\n",
       "    <tr>\n",
       "      <th>Power</th>\n",
       "      <td>0</td>\n",
       "      <td>0.000000</td>\n",
       "    </tr>\n",
       "    <tr>\n",
       "      <th>Kilometer</th>\n",
       "      <td>0</td>\n",
       "      <td>0.000000</td>\n",
       "    </tr>\n",
       "    <tr>\n",
       "      <th>Brand</th>\n",
       "      <td>0</td>\n",
       "      <td>0.000000</td>\n",
       "    </tr>\n",
       "  </tbody>\n",
       "</table>\n",
       "</div>"
      ],
      "text/plain": [
       "                  Total   Percent\n",
       "Repaired          64357  0.188700\n",
       "VehicleType       32612  0.095621\n",
       "FuelType          28349  0.083121\n",
       "Model             17033  0.049942\n",
       "Gearbox           16314  0.047834\n",
       "Price                 0  0.000000\n",
       "RegistrationYear      0  0.000000\n",
       "Power                 0  0.000000\n",
       "Kilometer             0  0.000000\n",
       "Brand                 0  0.000000"
      ]
     },
     "execution_count": 22,
     "metadata": {},
     "output_type": "execute_result"
    }
   ],
   "source": [
    "# missing data\n",
    "total = data.isnull().sum().sort_values(ascending=False)\n",
    "percent = (data.isnull().sum()/data.isnull().count()).sort_values(ascending=False)\n",
    "missing_data = pd.concat([total, percent], axis=1, keys=['Total', 'Percent'])\n",
    "missing_data.head(20)"
   ]
  },
  {
   "cell_type": "markdown",
   "metadata": {},
   "source": [
    "There are missing values in 4 columns. These are categorical"
   ]
  },
  {
   "cell_type": "code",
   "execution_count": 23,
   "metadata": {},
   "outputs": [],
   "source": [
    "# Replace the missing values in each of the columns with their mode\n",
    "data['Model']= data['Model'].fillna('unknown')\n",
    "data['Repaired'] = data['Repaired'].fillna(data['Repaired'].mode()[0])\n",
    "data['Gearbox']= data['Gearbox'].fillna(data['Gearbox'].mode()[0])\n",
    "data['FuelType'] = data['FuelType'].fillna(data['FuelType'].mode()[0])\n",
    "data['VehicleType'] = data['VehicleType'].fillna(data['VehicleType'].mode()[0])"
   ]
  },
  {
   "cell_type": "code",
   "execution_count": 24,
   "metadata": {},
   "outputs": [
    {
     "data": {
      "text/html": [
       "<div>\n",
       "<style scoped>\n",
       "    .dataframe tbody tr th:only-of-type {\n",
       "        vertical-align: middle;\n",
       "    }\n",
       "\n",
       "    .dataframe tbody tr th {\n",
       "        vertical-align: top;\n",
       "    }\n",
       "\n",
       "    .dataframe thead th {\n",
       "        text-align: right;\n",
       "    }\n",
       "</style>\n",
       "<table border=\"1\" class=\"dataframe\">\n",
       "  <thead>\n",
       "    <tr style=\"text-align: right;\">\n",
       "      <th></th>\n",
       "      <th>Total</th>\n",
       "      <th>Percent</th>\n",
       "    </tr>\n",
       "  </thead>\n",
       "  <tbody>\n",
       "    <tr>\n",
       "      <th>Price</th>\n",
       "      <td>0</td>\n",
       "      <td>0.0</td>\n",
       "    </tr>\n",
       "    <tr>\n",
       "      <th>VehicleType</th>\n",
       "      <td>0</td>\n",
       "      <td>0.0</td>\n",
       "    </tr>\n",
       "    <tr>\n",
       "      <th>RegistrationYear</th>\n",
       "      <td>0</td>\n",
       "      <td>0.0</td>\n",
       "    </tr>\n",
       "    <tr>\n",
       "      <th>Gearbox</th>\n",
       "      <td>0</td>\n",
       "      <td>0.0</td>\n",
       "    </tr>\n",
       "    <tr>\n",
       "      <th>Power</th>\n",
       "      <td>0</td>\n",
       "      <td>0.0</td>\n",
       "    </tr>\n",
       "    <tr>\n",
       "      <th>Model</th>\n",
       "      <td>0</td>\n",
       "      <td>0.0</td>\n",
       "    </tr>\n",
       "    <tr>\n",
       "      <th>Kilometer</th>\n",
       "      <td>0</td>\n",
       "      <td>0.0</td>\n",
       "    </tr>\n",
       "    <tr>\n",
       "      <th>FuelType</th>\n",
       "      <td>0</td>\n",
       "      <td>0.0</td>\n",
       "    </tr>\n",
       "    <tr>\n",
       "      <th>Brand</th>\n",
       "      <td>0</td>\n",
       "      <td>0.0</td>\n",
       "    </tr>\n",
       "    <tr>\n",
       "      <th>Repaired</th>\n",
       "      <td>0</td>\n",
       "      <td>0.0</td>\n",
       "    </tr>\n",
       "  </tbody>\n",
       "</table>\n",
       "</div>"
      ],
      "text/plain": [
       "                  Total  Percent\n",
       "Price                 0      0.0\n",
       "VehicleType           0      0.0\n",
       "RegistrationYear      0      0.0\n",
       "Gearbox               0      0.0\n",
       "Power                 0      0.0\n",
       "Model                 0      0.0\n",
       "Kilometer             0      0.0\n",
       "FuelType              0      0.0\n",
       "Brand                 0      0.0\n",
       "Repaired              0      0.0"
      ]
     },
     "execution_count": 24,
     "metadata": {},
     "output_type": "execute_result"
    }
   ],
   "source": [
    "# check if we have removed all the gaps\n",
    "total = data.isnull().sum().sort_values(ascending=False)\n",
    "percent = (data.isnull().sum()/data.isnull().count()).sort_values(ascending=False)\n",
    "missing_data = pd.concat([total, percent], axis=1, keys=['Total', 'Percent'])\n",
    "missing_data.head(20)"
   ]
  },
  {
   "cell_type": "markdown",
   "metadata": {},
   "source": [
    "### Outliars"
   ]
  },
  {
   "cell_type": "markdown",
   "metadata": {},
   "source": [
    "**Price and power analysis**"
   ]
  },
  {
   "cell_type": "code",
   "execution_count": 25,
   "metadata": {},
   "outputs": [
    {
     "data": {
      "image/png": "[encoded data removed]",
      "text/plain": [
       "<Figure size 640x480 with 1 Axes>"
      ]
     },
     "metadata": {},
     "output_type": "display_data"
    }
   ],
   "source": [
    "var = 'Power'\n",
    "data1 = pd.concat([data['Price'], data[var]], axis=1)\n",
    "data1.plot.scatter(x=var, y='Price', ylim=(0,21000))\n",
    "plt.show()"
   ]
  },
  {
   "cell_type": "code",
   "execution_count": 26,
   "metadata": {},
   "outputs": [
    {
     "data": {
      "text/plain": [
       "count    341055.000000\n",
       "mean        111.396197\n",
       "std         188.373379\n",
       "min           0.000000\n",
       "25%          70.000000\n",
       "50%         105.000000\n",
       "75%         143.000000\n",
       "max       20000.000000\n",
       "Name: Power, dtype: float64"
      ]
     },
     "execution_count": 26,
     "metadata": {},
     "output_type": "execute_result"
    }
   ],
   "source": [
    "data['Power'].describe()"
   ]
  },
  {
   "cell_type": "markdown",
   "metadata": {},
   "source": [
    "There are clear outliers here. \n",
    "\n",
    "Replace them with the average value.\n",
    "\n",
    "Define the upper and lower bounds using quantiles."
   ]
  },
  {
   "cell_type": "code",
   "execution_count": 27,
   "metadata": {},
   "outputs": [
    {
     "name": "stdout",
     "output_type": "stream",
     "text": [
      "300.0 44.0 111.3961970943103\n"
     ]
    }
   ],
   "source": [
    "q1 = data['Power'].quantile(0.99)\n",
    "q2 = data['Power'].quantile(0.11)\n",
    "power_mean = data['Power'].mean()\n",
    "print(q1, q2, power_mean)"
   ]
  },
  {
   "cell_type": "code",
   "execution_count": 28,
   "metadata": {},
   "outputs": [],
   "source": [
    "# replace the outliers in the Power column with the average value\n",
    "data['Power'] = data['Power'].apply(lambda x: power_mean if (x >= q1 or x < q2) else x)"
   ]
  },
  {
   "cell_type": "markdown",
   "metadata": {},
   "source": [
    "**Analysis of the price and year of registration of the car**"
   ]
  },
  {
   "cell_type": "code",
   "execution_count": 29,
   "metadata": {},
   "outputs": [
    {
     "data": {
      "image/png": "[encoded data removed]",
      "text/plain": [
       "<Figure size 640x480 with 1 Axes>"
      ]
     },
     "metadata": {},
     "output_type": "display_data"
    }
   ],
   "source": [
    "var = 'RegistrationYear'\n",
    "data1 = pd.concat([data['Price'], data[var]], axis=1)\n",
    "data1.plot.scatter(x=var, y='Price', ylim=(0,21000))\n",
    "plt.show()"
   ]
  },
  {
   "cell_type": "code",
   "execution_count": 30,
   "metadata": {},
   "outputs": [
    {
     "data": {
      "text/plain": [
       "count    341055.000000\n",
       "mean       2003.955303\n",
       "std          69.811742\n",
       "min        1000.000000\n",
       "25%        1999.000000\n",
       "50%        2003.000000\n",
       "75%        2008.000000\n",
       "max        9999.000000\n",
       "Name: RegistrationYear, dtype: float64"
      ]
     },
     "execution_count": 30,
     "metadata": {},
     "output_type": "execute_result"
    }
   ],
   "source": [
    "data['RegistrationYear'].describe()"
   ]
  },
  {
   "cell_type": "markdown",
   "metadata": {},
   "source": [
    "There are invalid values. Replace the outliers with the average value of the year of registration."
   ]
  },
  {
   "cell_type": "code",
   "execution_count": 31,
   "metadata": {
    "scrolled": true
   },
   "outputs": [
    {
     "name": "stdout",
     "output_type": "stream",
     "text": [
      "2018.0 1972.0 2003.9553033968127\n"
     ]
    }
   ],
   "source": [
    "q1 = data['RegistrationYear'].quantile(0.99)\n",
    "q2 = data['RegistrationYear'].quantile(0.005)\n",
    "year_mean = data['RegistrationYear'].mean()\n",
    "print(q1,q2, year_mean)"
   ]
  },
  {
   "cell_type": "code",
   "execution_count": 32,
   "metadata": {},
   "outputs": [],
   "source": [
    "# replace the outliers with the average value - 2004\n",
    "data['RegistrationYear'] = data['RegistrationYear'].apply(lambda x: 2004 if x >= 2018 or x <= 1972 else x)"
   ]
  },
  {
   "cell_type": "code",
   "execution_count": 33,
   "metadata": {},
   "outputs": [
    {
     "data": {
      "image/png": "[encoded data removed]",
      "text/plain": [
       "<Figure size 640x480 with 1 Axes>"
      ]
     },
     "metadata": {},
     "output_type": "display_data"
    }
   ],
   "source": [
    "var = 'RegistrationYear'\n",
    "data1 = pd.concat([data['Price'], data[var]], axis=1)\n",
    "data1.plot.scatter(x=var, y='Price', ylim=(0,21000))\n",
    "plt.show()"
   ]
  },
  {
   "cell_type": "markdown",
   "metadata": {},
   "source": [
    "### Correcting the skewness of distributions"
   ]
  },
  {
   "cell_type": "code",
   "execution_count": 34,
   "metadata": {},
   "outputs": [
    {
     "data": {
      "image/png": "[encoded data removed]",
      "text/plain": [
       "<Figure size 640x480 with 1 Axes>"
      ]
     },
     "metadata": {},
     "output_type": "display_data"
    },
    {
     "data": {
      "image/png": "[encoded data removed]",
      "text/plain": [
       "<Figure size 640x480 with 1 Axes>"
      ]
     },
     "metadata": {},
     "output_type": "display_data"
    }
   ],
   "source": [
    "sns.distplot(data['Price'], fit=norm);\n",
    "fig = plt.figure()\n",
    "res = stats.probplot(data['Price'], plot=plt)\n",
    "plt.show()"
   ]
  },
  {
   "cell_type": "markdown",
   "metadata": {},
   "source": [
    "The price distribution is shifted to the right. Most machine learning models perform poorly on non-normally distributed data. We can apply a log(x) transformation to fix the skew."
   ]
  },
  {
   "cell_type": "code",
   "execution_count": 35,
   "metadata": {},
   "outputs": [],
   "source": [
    "data[\"Price\"] = np.log(data[\"Price\"])"
   ]
  },
  {
   "cell_type": "code",
   "execution_count": 36,
   "metadata": {},
   "outputs": [
    {
     "data": {
      "image/png": "[encoded data removed]",
      "text/plain": [
       "<Figure size 640x480 with 1 Axes>"
      ]
     },
     "metadata": {},
     "output_type": "display_data"
    },
    {
     "data": {
      "image/png": "[encoded data removed]",
      "text/plain": [
       "<Figure size 640x480 with 1 Axes>"
      ]
     },
     "metadata": {},
     "output_type": "display_data"
    }
   ],
   "source": [
    "#transformed histogram and normal probability plot\n",
    "sns.distplot(data[\"Price\"], fit=norm);\n",
    "fig = plt.figure()\n",
    "res = stats.probplot(data[\"Price\"], plot=plt)\n",
    "plt.show()"
   ]
  },
  {
   "cell_type": "code",
   "execution_count": 37,
   "metadata": {},
   "outputs": [
    {
     "data": {
      "image/png": "[encoded data removed]",
      "text/plain": [
       "<Figure size 640x480 with 1 Axes>"
      ]
     },
     "metadata": {},
     "output_type": "display_data"
    },
    {
     "data": {
      "image/png": "[encoded data removed]",
      "text/plain": [
       "<Figure size 640x480 with 1 Axes>"
      ]
     },
     "metadata": {},
     "output_type": "display_data"
    }
   ],
   "source": [
    "sns.distplot(data['Power'], fit=norm);\n",
    "fig = plt.figure()\n",
    "res = stats.probplot(data['Power'], plot=plt)\n",
    "plt.show()"
   ]
  },
  {
   "cell_type": "code",
   "execution_count": 38,
   "metadata": {},
   "outputs": [],
   "source": [
    "data[\"Power\"] = np.log(data[\"Power\"])"
   ]
  },
  {
   "cell_type": "code",
   "execution_count": 39,
   "metadata": {},
   "outputs": [
    {
     "data": {
      "image/png": "[encoded data removed]",
      "text/plain": [
       "<Figure size 640x480 with 1 Axes>"
      ]
     },
     "metadata": {},
     "output_type": "display_data"
    },
    {
     "data": {
      "image/png": "[encoded data removed]",
      "text/plain": [
       "<Figure size 640x480 with 1 Axes>"
      ]
     },
     "metadata": {},
     "output_type": "display_data"
    }
   ],
   "source": [
    "sns.distplot(data['Power'], fit=norm);\n",
    "fig = plt.figure()\n",
    "res = stats.probplot(data['Power'], plot=plt)\n",
    "plt.show()"
   ]
  },
  {
   "cell_type": "markdown",
   "metadata": {},
   "source": [
    "## Model training"
   ]
  },
  {
   "cell_type": "code",
   "execution_count": 40,
   "metadata": {},
   "outputs": [],
   "source": [
    "X = data.drop('Price', axis=1)\n",
    "y = data['Price']\n",
    "X_train, X_test, y_train, y_test = train_test_split(X, y, test_size=0.3, random_state=42)"
   ]
  },
  {
   "cell_type": "code",
   "execution_count": 41,
   "metadata": {
    "scrolled": true
   },
   "outputs": [
    {
     "data": {
      "text/plain": [
       "Index(['Price', 'VehicleType', 'RegistrationYear', 'Gearbox', 'Power', 'Model',\n",
       "       'Kilometer', 'FuelType', 'Brand', 'Repaired'],\n",
       "      dtype='object')"
      ]
     },
     "execution_count": 41,
     "metadata": {},
     "output_type": "execute_result"
    }
   ],
   "source": [
    "data.columns"
   ]
  },
  {
   "cell_type": "code",
   "execution_count": 42,
   "metadata": {},
   "outputs": [],
   "source": [
    "categorical = ['VehicleType', 'Gearbox', 'Power', 'FuelType', 'Brand', 'Repaired', 'Model']\n",
    "numerical = ['RegistrationYear', 'Power', 'Kilometer']"
   ]
  },
  {
   "cell_type": "code",
   "execution_count": 43,
   "metadata": {},
   "outputs": [],
   "source": [
    "enc = OrdinalEncoder()\n",
    "X_train[categorical] = enc.fit_transform(X_train[categorical])\n",
    "X_test[categorical] = enc.fit_transform(X_test[categorical])"
   ]
  },
  {
   "cell_type": "code",
   "execution_count": 44,
   "metadata": {},
   "outputs": [],
   "source": [
    "scaler = StandardScaler()\n",
    "X_train[numerical] = scaler.fit_transform(X_train[numerical])\n",
    "X_test[numerical] = scaler.fit_transform(X_test[numerical])"
   ]
  },
  {
   "cell_type": "code",
   "execution_count": 45,
   "metadata": {},
   "outputs": [],
   "source": [
    "kf = KFold(n_splits=10, random_state=42, shuffle=True)"
   ]
  },
  {
   "cell_type": "code",
   "execution_count": 46,
   "metadata": {},
   "outputs": [],
   "source": [
    "def cv_rmse(model, X=X):\n",
    "    rmse = np.sqrt(-cross_val_score(model, X_train, y_train, scoring=\"neg_mean_squared_error\", cv=kf, n_jobs=-1))\n",
    "    return (rmse)"
   ]
  },
  {
   "cell_type": "markdown",
   "metadata": {},
   "source": [
    "### Light Gradient Boosting Regressor - hyperparameter tuning"
   ]
  },
  {
   "cell_type": "code",
   "execution_count": 47,
   "metadata": {},
   "outputs": [
    {
     "name": "stdout",
     "output_type": "stream",
     "text": [
      "Accuracy score for LGBMRegressor: -0.538327 using {'max_depth': 5, 'n_estimators': 100, 'num_leaves': 9, 'subsample': 0.5}\n"
     ]
    }
   ],
   "source": [
    "lightgbm = LGBMRegressor(objective='regression', random_state=42)\n",
    "lgbm_parameters = {'n_estimators': [10, 50, 100],\n",
    "                   'subsample': [0.5, 0.7, 1.0],\n",
    "                   'max_depth': [3, 4, 5], \n",
    "                   'num_leaves': [3, 6, 9]}\n",
    "\n",
    "lgbm_grid_search = GridSearchCV(estimator=lightgbm, param_grid=lgbm_parameters, n_jobs=-1, cv=kf, scoring='neg_root_mean_squared_error')\n",
    "\n",
    "# storing the values\n",
    "lgbm_grid_result = lgbm_grid_search.fit(X_train, y_train)\n",
    "# printing the best parameters\n",
    "print(\"Accuracy score for LGBMRegressor: %f using %s\" % (lgbm_grid_result.best_score_, lgbm_grid_result.best_params_))"
   ]
  },
  {
   "cell_type": "markdown",
   "metadata": {},
   "source": [
    "### Random Forest Regressor - hyperparameter tuning"
   ]
  },
  {
   "cell_type": "code",
   "execution_count": 48,
   "metadata": {},
   "outputs": [
    {
     "name": "stdout",
     "output_type": "stream",
     "text": [
      "Accuracy score for RandomForestRegressor: -0.555161 using {'max_depth': 10, 'min_samples_leaf': 3, 'min_samples_split': 3, 'n_estimators': 100}\n"
     ]
    }
   ],
   "source": [
    "rf = RandomForestRegressor(random_state=42)\n",
    "rf_parameters = {'n_estimators': [10, 50, 100],\n",
    "                 'max_depth': [3, 5, 10], \n",
    "                 'min_samples_leaf': [3, 5, 7],\n",
    "                 'min_samples_split': [1, 3]}\n",
    "\n",
    "rf_grid_search = GridSearchCV(estimator=rf, param_grid=rf_parameters, n_jobs=-1, cv=kf, scoring='neg_root_mean_squared_error')\n",
    "\n",
    "# storing the values\n",
    "rf_grid_result = rf_grid_search.fit(X_train, y_train)\n",
    "# printing the best parameters\n",
    "print(\"Accuracy score for RandomForestRegressor: %f using %s\" % (rf_grid_result.best_score_, rf_grid_result.best_params_))"
   ]
  },
  {
   "cell_type": "markdown",
   "metadata": {},
   "source": [
    "### Cross Validation of Models"
   ]
  },
  {
   "cell_type": "code",
   "execution_count": 49,
   "metadata": {},
   "outputs": [],
   "source": [
    "# Light Gradient Boosting Regressor \n",
    "lightgbm = LGBMRegressor(objective='regression',\n",
    "                         num_leaves=9,\n",
    "                         n_estimators=100,\n",
    "                         subsample=0.5,\n",
    "                         max_depth=5,\n",
    "                         random_state=42,\n",
    "                         n_jobs=-1)\n",
    "\n",
    "# XGBoost Regressor\n",
    "xgboost = XGBRegressor(learning_rate=0.1,\n",
    "                       n_estimators=100,\n",
    "                       max_depth=4,\n",
    "                       min_child_weight=0,\n",
    "                       gamma=0.6,\n",
    "                       subsample=0.7,\n",
    "                       colsample_bytree=0.7,\n",
    "                       objective='reg:linear',\n",
    "                       nthread=-1,\n",
    "                       scale_pos_weight=1,\n",
    "                       seed=27,\n",
    "                       reg_alpha=0.00006,\n",
    "                       random_state=42,\n",
    "                       n_jobs=-1)\n",
    "\n",
    "# Ridge Regressor\n",
    "ridge_alphas = [1e-3, 1e-2, 1e-1, 1, 10]\n",
    "ridge = RidgeCV(alphas=ridge_alphas, cv=kf)\n",
    "\n",
    "\n",
    "# Random Forest Regressor\n",
    "rf = RandomForestRegressor(n_estimators=100,\n",
    "                           max_depth=10,\n",
    "                           min_samples_split=3,\n",
    "                           min_samples_leaf=3,\n",
    "                           random_state=42,\n",
    "                           n_jobs=-1)\n",
    "\n",
    "# Elastic Net\n",
    "elastic = ElasticNet(alpha=0.1, l1_ratio=0.9, selection='random', random_state=42)\n",
    "\n"
   ]
  },
  {
   "cell_type": "code",
   "execution_count": 50,
   "metadata": {
    "pycharm": {
     "name": "#%%\n"
    },
    "scrolled": true
   },
   "outputs": [
    {
     "name": "stdout",
     "output_type": "stream",
     "text": [
      "lightgbm: 0.5383 (0.0050)\n",
      "Wall time: 2.57 s\n"
     ]
    }
   ],
   "source": [
    "%%time\n",
    "scores = {}\n",
    "\n",
    "score = cv_rmse(lightgbm)\n",
    "print(\"lightgbm: {:.4f} ({:.4f})\".format(score.mean(), score.std()))\n",
    "scores['lgb'] = (score.mean(), score.std())"
   ]
  },
  {
   "cell_type": "code",
   "execution_count": 51,
   "metadata": {
    "pycharm": {
     "name": "#%%\n"
    }
   },
   "outputs": [
    {
     "name": "stdout",
     "output_type": "stream",
     "text": [
      "xgboost: 0.5290 (0.0048)\n",
      "Wall time: 16.3 s\n"
     ]
    }
   ],
   "source": [
    "%%time\n",
    "\n",
    "score = cv_rmse(xgboost)\n",
    "print(\"xgboost: {:.4f} ({:.4f})\".format(score.mean(), score.std()))\n",
    "scores['xgboost'] = (score.mean(), score.std())"
   ]
  },
  {
   "cell_type": "code",
   "execution_count": 52,
   "metadata": {
    "pycharm": {
     "name": "#%%\n"
    }
   },
   "outputs": [
    {
     "name": "stdout",
     "output_type": "stream",
     "text": [
      "rf: 0.5552 (0.0051)\n",
      "Wall time: 57.5 s\n"
     ]
    }
   ],
   "source": [
    "%%time\n",
    "\n",
    "score = cv_rmse(rf)\n",
    "print(\"rf: {:.4f} ({:.4f})\".format(score.mean(), score.std()))\n",
    "scores['rf'] = (score.mean(), score.std())"
   ]
  },
  {
   "cell_type": "code",
   "execution_count": 53,
   "metadata": {},
   "outputs": [
    {
     "name": "stdout",
     "output_type": "stream",
     "text": [
      "ridge: 0.7632 (0.0051)\n",
      "Wall time: 5.48 s\n"
     ]
    }
   ],
   "source": [
    "%%time\n",
    "\n",
    "score = cv_rmse(ridge)\n",
    "print(\"ridge: {:.4f} ({:.4f})\".format(score.mean(), score.std()))\n",
    "scores['ridge'] = (score.mean(), score.std())"
   ]
  },
  {
   "cell_type": "code",
   "execution_count": 54,
   "metadata": {},
   "outputs": [
    {
     "name": "stdout",
     "output_type": "stream",
     "text": [
      "elastic: 0.8108 (0.0047)\n",
      "Wall time: 678 ms\n"
     ]
    }
   ],
   "source": [
    "%%time\n",
    "\n",
    "score = cv_rmse(elastic)\n",
    "print(\"elastic: {:.4f} ({:.4f})\".format(score.mean(), score.std()))\n",
    "scores['elastic'] = (score.mean(), score.std())"
   ]
  },
  {
   "cell_type": "code",
   "execution_count": 74,
   "metadata": {
    "scrolled": true
   },
   "outputs": [
    {
     "data": {
      "image/png": "[encoded data removed]",
      "text/plain": [
       "<Figure size 1000x500 with 1 Axes>"
      ]
     },
     "metadata": {},
     "output_type": "display_data"
    }
   ],
   "source": [
    "# Plot the predictions for each model\n",
    "sns.set_style(\"white\")\n",
    "fig = plt.figure(figsize=(10, 5))\n",
    "\n",
    "ax = sns.pointplot(x=list(scores.keys()), y=[score for score, _ in scores.values()], markers=['o'], linestyles=['-'])\n",
    "for i, score in enumerate(scores.values()):\n",
    "    ax.text(i, score[0] + 0.002, '{:.6f}'.format(score[0]), horizontalalignment='left', size='large', color='black', weight='semibold')\n",
    "\n",
    "plt.ylabel('Score (RMSE)', size=20, labelpad=12.5)\n",
    "plt.xlabel('Model', size=20, labelpad=12.5)\n",
    "plt.tick_params(axis='x', labelsize=13.5)\n",
    "plt.tick_params(axis='y', labelsize=12.5)\n",
    "\n",
    "plt.title('Scores of Models', size=20)\n",
    "\n",
    "plt.show()"
   ]
  },
  {
   "cell_type": "markdown",
   "metadata": {},
   "source": [
    "### Training"
   ]
  },
  {
   "cell_type": "code",
   "execution_count": 56,
   "metadata": {},
   "outputs": [
    {
     "name": "stdout",
     "output_type": "stream",
     "text": [
      "Wall time: 288 ms\n"
     ]
    }
   ],
   "source": [
    "%%time\n",
    "lgb_model_full_data = lightgbm.fit(X_train, y_train)\n"
   ]
  },
  {
   "cell_type": "code",
   "execution_count": 57,
   "metadata": {},
   "outputs": [
    {
     "name": "stdout",
     "output_type": "stream",
     "text": [
      "Wall time: 177 ms\n"
     ]
    }
   ],
   "source": [
    "%%time\n",
    "lgb_predict = lgb_model_full_data.predict(X_train)\n"
   ]
  },
  {
   "cell_type": "code",
   "execution_count": 58,
   "metadata": {},
   "outputs": [
    {
     "name": "stdout",
     "output_type": "stream",
     "text": [
      "[14:17:49] WARNING: C:/buildkite-agent/builds/buildkite-windows-cpu-autoscaling-group-i-08de971ced8a8cdc6-1/xgboost/xgboost-ci-windows/src/objective/regression_obj.cu:213: reg:linear is now deprecated in favor of reg:squarederror.\n",
      "Wall time: 2.36 s\n"
     ]
    }
   ],
   "source": [
    "%%time\n",
    "xgboost_model_full_data = xgboost.fit(X_train, y_train)"
   ]
  },
  {
   "cell_type": "code",
   "execution_count": 59,
   "metadata": {},
   "outputs": [
    {
     "name": "stdout",
     "output_type": "stream",
     "text": [
      "Wall time: 63.8 ms\n"
     ]
    }
   ],
   "source": [
    "%%time\n",
    "xgboost_predict = xgboost_model_full_data.predict(X_train)\n"
   ]
  },
  {
   "cell_type": "code",
   "execution_count": 60,
   "metadata": {},
   "outputs": [
    {
     "name": "stdout",
     "output_type": "stream",
     "text": [
      "Wall time: 1.36 s\n"
     ]
    }
   ],
   "source": [
    "%%time\n",
    "ridge_model_full_data = ridge.fit(X_train, y_train)"
   ]
  },
  {
   "cell_type": "code",
   "execution_count": 61,
   "metadata": {},
   "outputs": [
    {
     "name": "stdout",
     "output_type": "stream",
     "text": [
      "Wall time: 4.99 ms\n"
     ]
    }
   ],
   "source": [
    "%%time\n",
    "ridge_predict = ridge_model_full_data.predict(X_train)\n"
   ]
  },
  {
   "cell_type": "code",
   "execution_count": 62,
   "metadata": {},
   "outputs": [
    {
     "name": "stdout",
     "output_type": "stream",
     "text": [
      "Wall time: 5.71 s\n"
     ]
    }
   ],
   "source": [
    "%%time\n",
    "rf_model_full_data = rf.fit(X_train, y_train)\n",
    " "
   ]
  },
  {
   "cell_type": "code",
   "execution_count": 63,
   "metadata": {},
   "outputs": [
    {
     "name": "stdout",
     "output_type": "stream",
     "text": [
      "Wall time: 344 ms\n"
     ]
    }
   ],
   "source": [
    "%%time\n",
    "rf_predict = rf_model_full_data.predict(X_train)\n"
   ]
  },
  {
   "cell_type": "code",
   "execution_count": 64,
   "metadata": {},
   "outputs": [
    {
     "name": "stdout",
     "output_type": "stream",
     "text": [
      "Wall time: 50 ms\n"
     ]
    }
   ],
   "source": [
    "%%time\n",
    "elastic_model_full_data = elastic.fit(X_train, y_train)"
   ]
  },
  {
   "cell_type": "code",
   "execution_count": 65,
   "metadata": {},
   "outputs": [
    {
     "name": "stdout",
     "output_type": "stream",
     "text": [
      "Wall time: 3.99 ms\n"
     ]
    }
   ],
   "source": [
    "%%time\n",
    "elastic_predict = elastic_model_full_data.predict(X_train)\n"
   ]
  },
  {
   "cell_type": "markdown",
   "metadata": {},
   "source": [
    "### Comparison"
   ]
  },
  {
   "cell_type": "code",
   "execution_count": 66,
   "metadata": {},
   "outputs": [
    {
     "data": {
      "text/html": [
       "<div>\n",
       "<style scoped>\n",
       "    .dataframe tbody tr th:only-of-type {\n",
       "        vertical-align: middle;\n",
       "    }\n",
       "\n",
       "    .dataframe tbody tr th {\n",
       "        vertical-align: top;\n",
       "    }\n",
       "\n",
       "    .dataframe thead th {\n",
       "        text-align: right;\n",
       "    }\n",
       "</style>\n",
       "<table border=\"1\" class=\"dataframe\">\n",
       "  <thead>\n",
       "    <tr style=\"text-align: right;\">\n",
       "      <th></th>\n",
       "      <th>RMSE на CV, euro</th>\n",
       "      <th>Time of training, s</th>\n",
       "      <th>Time of testing, s</th>\n",
       "    </tr>\n",
       "  </thead>\n",
       "  <tbody>\n",
       "    <tr>\n",
       "      <th>Light Gradient Boosting Regressor</th>\n",
       "      <td>0.538327</td>\n",
       "      <td>110.000</td>\n",
       "      <td>1.480</td>\n",
       "    </tr>\n",
       "    <tr>\n",
       "      <th>XGBoost Regressor</th>\n",
       "      <td>0.528962</td>\n",
       "      <td>58.700</td>\n",
       "      <td>0.485</td>\n",
       "    </tr>\n",
       "    <tr>\n",
       "      <th>Ridge Regressor</th>\n",
       "      <td>0.763199</td>\n",
       "      <td>10.000</td>\n",
       "      <td>0.005</td>\n",
       "    </tr>\n",
       "    <tr>\n",
       "      <th>Random Forest Regressor</th>\n",
       "      <td>0.555161</td>\n",
       "      <td>29.600</td>\n",
       "      <td>2.100</td>\n",
       "    </tr>\n",
       "    <tr>\n",
       "      <th>Elastic NET</th>\n",
       "      <td>0.810791</td>\n",
       "      <td>0.086</td>\n",
       "      <td>0.094</td>\n",
       "    </tr>\n",
       "  </tbody>\n",
       "</table>\n",
       "</div>"
      ],
      "text/plain": [
       "                                   RMSE на CV, euro  Time of training, s  \\\n",
       "Light Gradient Boosting Regressor          0.538327              110.000   \n",
       "XGBoost Regressor                          0.528962               58.700   \n",
       "Ridge Regressor                            0.763199               10.000   \n",
       "Random Forest Regressor                    0.555161               29.600   \n",
       "Elastic NET                                0.810791                0.086   \n",
       "\n",
       "                                   Time of testing, s  \n",
       "Light Gradient Boosting Regressor               1.480  \n",
       "XGBoost Regressor                               0.485  \n",
       "Ridge Regressor                                 0.005  \n",
       "Random Forest Regressor                         2.100  \n",
       "Elastic NET                                     0.094  "
      ]
     },
     "execution_count": 66,
     "metadata": {},
     "output_type": "execute_result"
    }
   ],
   "source": [
    "index = ['Light Gradient Boosting Regressor', \n",
    "         'XGBoost Regressor', \n",
    "         'Ridge Regressor',\n",
    "         'Random Forest Regressor', \n",
    "         'Elastic NET']\n",
    "df = {'RMSE на CV, euro':[scores.get('lgb')[0],\n",
    "                            scores.get('xgboost')[0],\n",
    "                            scores.get('ridge')[0], \n",
    "                            scores.get('rf')[0],\n",
    "                            scores.get('elastic')[0]],\n",
    "        'Time of training, s':[110,\n",
    "                               58.7,\n",
    "                               10,\n",
    "                               29.6,\n",
    "                               0.086],\n",
    "        'Time of testing, s':[1.48,\n",
    "                              0.485,\n",
    "                              0.005,\n",
    "                              2.1,\n",
    "                              0.094]}\n",
    "\n",
    "scores_data = pd.DataFrame(data=df, index=index)\n",
    "\n",
    "scores_data"
   ]
  },
  {
   "cell_type": "markdown",
   "metadata": {},
   "source": [
    "**Resume**\n",
    "\n",
    "- The most accurate model is `XGBoost Regressor`, the least accurate is `Elastic NET`\n",
    "- The fastest model in training is `Elastic NET`, the slowest is `Light Gradient Boosting Regressor`\n",
    "- The fastest model in prediction is `Ridge Regressor`, the slowest one is `Random Forest Regressor`\n"
   ]
  },
  {
   "cell_type": "markdown",
   "metadata": {},
   "source": [
    "## Best model testing"
   ]
  },
  {
   "cell_type": "markdown",
   "metadata": {},
   "source": [
    "The most promising model in terms of important criteria: (prediction quality; model training time; model prediction time) turned out to be the **XGBoost Regressor** model. This model is quite fast in training and prediction and shows high accuracy."
   ]
  },
  {
   "cell_type": "code",
   "execution_count": 71,
   "metadata": {},
   "outputs": [
    {
     "name": "stdout",
     "output_type": "stream",
     "text": [
      "RMSE 0.537\n"
     ]
    }
   ],
   "source": [
    "xgb_test_predict = xgboost_model_full_data.predict(X_test)\n",
    "rms = np.sqrt(mean_squared_error(y_test, xgb_test_predict))\n",
    "print('RMSE', round(rms, 3))"
   ]
  },
  {
   "cell_type": "markdown",
   "metadata": {},
   "source": [
    "## Conclusions"
   ]
  },
  {
   "cell_type": "markdown",
   "metadata": {},
   "source": [
    "The following was done:\n",
    "\n",
    "- Data loaded and pre-processed.\n",
    "- Trained 5 different models on cross-validation\n",
    "- Comparison of models is executed.\n",
    "- The best model was selected based on the results of the RMSE metric and training time.\n",
    "\n",
    "The best model in terms of quality, learning rate and prediction rate can be considered XGBoost Regressor.\n",
    "\n",
    "Elastic NET and Ridge proved to be very weak in this task.\n",
    "\n",
    "LGBMRegressor also showed high accuracy, but training and prediction based on this model is quite long compared to the rest.\n"
   ]
  }
 ],
 "metadata": {
  "ExecuteTimeLog": [
   {
    "duration": 1623,
    "start_time": "2022-11-05T10:04:33.297Z"
   },
   {
    "duration": 154,
    "start_time": "2022-11-05T10:04:37.699Z"
   },
   {
    "duration": 3083,
    "start_time": "2022-11-05T10:05:02.320Z"
   },
   {
    "duration": 144,
    "start_time": "2022-11-05T10:05:10.987Z"
   },
   {
    "duration": 7,
    "start_time": "2022-11-05T10:05:11.820Z"
   },
   {
    "duration": 27,
    "start_time": "2022-11-05T10:05:12.863Z"
   },
   {
    "duration": 9,
    "start_time": "2022-11-05T10:05:15.168Z"
   },
   {
    "duration": 297,
    "start_time": "2022-11-05T10:05:21.802Z"
   },
   {
    "duration": 199,
    "start_time": "2022-11-05T10:05:24.355Z"
   },
   {
    "duration": 268,
    "start_time": "2022-11-05T10:05:25.233Z"
   },
   {
    "duration": 19,
    "start_time": "2022-11-05T10:05:27.032Z"
   },
   {
    "duration": 10,
    "start_time": "2022-11-05T10:05:28.433Z"
   },
   {
    "duration": 10,
    "start_time": "2022-11-05T10:05:28.912Z"
   },
   {
    "duration": 49,
    "start_time": "2022-11-05T10:05:29.241Z"
   },
   {
    "duration": 18,
    "start_time": "2022-11-05T10:05:30.035Z"
   },
   {
    "duration": 1701,
    "start_time": "2022-11-05T10:05:30.844Z"
   },
   {
    "duration": 70,
    "start_time": "2022-11-05T10:05:36.432Z"
   },
   {
    "duration": 674,
    "start_time": "2022-11-05T10:05:39.323Z"
   },
   {
    "duration": 18,
    "start_time": "2022-11-05T10:05:40.355Z"
   },
   {
    "duration": 15,
    "start_time": "2022-11-05T10:05:41.471Z"
   },
   {
    "duration": 210,
    "start_time": "2022-11-05T10:05:42.215Z"
   },
   {
    "duration": 662,
    "start_time": "2022-11-05T10:05:44.531Z"
   },
   {
    "duration": 17,
    "start_time": "2022-11-05T10:05:46.388Z"
   },
   {
    "duration": 15,
    "start_time": "2022-11-05T10:05:49.955Z"
   },
   {
    "duration": 119,
    "start_time": "2022-11-05T10:05:50.650Z"
   },
   {
    "duration": 658,
    "start_time": "2022-11-05T10:05:51.482Z"
   },
   {
    "duration": 2622,
    "start_time": "2022-11-05T10:05:54.384Z"
   },
   {
    "duration": 3,
    "start_time": "2022-11-05T10:05:59.489Z"
   },
   {
    "duration": 7,
    "start_time": "2022-11-05T10:06:00.199Z"
   },
   {
    "duration": 2479,
    "start_time": "2022-11-05T10:06:01.041Z"
   },
   {
    "duration": 2398,
    "start_time": "2022-11-05T10:06:07.619Z"
   },
   {
    "duration": 12,
    "start_time": "2022-11-05T10:06:10.235Z"
   },
   {
    "duration": 2434,
    "start_time": "2022-11-05T10:06:11.123Z"
   },
   {
    "duration": 2,
    "start_time": "2022-11-05T10:06:17.013Z"
   },
   {
    "duration": 1019,
    "start_time": "2022-11-05T10:06:18.016Z"
   },
   {
    "duration": 19,
    "start_time": "2022-11-05T10:06:20.427Z"
   },
   {
    "duration": 575,
    "start_time": "2022-11-05T10:06:23.352Z"
   },
   {
    "duration": 152,
    "start_time": "2022-11-05T10:06:24.802Z"
   },
   {
    "duration": 3,
    "start_time": "2022-11-05T10:06:27.694Z"
   },
   {
    "duration": 3,
    "start_time": "2022-11-05T10:06:29.175Z"
   },
   {
    "duration": 7,
    "start_time": "2022-11-05T10:06:55.713Z"
   },
   {
    "duration": 563900,
    "start_time": "2022-11-05T10:07:00.426Z"
   },
   {
    "duration": 6807280,
    "start_time": "2022-11-05T10:16:24.328Z"
   },
   {
    "duration": 23070,
    "start_time": "2022-11-05T12:09:51.610Z"
   },
   {
    "duration": 1420,
    "start_time": "2022-11-05T12:10:28.077Z"
   },
   {
    "duration": 920,
    "start_time": "2022-11-05T12:10:29.499Z"
   },
   {
    "duration": 151,
    "start_time": "2022-11-05T12:10:30.421Z"
   },
   {
    "duration": 6,
    "start_time": "2022-11-05T12:10:30.575Z"
   },
   {
    "duration": 41,
    "start_time": "2022-11-05T12:10:30.583Z"
   },
   {
    "duration": 120,
    "start_time": "2022-11-05T12:10:30.625Z"
   },
   {
    "duration": 0,
    "start_time": "2022-11-05T12:10:30.748Z"
   },
   {
    "duration": 0,
    "start_time": "2022-11-05T12:10:30.749Z"
   },
   {
    "duration": 0,
    "start_time": "2022-11-05T12:10:30.750Z"
   },
   {
    "duration": 0,
    "start_time": "2022-11-05T12:10:30.751Z"
   },
   {
    "duration": 0,
    "start_time": "2022-11-05T12:10:30.752Z"
   },
   {
    "duration": 0,
    "start_time": "2022-11-05T12:10:30.753Z"
   },
   {
    "duration": 0,
    "start_time": "2022-11-05T12:10:30.755Z"
   },
   {
    "duration": 0,
    "start_time": "2022-11-05T12:10:30.756Z"
   },
   {
    "duration": 0,
    "start_time": "2022-11-05T12:10:30.757Z"
   },
   {
    "duration": 0,
    "start_time": "2022-11-05T12:10:30.758Z"
   },
   {
    "duration": 0,
    "start_time": "2022-11-05T12:10:30.759Z"
   },
   {
    "duration": 0,
    "start_time": "2022-11-05T12:10:30.760Z"
   },
   {
    "duration": 0,
    "start_time": "2022-11-05T12:10:30.761Z"
   },
   {
    "duration": 0,
    "start_time": "2022-11-05T12:10:30.762Z"
   },
   {
    "duration": 0,
    "start_time": "2022-11-05T12:10:30.763Z"
   },
   {
    "duration": 0,
    "start_time": "2022-11-05T12:10:30.764Z"
   },
   {
    "duration": 0,
    "start_time": "2022-11-05T12:10:30.765Z"
   },
   {
    "duration": 0,
    "start_time": "2022-11-05T12:10:30.767Z"
   },
   {
    "duration": 0,
    "start_time": "2022-11-05T12:10:30.768Z"
   },
   {
    "duration": 0,
    "start_time": "2022-11-05T12:10:30.769Z"
   },
   {
    "duration": 0,
    "start_time": "2022-11-05T12:10:30.770Z"
   },
   {
    "duration": 0,
    "start_time": "2022-11-05T12:10:30.770Z"
   },
   {
    "duration": 0,
    "start_time": "2022-11-05T12:10:30.771Z"
   },
   {
    "duration": 0,
    "start_time": "2022-11-05T12:10:30.772Z"
   },
   {
    "duration": 0,
    "start_time": "2022-11-05T12:10:30.773Z"
   },
   {
    "duration": 0,
    "start_time": "2022-11-05T12:10:30.775Z"
   },
   {
    "duration": 0,
    "start_time": "2022-11-05T12:10:30.776Z"
   },
   {
    "duration": 0,
    "start_time": "2022-11-05T12:10:30.776Z"
   },
   {
    "duration": 0,
    "start_time": "2022-11-05T12:10:30.778Z"
   },
   {
    "duration": 0,
    "start_time": "2022-11-05T12:10:30.824Z"
   },
   {
    "duration": 0,
    "start_time": "2022-11-05T12:10:30.825Z"
   },
   {
    "duration": 0,
    "start_time": "2022-11-05T12:10:30.827Z"
   },
   {
    "duration": 0,
    "start_time": "2022-11-05T12:10:30.828Z"
   },
   {
    "duration": 0,
    "start_time": "2022-11-05T12:10:30.829Z"
   },
   {
    "duration": 0,
    "start_time": "2022-11-05T12:10:30.830Z"
   },
   {
    "duration": 0,
    "start_time": "2022-11-05T12:10:30.831Z"
   },
   {
    "duration": 0,
    "start_time": "2022-11-05T12:10:30.833Z"
   },
   {
    "duration": 0,
    "start_time": "2022-11-05T12:10:30.834Z"
   },
   {
    "duration": 1528,
    "start_time": "2022-11-05T13:40:53.702Z"
   },
   {
    "duration": 958,
    "start_time": "2022-11-05T13:40:56.898Z"
   },
   {
    "duration": 149,
    "start_time": "2022-11-05T13:40:59.070Z"
   },
   {
    "duration": 4,
    "start_time": "2022-11-05T13:40:59.544Z"
   },
   {
    "duration": 28,
    "start_time": "2022-11-05T13:41:00.018Z"
   },
   {
    "duration": 115,
    "start_time": "2022-11-05T13:41:01.289Z"
   },
   {
    "duration": 271,
    "start_time": "2022-11-05T13:41:03.764Z"
   },
   {
    "duration": 215,
    "start_time": "2022-11-05T13:41:05.248Z"
   },
   {
    "duration": 285,
    "start_time": "2022-11-05T13:41:06.385Z"
   },
   {
    "duration": 19,
    "start_time": "2022-11-05T13:41:07.839Z"
   },
   {
    "duration": 9,
    "start_time": "2022-11-05T13:41:08.973Z"
   },
   {
    "duration": 11,
    "start_time": "2022-11-05T13:41:09.536Z"
   },
   {
    "duration": 49,
    "start_time": "2022-11-05T13:41:10.074Z"
   },
   {
    "duration": 17,
    "start_time": "2022-11-05T13:41:10.896Z"
   },
   {
    "duration": 1663,
    "start_time": "2022-11-05T13:41:11.524Z"
   },
   {
    "duration": 67,
    "start_time": "2022-11-05T13:41:18.973Z"
   },
   {
    "duration": 664,
    "start_time": "2022-11-05T13:41:20.592Z"
   },
   {
    "duration": 20,
    "start_time": "2022-11-05T13:41:21.944Z"
   },
   {
    "duration": 15,
    "start_time": "2022-11-05T13:41:22.350Z"
   },
   {
    "duration": 229,
    "start_time": "2022-11-05T13:41:22.924Z"
   },
   {
    "duration": 663,
    "start_time": "2022-11-05T13:41:23.155Z"
   },
   {
    "duration": 19,
    "start_time": "2022-11-05T13:41:23.823Z"
   },
   {
    "duration": 15,
    "start_time": "2022-11-05T13:41:23.902Z"
   },
   {
    "duration": 119,
    "start_time": "2022-11-05T13:41:24.444Z"
   },
   {
    "duration": 665,
    "start_time": "2022-11-05T13:41:24.907Z"
   },
   {
    "duration": 2672,
    "start_time": "2022-11-05T13:41:25.574Z"
   },
   {
    "duration": 3,
    "start_time": "2022-11-05T13:41:28.248Z"
   },
   {
    "duration": 23,
    "start_time": "2022-11-05T13:41:28.252Z"
   },
   {
    "duration": 2546,
    "start_time": "2022-11-05T13:41:28.277Z"
   },
   {
    "duration": 2548,
    "start_time": "2022-11-05T13:41:30.826Z"
   },
   {
    "duration": 6,
    "start_time": "2022-11-05T13:41:33.376Z"
   },
   {
    "duration": 2437,
    "start_time": "2022-11-05T13:41:33.385Z"
   },
   {
    "duration": 3,
    "start_time": "2022-11-05T13:41:35.824Z"
   },
   {
    "duration": 978,
    "start_time": "2022-11-05T13:41:35.828Z"
   },
   {
    "duration": 19,
    "start_time": "2022-11-05T13:41:36.808Z"
   },
   {
    "duration": 614,
    "start_time": "2022-11-05T13:41:36.829Z"
   },
   {
    "duration": 162,
    "start_time": "2022-11-05T13:41:37.446Z"
   },
   {
    "duration": 3,
    "start_time": "2022-11-05T13:41:41.112Z"
   },
   {
    "duration": 3,
    "start_time": "2022-11-05T13:41:41.575Z"
   },
   {
    "duration": 7,
    "start_time": "2022-11-05T13:42:55.725Z"
   },
   {
    "duration": 6,
    "start_time": "2022-11-05T13:43:32.663Z"
   },
   {
    "duration": 100586,
    "start_time": "2022-11-05T13:43:42.339Z"
   },
   {
    "duration": 5408107,
    "start_time": "2022-11-05T13:45:22.927Z"
   },
   {
    "duration": 6429688,
    "start_time": "2022-11-05T15:15:31.036Z"
   },
   {
    "duration": 373789,
    "start_time": "2022-11-05T17:02:40.728Z"
   },
   {
    "duration": 1334,
    "start_time": "2022-11-06T09:17:17.557Z"
   },
   {
    "duration": 1114,
    "start_time": "2022-11-06T09:17:18.894Z"
   },
   {
    "duration": 126,
    "start_time": "2022-11-06T09:17:20.010Z"
   },
   {
    "duration": 4,
    "start_time": "2022-11-06T09:17:20.138Z"
   },
   {
    "duration": 32,
    "start_time": "2022-11-06T09:17:20.145Z"
   },
   {
    "duration": 124,
    "start_time": "2022-11-06T09:17:20.178Z"
   },
   {
    "duration": 0,
    "start_time": "2022-11-06T09:17:20.304Z"
   },
   {
    "duration": 0,
    "start_time": "2022-11-06T09:17:20.306Z"
   },
   {
    "duration": 0,
    "start_time": "2022-11-06T09:17:20.307Z"
   },
   {
    "duration": 0,
    "start_time": "2022-11-06T09:17:20.308Z"
   },
   {
    "duration": 0,
    "start_time": "2022-11-06T09:17:20.309Z"
   },
   {
    "duration": 0,
    "start_time": "2022-11-06T09:17:20.310Z"
   },
   {
    "duration": 0,
    "start_time": "2022-11-06T09:17:20.311Z"
   },
   {
    "duration": 0,
    "start_time": "2022-11-06T09:17:20.322Z"
   },
   {
    "duration": 0,
    "start_time": "2022-11-06T09:17:20.323Z"
   },
   {
    "duration": 0,
    "start_time": "2022-11-06T09:17:20.324Z"
   },
   {
    "duration": 0,
    "start_time": "2022-11-06T09:17:20.325Z"
   },
   {
    "duration": 0,
    "start_time": "2022-11-06T09:17:20.326Z"
   },
   {
    "duration": 0,
    "start_time": "2022-11-06T09:17:20.327Z"
   },
   {
    "duration": 0,
    "start_time": "2022-11-06T09:17:20.328Z"
   },
   {
    "duration": 0,
    "start_time": "2022-11-06T09:17:20.329Z"
   },
   {
    "duration": 0,
    "start_time": "2022-11-06T09:17:20.331Z"
   },
   {
    "duration": 0,
    "start_time": "2022-11-06T09:17:20.331Z"
   },
   {
    "duration": 0,
    "start_time": "2022-11-06T09:17:20.332Z"
   },
   {
    "duration": 0,
    "start_time": "2022-11-06T09:17:20.333Z"
   },
   {
    "duration": 0,
    "start_time": "2022-11-06T09:17:20.334Z"
   },
   {
    "duration": 0,
    "start_time": "2022-11-06T09:17:20.335Z"
   },
   {
    "duration": 0,
    "start_time": "2022-11-06T09:17:20.336Z"
   },
   {
    "duration": 0,
    "start_time": "2022-11-06T09:17:20.338Z"
   },
   {
    "duration": 0,
    "start_time": "2022-11-06T09:17:20.339Z"
   },
   {
    "duration": 0,
    "start_time": "2022-11-06T09:17:20.340Z"
   },
   {
    "duration": 0,
    "start_time": "2022-11-06T09:17:20.341Z"
   },
   {
    "duration": 0,
    "start_time": "2022-11-06T09:17:20.342Z"
   },
   {
    "duration": 0,
    "start_time": "2022-11-06T09:17:20.343Z"
   },
   {
    "duration": 0,
    "start_time": "2022-11-06T09:17:20.344Z"
   },
   {
    "duration": 0,
    "start_time": "2022-11-06T09:17:20.345Z"
   },
   {
    "duration": 0,
    "start_time": "2022-11-06T09:17:20.346Z"
   },
   {
    "duration": 0,
    "start_time": "2022-11-06T09:17:20.347Z"
   },
   {
    "duration": 0,
    "start_time": "2022-11-06T09:17:20.347Z"
   },
   {
    "duration": 0,
    "start_time": "2022-11-06T09:17:20.348Z"
   },
   {
    "duration": 0,
    "start_time": "2022-11-06T09:17:20.349Z"
   },
   {
    "duration": 0,
    "start_time": "2022-11-06T09:17:20.351Z"
   },
   {
    "duration": 0,
    "start_time": "2022-11-06T09:17:20.351Z"
   },
   {
    "duration": 3811,
    "start_time": "2022-11-06T09:18:04.433Z"
   },
   {
    "duration": 19563,
    "start_time": "2022-11-06T09:18:08.249Z"
   },
   {
    "duration": 237,
    "start_time": "2022-11-06T09:18:42.448Z"
   },
   {
    "duration": 163,
    "start_time": "2022-11-06T09:18:43.202Z"
   },
   {
    "duration": 236,
    "start_time": "2022-11-06T09:18:43.368Z"
   },
   {
    "duration": 15,
    "start_time": "2022-11-06T09:18:43.677Z"
   },
   {
    "duration": 8,
    "start_time": "2022-11-06T09:18:44.227Z"
   },
   {
    "duration": 9,
    "start_time": "2022-11-06T09:18:44.395Z"
   },
   {
    "duration": 38,
    "start_time": "2022-11-06T09:18:44.625Z"
   },
   {
    "duration": 17,
    "start_time": "2022-11-06T09:18:44.824Z"
   },
   {
    "duration": 1628,
    "start_time": "2022-11-06T09:18:45.047Z"
   },
   {
    "duration": 61,
    "start_time": "2022-11-06T09:18:46.677Z"
   },
   {
    "duration": 768,
    "start_time": "2022-11-06T09:18:47.024Z"
   },
   {
    "duration": 15,
    "start_time": "2022-11-06T09:18:47.793Z"
   },
   {
    "duration": 12,
    "start_time": "2022-11-06T09:18:47.822Z"
   },
   {
    "duration": 198,
    "start_time": "2022-11-06T09:18:47.836Z"
   },
   {
    "duration": 736,
    "start_time": "2022-11-06T09:18:48.036Z"
   },
   {
    "duration": 14,
    "start_time": "2022-11-06T09:18:48.774Z"
   },
   {
    "duration": 11,
    "start_time": "2022-11-06T09:18:48.790Z"
   },
   {
    "duration": 119,
    "start_time": "2022-11-06T09:18:48.803Z"
   },
   {
    "duration": 829,
    "start_time": "2022-11-06T09:18:48.924Z"
   },
   {
    "duration": 2316,
    "start_time": "2022-11-06T09:18:49.755Z"
   },
   {
    "duration": 3,
    "start_time": "2022-11-06T09:18:52.073Z"
   },
   {
    "duration": 9,
    "start_time": "2022-11-06T09:18:52.078Z"
   },
   {
    "duration": 2267,
    "start_time": "2022-11-06T09:18:52.089Z"
   },
   {
    "duration": 2201,
    "start_time": "2022-11-06T09:18:54.357Z"
   },
   {
    "duration": 6,
    "start_time": "2022-11-06T09:18:56.560Z"
   },
   {
    "duration": 2197,
    "start_time": "2022-11-06T09:18:56.568Z"
   },
   {
    "duration": 2,
    "start_time": "2022-11-06T09:18:58.767Z"
   },
   {
    "duration": 791,
    "start_time": "2022-11-06T09:18:58.772Z"
   },
   {
    "duration": 16,
    "start_time": "2022-11-06T09:18:59.565Z"
   },
   {
    "duration": 547,
    "start_time": "2022-11-06T09:18:59.582Z"
   },
   {
    "duration": 295,
    "start_time": "2022-11-06T09:19:00.131Z"
   },
   {
    "duration": 3,
    "start_time": "2022-11-06T09:19:00.427Z"
   },
   {
    "duration": 27,
    "start_time": "2022-11-06T09:19:00.431Z"
   },
   {
    "duration": 15,
    "start_time": "2022-11-06T09:19:00.460Z"
   },
   {
    "duration": 97253,
    "start_time": "2022-11-06T09:19:00.477Z"
   },
   {
    "duration": 1384,
    "start_time": "2022-11-06T14:48:27.516Z"
   },
   {
    "duration": 2844,
    "start_time": "2022-11-06T14:48:28.902Z"
   },
   {
    "duration": 111,
    "start_time": "2022-11-06T14:48:31.748Z"
   },
   {
    "duration": 3,
    "start_time": "2022-11-06T14:48:31.861Z"
   },
   {
    "duration": 34,
    "start_time": "2022-11-06T14:48:31.866Z"
   },
   {
    "duration": 3861,
    "start_time": "2022-11-06T14:48:31.902Z"
   },
   {
    "duration": 19660,
    "start_time": "2022-11-06T14:48:35.765Z"
   },
   {
    "duration": 199,
    "start_time": "2022-11-06T14:48:55.427Z"
   },
   {
    "duration": 152,
    "start_time": "2022-11-06T14:48:55.627Z"
   },
   {
    "duration": 194,
    "start_time": "2022-11-06T14:48:55.782Z"
   },
   {
    "duration": 24,
    "start_time": "2022-11-06T14:48:55.978Z"
   },
   {
    "duration": 8,
    "start_time": "2022-11-06T14:48:56.004Z"
   },
   {
    "duration": 8,
    "start_time": "2022-11-06T14:48:56.014Z"
   },
   {
    "duration": 38,
    "start_time": "2022-11-06T14:48:56.024Z"
   },
   {
    "duration": 40,
    "start_time": "2022-11-06T14:48:56.064Z"
   },
   {
    "duration": 1657,
    "start_time": "2022-11-06T14:48:56.106Z"
   },
   {
    "duration": 67,
    "start_time": "2022-11-06T14:48:57.765Z"
   },
   {
    "duration": 816,
    "start_time": "2022-11-06T14:48:57.834Z"
   },
   {
    "duration": 16,
    "start_time": "2022-11-06T14:48:58.651Z"
   },
   {
    "duration": 24,
    "start_time": "2022-11-06T14:48:58.669Z"
   },
   {
    "duration": 204,
    "start_time": "2022-11-06T14:48:58.694Z"
   },
   {
    "duration": 785,
    "start_time": "2022-11-06T14:48:58.900Z"
   },
   {
    "duration": 17,
    "start_time": "2022-11-06T14:48:59.691Z"
   },
   {
    "duration": 13,
    "start_time": "2022-11-06T14:48:59.711Z"
   },
   {
    "duration": 151,
    "start_time": "2022-11-06T14:48:59.726Z"
   },
   {
    "duration": 813,
    "start_time": "2022-11-06T14:48:59.879Z"
   },
   {
    "duration": 2261,
    "start_time": "2022-11-06T14:49:00.694Z"
   },
   {
    "duration": 3,
    "start_time": "2022-11-06T14:49:02.958Z"
   },
   {
    "duration": 10,
    "start_time": "2022-11-06T14:49:02.962Z"
   },
   {
    "duration": 2208,
    "start_time": "2022-11-06T14:49:02.973Z"
   },
   {
    "duration": 2234,
    "start_time": "2022-11-06T14:49:05.183Z"
   },
   {
    "duration": 6,
    "start_time": "2022-11-06T14:49:07.419Z"
   },
   {
    "duration": 2236,
    "start_time": "2022-11-06T14:49:07.426Z"
   },
   {
    "duration": 2,
    "start_time": "2022-11-06T14:49:09.664Z"
   },
   {
    "duration": 894,
    "start_time": "2022-11-06T14:49:09.668Z"
   },
   {
    "duration": 14,
    "start_time": "2022-11-06T14:49:10.564Z"
   },
   {
    "duration": 553,
    "start_time": "2022-11-06T14:49:10.579Z"
   },
   {
    "duration": 379,
    "start_time": "2022-11-06T14:49:11.133Z"
   },
   {
    "duration": 2,
    "start_time": "2022-11-06T14:49:11.514Z"
   },
   {
    "duration": 16,
    "start_time": "2022-11-06T14:49:11.518Z"
   },
   {
    "duration": 16,
    "start_time": "2022-11-06T14:49:11.536Z"
   },
   {
    "duration": 127746,
    "start_time": "2022-11-06T14:49:11.554Z"
   },
   {
    "duration": 4407891,
    "start_time": "2022-11-06T14:51:19.301Z"
   },
   {
    "duration": 361593,
    "start_time": "2022-11-06T16:04:47.194Z"
   },
   {
    "duration": 55,
    "start_time": "2022-11-07T09:24:08.881Z"
   },
   {
    "duration": 1481,
    "start_time": "2022-11-07T09:32:50.615Z"
   },
   {
    "duration": 1054,
    "start_time": "2022-11-07T09:32:53.001Z"
   },
   {
    "duration": 145,
    "start_time": "2022-11-07T09:32:57.417Z"
   },
   {
    "duration": 5,
    "start_time": "2022-11-07T09:32:58.245Z"
   },
   {
    "duration": 22,
    "start_time": "2022-11-07T09:32:58.911Z"
   },
   {
    "duration": 278,
    "start_time": "2022-11-07T09:33:05.121Z"
   },
   {
    "duration": 194,
    "start_time": "2022-11-07T09:33:07.025Z"
   },
   {
    "duration": 282,
    "start_time": "2022-11-07T09:33:07.506Z"
   },
   {
    "duration": 15,
    "start_time": "2022-11-07T09:33:10.872Z"
   },
   {
    "duration": 9,
    "start_time": "2022-11-07T09:33:11.953Z"
   },
   {
    "duration": 9,
    "start_time": "2022-11-07T09:33:12.600Z"
   },
   {
    "duration": 47,
    "start_time": "2022-11-07T09:33:13.317Z"
   },
   {
    "duration": 15,
    "start_time": "2022-11-07T09:33:13.638Z"
   },
   {
    "duration": 1413,
    "start_time": "2022-11-07T09:33:14.109Z"
   },
   {
    "duration": 66,
    "start_time": "2022-11-07T09:33:19.318Z"
   },
   {
    "duration": 590,
    "start_time": "2022-11-07T09:33:22.361Z"
   },
   {
    "duration": 16,
    "start_time": "2022-11-07T09:33:22.952Z"
   },
   {
    "duration": 16,
    "start_time": "2022-11-07T09:33:23.609Z"
   },
   {
    "duration": 197,
    "start_time": "2022-11-07T09:33:24.253Z"
   },
   {
    "duration": 570,
    "start_time": "2022-11-07T09:33:25.041Z"
   },
   {
    "duration": 15,
    "start_time": "2022-11-07T09:33:25.899Z"
   },
   {
    "duration": 13,
    "start_time": "2022-11-07T09:33:26.733Z"
   },
   {
    "duration": 106,
    "start_time": "2022-11-07T09:33:27.602Z"
   },
   {
    "duration": 580,
    "start_time": "2022-11-07T09:33:30.094Z"
   },
   {
    "duration": 2303,
    "start_time": "2022-11-07T09:33:30.675Z"
   },
   {
    "duration": 2,
    "start_time": "2022-11-07T09:33:32.980Z"
   },
   {
    "duration": 32,
    "start_time": "2022-11-07T09:33:32.984Z"
   },
   {
    "duration": 2174,
    "start_time": "2022-11-07T09:33:33.017Z"
   },
   {
    "duration": 2228,
    "start_time": "2022-11-07T09:33:35.194Z"
   },
   {
    "duration": 6,
    "start_time": "2022-11-07T09:33:37.424Z"
   },
   {
    "duration": 2282,
    "start_time": "2022-11-07T09:33:37.432Z"
   },
   {
    "duration": 2,
    "start_time": "2022-11-07T09:33:39.721Z"
   },
   {
    "duration": 726,
    "start_time": "2022-11-07T09:33:39.725Z"
   },
   {
    "duration": 15,
    "start_time": "2022-11-07T09:33:40.453Z"
   },
   {
    "duration": 542,
    "start_time": "2022-11-07T09:33:43.503Z"
   },
   {
    "duration": 143,
    "start_time": "2022-11-07T09:33:53.622Z"
   },
   {
    "duration": 3,
    "start_time": "2022-11-07T09:33:56.307Z"
   },
   {
    "duration": 3,
    "start_time": "2022-11-07T09:34:01.549Z"
   },
   {
    "duration": 4,
    "start_time": "2022-11-07T09:34:08.954Z"
   },
   {
    "duration": 108,
    "start_time": "2022-11-07T09:59:25.518Z"
   },
   {
    "duration": 15,
    "start_time": "2022-11-07T09:59:43.559Z"
   },
   {
    "duration": 7,
    "start_time": "2022-11-07T09:59:53.598Z"
   },
   {
    "duration": 68380,
    "start_time": "2022-11-07T09:59:56.849Z"
   },
   {
    "duration": 2367295,
    "start_time": "2022-11-07T10:01:05.231Z"
   },
   {
    "duration": 291511,
    "start_time": "2022-11-07T10:40:32.528Z"
   },
   {
    "duration": 1386982,
    "start_time": "2022-11-07T10:45:24.042Z"
   },
   {
    "duration": 1593,
    "start_time": "2022-11-08T10:28:11.547Z"
   },
   {
    "duration": 2806,
    "start_time": "2022-11-08T10:28:13.142Z"
   },
   {
    "duration": 115,
    "start_time": "2022-11-08T10:38:30.420Z"
   },
   {
    "duration": 4,
    "start_time": "2022-11-08T10:38:30.749Z"
   },
   {
    "duration": 22,
    "start_time": "2022-11-08T10:38:32.879Z"
   },
   {
    "duration": 208,
    "start_time": "2022-11-08T10:38:35.279Z"
   },
   {
    "duration": 159,
    "start_time": "2022-11-08T10:38:36.662Z"
   },
   {
    "duration": 216,
    "start_time": "2022-11-08T10:38:37.375Z"
   },
   {
    "duration": 18,
    "start_time": "2022-11-08T10:38:37.852Z"
   },
   {
    "duration": 11,
    "start_time": "2022-11-08T10:38:38.260Z"
   },
   {
    "duration": 11,
    "start_time": "2022-11-08T10:38:38.475Z"
   },
   {
    "duration": 47,
    "start_time": "2022-11-08T10:38:38.711Z"
   },
   {
    "duration": 19,
    "start_time": "2022-11-08T10:38:38.969Z"
   },
   {
    "duration": 1560,
    "start_time": "2022-11-08T10:38:39.264Z"
   },
   {
    "duration": 66,
    "start_time": "2022-11-08T10:38:40.895Z"
   },
   {
    "duration": 637,
    "start_time": "2022-11-08T10:38:41.867Z"
   },
   {
    "duration": 19,
    "start_time": "2022-11-08T10:38:42.506Z"
   },
   {
    "duration": 15,
    "start_time": "2022-11-08T10:38:42.668Z"
   },
   {
    "duration": 193,
    "start_time": "2022-11-08T10:38:43.136Z"
   },
   {
    "duration": 622,
    "start_time": "2022-11-08T10:38:43.627Z"
   },
   {
    "duration": 17,
    "start_time": "2022-11-08T10:38:44.251Z"
   },
   {
    "duration": 16,
    "start_time": "2022-11-08T10:38:44.421Z"
   },
   {
    "duration": 117,
    "start_time": "2022-11-08T10:38:44.734Z"
   },
   {
    "duration": 650,
    "start_time": "2022-11-08T10:38:45.062Z"
   },
   {
    "duration": 2561,
    "start_time": "2022-11-08T10:38:45.714Z"
   },
   {
    "duration": 3,
    "start_time": "2022-11-08T10:38:48.277Z"
   },
   {
    "duration": 36,
    "start_time": "2022-11-08T10:38:48.282Z"
   },
   {
    "duration": 2457,
    "start_time": "2022-11-08T10:38:48.320Z"
   },
   {
    "duration": 2547,
    "start_time": "2022-11-08T10:38:50.779Z"
   },
   {
    "duration": 7,
    "start_time": "2022-11-08T10:38:53.328Z"
   },
   {
    "duration": 2465,
    "start_time": "2022-11-08T10:38:53.337Z"
   },
   {
    "duration": 3,
    "start_time": "2022-11-08T10:38:55.805Z"
   },
   {
    "duration": 960,
    "start_time": "2022-11-08T10:38:55.820Z"
   },
   {
    "duration": 19,
    "start_time": "2022-11-08T10:38:56.782Z"
   },
   {
    "duration": 584,
    "start_time": "2022-11-08T10:38:56.803Z"
   },
   {
    "duration": 165,
    "start_time": "2022-11-08T10:38:57.388Z"
   },
   {
    "duration": 3,
    "start_time": "2022-11-08T10:38:57.554Z"
   },
   {
    "duration": 10,
    "start_time": "2022-11-08T10:38:57.559Z"
   },
   {
    "duration": 8,
    "start_time": "2022-11-08T10:38:57.794Z"
   },
   {
    "duration": 12829,
    "start_time": "2022-11-08T10:43:02.795Z"
   },
   {
    "duration": 151,
    "start_time": "2022-11-08T10:43:15.627Z"
   },
   {
    "duration": 927,
    "start_time": "2022-11-08T10:44:44.909Z"
   },
   {
    "duration": 261047,
    "start_time": "2022-11-08T10:45:04.702Z"
   },
   {
    "duration": 1486,
    "start_time": "2022-11-08T10:49:25.753Z"
   },
   {
    "duration": 1529,
    "start_time": "2022-11-08T10:49:53.620Z"
   },
   {
    "duration": 910,
    "start_time": "2022-11-08T10:49:56.932Z"
   },
   {
    "duration": 1427,
    "start_time": "2022-11-08T10:50:08.198Z"
   },
   {
    "duration": 158475,
    "start_time": "2022-11-08T10:50:54.646Z"
   },
   {
    "duration": 500,
    "start_time": "2022-11-08T10:53:33.124Z"
   },
   {
    "duration": 0,
    "start_time": "2022-11-08T10:53:33.626Z"
   },
   {
    "duration": 0,
    "start_time": "2022-11-08T10:53:33.629Z"
   },
   {
    "duration": 0,
    "start_time": "2022-11-08T10:53:33.721Z"
   },
   {
    "duration": 0,
    "start_time": "2022-11-08T10:53:33.723Z"
   },
   {
    "duration": 337,
    "start_time": "2022-11-08T10:54:14.983Z"
   },
   {
    "duration": 1411,
    "start_time": "2022-11-08T11:26:53.545Z"
   },
   {
    "duration": 1586,
    "start_time": "2022-11-08T11:26:54.958Z"
   },
   {
    "duration": 144,
    "start_time": "2022-11-08T11:26:56.546Z"
   },
   {
    "duration": 4,
    "start_time": "2022-11-08T11:26:56.693Z"
   },
   {
    "duration": 26,
    "start_time": "2022-11-08T11:26:56.718Z"
   },
   {
    "duration": 4273,
    "start_time": "2022-11-08T11:26:56.746Z"
   },
   {
    "duration": 22485,
    "start_time": "2022-11-08T11:27:01.021Z"
   },
   {
    "duration": 270,
    "start_time": "2022-11-08T11:27:23.509Z"
   },
   {
    "duration": 206,
    "start_time": "2022-11-08T11:27:23.781Z"
   },
   {
    "duration": 273,
    "start_time": "2022-11-08T11:27:23.990Z"
   },
   {
    "duration": 22,
    "start_time": "2022-11-08T11:27:24.266Z"
   },
   {
    "duration": 29,
    "start_time": "2022-11-08T11:27:24.290Z"
   },
   {
    "duration": 13,
    "start_time": "2022-11-08T11:27:24.323Z"
   },
   {
    "duration": 58,
    "start_time": "2022-11-08T11:27:24.342Z"
   },
   {
    "duration": 30,
    "start_time": "2022-11-08T11:27:24.402Z"
   },
   {
    "duration": 2077,
    "start_time": "2022-11-08T11:27:24.435Z"
   },
   {
    "duration": 81,
    "start_time": "2022-11-08T11:27:26.514Z"
   },
   {
    "duration": 1061,
    "start_time": "2022-11-08T11:27:26.618Z"
   },
   {
    "duration": 18,
    "start_time": "2022-11-08T11:27:27.682Z"
   },
   {
    "duration": 32,
    "start_time": "2022-11-08T11:27:27.702Z"
   },
   {
    "duration": 286,
    "start_time": "2022-11-08T11:27:27.737Z"
   },
   {
    "duration": 960,
    "start_time": "2022-11-08T11:27:28.025Z"
   },
   {
    "duration": 18,
    "start_time": "2022-11-08T11:27:28.988Z"
   },
   {
    "duration": 18,
    "start_time": "2022-11-08T11:27:29.027Z"
   },
   {
    "duration": 208,
    "start_time": "2022-11-08T11:27:29.047Z"
   },
   {
    "duration": 977,
    "start_time": "2022-11-08T11:27:29.258Z"
   },
   {
    "duration": 2613,
    "start_time": "2022-11-08T11:27:30.238Z"
   },
   {
    "duration": 2,
    "start_time": "2022-11-08T11:27:32.853Z"
   },
   {
    "duration": 23,
    "start_time": "2022-11-08T11:27:32.857Z"
   },
   {
    "duration": 2550,
    "start_time": "2022-11-08T11:27:32.883Z"
   },
   {
    "duration": 2609,
    "start_time": "2022-11-08T11:27:35.435Z"
   },
   {
    "duration": 6,
    "start_time": "2022-11-08T11:27:38.046Z"
   },
   {
    "duration": 2550,
    "start_time": "2022-11-08T11:27:38.054Z"
   },
   {
    "duration": 3,
    "start_time": "2022-11-08T11:27:40.606Z"
   },
   {
    "duration": 929,
    "start_time": "2022-11-08T11:27:40.620Z"
   },
   {
    "duration": 18,
    "start_time": "2022-11-08T11:27:41.551Z"
   },
   {
    "duration": 628,
    "start_time": "2022-11-08T11:27:41.570Z"
   },
   {
    "duration": 384,
    "start_time": "2022-11-08T11:27:42.200Z"
   },
   {
    "duration": 3,
    "start_time": "2022-11-08T11:27:42.586Z"
   },
   {
    "duration": 8,
    "start_time": "2022-11-08T11:27:42.590Z"
   },
   {
    "duration": 13,
    "start_time": "2022-11-08T11:27:42.602Z"
   },
   {
    "duration": 86622,
    "start_time": "2022-11-08T11:27:42.617Z"
   },
   {
    "duration": 1338,
    "start_time": "2022-11-08T11:45:18.081Z"
   },
   {
    "duration": 795,
    "start_time": "2022-11-08T11:45:20.865Z"
   },
   {
    "duration": 114,
    "start_time": "2022-11-08T11:45:22.329Z"
   },
   {
    "duration": 4,
    "start_time": "2022-11-08T11:45:23.256Z"
   },
   {
    "duration": 22,
    "start_time": "2022-11-08T11:45:23.937Z"
   },
   {
    "duration": 223,
    "start_time": "2022-11-08T11:45:27.783Z"
   },
   {
    "duration": 155,
    "start_time": "2022-11-08T11:45:29.561Z"
   },
   {
    "duration": 202,
    "start_time": "2022-11-08T11:45:30.951Z"
   },
   {
    "duration": 20,
    "start_time": "2022-11-08T11:45:33.789Z"
   },
   {
    "duration": 11,
    "start_time": "2022-11-08T11:45:35.785Z"
   },
   {
    "duration": 10,
    "start_time": "2022-11-08T11:45:36.828Z"
   },
   {
    "duration": 44,
    "start_time": "2022-11-08T11:45:37.577Z"
   },
   {
    "duration": 17,
    "start_time": "2022-11-08T11:45:38.454Z"
   },
   {
    "duration": 1452,
    "start_time": "2022-11-08T11:45:39.246Z"
   },
   {
    "duration": 66,
    "start_time": "2022-11-08T11:45:44.289Z"
   },
   {
    "duration": 687,
    "start_time": "2022-11-08T11:45:47.340Z"
   },
   {
    "duration": 22,
    "start_time": "2022-11-08T11:45:49.030Z"
   },
   {
    "duration": 18,
    "start_time": "2022-11-08T11:45:49.936Z"
   },
   {
    "duration": 263,
    "start_time": "2022-11-08T11:45:51.021Z"
   },
   {
    "duration": 632,
    "start_time": "2022-11-08T11:45:54.177Z"
   },
   {
    "duration": 18,
    "start_time": "2022-11-08T11:45:55.876Z"
   },
   {
    "duration": 14,
    "start_time": "2022-11-08T11:45:57.028Z"
   },
   {
    "duration": 112,
    "start_time": "2022-11-08T11:45:58.038Z"
   },
   {
    "duration": 589,
    "start_time": "2022-11-08T11:45:59.069Z"
   },
   {
    "duration": 2448,
    "start_time": "2022-11-08T11:45:59.717Z"
   },
   {
    "duration": 3,
    "start_time": "2022-11-08T11:46:02.493Z"
   },
   {
    "duration": 8,
    "start_time": "2022-11-08T11:46:03.695Z"
   },
   {
    "duration": 2445,
    "start_time": "2022-11-08T11:46:04.187Z"
   },
   {
    "duration": 2490,
    "start_time": "2022-11-08T11:46:06.634Z"
   },
   {
    "duration": 6,
    "start_time": "2022-11-08T11:46:09.126Z"
   },
   {
    "duration": 2405,
    "start_time": "2022-11-08T11:46:11.466Z"
   },
   {
    "duration": 3,
    "start_time": "2022-11-08T11:46:14.676Z"
   },
   {
    "duration": 890,
    "start_time": "2022-11-08T11:46:15.505Z"
   },
   {
    "duration": 19,
    "start_time": "2022-11-08T11:46:17.151Z"
   },
   {
    "duration": 580,
    "start_time": "2022-11-08T11:46:17.948Z"
   },
   {
    "duration": 138,
    "start_time": "2022-11-08T11:46:19.232Z"
   },
   {
    "duration": 3,
    "start_time": "2022-11-08T11:46:21.957Z"
   },
   {
    "duration": 3,
    "start_time": "2022-11-08T11:46:22.911Z"
   },
   {
    "duration": 7,
    "start_time": "2022-11-08T11:46:23.823Z"
   },
   {
    "duration": 6798,
    "start_time": "2022-11-08T11:46:32.129Z"
   },
   {
    "duration": 956,
    "start_time": "2022-11-08T11:46:41.063Z"
   },
   {
    "duration": 264756,
    "start_time": "2022-11-08T11:46:42.831Z"
   },
   {
    "duration": 1459,
    "start_time": "2022-11-08T11:52:43.878Z"
   },
   {
    "duration": 151987,
    "start_time": "2022-11-08T11:52:47.340Z"
   },
   {
    "duration": 590,
    "start_time": "2022-11-08T11:55:19.329Z"
   },
   {
    "duration": 1481,
    "start_time": "2022-11-08T13:02:01.745Z"
   },
   {
    "duration": 931,
    "start_time": "2022-11-08T13:02:03.228Z"
   },
   {
    "duration": 127,
    "start_time": "2022-11-08T13:02:04.160Z"
   },
   {
    "duration": 15,
    "start_time": "2022-11-08T13:02:04.289Z"
   },
   {
    "duration": 36,
    "start_time": "2022-11-08T13:02:04.306Z"
   },
   {
    "duration": 2347,
    "start_time": "2022-11-08T13:02:06.235Z"
   },
   {
    "duration": 21938,
    "start_time": "2022-11-08T13:02:08.584Z"
   },
   {
    "duration": 263,
    "start_time": "2022-11-08T13:02:30.524Z"
   },
   {
    "duration": 176,
    "start_time": "2022-11-08T13:02:30.789Z"
   },
   {
    "duration": 251,
    "start_time": "2022-11-08T13:02:30.968Z"
   },
   {
    "duration": 18,
    "start_time": "2022-11-08T13:02:31.221Z"
   },
   {
    "duration": 10,
    "start_time": "2022-11-08T13:02:31.242Z"
   },
   {
    "duration": 23,
    "start_time": "2022-11-08T13:02:31.254Z"
   },
   {
    "duration": 68,
    "start_time": "2022-11-08T13:02:31.279Z"
   },
   {
    "duration": 20,
    "start_time": "2022-11-08T13:02:31.349Z"
   },
   {
    "duration": 1836,
    "start_time": "2022-11-08T13:02:31.373Z"
   },
   {
    "duration": 70,
    "start_time": "2022-11-08T13:02:33.211Z"
   },
   {
    "duration": 912,
    "start_time": "2022-11-08T13:02:33.283Z"
   },
   {
    "duration": 29,
    "start_time": "2022-11-08T13:02:34.197Z"
   },
   {
    "duration": 15,
    "start_time": "2022-11-08T13:02:34.228Z"
   },
   {
    "duration": 241,
    "start_time": "2022-11-08T13:02:34.245Z"
   },
   {
    "duration": 860,
    "start_time": "2022-11-08T13:02:34.488Z"
   },
   {
    "duration": 20,
    "start_time": "2022-11-08T13:02:35.350Z"
   },
   {
    "duration": 17,
    "start_time": "2022-11-08T13:02:35.373Z"
   },
   {
    "duration": 135,
    "start_time": "2022-11-08T13:02:35.392Z"
   },
   {
    "duration": 887,
    "start_time": "2022-11-08T13:02:35.528Z"
   },
   {
    "duration": 2476,
    "start_time": "2022-11-08T13:02:36.418Z"
   },
   {
    "duration": 3,
    "start_time": "2022-11-08T13:02:38.896Z"
   },
   {
    "duration": 22,
    "start_time": "2022-11-08T13:02:38.901Z"
   },
   {
    "duration": 2438,
    "start_time": "2022-11-08T13:02:38.925Z"
   },
   {
    "duration": 2570,
    "start_time": "2022-11-08T13:02:41.365Z"
   },
   {
    "duration": 6,
    "start_time": "2022-11-08T13:02:43.937Z"
   },
   {
    "duration": 2483,
    "start_time": "2022-11-08T13:02:43.945Z"
   },
   {
    "duration": 3,
    "start_time": "2022-11-08T13:02:46.433Z"
   },
   {
    "duration": 1020,
    "start_time": "2022-11-08T13:02:46.438Z"
   },
   {
    "duration": 19,
    "start_time": "2022-11-08T13:02:47.460Z"
   },
   {
    "duration": 620,
    "start_time": "2022-11-08T13:02:47.480Z"
   },
   {
    "duration": 321,
    "start_time": "2022-11-08T13:02:48.103Z"
   },
   {
    "duration": 2,
    "start_time": "2022-11-08T13:02:48.426Z"
   },
   {
    "duration": 6,
    "start_time": "2022-11-08T13:02:48.430Z"
   },
   {
    "duration": 15,
    "start_time": "2022-11-08T13:02:48.438Z"
   },
   {
    "duration": 1514,
    "start_time": "2022-11-14T07:50:58.264Z"
   },
   {
    "duration": 1067,
    "start_time": "2022-11-14T07:51:00.978Z"
   },
   {
    "duration": 142,
    "start_time": "2022-11-14T07:51:03.832Z"
   },
   {
    "duration": 4,
    "start_time": "2022-11-14T07:51:04.910Z"
   },
   {
    "duration": 25,
    "start_time": "2022-11-14T07:51:05.491Z"
   },
   {
    "duration": 240,
    "start_time": "2022-11-14T07:51:10.822Z"
   },
   {
    "duration": 170,
    "start_time": "2022-11-14T07:51:12.876Z"
   },
   {
    "duration": 244,
    "start_time": "2022-11-14T07:51:13.332Z"
   },
   {
    "duration": 19,
    "start_time": "2022-11-14T07:51:15.504Z"
   },
   {
    "duration": 9,
    "start_time": "2022-11-14T07:51:16.666Z"
   },
   {
    "duration": 9,
    "start_time": "2022-11-14T07:51:16.979Z"
   },
   {
    "duration": 49,
    "start_time": "2022-11-14T07:51:17.214Z"
   },
   {
    "duration": 19,
    "start_time": "2022-11-14T07:51:17.447Z"
   },
   {
    "duration": 1560,
    "start_time": "2022-11-14T07:51:19.065Z"
   },
   {
    "duration": 61,
    "start_time": "2022-11-14T07:51:23.196Z"
   },
   {
    "duration": 669,
    "start_time": "2022-11-14T07:51:27.914Z"
   },
   {
    "duration": 17,
    "start_time": "2022-11-14T07:51:29.380Z"
   },
   {
    "duration": 14,
    "start_time": "2022-11-14T07:51:29.679Z"
   },
   {
    "duration": 215,
    "start_time": "2022-11-14T07:51:30.000Z"
   },
   {
    "duration": 614,
    "start_time": "2022-11-14T07:51:30.279Z"
   },
   {
    "duration": 18,
    "start_time": "2022-11-14T07:51:34.010Z"
   },
   {
    "duration": 14,
    "start_time": "2022-11-14T07:51:34.326Z"
   },
   {
    "duration": 115,
    "start_time": "2022-11-14T07:51:40.754Z"
   },
   {
    "duration": 595,
    "start_time": "2022-11-14T07:51:41.135Z"
   },
   {
    "duration": 2491,
    "start_time": "2022-11-14T07:51:41.732Z"
   },
   {
    "duration": 3,
    "start_time": "2022-11-14T07:51:44.659Z"
   },
   {
    "duration": 7,
    "start_time": "2022-11-14T07:51:44.873Z"
   },
   {
    "duration": 2349,
    "start_time": "2022-11-14T07:51:47.010Z"
   },
   {
    "duration": 2392,
    "start_time": "2022-11-14T07:51:49.361Z"
   },
   {
    "duration": 5,
    "start_time": "2022-11-14T07:51:51.755Z"
   },
   {
    "duration": 2259,
    "start_time": "2022-11-14T07:51:54.798Z"
   },
   {
    "duration": 3,
    "start_time": "2022-11-14T07:51:57.059Z"
   },
   {
    "duration": 903,
    "start_time": "2022-11-14T07:51:57.063Z"
   },
   {
    "duration": 17,
    "start_time": "2022-11-14T07:51:57.968Z"
   },
   {
    "duration": 567,
    "start_time": "2022-11-14T07:52:00.046Z"
   },
   {
    "duration": 147,
    "start_time": "2022-11-14T07:52:02.018Z"
   },
   {
    "duration": 3,
    "start_time": "2022-11-14T07:52:04.110Z"
   },
   {
    "duration": 3,
    "start_time": "2022-11-14T07:52:04.622Z"
   },
   {
    "duration": 108,
    "start_time": "2022-11-14T07:57:34.230Z"
   },
   {
    "duration": 2893,
    "start_time": "2022-11-14T08:00:10.032Z"
   },
   {
    "duration": 15,
    "start_time": "2022-11-14T08:01:34.360Z"
   },
   {
    "duration": 6,
    "start_time": "2022-11-14T08:01:43.313Z"
   },
   {
    "duration": 21422,
    "start_time": "2022-11-14T08:01:49.583Z"
   },
   {
    "duration": 917,
    "start_time": "2022-11-14T08:02:11.007Z"
   },
   {
    "duration": 255515,
    "start_time": "2022-11-14T08:02:14.598Z"
   },
   {
    "duration": 1215,
    "start_time": "2022-11-14T08:06:30.114Z"
   },
   {
    "duration": 156211,
    "start_time": "2022-11-14T08:06:31.404Z"
   },
   {
    "duration": 288,
    "start_time": "2022-11-14T08:09:07.617Z"
   },
   {
    "duration": 33570,
    "start_time": "2022-11-14T08:09:07.907Z"
   },
   {
    "duration": 212,
    "start_time": "2022-11-14T08:09:41.479Z"
   },
   {
    "duration": 76,
    "start_time": "2022-11-14T08:09:41.692Z"
   },
   {
    "duration": 8,
    "start_time": "2022-11-14T08:09:41.770Z"
   },
   {
    "duration": 5,
    "start_time": "2022-11-14T08:09:50.514Z"
   },
   {
    "duration": 79,
    "start_time": "2022-11-14T08:09:57.131Z"
   },
   {
    "duration": 9,
    "start_time": "2022-11-14T08:10:05.174Z"
   },
   {
    "duration": 41043,
    "start_time": "2022-11-14T08:10:07.573Z"
   },
   {
    "duration": 193,
    "start_time": "2022-11-14T08:10:48.618Z"
   },
   {
    "duration": 276786,
    "start_time": "2022-11-14T08:11:25.530Z"
   },
   {
    "duration": 2267019,
    "start_time": "2022-11-14T08:16:02.317Z"
   },
   {
    "duration": 484254,
    "start_time": "2022-11-14T08:53:49.338Z"
   },
   {
    "duration": 1303518,
    "start_time": "2022-11-14T09:01:53.594Z"
   },
   {
    "duration": 420,
    "start_time": "2022-11-14T09:50:11.674Z"
   },
   {
    "duration": 4,
    "start_time": "2022-11-14T10:30:21.806Z"
   },
   {
    "duration": 2640,
    "start_time": "2022-11-14T10:32:19.580Z"
   },
   {
    "duration": 2585,
    "start_time": "2022-11-14T10:32:32.664Z"
   },
   {
    "duration": 3,
    "start_time": "2022-11-14T10:33:36.093Z"
   },
   {
    "duration": 2772,
    "start_time": "2022-11-14T10:33:38.388Z"
   },
   {
    "duration": 3,
    "start_time": "2022-11-14T10:33:52.613Z"
   },
   {
    "duration": 2743,
    "start_time": "2022-11-14T10:33:55.869Z"
   },
   {
    "duration": 3,
    "start_time": "2022-11-14T10:34:08.660Z"
   },
   {
    "duration": 2738,
    "start_time": "2022-11-14T10:34:11.594Z"
   },
   {
    "duration": 4,
    "start_time": "2022-11-14T10:34:35.982Z"
   },
   {
    "duration": 2614,
    "start_time": "2022-11-14T10:34:37.860Z"
   },
   {
    "duration": 3,
    "start_time": "2022-11-14T10:34:43.664Z"
   },
   {
    "duration": 2672,
    "start_time": "2022-11-14T10:34:54.964Z"
   },
   {
    "duration": 4,
    "start_time": "2022-11-14T10:35:15.011Z"
   },
   {
    "duration": 2654,
    "start_time": "2022-11-14T10:35:17.112Z"
   },
   {
    "duration": 4,
    "start_time": "2022-11-14T10:35:28.226Z"
   },
   {
    "duration": 2689,
    "start_time": "2022-11-14T10:35:28.675Z"
   },
   {
    "duration": 3,
    "start_time": "2022-11-14T10:35:35.581Z"
   },
   {
    "duration": 2719,
    "start_time": "2022-11-14T10:35:40.462Z"
   },
   {
    "duration": 3,
    "start_time": "2022-11-14T10:35:50.504Z"
   },
   {
    "duration": 2667,
    "start_time": "2022-11-14T10:35:51.244Z"
   },
   {
    "duration": 4,
    "start_time": "2022-11-14T10:36:01.210Z"
   },
   {
    "duration": 2675,
    "start_time": "2022-11-14T10:36:05.994Z"
   },
   {
    "duration": 4,
    "start_time": "2022-11-14T10:36:39.299Z"
   },
   {
    "duration": 2619,
    "start_time": "2022-11-14T10:36:40.731Z"
   },
   {
    "duration": 3,
    "start_time": "2022-11-14T10:36:50.512Z"
   },
   {
    "duration": 2720,
    "start_time": "2022-11-14T10:36:52.428Z"
   },
   {
    "duration": 3,
    "start_time": "2022-11-14T10:37:09.107Z"
   },
   {
    "duration": 2720,
    "start_time": "2022-11-14T10:37:09.982Z"
   },
   {
    "duration": 4,
    "start_time": "2022-11-14T10:37:22.245Z"
   },
   {
    "duration": 2719,
    "start_time": "2022-11-14T10:37:23.492Z"
   },
   {
    "duration": 4620,
    "start_time": "2022-11-14T10:38:46.365Z"
   },
   {
    "duration": 1583,
    "start_time": "2022-11-14T10:38:50.987Z"
   },
   {
    "duration": 481,
    "start_time": "2022-11-14T10:59:26.746Z"
   },
   {
    "duration": 1348,
    "start_time": "2022-11-14T11:00:20.639Z"
   },
   {
    "duration": 829,
    "start_time": "2022-11-14T11:00:21.989Z"
   },
   {
    "duration": 134,
    "start_time": "2022-11-14T11:00:22.820Z"
   },
   {
    "duration": 12,
    "start_time": "2022-11-14T11:00:22.956Z"
   },
   {
    "duration": 36,
    "start_time": "2022-11-14T11:00:22.969Z"
   },
   {
    "duration": 2217,
    "start_time": "2022-11-14T11:00:23.006Z"
   },
   {
    "duration": 19978,
    "start_time": "2022-11-14T11:00:25.225Z"
   },
   {
    "duration": 260,
    "start_time": "2022-11-14T11:00:45.205Z"
   },
   {
    "duration": 182,
    "start_time": "2022-11-14T11:00:45.466Z"
   },
   {
    "duration": 237,
    "start_time": "2022-11-14T11:00:45.651Z"
   },
   {
    "duration": 24,
    "start_time": "2022-11-14T11:00:45.890Z"
   },
   {
    "duration": 9,
    "start_time": "2022-11-14T11:00:45.916Z"
   },
   {
    "duration": 9,
    "start_time": "2022-11-14T11:00:45.926Z"
   },
   {
    "duration": 39,
    "start_time": "2022-11-14T11:00:45.936Z"
   },
   {
    "duration": 42,
    "start_time": "2022-11-14T11:00:45.977Z"
   },
   {
    "duration": 1700,
    "start_time": "2022-11-14T11:00:46.020Z"
   },
   {
    "duration": 69,
    "start_time": "2022-11-14T11:00:47.722Z"
   },
   {
    "duration": 782,
    "start_time": "2022-11-14T11:00:47.804Z"
   },
   {
    "duration": 25,
    "start_time": "2022-11-14T11:00:48.588Z"
   },
   {
    "duration": 12,
    "start_time": "2022-11-14T11:00:48.614Z"
   },
   {
    "duration": 204,
    "start_time": "2022-11-14T11:00:48.628Z"
   },
   {
    "duration": 760,
    "start_time": "2022-11-14T11:00:48.833Z"
   },
   {
    "duration": 18,
    "start_time": "2022-11-14T11:00:49.595Z"
   },
   {
    "duration": 12,
    "start_time": "2022-11-14T11:00:49.615Z"
   },
   {
    "duration": 115,
    "start_time": "2022-11-14T11:00:49.628Z"
   },
   {
    "duration": 760,
    "start_time": "2022-11-14T11:00:49.745Z"
   },
   {
    "duration": 2261,
    "start_time": "2022-11-14T11:00:50.506Z"
   },
   {
    "duration": 3,
    "start_time": "2022-11-14T11:00:52.771Z"
   },
   {
    "duration": 11,
    "start_time": "2022-11-14T11:00:52.775Z"
   },
   {
    "duration": 2201,
    "start_time": "2022-11-14T11:00:52.788Z"
   },
   {
    "duration": 2288,
    "start_time": "2022-11-14T11:00:54.991Z"
   },
   {
    "duration": 5,
    "start_time": "2022-11-14T11:00:57.281Z"
   },
   {
    "duration": 2161,
    "start_time": "2022-11-14T11:00:57.287Z"
   },
   {
    "duration": 3,
    "start_time": "2022-11-14T11:00:59.449Z"
   },
   {
    "duration": 855,
    "start_time": "2022-11-14T11:00:59.453Z"
   },
   {
    "duration": 17,
    "start_time": "2022-11-14T11:01:00.310Z"
   },
   {
    "duration": 582,
    "start_time": "2022-11-14T11:01:00.329Z"
   },
   {
    "duration": 2858,
    "start_time": "2022-11-14T11:01:00.913Z"
   },
   {
    "duration": 295,
    "start_time": "2022-11-14T11:01:03.773Z"
   },
   {
    "duration": 3,
    "start_time": "2022-11-14T11:01:04.069Z"
   },
   {
    "duration": 21,
    "start_time": "2022-11-14T11:01:04.074Z"
   },
   {
    "duration": 8,
    "start_time": "2022-11-14T11:01:04.097Z"
   },
   {
    "duration": 1320,
    "start_time": "2022-11-14T11:04:36.864Z"
   },
   {
    "duration": 803,
    "start_time": "2022-11-14T11:04:38.187Z"
   },
   {
    "duration": 136,
    "start_time": "2022-11-14T11:04:38.992Z"
   },
   {
    "duration": 4,
    "start_time": "2022-11-14T11:04:39.129Z"
   },
   {
    "duration": 27,
    "start_time": "2022-11-14T11:04:39.134Z"
   },
   {
    "duration": 2078,
    "start_time": "2022-11-14T11:04:39.163Z"
   },
   {
    "duration": 19747,
    "start_time": "2022-11-14T11:04:41.243Z"
   },
   {
    "duration": 265,
    "start_time": "2022-11-14T11:05:00.991Z"
   },
   {
    "duration": 174,
    "start_time": "2022-11-14T11:05:01.257Z"
   },
   {
    "duration": 254,
    "start_time": "2022-11-14T11:05:01.434Z"
   },
   {
    "duration": 25,
    "start_time": "2022-11-14T11:05:01.690Z"
   },
   {
    "duration": 9,
    "start_time": "2022-11-14T11:05:01.716Z"
   },
   {
    "duration": 35,
    "start_time": "2022-11-14T11:05:01.726Z"
   },
   {
    "duration": 42,
    "start_time": "2022-11-14T11:05:01.762Z"
   },
   {
    "duration": 17,
    "start_time": "2022-11-14T11:05:01.805Z"
   },
   {
    "duration": 1590,
    "start_time": "2022-11-14T11:05:01.823Z"
   },
   {
    "duration": 59,
    "start_time": "2022-11-14T11:05:03.414Z"
   },
   {
    "duration": 818,
    "start_time": "2022-11-14T11:05:03.474Z"
   },
   {
    "duration": 20,
    "start_time": "2022-11-14T11:05:04.293Z"
   },
   {
    "duration": 12,
    "start_time": "2022-11-14T11:05:04.315Z"
   },
   {
    "duration": 212,
    "start_time": "2022-11-14T11:05:04.329Z"
   },
   {
    "duration": 752,
    "start_time": "2022-11-14T11:05:04.543Z"
   },
   {
    "duration": 15,
    "start_time": "2022-11-14T11:05:05.304Z"
   },
   {
    "duration": 12,
    "start_time": "2022-11-14T11:05:05.320Z"
   },
   {
    "duration": 118,
    "start_time": "2022-11-14T11:05:05.333Z"
   },
   {
    "duration": 784,
    "start_time": "2022-11-14T11:05:05.453Z"
   },
   {
    "duration": 2171,
    "start_time": "2022-11-14T11:05:06.239Z"
   },
   {
    "duration": 2,
    "start_time": "2022-11-14T11:05:08.414Z"
   },
   {
    "duration": 20,
    "start_time": "2022-11-14T11:05:08.418Z"
   },
   {
    "duration": 2150,
    "start_time": "2022-11-14T11:05:08.439Z"
   },
   {
    "duration": 2153,
    "start_time": "2022-11-14T11:05:10.591Z"
   },
   {
    "duration": 5,
    "start_time": "2022-11-14T11:05:12.746Z"
   },
   {
    "duration": 2188,
    "start_time": "2022-11-14T11:05:12.752Z"
   },
   {
    "duration": 2,
    "start_time": "2022-11-14T11:05:14.942Z"
   },
   {
    "duration": 843,
    "start_time": "2022-11-14T11:05:14.946Z"
   },
   {
    "duration": 21,
    "start_time": "2022-11-14T11:05:15.791Z"
   },
   {
    "duration": 567,
    "start_time": "2022-11-14T11:05:15.814Z"
   },
   {
    "duration": 2839,
    "start_time": "2022-11-14T11:05:16.383Z"
   },
   {
    "duration": 295,
    "start_time": "2022-11-14T11:05:19.224Z"
   },
   {
    "duration": 3,
    "start_time": "2022-11-14T11:05:19.520Z"
   },
   {
    "duration": 15,
    "start_time": "2022-11-14T11:05:19.524Z"
   },
   {
    "duration": 6,
    "start_time": "2022-11-14T11:05:19.540Z"
   },
   {
    "duration": 290372,
    "start_time": "2022-11-14T11:05:19.547Z"
   },
   {
    "duration": 2497085,
    "start_time": "2022-11-14T11:10:09.921Z"
   },
   {
    "duration": 456315,
    "start_time": "2022-11-14T11:51:47.008Z"
   },
   {
    "duration": 1392188,
    "start_time": "2022-11-14T11:59:23.325Z"
   },
   {
    "duration": 504297,
    "start_time": "2022-11-14T12:22:35.516Z"
   },
   {
    "duration": 589,
    "start_time": "2022-11-14T12:30:59.816Z"
   },
   {
    "duration": 106309,
    "start_time": "2022-11-14T12:31:00.406Z"
   },
   {
    "duration": 916,
    "start_time": "2022-11-14T12:32:46.716Z"
   },
   {
    "duration": 271228,
    "start_time": "2022-11-14T12:32:47.634Z"
   },
   {
    "duration": 1447,
    "start_time": "2022-11-14T12:37:18.864Z"
   },
   {
    "duration": 173101,
    "start_time": "2022-11-14T12:37:20.313Z"
   },
   {
    "duration": 199,
    "start_time": "2022-11-14T12:40:13.513Z"
   },
   {
    "duration": 34803,
    "start_time": "2022-11-14T12:40:13.715Z"
   },
   {
    "duration": 229,
    "start_time": "2022-11-14T12:40:48.520Z"
   },
   {
    "duration": 72157,
    "start_time": "2022-11-14T12:40:48.751Z"
   },
   {
    "duration": 206,
    "start_time": "2022-11-14T12:42:00.912Z"
   },
   {
    "duration": 1345,
    "start_time": "2022-11-14T13:06:42.082Z"
   },
   {
    "duration": 67,
    "start_time": "2022-11-14T13:06:58.650Z"
   },
   {
    "duration": 249,
    "start_time": "2022-11-14T13:07:04.224Z"
   },
   {
    "duration": 58,
    "start_time": "2022-11-14T13:07:07.452Z"
   },
   {
    "duration": 1007,
    "start_time": "2022-11-14T13:07:10.715Z"
   },
   {
    "duration": 4,
    "start_time": "2022-11-14T13:15:14.217Z"
   },
   {
    "duration": 4,
    "start_time": "2022-11-14T13:15:24.252Z"
   },
   {
    "duration": 118,
    "start_time": "2022-11-14T13:16:11.365Z"
   },
   {
    "duration": 5,
    "start_time": "2022-11-14T13:18:28.768Z"
   },
   {
    "duration": 14,
    "start_time": "2022-11-14T13:18:37.651Z"
   },
   {
    "duration": 4,
    "start_time": "2022-11-14T13:20:10.951Z"
   },
   {
    "duration": 4,
    "start_time": "2022-11-14T13:20:15.424Z"
   },
   {
    "duration": 22,
    "start_time": "2022-11-14T13:31:21.170Z"
   },
   {
    "duration": 13,
    "start_time": "2022-11-14T13:34:40.061Z"
   },
   {
    "duration": 1788,
    "start_time": "2022-11-15T10:06:38.903Z"
   },
   {
    "duration": 1240,
    "start_time": "2022-11-15T10:06:42.911Z"
   },
   {
    "duration": 152,
    "start_time": "2022-11-15T10:06:46.678Z"
   },
   {
    "duration": 5,
    "start_time": "2022-11-15T10:06:46.954Z"
   },
   {
    "duration": 25,
    "start_time": "2022-11-15T10:06:47.811Z"
   },
   {
    "duration": 18,
    "start_time": "2022-11-15T10:06:52.091Z"
   },
   {
    "duration": 15,
    "start_time": "2022-11-15T10:06:53.630Z"
   },
   {
    "duration": 10,
    "start_time": "2022-11-15T10:06:53.849Z"
   },
   {
    "duration": 46,
    "start_time": "2022-11-15T10:06:55.875Z"
   },
   {
    "duration": 17,
    "start_time": "2022-11-15T10:06:56.237Z"
   },
   {
    "duration": 1711,
    "start_time": "2022-11-15T10:06:56.837Z"
   },
   {
    "duration": 259,
    "start_time": "2022-11-15T10:07:03.479Z"
   },
   {
    "duration": 204,
    "start_time": "2022-11-15T10:07:05.742Z"
   },
   {
    "duration": 328,
    "start_time": "2022-11-15T10:07:06.947Z"
   },
   {
    "duration": 684,
    "start_time": "2022-11-15T10:07:10.377Z"
   },
   {
    "duration": 19,
    "start_time": "2022-11-15T10:07:11.555Z"
   },
   {
    "duration": 18,
    "start_time": "2022-11-15T10:07:13.513Z"
   },
   {
    "duration": 229,
    "start_time": "2022-11-15T10:07:14.505Z"
   },
   {
    "duration": 707,
    "start_time": "2022-11-15T10:07:18.352Z"
   },
   {
    "duration": 23,
    "start_time": "2022-11-15T10:07:20.684Z"
   },
   {
    "duration": 24,
    "start_time": "2022-11-15T10:07:21.919Z"
   },
   {
    "duration": 136,
    "start_time": "2022-11-15T10:07:22.794Z"
   },
   {
    "duration": 682,
    "start_time": "2022-11-15T10:07:23.601Z"
   },
   {
    "duration": 1878,
    "start_time": "2022-11-15T10:07:25.377Z"
   },
   {
    "duration": 0,
    "start_time": "2022-11-15T10:07:27.258Z"
   },
   {
    "duration": 0,
    "start_time": "2022-11-15T10:07:27.259Z"
   },
   {
    "duration": 0,
    "start_time": "2022-11-15T10:07:27.261Z"
   },
   {
    "duration": 5,
    "start_time": "2022-11-15T10:07:29.064Z"
   },
   {
    "duration": 1716,
    "start_time": "2022-11-15T10:07:31.030Z"
   },
   {
    "duration": 0,
    "start_time": "2022-11-15T10:07:32.748Z"
   },
   {
    "duration": 6,
    "start_time": "2022-11-15T10:07:35.955Z"
   },
   {
    "duration": 1632,
    "start_time": "2022-11-15T10:07:36.214Z"
   },
   {
    "duration": 4,
    "start_time": "2022-11-15T10:09:51.865Z"
   },
   {
    "duration": 3,
    "start_time": "2022-11-15T10:11:39.452Z"
   },
   {
    "duration": 10,
    "start_time": "2022-11-15T10:12:42.395Z"
   },
   {
    "duration": 9,
    "start_time": "2022-11-15T10:12:50.903Z"
   },
   {
    "duration": 102,
    "start_time": "2022-11-15T10:12:54.925Z"
   },
   {
    "duration": 934,
    "start_time": "2022-11-15T10:13:11.994Z"
   },
   {
    "duration": 21,
    "start_time": "2022-11-15T10:13:20.046Z"
   },
   {
    "duration": 3,
    "start_time": "2022-11-15T10:13:40.997Z"
   },
   {
    "duration": 836,
    "start_time": "2022-11-15T10:13:41.850Z"
   },
   {
    "duration": 22,
    "start_time": "2022-11-15T10:13:43.385Z"
   },
   {
    "duration": 182,
    "start_time": "2022-11-15T10:14:10.251Z"
   },
   {
    "duration": 3,
    "start_time": "2022-11-15T10:18:06.171Z"
   },
   {
    "duration": 3,
    "start_time": "2022-11-15T10:18:06.776Z"
   },
   {
    "duration": 3,
    "start_time": "2022-11-15T10:24:31.214Z"
   },
   {
    "duration": 5,
    "start_time": "2022-11-15T10:33:08.410Z"
   },
   {
    "duration": 38353,
    "start_time": "2022-11-15T10:33:22.326Z"
   },
   {
    "duration": 4,
    "start_time": "2022-11-15T10:35:15.762Z"
   },
   {
    "duration": 951,
    "start_time": "2022-11-15T10:35:16.888Z"
   },
   {
    "duration": 46,
    "start_time": "2022-11-15T10:35:18.539Z"
   },
   {
    "duration": 1681,
    "start_time": "2022-11-15T12:58:54.465Z"
   },
   {
    "duration": 1031,
    "start_time": "2022-11-15T12:58:56.147Z"
   },
   {
    "duration": 102,
    "start_time": "2022-11-15T12:58:57.179Z"
   },
   {
    "duration": 4,
    "start_time": "2022-11-15T12:58:57.283Z"
   },
   {
    "duration": 35,
    "start_time": "2022-11-15T12:58:57.289Z"
   },
   {
    "duration": 17,
    "start_time": "2022-11-15T12:59:02.429Z"
   },
   {
    "duration": 11,
    "start_time": "2022-11-15T12:59:02.979Z"
   },
   {
    "duration": 9,
    "start_time": "2022-11-15T12:59:03.437Z"
   },
   {
    "duration": 44,
    "start_time": "2022-11-15T12:59:04.747Z"
   },
   {
    "duration": 17,
    "start_time": "2022-11-15T12:59:05.361Z"
   },
   {
    "duration": 1480,
    "start_time": "2022-11-15T12:59:05.679Z"
   },
   {
    "duration": 191,
    "start_time": "2022-11-15T12:59:07.161Z"
   },
   {
    "duration": 130,
    "start_time": "2022-11-15T12:59:07.353Z"
   },
   {
    "duration": 183,
    "start_time": "2022-11-15T12:59:07.485Z"
   },
   {
    "duration": 587,
    "start_time": "2022-11-15T12:59:10.375Z"
   },
   {
    "duration": 19,
    "start_time": "2022-11-15T12:59:10.964Z"
   },
   {
    "duration": 32,
    "start_time": "2022-11-15T12:59:10.985Z"
   },
   {
    "duration": 186,
    "start_time": "2022-11-15T12:59:11.228Z"
   },
   {
    "duration": 638,
    "start_time": "2022-11-15T12:59:13.931Z"
   },
   {
    "duration": 16,
    "start_time": "2022-11-15T12:59:14.571Z"
   },
   {
    "duration": 26,
    "start_time": "2022-11-15T12:59:14.588Z"
   },
   {
    "duration": 97,
    "start_time": "2022-11-15T12:59:14.753Z"
   },
   {
    "duration": 570,
    "start_time": "2022-11-15T12:59:16.691Z"
   },
   {
    "duration": 1705,
    "start_time": "2022-11-15T12:59:18.783Z"
   },
   {
    "duration": 0,
    "start_time": "2022-11-15T12:59:20.489Z"
   },
   {
    "duration": 0,
    "start_time": "2022-11-15T12:59:20.490Z"
   },
   {
    "duration": 0,
    "start_time": "2022-11-15T12:59:20.491Z"
   },
   {
    "duration": 5,
    "start_time": "2022-11-15T12:59:20.753Z"
   },
   {
    "duration": 1469,
    "start_time": "2022-11-15T12:59:20.973Z"
   },
   {
    "duration": 89,
    "start_time": "2022-11-15T12:59:24.305Z"
   },
   {
    "duration": 4,
    "start_time": "2022-11-15T12:59:29.330Z"
   },
   {
    "duration": 3,
    "start_time": "2022-11-15T12:59:29.520Z"
   },
   {
    "duration": 1068,
    "start_time": "2022-11-15T12:59:30.906Z"
   },
   {
    "duration": 153,
    "start_time": "2022-11-15T12:59:31.976Z"
   },
   {
    "duration": 2,
    "start_time": "2022-11-15T12:59:33.717Z"
   },
   {
    "duration": 3,
    "start_time": "2022-11-15T12:59:34.376Z"
   },
   {
    "duration": 46,
    "start_time": "2022-11-16T11:06:44.390Z"
   },
   {
    "duration": 1572,
    "start_time": "2022-11-16T11:06:49.021Z"
   },
   {
    "duration": 2855,
    "start_time": "2022-11-16T11:06:55.269Z"
   },
   {
    "duration": 132,
    "start_time": "2022-11-16T11:07:00.560Z"
   },
   {
    "duration": 5,
    "start_time": "2022-11-16T11:07:01.393Z"
   },
   {
    "duration": 16,
    "start_time": "2022-11-16T11:07:02.213Z"
   },
   {
    "duration": 21,
    "start_time": "2022-11-16T11:07:07.542Z"
   },
   {
    "duration": 11,
    "start_time": "2022-11-16T11:07:08.290Z"
   },
   {
    "duration": 10,
    "start_time": "2022-11-16T11:07:09.041Z"
   },
   {
    "duration": 46,
    "start_time": "2022-11-16T11:07:10.977Z"
   },
   {
    "duration": 15,
    "start_time": "2022-11-16T11:07:11.733Z"
   },
   {
    "duration": 1416,
    "start_time": "2022-11-16T11:07:12.599Z"
   },
   {
    "duration": 216,
    "start_time": "2022-11-16T11:07:15.810Z"
   },
   {
    "duration": 136,
    "start_time": "2022-11-16T11:07:17.650Z"
   },
   {
    "duration": 214,
    "start_time": "2022-11-16T11:07:17.923Z"
   },
   {
    "duration": 579,
    "start_time": "2022-11-16T11:07:20.412Z"
   },
   {
    "duration": 15,
    "start_time": "2022-11-16T11:07:21.052Z"
   },
   {
    "duration": 13,
    "start_time": "2022-11-16T11:07:26.968Z"
   },
   {
    "duration": 192,
    "start_time": "2022-11-16T11:07:27.585Z"
   },
   {
    "duration": 698,
    "start_time": "2022-11-16T11:07:30.203Z"
   },
   {
    "duration": 15,
    "start_time": "2022-11-16T11:07:30.979Z"
   },
   {
    "duration": 17,
    "start_time": "2022-11-16T11:07:34.866Z"
   },
   {
    "duration": 109,
    "start_time": "2022-11-16T11:07:35.901Z"
   },
   {
    "duration": 568,
    "start_time": "2022-11-16T11:07:36.769Z"
   },
   {
    "duration": 1788,
    "start_time": "2022-11-16T11:07:39.319Z"
   },
   {
    "duration": 8,
    "start_time": "2022-11-16T11:07:42.042Z"
   },
   {
    "duration": 1572,
    "start_time": "2022-11-16T11:07:42.661Z"
   },
   {
    "duration": 0,
    "start_time": "2022-11-16T11:07:44.235Z"
   },
   {
    "duration": 5,
    "start_time": "2022-11-16T11:07:45.188Z"
   },
   {
    "duration": 1597,
    "start_time": "2022-11-16T11:07:47.124Z"
   },
   {
    "duration": 94,
    "start_time": "2022-11-16T11:07:57.661Z"
   },
   {
    "duration": 4,
    "start_time": "2022-11-16T11:07:59.216Z"
   },
   {
    "duration": 3,
    "start_time": "2022-11-16T11:08:00.077Z"
   },
   {
    "duration": 1285,
    "start_time": "2022-11-16T11:08:00.907Z"
   },
   {
    "duration": 174,
    "start_time": "2022-11-16T11:08:03.915Z"
   },
   {
    "duration": 3,
    "start_time": "2022-11-16T11:08:06.066Z"
   },
   {
    "duration": 3,
    "start_time": "2022-11-16T11:08:07.512Z"
   },
   {
    "duration": 7,
    "start_time": "2022-11-16T17:21:15.079Z"
   },
   {
    "duration": 2305692,
    "start_time": "2022-11-16T17:21:35.869Z"
   },
   {
    "duration": 33816,
    "start_time": "2022-11-16T18:00:01.563Z"
   },
   {
    "duration": 1804,
    "start_time": "2022-11-17T08:55:03.095Z"
   },
   {
    "duration": 1299,
    "start_time": "2022-11-17T08:55:07.771Z"
   },
   {
    "duration": 122,
    "start_time": "2022-11-17T08:55:09.073Z"
   },
   {
    "duration": 4,
    "start_time": "2022-11-17T08:55:09.863Z"
   },
   {
    "duration": 21,
    "start_time": "2022-11-17T08:55:10.650Z"
   },
   {
    "duration": 18,
    "start_time": "2022-11-17T08:55:16.481Z"
   },
   {
    "duration": 11,
    "start_time": "2022-11-17T08:55:17.193Z"
   },
   {
    "duration": 10,
    "start_time": "2022-11-17T08:55:18.683Z"
   },
   {
    "duration": 51,
    "start_time": "2022-11-17T08:55:21.795Z"
   },
   {
    "duration": 16,
    "start_time": "2022-11-17T08:55:22.047Z"
   },
   {
    "duration": 1495,
    "start_time": "2022-11-17T08:55:24.554Z"
   },
   {
    "duration": 202,
    "start_time": "2022-11-17T08:55:26.902Z"
   },
   {
    "duration": 132,
    "start_time": "2022-11-17T08:55:28.167Z"
   },
   {
    "duration": 200,
    "start_time": "2022-11-17T08:55:28.706Z"
   },
   {
    "duration": 627,
    "start_time": "2022-11-17T08:55:31.149Z"
   },
   {
    "duration": 18,
    "start_time": "2022-11-17T08:55:31.778Z"
   },
   {
    "duration": 23,
    "start_time": "2022-11-17T08:55:32.904Z"
   },
   {
    "duration": 208,
    "start_time": "2022-11-17T08:55:33.276Z"
   },
   {
    "duration": 735,
    "start_time": "2022-11-17T08:55:34.966Z"
   },
   {
    "duration": 25,
    "start_time": "2022-11-17T08:55:35.703Z"
   },
   {
    "duration": 14,
    "start_time": "2022-11-17T08:55:36.832Z"
   },
   {
    "duration": 108,
    "start_time": "2022-11-17T08:55:37.288Z"
   },
   {
    "duration": 612,
    "start_time": "2022-11-17T08:55:37.889Z"
   },
   {
    "duration": 1867,
    "start_time": "2022-11-17T08:55:43.834Z"
   },
   {
    "duration": 7,
    "start_time": "2022-11-17T08:55:48.346Z"
   },
   {
    "duration": 1783,
    "start_time": "2022-11-17T08:55:48.980Z"
   },
   {
    "duration": 0,
    "start_time": "2022-11-17T08:55:50.765Z"
   },
   {
    "duration": 5,
    "start_time": "2022-11-17T08:55:51.035Z"
   },
   {
    "duration": 1524,
    "start_time": "2022-11-17T08:55:51.953Z"
   },
   {
    "duration": 1681,
    "start_time": "2022-11-17T08:55:56.028Z"
   },
   {
    "duration": 99,
    "start_time": "2022-11-17T08:56:03.724Z"
   },
   {
    "duration": 5,
    "start_time": "2022-11-17T08:56:06.455Z"
   },
   {
    "duration": 3,
    "start_time": "2022-11-17T08:56:07.229Z"
   },
   {
    "duration": 1233,
    "start_time": "2022-11-17T08:56:07.818Z"
   },
   {
    "duration": 172,
    "start_time": "2022-11-17T08:56:10.663Z"
   },
   {
    "duration": 3,
    "start_time": "2022-11-17T08:56:13.063Z"
   },
   {
    "duration": 4,
    "start_time": "2022-11-17T08:56:13.643Z"
   },
   {
    "duration": 5,
    "start_time": "2022-11-17T08:56:47.648Z"
   },
   {
    "duration": 1148637,
    "start_time": "2022-11-17T08:56:51.499Z"
   },
   {
    "duration": 721394,
    "start_time": "2022-11-17T09:16:00.138Z"
   },
   {
    "duration": 305376,
    "start_time": "2022-11-17T09:28:01.534Z"
   },
   {
    "duration": 93818,
    "start_time": "2022-11-17T09:33:06.913Z"
   },
   {
    "duration": 110825,
    "start_time": "2022-11-17T10:13:39.600Z"
   },
   {
    "duration": 1487,
    "start_time": "2022-11-17T10:17:32.360Z"
   },
   {
    "duration": 58664,
    "start_time": "2022-11-17T10:17:37.087Z"
   },
   {
    "duration": 570,
    "start_time": "2022-11-17T10:18:35.753Z"
   },
   {
    "duration": 9999,
    "start_time": "2022-11-17T10:18:36.325Z"
   },
   {
    "duration": 9,
    "start_time": "2022-11-17T10:18:46.327Z"
   },
   {
    "duration": 29618,
    "start_time": "2022-11-17T10:18:46.422Z"
   },
   {
    "duration": 2100,
    "start_time": "2022-11-17T10:19:16.041Z"
   },
   {
    "duration": 181,
    "start_time": "2022-11-17T10:19:18.142Z"
   },
   {
    "duration": 101,
    "start_time": "2022-11-17T10:19:18.326Z"
   },
   {
    "duration": 3733,
    "start_time": "2022-11-17T10:19:32.493Z"
   },
   {
    "duration": 282,
    "start_time": "2022-11-17T10:21:30.410Z"
   },
   {
    "duration": 288,
    "start_time": "2022-11-17T10:21:30.694Z"
   },
   {
    "duration": 13,
    "start_time": "2022-11-17T10:23:52.492Z"
   },
   {
    "duration": 227,
    "start_time": "2022-11-17T10:26:55.906Z"
   },
   {
    "duration": 228,
    "start_time": "2022-11-17T10:27:13.714Z"
   },
   {
    "duration": 224,
    "start_time": "2022-11-17T10:28:00.721Z"
   },
   {
    "duration": 190,
    "start_time": "2022-11-17T10:28:15.347Z"
   },
   {
    "duration": 192,
    "start_time": "2022-11-17T10:28:18.638Z"
   },
   {
    "duration": 146,
    "start_time": "2022-11-17T10:31:31.405Z"
   },
   {
    "duration": 1533,
    "start_time": "2023-02-14T09:27:52.317Z"
   },
   {
    "duration": 3014,
    "start_time": "2023-02-14T09:27:55.985Z"
   },
   {
    "duration": 139,
    "start_time": "2023-02-14T09:28:05.057Z"
   },
   {
    "duration": 4,
    "start_time": "2023-02-14T09:28:05.572Z"
   },
   {
    "duration": 25,
    "start_time": "2023-02-14T09:28:19.213Z"
   },
   {
    "duration": 112,
    "start_time": "2023-02-14T09:28:45.558Z"
   },
   {
    "duration": 56512,
    "start_time": "2023-02-14T09:29:37.873Z"
   },
   {
    "duration": 73,
    "start_time": "2023-02-14T09:31:30.442Z"
   },
   {
    "duration": 21440,
    "start_time": "2023-02-14T09:31:35.026Z"
   },
   {
    "duration": 9,
    "start_time": "2023-02-14T09:32:53.259Z"
   },
   {
    "duration": 831,
    "start_time": "2023-02-14T09:36:47.594Z"
   },
   {
    "duration": 779,
    "start_time": "2023-02-14T09:38:02.566Z"
   },
   {
    "duration": 792,
    "start_time": "2023-02-14T09:39:03.456Z"
   },
   {
    "duration": 1782,
    "start_time": "2023-02-14T09:39:29.202Z"
   },
   {
    "duration": 1728,
    "start_time": "2023-02-14T09:39:56.854Z"
   },
   {
    "duration": 5,
    "start_time": "2023-02-14T09:40:43.050Z"
   },
   {
    "duration": 2431,
    "start_time": "2023-02-14T09:40:50.912Z"
   },
   {
    "duration": 15,
    "start_time": "2023-02-14T09:41:23.508Z"
   },
   {
    "duration": 2229,
    "start_time": "2023-02-14T09:45:06.834Z"
   },
   {
    "duration": 5,
    "start_time": "2023-02-14T09:45:09.065Z"
   },
   {
    "duration": 809,
    "start_time": "2023-02-14T09:45:09.072Z"
   },
   {
    "duration": 138,
    "start_time": "2023-02-14T09:45:09.882Z"
   },
   {
    "duration": 4,
    "start_time": "2023-02-14T09:45:10.022Z"
   },
   {
    "duration": 27,
    "start_time": "2023-02-14T09:45:10.028Z"
   },
   {
    "duration": 20424,
    "start_time": "2023-02-14T09:45:10.057Z"
   },
   {
    "duration": 18,
    "start_time": "2023-02-14T09:45:30.483Z"
   },
   {
    "duration": 15,
    "start_time": "2023-02-14T09:45:30.503Z"
   },
   {
    "duration": 34,
    "start_time": "2023-02-14T09:45:30.522Z"
   },
   {
    "duration": 62,
    "start_time": "2023-02-14T09:45:30.558Z"
   },
   {
    "duration": 17,
    "start_time": "2023-02-14T09:45:30.621Z"
   },
   {
    "duration": 1563,
    "start_time": "2023-02-14T09:45:30.639Z"
   },
   {
    "duration": 269,
    "start_time": "2023-02-14T09:45:32.204Z"
   },
   {
    "duration": 166,
    "start_time": "2023-02-14T09:45:32.474Z"
   },
   {
    "duration": 288,
    "start_time": "2023-02-14T09:45:32.642Z"
   },
   {
    "duration": 878,
    "start_time": "2023-02-14T09:45:32.932Z"
   },
   {
    "duration": 19,
    "start_time": "2023-02-14T09:45:33.812Z"
   },
   {
    "duration": 28,
    "start_time": "2023-02-14T09:45:33.832Z"
   },
   {
    "duration": 223,
    "start_time": "2023-02-14T09:45:33.862Z"
   },
   {
    "duration": 807,
    "start_time": "2023-02-14T09:45:34.087Z"
   },
   {
    "duration": 17,
    "start_time": "2023-02-14T09:45:34.895Z"
   },
   {
    "duration": 15,
    "start_time": "2023-02-14T09:45:34.913Z"
   },
   {
    "duration": 157,
    "start_time": "2023-02-14T09:45:34.930Z"
   },
   {
    "duration": 822,
    "start_time": "2023-02-14T09:45:35.089Z"
   },
   {
    "duration": 2474,
    "start_time": "2023-02-14T09:45:35.914Z"
   },
   {
    "duration": 7,
    "start_time": "2023-02-14T09:45:38.389Z"
   },
   {
    "duration": 2353,
    "start_time": "2023-02-14T09:45:38.400Z"
   },
   {
    "duration": 2316,
    "start_time": "2023-02-14T09:45:40.755Z"
   },
   {
    "duration": 5,
    "start_time": "2023-02-14T09:45:43.073Z"
   },
   {
    "duration": 2734,
    "start_time": "2023-02-14T09:45:43.079Z"
   },
   {
    "duration": 91,
    "start_time": "2023-02-14T09:45:45.815Z"
   },
   {
    "duration": 5,
    "start_time": "2023-02-14T09:45:45.907Z"
   },
   {
    "duration": 6,
    "start_time": "2023-02-14T09:45:45.913Z"
   },
   {
    "duration": 1291,
    "start_time": "2023-02-14T09:45:45.920Z"
   },
   {
    "duration": 191,
    "start_time": "2023-02-14T09:45:47.213Z"
   },
   {
    "duration": 3,
    "start_time": "2023-02-14T09:45:47.406Z"
   },
   {
    "duration": 8,
    "start_time": "2023-02-14T09:45:47.411Z"
   }
  ],
  "kernelspec": {
   "display_name": "Python 3 (ipykernel)",
   "language": "python",
   "name": "python3"
  },
  "language_info": {
   "codemirror_mode": {
    "name": "ipython",
    "version": 3
   },
   "file_extension": ".py",
   "mimetype": "text/x-python",
   "name": "python",
   "nbconvert_exporter": "python",
   "pygments_lexer": "ipython3",
   "version": "3.9.5"
  },
  "toc": {
   "base_numbering": 1,
   "nav_menu": {},
   "number_sections": true,
   "sideBar": true,
   "skip_h1_title": true,
   "title_cell": "Table of Contents",
   "title_sidebar": "Contents",
   "toc_cell": false,
   "toc_position": {},
   "toc_section_display": true,
   "toc_window_display": true
  }
 },
 "nbformat": 4,
 "nbformat_minor": 1
}
