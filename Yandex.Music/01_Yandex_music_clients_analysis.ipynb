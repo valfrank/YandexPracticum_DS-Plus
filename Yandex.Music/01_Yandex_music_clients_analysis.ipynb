{
 "cells": [
  {
   "cell_type": "markdown",
   "metadata": {
    "id": "E0vqbgi9ay0H"
   },
   "source": [
    "# Yandex.Music"
   ]
  },
  {
   "cell_type": "markdown",
   "source": [
    "Based on Yandex.Music data, a comparison was made between users of the two capitals.\n",
    "\n",
    "**Research Aim** - Test three hypotheses:\n",
    "1. User activity depends on the day of the week. Moreover, in Moscow and St. Petersburg this manifests itself in different ways.\n",
    "2. On Monday morning, certain genres prevail in Moscow, while others prevail in St. Petersburg. Similarly, Friday evenings are dominated by different genres, depending on the city.\n",
    "3. Moscow and St. Petersburg prefer different genres of music. In Moscow, they listen to pop music more often, in St. Petersburg - Russian rap.\n",
    "\n",
    "**Plan**\n",
    "\n",
    "  1. Data review.\n",
    "  2. Data preprocessing.\n",
    "  3. Hypothesis testing."
   ],
   "metadata": {
    "collapsed": false
   }
  },
  {
   "cell_type": "markdown",
   "metadata": {
    "id": "Ml1hmfXC_Zcs"
   },
   "source": [
    "## Basic Analysis"
   ]
  },
  {
   "cell_type": "code",
   "execution_count": 1,
   "metadata": {
    "id": "AXN7PHPN_Zcs"
   },
   "outputs": [],
   "source": [
    "import pandas as pd"
   ]
  },
  {
   "cell_type": "markdown",
   "metadata": {
    "id": "SG23P8tt_Zcs"
   },
   "source": [
    "Initial look at the data"
   ]
  },
  {
   "cell_type": "code",
   "execution_count": 2,
   "metadata": {
    "id": "fFVu7vqh_Zct"
   },
   "outputs": [],
   "source": [
    "df = pd.read_csv('yandex_music_project.csv')"
   ]
  },
  {
   "cell_type": "code",
   "execution_count": 3,
   "metadata": {
    "id": "oWTVX3gW_Zct"
   },
   "outputs": [
    {
     "data": {
      "text/plain": "     userID                        Track            artist   genre  \\\n0  FFB692EC            Kamigata To Boots  The Mass Missile    rock   \n1  55204538  Delayed Because of Accident  Andreas Rönnberg    rock   \n2    20EC38            Funiculì funiculà       Mario Lanza     pop   \n3  A3DD03C9        Dragons in the Sunset        Fire + Ice    folk   \n4  E2DC1FAE                  Soul People        Space Echo   dance   \n5  842029A1                    Преданная         IMPERVTOR  rusrap   \n6  4CB90AA5                         True      Roman Messer   dance   \n7  F03E1C1F             Feeling This Way   Polina Griffith   dance   \n8  8FA1D3BE     И вновь продолжается бой               NaN  ruspop   \n9  E772D5C0                    Pessimist               NaN   dance   \n\n             City        time        Day  \n0  Saint-Petersburg  20:28:33  Wednesday  \n1            Moscow  14:07:09     Friday  \n2  Saint-Petersburg  20:58:07  Wednesday  \n3  Saint-Petersburg  08:37:09     Monday  \n4            Moscow  08:34:34     Monday  \n5  Saint-Petersburg  13:09:41     Friday  \n6            Moscow  13:00:07  Wednesday  \n7            Moscow  20:47:49  Wednesday  \n8            Moscow  09:17:40     Friday  \n9  Saint-Petersburg  21:20:49  Wednesday  ",
      "text/html": "<div>\n<style scoped>\n    .dataframe tbody tr th:only-of-type {\n        vertical-align: middle;\n    }\n\n    .dataframe tbody tr th {\n        vertical-align: top;\n    }\n\n    .dataframe thead th {\n        text-align: right;\n    }\n</style>\n<table border=\"1\" class=\"dataframe\">\n  <thead>\n    <tr style=\"text-align: right;\">\n      <th></th>\n      <th>userID</th>\n      <th>Track</th>\n      <th>artist</th>\n      <th>genre</th>\n      <th>City</th>\n      <th>time</th>\n      <th>Day</th>\n    </tr>\n  </thead>\n  <tbody>\n    <tr>\n      <th>0</th>\n      <td>FFB692EC</td>\n      <td>Kamigata To Boots</td>\n      <td>The Mass Missile</td>\n      <td>rock</td>\n      <td>Saint-Petersburg</td>\n      <td>20:28:33</td>\n      <td>Wednesday</td>\n    </tr>\n    <tr>\n      <th>1</th>\n      <td>55204538</td>\n      <td>Delayed Because of Accident</td>\n      <td>Andreas Rönnberg</td>\n      <td>rock</td>\n      <td>Moscow</td>\n      <td>14:07:09</td>\n      <td>Friday</td>\n    </tr>\n    <tr>\n      <th>2</th>\n      <td>20EC38</td>\n      <td>Funiculì funiculà</td>\n      <td>Mario Lanza</td>\n      <td>pop</td>\n      <td>Saint-Petersburg</td>\n      <td>20:58:07</td>\n      <td>Wednesday</td>\n    </tr>\n    <tr>\n      <th>3</th>\n      <td>A3DD03C9</td>\n      <td>Dragons in the Sunset</td>\n      <td>Fire + Ice</td>\n      <td>folk</td>\n      <td>Saint-Petersburg</td>\n      <td>08:37:09</td>\n      <td>Monday</td>\n    </tr>\n    <tr>\n      <th>4</th>\n      <td>E2DC1FAE</td>\n      <td>Soul People</td>\n      <td>Space Echo</td>\n      <td>dance</td>\n      <td>Moscow</td>\n      <td>08:34:34</td>\n      <td>Monday</td>\n    </tr>\n    <tr>\n      <th>5</th>\n      <td>842029A1</td>\n      <td>Преданная</td>\n      <td>IMPERVTOR</td>\n      <td>rusrap</td>\n      <td>Saint-Petersburg</td>\n      <td>13:09:41</td>\n      <td>Friday</td>\n    </tr>\n    <tr>\n      <th>6</th>\n      <td>4CB90AA5</td>\n      <td>True</td>\n      <td>Roman Messer</td>\n      <td>dance</td>\n      <td>Moscow</td>\n      <td>13:00:07</td>\n      <td>Wednesday</td>\n    </tr>\n    <tr>\n      <th>7</th>\n      <td>F03E1C1F</td>\n      <td>Feeling This Way</td>\n      <td>Polina Griffith</td>\n      <td>dance</td>\n      <td>Moscow</td>\n      <td>20:47:49</td>\n      <td>Wednesday</td>\n    </tr>\n    <tr>\n      <th>8</th>\n      <td>8FA1D3BE</td>\n      <td>И вновь продолжается бой</td>\n      <td>NaN</td>\n      <td>ruspop</td>\n      <td>Moscow</td>\n      <td>09:17:40</td>\n      <td>Friday</td>\n    </tr>\n    <tr>\n      <th>9</th>\n      <td>E772D5C0</td>\n      <td>Pessimist</td>\n      <td>NaN</td>\n      <td>dance</td>\n      <td>Saint-Petersburg</td>\n      <td>21:20:49</td>\n      <td>Wednesday</td>\n    </tr>\n  </tbody>\n</table>\n</div>"
     },
     "execution_count": 3,
     "metadata": {},
     "output_type": "execute_result"
    }
   ],
   "source": [
    "df.head(10)"
   ]
  },
  {
   "cell_type": "code",
   "execution_count": 4,
   "metadata": {
    "id": "DSf2kIb-_Zct"
   },
   "outputs": [
    {
     "name": "stdout",
     "output_type": "stream",
     "text": [
      "<class 'pandas.core.frame.DataFrame'>\n",
      "RangeIndex: 65079 entries, 0 to 65078\n",
      "Data columns (total 7 columns):\n",
      " #   Column    Non-Null Count  Dtype \n",
      "---  ------    --------------  ----- \n",
      " 0     userID  65079 non-null  object\n",
      " 1   Track     63848 non-null  object\n",
      " 2   artist    57876 non-null  object\n",
      " 3   genre     63881 non-null  object\n",
      " 4     City    65079 non-null  object\n",
      " 5   time      65079 non-null  object\n",
      " 6   Day       65079 non-null  object\n",
      "dtypes: object(7)\n",
      "memory usage: 3.5+ MB\n"
     ]
    }
   ],
   "source": [
    "df.info()"
   ]
  },
  {
   "cell_type": "markdown",
   "source": [
    "**Resume**\n",
    "\n",
    "Table has seven columns. The data type in all columns is `object`.\n",
    "\n",
    "According to the data documentation:\n",
    "* `userID` - user ID;\n",
    "* `Track` — track name;\n",
    "* `artist` — artist name;\n",
    "* `genre` — genre name;\n",
    "* `City` - user's city;\n",
    "* `time` - start time of listening;\n",
    "* `Day` is the day of the week.\n",
    "\n",
    "There are three style violations in the column headings:\n",
    "1. Lowercase letters are combined with uppercase.\n",
    "2. Gaps\n",
    "3. From the names 'time' it is not clear what is meant.\n",
    "4. It is customary to use snake case in case of several words in the title.\n",
    "\n",
    "Missing values in `Track`, `artist`, `genre` columns"
   ],
   "metadata": {
    "collapsed": false
   }
  },
  {
   "cell_type": "markdown",
   "metadata": {
    "id": "SjYF6Ub9_Zct"
   },
   "source": [
    "## Prepare the data"
   ]
  },
  {
   "cell_type": "markdown",
   "metadata": {
    "id": "dIaKXr29_Zct"
   },
   "source": [
    "### Heading style"
   ]
  },
  {
   "cell_type": "code",
   "execution_count": 5,
   "metadata": {
    "id": "oKOTdF_Q_Zct"
   },
   "outputs": [
    {
     "data": {
      "text/plain": "Index(['  userID', 'Track', 'artist', 'genre', '  City  ', 'time', 'Day'], dtype='object')"
     },
     "execution_count": 5,
     "metadata": {},
     "output_type": "execute_result"
    }
   ],
   "source": [
    "df.columns"
   ]
  },
  {
   "cell_type": "code",
   "execution_count": 6,
   "metadata": {
    "id": "ISlFqs5y_Zct"
   },
   "outputs": [],
   "source": [
    "df = df.rename(columns={'  userID': 'user_id', 'Track': 'track', '  City  ': 'city', 'time': 'start_time', 'Day': 'day'})"
   ]
  },
  {
   "cell_type": "code",
   "execution_count": 7,
   "metadata": {
    "id": "d4NOAmTW_Zct"
   },
   "outputs": [
    {
     "data": {
      "text/plain": "Index(['user_id', 'track', 'artist', 'genre', 'city', 'start_time', 'day'], dtype='object')"
     },
     "execution_count": 7,
     "metadata": {},
     "output_type": "execute_result"
    }
   ],
   "source": [
    "df.columns # check"
   ]
  },
  {
   "cell_type": "markdown",
   "metadata": {
    "id": "5ISfbcfY_Zct"
   },
   "source": [
    "### Missing values\n"
   ]
  },
  {
   "cell_type": "code",
   "execution_count": 8,
   "metadata": {
    "id": "RskX29qr_Zct"
   },
   "outputs": [
    {
     "data": {
      "text/plain": "user_id          0\ntrack         1231\nartist        7203\ngenre         1198\ncity             0\nstart_time       0\nday              0\ndtype: int64"
     },
     "execution_count": 8,
     "metadata": {},
     "output_type": "execute_result"
    }
   ],
   "source": [
    "df.isna().sum()"
   ]
  },
  {
   "cell_type": "markdown",
   "source": [
    "Not all missing values affect the study. So in `track` and `artist` the gaps are not important for your work. It suffices to replace them with explicit notation `unknown`.\n",
    "\n",
    "But omissions in `genre` can interfere with the comparison of musical tastes in Moscow and St. Petersburg. In practice, it would be correct to determine the cause of the gaps and restore the data. This option is not available in the curriculum. Have to:\n",
    "* fill in these gaps with explicit notation,\n",
    "* estimate how much they will damage the calculations."
   ],
   "metadata": {
    "collapsed": false
   }
  },
  {
   "cell_type": "code",
   "execution_count": 9,
   "metadata": {
    "id": "KplB5qWs_Zct"
   },
   "outputs": [],
   "source": [
    "columns_to_replace = ['track', 'artist', 'genre']\n",
    "\n",
    "for column in columns_to_replace:\n",
    "    df[column] = df[column].fillna('unknown')"
   ]
  },
  {
   "cell_type": "code",
   "execution_count": 10,
   "metadata": {
    "id": "Tq4nYRX4_Zct"
   },
   "outputs": [
    {
     "data": {
      "text/plain": "user_id       0\ntrack         0\nartist        0\ngenre         0\ncity          0\nstart_time    0\nday           0\ndtype: int64"
     },
     "execution_count": 10,
     "metadata": {},
     "output_type": "execute_result"
    }
   ],
   "source": [
    "df.isna().sum() # check"
   ]
  },
  {
   "cell_type": "markdown",
   "metadata": {
    "id": "BWKRtBJ3_Zct"
   },
   "source": [
    "### Duplicate\n"
   ]
  },
  {
   "cell_type": "code",
   "execution_count": 11,
   "metadata": {
    "id": "36eES_S0_Zct"
   },
   "outputs": [
    {
     "data": {
      "text/plain": "3826"
     },
     "execution_count": 11,
     "metadata": {},
     "output_type": "execute_result"
    }
   ],
   "source": [
    "df.duplicated().sum()"
   ]
  },
  {
   "cell_type": "code",
   "execution_count": 12,
   "metadata": {
    "id": "exFHq6tt_Zct"
   },
   "outputs": [],
   "source": [
    "df = df.drop_duplicates().reset_index(drop=True)"
   ]
  },
  {
   "cell_type": "markdown",
   "metadata": {
    "id": "Im2YwBEG_Zct"
   },
   "source": [
    "Ещё раз посчитайте явные дубликаты в таблице — убедитесь, что полностью от них избавились:"
   ]
  },
  {
   "cell_type": "code",
   "execution_count": 13,
   "metadata": {
    "id": "-8PuNWQ0_Zct"
   },
   "outputs": [
    {
     "data": {
      "text/plain": "0"
     },
     "execution_count": 13,
     "metadata": {},
     "output_type": "execute_result"
    }
   ],
   "source": [
    "df.duplicated().sum() # check"
   ]
  },
  {
   "cell_type": "code",
   "execution_count": 14,
   "metadata": {
    "id": "JIUcqzZN_Zct",
    "scrolled": true
   },
   "outputs": [
    {
     "data": {
      "text/plain": "array(['acid', 'acoustic', 'action', 'adult', 'africa', 'afrikaans',\n       'alternative', 'alternativepunk', 'ambient', 'americana',\n       'animated', 'anime', 'arabesk', 'arabic', 'arena',\n       'argentinetango', 'art', 'audiobook', 'author', 'avantgarde',\n       'axé', 'baile', 'balkan', 'beats', 'bigroom', 'black', 'bluegrass',\n       'blues', 'bollywood', 'bossa', 'brazilian', 'breakbeat', 'breaks',\n       'broadway', 'cantautori', 'cantopop', 'canzone', 'caribbean',\n       'caucasian', 'celtic', 'chamber', 'chanson', 'children', 'chill',\n       'chinese', 'choral', 'christian', 'christmas', 'classical',\n       'classicmetal', 'club', 'colombian', 'comedy', 'conjazz',\n       'contemporary', 'country', 'cuban', 'dance', 'dancehall',\n       'dancepop', 'dark', 'death', 'deep', 'deutschrock', 'deutschspr',\n       'dirty', 'disco', 'dnb', 'documentary', 'downbeat', 'downtempo',\n       'drum', 'dub', 'dubstep', 'eastern', 'easy', 'electronic',\n       'electropop', 'emo', 'entehno', 'epicmetal', 'estrada', 'ethnic',\n       'eurofolk', 'european', 'experimental', 'extrememetal', 'fado',\n       'fairytail', 'film', 'fitness', 'flamenco', 'folk', 'folklore',\n       'folkmetal', 'folkrock', 'folktronica', 'forró', 'frankreich',\n       'französisch', 'french', 'funk', 'future', 'gangsta', 'garage',\n       'german', 'ghazal', 'gitarre', 'glitch', 'gospel', 'gothic',\n       'grime', 'grunge', 'gypsy', 'handsup', \"hard'n'heavy\", 'hardcore',\n       'hardstyle', 'hardtechno', 'hip', 'hip-hop', 'hiphop',\n       'historisch', 'holiday', 'hop', 'horror', 'house', 'hymn', 'idm',\n       'independent', 'indian', 'indie', 'indipop', 'industrial',\n       'inspirational', 'instrumental', 'international', 'irish', 'jam',\n       'japanese', 'jazz', 'jewish', 'jpop', 'jungle', 'k-pop',\n       'karadeniz', 'karaoke', 'kayokyoku', 'korean', 'laiko', 'latin',\n       'latino', 'leftfield', 'local', 'lounge', 'loungeelectronic',\n       'lovers', 'malaysian', 'mandopop', 'marschmusik', 'meditative',\n       'mediterranean', 'melodic', 'metal', 'metalcore', 'mexican',\n       'middle', 'minimal', 'miscellaneous', 'modern', 'mood', 'mpb',\n       'muslim', 'native', 'neoklassik', 'neue', 'new', 'newage',\n       'newwave', 'nu', 'nujazz', 'numetal', 'oceania', 'old', 'opera',\n       'orchestral', 'other', 'piano', 'podcasts', 'pop', 'popdance',\n       'popelectronic', 'popeurodance', 'poprussian', 'post',\n       'posthardcore', 'postrock', 'power', 'progmetal', 'progressive',\n       'psychedelic', 'punjabi', 'punk', 'quebecois', 'ragga', 'ram',\n       'rancheras', 'rap', 'rave', 'reggae', 'reggaeton', 'regional',\n       'relax', 'religious', 'retro', 'rhythm', 'rnb', 'rnr', 'rock',\n       'rockabilly', 'rockalternative', 'rockindie', 'rockother',\n       'romance', 'roots', 'ruspop', 'rusrap', 'rusrock', 'russian',\n       'salsa', 'samba', 'scenic', 'schlager', 'self', 'sertanejo',\n       'shanson', 'shoegazing', 'showtunes', 'singer', 'ska', 'skarock',\n       'slow', 'smooth', 'soft', 'soul', 'soulful', 'sound', 'soundtrack',\n       'southern', 'specialty', 'speech', 'spiritual', 'sport',\n       'stonerrock', 'surf', 'swing', 'synthpop', 'synthrock',\n       'sängerportrait', 'tango', 'tanzorchester', 'taraftar', 'tatar',\n       'tech', 'techno', 'teen', 'thrash', 'top', 'traditional',\n       'tradjazz', 'trance', 'tribal', 'trip', 'triphop', 'tropical',\n       'türk', 'türkçe', 'ukrrock', 'unknown', 'urban', 'uzbek',\n       'variété', 'vi', 'videogame', 'vocal', 'western', 'world',\n       'worldbeat', 'ïîï', 'электроника'], dtype=object)"
     },
     "execution_count": 14,
     "metadata": {},
     "output_type": "execute_result"
    }
   ],
   "source": [
    "# Unique Genre Names\n",
    "df['genre'].sort_values().unique()"
   ]
  },
  {
   "cell_type": "markdown",
   "metadata": {
    "id": "qej-Qmuo_Zct"
   },
   "source": [
    "* *hip*,\n",
    "* *hop*,\n",
    "* *hip-hop*.\n"
   ]
  },
  {
   "cell_type": "code",
   "execution_count": 15,
   "metadata": {
    "id": "ErNDkmns_Zct"
   },
   "outputs": [],
   "source": [
    "# Function to replace implicit duplicates\n",
    "def replace_wrong_genres(wrong_genres, correct_genre):\n",
    "    for wrong_genre in wrong_genres:\n",
    "        df['genre'] = df['genre'].replace(wrong_genre, correct_genre)"
   ]
  },
  {
   "cell_type": "code",
   "execution_count": 16,
   "metadata": {
    "id": "YN5i2hpmSo09"
   },
   "outputs": [],
   "source": [
    "duplicates = ['hip', 'hop', 'hip-hop']\n",
    "name = 'hiphop'\n",
    "replace_wrong_genres(duplicates, name)"
   ]
  },
  {
   "cell_type": "code",
   "execution_count": 17,
   "metadata": {
    "id": "wvixALnFG15m"
   },
   "outputs": [
    {
     "name": "stdout",
     "output_type": "stream",
     "text": [
      "['acid', 'acoustic', 'action', 'adult', 'africa', 'afrikaans', 'alternative', 'alternativepunk', 'ambient', 'americana', 'animated', 'anime', 'arabesk', 'arabic', 'arena', 'argentinetango', 'art', 'audiobook', 'author', 'avantgarde', 'axé', 'baile', 'balkan', 'beats', 'bigroom', 'black', 'bluegrass', 'blues', 'bollywood', 'bossa', 'brazilian', 'breakbeat', 'breaks', 'broadway', 'cantautori', 'cantopop', 'canzone', 'caribbean', 'caucasian', 'celtic', 'chamber', 'chanson', 'children', 'chill', 'chinese', 'choral', 'christian', 'christmas', 'classical', 'classicmetal', 'club', 'colombian', 'comedy', 'conjazz', 'contemporary', 'country', 'cuban', 'dance', 'dancehall', 'dancepop', 'dark', 'death', 'deep', 'deutschrock', 'deutschspr', 'dirty', 'disco', 'dnb', 'documentary', 'downbeat', 'downtempo', 'drum', 'dub', 'dubstep', 'eastern', 'easy', 'electronic', 'electropop', 'emo', 'entehno', 'epicmetal', 'estrada', 'ethnic', 'eurofolk', 'european', 'experimental', 'extrememetal', 'fado', 'fairytail', 'film', 'fitness', 'flamenco', 'folk', 'folklore', 'folkmetal', 'folkrock', 'folktronica', 'forró', 'frankreich', 'französisch', 'french', 'funk', 'future', 'gangsta', 'garage', 'german', 'ghazal', 'gitarre', 'glitch', 'gospel', 'gothic', 'grime', 'grunge', 'gypsy', 'handsup', \"hard'n'heavy\", 'hardcore', 'hardstyle', 'hardtechno', 'hiphop', 'historisch', 'holiday', 'horror', 'house', 'hymn', 'idm', 'independent', 'indian', 'indie', 'indipop', 'industrial', 'inspirational', 'instrumental', 'international', 'irish', 'jam', 'japanese', 'jazz', 'jewish', 'jpop', 'jungle', 'k-pop', 'karadeniz', 'karaoke', 'kayokyoku', 'korean', 'laiko', 'latin', 'latino', 'leftfield', 'local', 'lounge', 'loungeelectronic', 'lovers', 'malaysian', 'mandopop', 'marschmusik', 'meditative', 'mediterranean', 'melodic', 'metal', 'metalcore', 'mexican', 'middle', 'minimal', 'miscellaneous', 'modern', 'mood', 'mpb', 'muslim', 'native', 'neoklassik', 'neue', 'new', 'newage', 'newwave', 'nu', 'nujazz', 'numetal', 'oceania', 'old', 'opera', 'orchestral', 'other', 'piano', 'podcasts', 'pop', 'popdance', 'popelectronic', 'popeurodance', 'poprussian', 'post', 'posthardcore', 'postrock', 'power', 'progmetal', 'progressive', 'psychedelic', 'punjabi', 'punk', 'quebecois', 'ragga', 'ram', 'rancheras', 'rap', 'rave', 'reggae', 'reggaeton', 'regional', 'relax', 'religious', 'retro', 'rhythm', 'rnb', 'rnr', 'rock', 'rockabilly', 'rockalternative', 'rockindie', 'rockother', 'romance', 'roots', 'ruspop', 'rusrap', 'rusrock', 'russian', 'salsa', 'samba', 'scenic', 'schlager', 'self', 'sertanejo', 'shanson', 'shoegazing', 'showtunes', 'singer', 'ska', 'skarock', 'slow', 'smooth', 'soft', 'soul', 'soulful', 'sound', 'soundtrack', 'southern', 'specialty', 'speech', 'spiritual', 'sport', 'stonerrock', 'surf', 'swing', 'synthpop', 'synthrock', 'sängerportrait', 'tango', 'tanzorchester', 'taraftar', 'tatar', 'tech', 'techno', 'teen', 'thrash', 'top', 'traditional', 'tradjazz', 'trance', 'tribal', 'trip', 'triphop', 'tropical', 'türk', 'türkçe', 'ukrrock', 'unknown', 'urban', 'uzbek', 'variété', 'vi', 'videogame', 'vocal', 'western', 'world', 'worldbeat', 'ïîï', 'электроника']\n"
     ]
    }
   ],
   "source": [
    "print(sorted(df['genre'].unique()))"
   ]
  },
  {
   "cell_type": "markdown",
   "metadata": {
    "id": "jz6a9-7HQUDd"
   },
   "source": [
    "**Выводы**\n",
    "\n",
    "Предобработка обнаружила три проблемы в данных:\n",
    "\n",
    "- нарушения в стиле заголовков,\n",
    "- пропущенные значения,\n",
    "- дубликаты — явные и неявные.\n",
    "\n",
    "Вы исправили заголовки, чтобы упростить работу с таблицей. Без дубликатов исследование станет более точным.\n",
    "\n",
    "Пропущенные значения вы заменили на `'unknown'`. Ещё предстоит увидеть, не повредят ли исследованию пропуски в колонке `genre`.\n",
    "\n",
    "Теперь можно перейти к проверке гипотез."
   ]
  },
  {
   "cell_type": "markdown",
   "source": [
    "**Resume**\n",
    "\n",
    "Preprocessing found three problems in the data:\n",
    "\n",
    "- headline style violations,\n",
    "- missing values,\n",
    "- duplicates - explicit and implicit.\n",
    "\n",
    "    + fixed the headers to make the table easier to work with. Without duplicates, the study will become more accurate.\n",
    "\n",
    "    + replaced missing values with `'unknown'`. It remains to be seen whether the gaps in the `genre` column will harm the study."
   ],
   "metadata": {
    "collapsed": false
   }
  },
  {
   "cell_type": "markdown",
   "metadata": {
    "id": "WttZHXH0SqKk"
   },
   "source": [
    "## Hypothesis testing"
   ]
  },
  {
   "cell_type": "markdown",
   "metadata": {
    "id": "Im936VVi_Zcu"
   },
   "source": [
    "### Comparison of user behavior of two capitals"
   ]
  },
  {
   "cell_type": "markdown",
   "metadata": {
    "id": "nwt_MuaL_Zcu"
   },
   "source": [
    "The first hypothesis states that users listen to music differently in Moscow and St. Petersburg. Check this assumption against the data on the three days of the week - Monday, Wednesday and Friday. For this:\n",
    "\n",
    "* Separate Moscow and St. Petersburg users\n",
    "* Compare how many tracks each user group listened to on Monday, Wednesday and Friday."
   ]
  },
  {
   "cell_type": "code",
   "execution_count": 18,
   "metadata": {
    "id": "0_Qs96oh_Zcu"
   },
   "outputs": [
    {
     "data": {
      "text/plain": "city\nMoscow              42741\nSaint-Petersburg    18512\nName: track, dtype: int64"
     },
     "execution_count": 18,
     "metadata": {},
     "output_type": "execute_result"
    }
   ],
   "source": [
    "df.groupby('city')['track'].count()"
   ]
  },
  {
   "cell_type": "markdown",
   "metadata": {
    "id": "dzli3w8o_Zcu"
   },
   "source": [
    "There are more listening in Moscow than in St. Petersburg. It does not follow from this that Moscow users listen to music more often. There are simply more users in Moscow."
   ]
  },
  {
   "cell_type": "code",
   "execution_count": 19,
   "metadata": {
    "id": "uZMKjiJz_Zcu"
   },
   "outputs": [
    {
     "data": {
      "text/plain": "day\nFriday       21840\nMonday       21354\nWednesday    18059\nName: track, dtype: int64"
     },
     "execution_count": 19,
     "metadata": {},
     "output_type": "execute_result"
    }
   ],
   "source": [
    "df.groupby('day')['track'].count()"
   ]
  },
  {
   "cell_type": "markdown",
   "metadata": {
    "id": "cC2tNrlL_Zcu"
   },
   "source": [
    "On average, users from both cities are less active on Wednesdays. But the picture may change if we consider each city separately."
   ]
  },
  {
   "cell_type": "code",
   "execution_count": 20,
   "metadata": {
    "id": "Nz3GdQB1_Zcu"
   },
   "outputs": [],
   "source": [
    "def number_tracks(day, city):\n",
    "    track_list = df[df['day'] == day]\n",
    "    track_list = track_list[track_list['city'] == city]\n",
    "    track_list_count = track_list['user_id'].count()\n",
    "    return track_list_count"
   ]
  },
  {
   "cell_type": "code",
   "execution_count": 21,
   "metadata": {
    "id": "8_yzFtW3_Zcu"
   },
   "outputs": [],
   "source": [
    "monday_m = number_tracks('Monday', 'Moscow')\n",
    "monday_spb = number_tracks('Monday', 'Saint-Petersburg')\n",
    "wedn_m = number_tracks('Wednesday', 'Moscow')\n",
    "wedn_spb = number_tracks('Wednesday', 'Saint-Petersburg')\n",
    "friday_m = number_tracks('Friday', 'Moscow')\n",
    "friday_spb = number_tracks('Friday', 'Saint-Petersburg')"
   ]
  },
  {
   "cell_type": "code",
   "execution_count": 22,
   "metadata": {
    "id": "APAcLpOr_Zcu"
   },
   "outputs": [
    {
     "data": {
      "text/plain": "               city  monday  wednesday  friday\n0            Moscow   15740      11056   15945\n1  Saint-Petersburg    5614       7003    5895",
      "text/html": "<div>\n<style scoped>\n    .dataframe tbody tr th:only-of-type {\n        vertical-align: middle;\n    }\n\n    .dataframe tbody tr th {\n        vertical-align: top;\n    }\n\n    .dataframe thead th {\n        text-align: right;\n    }\n</style>\n<table border=\"1\" class=\"dataframe\">\n  <thead>\n    <tr style=\"text-align: right;\">\n      <th></th>\n      <th>city</th>\n      <th>monday</th>\n      <th>wednesday</th>\n      <th>friday</th>\n    </tr>\n  </thead>\n  <tbody>\n    <tr>\n      <th>0</th>\n      <td>Moscow</td>\n      <td>15740</td>\n      <td>11056</td>\n      <td>15945</td>\n    </tr>\n    <tr>\n      <th>1</th>\n      <td>Saint-Petersburg</td>\n      <td>5614</td>\n      <td>7003</td>\n      <td>5895</td>\n    </tr>\n  </tbody>\n</table>\n</div>"
     },
     "execution_count": 22,
     "metadata": {},
     "output_type": "execute_result"
    }
   ],
   "source": [
    "entries = ['city', 'monday', 'wednesday', 'friday']\n",
    "number = [['Moscow', monday_m, wedn_m, friday_m,], \n",
    "          ['Saint-Petersburg', monday_spb, wedn_spb, friday_spb]]\n",
    "\n",
    "tracks = pd.DataFrame(data = number, columns = entries)\n",
    "tracks"
   ]
  },
  {
   "cell_type": "markdown",
   "metadata": {
    "id": "-EgPIHYu_Zcu"
   },
   "source": [
    "**Resume**\n",
    "\n",
    "The data shows the difference in user behavior:\n",
    "\n",
    "- In Moscow, the peak of listening falls on Monday and Friday, but there is a noticeable decline on Wednesday.\n",
    "- In St. Petersburg, on the contrary, people listen to music more on Wednesdays. Activity on Monday and Friday is almost equally inferior to Wednesday.\n",
    "\n",
    "So the data support the first hypothesis."
   ]
  },
  {
   "cell_type": "markdown",
   "metadata": {
    "id": "atZAxtq4_Zcu"
   },
   "source": [
    "### Music at the beginning and end of the week"
   ]
  },
  {
   "cell_type": "markdown",
   "metadata": {
    "id": "eXrQqXFH_Zcu"
   },
   "source": [
    "Second hypothesis:\n",
    "\n",
    "on Monday morning certain genres predominate in Moscow, while others dominate in St. Petersburg. Similarly, Friday evenings are dominated by different genres, depending on the city."
   ]
  },
  {
   "cell_type": "code",
   "execution_count": 23,
   "metadata": {
    "id": "qeaFfM_P_Zcu"
   },
   "outputs": [
    {
     "data": {
      "text/plain": "    user_id                        track            artist   genre    city  \\\n1  55204538  Delayed Because of Accident  Andreas Rönnberg    rock  Moscow   \n4  E2DC1FAE                  Soul People        Space Echo   dance  Moscow   \n6  4CB90AA5                         True      Roman Messer   dance  Moscow   \n7  F03E1C1F             Feeling This Way   Polina Griffith   dance  Moscow   \n8  8FA1D3BE     И вновь продолжается бой           unknown  ruspop  Moscow   \n\n  start_time        day  \n1   14:07:09     Friday  \n4   08:34:34     Monday  \n6   13:00:07  Wednesday  \n7   20:47:49  Wednesday  \n8   09:17:40     Friday  ",
      "text/html": "<div>\n<style scoped>\n    .dataframe tbody tr th:only-of-type {\n        vertical-align: middle;\n    }\n\n    .dataframe tbody tr th {\n        vertical-align: top;\n    }\n\n    .dataframe thead th {\n        text-align: right;\n    }\n</style>\n<table border=\"1\" class=\"dataframe\">\n  <thead>\n    <tr style=\"text-align: right;\">\n      <th></th>\n      <th>user_id</th>\n      <th>track</th>\n      <th>artist</th>\n      <th>genre</th>\n      <th>city</th>\n      <th>start_time</th>\n      <th>day</th>\n    </tr>\n  </thead>\n  <tbody>\n    <tr>\n      <th>1</th>\n      <td>55204538</td>\n      <td>Delayed Because of Accident</td>\n      <td>Andreas Rönnberg</td>\n      <td>rock</td>\n      <td>Moscow</td>\n      <td>14:07:09</td>\n      <td>Friday</td>\n    </tr>\n    <tr>\n      <th>4</th>\n      <td>E2DC1FAE</td>\n      <td>Soul People</td>\n      <td>Space Echo</td>\n      <td>dance</td>\n      <td>Moscow</td>\n      <td>08:34:34</td>\n      <td>Monday</td>\n    </tr>\n    <tr>\n      <th>6</th>\n      <td>4CB90AA5</td>\n      <td>True</td>\n      <td>Roman Messer</td>\n      <td>dance</td>\n      <td>Moscow</td>\n      <td>13:00:07</td>\n      <td>Wednesday</td>\n    </tr>\n    <tr>\n      <th>7</th>\n      <td>F03E1C1F</td>\n      <td>Feeling This Way</td>\n      <td>Polina Griffith</td>\n      <td>dance</td>\n      <td>Moscow</td>\n      <td>20:47:49</td>\n      <td>Wednesday</td>\n    </tr>\n    <tr>\n      <th>8</th>\n      <td>8FA1D3BE</td>\n      <td>И вновь продолжается бой</td>\n      <td>unknown</td>\n      <td>ruspop</td>\n      <td>Moscow</td>\n      <td>09:17:40</td>\n      <td>Friday</td>\n    </tr>\n  </tbody>\n</table>\n</div>"
     },
     "execution_count": 23,
     "metadata": {},
     "output_type": "execute_result"
    }
   ],
   "source": [
    "moscow_general = df[df['city'] == 'Moscow']\n",
    "moscow_general.head()"
   ]
  },
  {
   "cell_type": "code",
   "execution_count": 24,
   "metadata": {
    "id": "ORaVRKto_Zcu"
   },
   "outputs": [
    {
     "data": {
      "text/plain": "    user_id                  track            artist   genre  \\\n0  FFB692EC      Kamigata To Boots  The Mass Missile    rock   \n2    20EC38      Funiculì funiculà       Mario Lanza     pop   \n3  A3DD03C9  Dragons in the Sunset        Fire + Ice    folk   \n5  842029A1              Преданная         IMPERVTOR  rusrap   \n9  E772D5C0              Pessimist           unknown   dance   \n\n               city start_time        day  \n0  Saint-Petersburg   20:28:33  Wednesday  \n2  Saint-Petersburg   20:58:07  Wednesday  \n3  Saint-Petersburg   08:37:09     Monday  \n5  Saint-Petersburg   13:09:41     Friday  \n9  Saint-Petersburg   21:20:49  Wednesday  ",
      "text/html": "<div>\n<style scoped>\n    .dataframe tbody tr th:only-of-type {\n        vertical-align: middle;\n    }\n\n    .dataframe tbody tr th {\n        vertical-align: top;\n    }\n\n    .dataframe thead th {\n        text-align: right;\n    }\n</style>\n<table border=\"1\" class=\"dataframe\">\n  <thead>\n    <tr style=\"text-align: right;\">\n      <th></th>\n      <th>user_id</th>\n      <th>track</th>\n      <th>artist</th>\n      <th>genre</th>\n      <th>city</th>\n      <th>start_time</th>\n      <th>day</th>\n    </tr>\n  </thead>\n  <tbody>\n    <tr>\n      <th>0</th>\n      <td>FFB692EC</td>\n      <td>Kamigata To Boots</td>\n      <td>The Mass Missile</td>\n      <td>rock</td>\n      <td>Saint-Petersburg</td>\n      <td>20:28:33</td>\n      <td>Wednesday</td>\n    </tr>\n    <tr>\n      <th>2</th>\n      <td>20EC38</td>\n      <td>Funiculì funiculà</td>\n      <td>Mario Lanza</td>\n      <td>pop</td>\n      <td>Saint-Petersburg</td>\n      <td>20:58:07</td>\n      <td>Wednesday</td>\n    </tr>\n    <tr>\n      <th>3</th>\n      <td>A3DD03C9</td>\n      <td>Dragons in the Sunset</td>\n      <td>Fire + Ice</td>\n      <td>folk</td>\n      <td>Saint-Petersburg</td>\n      <td>08:37:09</td>\n      <td>Monday</td>\n    </tr>\n    <tr>\n      <th>5</th>\n      <td>842029A1</td>\n      <td>Преданная</td>\n      <td>IMPERVTOR</td>\n      <td>rusrap</td>\n      <td>Saint-Petersburg</td>\n      <td>13:09:41</td>\n      <td>Friday</td>\n    </tr>\n    <tr>\n      <th>9</th>\n      <td>E772D5C0</td>\n      <td>Pessimist</td>\n      <td>unknown</td>\n      <td>dance</td>\n      <td>Saint-Petersburg</td>\n      <td>21:20:49</td>\n      <td>Wednesday</td>\n    </tr>\n  </tbody>\n</table>\n</div>"
     },
     "execution_count": 24,
     "metadata": {},
     "output_type": "execute_result"
    }
   ],
   "source": [
    "spb_general = df[df['city'] == 'Saint-Petersburg']\n",
    "spb_general.head()"
   ]
  },
  {
   "cell_type": "code",
   "execution_count": 25,
   "metadata": {
    "id": "laJT9BYl_Zcu"
   },
   "outputs": [],
   "source": [
    "def genre_weekday(table, day, time1, time2):\n",
    "    genre_df = table[table['day'] == day]\n",
    "    genre_df = genre_df[(genre_df['start_time'] > time1) & (genre_df['start_time'] < time2)]\n",
    "    genre_df_count = genre_df.groupby('genre')['genre'].count()\n",
    "    genre_df_sorted = genre_df_count.sort_values(ascending=False)\n",
    "    return display(genre_df_sorted.head(10))\n"
   ]
  },
  {
   "cell_type": "code",
   "execution_count": 26,
   "metadata": {
    "id": "yz7itPUQ_Zcu",
    "scrolled": true
   },
   "outputs": [
    {
     "data": {
      "text/plain": "genre\npop            781\ndance          549\nelectronic     480\nrock           474\nhiphop         286\nruspop         186\nworld          181\nrusrap         175\nalternative    164\nunknown        161\nName: genre, dtype: int64"
     },
     "metadata": {},
     "output_type": "display_data"
    }
   ],
   "source": [
    "genre_weekday(moscow_general, 'Monday', '07:00', '11:00')"
   ]
  },
  {
   "cell_type": "code",
   "execution_count": 27,
   "metadata": {
    "id": "kwUcHPdy_Zcu"
   },
   "outputs": [
    {
     "data": {
      "text/plain": "genre\npop            218\ndance          182\nrock           162\nelectronic     147\nhiphop          80\nruspop          64\nalternative     58\nrusrap          55\njazz            44\nclassical       40\nName: genre, dtype: int64"
     },
     "metadata": {},
     "output_type": "display_data"
    }
   ],
   "source": [
    "genre_weekday(spb_general, 'Monday', '07:00', '11:00')"
   ]
  },
  {
   "cell_type": "code",
   "execution_count": 28,
   "metadata": {
    "id": "EzXVRE1o_Zcu"
   },
   "outputs": [
    {
     "data": {
      "text/plain": "genre\npop            713\nrock           517\ndance          495\nelectronic     482\nhiphop         273\nworld          208\nruspop         170\nalternative    163\nclassical      163\nrusrap         142\nName: genre, dtype: int64"
     },
     "metadata": {},
     "output_type": "display_data"
    }
   ],
   "source": [
    "genre_weekday(moscow_general, 'Friday', '17:00', '23:00')"
   ]
  },
  {
   "cell_type": "code",
   "execution_count": 29,
   "metadata": {
    "id": "JZaEKu5v_Zcu"
   },
   "outputs": [
    {
     "data": {
      "text/plain": "genre\npop            256\nelectronic     216\nrock           216\ndance          210\nhiphop          97\nalternative     63\njazz            61\nclassical       60\nrusrap          59\nworld           54\nName: genre, dtype: int64"
     },
     "metadata": {},
     "output_type": "display_data"
    }
   ],
   "source": [
    "genre_weekday(spb_general, 'Friday', '17:00', '23:00')"
   ]
  },
  {
   "cell_type": "markdown",
   "source": [
    "**Resume**\n",
    "\n",
    "1. In Moscow and St. Petersburg citisens listen to similar music. The only difference is that the Moscow rating includes the “world” genre, while the St. Petersburg rating includes jazz and classical.\n",
    "\n",
    "2. There were so many missing values in Moscow that the value `'unknown'` took tenth place among the most popular genres. This means that missing values occupy a significant share in the data and threaten the reliability of the study.\n",
    "\n",
    "Friday night does not change this picture. Some genres rise a little higher, others go down, but overall the top 10 stays the same.\n",
    "\n",
    "Thus, the second hypothesis was only partially confirmed:\n",
    "* Users listen to similar music at the beginning of the week and at the end.\n",
    "* The difference between Moscow and St. Petersburg is not very pronounced. In Moscow, they listen to Russian popular music more often, in St. Petersburg - jazz.\n",
    "\n",
    "However, gaps in the data cast doubt on this result. There are so many of them in Moscow that the top 10 ranking could look different if it were not for the lost genre data."
   ],
   "metadata": {
    "collapsed": false
   }
  },
  {
   "cell_type": "markdown",
   "metadata": {
    "id": "JolODAqr_Zcu"
   },
   "source": [
    "### Genre preferences in Moscow and St. Petersburg"
   ]
  },
  {
   "cell_type": "markdown",
   "metadata": {
    "id": "DlegSvaT_Zcu"
   },
   "source": [
    "Сгруппируйте таблицу `moscow_general` по жанру и посчитайте прослушивания треков каждого жанра методом `count()`. Затем отсортируйте результат в порядке убывания и сохраните его в таблице `moscow_genres`."
   ]
  },
  {
   "cell_type": "markdown",
   "source": [
    "Hypothesis:\n",
    "\n",
    "St. Petersburg is the capital of rap, the music of this genre is listened to more often than in Moscow.\n",
    "\n",
    "Moscow is a city of contrasts, which, nevertheless, is dominated by pop music."
   ],
   "metadata": {
    "collapsed": false
   }
  },
  {
   "cell_type": "code",
   "execution_count": 30,
   "metadata": {
    "id": "r19lIPke_Zcu"
   },
   "outputs": [
    {
     "data": {
      "text/plain": "genre\npop            5892\ndance          4435\nrock           3965\nelectronic     3786\nhiphop         2096\nclassical      1616\nworld          1432\nalternative    1379\nruspop         1372\nrusrap         1161\nName: genre, dtype: int64"
     },
     "execution_count": 30,
     "metadata": {},
     "output_type": "execute_result"
    }
   ],
   "source": [
    "moscow_genres = moscow_general.groupby('genre')['genre'].count().sort_values(ascending=False)\n",
    "moscow_genres.head(10)"
   ]
  },
  {
   "cell_type": "code",
   "execution_count": 31,
   "metadata": {
    "id": "gluLIpE7_Zcv"
   },
   "outputs": [
    {
     "data": {
      "text/plain": "genre\npop            2431\ndance          1932\nrock           1879\nelectronic     1736\nhiphop          960\nalternative     649\nclassical       646\nrusrap          564\nruspop          538\nworld           515\nName: genre, dtype: int64"
     },
     "execution_count": 31,
     "metadata": {},
     "output_type": "execute_result"
    }
   ],
   "source": [
    "spb_genres = spb_general.groupby('genre')['genre'].count().sort_values(ascending=False)\n",
    "spb_genres.head(10)"
   ]
  },
  {
   "cell_type": "markdown",
   "metadata": {
    "id": "nVhnJEm__Zcv"
   },
   "source": [
    "**Resume**\n",
    "\n",
    "The hypothesis was partially confirmed:\n",
    "* Pop music is the most popular genre in Moscow, as the hypothesis suggested. Moreover, in the top 10 genres there is a close genre - Russian popular music.\n",
    "* Contrary to expectations, rap is equally popular in Moscow and St. Petersburg."
   ]
  },
  {
   "cell_type": "markdown",
   "metadata": {
    "id": "ykKQ0N65_Zcv"
   },
   "source": [
    "## Conclusions"
   ]
  },
  {
   "cell_type": "markdown",
   "metadata": {
    "id": "tjUwbHb3_Zcv"
   },
   "source": [
    "We tested three hypotheses and found:\n",
    "\n",
    "1. The day of the week has a different effect on the activity of users in Moscow and St. Petersburg.\n",
    "\n",
    "The first hypothesis was fully confirmed.\n",
    "\n",
    "\n",
    "2. Musical preferences do not change much during the week - be it Moscow or St. Petersburg. Small differences are noticeable at the beginning of the week, on Mondays:\n",
    "* in Moscow they listen to music of the “world” genre,\n",
    "* in St. Petersburg - jazz and classical music.\n",
    "\n",
    "Thus, the second hypothesis was only partly confirmed. This result could have been different were it not for gaps in the data.\n",
    "\n",
    "\n",
    "3. The tastes of users of Moscow and St. Petersburg have more in common than differences. Contrary to expectations, genre preferences in St. Petersburg resemble those in Moscow.\n",
    "\n",
    "The third hypothesis was not confirmed. If there are differences in preferences, they are invisible to the bulk of users."
   ]
  },
  {
   "cell_type": "code",
   "execution_count": 31,
   "outputs": [],
   "source": [],
   "metadata": {
    "collapsed": false
   }
  }
 ],
 "metadata": {
  "ExecuteTimeLog": [
   {
    "duration": 270,
    "start_time": "2022-01-21T19:59:01.885Z"
   },
   {
    "duration": 555,
    "start_time": "2022-01-21T19:59:33.075Z"
   },
   {
    "duration": 2,
    "start_time": "2022-01-21T19:59:48.578Z"
   },
   {
    "duration": 634,
    "start_time": "2022-01-22T08:21:41.023Z"
   },
   {
    "duration": 142,
    "start_time": "2022-01-22T08:21:49.395Z"
   },
   {
    "duration": 19,
    "start_time": "2022-01-22T10:13:39.845Z"
   },
   {
    "duration": 48,
    "start_time": "2022-01-22T10:14:01.670Z"
   },
   {
    "duration": 4,
    "start_time": "2022-01-22T10:35:02.189Z"
   },
   {
    "duration": 23,
    "start_time": "2022-01-22T10:40:03.042Z"
   },
   {
    "duration": 4,
    "start_time": "2022-01-22T10:40:07.105Z"
   },
   {
    "duration": 22,
    "start_time": "2022-01-22T10:41:08.941Z"
   },
   {
    "duration": 17,
    "start_time": "2022-01-22T10:44:38.250Z"
   },
   {
    "duration": 24,
    "start_time": "2022-01-22T10:44:40.029Z"
   },
   {
    "duration": 58,
    "start_time": "2022-01-22T10:46:27.145Z"
   },
   {
    "duration": 61,
    "start_time": "2022-01-22T10:46:41.483Z"
   },
   {
    "duration": 54,
    "start_time": "2022-01-22T10:46:47.980Z"
   },
   {
    "duration": 66,
    "start_time": "2022-01-22T10:47:46.309Z"
   },
   {
    "duration": 63,
    "start_time": "2022-01-22T10:48:00.144Z"
   },
   {
    "duration": 266,
    "start_time": "2022-01-22T10:48:14.926Z"
   },
   {
    "duration": 207,
    "start_time": "2022-01-22T10:49:38.597Z"
   },
   {
    "duration": 273,
    "start_time": "2022-01-22T10:54:11.261Z"
   },
   {
    "duration": 603,
    "start_time": "2022-01-22T10:55:22.533Z"
   },
   {
    "duration": 640,
    "start_time": "2022-01-22T10:55:53.145Z"
   },
   {
    "duration": 130,
    "start_time": "2022-01-22T10:55:53.787Z"
   },
   {
    "duration": 16,
    "start_time": "2022-01-22T10:55:53.919Z"
   },
   {
    "duration": 58,
    "start_time": "2022-01-22T10:55:53.937Z"
   },
   {
    "duration": 41,
    "start_time": "2022-01-22T10:55:53.997Z"
   },
   {
    "duration": 84,
    "start_time": "2022-01-22T10:55:54.040Z"
   },
   {
    "duration": 61,
    "start_time": "2022-01-22T10:55:54.126Z"
   },
   {
    "duration": 54,
    "start_time": "2022-01-22T10:55:54.189Z"
   },
   {
    "duration": 60,
    "start_time": "2022-01-22T10:55:54.246Z"
   },
   {
    "duration": 64,
    "start_time": "2022-01-22T10:55:54.308Z"
   },
   {
    "duration": 125,
    "start_time": "2022-01-22T10:55:54.374Z"
   },
   {
    "duration": 68,
    "start_time": "2022-01-22T10:55:54.501Z"
   },
   {
    "duration": 3,
    "start_time": "2022-01-22T10:55:54.570Z"
   },
   {
    "duration": 105,
    "start_time": "2022-01-22T10:55:54.574Z"
   },
   {
    "duration": 78,
    "start_time": "2022-01-22T10:55:54.681Z"
   },
   {
    "duration": 59,
    "start_time": "2022-01-22T10:55:54.761Z"
   },
   {
    "duration": 50,
    "start_time": "2022-01-22T10:55:54.822Z"
   },
   {
    "duration": 20,
    "start_time": "2022-01-22T10:55:54.874Z"
   },
   {
    "duration": 40,
    "start_time": "2022-01-22T10:55:54.896Z"
   },
   {
    "duration": 59,
    "start_time": "2022-01-22T10:55:54.937Z"
   },
   {
    "duration": 57,
    "start_time": "2022-01-22T10:55:54.997Z"
   },
   {
    "duration": 43,
    "start_time": "2022-01-22T10:55:55.055Z"
   },
   {
    "duration": 59,
    "start_time": "2022-01-22T10:55:55.100Z"
   },
   {
    "duration": 44,
    "start_time": "2022-01-22T10:55:55.161Z"
   },
   {
    "duration": 44,
    "start_time": "2022-01-22T10:55:55.207Z"
   },
   {
    "duration": 84,
    "start_time": "2022-01-22T10:55:55.252Z"
   },
   {
    "duration": 63,
    "start_time": "2022-01-22T10:55:55.339Z"
   },
   {
    "duration": 27,
    "start_time": "2022-01-22T10:55:55.404Z"
   },
   {
    "duration": 118,
    "start_time": "2022-01-22T10:55:55.433Z"
   },
   {
    "duration": 53,
    "start_time": "2022-01-22T10:55:55.552Z"
   },
   {
    "duration": 45,
    "start_time": "2022-01-22T10:55:55.607Z"
   },
   {
    "duration": 32,
    "start_time": "2022-01-22T10:55:55.654Z"
   },
   {
    "duration": 54,
    "start_time": "2022-01-22T10:55:55.688Z"
   },
   {
    "duration": 25,
    "start_time": "2022-01-22T10:55:55.744Z"
   },
   {
    "duration": 41,
    "start_time": "2022-01-22T10:55:55.771Z"
   },
   {
    "duration": 61,
    "start_time": "2022-01-22T10:55:55.814Z"
   },
   {
    "duration": 47,
    "start_time": "2022-01-22T10:55:55.877Z"
   },
   {
    "duration": 60,
    "start_time": "2022-01-22T10:55:55.926Z"
   },
   {
    "duration": 63,
    "start_time": "2022-01-22T10:56:34.862Z"
   },
   {
    "duration": 4,
    "start_time": "2022-01-22T10:56:46.392Z"
   },
   {
    "duration": 196,
    "start_time": "2022-01-22T10:56:46.399Z"
   },
   {
    "duration": 10,
    "start_time": "2022-01-22T10:56:46.598Z"
   },
   {
    "duration": 62,
    "start_time": "2022-01-22T10:56:46.610Z"
   },
   {
    "duration": 35,
    "start_time": "2022-01-22T10:56:46.674Z"
   },
   {
    "duration": 46,
    "start_time": "2022-01-22T10:56:46.711Z"
   },
   {
    "duration": 27,
    "start_time": "2022-01-22T10:56:46.759Z"
   },
   {
    "duration": 70,
    "start_time": "2022-01-22T10:56:46.789Z"
   },
   {
    "duration": 55,
    "start_time": "2022-01-22T10:56:46.861Z"
   },
   {
    "duration": 58,
    "start_time": "2022-01-22T10:56:46.918Z"
   },
   {
    "duration": 83,
    "start_time": "2022-01-22T10:56:46.977Z"
   },
   {
    "duration": 57,
    "start_time": "2022-01-22T10:56:47.062Z"
   },
   {
    "duration": 57,
    "start_time": "2022-01-22T10:56:47.121Z"
   },
   {
    "duration": 2,
    "start_time": "2022-01-22T10:56:47.179Z"
   },
   {
    "duration": 40,
    "start_time": "2022-01-22T10:56:47.182Z"
   },
   {
    "duration": 40,
    "start_time": "2022-01-22T10:56:47.224Z"
   },
   {
    "duration": 30,
    "start_time": "2022-01-22T10:56:47.266Z"
   },
   {
    "duration": 54,
    "start_time": "2022-01-22T10:56:47.297Z"
   },
   {
    "duration": 23,
    "start_time": "2022-01-22T10:56:47.352Z"
   },
   {
    "duration": 40,
    "start_time": "2022-01-22T10:56:47.377Z"
   },
   {
    "duration": 46,
    "start_time": "2022-01-22T10:56:47.419Z"
   },
   {
    "duration": 38,
    "start_time": "2022-01-22T10:56:47.466Z"
   },
   {
    "duration": 43,
    "start_time": "2022-01-22T10:56:47.508Z"
   },
   {
    "duration": 39,
    "start_time": "2022-01-22T10:56:47.553Z"
   },
   {
    "duration": 34,
    "start_time": "2022-01-22T10:56:47.594Z"
   },
   {
    "duration": 44,
    "start_time": "2022-01-22T10:56:47.629Z"
   },
   {
    "duration": 38,
    "start_time": "2022-01-22T10:56:47.676Z"
   },
   {
    "duration": 28,
    "start_time": "2022-01-22T10:56:47.716Z"
   },
   {
    "duration": 32,
    "start_time": "2022-01-22T10:56:47.746Z"
   },
   {
    "duration": 18,
    "start_time": "2022-01-22T10:56:47.780Z"
   },
   {
    "duration": 71,
    "start_time": "2022-01-22T10:56:47.799Z"
   },
   {
    "duration": 20,
    "start_time": "2022-01-22T10:56:47.872Z"
   },
   {
    "duration": 46,
    "start_time": "2022-01-22T10:56:47.894Z"
   },
   {
    "duration": 43,
    "start_time": "2022-01-22T10:56:47.941Z"
   },
   {
    "duration": 49,
    "start_time": "2022-01-22T10:56:47.985Z"
   },
   {
    "duration": 43,
    "start_time": "2022-01-22T10:56:48.035Z"
   },
   {
    "duration": 37,
    "start_time": "2022-01-22T10:56:48.080Z"
   },
   {
    "duration": 34,
    "start_time": "2022-01-22T10:56:48.119Z"
   },
   {
    "duration": 554,
    "start_time": "2022-01-22T10:57:04.494Z"
   },
   {
    "duration": 139,
    "start_time": "2022-01-22T10:57:05.050Z"
   },
   {
    "duration": 17,
    "start_time": "2022-01-22T10:57:05.192Z"
   },
   {
    "duration": 55,
    "start_time": "2022-01-22T10:57:05.211Z"
   },
   {
    "duration": 32,
    "start_time": "2022-01-22T10:57:05.267Z"
   },
   {
    "duration": 58,
    "start_time": "2022-01-22T10:57:05.301Z"
   },
   {
    "duration": 51,
    "start_time": "2022-01-22T10:57:05.361Z"
   },
   {
    "duration": 53,
    "start_time": "2022-01-22T10:57:05.415Z"
   },
   {
    "duration": 46,
    "start_time": "2022-01-22T10:57:05.470Z"
   },
   {
    "duration": 60,
    "start_time": "2022-01-22T10:57:05.517Z"
   },
   {
    "duration": 101,
    "start_time": "2022-01-22T10:57:05.579Z"
   },
   {
    "duration": 64,
    "start_time": "2022-01-22T10:57:05.682Z"
   },
   {
    "duration": 50,
    "start_time": "2022-01-22T10:57:05.760Z"
   },
   {
    "duration": 2,
    "start_time": "2022-01-22T10:57:05.812Z"
   },
   {
    "duration": 32,
    "start_time": "2022-01-22T10:57:05.816Z"
   },
   {
    "duration": 33,
    "start_time": "2022-01-22T10:57:05.849Z"
   },
   {
    "duration": 36,
    "start_time": "2022-01-22T10:57:05.883Z"
   },
   {
    "duration": 43,
    "start_time": "2022-01-22T10:57:05.920Z"
   },
   {
    "duration": 33,
    "start_time": "2022-01-22T10:57:05.965Z"
   },
   {
    "duration": 54,
    "start_time": "2022-01-22T10:57:06.000Z"
   },
   {
    "duration": 53,
    "start_time": "2022-01-22T10:57:06.056Z"
   },
   {
    "duration": 40,
    "start_time": "2022-01-22T10:57:06.111Z"
   },
   {
    "duration": 38,
    "start_time": "2022-01-22T10:57:06.154Z"
   },
   {
    "duration": 40,
    "start_time": "2022-01-22T10:57:06.194Z"
   },
   {
    "duration": 39,
    "start_time": "2022-01-22T10:57:06.236Z"
   },
   {
    "duration": 62,
    "start_time": "2022-01-22T10:57:06.277Z"
   },
   {
    "duration": 39,
    "start_time": "2022-01-22T10:57:06.341Z"
   },
   {
    "duration": 31,
    "start_time": "2022-01-22T10:57:06.381Z"
   },
   {
    "duration": 37,
    "start_time": "2022-01-22T10:57:06.413Z"
   },
   {
    "duration": 39,
    "start_time": "2022-01-22T10:57:06.452Z"
   },
   {
    "duration": 46,
    "start_time": "2022-01-22T10:57:06.493Z"
   },
   {
    "duration": 47,
    "start_time": "2022-01-22T10:57:06.541Z"
   },
   {
    "duration": 56,
    "start_time": "2022-01-22T10:57:06.590Z"
   },
   {
    "duration": 53,
    "start_time": "2022-01-22T10:57:06.649Z"
   },
   {
    "duration": 32,
    "start_time": "2022-01-22T10:57:06.705Z"
   },
   {
    "duration": 31,
    "start_time": "2022-01-22T10:57:06.739Z"
   },
   {
    "duration": 29,
    "start_time": "2022-01-22T10:57:06.773Z"
   },
   {
    "duration": 36,
    "start_time": "2022-01-22T10:57:06.804Z"
   },
   {
    "duration": 50,
    "start_time": "2022-01-22T10:57:31.399Z"
   },
   {
    "duration": 3,
    "start_time": "2022-01-22T10:58:16.650Z"
   },
   {
    "duration": 220,
    "start_time": "2022-01-22T10:58:16.655Z"
   },
   {
    "duration": 13,
    "start_time": "2022-01-22T10:58:16.878Z"
   },
   {
    "duration": 66,
    "start_time": "2022-01-22T10:58:16.894Z"
   },
   {
    "duration": 51,
    "start_time": "2022-01-22T10:58:16.962Z"
   },
   {
    "duration": 38,
    "start_time": "2022-01-22T10:58:17.015Z"
   },
   {
    "duration": 28,
    "start_time": "2022-01-22T10:58:17.054Z"
   },
   {
    "duration": 54,
    "start_time": "2022-01-22T10:58:17.085Z"
   },
   {
    "duration": 67,
    "start_time": "2022-01-22T10:58:17.141Z"
   },
   {
    "duration": 49,
    "start_time": "2022-01-22T10:58:17.210Z"
   },
   {
    "duration": 79,
    "start_time": "2022-01-22T10:58:17.262Z"
   },
   {
    "duration": 61,
    "start_time": "2022-01-22T10:58:17.343Z"
   },
   {
    "duration": 55,
    "start_time": "2022-01-22T10:58:17.405Z"
   },
   {
    "duration": 5,
    "start_time": "2022-01-22T10:58:17.462Z"
   },
   {
    "duration": 55,
    "start_time": "2022-01-22T10:58:17.468Z"
   },
   {
    "duration": 48,
    "start_time": "2022-01-22T10:58:17.525Z"
   },
   {
    "duration": 84,
    "start_time": "2022-01-22T10:58:17.575Z"
   },
   {
    "duration": 40,
    "start_time": "2022-01-22T10:58:17.661Z"
   },
   {
    "duration": 50,
    "start_time": "2022-01-22T10:58:17.702Z"
   },
   {
    "duration": 32,
    "start_time": "2022-01-22T10:58:17.754Z"
   },
   {
    "duration": 50,
    "start_time": "2022-01-22T10:58:17.788Z"
   },
   {
    "duration": 39,
    "start_time": "2022-01-22T10:58:17.839Z"
   },
   {
    "duration": 79,
    "start_time": "2022-01-22T10:58:17.881Z"
   },
   {
    "duration": 47,
    "start_time": "2022-01-22T10:58:17.962Z"
   },
   {
    "duration": 46,
    "start_time": "2022-01-22T10:58:18.011Z"
   },
   {
    "duration": 56,
    "start_time": "2022-01-22T10:58:18.059Z"
   },
   {
    "duration": 34,
    "start_time": "2022-01-22T10:58:18.117Z"
   },
   {
    "duration": 53,
    "start_time": "2022-01-22T10:58:18.152Z"
   },
   {
    "duration": 67,
    "start_time": "2022-01-22T10:58:18.207Z"
   },
   {
    "duration": 44,
    "start_time": "2022-01-22T10:58:18.275Z"
   },
   {
    "duration": 44,
    "start_time": "2022-01-22T10:58:18.321Z"
   },
   {
    "duration": 41,
    "start_time": "2022-01-22T10:58:18.367Z"
   },
   {
    "duration": 58,
    "start_time": "2022-01-22T10:58:18.410Z"
   },
   {
    "duration": 61,
    "start_time": "2022-01-22T10:58:18.470Z"
   },
   {
    "duration": 40,
    "start_time": "2022-01-22T10:58:18.533Z"
   },
   {
    "duration": 49,
    "start_time": "2022-01-22T10:58:18.574Z"
   },
   {
    "duration": 76,
    "start_time": "2022-01-22T10:58:18.624Z"
   },
   {
    "duration": 37,
    "start_time": "2022-01-22T10:58:18.701Z"
   },
   {
    "duration": 529,
    "start_time": "2022-01-22T10:58:43.499Z"
   },
   {
    "duration": 137,
    "start_time": "2022-01-22T10:58:44.029Z"
   },
   {
    "duration": 16,
    "start_time": "2022-01-22T10:58:44.168Z"
   },
   {
    "duration": 72,
    "start_time": "2022-01-22T10:58:44.186Z"
   },
   {
    "duration": 41,
    "start_time": "2022-01-22T10:58:44.259Z"
   },
   {
    "duration": 55,
    "start_time": "2022-01-22T10:58:44.301Z"
   },
   {
    "duration": 33,
    "start_time": "2022-01-22T10:58:44.358Z"
   },
   {
    "duration": 61,
    "start_time": "2022-01-22T10:58:44.392Z"
   },
   {
    "duration": 59,
    "start_time": "2022-01-22T10:58:44.455Z"
   },
   {
    "duration": 93,
    "start_time": "2022-01-22T10:58:44.516Z"
   },
   {
    "duration": 112,
    "start_time": "2022-01-22T10:58:44.611Z"
   },
   {
    "duration": 71,
    "start_time": "2022-01-22T10:58:44.725Z"
   },
   {
    "duration": 63,
    "start_time": "2022-01-22T10:58:44.798Z"
   },
   {
    "duration": 2,
    "start_time": "2022-01-22T10:58:44.863Z"
   },
   {
    "duration": 44,
    "start_time": "2022-01-22T10:58:44.867Z"
   },
   {
    "duration": 57,
    "start_time": "2022-01-22T10:58:44.913Z"
   },
   {
    "duration": 56,
    "start_time": "2022-01-22T10:58:44.972Z"
   },
   {
    "duration": 36,
    "start_time": "2022-01-22T10:58:45.030Z"
   },
   {
    "duration": 43,
    "start_time": "2022-01-22T10:58:45.068Z"
   },
   {
    "duration": 43,
    "start_time": "2022-01-22T10:58:45.113Z"
   },
   {
    "duration": 45,
    "start_time": "2022-01-22T10:58:45.158Z"
   },
   {
    "duration": 48,
    "start_time": "2022-01-22T10:58:45.205Z"
   },
   {
    "duration": 95,
    "start_time": "2022-01-22T10:58:45.255Z"
   },
   {
    "duration": 74,
    "start_time": "2022-01-22T10:58:45.352Z"
   },
   {
    "duration": 44,
    "start_time": "2022-01-22T10:58:45.428Z"
   },
   {
    "duration": 49,
    "start_time": "2022-01-22T10:58:45.474Z"
   },
   {
    "duration": 21,
    "start_time": "2022-01-22T10:58:45.526Z"
   },
   {
    "duration": 35,
    "start_time": "2022-01-22T10:58:45.549Z"
   },
   {
    "duration": 37,
    "start_time": "2022-01-22T10:58:45.586Z"
   },
   {
    "duration": 83,
    "start_time": "2022-01-22T10:58:45.625Z"
   },
   {
    "duration": 61,
    "start_time": "2022-01-22T10:58:45.710Z"
   },
   {
    "duration": 30,
    "start_time": "2022-01-22T10:58:45.773Z"
   },
   {
    "duration": 60,
    "start_time": "2022-01-22T10:58:45.805Z"
   },
   {
    "duration": 34,
    "start_time": "2022-01-22T10:58:45.866Z"
   },
   {
    "duration": 24,
    "start_time": "2022-01-22T10:58:45.902Z"
   },
   {
    "duration": 39,
    "start_time": "2022-01-22T10:58:45.928Z"
   },
   {
    "duration": 20,
    "start_time": "2022-01-22T10:58:45.968Z"
   },
   {
    "duration": 27,
    "start_time": "2022-01-22T10:58:45.990Z"
   },
   {
    "duration": 74,
    "start_time": "2022-01-22T11:03:23.302Z"
   },
   {
    "duration": 642,
    "start_time": "2022-01-22T11:03:40.030Z"
   },
   {
    "duration": 163,
    "start_time": "2022-01-22T11:03:40.674Z"
   },
   {
    "duration": 27,
    "start_time": "2022-01-22T11:03:40.840Z"
   },
   {
    "duration": 63,
    "start_time": "2022-01-22T11:03:40.870Z"
   },
   {
    "duration": 61,
    "start_time": "2022-01-22T11:03:40.935Z"
   },
   {
    "duration": 51,
    "start_time": "2022-01-22T11:03:40.998Z"
   },
   {
    "duration": 27,
    "start_time": "2022-01-22T11:03:41.051Z"
   },
   {
    "duration": 46,
    "start_time": "2022-01-22T11:03:41.081Z"
   },
   {
    "duration": 50,
    "start_time": "2022-01-22T11:03:41.130Z"
   },
   {
    "duration": 53,
    "start_time": "2022-01-22T11:03:41.182Z"
   },
   {
    "duration": 97,
    "start_time": "2022-01-22T11:03:41.237Z"
   },
   {
    "duration": 73,
    "start_time": "2022-01-22T11:03:41.336Z"
   },
   {
    "duration": 60,
    "start_time": "2022-01-22T11:03:41.411Z"
   },
   {
    "duration": 91,
    "start_time": "2022-01-22T11:03:41.473Z"
   },
   {
    "duration": -44,
    "start_time": "2022-01-22T11:03:41.611Z"
   },
   {
    "duration": -46,
    "start_time": "2022-01-22T11:03:41.614Z"
   },
   {
    "duration": -47,
    "start_time": "2022-01-22T11:03:41.616Z"
   },
   {
    "duration": -49,
    "start_time": "2022-01-22T11:03:41.619Z"
   },
   {
    "duration": -50,
    "start_time": "2022-01-22T11:03:41.621Z"
   },
   {
    "duration": -52,
    "start_time": "2022-01-22T11:03:41.623Z"
   },
   {
    "duration": -53,
    "start_time": "2022-01-22T11:03:41.625Z"
   },
   {
    "duration": -54,
    "start_time": "2022-01-22T11:03:41.627Z"
   },
   {
    "duration": -55,
    "start_time": "2022-01-22T11:03:41.629Z"
   },
   {
    "duration": -65,
    "start_time": "2022-01-22T11:03:41.640Z"
   },
   {
    "duration": -65,
    "start_time": "2022-01-22T11:03:41.642Z"
   },
   {
    "duration": -67,
    "start_time": "2022-01-22T11:03:41.645Z"
   },
   {
    "duration": -68,
    "start_time": "2022-01-22T11:03:41.647Z"
   },
   {
    "duration": -71,
    "start_time": "2022-01-22T11:03:41.651Z"
   },
   {
    "duration": -72,
    "start_time": "2022-01-22T11:03:41.653Z"
   },
   {
    "duration": -77,
    "start_time": "2022-01-22T11:03:41.659Z"
   },
   {
    "duration": -78,
    "start_time": "2022-01-22T11:03:41.661Z"
   },
   {
    "duration": -79,
    "start_time": "2022-01-22T11:03:41.663Z"
   },
   {
    "duration": -80,
    "start_time": "2022-01-22T11:03:41.665Z"
   },
   {
    "duration": -82,
    "start_time": "2022-01-22T11:03:41.668Z"
   },
   {
    "duration": -83,
    "start_time": "2022-01-22T11:03:41.670Z"
   },
   {
    "duration": -84,
    "start_time": "2022-01-22T11:03:41.672Z"
   },
   {
    "duration": -86,
    "start_time": "2022-01-22T11:03:41.675Z"
   },
   {
    "duration": -87,
    "start_time": "2022-01-22T11:03:41.677Z"
   },
   {
    "duration": 254,
    "start_time": "2022-01-22T11:04:29.124Z"
   },
   {
    "duration": 609,
    "start_time": "2022-01-22T11:04:46.052Z"
   },
   {
    "duration": 192,
    "start_time": "2022-01-22T11:04:46.664Z"
   },
   {
    "duration": 23,
    "start_time": "2022-01-22T11:04:46.864Z"
   },
   {
    "duration": 56,
    "start_time": "2022-01-22T11:04:46.889Z"
   },
   {
    "duration": 28,
    "start_time": "2022-01-22T11:04:46.947Z"
   },
   {
    "duration": 51,
    "start_time": "2022-01-22T11:04:46.977Z"
   },
   {
    "duration": 25,
    "start_time": "2022-01-22T11:04:47.030Z"
   },
   {
    "duration": 53,
    "start_time": "2022-01-22T11:04:47.057Z"
   },
   {
    "duration": 38,
    "start_time": "2022-01-22T11:04:47.112Z"
   },
   {
    "duration": 48,
    "start_time": "2022-01-22T11:04:47.151Z"
   },
   {
    "duration": 83,
    "start_time": "2022-01-22T11:04:47.201Z"
   },
   {
    "duration": 74,
    "start_time": "2022-01-22T11:04:47.286Z"
   },
   {
    "duration": 52,
    "start_time": "2022-01-22T11:04:47.362Z"
   },
   {
    "duration": 6,
    "start_time": "2022-01-22T11:04:47.416Z"
   },
   {
    "duration": 33,
    "start_time": "2022-01-22T11:04:47.423Z"
   },
   {
    "duration": 45,
    "start_time": "2022-01-22T11:04:47.458Z"
   },
   {
    "duration": 33,
    "start_time": "2022-01-22T11:04:47.505Z"
   },
   {
    "duration": 38,
    "start_time": "2022-01-22T11:04:47.540Z"
   },
   {
    "duration": 30,
    "start_time": "2022-01-22T11:04:47.579Z"
   },
   {
    "duration": 31,
    "start_time": "2022-01-22T11:04:47.610Z"
   },
   {
    "duration": 50,
    "start_time": "2022-01-22T11:04:47.643Z"
   },
   {
    "duration": 25,
    "start_time": "2022-01-22T11:04:47.698Z"
   },
   {
    "duration": 30,
    "start_time": "2022-01-22T11:04:47.725Z"
   },
   {
    "duration": 29,
    "start_time": "2022-01-22T11:04:47.756Z"
   },
   {
    "duration": 35,
    "start_time": "2022-01-22T11:04:47.787Z"
   },
   {
    "duration": 46,
    "start_time": "2022-01-22T11:04:47.824Z"
   },
   {
    "duration": 29,
    "start_time": "2022-01-22T11:04:47.872Z"
   },
   {
    "duration": 39,
    "start_time": "2022-01-22T11:04:47.903Z"
   },
   {
    "duration": 49,
    "start_time": "2022-01-22T11:04:47.944Z"
   },
   {
    "duration": 28,
    "start_time": "2022-01-22T11:04:47.995Z"
   },
   {
    "duration": 41,
    "start_time": "2022-01-22T11:04:48.025Z"
   },
   {
    "duration": 15,
    "start_time": "2022-01-22T11:04:48.068Z"
   },
   {
    "duration": 46,
    "start_time": "2022-01-22T11:04:48.084Z"
   },
   {
    "duration": 36,
    "start_time": "2022-01-22T11:04:48.132Z"
   },
   {
    "duration": 28,
    "start_time": "2022-01-22T11:04:48.170Z"
   },
   {
    "duration": 32,
    "start_time": "2022-01-22T11:04:48.200Z"
   },
   {
    "duration": 38,
    "start_time": "2022-01-22T11:04:48.234Z"
   },
   {
    "duration": 29,
    "start_time": "2022-01-22T11:04:48.273Z"
   },
   {
    "duration": 65,
    "start_time": "2022-01-23T10:34:33.850Z"
   },
   {
    "duration": -48,
    "start_time": "2022-01-23T10:34:33.966Z"
   },
   {
    "duration": -51,
    "start_time": "2022-01-23T10:34:33.970Z"
   },
   {
    "duration": -53,
    "start_time": "2022-01-23T10:34:33.973Z"
   },
   {
    "duration": -71,
    "start_time": "2022-01-23T10:34:33.992Z"
   },
   {
    "duration": -74,
    "start_time": "2022-01-23T10:34:33.996Z"
   },
   {
    "duration": -76,
    "start_time": "2022-01-23T10:34:33.999Z"
   },
   {
    "duration": -79,
    "start_time": "2022-01-23T10:34:34.003Z"
   },
   {
    "duration": -81,
    "start_time": "2022-01-23T10:34:34.006Z"
   },
   {
    "duration": -84,
    "start_time": "2022-01-23T10:34:34.010Z"
   },
   {
    "duration": -90,
    "start_time": "2022-01-23T10:34:34.016Z"
   },
   {
    "duration": -93,
    "start_time": "2022-01-23T10:34:34.020Z"
   },
   {
    "duration": -95,
    "start_time": "2022-01-23T10:34:34.023Z"
   },
   {
    "duration": -97,
    "start_time": "2022-01-23T10:34:34.026Z"
   },
   {
    "duration": -99,
    "start_time": "2022-01-23T10:34:34.029Z"
   },
   {
    "duration": -100,
    "start_time": "2022-01-23T10:34:34.031Z"
   },
   {
    "duration": -102,
    "start_time": "2022-01-23T10:34:34.034Z"
   },
   {
    "duration": -104,
    "start_time": "2022-01-23T10:34:34.037Z"
   },
   {
    "duration": -105,
    "start_time": "2022-01-23T10:34:34.039Z"
   },
   {
    "duration": -116,
    "start_time": "2022-01-23T10:34:34.051Z"
   },
   {
    "duration": -118,
    "start_time": "2022-01-23T10:34:34.054Z"
   },
   {
    "duration": -119,
    "start_time": "2022-01-23T10:34:34.056Z"
   },
   {
    "duration": -122,
    "start_time": "2022-01-23T10:34:34.060Z"
   },
   {
    "duration": -124,
    "start_time": "2022-01-23T10:34:34.063Z"
   },
   {
    "duration": 604,
    "start_time": "2022-01-23T10:35:05.880Z"
   },
   {
    "duration": 145,
    "start_time": "2022-01-23T10:35:06.486Z"
   },
   {
    "duration": 18,
    "start_time": "2022-01-23T10:35:06.633Z"
   },
   {
    "duration": 30,
    "start_time": "2022-01-23T10:35:06.653Z"
   },
   {
    "duration": 4,
    "start_time": "2022-01-23T10:35:06.685Z"
   },
   {
    "duration": 25,
    "start_time": "2022-01-23T10:35:06.691Z"
   },
   {
    "duration": 3,
    "start_time": "2022-01-23T10:35:06.718Z"
   },
   {
    "duration": 50,
    "start_time": "2022-01-23T10:35:06.724Z"
   },
   {
    "duration": 27,
    "start_time": "2022-01-23T10:35:06.777Z"
   },
   {
    "duration": 53,
    "start_time": "2022-01-23T10:35:06.807Z"
   },
   {
    "duration": 63,
    "start_time": "2022-01-23T10:35:06.862Z"
   },
   {
    "duration": 86,
    "start_time": "2022-01-23T10:35:06.927Z"
   },
   {
    "duration": 67,
    "start_time": "2022-01-23T10:35:07.015Z"
   },
   {
    "duration": 7,
    "start_time": "2022-01-23T10:35:07.084Z"
   },
   {
    "duration": 5,
    "start_time": "2022-01-23T10:35:07.093Z"
   },
   {
    "duration": 504,
    "start_time": "2022-01-23T10:35:07.100Z"
   },
   {
    "duration": -61,
    "start_time": "2022-01-23T10:35:07.668Z"
   },
   {
    "duration": -62,
    "start_time": "2022-01-23T10:35:07.671Z"
   },
   {
    "duration": -63,
    "start_time": "2022-01-23T10:35:07.673Z"
   },
   {
    "duration": -65,
    "start_time": "2022-01-23T10:35:07.676Z"
   },
   {
    "duration": -65,
    "start_time": "2022-01-23T10:35:07.678Z"
   },
   {
    "duration": -67,
    "start_time": "2022-01-23T10:35:07.681Z"
   },
   {
    "duration": -67,
    "start_time": "2022-01-23T10:35:07.684Z"
   },
   {
    "duration": -70,
    "start_time": "2022-01-23T10:35:07.688Z"
   },
   {
    "duration": -71,
    "start_time": "2022-01-23T10:35:07.690Z"
   },
   {
    "duration": -72,
    "start_time": "2022-01-23T10:35:07.693Z"
   },
   {
    "duration": -73,
    "start_time": "2022-01-23T10:35:07.695Z"
   },
   {
    "duration": -75,
    "start_time": "2022-01-23T10:35:07.698Z"
   },
   {
    "duration": -82,
    "start_time": "2022-01-23T10:35:07.707Z"
   },
   {
    "duration": -84,
    "start_time": "2022-01-23T10:35:07.710Z"
   },
   {
    "duration": -84,
    "start_time": "2022-01-23T10:35:07.712Z"
   },
   {
    "duration": -86,
    "start_time": "2022-01-23T10:35:07.715Z"
   },
   {
    "duration": -88,
    "start_time": "2022-01-23T10:35:07.719Z"
   },
   {
    "duration": -90,
    "start_time": "2022-01-23T10:35:07.722Z"
   },
   {
    "duration": -91,
    "start_time": "2022-01-23T10:35:07.724Z"
   },
   {
    "duration": -93,
    "start_time": "2022-01-23T10:35:07.727Z"
   },
   {
    "duration": -95,
    "start_time": "2022-01-23T10:35:07.729Z"
   },
   {
    "duration": -97,
    "start_time": "2022-01-23T10:35:07.732Z"
   },
   {
    "duration": 575,
    "start_time": "2022-01-23T10:35:40.189Z"
   },
   {
    "duration": 169,
    "start_time": "2022-01-23T10:35:40.766Z"
   },
   {
    "duration": 25,
    "start_time": "2022-01-23T10:35:40.937Z"
   },
   {
    "duration": 28,
    "start_time": "2022-01-23T10:35:40.964Z"
   },
   {
    "duration": 18,
    "start_time": "2022-01-23T10:35:40.994Z"
   },
   {
    "duration": 60,
    "start_time": "2022-01-23T10:35:41.014Z"
   },
   {
    "duration": 24,
    "start_time": "2022-01-23T10:35:41.076Z"
   },
   {
    "duration": 59,
    "start_time": "2022-01-23T10:35:41.102Z"
   },
   {
    "duration": 26,
    "start_time": "2022-01-23T10:35:41.164Z"
   },
   {
    "duration": 39,
    "start_time": "2022-01-23T10:35:41.192Z"
   },
   {
    "duration": 69,
    "start_time": "2022-01-23T10:35:41.232Z"
   },
   {
    "duration": 72,
    "start_time": "2022-01-23T10:35:41.303Z"
   },
   {
    "duration": 50,
    "start_time": "2022-01-23T10:35:41.376Z"
   },
   {
    "duration": 6,
    "start_time": "2022-01-23T10:35:41.428Z"
   },
   {
    "duration": 24,
    "start_time": "2022-01-23T10:35:41.435Z"
   },
   {
    "duration": 23,
    "start_time": "2022-01-23T10:35:41.461Z"
   },
   {
    "duration": 25,
    "start_time": "2022-01-23T10:35:41.486Z"
   },
   {
    "duration": 27,
    "start_time": "2022-01-23T10:35:41.512Z"
   },
   {
    "duration": 19,
    "start_time": "2022-01-23T10:35:41.540Z"
   },
   {
    "duration": 18,
    "start_time": "2022-01-23T10:35:41.561Z"
   },
   {
    "duration": 27,
    "start_time": "2022-01-23T10:35:41.580Z"
   },
   {
    "duration": 15,
    "start_time": "2022-01-23T10:35:41.609Z"
   },
   {
    "duration": 28,
    "start_time": "2022-01-23T10:35:41.626Z"
   },
   {
    "duration": 24,
    "start_time": "2022-01-23T10:35:41.656Z"
   },
   {
    "duration": 20,
    "start_time": "2022-01-23T10:35:41.682Z"
   },
   {
    "duration": 36,
    "start_time": "2022-01-23T10:35:41.704Z"
   },
   {
    "duration": 19,
    "start_time": "2022-01-23T10:35:41.743Z"
   },
   {
    "duration": 13,
    "start_time": "2022-01-23T10:35:41.764Z"
   },
   {
    "duration": 31,
    "start_time": "2022-01-23T10:35:41.779Z"
   },
   {
    "duration": 18,
    "start_time": "2022-01-23T10:35:41.812Z"
   },
   {
    "duration": 41,
    "start_time": "2022-01-23T10:35:41.831Z"
   },
   {
    "duration": 30,
    "start_time": "2022-01-23T10:35:41.874Z"
   },
   {
    "duration": 29,
    "start_time": "2022-01-23T10:35:41.906Z"
   },
   {
    "duration": 21,
    "start_time": "2022-01-23T10:35:41.937Z"
   },
   {
    "duration": 22,
    "start_time": "2022-01-23T10:35:41.959Z"
   },
   {
    "duration": 22,
    "start_time": "2022-01-23T10:35:41.983Z"
   },
   {
    "duration": 20,
    "start_time": "2022-01-23T10:35:42.007Z"
   },
   {
    "duration": 33,
    "start_time": "2022-01-23T10:35:42.029Z"
   },
   {
    "duration": 562,
    "start_time": "2022-01-23T10:42:33.581Z"
   },
   {
    "duration": 145,
    "start_time": "2022-01-23T10:42:34.144Z"
   },
   {
    "duration": 20,
    "start_time": "2022-01-23T10:42:34.292Z"
   },
   {
    "duration": 50,
    "start_time": "2022-01-23T10:42:34.314Z"
   },
   {
    "duration": 32,
    "start_time": "2022-01-23T10:42:34.366Z"
   },
   {
    "duration": 48,
    "start_time": "2022-01-23T10:42:34.400Z"
   },
   {
    "duration": 10,
    "start_time": "2022-01-23T10:42:34.450Z"
   },
   {
    "duration": 52,
    "start_time": "2022-01-23T10:42:34.462Z"
   },
   {
    "duration": 26,
    "start_time": "2022-01-23T10:42:34.516Z"
   },
   {
    "duration": 48,
    "start_time": "2022-01-23T10:42:34.544Z"
   },
   {
    "duration": 79,
    "start_time": "2022-01-23T10:42:34.594Z"
   },
   {
    "duration": 70,
    "start_time": "2022-01-23T10:42:34.674Z"
   },
   {
    "duration": 64,
    "start_time": "2022-01-23T10:42:34.746Z"
   },
   {
    "duration": 6,
    "start_time": "2022-01-23T10:42:34.812Z"
   },
   {
    "duration": 17,
    "start_time": "2022-01-23T10:42:34.819Z"
   },
   {
    "duration": 34,
    "start_time": "2022-01-23T10:42:34.838Z"
   },
   {
    "duration": 23,
    "start_time": "2022-01-23T10:42:34.873Z"
   },
   {
    "duration": 37,
    "start_time": "2022-01-23T10:42:34.897Z"
   },
   {
    "duration": 7,
    "start_time": "2022-01-23T10:42:34.936Z"
   },
   {
    "duration": 18,
    "start_time": "2022-01-23T10:42:34.945Z"
   },
   {
    "duration": 39,
    "start_time": "2022-01-23T10:42:34.965Z"
   },
   {
    "duration": 37,
    "start_time": "2022-01-23T10:42:35.006Z"
   },
   {
    "duration": 31,
    "start_time": "2022-01-23T10:42:35.045Z"
   },
   {
    "duration": 13,
    "start_time": "2022-01-23T10:42:35.078Z"
   },
   {
    "duration": 32,
    "start_time": "2022-01-23T10:42:35.093Z"
   },
   {
    "duration": 35,
    "start_time": "2022-01-23T10:42:35.127Z"
   },
   {
    "duration": 16,
    "start_time": "2022-01-23T10:42:35.165Z"
   },
   {
    "duration": 30,
    "start_time": "2022-01-23T10:42:35.183Z"
   },
   {
    "duration": 13,
    "start_time": "2022-01-23T10:42:35.215Z"
   },
   {
    "duration": 33,
    "start_time": "2022-01-23T10:42:35.230Z"
   },
   {
    "duration": 36,
    "start_time": "2022-01-23T10:42:35.265Z"
   },
   {
    "duration": 24,
    "start_time": "2022-01-23T10:42:35.302Z"
   },
   {
    "duration": 33,
    "start_time": "2022-01-23T10:42:35.328Z"
   },
   {
    "duration": 15,
    "start_time": "2022-01-23T10:42:35.363Z"
   },
   {
    "duration": 28,
    "start_time": "2022-01-23T10:42:35.380Z"
   },
   {
    "duration": 29,
    "start_time": "2022-01-23T10:42:35.409Z"
   },
   {
    "duration": 20,
    "start_time": "2022-01-23T10:42:35.440Z"
   },
   {
    "duration": 30,
    "start_time": "2022-01-23T10:42:35.461Z"
   },
   {
    "duration": 610,
    "start_time": "2022-01-23T10:45:17.461Z"
   },
   {
    "duration": 141,
    "start_time": "2022-01-23T10:45:18.073Z"
   },
   {
    "duration": 19,
    "start_time": "2022-01-23T10:45:18.217Z"
   },
   {
    "duration": 42,
    "start_time": "2022-01-23T10:45:18.238Z"
   },
   {
    "duration": 4,
    "start_time": "2022-01-23T10:45:18.282Z"
   },
   {
    "duration": 25,
    "start_time": "2022-01-23T10:45:18.288Z"
   },
   {
    "duration": 4,
    "start_time": "2022-01-23T10:45:18.315Z"
   },
   {
    "duration": 47,
    "start_time": "2022-01-23T10:45:18.321Z"
   },
   {
    "duration": 19,
    "start_time": "2022-01-23T10:45:18.371Z"
   },
   {
    "duration": 22,
    "start_time": "2022-01-23T10:45:18.392Z"
   },
   {
    "duration": 79,
    "start_time": "2022-01-23T10:45:18.416Z"
   },
   {
    "duration": 71,
    "start_time": "2022-01-23T10:45:18.497Z"
   },
   {
    "duration": 51,
    "start_time": "2022-01-23T10:45:18.570Z"
   },
   {
    "duration": 7,
    "start_time": "2022-01-23T10:45:18.624Z"
   },
   {
    "duration": 3,
    "start_time": "2022-01-23T10:45:18.633Z"
   },
   {
    "duration": 11,
    "start_time": "2022-01-23T10:45:18.662Z"
   },
   {
    "duration": 9,
    "start_time": "2022-01-23T10:45:18.674Z"
   },
   {
    "duration": 23,
    "start_time": "2022-01-23T10:45:18.685Z"
   },
   {
    "duration": 61,
    "start_time": "2022-01-23T10:45:18.710Z"
   },
   {
    "duration": 737,
    "start_time": "2022-01-23T11:15:13.344Z"
   },
   {
    "duration": 140,
    "start_time": "2022-01-23T11:15:14.084Z"
   },
   {
    "duration": 18,
    "start_time": "2022-01-23T11:15:14.226Z"
   },
   {
    "duration": 30,
    "start_time": "2022-01-23T11:15:14.246Z"
   },
   {
    "duration": 6,
    "start_time": "2022-01-23T11:15:14.278Z"
   },
   {
    "duration": 23,
    "start_time": "2022-01-23T11:15:14.286Z"
   },
   {
    "duration": 3,
    "start_time": "2022-01-23T11:15:14.311Z"
   },
   {
    "duration": 49,
    "start_time": "2022-01-23T11:15:14.316Z"
   },
   {
    "duration": 21,
    "start_time": "2022-01-23T11:15:14.368Z"
   },
   {
    "duration": 23,
    "start_time": "2022-01-23T11:15:14.392Z"
   },
   {
    "duration": 81,
    "start_time": "2022-01-23T11:15:14.417Z"
   },
   {
    "duration": 78,
    "start_time": "2022-01-23T11:15:14.500Z"
   },
   {
    "duration": 55,
    "start_time": "2022-01-23T11:15:14.580Z"
   },
   {
    "duration": 6,
    "start_time": "2022-01-23T11:15:14.636Z"
   },
   {
    "duration": 21,
    "start_time": "2022-01-23T11:15:14.661Z"
   },
   {
    "duration": 36,
    "start_time": "2022-01-23T11:15:14.684Z"
   },
   {
    "duration": 22,
    "start_time": "2022-01-23T11:15:14.721Z"
   },
   {
    "duration": 46,
    "start_time": "2022-01-23T11:15:14.745Z"
   },
   {
    "duration": 48,
    "start_time": "2022-01-23T11:15:14.793Z"
   },
   {
    "duration": 4,
    "start_time": "2022-01-23T11:15:14.843Z"
   },
   {
    "duration": 46,
    "start_time": "2022-01-23T11:15:14.849Z"
   },
   {
    "duration": 21,
    "start_time": "2022-01-23T11:15:14.897Z"
   },
   {
    "duration": 35,
    "start_time": "2022-01-23T11:15:14.920Z"
   },
   {
    "duration": 22,
    "start_time": "2022-01-23T11:15:14.957Z"
   },
   {
    "duration": 17,
    "start_time": "2022-01-23T11:15:14.981Z"
   },
   {
    "duration": 21,
    "start_time": "2022-01-23T11:15:15.000Z"
   },
   {
    "duration": 301,
    "start_time": "2022-01-23T11:15:15.025Z"
   },
   {
    "duration": 792,
    "start_time": "2022-01-23T11:33:34.531Z"
   },
   {
    "duration": 138,
    "start_time": "2022-01-23T11:33:35.325Z"
   },
   {
    "duration": 16,
    "start_time": "2022-01-23T11:33:35.465Z"
   },
   {
    "duration": 35,
    "start_time": "2022-01-23T11:33:35.483Z"
   },
   {
    "duration": 8,
    "start_time": "2022-01-23T11:33:35.520Z"
   },
   {
    "duration": 31,
    "start_time": "2022-01-23T11:33:35.529Z"
   },
   {
    "duration": 15,
    "start_time": "2022-01-23T11:33:35.562Z"
   },
   {
    "duration": 37,
    "start_time": "2022-01-23T11:33:35.579Z"
   },
   {
    "duration": 24,
    "start_time": "2022-01-23T11:33:35.618Z"
   },
   {
    "duration": 37,
    "start_time": "2022-01-23T11:33:35.644Z"
   },
   {
    "duration": 76,
    "start_time": "2022-01-23T11:33:35.683Z"
   },
   {
    "duration": 60,
    "start_time": "2022-01-23T11:33:35.761Z"
   },
   {
    "duration": 59,
    "start_time": "2022-01-23T11:33:35.823Z"
   },
   {
    "duration": 6,
    "start_time": "2022-01-23T11:33:35.884Z"
   },
   {
    "duration": 24,
    "start_time": "2022-01-23T11:33:35.891Z"
   },
   {
    "duration": 21,
    "start_time": "2022-01-23T11:33:35.918Z"
   },
   {
    "duration": 11,
    "start_time": "2022-01-23T11:33:35.940Z"
   },
   {
    "duration": 33,
    "start_time": "2022-01-23T11:33:35.953Z"
   },
   {
    "duration": 29,
    "start_time": "2022-01-23T11:33:35.988Z"
   },
   {
    "duration": 3,
    "start_time": "2022-01-23T11:33:36.020Z"
   },
   {
    "duration": 47,
    "start_time": "2022-01-23T11:33:36.025Z"
   },
   {
    "duration": 17,
    "start_time": "2022-01-23T11:33:36.074Z"
   },
   {
    "duration": 37,
    "start_time": "2022-01-23T11:33:36.092Z"
   },
   {
    "duration": 20,
    "start_time": "2022-01-23T11:33:36.130Z"
   },
   {
    "duration": 41,
    "start_time": "2022-01-23T11:33:36.152Z"
   },
   {
    "duration": 17,
    "start_time": "2022-01-23T11:33:36.195Z"
   },
   {
    "duration": 423,
    "start_time": "2022-01-23T11:33:36.215Z"
   },
   {
    "duration": 17,
    "start_time": "2022-01-23T11:36:34.520Z"
   },
   {
    "duration": 609,
    "start_time": "2022-01-23T11:41:02.420Z"
   },
   {
    "duration": 153,
    "start_time": "2022-01-23T11:41:03.031Z"
   },
   {
    "duration": 17,
    "start_time": "2022-01-23T11:41:03.186Z"
   },
   {
    "duration": 25,
    "start_time": "2022-01-23T11:41:03.205Z"
   },
   {
    "duration": 11,
    "start_time": "2022-01-23T11:41:03.231Z"
   },
   {
    "duration": 39,
    "start_time": "2022-01-23T11:41:03.244Z"
   },
   {
    "duration": 5,
    "start_time": "2022-01-23T11:41:03.285Z"
   },
   {
    "duration": 31,
    "start_time": "2022-01-23T11:41:03.293Z"
   },
   {
    "duration": 23,
    "start_time": "2022-01-23T11:41:03.327Z"
   },
   {
    "duration": 28,
    "start_time": "2022-01-23T11:41:03.352Z"
   },
   {
    "duration": 59,
    "start_time": "2022-01-23T11:41:03.382Z"
   },
   {
    "duration": 85,
    "start_time": "2022-01-23T11:41:03.443Z"
   },
   {
    "duration": 65,
    "start_time": "2022-01-23T11:41:03.529Z"
   },
   {
    "duration": 6,
    "start_time": "2022-01-23T11:41:03.596Z"
   },
   {
    "duration": 6,
    "start_time": "2022-01-23T11:41:03.604Z"
   },
   {
    "duration": 15,
    "start_time": "2022-01-23T11:41:03.611Z"
   },
   {
    "duration": 7,
    "start_time": "2022-01-23T11:41:03.627Z"
   },
   {
    "duration": 44,
    "start_time": "2022-01-23T11:41:03.636Z"
   },
   {
    "duration": 28,
    "start_time": "2022-01-23T11:41:03.682Z"
   },
   {
    "duration": 4,
    "start_time": "2022-01-23T11:41:03.712Z"
   },
   {
    "duration": 22,
    "start_time": "2022-01-23T11:41:03.717Z"
   },
   {
    "duration": 31,
    "start_time": "2022-01-23T11:41:03.741Z"
   },
   {
    "duration": 14,
    "start_time": "2022-01-23T11:41:03.775Z"
   },
   {
    "duration": 11,
    "start_time": "2022-01-23T11:41:03.790Z"
   },
   {
    "duration": 14,
    "start_time": "2022-01-23T11:41:03.803Z"
   },
   {
    "duration": 12,
    "start_time": "2022-01-23T11:41:03.819Z"
   },
   {
    "duration": 34,
    "start_time": "2022-01-23T11:41:03.832Z"
   },
   {
    "duration": 20,
    "start_time": "2022-01-23T11:44:24.780Z"
   },
   {
    "duration": 25,
    "start_time": "2022-01-23T11:45:53.821Z"
   },
   {
    "duration": 618,
    "start_time": "2022-01-23T12:02:15.933Z"
   },
   {
    "duration": 154,
    "start_time": "2022-01-23T12:02:16.553Z"
   },
   {
    "duration": 17,
    "start_time": "2022-01-23T12:02:16.710Z"
   },
   {
    "duration": 48,
    "start_time": "2022-01-23T12:02:16.729Z"
   },
   {
    "duration": 26,
    "start_time": "2022-01-23T12:02:16.779Z"
   },
   {
    "duration": 65,
    "start_time": "2022-01-23T12:02:16.807Z"
   },
   {
    "duration": 17,
    "start_time": "2022-01-23T12:02:16.874Z"
   },
   {
    "duration": 55,
    "start_time": "2022-01-23T12:02:16.894Z"
   },
   {
    "duration": 36,
    "start_time": "2022-01-23T12:02:16.952Z"
   },
   {
    "duration": 39,
    "start_time": "2022-01-23T12:02:16.990Z"
   },
   {
    "duration": 85,
    "start_time": "2022-01-23T12:02:17.031Z"
   },
   {
    "duration": 64,
    "start_time": "2022-01-23T12:02:17.118Z"
   },
   {
    "duration": 53,
    "start_time": "2022-01-23T12:02:17.184Z"
   },
   {
    "duration": 6,
    "start_time": "2022-01-23T12:02:17.239Z"
   },
   {
    "duration": 3,
    "start_time": "2022-01-23T12:02:17.261Z"
   },
   {
    "duration": 12,
    "start_time": "2022-01-23T12:02:17.265Z"
   },
   {
    "duration": 5,
    "start_time": "2022-01-23T12:02:17.278Z"
   },
   {
    "duration": 23,
    "start_time": "2022-01-23T12:02:17.285Z"
   },
   {
    "duration": 57,
    "start_time": "2022-01-23T12:02:17.310Z"
   },
   {
    "duration": 4,
    "start_time": "2022-01-23T12:02:17.369Z"
   },
   {
    "duration": 30,
    "start_time": "2022-01-23T12:02:17.374Z"
   },
   {
    "duration": 30,
    "start_time": "2022-01-23T12:02:17.405Z"
   },
   {
    "duration": 26,
    "start_time": "2022-01-23T12:02:17.438Z"
   },
   {
    "duration": 19,
    "start_time": "2022-01-23T12:02:17.467Z"
   },
   {
    "duration": 28,
    "start_time": "2022-01-23T12:02:17.488Z"
   },
   {
    "duration": 25,
    "start_time": "2022-01-23T12:02:17.518Z"
   },
   {
    "duration": 21,
    "start_time": "2022-01-23T12:02:17.545Z"
   },
   {
    "duration": 30,
    "start_time": "2022-01-23T12:02:17.567Z"
   },
   {
    "duration": 17,
    "start_time": "2022-01-23T12:02:17.599Z"
   },
   {
    "duration": 119,
    "start_time": "2022-01-23T12:02:17.618Z"
   },
   {
    "duration": -15,
    "start_time": "2022-01-23T12:02:17.754Z"
   },
   {
    "duration": -17,
    "start_time": "2022-01-23T12:02:17.757Z"
   },
   {
    "duration": -19,
    "start_time": "2022-01-23T12:02:17.760Z"
   },
   {
    "duration": -24,
    "start_time": "2022-01-23T12:02:17.766Z"
   },
   {
    "duration": -35,
    "start_time": "2022-01-23T12:02:17.778Z"
   },
   {
    "duration": -39,
    "start_time": "2022-01-23T12:02:17.783Z"
   },
   {
    "duration": -40,
    "start_time": "2022-01-23T12:02:17.785Z"
   },
   {
    "duration": -40,
    "start_time": "2022-01-23T12:02:17.787Z"
   },
   {
    "duration": 4,
    "start_time": "2022-01-23T12:02:41.565Z"
   },
   {
    "duration": 579,
    "start_time": "2022-01-23T12:02:46.449Z"
   },
   {
    "duration": 4,
    "start_time": "2022-01-23T12:03:27.068Z"
   },
   {
    "duration": 7605,
    "start_time": "2022-01-23T12:03:31.401Z"
   },
   {
    "duration": 4,
    "start_time": "2022-01-23T12:05:16.524Z"
   },
   {
    "duration": 421,
    "start_time": "2022-01-23T12:05:21.290Z"
   },
   {
    "duration": 8,
    "start_time": "2022-01-23T12:06:49.839Z"
   },
   {
    "duration": 483,
    "start_time": "2022-01-23T12:06:53.701Z"
   },
   {
    "duration": 4,
    "start_time": "2022-01-23T12:08:49.774Z"
   },
   {
    "duration": 4,
    "start_time": "2022-01-23T12:15:43.557Z"
   },
   {
    "duration": 17,
    "start_time": "2022-01-23T12:15:47.039Z"
   },
   {
    "duration": 716,
    "start_time": "2022-01-23T12:16:49.783Z"
   },
   {
    "duration": 148,
    "start_time": "2022-01-23T12:16:50.502Z"
   },
   {
    "duration": 21,
    "start_time": "2022-01-23T12:16:50.652Z"
   },
   {
    "duration": 44,
    "start_time": "2022-01-23T12:16:50.675Z"
   },
   {
    "duration": 18,
    "start_time": "2022-01-23T12:16:50.721Z"
   },
   {
    "duration": 44,
    "start_time": "2022-01-23T12:16:50.741Z"
   },
   {
    "duration": 19,
    "start_time": "2022-01-23T12:16:50.786Z"
   },
   {
    "duration": 45,
    "start_time": "2022-01-23T12:16:50.808Z"
   },
   {
    "duration": 37,
    "start_time": "2022-01-23T12:16:50.855Z"
   },
   {
    "duration": 26,
    "start_time": "2022-01-23T12:16:50.894Z"
   },
   {
    "duration": 77,
    "start_time": "2022-01-23T12:16:50.922Z"
   },
   {
    "duration": 66,
    "start_time": "2022-01-23T12:16:51.001Z"
   },
   {
    "duration": 51,
    "start_time": "2022-01-23T12:16:51.068Z"
   },
   {
    "duration": 6,
    "start_time": "2022-01-23T12:16:51.120Z"
   },
   {
    "duration": 36,
    "start_time": "2022-01-23T12:16:51.128Z"
   },
   {
    "duration": 25,
    "start_time": "2022-01-23T12:16:51.166Z"
   },
   {
    "duration": 22,
    "start_time": "2022-01-23T12:16:51.193Z"
   },
   {
    "duration": 41,
    "start_time": "2022-01-23T12:16:51.217Z"
   },
   {
    "duration": 37,
    "start_time": "2022-01-23T12:16:51.260Z"
   },
   {
    "duration": 6,
    "start_time": "2022-01-23T12:16:51.299Z"
   },
   {
    "duration": 60,
    "start_time": "2022-01-23T12:16:51.307Z"
   },
   {
    "duration": 47,
    "start_time": "2022-01-23T12:16:51.369Z"
   },
   {
    "duration": 54,
    "start_time": "2022-01-23T12:16:51.419Z"
   },
   {
    "duration": 28,
    "start_time": "2022-01-23T12:16:51.475Z"
   },
   {
    "duration": 28,
    "start_time": "2022-01-23T12:16:51.506Z"
   },
   {
    "duration": 34,
    "start_time": "2022-01-23T12:16:51.536Z"
   },
   {
    "duration": 31,
    "start_time": "2022-01-23T12:16:51.572Z"
   },
   {
    "duration": 59,
    "start_time": "2022-01-23T12:16:51.605Z"
   },
   {
    "duration": 30,
    "start_time": "2022-01-23T12:16:51.666Z"
   },
   {
    "duration": 5,
    "start_time": "2022-01-23T12:16:51.698Z"
   },
   {
    "duration": 36,
    "start_time": "2022-01-23T12:16:51.704Z"
   },
   {
    "duration": 23,
    "start_time": "2022-01-23T12:16:51.742Z"
   },
   {
    "duration": 36,
    "start_time": "2022-01-23T12:16:51.767Z"
   },
   {
    "duration": 16,
    "start_time": "2022-01-23T12:16:51.805Z"
   },
   {
    "duration": 597,
    "start_time": "2022-01-23T12:17:28.623Z"
   },
   {
    "duration": 149,
    "start_time": "2022-01-23T12:17:29.222Z"
   },
   {
    "duration": 18,
    "start_time": "2022-01-23T12:17:29.373Z"
   },
   {
    "duration": 56,
    "start_time": "2022-01-23T12:17:29.393Z"
   },
   {
    "duration": 30,
    "start_time": "2022-01-23T12:17:29.450Z"
   },
   {
    "duration": 52,
    "start_time": "2022-01-23T12:17:29.481Z"
   },
   {
    "duration": 28,
    "start_time": "2022-01-23T12:17:29.535Z"
   },
   {
    "duration": 58,
    "start_time": "2022-01-23T12:17:29.566Z"
   },
   {
    "duration": 47,
    "start_time": "2022-01-23T12:17:29.626Z"
   },
   {
    "duration": 60,
    "start_time": "2022-01-23T12:17:29.675Z"
   },
   {
    "duration": 114,
    "start_time": "2022-01-23T12:17:29.737Z"
   },
   {
    "duration": 81,
    "start_time": "2022-01-23T12:17:29.852Z"
   },
   {
    "duration": 56,
    "start_time": "2022-01-23T12:17:29.935Z"
   },
   {
    "duration": 7,
    "start_time": "2022-01-23T12:17:29.993Z"
   },
   {
    "duration": 31,
    "start_time": "2022-01-23T12:17:30.001Z"
   },
   {
    "duration": 36,
    "start_time": "2022-01-23T12:17:30.034Z"
   },
   {
    "duration": 27,
    "start_time": "2022-01-23T12:17:30.072Z"
   },
   {
    "duration": 52,
    "start_time": "2022-01-23T12:17:30.101Z"
   },
   {
    "duration": 37,
    "start_time": "2022-01-23T12:17:30.155Z"
   },
   {
    "duration": 12,
    "start_time": "2022-01-23T12:17:30.194Z"
   },
   {
    "duration": 83,
    "start_time": "2022-01-23T12:17:30.208Z"
   },
   {
    "duration": 44,
    "start_time": "2022-01-23T12:17:30.293Z"
   },
   {
    "duration": 59,
    "start_time": "2022-01-23T12:17:30.340Z"
   },
   {
    "duration": 35,
    "start_time": "2022-01-23T12:17:30.401Z"
   },
   {
    "duration": 39,
    "start_time": "2022-01-23T12:17:30.438Z"
   },
   {
    "duration": 48,
    "start_time": "2022-01-23T12:17:30.479Z"
   },
   {
    "duration": 35,
    "start_time": "2022-01-23T12:17:30.529Z"
   },
   {
    "duration": 47,
    "start_time": "2022-01-23T12:17:30.566Z"
   },
   {
    "duration": 56,
    "start_time": "2022-01-23T12:17:30.615Z"
   },
   {
    "duration": 43,
    "start_time": "2022-01-23T12:17:30.673Z"
   },
   {
    "duration": 72,
    "start_time": "2022-01-23T12:17:30.718Z"
   },
   {
    "duration": 66,
    "start_time": "2022-01-23T12:17:30.792Z"
   },
   {
    "duration": 72,
    "start_time": "2022-01-23T12:17:30.860Z"
   },
   {
    "duration": 66,
    "start_time": "2022-01-23T12:17:30.933Z"
   },
   {
    "duration": 47,
    "start_time": "2022-01-23T12:17:31.001Z"
   },
   {
    "duration": 36,
    "start_time": "2022-01-23T12:17:31.050Z"
   },
   {
    "duration": 36,
    "start_time": "2022-01-23T12:17:31.087Z"
   },
   {
    "duration": 45,
    "start_time": "2022-01-23T12:17:31.126Z"
   },
   {
    "duration": 13,
    "start_time": "2022-01-23T16:37:01.663Z"
   },
   {
    "duration": 26,
    "start_time": "2022-01-23T16:37:01.679Z"
   },
   {
    "duration": 20,
    "start_time": "2022-01-23T16:37:01.707Z"
   },
   {
    "duration": 20,
    "start_time": "2022-01-23T16:37:01.729Z"
   },
   {
    "duration": 8,
    "start_time": "2022-01-23T16:37:32.514Z"
   },
   {
    "duration": 9,
    "start_time": "2022-01-23T16:37:35.586Z"
   },
   {
    "duration": 7,
    "start_time": "2022-01-23T16:37:55.260Z"
   },
   {
    "duration": 4,
    "start_time": "2022-01-23T16:37:57.125Z"
   },
   {
    "duration": 604,
    "start_time": "2022-02-03T10:07:06.189Z"
   },
   {
    "duration": 130,
    "start_time": "2022-02-03T10:07:06.795Z"
   },
   {
    "duration": 16,
    "start_time": "2022-02-03T10:07:06.929Z"
   },
   {
    "duration": 24,
    "start_time": "2022-02-03T10:07:06.946Z"
   },
   {
    "duration": 3,
    "start_time": "2022-02-03T10:07:06.971Z"
   },
   {
    "duration": 48,
    "start_time": "2022-02-03T10:07:06.976Z"
   },
   {
    "duration": 3,
    "start_time": "2022-02-03T10:07:07.026Z"
   },
   {
    "duration": 22,
    "start_time": "2022-02-03T10:07:07.032Z"
   },
   {
    "duration": 16,
    "start_time": "2022-02-03T10:07:07.057Z"
   },
   {
    "duration": 45,
    "start_time": "2022-02-03T10:07:07.075Z"
   },
   {
    "duration": 63,
    "start_time": "2022-02-03T10:07:07.122Z"
   },
   {
    "duration": 73,
    "start_time": "2022-02-03T10:07:07.186Z"
   },
   {
    "duration": 52,
    "start_time": "2022-02-03T10:07:07.261Z"
   },
   {
    "duration": 7,
    "start_time": "2022-02-03T10:07:07.314Z"
   },
   {
    "duration": 5,
    "start_time": "2022-02-03T10:07:07.322Z"
   },
   {
    "duration": 12,
    "start_time": "2022-02-03T10:07:07.329Z"
   },
   {
    "duration": 6,
    "start_time": "2022-02-03T10:07:07.343Z"
   },
   {
    "duration": 21,
    "start_time": "2022-02-03T10:07:07.350Z"
   },
   {
    "duration": 57,
    "start_time": "2022-02-03T10:07:07.373Z"
   },
   {
    "duration": 4,
    "start_time": "2022-02-03T10:07:07.431Z"
   },
   {
    "duration": 18,
    "start_time": "2022-02-03T10:07:07.436Z"
   },
   {
    "duration": 11,
    "start_time": "2022-02-03T10:07:07.456Z"
   },
   {
    "duration": 13,
    "start_time": "2022-02-03T10:07:07.469Z"
   },
   {
    "duration": 36,
    "start_time": "2022-02-03T10:07:07.483Z"
   },
   {
    "duration": 14,
    "start_time": "2022-02-03T10:07:07.521Z"
   },
   {
    "duration": 11,
    "start_time": "2022-02-03T10:07:07.538Z"
   },
   {
    "duration": 8,
    "start_time": "2022-02-03T10:07:07.551Z"
   },
   {
    "duration": 20,
    "start_time": "2022-02-03T10:07:07.560Z"
   },
   {
    "duration": 47,
    "start_time": "2022-02-03T10:07:07.582Z"
   },
   {
    "duration": 5,
    "start_time": "2022-02-03T10:07:07.631Z"
   },
   {
    "duration": 20,
    "start_time": "2022-02-03T10:07:07.638Z"
   },
   {
    "duration": 11,
    "start_time": "2022-02-03T10:07:07.660Z"
   },
   {
    "duration": 52,
    "start_time": "2022-02-03T10:07:07.672Z"
   },
   {
    "duration": 10,
    "start_time": "2022-02-03T10:07:07.726Z"
   },
   {
    "duration": 7,
    "start_time": "2022-02-03T10:07:07.738Z"
   },
   {
    "duration": 3,
    "start_time": "2022-02-03T10:07:07.747Z"
   },
   {
    "duration": 9,
    "start_time": "2022-02-03T10:07:07.752Z"
   },
   {
    "duration": 6,
    "start_time": "2022-02-03T10:07:07.762Z"
   },
   {
    "duration": 89,
    "start_time": "2022-02-03T10:18:34.169Z"
   },
   {
    "duration": 88,
    "start_time": "2022-02-03T10:23:38.135Z"
   },
   {
    "duration": 86,
    "start_time": "2022-02-03T10:32:26.156Z"
   },
   {
    "duration": 410,
    "start_time": "2022-02-05T10:24:48.827Z"
   },
   {
    "duration": 761,
    "start_time": "2022-02-05T10:24:58.140Z"
   },
   {
    "duration": 178,
    "start_time": "2022-02-05T10:24:58.904Z"
   },
   {
    "duration": 38,
    "start_time": "2022-02-05T10:24:59.088Z"
   },
   {
    "duration": 35,
    "start_time": "2022-02-05T10:24:59.128Z"
   },
   {
    "duration": 4,
    "start_time": "2022-02-05T10:24:59.165Z"
   },
   {
    "duration": 59,
    "start_time": "2022-02-05T10:24:59.171Z"
   },
   {
    "duration": 5,
    "start_time": "2022-02-05T10:24:59.234Z"
   },
   {
    "duration": 29,
    "start_time": "2022-02-05T10:24:59.242Z"
   },
   {
    "duration": 49,
    "start_time": "2022-02-05T10:24:59.274Z"
   },
   {
    "duration": 28,
    "start_time": "2022-02-05T10:24:59.325Z"
   },
   {
    "duration": 99,
    "start_time": "2022-02-05T10:24:59.356Z"
   },
   {
    "duration": 108,
    "start_time": "2022-02-05T10:24:59.457Z"
   },
   {
    "duration": 80,
    "start_time": "2022-02-05T10:24:59.568Z"
   },
   {
    "duration": 55,
    "start_time": "2022-02-05T10:24:59.651Z"
   },
   {
    "duration": 4,
    "start_time": "2022-02-05T10:24:59.724Z"
   },
   {
    "duration": 18,
    "start_time": "2022-02-05T10:24:59.731Z"
   },
   {
    "duration": 8,
    "start_time": "2022-02-05T10:24:59.752Z"
   },
   {
    "duration": 28,
    "start_time": "2022-02-05T10:24:59.763Z"
   },
   {
    "duration": 36,
    "start_time": "2022-02-05T10:24:59.824Z"
   },
   {
    "duration": 5,
    "start_time": "2022-02-05T10:24:59.863Z"
   },
   {
    "duration": 23,
    "start_time": "2022-02-05T10:24:59.870Z"
   },
   {
    "duration": 41,
    "start_time": "2022-02-05T10:24:59.898Z"
   },
   {
    "duration": 17,
    "start_time": "2022-02-05T10:24:59.942Z"
   },
   {
    "duration": 15,
    "start_time": "2022-02-05T10:24:59.962Z"
   },
   {
    "duration": 52,
    "start_time": "2022-02-05T10:24:59.980Z"
   },
   {
    "duration": 19,
    "start_time": "2022-02-05T10:25:00.034Z"
   },
   {
    "duration": 12,
    "start_time": "2022-02-05T10:25:00.055Z"
   },
   {
    "duration": 55,
    "start_time": "2022-02-05T10:25:00.070Z"
   },
   {
    "duration": 27,
    "start_time": "2022-02-05T10:25:00.127Z"
   },
   {
    "duration": 5,
    "start_time": "2022-02-05T10:25:00.156Z"
   },
   {
    "duration": 33,
    "start_time": "2022-02-05T10:25:00.164Z"
   },
   {
    "duration": 37,
    "start_time": "2022-02-05T10:25:00.199Z"
   },
   {
    "duration": 25,
    "start_time": "2022-02-05T10:25:00.239Z"
   },
   {
    "duration": 58,
    "start_time": "2022-02-05T10:25:00.267Z"
   },
   {
    "duration": 13,
    "start_time": "2022-02-05T10:25:00.329Z"
   },
   {
    "duration": 6,
    "start_time": "2022-02-05T10:25:00.345Z"
   },
   {
    "duration": 20,
    "start_time": "2022-02-05T10:25:00.354Z"
   },
   {
    "duration": 17,
    "start_time": "2022-02-05T10:25:00.376Z"
   },
   {
    "duration": 46,
    "start_time": "2022-02-05T10:31:26.215Z"
   },
   {
    "duration": 16,
    "start_time": "2022-02-05T10:31:41.187Z"
   },
   {
    "duration": 38,
    "start_time": "2022-02-05T10:32:13.787Z"
   },
   {
    "duration": 16,
    "start_time": "2022-02-05T10:32:30.037Z"
   },
   {
    "duration": 22,
    "start_time": "2022-02-05T10:32:37.763Z"
   },
   {
    "duration": 137,
    "start_time": "2022-02-05T16:29:38.050Z"
   }
  ],
  "colab": {
   "collapsed_sections": [
    "E0vqbgi9ay0H",
    "VUC88oWjTJw2"
   ],
   "name": "yandex_music_project_2021.2.ipynb",
   "provenance": []
  },
  "kernelspec": {
   "display_name": "Python 3 (ipykernel)",
   "language": "python",
   "name": "python3"
  },
  "language_info": {
   "codemirror_mode": {
    "name": "ipython",
    "version": 3
   },
   "file_extension": ".py",
   "mimetype": "text/x-python",
   "name": "python",
   "nbconvert_exporter": "python",
   "pygments_lexer": "ipython3",
   "version": "3.9.5"
  },
  "toc": {
   "base_numbering": 1,
   "nav_menu": {},
   "number_sections": true,
   "sideBar": true,
   "skip_h1_title": true,
   "title_cell": "Table of Contents",
   "title_sidebar": "Contents",
   "toc_cell": false,
   "toc_position": {
    "height": "calc(100% - 180px)",
    "left": "10px",
    "top": "150px",
    "width": "211.273px"
   },
   "toc_section_display": true,
   "toc_window_display": true
  }
 },
 "nbformat": 4,
 "nbformat_minor": 1
}
