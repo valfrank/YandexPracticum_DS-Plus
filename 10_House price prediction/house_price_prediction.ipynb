{
 "cells": [
  {
   "cell_type": "markdown",
   "id": "GEqQaHzsZ_bA",
   "metadata": {
    "id": "GEqQaHzsZ_bA"
   },
   "source": [
    "# House price prediction\n",
    "\n",
    "In a project, train a linear regression model on California housing data in 1990. \n",
    "\n",
    "Based on the data, you need to predict the median cost of a house in a residential area. \n",
    "\n",
    "Train the model and make predictions on the test set. \n",
    "\n",
    "Use the RMSE, MAE, and R2 metrics to evaluate the quality of a model.\n"
   ]
  },
  {
   "cell_type": "markdown",
   "id": "53871372",
   "metadata": {
    "id": "53871372"
   },
   "source": [
    "## Data load and preprocessing"
   ]
  },
  {
   "cell_type": "code",
   "execution_count": 1,
   "id": "df92e3ec",
   "metadata": {
    "id": "df92e3ec"
   },
   "outputs": [],
   "source": [
    "import pandas as pd \n",
    "import numpy as np\n",
    "import pyspark\n",
    "from pyspark.sql import SparkSession\n",
    "from pyspark.sql.types import *\n",
    "import pyspark.sql.functions as F\n",
    "\n",
    "from pyspark.ml.feature import StringIndexer, OneHotEncoder, VectorAssembler, StandardScaler\n",
    "from pyspark.ml.regression import LinearRegression\n",
    "    \n",
    "    \n",
    "spark = SparkSession.builder \\\n",
    "                    .master(\"local\") \\\n",
    "                    .appName(\"EDA California Housing\") \\\n",
    "                    .getOrCreate()"
   ]
  },
  {
   "cell_type": "code",
   "execution_count": 2,
   "id": "095a21fd",
   "metadata": {},
   "outputs": [
    {
     "name": "stderr",
     "output_type": "stream",
     "text": [
      "                                                                                \r"
     ]
    },
    {
     "name": "stdout",
     "output_type": "stream",
     "text": [
      "root\n",
      " |-- longitude: double (nullable = true)\n",
      " |-- latitude: double (nullable = true)\n",
      " |-- housing_median_age: double (nullable = true)\n",
      " |-- total_rooms: double (nullable = true)\n",
      " |-- total_bedrooms: double (nullable = true)\n",
      " |-- population: double (nullable = true)\n",
      " |-- households: double (nullable = true)\n",
      " |-- median_income: double (nullable = true)\n",
      " |-- median_house_value: double (nullable = true)\n",
      " |-- ocean_proximity: string (nullable = true)\n",
      "\n"
     ]
    },
    {
     "name": "stderr",
     "output_type": "stream",
     "text": [
      "                                                                                \r"
     ]
    }
   ],
   "source": [
    "path = 'housing.csv'\n",
    "df_housing = spark.read.option('header', True).option('inferSchema', True).csv(path)\n",
    "df_housing.printSchema() "
   ]
  },
  {
   "cell_type": "code",
   "execution_count": 3,
   "id": "1ac6de90",
   "metadata": {},
   "outputs": [
    {
     "name": "stdout",
     "output_type": "stream",
     "text": [
      "               column    type\n",
      "0           longitude  double\n",
      "1            latitude  double\n",
      "2  housing_median_age  double\n",
      "3         total_rooms  double\n",
      "4      total_bedrooms  double\n",
      "5          population  double\n",
      "6          households  double\n",
      "7       median_income  double\n",
      "8  median_house_value  double\n",
      "9     ocean_proximity  string\n"
     ]
    }
   ],
   "source": [
    "print(pd.DataFrame(df_housing.dtypes, columns=['column', 'type']))"
   ]
  },
  {
   "cell_type": "markdown",
   "id": "9bdb7ad5",
   "metadata": {},
   "source": [
    "**Missing valuse**"
   ]
  },
  {
   "cell_type": "code",
   "execution_count": 4,
   "id": "dc6e786a",
   "metadata": {},
   "outputs": [
    {
     "name": "stderr",
     "output_type": "stream",
     "text": [
      "                                                                                \r"
     ]
    },
    {
     "name": "stdout",
     "output_type": "stream",
     "text": [
      "+-------+-------------------+-----------------+------------------+------------------+------------------+------------------+-----------------+------------------+------------------+---------------+\n",
      "|summary|          longitude|         latitude|housing_median_age|       total_rooms|    total_bedrooms|        population|       households|     median_income|median_house_value|ocean_proximity|\n",
      "+-------+-------------------+-----------------+------------------+------------------+------------------+------------------+-----------------+------------------+------------------+---------------+\n",
      "|  count|              20640|            20640|             20640|             20640|             20433|             20640|            20640|             20640|             20640|          20640|\n",
      "|   mean|-119.56970445736148| 35.6318614341087|28.639486434108527|2635.7630813953488| 537.8705525375618|1425.4767441860465|499.5396802325581|3.8706710029070246|206855.81690891474|           null|\n",
      "| stddev|  2.003531723502584|2.135952397457101| 12.58555761211163|2181.6152515827944|421.38507007403115|  1132.46212176534|382.3297528316098| 1.899821717945263|115395.61587441359|           null|\n",
      "|    min|            -124.35|            32.54|               1.0|               2.0|               1.0|               3.0|              1.0|            0.4999|           14999.0|      <1H OCEAN|\n",
      "|    max|            -114.31|            41.95|              52.0|           39320.0|            6445.0|           35682.0|           6082.0|           15.0001|          500001.0|     NEAR OCEAN|\n",
      "+-------+-------------------+-----------------+------------------+------------------+------------------+------------------+-----------------+------------------+------------------+---------------+\n",
      "\n"
     ]
    }
   ],
   "source": [
    "df_housing.describe().show()"
   ]
  },
  {
   "cell_type": "code",
   "execution_count": 5,
   "id": "9fb41ff5",
   "metadata": {},
   "outputs": [
    {
     "name": "stdout",
     "output_type": "stream",
     "text": [
      "+---------+--------+------------------+-----------+--------------+----------+----------+-------------+------------------+---------------+\n",
      "|longitude|latitude|housing_median_age|total_rooms|total_bedrooms|population|households|median_income|median_house_value|ocean_proximity|\n",
      "+---------+--------+------------------+-----------+--------------+----------+----------+-------------+------------------+---------------+\n",
      "|        0|       0|                 0|          0|           207|         0|         0|            0|                 0|              0|\n",
      "+---------+--------+------------------+-----------+--------------+----------+----------+-------------+------------------+---------------+\n",
      "\n"
     ]
    }
   ],
   "source": [
    "df2 = df_housing.select([F.count(F.when(F.col(c).isNull(), c)).alias(c) for c in df_housing.columns])\n",
    "df2.show()"
   ]
  },
  {
   "cell_type": "code",
   "execution_count": 6,
   "id": "5b53c5ba",
   "metadata": {},
   "outputs": [],
   "source": [
    "# fill missing values with 0 in total_bedrooms \n",
    "df_housing = df_housing \\\n",
    "                .withColumn(\"total_bedrooms\", F.when((F.col(\"total_bedrooms\").isNull()), 0) \\\n",
    "                            .otherwise(F.col(\"total_bedrooms\")))"
   ]
  },
  {
   "cell_type": "code",
   "execution_count": 7,
   "id": "3934c6c7",
   "metadata": {},
   "outputs": [
    {
     "name": "stderr",
     "output_type": "stream",
     "text": [
      "[Stage 6:>                                                          (0 + 1) / 1]\r"
     ]
    },
    {
     "name": "stdout",
     "output_type": "stream",
     "text": [
      "+-------+-------------------+-----------------+------------------+------------------+------------------+------------------+-----------------+------------------+------------------+---------------+\n",
      "|summary|          longitude|         latitude|housing_median_age|       total_rooms|    total_bedrooms|        population|       households|     median_income|median_house_value|ocean_proximity|\n",
      "+-------+-------------------+-----------------+------------------+------------------+------------------+------------------+-----------------+------------------+------------------+---------------+\n",
      "|  count|              20640|            20640|             20640|             20640|             20640|             20640|            20640|             20640|             20640|          20640|\n",
      "|   mean|-119.56970445736148| 35.6318614341087|28.639486434108527|2635.7630813953488|   532.47621124031|1425.4767441860465|499.5396802325581|3.8706710029070246|206855.81690891474|           null|\n",
      "| stddev|  2.003531723502584|2.135952397457101| 12.58555761211163|2181.6152515827944|422.67833281083904|  1132.46212176534|382.3297528316098| 1.899821717945263|115395.61587441359|           null|\n",
      "|    min|            -124.35|            32.54|               1.0|               2.0|               0.0|               3.0|              1.0|            0.4999|           14999.0|      <1H OCEAN|\n",
      "|    max|            -114.31|            41.95|              52.0|           39320.0|            6445.0|           35682.0|           6082.0|           15.0001|          500001.0|     NEAR OCEAN|\n",
      "+-------+-------------------+-----------------+------------------+------------------+------------------+------------------+-----------------+------------------+------------------+---------------+\n",
      "\n"
     ]
    },
    {
     "name": "stderr",
     "output_type": "stream",
     "text": [
      "                                                                                \r"
     ]
    }
   ],
   "source": [
    "df_housing.describe().show()"
   ]
  },
  {
   "cell_type": "markdown",
   "id": "d09c5fd3",
   "metadata": {},
   "source": [
    "**Transform the ocean_proximity column with categorical values using the One hot encoding technique**"
   ]
  },
  {
   "cell_type": "code",
   "execution_count": 8,
   "id": "8c509642",
   "metadata": {},
   "outputs": [
    {
     "name": "stderr",
     "output_type": "stream",
     "text": [
      "                                                                                \r"
     ]
    },
    {
     "name": "stdout",
     "output_type": "stream",
     "text": [
      "+---------+--------+------------------+-----------+--------------+----------+----------+-------------+------------------+---------------+------------------------+\n",
      "|longitude|latitude|housing_median_age|total_rooms|total_bedrooms|population|households|median_income|median_house_value|ocean_proximity|ocean_proximity_category|\n",
      "+---------+--------+------------------+-----------+--------------+----------+----------+-------------+------------------+---------------+------------------------+\n",
      "|  -122.23|   37.88|              41.0|      880.0|         129.0|     322.0|     126.0|       8.3252|          452600.0|       NEAR BAY|                     3.0|\n",
      "|  -122.22|   37.86|              21.0|     7099.0|        1106.0|    2401.0|    1138.0|       8.3014|          358500.0|       NEAR BAY|                     3.0|\n",
      "|  -122.24|   37.85|              52.0|     1467.0|         190.0|     496.0|     177.0|       7.2574|          352100.0|       NEAR BAY|                     3.0|\n",
      "+---------+--------+------------------+-----------+--------------+----------+----------+-------------+------------------+---------------+------------------------+\n",
      "only showing top 3 rows\n",
      "\n"
     ]
    }
   ],
   "source": [
    "# type\n",
    "indexer = StringIndexer(inputCol=\"ocean_proximity\", outputCol=\"ocean_proximity_category\")\n",
    "df_housing_indexed = indexer.fit(df_housing).transform(df_housing)\n",
    "df_housing_indexed.show(3)"
   ]
  },
  {
   "cell_type": "code",
   "execution_count": 9,
   "id": "dfe6e720",
   "metadata": {},
   "outputs": [
    {
     "name": "stdout",
     "output_type": "stream",
     "text": [
      "+---------+--------+------------------+-----------+--------------+----------+----------+-------------+------------------+---------------+------------------------+-------------------+\n",
      "|longitude|latitude|housing_median_age|total_rooms|total_bedrooms|population|households|median_income|median_house_value|ocean_proximity|ocean_proximity_category|ocean_proximity_ohe|\n",
      "+---------+--------+------------------+-----------+--------------+----------+----------+-------------+------------------+---------------+------------------------+-------------------+\n",
      "|  -122.23|   37.88|              41.0|      880.0|         129.0|     322.0|     126.0|       8.3252|          452600.0|       NEAR BAY|                     3.0|      (4,[3],[1.0])|\n",
      "|  -122.22|   37.86|              21.0|     7099.0|        1106.0|    2401.0|    1138.0|       8.3014|          358500.0|       NEAR BAY|                     3.0|      (4,[3],[1.0])|\n",
      "|  -122.24|   37.85|              52.0|     1467.0|         190.0|     496.0|     177.0|       7.2574|          352100.0|       NEAR BAY|                     3.0|      (4,[3],[1.0])|\n",
      "+---------+--------+------------------+-----------+--------------+----------+----------+-------------+------------------+---------------+------------------------+-------------------+\n",
      "only showing top 3 rows\n",
      "\n"
     ]
    }
   ],
   "source": [
    "encoder = OneHotEncoder(inputCols=[\"ocean_proximity_category\"],\n",
    "                        outputCols=[\"ocean_proximity_ohe\"])\n",
    "model = encoder.fit(df_housing_indexed)\n",
    "df_housing_encoded = model.transform(df_housing_indexed)\n",
    "df_housing_encoded.show(3)"
   ]
  },
  {
   "cell_type": "markdown",
   "id": "c78d23ab",
   "metadata": {},
   "source": [
    "**Scaling**"
   ]
  },
  {
   "cell_type": "code",
   "execution_count": 10,
   "id": "c33c139b",
   "metadata": {},
   "outputs": [],
   "source": [
    "numerical_cols  = [\"longitude\", \"latitude\", \"housing_median_age\", \"total_rooms\", \"total_bedrooms\", \"population\", \"households\", \"median_income\"]\n",
    "target = \"median_house_value\" "
   ]
  },
  {
   "cell_type": "code",
   "execution_count": 11,
   "id": "52f817f0",
   "metadata": {},
   "outputs": [],
   "source": [
    "numerical_assembler = VectorAssembler(inputCols=numerical_cols, outputCol=\"numerical_features\")\n",
    "df = numerical_assembler.transform(df_housing_encoded) "
   ]
  },
  {
   "cell_type": "code",
   "execution_count": 12,
   "id": "61f73dc2",
   "metadata": {},
   "outputs": [
    {
     "name": "stderr",
     "output_type": "stream",
     "text": [
      "                                                                                \r"
     ]
    }
   ],
   "source": [
    "standardScaler = StandardScaler(inputCol='numerical_features', outputCol=\"numerical_features_scaled\")\n",
    "df = standardScaler.fit(df).transform(df)"
   ]
  },
  {
   "cell_type": "code",
   "execution_count": 13,
   "id": "6436265f",
   "metadata": {},
   "outputs": [
    {
     "name": "stdout",
     "output_type": "stream",
     "text": [
      "['longitude', 'latitude', 'housing_median_age', 'total_rooms', 'total_bedrooms', 'population', 'households', 'median_income', 'median_house_value', 'ocean_proximity', 'ocean_proximity_category', 'ocean_proximity_ohe', 'numerical_features', 'numerical_features_scaled']\n"
     ]
    }
   ],
   "source": [
    "print(df.columns)"
   ]
  },
  {
   "cell_type": "code",
   "execution_count": 14,
   "id": "cdd98a77",
   "metadata": {},
   "outputs": [
    {
     "name": "stdout",
     "output_type": "stream",
     "text": [
      "+-------------------+-------------------------+\n",
      "|ocean_proximity_ohe|numerical_features_scaled|\n",
      "+-------------------+-------------------------+\n",
      "|      (4,[3],[1.0])|     [-61.007269596069...|\n",
      "|      (4,[3],[1.0])|     [-61.002278409814...|\n",
      "|      (4,[3],[1.0])|     [-61.012260782324...|\n",
      "+-------------------+-------------------------+\n",
      "only showing top 3 rows\n",
      "\n"
     ]
    }
   ],
   "source": [
    "all_features = ['ocean_proximity_ohe','numerical_features_scaled']\n",
    "\n",
    "final_assembler = VectorAssembler(inputCols=all_features, \n",
    "                                  outputCol=\"features\") \n",
    "df = final_assembler.transform(df)\n",
    "\n",
    "df.select(all_features).show(3) "
   ]
  },
  {
   "cell_type": "markdown",
   "id": "9f0a82f3",
   "metadata": {
    "id": "9f0a82f3"
   },
   "source": [
    "## Model"
   ]
  },
  {
   "cell_type": "code",
   "execution_count": 15,
   "id": "44058a71",
   "metadata": {},
   "outputs": [],
   "source": [
    "RANDOM_SEED = 42"
   ]
  },
  {
   "cell_type": "code",
   "execution_count": 16,
   "id": "bddb08c4",
   "metadata": {
    "id": "bddb08c4"
   },
   "outputs": [
    {
     "name": "stderr",
     "output_type": "stream",
     "text": [
      "                                                                                \r"
     ]
    },
    {
     "name": "stdout",
     "output_type": "stream",
     "text": [
      "16560 4080\n"
     ]
    },
    {
     "name": "stderr",
     "output_type": "stream",
     "text": [
      "                                                                                \r"
     ]
    }
   ],
   "source": [
    "train_data, test_data = df.randomSplit([.8,.2], seed=RANDOM_SEED)\n",
    "print(train_data.count(), test_data.count()) "
   ]
  },
  {
   "cell_type": "markdown",
   "id": "6dd261f8",
   "metadata": {},
   "source": [
    "*Using all the data to train the model*"
   ]
  },
  {
   "cell_type": "code",
   "execution_count": 17,
   "id": "8592b1d5",
   "metadata": {},
   "outputs": [
    {
     "name": "stderr",
     "output_type": "stream",
     "text": [
      "23/02/14 08:13:57 WARN BLAS: Failed to load implementation from: com.github.fommil.netlib.NativeSystemBLAS\n",
      "23/02/14 08:13:57 WARN BLAS: Failed to load implementation from: com.github.fommil.netlib.NativeRefBLAS\n",
      "                                                                                \r"
     ]
    }
   ],
   "source": [
    "lr = LinearRegression(labelCol=target, featuresCol='features', maxIter=10, regParam=0.3, elasticNetParam=0.8)\n",
    "lrModel = lr.fit(train_data)"
   ]
  },
  {
   "cell_type": "code",
   "execution_count": 18,
   "id": "4ab88732",
   "metadata": {},
   "outputs": [
    {
     "name": "stdout",
     "output_type": "stream",
     "text": [
      "RMSE: 68891.490885\n",
      "r2: 0.639886\n",
      "MAE: 49894.401039\n"
     ]
    }
   ],
   "source": [
    "trainingSummary = lrModel.summary\n",
    "print(\"RMSE: %f\" % trainingSummary.rootMeanSquaredError)\n",
    "print(\"r2: %f\" % trainingSummary.r2)\n",
    "print(\"MAE: %f\" % trainingSummary.meanAbsoluteError)"
   ]
  },
  {
   "cell_type": "markdown",
   "id": "d31491a3",
   "metadata": {},
   "source": [
    "*Using only numerical data to train the model*"
   ]
  },
  {
   "cell_type": "code",
   "execution_count": 19,
   "id": "89d1d39a",
   "metadata": {},
   "outputs": [
    {
     "name": "stderr",
     "output_type": "stream",
     "text": [
      "                                                                                \r"
     ]
    }
   ],
   "source": [
    "lr_num = LinearRegression(labelCol=target, featuresCol='numerical_features_scaled', maxIter=10, regParam=0.3, elasticNetParam=0.8)\n",
    "lrModel_num = lr_num.fit(train_data)"
   ]
  },
  {
   "cell_type": "code",
   "execution_count": 20,
   "id": "a3d3a51a",
   "metadata": {},
   "outputs": [
    {
     "name": "stdout",
     "output_type": "stream",
     "text": [
      "RMSE: 69527.589961\n",
      "r2: 0.633205\n",
      "MAE: 50864.183322\n"
     ]
    }
   ],
   "source": [
    "trainingSummary_num = lrModel_num.summary\n",
    "print(\"RMSE: %f\" % trainingSummary_num.rootMeanSquaredError)\n",
    "print(\"r2: %f\" % trainingSummary_num.r2)\n",
    "print(\"MAE: %f\" % trainingSummary_num.meanAbsoluteError)"
   ]
  },
  {
   "cell_type": "markdown",
   "id": "c2420bbc",
   "metadata": {},
   "source": [
    "**RMSE and MAE metrics are higher for a numeric-only model**"
   ]
  },
  {
   "cell_type": "markdown",
   "id": "757fd103",
   "metadata": {
    "id": "757fd103"
   },
   "source": [
    "## Test"
   ]
  },
  {
   "cell_type": "markdown",
   "id": "fab9fb15",
   "metadata": {},
   "source": [
    "Check the model with all the data on the test sample"
   ]
  },
  {
   "cell_type": "code",
   "execution_count": 21,
   "id": "5e308fca",
   "metadata": {},
   "outputs": [
    {
     "name": "stdout",
     "output_type": "stream",
     "text": [
      "Root Mean Squared Error (RMSE) on test data = 71809.2\n",
      "Mean Absolute Error (MAE) on test data = 51390.4\n",
      "r2 = 0.627305\n"
     ]
    }
   ],
   "source": [
    "test_result = lrModel.evaluate(test_data)\n",
    "print(\"Root Mean Squared Error (RMSE) on test data = %g\" % test_result.rootMeanSquaredError)\n",
    "print(\"Mean Absolute Error (MAE) on test data = %g\" % test_result.meanAbsoluteError)\n",
    "print(\"r2 = %g\" % test_result.r2)\n",
    "\n"
   ]
  },
  {
   "cell_type": "markdown",
   "id": "ae9f2daf",
   "metadata": {},
   "source": [
    "Check the model with only numerical data on the test sample"
   ]
  },
  {
   "cell_type": "code",
   "execution_count": 22,
   "id": "fdd04967",
   "metadata": {},
   "outputs": [
    {
     "name": "stderr",
     "output_type": "stream",
     "text": [
      "                                                                                \r"
     ]
    },
    {
     "name": "stdout",
     "output_type": "stream",
     "text": [
      "Root Mean Squared Error (RMSE) on test data = 72160.4\n",
      "Mean Absolute Error (MAE) on test data = 52106.5\n",
      "r2 = 0.623651\n"
     ]
    }
   ],
   "source": [
    "test_result_num = lrModel_num.evaluate(test_data)\n",
    "print(\"Root Mean Squared Error (RMSE) on test data = %g\" % test_result_num.rootMeanSquaredError)\n",
    "print(\"Mean Absolute Error (MAE) on test data = %g\" % test_result_num.meanAbsoluteError)\n",
    "print(\"r2 = %g\" % test_result_num.r2)\n"
   ]
  },
  {
   "cell_type": "markdown",
   "id": "2035df08",
   "metadata": {},
   "source": [
    "### **Resume**\n",
    "\n",
    "The model trained only on numerical data showed higher values of the main metrics RMSE and MAE"
   ]
  }
 ],
 "metadata": {
  "ExecuteTimeLog": [
   {
    "duration": 15964,
    "start_time": "2022-09-27T11:06:15.267Z"
   },
   {
    "duration": 3,
    "start_time": "2022-09-27T11:06:48.095Z"
   },
   {
    "duration": 9009,
    "start_time": "2022-09-27T11:07:06.031Z"
   },
   {
    "duration": 49,
    "start_time": "2022-09-27T11:08:15.918Z"
   },
   {
    "duration": 37,
    "start_time": "2022-09-27T11:08:20.373Z"
   },
   {
    "duration": 5997,
    "start_time": "2022-09-27T11:09:33.024Z"
   },
   {
    "duration": 2297,
    "start_time": "2022-09-27T11:09:52.636Z"
   },
   {
    "duration": 1488,
    "start_time": "2022-09-27T11:10:00.267Z"
   },
   {
    "duration": 71,
    "start_time": "2022-09-27T11:17:53.660Z"
   },
   {
    "duration": 16056,
    "start_time": "2022-09-27T11:34:50.911Z"
   },
   {
    "duration": 8852,
    "start_time": "2022-09-27T11:35:09.176Z"
   },
   {
    "duration": 37,
    "start_time": "2022-09-27T11:35:19.744Z"
   },
   {
    "duration": 4838,
    "start_time": "2022-09-27T11:35:22.891Z"
   },
   {
    "duration": 72,
    "start_time": "2022-09-27T11:35:30.231Z"
   },
   {
    "duration": 691,
    "start_time": "2022-09-27T11:35:39.047Z"
   },
   {
    "duration": 450,
    "start_time": "2022-09-27T11:35:44.703Z"
   },
   {
    "duration": 1817,
    "start_time": "2022-09-27T11:35:56.818Z"
   },
   {
    "duration": 9,
    "start_time": "2022-09-27T12:28:52.235Z"
   },
   {
    "duration": 8,
    "start_time": "2022-09-27T12:29:00.819Z"
   },
   {
    "duration": 12,
    "start_time": "2022-09-27T12:29:22.986Z"
   },
   {
    "duration": 390,
    "start_time": "2022-09-27T12:29:27.549Z"
   },
   {
    "duration": 1627,
    "start_time": "2022-09-27T12:29:48.018Z"
   },
   {
    "duration": 4,
    "start_time": "2022-09-27T12:30:46.081Z"
   },
   {
    "duration": 10,
    "start_time": "2022-09-27T12:31:00.711Z"
   },
   {
    "duration": 235,
    "start_time": "2022-09-27T12:31:08.596Z"
   },
   {
    "duration": 1425,
    "start_time": "2022-09-27T12:31:11.606Z"
   },
   {
    "duration": 1236,
    "start_time": "2022-09-27T12:31:36.125Z"
   },
   {
    "duration": 1147,
    "start_time": "2022-09-27T12:31:47.908Z"
   },
   {
    "duration": 9,
    "start_time": "2022-09-27T12:32:44.720Z"
   },
   {
    "duration": 219,
    "start_time": "2022-09-27T12:33:11.811Z"
   },
   {
    "duration": 831,
    "start_time": "2022-09-27T12:33:24.715Z"
   },
   {
    "duration": 895,
    "start_time": "2022-09-27T12:33:33.131Z"
   },
   {
    "duration": 1000,
    "start_time": "2022-09-27T12:33:56.642Z"
   },
   {
    "duration": 534,
    "start_time": "2022-09-27T12:34:28.938Z"
   },
   {
    "duration": 495,
    "start_time": "2022-09-27T12:34:37.544Z"
   },
   {
    "duration": 154,
    "start_time": "2022-09-27T12:36:22.975Z"
   },
   {
    "duration": 921,
    "start_time": "2022-09-27T12:36:27.518Z"
   },
   {
    "duration": 194,
    "start_time": "2022-09-27T12:36:54.333Z"
   },
   {
    "duration": 9,
    "start_time": "2022-09-27T12:36:55.421Z"
   },
   {
    "duration": 8,
    "start_time": "2022-09-27T12:37:21.580Z"
   },
   {
    "duration": 569,
    "start_time": "2022-09-27T12:37:36.379Z"
   },
   {
    "duration": 7,
    "start_time": "2022-09-27T12:37:37.804Z"
   },
   {
    "duration": 925,
    "start_time": "2022-09-27T12:37:40.115Z"
   },
   {
    "duration": 373,
    "start_time": "2022-09-27T12:37:42.868Z"
   },
   {
    "duration": 16,
    "start_time": "2022-09-27T12:37:46.810Z"
   },
   {
    "duration": 1174,
    "start_time": "2022-09-27T12:37:49.066Z"
   },
   {
    "duration": 335,
    "start_time": "2022-09-27T12:39:40.173Z"
   },
   {
    "duration": 248,
    "start_time": "2022-09-27T12:40:51.031Z"
   },
   {
    "duration": 2003,
    "start_time": "2022-09-27T12:42:27.459Z"
   },
   {
    "duration": 598,
    "start_time": "2022-09-27T12:44:04.249Z"
   },
   {
    "duration": 239,
    "start_time": "2022-09-27T12:51:56.345Z"
   },
   {
    "duration": 8,
    "start_time": "2022-09-27T12:52:43.321Z"
   },
   {
    "duration": 4,
    "start_time": "2022-09-27T12:53:18.925Z"
   },
   {
    "duration": 34,
    "start_time": "2022-09-27T12:53:20.512Z"
   },
   {
    "duration": 3,
    "start_time": "2022-09-27T12:57:08.577Z"
   },
   {
    "duration": 47,
    "start_time": "2022-09-27T12:57:54.960Z"
   },
   {
    "duration": 1239,
    "start_time": "2022-09-27T12:58:12.118Z"
   },
   {
    "duration": 11,
    "start_time": "2022-09-27T12:58:26.422Z"
   },
   {
    "duration": 362,
    "start_time": "2022-09-27T12:59:36.306Z"
   },
   {
    "duration": 9,
    "start_time": "2022-09-27T12:59:51.930Z"
   },
   {
    "duration": 3,
    "start_time": "2022-09-27T13:00:04.412Z"
   },
   {
    "duration": 2797,
    "start_time": "2022-09-27T13:00:04.939Z"
   },
   {
    "duration": 60179,
    "start_time": "2022-09-27T13:00:31.915Z"
   },
   {
    "duration": 3,
    "start_time": "2022-09-27T13:02:04.856Z"
   },
   {
    "duration": 278,
    "start_time": "2022-09-27T13:03:05.462Z"
   },
   {
    "duration": 308628,
    "start_time": "2022-09-27T13:11:56.894Z"
   },
   {
    "duration": 0,
    "start_time": "2022-09-27T13:19:07.546Z"
   },
   {
    "duration": 1830465,
    "start_time": "2022-09-27T13:21:31.257Z"
   },
   {
    "duration": 9,
    "start_time": "2022-09-27T13:57:32.179Z"
   },
   {
    "duration": 9,
    "start_time": "2022-09-27T14:00:18.748Z"
   },
   {
    "duration": 19,
    "start_time": "2022-09-27T14:00:25.909Z"
   },
   {
    "duration": 259471,
    "start_time": "2022-09-27T14:00:31.973Z"
   },
   {
    "duration": 698195,
    "start_time": "2022-09-27T14:06:11.938Z"
   },
   {
    "duration": 19,
    "start_time": "2022-09-27T15:57:56.440Z"
   },
   {
    "duration": 19,
    "start_time": "2022-09-27T16:00:21.989Z"
   },
   {
    "duration": 16283,
    "start_time": "2022-09-27T16:02:24.840Z"
   },
   {
    "duration": 9623,
    "start_time": "2022-09-27T16:02:41.126Z"
   },
   {
    "duration": 97,
    "start_time": "2022-09-27T16:02:50.751Z"
   },
   {
    "duration": 4975,
    "start_time": "2022-09-27T16:02:50.851Z"
   },
   {
    "duration": 1030,
    "start_time": "2022-09-27T16:02:55.828Z"
   },
   {
    "duration": 101,
    "start_time": "2022-09-27T16:02:56.920Z"
   },
   {
    "duration": 1922,
    "start_time": "2022-09-27T16:02:57.023Z"
   },
   {
    "duration": 2397,
    "start_time": "2022-09-27T16:02:58.956Z"
   },
   {
    "duration": 3,
    "start_time": "2022-09-27T16:03:01.422Z"
   },
   {
    "duration": 709,
    "start_time": "2022-09-27T16:03:01.430Z"
   },
   {
    "duration": 4,
    "start_time": "2022-09-27T16:03:02.141Z"
   },
   {
    "duration": 103,
    "start_time": "2022-09-27T16:03:02.147Z"
   },
   {
    "duration": 178,
    "start_time": "2022-09-27T16:03:02.252Z"
   },
   {
    "duration": 1416,
    "start_time": "2022-09-27T16:03:02.432Z"
   },
   {
    "duration": 69,
    "start_time": "2022-09-27T16:03:03.851Z"
   },
   {
    "duration": 421,
    "start_time": "2022-09-27T16:03:03.922Z"
   },
   {
    "duration": 3,
    "start_time": "2022-09-27T16:03:04.345Z"
   },
   {
    "duration": 3275,
    "start_time": "2022-09-27T16:03:04.351Z"
   },
   {
    "duration": 2,
    "start_time": "2022-09-27T16:03:07.628Z"
   },
   {
    "duration": 4348,
    "start_time": "2022-09-27T16:03:07.632Z"
   },
   {
    "duration": 48,
    "start_time": "2022-09-27T16:03:11.982Z"
   },
   {
    "duration": 1419,
    "start_time": "2022-09-27T16:03:12.031Z"
   },
   {
    "duration": 2477,
    "start_time": "2022-09-27T16:03:13.452Z"
   },
   {
    "duration": 6,
    "start_time": "2022-09-27T16:03:56.431Z"
   },
   {
    "duration": 1276,
    "start_time": "2022-09-27T16:04:20.151Z"
   },
   {
    "duration": 17408,
    "start_time": "2022-09-28T07:47:45.593Z"
   },
   {
    "duration": 10086,
    "start_time": "2022-09-28T07:48:16.247Z"
   },
   {
    "duration": 35,
    "start_time": "2022-09-28T07:48:28.977Z"
   },
   {
    "duration": 5018,
    "start_time": "2022-09-28T07:49:15.012Z"
   },
   {
    "duration": 1219,
    "start_time": "2022-09-28T07:49:40.811Z"
   },
   {
    "duration": 45,
    "start_time": "2022-09-28T07:50:40.089Z"
   },
   {
    "duration": 2224,
    "start_time": "2022-09-28T07:50:42.380Z"
   },
   {
    "duration": 1792,
    "start_time": "2022-09-28T07:56:27.147Z"
   },
   {
    "duration": 819,
    "start_time": "2022-09-28T07:56:38.591Z"
   },
   {
    "duration": 752,
    "start_time": "2022-09-28T07:56:47.380Z"
   },
   {
    "duration": 3,
    "start_time": "2022-09-28T07:57:43.630Z"
   },
   {
    "duration": 87,
    "start_time": "2022-09-28T07:57:55.609Z"
   },
   {
    "duration": 1416,
    "start_time": "2022-09-28T07:57:56.580Z"
   },
   {
    "duration": 8,
    "start_time": "2022-09-28T07:58:08.461Z"
   },
   {
    "duration": 529,
    "start_time": "2022-09-28T07:58:17.493Z"
   },
   {
    "duration": 3,
    "start_time": "2022-09-28T07:58:29.763Z"
   },
   {
    "duration": 3883,
    "start_time": "2022-09-28T07:59:06.627Z"
   },
   {
    "duration": 6032,
    "start_time": "2022-09-28T08:00:13.274Z"
   },
   {
    "duration": 10,
    "start_time": "2022-09-28T08:00:25.945Z"
   },
   {
    "duration": 1949,
    "start_time": "2022-09-28T08:01:13.261Z"
   },
   {
    "duration": 3280,
    "start_time": "2022-09-28T08:02:38.724Z"
   },
   {
    "duration": 12,
    "start_time": "2022-09-28T08:02:46.195Z"
   },
   {
    "duration": 1777,
    "start_time": "2022-09-28T08:02:55.021Z"
   },
   {
    "duration": 16704,
    "start_time": "2023-02-14T08:13:12.647Z"
   },
   {
    "duration": 9844,
    "start_time": "2023-02-14T08:13:29.353Z"
   },
   {
    "duration": 37,
    "start_time": "2023-02-14T08:13:39.250Z"
   },
   {
    "duration": 4774,
    "start_time": "2023-02-14T08:13:39.289Z"
   },
   {
    "duration": 1201,
    "start_time": "2023-02-14T08:13:44.065Z"
   },
   {
    "duration": 181,
    "start_time": "2023-02-14T08:13:45.268Z"
   },
   {
    "duration": 1998,
    "start_time": "2023-02-14T08:13:45.452Z"
   },
   {
    "duration": 2227,
    "start_time": "2023-02-14T08:13:47.452Z"
   },
   {
    "duration": 730,
    "start_time": "2023-02-14T08:13:49.749Z"
   },
   {
    "duration": 4,
    "start_time": "2023-02-14T08:13:50.481Z"
   },
   {
    "duration": 173,
    "start_time": "2023-02-14T08:13:50.487Z"
   },
   {
    "duration": 1489,
    "start_time": "2023-02-14T08:13:50.663Z"
   },
   {
    "duration": 8,
    "start_time": "2023-02-14T08:13:52.154Z"
   },
   {
    "duration": 505,
    "start_time": "2023-02-14T08:13:52.165Z"
   },
   {
    "duration": 3,
    "start_time": "2023-02-14T08:13:52.672Z"
   },
   {
    "duration": 2972,
    "start_time": "2023-02-14T08:13:52.677Z"
   },
   {
    "duration": 4427,
    "start_time": "2023-02-14T08:13:55.651Z"
   },
   {
    "duration": 74,
    "start_time": "2023-02-14T08:14:00.080Z"
   },
   {
    "duration": 3201,
    "start_time": "2023-02-14T08:14:00.156Z"
   },
   {
    "duration": 6,
    "start_time": "2023-02-14T08:14:03.359Z"
   },
   {
    "duration": 1525,
    "start_time": "2023-02-14T08:14:03.367Z"
   },
   {
    "duration": 1629,
    "start_time": "2023-02-14T08:14:04.894Z"
   }
  ],
  "colab": {
   "name": "PySparkSprint.ipynb",
   "provenance": []
  },
  "kernelspec": {
   "display_name": "Python 3 (ipykernel)",
   "language": "python",
   "name": "python3"
  },
  "language_info": {
   "codemirror_mode": {
    "name": "ipython",
    "version": 3
   },
   "file_extension": ".py",
   "mimetype": "text/x-python",
   "name": "python",
   "nbconvert_exporter": "python",
   "pygments_lexer": "ipython3",
   "version": "3.9.5"
  },
  "toc": {
   "base_numbering": 1,
   "nav_menu": {},
   "number_sections": false,
   "sideBar": true,
   "skip_h1_title": true,
   "title_cell": "Table of Contents",
   "title_sidebar": "Contents",
   "toc_cell": false,
   "toc_position": {},
   "toc_section_display": true,
   "toc_window_display": true
  }
 },
 "nbformat": 4,
 "nbformat_minor": 5
}
