{
 "cells": [
  {
   "cell_type": "markdown",
   "metadata": {},
   "source": [
    "# Real estate commercial analysis"
   ],
   "outputs": []
  },
  {
   "cell_type": "markdown",
   "source": [
    "**Aim** - to analyze data from the Yandex Real Estate service and set parameters that affect the cost of objects.\n",
    "\n",
    "**Data** - advertisements for the sale of apartments in St. Petersburg and neighboring settlements for 2014 - 2019.\n",
    "The input data contains both data entered by the user and automatically received data.\n",
    "\n",
    "**Main areas of research:**\n",
    "- Determine what factors affect the cost of housing: number of rooms, floor, ceiling height, distance from the center, date of placement of the ad.\n",
    "- Select the most and least popular areas, compare their prices.\n",
    "- Assess the real estate market in the center of St. Petersburg.\n",
    "- Compare the overall findings with the dependency analysis at the center.\n",
    "\n",
    "**The study contains the following steps:**\n",
    "1. Data review.\n",
    "2. Data preprocessing.\n",
    "3. Hypothesis testing."
   ],
   "metadata": {
    "collapsed": false
   }
  },
  {
   "cell_type": "markdown",
   "source": [
    "## Load libraries & data"
   ],
   "metadata": {
    "collapsed": false
   }
  },
  {
   "cell_type": "code",
   "execution_count": 1,
   "metadata": {},
   "outputs": [],
   "source": [
    "import pandas as pd\n",
    "import matplotlib.pyplot as plt\n",
    "import numpy as np\n",
    "\n",
    "import warnings\n",
    "warnings.filterwarnings('ignore')"
   ]
  },
  {
   "cell_type": "code",
   "execution_count": 2,
   "outputs": [
    {
     "data": {
      "text/plain": "   total_images  last_price  total_area first_day_exposition  rooms  \\\n0            20  13000000.0      108.00  2019-03-07T00:00:00      3   \n1             7   3350000.0       40.40  2018-12-04T00:00:00      1   \n2            10   5196000.0       56.00  2015-08-20T00:00:00      2   \n3             0  64900000.0      159.00  2015-07-24T00:00:00      3   \n4             2  10000000.0      100.00  2018-06-19T00:00:00      2   \n5            10   2890000.0       30.40  2018-09-10T00:00:00      1   \n6             6   3700000.0       37.30  2017-11-02T00:00:00      1   \n7             5   7915000.0       71.60  2019-04-18T00:00:00      2   \n8            20   2900000.0       33.16  2018-05-23T00:00:00      1   \n9            18   5400000.0       61.00  2017-02-26T00:00:00      3   \n\n   ceiling_height  floors_total  living_area  floor is_apartment  ...  \\\n0            2.70          16.0        51.00      8          NaN  ...   \n1             NaN          11.0        18.60      1          NaN  ...   \n2             NaN           5.0        34.30      4          NaN  ...   \n3             NaN          14.0          NaN      9          NaN  ...   \n4            3.03          14.0        32.00     13          NaN  ...   \n5             NaN          12.0        14.40      5          NaN  ...   \n6             NaN          26.0        10.60      6          NaN  ...   \n7             NaN          24.0          NaN     22          NaN  ...   \n8             NaN          27.0        15.43     26          NaN  ...   \n9            2.50           9.0        43.60      7          NaN  ...   \n\n   kitchen_area  balcony              locality_name  airports_nearest  \\\n0         25.00      NaN            Санкт-Петербург           18863.0   \n1         11.00      2.0             посёлок Шушары           12817.0   \n2          8.30      0.0            Санкт-Петербург           21741.0   \n3           NaN      0.0            Санкт-Петербург           28098.0   \n4         41.00      NaN            Санкт-Петербург           31856.0   \n5          9.10      NaN  городской посёлок Янино-1               NaN   \n6         14.40      1.0          посёлок Парголово           52996.0   \n7         18.90      2.0            Санкт-Петербург           23982.0   \n8          8.81      NaN             посёлок Мурино               NaN   \n9          6.50      2.0            Санкт-Петербург           50898.0   \n\n  cityCenters_nearest  parks_around3000  parks_nearest  ponds_around3000  \\\n0             16028.0               1.0          482.0               2.0   \n1             18603.0               0.0            NaN               0.0   \n2             13933.0               1.0           90.0               2.0   \n3              6800.0               2.0           84.0               3.0   \n4              8098.0               2.0          112.0               1.0   \n5                 NaN               NaN            NaN               NaN   \n6             19143.0               0.0            NaN               0.0   \n7             11634.0               0.0            NaN               0.0   \n8                 NaN               NaN            NaN               NaN   \n9             15008.0               0.0            NaN               0.0   \n\n   ponds_nearest  days_exposition  \n0          755.0              NaN  \n1            NaN             81.0  \n2          574.0            558.0  \n3          234.0            424.0  \n4           48.0            121.0  \n5            NaN             55.0  \n6            NaN            155.0  \n7            NaN              NaN  \n8            NaN            189.0  \n9            NaN            289.0  \n\n[10 rows x 22 columns]",
      "text/html": "<div>\n<style scoped>\n    .dataframe tbody tr th:only-of-type {\n        vertical-align: middle;\n    }\n\n    .dataframe tbody tr th {\n        vertical-align: top;\n    }\n\n    .dataframe thead th {\n        text-align: right;\n    }\n</style>\n<table border=\"1\" class=\"dataframe\">\n  <thead>\n    <tr style=\"text-align: right;\">\n      <th></th>\n      <th>total_images</th>\n      <th>last_price</th>\n      <th>total_area</th>\n      <th>first_day_exposition</th>\n      <th>rooms</th>\n      <th>ceiling_height</th>\n      <th>floors_total</th>\n      <th>living_area</th>\n      <th>floor</th>\n      <th>is_apartment</th>\n      <th>...</th>\n      <th>kitchen_area</th>\n      <th>balcony</th>\n      <th>locality_name</th>\n      <th>airports_nearest</th>\n      <th>cityCenters_nearest</th>\n      <th>parks_around3000</th>\n      <th>parks_nearest</th>\n      <th>ponds_around3000</th>\n      <th>ponds_nearest</th>\n      <th>days_exposition</th>\n    </tr>\n  </thead>\n  <tbody>\n    <tr>\n      <th>0</th>\n      <td>20</td>\n      <td>13000000.0</td>\n      <td>108.00</td>\n      <td>2019-03-07T00:00:00</td>\n      <td>3</td>\n      <td>2.70</td>\n      <td>16.0</td>\n      <td>51.00</td>\n      <td>8</td>\n      <td>NaN</td>\n      <td>...</td>\n      <td>25.00</td>\n      <td>NaN</td>\n      <td>Санкт-Петербург</td>\n      <td>18863.0</td>\n      <td>16028.0</td>\n      <td>1.0</td>\n      <td>482.0</td>\n      <td>2.0</td>\n      <td>755.0</td>\n      <td>NaN</td>\n    </tr>\n    <tr>\n      <th>1</th>\n      <td>7</td>\n      <td>3350000.0</td>\n      <td>40.40</td>\n      <td>2018-12-04T00:00:00</td>\n      <td>1</td>\n      <td>NaN</td>\n      <td>11.0</td>\n      <td>18.60</td>\n      <td>1</td>\n      <td>NaN</td>\n      <td>...</td>\n      <td>11.00</td>\n      <td>2.0</td>\n      <td>посёлок Шушары</td>\n      <td>12817.0</td>\n      <td>18603.0</td>\n      <td>0.0</td>\n      <td>NaN</td>\n      <td>0.0</td>\n      <td>NaN</td>\n      <td>81.0</td>\n    </tr>\n    <tr>\n      <th>2</th>\n      <td>10</td>\n      <td>5196000.0</td>\n      <td>56.00</td>\n      <td>2015-08-20T00:00:00</td>\n      <td>2</td>\n      <td>NaN</td>\n      <td>5.0</td>\n      <td>34.30</td>\n      <td>4</td>\n      <td>NaN</td>\n      <td>...</td>\n      <td>8.30</td>\n      <td>0.0</td>\n      <td>Санкт-Петербург</td>\n      <td>21741.0</td>\n      <td>13933.0</td>\n      <td>1.0</td>\n      <td>90.0</td>\n      <td>2.0</td>\n      <td>574.0</td>\n      <td>558.0</td>\n    </tr>\n    <tr>\n      <th>3</th>\n      <td>0</td>\n      <td>64900000.0</td>\n      <td>159.00</td>\n      <td>2015-07-24T00:00:00</td>\n      <td>3</td>\n      <td>NaN</td>\n      <td>14.0</td>\n      <td>NaN</td>\n      <td>9</td>\n      <td>NaN</td>\n      <td>...</td>\n      <td>NaN</td>\n      <td>0.0</td>\n      <td>Санкт-Петербург</td>\n      <td>28098.0</td>\n      <td>6800.0</td>\n      <td>2.0</td>\n      <td>84.0</td>\n      <td>3.0</td>\n      <td>234.0</td>\n      <td>424.0</td>\n    </tr>\n    <tr>\n      <th>4</th>\n      <td>2</td>\n      <td>10000000.0</td>\n      <td>100.00</td>\n      <td>2018-06-19T00:00:00</td>\n      <td>2</td>\n      <td>3.03</td>\n      <td>14.0</td>\n      <td>32.00</td>\n      <td>13</td>\n      <td>NaN</td>\n      <td>...</td>\n      <td>41.00</td>\n      <td>NaN</td>\n      <td>Санкт-Петербург</td>\n      <td>31856.0</td>\n      <td>8098.0</td>\n      <td>2.0</td>\n      <td>112.0</td>\n      <td>1.0</td>\n      <td>48.0</td>\n      <td>121.0</td>\n    </tr>\n    <tr>\n      <th>5</th>\n      <td>10</td>\n      <td>2890000.0</td>\n      <td>30.40</td>\n      <td>2018-09-10T00:00:00</td>\n      <td>1</td>\n      <td>NaN</td>\n      <td>12.0</td>\n      <td>14.40</td>\n      <td>5</td>\n      <td>NaN</td>\n      <td>...</td>\n      <td>9.10</td>\n      <td>NaN</td>\n      <td>городской посёлок Янино-1</td>\n      <td>NaN</td>\n      <td>NaN</td>\n      <td>NaN</td>\n      <td>NaN</td>\n      <td>NaN</td>\n      <td>NaN</td>\n      <td>55.0</td>\n    </tr>\n    <tr>\n      <th>6</th>\n      <td>6</td>\n      <td>3700000.0</td>\n      <td>37.30</td>\n      <td>2017-11-02T00:00:00</td>\n      <td>1</td>\n      <td>NaN</td>\n      <td>26.0</td>\n      <td>10.60</td>\n      <td>6</td>\n      <td>NaN</td>\n      <td>...</td>\n      <td>14.40</td>\n      <td>1.0</td>\n      <td>посёлок Парголово</td>\n      <td>52996.0</td>\n      <td>19143.0</td>\n      <td>0.0</td>\n      <td>NaN</td>\n      <td>0.0</td>\n      <td>NaN</td>\n      <td>155.0</td>\n    </tr>\n    <tr>\n      <th>7</th>\n      <td>5</td>\n      <td>7915000.0</td>\n      <td>71.60</td>\n      <td>2019-04-18T00:00:00</td>\n      <td>2</td>\n      <td>NaN</td>\n      <td>24.0</td>\n      <td>NaN</td>\n      <td>22</td>\n      <td>NaN</td>\n      <td>...</td>\n      <td>18.90</td>\n      <td>2.0</td>\n      <td>Санкт-Петербург</td>\n      <td>23982.0</td>\n      <td>11634.0</td>\n      <td>0.0</td>\n      <td>NaN</td>\n      <td>0.0</td>\n      <td>NaN</td>\n      <td>NaN</td>\n    </tr>\n    <tr>\n      <th>8</th>\n      <td>20</td>\n      <td>2900000.0</td>\n      <td>33.16</td>\n      <td>2018-05-23T00:00:00</td>\n      <td>1</td>\n      <td>NaN</td>\n      <td>27.0</td>\n      <td>15.43</td>\n      <td>26</td>\n      <td>NaN</td>\n      <td>...</td>\n      <td>8.81</td>\n      <td>NaN</td>\n      <td>посёлок Мурино</td>\n      <td>NaN</td>\n      <td>NaN</td>\n      <td>NaN</td>\n      <td>NaN</td>\n      <td>NaN</td>\n      <td>NaN</td>\n      <td>189.0</td>\n    </tr>\n    <tr>\n      <th>9</th>\n      <td>18</td>\n      <td>5400000.0</td>\n      <td>61.00</td>\n      <td>2017-02-26T00:00:00</td>\n      <td>3</td>\n      <td>2.50</td>\n      <td>9.0</td>\n      <td>43.60</td>\n      <td>7</td>\n      <td>NaN</td>\n      <td>...</td>\n      <td>6.50</td>\n      <td>2.0</td>\n      <td>Санкт-Петербург</td>\n      <td>50898.0</td>\n      <td>15008.0</td>\n      <td>0.0</td>\n      <td>NaN</td>\n      <td>0.0</td>\n      <td>NaN</td>\n      <td>289.0</td>\n    </tr>\n  </tbody>\n</table>\n<p>10 rows × 22 columns</p>\n</div>"
     },
     "execution_count": 2,
     "metadata": {},
     "output_type": "execute_result"
    }
   ],
   "source": [
    "df = pd.read_csv('real_estate_data.csv', sep='\\t')\n",
    "df.head(10)"
   ],
   "metadata": {
    "collapsed": false
   }
  },
  {
   "cell_type": "code",
   "execution_count": 3,
   "metadata": {},
   "outputs": [
    {
     "name": "stdout",
     "output_type": "stream",
     "text": [
      "<class 'pandas.core.frame.DataFrame'>\n",
      "RangeIndex: 23699 entries, 0 to 23698\n",
      "Data columns (total 22 columns):\n",
      " #   Column                Non-Null Count  Dtype  \n",
      "---  ------                --------------  -----  \n",
      " 0   total_images          23699 non-null  int64  \n",
      " 1   last_price            23699 non-null  float64\n",
      " 2   total_area            23699 non-null  float64\n",
      " 3   first_day_exposition  23699 non-null  object \n",
      " 4   rooms                 23699 non-null  int64  \n",
      " 5   ceiling_height        14504 non-null  float64\n",
      " 6   floors_total          23613 non-null  float64\n",
      " 7   living_area           21796 non-null  float64\n",
      " 8   floor                 23699 non-null  int64  \n",
      " 9   is_apartment          2775 non-null   object \n",
      " 10  studio                23699 non-null  bool   \n",
      " 11  open_plan             23699 non-null  bool   \n",
      " 12  kitchen_area          21421 non-null  float64\n",
      " 13  balcony               12180 non-null  float64\n",
      " 14  locality_name         23650 non-null  object \n",
      " 15  airports_nearest      18157 non-null  float64\n",
      " 16  cityCenters_nearest   18180 non-null  float64\n",
      " 17  parks_around3000      18181 non-null  float64\n",
      " 18  parks_nearest         8079 non-null   float64\n",
      " 19  ponds_around3000      18181 non-null  float64\n",
      " 20  ponds_nearest         9110 non-null   float64\n",
      " 21  days_exposition       20518 non-null  float64\n",
      "dtypes: bool(2), float64(14), int64(3), object(3)\n",
      "memory usage: 3.7+ MB\n"
     ]
    }
   ],
   "source": [
    "df.info()"
   ]
  },
  {
   "cell_type": "markdown",
   "metadata": {},
   "source": [
    "**Resume**"
   ]
  },
  {
   "cell_type": "markdown",
   "metadata": {},
   "source": [
    "- The data contains information about 23699 properties.\n",
    "- There are 22 columns in the table, including 2 boolean types, 14 - float, 3 - int, 3 - object.\n",
    "- The names of the columns are informative and correspond to the style.\n",
    "- There are missing values in few columns.\n",
    "\n",
    "*The first stage of the project will be data preprocessing to remove and evaluate the impact of omissions, as well as correct data types.*"
   ]
  },
  {
   "cell_type": "markdown",
   "metadata": {},
   "source": [
    "## Feature engineering"
   ]
  },
  {
   "cell_type": "markdown",
   "source": [
    "### Missing values"
   ],
   "metadata": {
    "collapsed": false
   }
  },
  {
   "cell_type": "code",
   "execution_count": 4,
   "outputs": [
    {
     "data": {
      "text/plain": "<pandas.io.formats.style.Styler at 0x7fcd18623510>",
      "text/html": "<style type=\"text/css\">\n#T_d2df7_row0_col0 {\n  background-color: #b40426;\n  color: #f1f1f1;\n}\n#T_d2df7_row1_col0 {\n  background-color: #f49a7b;\n  color: #000000;\n}\n#T_d2df7_row2_col0 {\n  background-color: #f7ad90;\n  color: #000000;\n}\n#T_d2df7_row3_col0 {\n  background-color: #e9d5cb;\n  color: #000000;\n}\n#T_d2df7_row4_col0 {\n  background-color: #ccd9ed;\n  color: #000000;\n}\n#T_d2df7_row5_col0, #T_d2df7_row6_col0, #T_d2df7_row7_col0, #T_d2df7_row8_col0 {\n  background-color: #92b4fe;\n  color: #000000;\n}\n#T_d2df7_row9_col0 {\n  background-color: #6a8bef;\n  color: #f1f1f1;\n}\n#T_d2df7_row10_col0 {\n  background-color: #5b7ae5;\n  color: #f1f1f1;\n}\n#T_d2df7_row11_col0 {\n  background-color: #5673e0;\n  color: #f1f1f1;\n}\n#T_d2df7_row12_col0 {\n  background-color: #3c4ec2;\n  color: #f1f1f1;\n}\n#T_d2df7_row13_col0, #T_d2df7_row14_col0, #T_d2df7_row15_col0, #T_d2df7_row16_col0, #T_d2df7_row17_col0, #T_d2df7_row18_col0, #T_d2df7_row19_col0, #T_d2df7_row20_col0, #T_d2df7_row21_col0 {\n  background-color: #3b4cc0;\n  color: #f1f1f1;\n}\n</style>\n<table id=\"T_d2df7_\">\n  <thead>\n    <tr>\n      <th class=\"blank level0\" >&nbsp;</th>\n      <th class=\"col_heading level0 col0\" >0</th>\n    </tr>\n  </thead>\n  <tbody>\n    <tr>\n      <th id=\"T_d2df7_level0_row0\" class=\"row_heading level0 row0\" >is_apartment</th>\n      <td id=\"T_d2df7_row0_col0\" class=\"data row0 col0\" >88.290000</td>\n    </tr>\n    <tr>\n      <th id=\"T_d2df7_level0_row1\" class=\"row_heading level0 row1\" >parks_nearest</th>\n      <td id=\"T_d2df7_row1_col0\" class=\"data row1 col0\" >65.910000</td>\n    </tr>\n    <tr>\n      <th id=\"T_d2df7_level0_row2\" class=\"row_heading level0 row2\" >ponds_nearest</th>\n      <td id=\"T_d2df7_row2_col0\" class=\"data row2 col0\" >61.560000</td>\n    </tr>\n    <tr>\n      <th id=\"T_d2df7_level0_row3\" class=\"row_heading level0 row3\" >balcony</th>\n      <td id=\"T_d2df7_row3_col0\" class=\"data row3 col0\" >48.610000</td>\n    </tr>\n    <tr>\n      <th id=\"T_d2df7_level0_row4\" class=\"row_heading level0 row4\" >ceiling_height</th>\n      <td id=\"T_d2df7_row4_col0\" class=\"data row4 col0\" >38.800000</td>\n    </tr>\n    <tr>\n      <th id=\"T_d2df7_level0_row5\" class=\"row_heading level0 row5\" >airports_nearest</th>\n      <td id=\"T_d2df7_row5_col0\" class=\"data row5 col0\" >23.380000</td>\n    </tr>\n    <tr>\n      <th id=\"T_d2df7_level0_row6\" class=\"row_heading level0 row6\" >cityCenters_nearest</th>\n      <td id=\"T_d2df7_row6_col0\" class=\"data row6 col0\" >23.290000</td>\n    </tr>\n    <tr>\n      <th id=\"T_d2df7_level0_row7\" class=\"row_heading level0 row7\" >parks_around3000</th>\n      <td id=\"T_d2df7_row7_col0\" class=\"data row7 col0\" >23.280000</td>\n    </tr>\n    <tr>\n      <th id=\"T_d2df7_level0_row8\" class=\"row_heading level0 row8\" >ponds_around3000</th>\n      <td id=\"T_d2df7_row8_col0\" class=\"data row8 col0\" >23.280000</td>\n    </tr>\n    <tr>\n      <th id=\"T_d2df7_level0_row9\" class=\"row_heading level0 row9\" >days_exposition</th>\n      <td id=\"T_d2df7_row9_col0\" class=\"data row9 col0\" >13.420000</td>\n    </tr>\n    <tr>\n      <th id=\"T_d2df7_level0_row10\" class=\"row_heading level0 row10\" >kitchen_area</th>\n      <td id=\"T_d2df7_row10_col0\" class=\"data row10 col0\" >9.610000</td>\n    </tr>\n    <tr>\n      <th id=\"T_d2df7_level0_row11\" class=\"row_heading level0 row11\" >living_area</th>\n      <td id=\"T_d2df7_row11_col0\" class=\"data row11 col0\" >8.030000</td>\n    </tr>\n    <tr>\n      <th id=\"T_d2df7_level0_row12\" class=\"row_heading level0 row12\" >floors_total</th>\n      <td id=\"T_d2df7_row12_col0\" class=\"data row12 col0\" >0.360000</td>\n    </tr>\n    <tr>\n      <th id=\"T_d2df7_level0_row13\" class=\"row_heading level0 row13\" >locality_name</th>\n      <td id=\"T_d2df7_row13_col0\" class=\"data row13 col0\" >0.210000</td>\n    </tr>\n    <tr>\n      <th id=\"T_d2df7_level0_row14\" class=\"row_heading level0 row14\" >first_day_exposition</th>\n      <td id=\"T_d2df7_row14_col0\" class=\"data row14 col0\" >0.000000</td>\n    </tr>\n    <tr>\n      <th id=\"T_d2df7_level0_row15\" class=\"row_heading level0 row15\" >last_price</th>\n      <td id=\"T_d2df7_row15_col0\" class=\"data row15 col0\" >0.000000</td>\n    </tr>\n    <tr>\n      <th id=\"T_d2df7_level0_row16\" class=\"row_heading level0 row16\" >total_area</th>\n      <td id=\"T_d2df7_row16_col0\" class=\"data row16 col0\" >0.000000</td>\n    </tr>\n    <tr>\n      <th id=\"T_d2df7_level0_row17\" class=\"row_heading level0 row17\" >studio</th>\n      <td id=\"T_d2df7_row17_col0\" class=\"data row17 col0\" >0.000000</td>\n    </tr>\n    <tr>\n      <th id=\"T_d2df7_level0_row18\" class=\"row_heading level0 row18\" >rooms</th>\n      <td id=\"T_d2df7_row18_col0\" class=\"data row18 col0\" >0.000000</td>\n    </tr>\n    <tr>\n      <th id=\"T_d2df7_level0_row19\" class=\"row_heading level0 row19\" >floor</th>\n      <td id=\"T_d2df7_row19_col0\" class=\"data row19 col0\" >0.000000</td>\n    </tr>\n    <tr>\n      <th id=\"T_d2df7_level0_row20\" class=\"row_heading level0 row20\" >open_plan</th>\n      <td id=\"T_d2df7_row20_col0\" class=\"data row20 col0\" >0.000000</td>\n    </tr>\n    <tr>\n      <th id=\"T_d2df7_level0_row21\" class=\"row_heading level0 row21\" >total_images</th>\n      <td id=\"T_d2df7_row21_col0\" class=\"data row21 col0\" >0.000000</td>\n    </tr>\n  </tbody>\n</table>\n"
     },
     "execution_count": 4,
     "metadata": {},
     "output_type": "execute_result"
    }
   ],
   "source": [
    "pd.DataFrame(df.isna().mean().round(4)*100).sort_values(by=0)[::-1].style.background_gradient('coolwarm')"
   ],
   "metadata": {
    "collapsed": false
   }
  },
  {
   "cell_type": "markdown",
   "source": [
    "#### Ceiling height"
   ],
   "metadata": {
    "collapsed": false
   }
  },
  {
   "cell_type": "code",
   "execution_count": 5,
   "outputs": [
    {
     "name": "stdout",
     "output_type": "stream",
     "text": [
      "Percentage of missing values in ceiling_height 38.8%\n"
     ]
    }
   ],
   "source": [
    "print(f\"Percentage of missing values in ceiling_height {1 - df['ceiling_height'].count() / df['total_images'].count():.01%}\")"
   ],
   "metadata": {
    "collapsed": false
   }
  },
  {
   "cell_type": "code",
   "execution_count": 6,
   "outputs": [
    {
     "data": {
      "text/plain": "       total_images  last_price  total_area first_day_exposition  rooms  \\\n18545             6   3750000.0        43.0  2019-03-18T00:00:00      2   \n355              17   3600000.0        55.2  2018-07-12T00:00:00      2   \n6246              6   3300000.0        44.4  2019-03-25T00:00:00      2   \n14382             9   1700000.0        35.0  2015-12-04T00:00:00      1   \n11285             0   1950000.0        37.0  2019-03-20T00:00:00      1   \n4643              0   4300000.0        45.0  2018-02-01T00:00:00      2   \n9379              5   3950000.0        42.0  2017-03-26T00:00:00      3   \n5669              4   4400000.0        50.0  2017-08-08T00:00:00      2   \n5807             17   8150000.0        80.0  2019-01-09T00:00:00      2   \n5246              0   2500000.0        54.0  2017-10-13T00:00:00      2   \n21824            20   2450000.0        44.0  2019-02-12T00:00:00      2   \n22938            14   4000000.0        98.0  2018-03-15T00:00:00      4   \n4876              7   3000000.0        25.0  2017-09-27T00:00:00      0   \n10773             8   3800000.0        58.0  2017-10-13T00:00:00      2   \n20478            11   8000000.0        45.0  2017-07-18T00:00:00      1   \n17857             1   3900000.0        56.0  2017-12-22T00:00:00      3   \n21377            19   4900000.0        42.0  2017-04-18T00:00:00      1   \n22336            19   9999000.0        92.4  2019-04-05T00:00:00      2   \n3148             14   2900000.0        75.0  2018-11-12T00:00:00      3   \n22869             0  15000000.0        25.0  2018-07-25T00:00:00      1   \n\n       ceiling_height  floors_total  living_area  floor is_apartment  ...  \\\n18545            25.0           5.0         29.0      3        False  ...   \n355              25.0           5.0         32.0      2        False  ...   \n6246             25.0           5.0         31.3      5          NaN  ...   \n14382            25.0           5.0         20.0      2        False  ...   \n11285            25.0           5.0         17.0      4        False  ...   \n4643             25.0           9.0         30.0      2          NaN  ...   \n9379             25.0           5.0         30.0      2          NaN  ...   \n5669             26.0           9.0         21.3      3          NaN  ...   \n5807             27.0          36.0         41.0     13          NaN  ...   \n5246             27.0           5.0         30.0      3          NaN  ...   \n21824            27.0           2.0         38.0      2        False  ...   \n22938            27.0           2.0         73.0      2         True  ...   \n4876             27.0          25.0         17.0     17          NaN  ...   \n10773            27.0          10.0         30.1      3        False  ...   \n20478            27.0           4.0         22.0      2          NaN  ...   \n17857            27.0           5.0         33.0      4        False  ...   \n21377            27.5          24.0         37.7     19        False  ...   \n22336            32.0           6.0         55.5      5        False  ...   \n3148             32.0           3.0         53.0      2          NaN  ...   \n22869           100.0           5.0         14.0      5         True  ...   \n\n       kitchen_area  balcony                    locality_name  \\\n18545           NaN      NaN                  Санкт-Петербург   \n355             NaN      2.0                          Гатчина   \n6246            5.7      NaN                        Кронштадт   \n14382           8.0      1.0               поселок Новый Свет   \n11285           9.0      2.0                             Луга   \n4643            7.0      1.0                  Санкт-Петербург   \n9379            5.2      NaN                  Санкт-Петербург   \n5669            7.0      2.0                  Санкт-Петербург   \n5807           12.0      5.0                  Санкт-Петербург   \n5246            9.0      2.0                     деревня Мины   \n21824           8.6      2.0  городской поселок Большая Ижора   \n22938           9.0      1.0                   деревня Нижняя   \n4876            NaN      2.0                   посёлок Мурино   \n10773           8.1      2.0                   посёлок Мурино   \n20478          10.0      1.0                  Санкт-Петербург   \n17857           NaN      NaN                  Санкт-Петербург   \n21377          11.0      2.0                  Санкт-Петербург   \n22336          16.5      4.0                  Санкт-Петербург   \n3148            8.0      NaN                           Волхов   \n22869          11.0      5.0                  Санкт-Петербург   \n\n       airports_nearest cityCenters_nearest  parks_around3000  parks_nearest  \\\n18545           27054.0              8033.0               1.0          540.0   \n355                 NaN                 NaN               NaN            NaN   \n6246            68923.0             50649.0               1.0          417.0   \n14382               NaN                 NaN               NaN            NaN   \n11285               NaN                 NaN               NaN            NaN   \n4643            12016.0             13256.0               1.0          658.0   \n9379            11647.0             13581.0               0.0            NaN   \n5669            28981.0             10912.0               1.0          305.0   \n5807            18732.0             20444.0               0.0            NaN   \n5246                NaN                 NaN               NaN            NaN   \n21824               NaN                 NaN               NaN            NaN   \n22938               NaN                 NaN               NaN            NaN   \n4876                NaN                 NaN               NaN            NaN   \n10773               NaN                 NaN               NaN            NaN   \n20478           18975.0              3246.0               0.0            NaN   \n17857           41030.0             15543.0               0.0            NaN   \n21377           42742.0              9760.0               0.0            NaN   \n22336           18838.0              3506.0               0.0            NaN   \n3148                NaN                 NaN               NaN            NaN   \n22869           34963.0              8283.0               1.0          223.0   \n\n       ponds_around3000  ponds_nearest  days_exposition  \n18545               0.0            NaN             12.0  \n355                 NaN            NaN            259.0  \n6246                2.0           73.0              NaN  \n14382               NaN            NaN            206.0  \n11285               NaN            NaN             18.0  \n4643                1.0          331.0            181.0  \n9379                0.0            NaN              NaN  \n5669                0.0            NaN            267.0  \n5807                3.0           80.0             38.0  \n5246                NaN            NaN            540.0  \n21824               NaN            NaN              NaN  \n22938               NaN            NaN             27.0  \n4876                NaN            NaN             28.0  \n10773               NaN            NaN             71.0  \n20478               3.0          449.0            429.0  \n17857               0.0            NaN             73.0  \n21377               0.0            NaN             61.0  \n22336               3.0          511.0              NaN  \n3148                NaN            NaN              NaN  \n22869               3.0           30.0             19.0  \n\n[20 rows x 22 columns]",
      "text/html": "<div>\n<style scoped>\n    .dataframe tbody tr th:only-of-type {\n        vertical-align: middle;\n    }\n\n    .dataframe tbody tr th {\n        vertical-align: top;\n    }\n\n    .dataframe thead th {\n        text-align: right;\n    }\n</style>\n<table border=\"1\" class=\"dataframe\">\n  <thead>\n    <tr style=\"text-align: right;\">\n      <th></th>\n      <th>total_images</th>\n      <th>last_price</th>\n      <th>total_area</th>\n      <th>first_day_exposition</th>\n      <th>rooms</th>\n      <th>ceiling_height</th>\n      <th>floors_total</th>\n      <th>living_area</th>\n      <th>floor</th>\n      <th>is_apartment</th>\n      <th>...</th>\n      <th>kitchen_area</th>\n      <th>balcony</th>\n      <th>locality_name</th>\n      <th>airports_nearest</th>\n      <th>cityCenters_nearest</th>\n      <th>parks_around3000</th>\n      <th>parks_nearest</th>\n      <th>ponds_around3000</th>\n      <th>ponds_nearest</th>\n      <th>days_exposition</th>\n    </tr>\n  </thead>\n  <tbody>\n    <tr>\n      <th>18545</th>\n      <td>6</td>\n      <td>3750000.0</td>\n      <td>43.0</td>\n      <td>2019-03-18T00:00:00</td>\n      <td>2</td>\n      <td>25.0</td>\n      <td>5.0</td>\n      <td>29.0</td>\n      <td>3</td>\n      <td>False</td>\n      <td>...</td>\n      <td>NaN</td>\n      <td>NaN</td>\n      <td>Санкт-Петербург</td>\n      <td>27054.0</td>\n      <td>8033.0</td>\n      <td>1.0</td>\n      <td>540.0</td>\n      <td>0.0</td>\n      <td>NaN</td>\n      <td>12.0</td>\n    </tr>\n    <tr>\n      <th>355</th>\n      <td>17</td>\n      <td>3600000.0</td>\n      <td>55.2</td>\n      <td>2018-07-12T00:00:00</td>\n      <td>2</td>\n      <td>25.0</td>\n      <td>5.0</td>\n      <td>32.0</td>\n      <td>2</td>\n      <td>False</td>\n      <td>...</td>\n      <td>NaN</td>\n      <td>2.0</td>\n      <td>Гатчина</td>\n      <td>NaN</td>\n      <td>NaN</td>\n      <td>NaN</td>\n      <td>NaN</td>\n      <td>NaN</td>\n      <td>NaN</td>\n      <td>259.0</td>\n    </tr>\n    <tr>\n      <th>6246</th>\n      <td>6</td>\n      <td>3300000.0</td>\n      <td>44.4</td>\n      <td>2019-03-25T00:00:00</td>\n      <td>2</td>\n      <td>25.0</td>\n      <td>5.0</td>\n      <td>31.3</td>\n      <td>5</td>\n      <td>NaN</td>\n      <td>...</td>\n      <td>5.7</td>\n      <td>NaN</td>\n      <td>Кронштадт</td>\n      <td>68923.0</td>\n      <td>50649.0</td>\n      <td>1.0</td>\n      <td>417.0</td>\n      <td>2.0</td>\n      <td>73.0</td>\n      <td>NaN</td>\n    </tr>\n    <tr>\n      <th>14382</th>\n      <td>9</td>\n      <td>1700000.0</td>\n      <td>35.0</td>\n      <td>2015-12-04T00:00:00</td>\n      <td>1</td>\n      <td>25.0</td>\n      <td>5.0</td>\n      <td>20.0</td>\n      <td>2</td>\n      <td>False</td>\n      <td>...</td>\n      <td>8.0</td>\n      <td>1.0</td>\n      <td>поселок Новый Свет</td>\n      <td>NaN</td>\n      <td>NaN</td>\n      <td>NaN</td>\n      <td>NaN</td>\n      <td>NaN</td>\n      <td>NaN</td>\n      <td>206.0</td>\n    </tr>\n    <tr>\n      <th>11285</th>\n      <td>0</td>\n      <td>1950000.0</td>\n      <td>37.0</td>\n      <td>2019-03-20T00:00:00</td>\n      <td>1</td>\n      <td>25.0</td>\n      <td>5.0</td>\n      <td>17.0</td>\n      <td>4</td>\n      <td>False</td>\n      <td>...</td>\n      <td>9.0</td>\n      <td>2.0</td>\n      <td>Луга</td>\n      <td>NaN</td>\n      <td>NaN</td>\n      <td>NaN</td>\n      <td>NaN</td>\n      <td>NaN</td>\n      <td>NaN</td>\n      <td>18.0</td>\n    </tr>\n    <tr>\n      <th>4643</th>\n      <td>0</td>\n      <td>4300000.0</td>\n      <td>45.0</td>\n      <td>2018-02-01T00:00:00</td>\n      <td>2</td>\n      <td>25.0</td>\n      <td>9.0</td>\n      <td>30.0</td>\n      <td>2</td>\n      <td>NaN</td>\n      <td>...</td>\n      <td>7.0</td>\n      <td>1.0</td>\n      <td>Санкт-Петербург</td>\n      <td>12016.0</td>\n      <td>13256.0</td>\n      <td>1.0</td>\n      <td>658.0</td>\n      <td>1.0</td>\n      <td>331.0</td>\n      <td>181.0</td>\n    </tr>\n    <tr>\n      <th>9379</th>\n      <td>5</td>\n      <td>3950000.0</td>\n      <td>42.0</td>\n      <td>2017-03-26T00:00:00</td>\n      <td>3</td>\n      <td>25.0</td>\n      <td>5.0</td>\n      <td>30.0</td>\n      <td>2</td>\n      <td>NaN</td>\n      <td>...</td>\n      <td>5.2</td>\n      <td>NaN</td>\n      <td>Санкт-Петербург</td>\n      <td>11647.0</td>\n      <td>13581.0</td>\n      <td>0.0</td>\n      <td>NaN</td>\n      <td>0.0</td>\n      <td>NaN</td>\n      <td>NaN</td>\n    </tr>\n    <tr>\n      <th>5669</th>\n      <td>4</td>\n      <td>4400000.0</td>\n      <td>50.0</td>\n      <td>2017-08-08T00:00:00</td>\n      <td>2</td>\n      <td>26.0</td>\n      <td>9.0</td>\n      <td>21.3</td>\n      <td>3</td>\n      <td>NaN</td>\n      <td>...</td>\n      <td>7.0</td>\n      <td>2.0</td>\n      <td>Санкт-Петербург</td>\n      <td>28981.0</td>\n      <td>10912.0</td>\n      <td>1.0</td>\n      <td>305.0</td>\n      <td>0.0</td>\n      <td>NaN</td>\n      <td>267.0</td>\n    </tr>\n    <tr>\n      <th>5807</th>\n      <td>17</td>\n      <td>8150000.0</td>\n      <td>80.0</td>\n      <td>2019-01-09T00:00:00</td>\n      <td>2</td>\n      <td>27.0</td>\n      <td>36.0</td>\n      <td>41.0</td>\n      <td>13</td>\n      <td>NaN</td>\n      <td>...</td>\n      <td>12.0</td>\n      <td>5.0</td>\n      <td>Санкт-Петербург</td>\n      <td>18732.0</td>\n      <td>20444.0</td>\n      <td>0.0</td>\n      <td>NaN</td>\n      <td>3.0</td>\n      <td>80.0</td>\n      <td>38.0</td>\n    </tr>\n    <tr>\n      <th>5246</th>\n      <td>0</td>\n      <td>2500000.0</td>\n      <td>54.0</td>\n      <td>2017-10-13T00:00:00</td>\n      <td>2</td>\n      <td>27.0</td>\n      <td>5.0</td>\n      <td>30.0</td>\n      <td>3</td>\n      <td>NaN</td>\n      <td>...</td>\n      <td>9.0</td>\n      <td>2.0</td>\n      <td>деревня Мины</td>\n      <td>NaN</td>\n      <td>NaN</td>\n      <td>NaN</td>\n      <td>NaN</td>\n      <td>NaN</td>\n      <td>NaN</td>\n      <td>540.0</td>\n    </tr>\n    <tr>\n      <th>21824</th>\n      <td>20</td>\n      <td>2450000.0</td>\n      <td>44.0</td>\n      <td>2019-02-12T00:00:00</td>\n      <td>2</td>\n      <td>27.0</td>\n      <td>2.0</td>\n      <td>38.0</td>\n      <td>2</td>\n      <td>False</td>\n      <td>...</td>\n      <td>8.6</td>\n      <td>2.0</td>\n      <td>городской поселок Большая Ижора</td>\n      <td>NaN</td>\n      <td>NaN</td>\n      <td>NaN</td>\n      <td>NaN</td>\n      <td>NaN</td>\n      <td>NaN</td>\n      <td>NaN</td>\n    </tr>\n    <tr>\n      <th>22938</th>\n      <td>14</td>\n      <td>4000000.0</td>\n      <td>98.0</td>\n      <td>2018-03-15T00:00:00</td>\n      <td>4</td>\n      <td>27.0</td>\n      <td>2.0</td>\n      <td>73.0</td>\n      <td>2</td>\n      <td>True</td>\n      <td>...</td>\n      <td>9.0</td>\n      <td>1.0</td>\n      <td>деревня Нижняя</td>\n      <td>NaN</td>\n      <td>NaN</td>\n      <td>NaN</td>\n      <td>NaN</td>\n      <td>NaN</td>\n      <td>NaN</td>\n      <td>27.0</td>\n    </tr>\n    <tr>\n      <th>4876</th>\n      <td>7</td>\n      <td>3000000.0</td>\n      <td>25.0</td>\n      <td>2017-09-27T00:00:00</td>\n      <td>0</td>\n      <td>27.0</td>\n      <td>25.0</td>\n      <td>17.0</td>\n      <td>17</td>\n      <td>NaN</td>\n      <td>...</td>\n      <td>NaN</td>\n      <td>2.0</td>\n      <td>посёлок Мурино</td>\n      <td>NaN</td>\n      <td>NaN</td>\n      <td>NaN</td>\n      <td>NaN</td>\n      <td>NaN</td>\n      <td>NaN</td>\n      <td>28.0</td>\n    </tr>\n    <tr>\n      <th>10773</th>\n      <td>8</td>\n      <td>3800000.0</td>\n      <td>58.0</td>\n      <td>2017-10-13T00:00:00</td>\n      <td>2</td>\n      <td>27.0</td>\n      <td>10.0</td>\n      <td>30.1</td>\n      <td>3</td>\n      <td>False</td>\n      <td>...</td>\n      <td>8.1</td>\n      <td>2.0</td>\n      <td>посёлок Мурино</td>\n      <td>NaN</td>\n      <td>NaN</td>\n      <td>NaN</td>\n      <td>NaN</td>\n      <td>NaN</td>\n      <td>NaN</td>\n      <td>71.0</td>\n    </tr>\n    <tr>\n      <th>20478</th>\n      <td>11</td>\n      <td>8000000.0</td>\n      <td>45.0</td>\n      <td>2017-07-18T00:00:00</td>\n      <td>1</td>\n      <td>27.0</td>\n      <td>4.0</td>\n      <td>22.0</td>\n      <td>2</td>\n      <td>NaN</td>\n      <td>...</td>\n      <td>10.0</td>\n      <td>1.0</td>\n      <td>Санкт-Петербург</td>\n      <td>18975.0</td>\n      <td>3246.0</td>\n      <td>0.0</td>\n      <td>NaN</td>\n      <td>3.0</td>\n      <td>449.0</td>\n      <td>429.0</td>\n    </tr>\n    <tr>\n      <th>17857</th>\n      <td>1</td>\n      <td>3900000.0</td>\n      <td>56.0</td>\n      <td>2017-12-22T00:00:00</td>\n      <td>3</td>\n      <td>27.0</td>\n      <td>5.0</td>\n      <td>33.0</td>\n      <td>4</td>\n      <td>False</td>\n      <td>...</td>\n      <td>NaN</td>\n      <td>NaN</td>\n      <td>Санкт-Петербург</td>\n      <td>41030.0</td>\n      <td>15543.0</td>\n      <td>0.0</td>\n      <td>NaN</td>\n      <td>0.0</td>\n      <td>NaN</td>\n      <td>73.0</td>\n    </tr>\n    <tr>\n      <th>21377</th>\n      <td>19</td>\n      <td>4900000.0</td>\n      <td>42.0</td>\n      <td>2017-04-18T00:00:00</td>\n      <td>1</td>\n      <td>27.5</td>\n      <td>24.0</td>\n      <td>37.7</td>\n      <td>19</td>\n      <td>False</td>\n      <td>...</td>\n      <td>11.0</td>\n      <td>2.0</td>\n      <td>Санкт-Петербург</td>\n      <td>42742.0</td>\n      <td>9760.0</td>\n      <td>0.0</td>\n      <td>NaN</td>\n      <td>0.0</td>\n      <td>NaN</td>\n      <td>61.0</td>\n    </tr>\n    <tr>\n      <th>22336</th>\n      <td>19</td>\n      <td>9999000.0</td>\n      <td>92.4</td>\n      <td>2019-04-05T00:00:00</td>\n      <td>2</td>\n      <td>32.0</td>\n      <td>6.0</td>\n      <td>55.5</td>\n      <td>5</td>\n      <td>False</td>\n      <td>...</td>\n      <td>16.5</td>\n      <td>4.0</td>\n      <td>Санкт-Петербург</td>\n      <td>18838.0</td>\n      <td>3506.0</td>\n      <td>0.0</td>\n      <td>NaN</td>\n      <td>3.0</td>\n      <td>511.0</td>\n      <td>NaN</td>\n    </tr>\n    <tr>\n      <th>3148</th>\n      <td>14</td>\n      <td>2900000.0</td>\n      <td>75.0</td>\n      <td>2018-11-12T00:00:00</td>\n      <td>3</td>\n      <td>32.0</td>\n      <td>3.0</td>\n      <td>53.0</td>\n      <td>2</td>\n      <td>NaN</td>\n      <td>...</td>\n      <td>8.0</td>\n      <td>NaN</td>\n      <td>Волхов</td>\n      <td>NaN</td>\n      <td>NaN</td>\n      <td>NaN</td>\n      <td>NaN</td>\n      <td>NaN</td>\n      <td>NaN</td>\n      <td>NaN</td>\n    </tr>\n    <tr>\n      <th>22869</th>\n      <td>0</td>\n      <td>15000000.0</td>\n      <td>25.0</td>\n      <td>2018-07-25T00:00:00</td>\n      <td>1</td>\n      <td>100.0</td>\n      <td>5.0</td>\n      <td>14.0</td>\n      <td>5</td>\n      <td>True</td>\n      <td>...</td>\n      <td>11.0</td>\n      <td>5.0</td>\n      <td>Санкт-Петербург</td>\n      <td>34963.0</td>\n      <td>8283.0</td>\n      <td>1.0</td>\n      <td>223.0</td>\n      <td>3.0</td>\n      <td>30.0</td>\n      <td>19.0</td>\n    </tr>\n  </tbody>\n</table>\n<p>20 rows × 22 columns</p>\n</div>"
     },
     "execution_count": 6,
     "metadata": {},
     "output_type": "execute_result"
    }
   ],
   "source": [
    "df[df['ceiling_height'] > 4].sort_values('ceiling_height').tail(20)\n"
   ],
   "metadata": {
    "collapsed": false
   }
  },
  {
   "cell_type": "markdown",
   "source": [
    "There are a small number of outliers, we will not touch them, they will not greatly affect the median value."
   ],
   "metadata": {
    "collapsed": false
   }
  },
  {
   "cell_type": "code",
   "execution_count": 7,
   "outputs": [
    {
     "data": {
      "text/plain": "0"
     },
     "execution_count": 7,
     "metadata": {},
     "output_type": "execute_result"
    }
   ],
   "source": [
    "df['ceiling_height'] = df['ceiling_height'].fillna(df['ceiling_height'].median())\n",
    "df['ceiling_height'].isna().sum()\n"
   ],
   "metadata": {
    "collapsed": false
   }
  },
  {
   "cell_type": "markdown",
   "source": [
    "#### Floors total"
   ],
   "metadata": {
    "collapsed": false
   }
  },
  {
   "cell_type": "code",
   "execution_count": 8,
   "outputs": [
    {
     "name": "stdout",
     "output_type": "stream",
     "text": [
      "Percentage of missing values in floors_total 0.4%\n"
     ]
    }
   ],
   "source": [
    "print(f\"Percentage of missing values in floors_total {1 - df['floors_total'].count() / df['total_images'].count():.01%}\")"
   ],
   "metadata": {
    "collapsed": false
   }
  },
  {
   "cell_type": "markdown",
   "source": [
    "Since very few values are missing and there is no way to fill missing values with adequate values, these rows are removed so as not to affect further analysis."
   ],
   "metadata": {
    "collapsed": false
   }
  },
  {
   "cell_type": "code",
   "execution_count": 9,
   "outputs": [
    {
     "data": {
      "text/plain": "0"
     },
     "execution_count": 9,
     "metadata": {},
     "output_type": "execute_result"
    }
   ],
   "source": [
    "df.dropna(subset=['floors_total'], inplace=True)\n",
    "df['floors_total'].isna().sum()"
   ],
   "metadata": {
    "collapsed": false
   }
  },
  {
   "cell_type": "markdown",
   "source": [
    "#### Living area"
   ],
   "metadata": {
    "collapsed": false
   }
  },
  {
   "cell_type": "code",
   "execution_count": 10,
   "outputs": [
    {
     "name": "stdout",
     "output_type": "stream",
     "text": [
      "Percentage of missing values in living_area 7.9%\n"
     ]
    }
   ],
   "source": [
    "print(f\"Percentage of missing values in living_area {1 - df['living_area'].count() / df['total_images'].count():.01%}\")\n"
   ],
   "metadata": {
    "collapsed": false
   }
  },
  {
   "cell_type": "code",
   "execution_count": 11,
   "outputs": [
    {
     "data": {
      "text/plain": "18.000000     882\n17.000000     674\n30.000000     598\n16.000000     484\n20.000000     481\n             ... \n26.599998       1\n26.510000       1\n54.430000       1\n54.480000       1\n409.700000      1\nName: living_area, Length: 1769, dtype: int64"
     },
     "execution_count": 11,
     "metadata": {},
     "output_type": "execute_result"
    }
   ],
   "source": [
    "df['living_area'].sort_values().value_counts()\n"
   ],
   "metadata": {
    "collapsed": false
   }
  },
  {
   "cell_type": "markdown",
   "source": [
    "1. Calculate the median for all shares of living space from the total area of the premises\n",
    "2. Find the value of the missed living area using the median\n",
    "3. Fill in the missing values with these values"
   ],
   "metadata": {
    "collapsed": false
   }
  },
  {
   "cell_type": "code",
   "execution_count": 12,
   "outputs": [
    {
     "data": {
      "text/plain": "0"
     },
     "execution_count": 12,
     "metadata": {},
     "output_type": "execute_result"
    }
   ],
   "source": [
    "df['living_area'] = df['living_area'].fillna((df['living_area']/df['total_area']).median() * df['total_area'])\n",
    "df['living_area'].isna().sum()"
   ],
   "metadata": {
    "collapsed": false
   }
  },
  {
   "cell_type": "markdown",
   "source": [
    "#### Apartment type"
   ],
   "metadata": {
    "collapsed": false
   }
  },
  {
   "cell_type": "code",
   "execution_count": 13,
   "outputs": [
    {
     "name": "stdout",
     "output_type": "stream",
     "text": [
      "Доля пропущенных значений в столбце is_apartment 88.2%\n"
     ]
    }
   ],
   "source": [
    "print(f\"Доля пропущенных значений в столбце is_apartment {1 - df['is_apartment'].count() / df['total_images'].count():.01%}\")\n"
   ],
   "metadata": {
    "collapsed": false
   }
  },
  {
   "cell_type": "markdown",
   "source": [
    "Видимо, столбец апартаменты добавили позже, поэтому основная часть записей незаполнена. Так как нам не нужно исследовать данные параметр, оставим его как есть."
   ],
   "metadata": {
    "collapsed": false
   }
  },
  {
   "cell_type": "markdown",
   "source": [
    "####  Площадь кухни"
   ],
   "metadata": {
    "collapsed": false
   }
  },
  {
   "cell_type": "code",
   "execution_count": 14,
   "outputs": [
    {
     "name": "stdout",
     "output_type": "stream",
     "text": [
      "Percentage of missing values in kitchen_area 9.4%\n"
     ]
    }
   ],
   "source": [
    "print(f\"Percentage of missing values in kitchen_area {1 - df['kitchen_area'].count() / df['total_images'].count():.01%}\")"
   ],
   "metadata": {
    "collapsed": false
   }
  },
  {
   "cell_type": "code",
   "execution_count": 15,
   "outputs": [
    {
     "data": {
      "text/plain": "0"
     },
     "execution_count": 15,
     "metadata": {},
     "output_type": "execute_result"
    }
   ],
   "source": [
    "df.loc[df['studio'] == True, 'kitchen_area'] = 0\n",
    "\n",
    "df['kitchen_area'] = df['kitchen_area'].fillna((df['kitchen_area']/df['total_area']).median() * df['total_area'])\n",
    "\n",
    "df['kitchen_area'].isna().sum()\n"
   ],
   "metadata": {
    "collapsed": false
   }
  },
  {
   "cell_type": "markdown",
   "source": [
    "#### Amount of balcony"
   ],
   "metadata": {
    "collapsed": false
   }
  },
  {
   "cell_type": "code",
   "execution_count": 16,
   "outputs": [
    {
     "name": "stdout",
     "output_type": "stream",
     "text": [
      "Percentage of missing values in balcony 48.6%\n"
     ]
    }
   ],
   "source": [
    "print(f\"Percentage of missing values in balcony {1 - df['balcony'].count() / df['total_images'].count():.01%}\")\n"
   ],
   "metadata": {
    "collapsed": false
   }
  },
  {
   "cell_type": "markdown",
   "source": [
    "We can assume that if a person did not indicate the number of balconies, then most likely they are not in the room at all. Let's fill it with 0."
   ],
   "metadata": {
    "collapsed": false
   }
  },
  {
   "cell_type": "code",
   "execution_count": 17,
   "outputs": [
    {
     "data": {
      "text/plain": "0"
     },
     "execution_count": 17,
     "metadata": {},
     "output_type": "execute_result"
    }
   ],
   "source": [
    "df['balcony'].fillna(0, inplace=True)\n",
    "df['balcony'].isna().sum()\n"
   ],
   "metadata": {
    "collapsed": false
   }
  },
  {
   "cell_type": "markdown",
   "source": [
    "#### Locality"
   ],
   "metadata": {
    "collapsed": false
   }
  },
  {
   "cell_type": "code",
   "execution_count": 18,
   "outputs": [
    {
     "name": "stdout",
     "output_type": "stream",
     "text": [
      "Percentage of missing values in locality_name 0.2%\n"
     ]
    }
   ],
   "source": [
    "print(f\"Percentage of missing values in locality_name {1 - df['locality_name'].count() / df['total_images'].count():.01%}\")\n"
   ],
   "metadata": {
    "collapsed": false
   }
  },
  {
   "cell_type": "markdown",
   "source": [
    "Since very few values are missing and there is no way to fill in the gaps with adequate values, these rows are removed so as not to affect further analysis."
   ],
   "metadata": {
    "collapsed": false
   }
  },
  {
   "cell_type": "code",
   "execution_count": 19,
   "outputs": [
    {
     "data": {
      "text/plain": "0"
     },
     "execution_count": 19,
     "metadata": {},
     "output_type": "execute_result"
    }
   ],
   "source": [
    "df.dropna(subset=['locality_name'], inplace=True)\n",
    "df['locality_name'].isna().sum()\n"
   ],
   "metadata": {
    "collapsed": false
   }
  },
  {
   "cell_type": "markdown",
   "source": [
    "#### Airports"
   ],
   "metadata": {
    "collapsed": false
   }
  },
  {
   "cell_type": "code",
   "execution_count": 20,
   "outputs": [
    {
     "name": "stdout",
     "output_type": "stream",
     "text": [
      "Percentage of missing values in airports_nearest 23.4%\n"
     ]
    }
   ],
   "source": [
    "print(f\"Percentage of missing values in airports_nearest {1 - df['airports_nearest'].count() / df['total_images'].count():.01%}\")\n"
   ],
   "metadata": {
    "collapsed": false
   }
  },
  {
   "cell_type": "markdown",
   "source": [
    "These values will not be needed for the analysis, we will leave them as they are."
   ],
   "metadata": {
    "collapsed": false
   }
  },
  {
   "cell_type": "markdown",
   "source": [
    "#### Distance to the center"
   ],
   "metadata": {
    "collapsed": false
   }
  },
  {
   "cell_type": "code",
   "execution_count": 21,
   "outputs": [
    {
     "name": "stdout",
     "output_type": "stream",
     "text": [
      "Percentage of missing values in cityCenters_nearest 23.3%\n"
     ]
    }
   ],
   "source": [
    "print(f\"Percentage of missing values in cityCenters_nearest {1 - df['cityCenters_nearest'].count() / df['total_images'].count():.01%}\")\n"
   ],
   "metadata": {
    "collapsed": false
   }
  },
  {
   "cell_type": "markdown",
   "source": [
    "#### Parks within a radius of 3 km"
   ],
   "metadata": {
    "collapsed": false
   }
  },
  {
   "cell_type": "code",
   "execution_count": 22,
   "outputs": [
    {
     "name": "stdout",
     "output_type": "stream",
     "text": [
      "Percentage of missing values in parks_around3000 23.3%\n"
     ]
    }
   ],
   "source": [
    "print(f\"Percentage of missing values in parks_around3000 {1 - df['parks_around3000'].count() / df['total_images'].count():.01%}\")\n"
   ],
   "metadata": {
    "collapsed": false
   }
  },
  {
   "cell_type": "markdown",
   "source": [
    "#### Distance to nearest park"
   ],
   "metadata": {
    "collapsed": false
   }
  },
  {
   "cell_type": "code",
   "execution_count": 23,
   "outputs": [
    {
     "name": "stdout",
     "output_type": "stream",
     "text": [
      "Percentage of missing values in parks_nearest 65.9%\n"
     ]
    }
   ],
   "source": [
    "print(f\"Percentage of missing values in parks_nearest {1 - df['parks_nearest'].count() / df['total_images'].count():.01%}\")\n"
   ],
   "metadata": {
    "collapsed": false
   }
  },
  {
   "cell_type": "markdown",
   "source": [
    "#### Ponds within a radius of 3 km"
   ],
   "metadata": {
    "collapsed": false
   }
  },
  {
   "cell_type": "code",
   "execution_count": 24,
   "outputs": [
    {
     "name": "stdout",
     "output_type": "stream",
     "text": [
      "Percentage of missing values in ponds_around3000 23.3%\n"
     ]
    }
   ],
   "source": [
    "print(f\"Percentage of missing values in ponds_around3000 {1 - df['ponds_around3000'].count() / df['total_images'].count():.01%}\")\n"
   ],
   "metadata": {
    "collapsed": false
   }
  },
  {
   "cell_type": "markdown",
   "source": [
    "#### Distance to nearest pond"
   ],
   "metadata": {
    "collapsed": false
   }
  },
  {
   "cell_type": "code",
   "execution_count": 25,
   "outputs": [
    {
     "name": "stdout",
     "output_type": "stream",
     "text": [
      "Percentage of missing values in ponds_nearest 61.7%\n"
     ]
    }
   ],
   "source": [
    "print(f\"Percentage of missing values in ponds_nearest {1 - df['ponds_nearest'].count() / df['total_images'].count():.01%}\")\n"
   ],
   "metadata": {
    "collapsed": false
   }
  },
  {
   "cell_type": "markdown",
   "source": [
    "#### Duration of ad placement (from publication to removal)"
   ],
   "metadata": {
    "collapsed": false
   }
  },
  {
   "cell_type": "code",
   "execution_count": 26,
   "outputs": [
    {
     "name": "stdout",
     "output_type": "stream",
     "text": [
      "Percentage of missing values in days_exposition 13.5%\n"
     ]
    }
   ],
   "source": [
    "print(f\"Percentage of missing values in days_exposition {1 - df['days_exposition'].count() / df['total_images'].count():.01%}\")\n"
   ],
   "metadata": {
    "collapsed": false
   }
  },
  {
   "cell_type": "code",
   "execution_count": 27,
   "outputs": [
    {
     "data": {
      "text/plain": "0"
     },
     "execution_count": 27,
     "metadata": {},
     "output_type": "execute_result"
    }
   ],
   "source": [
    "df['days_exposition'] = df['days_exposition'].fillna(df['days_exposition'].median())\n",
    "df['days_exposition'].isna().sum()\n"
   ],
   "metadata": {
    "collapsed": false
   }
  },
  {
   "cell_type": "markdown",
   "source": [
    "### Replacing the data type"
   ],
   "metadata": {
    "collapsed": false
   }
  },
  {
   "cell_type": "code",
   "execution_count": 28,
   "outputs": [],
   "source": [
    "df['first_day_exposition'] = pd.to_datetime(df['first_day_exposition'], format = '%Y-%m-%d')\n"
   ],
   "metadata": {
    "collapsed": false
   }
  },
  {
   "cell_type": "markdown",
   "source": [
    "### Resume"
   ],
   "metadata": {
    "collapsed": false
   }
  },
  {
   "cell_type": "markdown",
   "source": [
    "**1. Missing values**\n",
    "- *Height of ceilings:* 38.8% of values were missing. Missing values were replaced by the total median. Outliers (too high and low values) were also found, which is probably due to data entry errors.\n",
    "- *Number of floors in the house:* missing 0.4% of the values. Since there are not very many missing values, all rows with missing data were deleted so that they would not affect the further construction of hypotheses.\n",
    "- *Living area and kitchen area:* 7.9% and 9.4% of values are missing, respectively. To fill in the data, the median share of the living quarters or kitchen area from the total area was found, then, based on this value and the values of the entire area, the necessary values for processing gaps were found.\n",
    "- *Room type:* missing 88.2% of values. Apparently, the apartments column was added later, so most of the entries are empty. Since we do not need to explore this parameter, we will leave it as it is.\n",
    "- *Number of balconies:* 48.6% of values are missing. We can assume that the lack of information about the number of balconies indicates their absence in the apartment, so we replace all gaps with 0.\n",
    "- *Locality name:* missing 0.2% of values. We need this information to confirm hypotheses, so we delete rows with missing values.\n",
    "- *Distance to city center, distance to nearest airport, number of parks within 3km radius, distance to nearest park, number of bodies of water within 3km radius, distance to nearest body of water:* There are quite a few missing values in these columns, but they are missing in this study will not affect the analysis in any way, so we will leave it as it is.\n",
    "- *Duration of ad placement:* 13.5% of values are missing. Replace gaps with the median value.\n",
    "\n",
    "**2. Type**\n",
    "- - In the column with *date of posting*, the data type has been changed from a string to a date format. Removed time values as they are not used."
   ],
   "metadata": {
    "collapsed": false
   }
  },
  {
   "cell_type": "markdown",
   "metadata": {},
   "source": [
    "Let's add the following columns to the table:\n",
    "- price per square meter;\n",
    "- day of the week, month and year of publication of the announcement;\n",
    "- apartment floor category (first, last, other);\n",
    "- the ratio of residential and total area;\n",
    "- the ratio of the area of the kitchen to the total."
   ]
  },
  {
   "cell_type": "markdown",
   "metadata": {},
   "source": [
    "### Price per square meter"
   ]
  },
  {
   "cell_type": "code",
   "execution_count": 29,
   "metadata": {},
   "outputs": [],
   "source": [
    " df['square_meter_price'] = df['last_price'] / df['total_area'].astype('int')\n"
   ]
  },
  {
   "cell_type": "markdown",
   "metadata": {},
   "source": [
    "### Week, month and year of publication"
   ]
  },
  {
   "cell_type": "code",
   "execution_count": 30,
   "metadata": {},
   "outputs": [],
   "source": [
    "df['day_of_exposition'] = df['first_day_exposition'].dt.weekday\n",
    "df['month_of_exposition'] = df['first_day_exposition'].dt.month\n",
    "df['year_of_exposition'] = df['first_day_exposition'].dt.year\n"
   ]
  },
  {
   "cell_type": "markdown",
   "metadata": {},
   "source": [
    "### Floor"
   ]
  },
  {
   "cell_type": "code",
   "execution_count": 31,
   "metadata": {},
   "outputs": [],
   "source": [
    "def floor_group(row):\n",
    "    floor = row['floor']\n",
    "    floor_total = row['floors_total']\n",
    "    if floor <= 1:\n",
    "        return 'первый'\n",
    "    elif floor == floor_total:\n",
    "        return 'последний'\n",
    "    else:\n",
    "        return 'другой'\n",
    "    \n",
    "df['floor_category'] = df.apply(floor_group, axis=1)\n"
   ]
  },
  {
   "cell_type": "markdown",
   "metadata": {},
   "source": [
    "### Ratio of residential and total area"
   ]
  },
  {
   "cell_type": "code",
   "execution_count": 32,
   "metadata": {},
   "outputs": [],
   "source": [
    "df['ratio_of_living_area'] = df['living_area'] / df['total_area']\n",
    "df['ratio_of_kitchen_area'] = df['kitchen_area'] / df['total_area']"
   ]
  },
  {
   "cell_type": "markdown",
   "source": [
    "## Exploratory Data Analysis"
   ],
   "metadata": {
    "collapsed": false
   }
  },
  {
   "cell_type": "markdown",
   "source": [
    "### Distribution"
   ],
   "metadata": {
    "collapsed": false
   }
  },
  {
   "cell_type": "markdown",
   "source": [
    "#### Square"
   ],
   "metadata": {
    "collapsed": false
   }
  },
  {
   "cell_type": "code",
   "execution_count": 33,
   "metadata": {},
   "outputs": [
    {
     "data": {
      "text/plain": "count    23565.000000\nmean        60.322824\nstd         35.657060\nmin         12.000000\n25%         40.000000\n50%         52.000000\n75%         69.700000\nmax        900.000000\nName: total_area, dtype: float64"
     },
     "execution_count": 33,
     "metadata": {},
     "output_type": "execute_result"
    },
    {
     "data": {
      "text/plain": "<Figure size 720x504 with 1 Axes>",
      "image/png": "[encoded data removed]"
     },
     "metadata": {
      "needs_background": "light"
     },
     "output_type": "display_data"
    }
   ],
   "source": [
    "df.plot(y='total_area',\n",
    "        kind='hist',\n",
    "        bins=100,\n",
    "        grid=True,\n",
    "        figsize=(10, 7),\n",
    "        range=(10, 200),\n",
    "        legend=False,\n",
    "        color='royalblue')\n",
    "plt.title('Distribution of total_area')\n",
    "plt.xlabel('Total area, sqm')\n",
    "plt.ylabel('Frequency')\n",
    "\n",
    "df['total_area'].describe()\n"
   ]
  },
  {
   "cell_type": "markdown",
   "metadata": {},
   "source": [
    "The histogram looks like a normal distribution. A wide peak is from 30 to 75, then there is a decrease in the number of values to 200 sq.m., individual emissions are observed up to 900 sq.m."
   ]
  },
  {
   "cell_type": "markdown",
   "metadata": {},
   "source": [
    "#### Price"
   ]
  },
  {
   "cell_type": "code",
   "execution_count": 34,
   "metadata": {},
   "outputs": [
    {
     "data": {
      "text/plain": "count    2.356500e+04\nmean     6.540058e+06\nstd      1.091093e+07\nmin      1.219000e+04\n25%      3.400000e+06\n50%      4.646000e+06\n75%      6.790000e+06\nmax      7.630000e+08\nName: last_price, dtype: float64"
     },
     "execution_count": 34,
     "metadata": {},
     "output_type": "execute_result"
    },
    {
     "data": {
      "text/plain": "<Figure size 720x504 with 1 Axes>",
      "image/png": "[encoded data removed]"
     },
     "metadata": {
      "needs_background": "light"
     },
     "output_type": "display_data"
    }
   ],
   "source": [
    "df.plot(y='last_price',\n",
    "        kind='hist',\n",
    "        bins=100,\n",
    "        grid=True,\n",
    "        figsize=(10, 7),\n",
    "        range=(0,15000000),\n",
    "        legend=False,\n",
    "        color='royalblue')\n",
    "plt.title('Distribution of price')\n",
    "plt.xlabel('Price, 10 millions rub')\n",
    "plt.ylabel('Frequency')\n",
    "\n",
    "df['last_price'].describe()\n"
   ]
  },
  {
   "cell_type": "markdown",
   "metadata": {},
   "source": [
    "The data is OK, but the values are displayed in exponential notation. The mean value is 6.5 million, the median is 4.6 million."
   ]
  },
  {
   "cell_type": "markdown",
   "metadata": {},
   "source": [
    "#### Rooms"
   ]
  },
  {
   "cell_type": "code",
   "execution_count": 35,
   "metadata": {},
   "outputs": [
    {
     "data": {
      "text/plain": "count    23565.000000\nmean         2.070656\nstd          1.078591\nmin          0.000000\n25%          1.000000\n50%          2.000000\n75%          3.000000\nmax         19.000000\nName: rooms, dtype: float64"
     },
     "execution_count": 35,
     "metadata": {},
     "output_type": "execute_result"
    },
    {
     "data": {
      "text/plain": "<Figure size 720x504 with 1 Axes>",
      "image/png": "[encoded data removed]"
     },
     "metadata": {
      "needs_background": "light"
     },
     "output_type": "display_data"
    }
   ],
   "source": [
    "df.plot(y='rooms', \n",
    "        kind='hist', \n",
    "        bins=20, \n",
    "        grid=True, \n",
    "        figsize=(10, 7),\n",
    "        range=(0, 7),\n",
    "        legend=False, \n",
    "        color='royalblue')\n",
    "plt.title('Distribution of rooms')\n",
    "plt.xlabel('Number of rooms')\n",
    "plt.ylabel('Frequency')\n",
    "\n",
    "df['rooms'].describe()\n"
   ]
  },
  {
   "cell_type": "markdown",
   "metadata": {},
   "source": [
    "Most of all one- and two-room apartments. There are anomalous values (19 rooms)."
   ]
  },
  {
   "cell_type": "markdown",
   "metadata": {},
   "source": [
    "#### Ceiling height"
   ]
  },
  {
   "cell_type": "code",
   "execution_count": 36,
   "metadata": {},
   "outputs": [
    {
     "data": {
      "text/plain": "count    23565.000000\nmean         2.724530\nstd          0.991026\nmin          1.000000\n25%          2.600000\n50%          2.650000\n75%          2.700000\nmax        100.000000\nName: ceiling_height, dtype: float64"
     },
     "execution_count": 36,
     "metadata": {},
     "output_type": "execute_result"
    },
    {
     "data": {
      "text/plain": "<Figure size 720x504 with 1 Axes>",
      "image/png": "[encoded data removed]"
     },
     "metadata": {
      "needs_background": "light"
     },
     "output_type": "display_data"
    }
   ],
   "source": [
    "df.plot(y='ceiling_height',\n",
    "        kind='hist',\n",
    "        bins=20,\n",
    "        grid=True,\n",
    "        figsize=(10,7),\n",
    "        range=(2, 4),\n",
    "        legend=False,\n",
    "        color='royalblue')\n",
    "plt.title('Distribution of ceiling heights')\n",
    "plt.xlabel('ceiling height, m')\n",
    "plt.ylabel('Frequency')\n",
    "\n",
    "df['ceiling_height'].describe()\n"
   ]
  },
  {
   "cell_type": "markdown",
   "metadata": {},
   "source": [
    "The average ceiling height is 2.7 m. There are outliers (1 and 100 m)."
   ]
  },
  {
   "cell_type": "markdown",
   "metadata": {},
   "source": [
    "#### Duration of publication"
   ]
  },
  {
   "cell_type": "code",
   "execution_count": 37,
   "metadata": {},
   "outputs": [
    {
     "data": {
      "text/plain": "count    23565.000000\nmean       169.203692\nstd        206.497729\nmin          1.000000\n25%         45.000000\n50%         95.000000\n75%        198.000000\nmax       1580.000000\nName: days_exposition, dtype: float64"
     },
     "execution_count": 37,
     "metadata": {},
     "output_type": "execute_result"
    },
    {
     "data": {
      "text/plain": "<Figure size 720x504 with 1 Axes>",
      "image/png": "[encoded data removed]"
     },
     "metadata": {
      "needs_background": "light"
     },
     "output_type": "display_data"
    }
   ],
   "source": [
    "df.plot(y='days_exposition',\n",
    "        kind='hist',\n",
    "        bins=50,\n",
    "        grid=True,\n",
    "        figsize=(10, 7),\n",
    "        range=(0, 400),\n",
    "        legend=False, \n",
    "        color='royalblue')\n",
    "plt.title('Duration of days_exposition')\n",
    "plt.xlabel('Duration, day')\n",
    "plt.ylabel('Frequency')\n",
    "\n",
    "df['days_exposition'].describe()"
   ]
  },
  {
   "cell_type": "markdown",
   "metadata": {},
   "source": [
    "There are outliers at 45, 60 and 90 days. But it is not clear where they came from: this may be due to the rules for placing ads on the site. We will not do anything with them, since these may include real sales.\n",
    "We can say that sales within 30 days are considered too fast, and within 200 days too long."
   ]
  },
  {
   "cell_type": "markdown",
   "metadata": {},
   "source": [
    "**Resume**\n",
    "\n",
    "*The most likely characteristics of the apartments for sale are:*\n",
    "* Area - 52 sq m\n",
    "* Cost - 4.6 million rubles\n",
    "* Number of rooms - 2\n",
    "* Ceiling height - 2.65 m\n",
    "* Sold in 95 days\n",
    "\n",
    "*All studied parameters have anomalous values:*\n",
    "* Area over 150 sq m\n",
    "* More than 6 rooms in the apartment\n",
    "* Ceiling heights less than 2.5 m and more than 2.75 m\n",
    "* The ad hangs on the site for less than 30 days or more than 200"
   ]
  },
  {
   "cell_type": "markdown",
   "metadata": {},
   "source": [
    "### Outliers"
   ]
  },
  {
   "cell_type": "code",
   "execution_count": 38,
   "metadata": {},
   "outputs": [
    {
     "name": "stdout",
     "output_type": "stream",
     "text": [
      "Percentage of final data: 82.3%\n"
     ]
    }
   ],
   "source": [
    "good_df = df.query('total_area < 150 & rooms < 8 & ceiling_height > 2.5')\n",
    "\n",
    "print('Percentage of final data: {:.1%}'. format(len(good_df) / len(df)))\n"
   ]
  },
  {
   "cell_type": "markdown",
   "metadata": {},
   "source": [
    "## Factors affecting cost"
   ]
  },
  {
   "cell_type": "markdown",
   "metadata": {},
   "source": [
    "#### The dependence of the price on the area"
   ]
  },
  {
   "cell_type": "code",
   "execution_count": 39,
   "metadata": {},
   "outputs": [],
   "source": [
    "pivot_table_total_area = good_df.pivot_table(index='total_area',\n",
    "                                             values='last_price',\n",
    "                                             aggfunc=['count', 'median'])\n",
    "pivot_table_total_area.columns = ['count', 'median']\n",
    "pivot_table_total_area = pivot_table_total_area.sort_values('count', ascending = False).query('median < 7000000')"
   ]
  },
  {
   "cell_type": "code",
   "execution_count": 40,
   "metadata": {},
   "outputs": [
    {
     "data": {
      "text/plain": "<Figure size 432x288 with 1 Axes>",
      "image/png": "[encoded data removed]"
     },
     "metadata": {
      "needs_background": "light"
     },
     "output_type": "display_data"
    }
   ],
   "source": [
    "pivot_table_total_area.plot(y='median', style='go', alpha=0.3, legend=False)\n",
    "plt.xlabel('Total area, sqm')\n",
    "plt.ylabel('Price, rub')\n",
    "plt.title('Price vs Area')\n",
    "plt.show()"
   ]
  },
  {
   "cell_type": "code",
   "execution_count": 41,
   "metadata": {},
   "outputs": [
    {
     "data": {
      "text/plain": "0.6951157219936768"
     },
     "execution_count": 41,
     "metadata": {},
     "output_type": "execute_result"
    }
   ],
   "source": [
    "good_df['last_price'].corr(good_df['total_area'])"
   ]
  },
  {
   "cell_type": "markdown",
   "metadata": {},
   "source": [
    "We looked at the dependence of the cost of an apartment on the total area. The Pearson coefficient is 0.7, that is, there is a correlation - the larger the area of the apartment, the higher the cost."
   ]
  },
  {
   "cell_type": "markdown",
   "metadata": {},
   "source": [
    "#### The dependence of the price on rooms"
   ]
  },
  {
   "cell_type": "code",
   "execution_count": 42,
   "metadata": {},
   "outputs": [],
   "source": [
    "pivot_table_rooms = good_df.pivot_table(index='rooms',\n",
    "                                        values='last_price',\n",
    "                                        aggfunc=['count', 'median'])\n",
    "pivot_table_rooms.columns = ['count', 'median']\n",
    "pivot_table_rooms = pivot_table_rooms.sort_values('rooms', ascending=False)\n"
   ]
  },
  {
   "cell_type": "code",
   "execution_count": 43,
   "metadata": {},
   "outputs": [
    {
     "data": {
      "text/plain": "<Figure size 432x288 with 1 Axes>",
      "image/png": "[encoded data removed]"
     },
     "metadata": {
      "needs_background": "light"
     },
     "output_type": "display_data"
    }
   ],
   "source": [
    "pivot_table_rooms.plot(y='median', style='g-o', legend=False)\n",
    "plt.xlabel('Room amount')\n",
    "plt.ylabel('Price, rub')\n",
    "plt.title('Price vs room amount')\n",
    "plt.show()\n"
   ]
  },
  {
   "cell_type": "code",
   "execution_count": 44,
   "metadata": {},
   "outputs": [
    {
     "data": {
      "text/plain": "0.41500637910837906"
     },
     "execution_count": 44,
     "metadata": {},
     "output_type": "execute_result"
    }
   ],
   "source": [
    "good_df['rooms'].corr(good_df['last_price'])"
   ]
  },
  {
   "cell_type": "markdown",
   "metadata": {},
   "source": [
    "The Pierce coefficient is not very high, there is a relationship between the cost of housing and the number of rooms, but less than the total area."
   ]
  },
  {
   "cell_type": "markdown",
   "metadata": {},
   "source": [
    "#### Dependence of price on distance from the center"
   ]
  },
  {
   "cell_type": "code",
   "execution_count": 45,
   "metadata": {},
   "outputs": [
    {
     "data": {
      "text/plain": "-0.3164411353880013"
     },
     "execution_count": 45,
     "metadata": {},
     "output_type": "execute_result"
    },
    {
     "data": {
      "text/plain": "<Figure size 432x288 with 1 Axes>",
      "image/png": "[encoded data removed]"
     },
     "metadata": {
      "needs_background": "light"
     },
     "output_type": "display_data"
    }
   ],
   "source": [
    "good_df.plot(kind='scatter',\n",
    "             y='last_price',\n",
    "             x='cityCenters_nearest',\n",
    "             alpha=0.05,\n",
    "             ylim=(0, 40000000),\n",
    "             xlim=(0, 20000),\n",
    "             color='green')\n",
    "plt.xlabel('Distance to center, m')\n",
    "plt.ylabel('Price, 10 million rub')\n",
    "plt.title('Price vs Distance to center')\n",
    "\n",
    "good_df['last_price'].corr(good_df['cityCenters_nearest'])\n"
   ]
  },
  {
   "cell_type": "code",
   "execution_count": 46,
   "metadata": {},
   "outputs": [
    {
     "data": {
      "text/plain": "<Figure size 432x288 with 1 Axes>",
      "image/png": "[encoded data removed]"
     },
     "metadata": {
      "needs_background": "light"
     },
     "output_type": "display_data"
    }
   ],
   "source": [
    "good_df.plot(kind='scatter',\n",
    "             y='last_price',\n",
    "             x='cityCenters_nearest',\n",
    "             alpha=0.05,\n",
    "             ylim=(0, 40000000),\n",
    "             color='green')\n",
    "plt.xlabel('Distance to center, m')\n",
    "plt.ylabel('Price, 10 million rub')\n",
    "plt.title('Price vs Distance to center')\n",
    "plt.show()"
   ]
  },
  {
   "cell_type": "markdown",
   "metadata": {},
   "source": [
    "The cost almost does not depend on the distance to the city center."
   ]
  },
  {
   "cell_type": "markdown",
   "metadata": {},
   "source": [
    "#### Dependence of price on floor category"
   ]
  },
  {
   "cell_type": "code",
   "execution_count": 47,
   "metadata": {},
   "outputs": [
    {
     "data": {
      "text/plain": "                count     median\nfloor_category                  \nдругой          14520  4950000.0\nпоследний        2568  4435000.0\nпервый           2316  4000000.0",
      "text/html": "<div>\n<style scoped>\n    .dataframe tbody tr th:only-of-type {\n        vertical-align: middle;\n    }\n\n    .dataframe tbody tr th {\n        vertical-align: top;\n    }\n\n    .dataframe thead th {\n        text-align: right;\n    }\n</style>\n<table border=\"1\" class=\"dataframe\">\n  <thead>\n    <tr style=\"text-align: right;\">\n      <th></th>\n      <th>count</th>\n      <th>median</th>\n    </tr>\n    <tr>\n      <th>floor_category</th>\n      <th></th>\n      <th></th>\n    </tr>\n  </thead>\n  <tbody>\n    <tr>\n      <th>другой</th>\n      <td>14520</td>\n      <td>4950000.0</td>\n    </tr>\n    <tr>\n      <th>последний</th>\n      <td>2568</td>\n      <td>4435000.0</td>\n    </tr>\n    <tr>\n      <th>первый</th>\n      <td>2316</td>\n      <td>4000000.0</td>\n    </tr>\n  </tbody>\n</table>\n</div>"
     },
     "execution_count": 47,
     "metadata": {},
     "output_type": "execute_result"
    }
   ],
   "source": [
    "pivot_table_floors = good_df.pivot_table(index='floor_category',\n",
    "                                         values='last_price',\n",
    "                                         aggfunc=['count', 'median'])\n",
    "pivot_table_floors.columns = ['count', 'median']\n",
    "pivot_table_floors = pivot_table_floors.sort_values('median', ascending = False)\n",
    "pivot_table_floors\n"
   ]
  },
  {
   "cell_type": "code",
   "execution_count": 48,
   "metadata": {},
   "outputs": [
    {
     "data": {
      "text/plain": "<Figure size 432x288 with 1 Axes>",
      "image/png": "[encoded data removed]"
     },
     "metadata": {
      "needs_background": "light"
     },
     "output_type": "display_data"
    }
   ],
   "source": [
    "pivot_table_floors.plot(y='median',\n",
    "                        kind='bar',\n",
    "                        ylim=(3000000),\n",
    "                        legend=False,\n",
    "                        color='green')\n",
    "plt.xlabel('Floor')\n",
    "plt.ylabel('Price, rub')\n",
    "plt.title('Price vs floor')\n",
    "plt.show()"
   ]
  },
  {
   "cell_type": "markdown",
   "metadata": {},
   "source": [
    "Apartments on the first floor are the cheapest."
   ]
  },
  {
   "cell_type": "markdown",
   "metadata": {},
   "source": [
    "#### Dependence on the date of placement: day of the week, month and year"
   ]
  },
  {
   "cell_type": "code",
   "execution_count": 49,
   "metadata": {},
   "outputs": [
    {
     "data": {
      "text/plain": "                   count     median\nday_of_exposition                  \n1                   3433  4890000.0\n2                   3254  4850000.0\n0                   2894  4800000.0\n3                   3530  4800000.0\n4                   3321  4700000.0\n5                   1579  4650000.0\n6                   1393  4600000.0",
      "text/html": "<div>\n<style scoped>\n    .dataframe tbody tr th:only-of-type {\n        vertical-align: middle;\n    }\n\n    .dataframe tbody tr th {\n        vertical-align: top;\n    }\n\n    .dataframe thead th {\n        text-align: right;\n    }\n</style>\n<table border=\"1\" class=\"dataframe\">\n  <thead>\n    <tr style=\"text-align: right;\">\n      <th></th>\n      <th>count</th>\n      <th>median</th>\n    </tr>\n    <tr>\n      <th>day_of_exposition</th>\n      <th></th>\n      <th></th>\n    </tr>\n  </thead>\n  <tbody>\n    <tr>\n      <th>1</th>\n      <td>3433</td>\n      <td>4890000.0</td>\n    </tr>\n    <tr>\n      <th>2</th>\n      <td>3254</td>\n      <td>4850000.0</td>\n    </tr>\n    <tr>\n      <th>0</th>\n      <td>2894</td>\n      <td>4800000.0</td>\n    </tr>\n    <tr>\n      <th>3</th>\n      <td>3530</td>\n      <td>4800000.0</td>\n    </tr>\n    <tr>\n      <th>4</th>\n      <td>3321</td>\n      <td>4700000.0</td>\n    </tr>\n    <tr>\n      <th>5</th>\n      <td>1579</td>\n      <td>4650000.0</td>\n    </tr>\n    <tr>\n      <th>6</th>\n      <td>1393</td>\n      <td>4600000.0</td>\n    </tr>\n  </tbody>\n</table>\n</div>"
     },
     "execution_count": 49,
     "metadata": {},
     "output_type": "execute_result"
    }
   ],
   "source": [
    "pivot_table_weekday_exposition = good_df.pivot_table(index='day_of_exposition',\n",
    "                                                     values='last_price',\n",
    "                                                     aggfunc=['count', 'median'])\n",
    "pivot_table_weekday_exposition.columns = ['count', 'median']\n",
    "pivot_table_weekday_exposition.sort_values('median', ascending=False)\n"
   ]
  },
  {
   "cell_type": "code",
   "execution_count": 50,
   "metadata": {},
   "outputs": [
    {
     "data": {
      "text/plain": "<Figure size 432x288 with 1 Axes>",
      "image/png": "[encoded data removed]"
     },
     "metadata": {
      "needs_background": "light"
     },
     "output_type": "display_data"
    }
   ],
   "source": [
    "pivot_table_weekday_exposition.plot(y='median',\n",
    "                                    kind='bar',\n",
    "                                    ylim=(4100000, 5000000),\n",
    "                                    legend=False,\n",
    "                                    color='green')\n",
    "plt.xlabel('Day of week')\n",
    "plt.ylabel('Price, rub')\n",
    "plt.title('Price vs Day of Week')\n",
    "plt.xticks([0, 1, 2, 3, 4, 5, 6], ['M', 'T', 'W', 'Th', 'F', 'St', 's'],\n",
    "       rotation=20)\n",
    "plt.show()"
   ]
  },
  {
   "cell_type": "code",
   "execution_count": 51,
   "metadata": {},
   "outputs": [
    {
     "data": {
      "text/plain": "                     count     median\nmonth_of_exposition                  \n4                     1932  4999000.0\n3                     2041  4850000.0\n9                     1621  4820000.0\n1                     1226  4800000.0\n2                     2145  4800000.0\n11                    1951  4800000.0\n12                    1371  4780000.0\n7                     1389  4750000.0\n8                     1436  4750000.0\n10                    1716  4700000.0\n5                     1092  4550000.0\n6                     1484  4500000.0",
      "text/html": "<div>\n<style scoped>\n    .dataframe tbody tr th:only-of-type {\n        vertical-align: middle;\n    }\n\n    .dataframe tbody tr th {\n        vertical-align: top;\n    }\n\n    .dataframe thead th {\n        text-align: right;\n    }\n</style>\n<table border=\"1\" class=\"dataframe\">\n  <thead>\n    <tr style=\"text-align: right;\">\n      <th></th>\n      <th>count</th>\n      <th>median</th>\n    </tr>\n    <tr>\n      <th>month_of_exposition</th>\n      <th></th>\n      <th></th>\n    </tr>\n  </thead>\n  <tbody>\n    <tr>\n      <th>4</th>\n      <td>1932</td>\n      <td>4999000.0</td>\n    </tr>\n    <tr>\n      <th>3</th>\n      <td>2041</td>\n      <td>4850000.0</td>\n    </tr>\n    <tr>\n      <th>9</th>\n      <td>1621</td>\n      <td>4820000.0</td>\n    </tr>\n    <tr>\n      <th>1</th>\n      <td>1226</td>\n      <td>4800000.0</td>\n    </tr>\n    <tr>\n      <th>2</th>\n      <td>2145</td>\n      <td>4800000.0</td>\n    </tr>\n    <tr>\n      <th>11</th>\n      <td>1951</td>\n      <td>4800000.0</td>\n    </tr>\n    <tr>\n      <th>12</th>\n      <td>1371</td>\n      <td>4780000.0</td>\n    </tr>\n    <tr>\n      <th>7</th>\n      <td>1389</td>\n      <td>4750000.0</td>\n    </tr>\n    <tr>\n      <th>8</th>\n      <td>1436</td>\n      <td>4750000.0</td>\n    </tr>\n    <tr>\n      <th>10</th>\n      <td>1716</td>\n      <td>4700000.0</td>\n    </tr>\n    <tr>\n      <th>5</th>\n      <td>1092</td>\n      <td>4550000.0</td>\n    </tr>\n    <tr>\n      <th>6</th>\n      <td>1484</td>\n      <td>4500000.0</td>\n    </tr>\n  </tbody>\n</table>\n</div>"
     },
     "execution_count": 51,
     "metadata": {},
     "output_type": "execute_result"
    }
   ],
   "source": [
    "pivot_table_month_exposition = good_df.pivot_table(index='month_of_exposition',\n",
    "                                                   values='last_price',\n",
    "                                                   aggfunc=['count', 'median'])\n",
    "pivot_table_month_exposition.columns = ['count', 'median']\n",
    "pivot_table_month_exposition.sort_values('median', ascending=False)\n"
   ]
  },
  {
   "cell_type": "code",
   "execution_count": 52,
   "metadata": {},
   "outputs": [
    {
     "data": {
      "text/plain": "<Figure size 432x288 with 1 Axes>",
      "image/png": "[encoded data removed]"
     },
     "metadata": {
      "needs_background": "light"
     },
     "output_type": "display_data"
    }
   ],
   "source": [
    "pivot_table_month_exposition.plot(y='median',\n",
    "                                  kind='bar',\n",
    "                                  ylim=(4000000, 5100000),\n",
    "                                  legend=False,\n",
    "                                  color='green')\n",
    "plt.xlabel('Month')\n",
    "plt.ylabel('Price, rub')\n",
    "plt.title('Price vs Month')\n",
    "plt.xticks([0, 1, 2, 3, 4, 5, 6, 7, 8, 9, 10, 11], ['Jan', 'Feb', 'M', 'Apr', 'May', 'June', 'July', 'Aug', 'Sent', 'Oct', 'Nov', 'Dec'],\n",
    "       rotation=20)\n",
    "plt.show()"
   ]
  },
  {
   "cell_type": "code",
   "execution_count": 53,
   "metadata": {},
   "outputs": [
    {
     "data": {
      "text/plain": "                    count     median          mean\nyear_of_exposition                                \n2014                  113  7500000.0  9.980052e+06\n2019                 2170  5355000.0  6.517179e+06\n2015                 1016  5312500.0  6.800520e+06\n2018                 6718  4750000.0  5.828798e+06\n2016                 2386  4600000.0  5.962921e+06\n2017                 7001  4580000.0  5.801044e+06",
      "text/html": "<div>\n<style scoped>\n    .dataframe tbody tr th:only-of-type {\n        vertical-align: middle;\n    }\n\n    .dataframe tbody tr th {\n        vertical-align: top;\n    }\n\n    .dataframe thead th {\n        text-align: right;\n    }\n</style>\n<table border=\"1\" class=\"dataframe\">\n  <thead>\n    <tr style=\"text-align: right;\">\n      <th></th>\n      <th>count</th>\n      <th>median</th>\n      <th>mean</th>\n    </tr>\n    <tr>\n      <th>year_of_exposition</th>\n      <th></th>\n      <th></th>\n      <th></th>\n    </tr>\n  </thead>\n  <tbody>\n    <tr>\n      <th>2014</th>\n      <td>113</td>\n      <td>7500000.0</td>\n      <td>9.980052e+06</td>\n    </tr>\n    <tr>\n      <th>2019</th>\n      <td>2170</td>\n      <td>5355000.0</td>\n      <td>6.517179e+06</td>\n    </tr>\n    <tr>\n      <th>2015</th>\n      <td>1016</td>\n      <td>5312500.0</td>\n      <td>6.800520e+06</td>\n    </tr>\n    <tr>\n      <th>2018</th>\n      <td>6718</td>\n      <td>4750000.0</td>\n      <td>5.828798e+06</td>\n    </tr>\n    <tr>\n      <th>2016</th>\n      <td>2386</td>\n      <td>4600000.0</td>\n      <td>5.962921e+06</td>\n    </tr>\n    <tr>\n      <th>2017</th>\n      <td>7001</td>\n      <td>4580000.0</td>\n      <td>5.801044e+06</td>\n    </tr>\n  </tbody>\n</table>\n</div>"
     },
     "execution_count": 53,
     "metadata": {},
     "output_type": "execute_result"
    }
   ],
   "source": [
    "pivot_table_year_exposition = good_df.pivot_table(index='year_of_exposition',\n",
    "                                                  values='last_price',\n",
    "                                                  aggfunc=['count', 'median', 'mean'])\n",
    "pivot_table_year_exposition.columns = ['count', 'median', 'mean']\n",
    "pivot_table_year_exposition.sort_values('median', ascending=False)\n"
   ]
  },
  {
   "cell_type": "code",
   "execution_count": 54,
   "metadata": {},
   "outputs": [
    {
     "data": {
      "text/plain": "<Figure size 432x288 with 1 Axes>",
      "image/png": "[encoded data removed]"
     },
     "metadata": {
      "needs_background": "light"
     },
     "output_type": "display_data"
    }
   ],
   "source": [
    "pivot_table_year_exposition.plot(y='median',\n",
    "                                 kind='bar',\n",
    "                                 ylim=(3000000),\n",
    "                                 legend=False,\n",
    "                                 color='green')\n",
    "plt.xlabel('Year')\n",
    "plt.ylabel('Price, 10 millions rub')\n",
    "plt.title('Price vs Year')\n",
    "plt.show()"
   ]
  },
  {
   "cell_type": "markdown",
   "metadata": {},
   "source": [
    "**Resume**\n",
    "1. The strongest correlation with the cost of an apartment is typical for the total area and number of rooms.\n",
    "2. The distance to the city center does not affect much (Pierce coefficient = - 0.3).\n",
    "3. The first and last floors are cheaper than the rest.\n",
    "4. There is no strong dependence on the day of the week. Mondays and Thursdays are a bit ahead.\n",
    "5. Demand for apartments grows until April, then drops sharply in May and slowly increases.\n",
    "6. In 2014, apartment prices were much higher due to the economic situation in the country."
   ]
  },
  {
   "cell_type": "markdown",
   "metadata": {},
   "source": [
    "## Top popular localities"
   ]
  },
  {
   "cell_type": "code",
   "execution_count": 55,
   "metadata": {},
   "outputs": [
    {
     "data": {
      "text/plain": "                   count         median\nlocality_name                          \nСанкт-Петербург    12978  106250.000000\nпосёлок Мурино       512   86410.969793\nпосёлок Шушары       410   77111.546686\nВсеволожск           365   66216.216216\nпосёлок Парголово    311   92352.941176\nдеревня Кудрово      298   92619.821078\nПушкин               280  101102.228682\nГатчина              236   68414.188837\nКолпино              233   75000.000000\nВыборг               194   58320.512821",
      "text/html": "<div>\n<style scoped>\n    .dataframe tbody tr th:only-of-type {\n        vertical-align: middle;\n    }\n\n    .dataframe tbody tr th {\n        vertical-align: top;\n    }\n\n    .dataframe thead th {\n        text-align: right;\n    }\n</style>\n<table border=\"1\" class=\"dataframe\">\n  <thead>\n    <tr style=\"text-align: right;\">\n      <th></th>\n      <th>count</th>\n      <th>median</th>\n    </tr>\n    <tr>\n      <th>locality_name</th>\n      <th></th>\n      <th></th>\n    </tr>\n  </thead>\n  <tbody>\n    <tr>\n      <th>Санкт-Петербург</th>\n      <td>12978</td>\n      <td>106250.000000</td>\n    </tr>\n    <tr>\n      <th>посёлок Мурино</th>\n      <td>512</td>\n      <td>86410.969793</td>\n    </tr>\n    <tr>\n      <th>посёлок Шушары</th>\n      <td>410</td>\n      <td>77111.546686</td>\n    </tr>\n    <tr>\n      <th>Всеволожск</th>\n      <td>365</td>\n      <td>66216.216216</td>\n    </tr>\n    <tr>\n      <th>посёлок Парголово</th>\n      <td>311</td>\n      <td>92352.941176</td>\n    </tr>\n    <tr>\n      <th>деревня Кудрово</th>\n      <td>298</td>\n      <td>92619.821078</td>\n    </tr>\n    <tr>\n      <th>Пушкин</th>\n      <td>280</td>\n      <td>101102.228682</td>\n    </tr>\n    <tr>\n      <th>Гатчина</th>\n      <td>236</td>\n      <td>68414.188837</td>\n    </tr>\n    <tr>\n      <th>Колпино</th>\n      <td>233</td>\n      <td>75000.000000</td>\n    </tr>\n    <tr>\n      <th>Выборг</th>\n      <td>194</td>\n      <td>58320.512821</td>\n    </tr>\n  </tbody>\n</table>\n</div>"
     },
     "execution_count": 55,
     "metadata": {},
     "output_type": "execute_result"
    }
   ],
   "source": [
    "pivot_table_price_per_sqm = good_df.pivot_table(index='locality_name',\n",
    "                                                values='square_meter_price',\n",
    "                                                aggfunc=['count', 'median'])\n",
    "pivot_table_price_per_sqm.columns = ['count', 'median']\n",
    "pivot_table_price_per_sqm = pivot_table_price_per_sqm.sort_values('count', ascending=False).head(10)\n",
    "pivot_table_price_per_sqm\n"
   ]
  },
  {
   "cell_type": "code",
   "execution_count": 56,
   "metadata": {},
   "outputs": [
    {
     "data": {
      "text/plain": "                 count    median\nlocality_name                   \nСанкт-Петербург  12978  106250.0",
      "text/html": "<div>\n<style scoped>\n    .dataframe tbody tr th:only-of-type {\n        vertical-align: middle;\n    }\n\n    .dataframe tbody tr th {\n        vertical-align: top;\n    }\n\n    .dataframe thead th {\n        text-align: right;\n    }\n</style>\n<table border=\"1\" class=\"dataframe\">\n  <thead>\n    <tr style=\"text-align: right;\">\n      <th></th>\n      <th>count</th>\n      <th>median</th>\n    </tr>\n    <tr>\n      <th>locality_name</th>\n      <th></th>\n      <th></th>\n    </tr>\n  </thead>\n  <tbody>\n    <tr>\n      <th>Санкт-Петербург</th>\n      <td>12978</td>\n      <td>106250.0</td>\n    </tr>\n  </tbody>\n</table>\n</div>"
     },
     "execution_count": 56,
     "metadata": {},
     "output_type": "execute_result"
    }
   ],
   "source": [
    "pivot_table_price_per_sqm[pivot_table_price_per_sqm['median'] == pivot_table_price_per_sqm['median'].max()]\n"
   ]
  },
  {
   "cell_type": "code",
   "execution_count": 57,
   "metadata": {},
   "outputs": [
    {
     "data": {
      "text/plain": "               count        median\nlocality_name                     \nВыборг           194  58320.512821",
      "text/html": "<div>\n<style scoped>\n    .dataframe tbody tr th:only-of-type {\n        vertical-align: middle;\n    }\n\n    .dataframe tbody tr th {\n        vertical-align: top;\n    }\n\n    .dataframe thead th {\n        text-align: right;\n    }\n</style>\n<table border=\"1\" class=\"dataframe\">\n  <thead>\n    <tr style=\"text-align: right;\">\n      <th></th>\n      <th>count</th>\n      <th>median</th>\n    </tr>\n    <tr>\n      <th>locality_name</th>\n      <th></th>\n      <th></th>\n    </tr>\n  </thead>\n  <tbody>\n    <tr>\n      <th>Выборг</th>\n      <td>194</td>\n      <td>58320.512821</td>\n    </tr>\n  </tbody>\n</table>\n</div>"
     },
     "execution_count": 57,
     "metadata": {},
     "output_type": "execute_result"
    }
   ],
   "source": [
    "pivot_table_price_per_sqm[pivot_table_price_per_sqm['median'] == pivot_table_price_per_sqm['median'].min()]\n"
   ]
  },
  {
   "cell_type": "markdown",
   "metadata": {},
   "source": [
    "**Resume**\n",
    "\n",
    "**Highlighted the 10 most popular places:**\n",
    "- the most popular area - St. Petersburg, 5238 ads\n",
    "- in last place - Vyborg, 117 ads\n",
    "\n",
    "**The same trend is observed for price distribution:**\n",
    "- St. Petersburg - 103125 rubles per sq m\n",
    "- Vyborg - 58666 rubles per sq m"
   ]
  },
  {
   "cell_type": "markdown",
   "metadata": {},
   "source": [
    "## Apartments in the center of St. Petersburg"
   ]
  },
  {
   "cell_type": "markdown",
   "metadata": {},
   "source": [
    "#### Choice of the center of St. Petersburg"
   ]
  },
  {
   "cell_type": "code",
   "execution_count": 58,
   "metadata": {},
   "outputs": [],
   "source": [
    "# meter to kilometer\n",
    "good_df['cityCenters_nearest_km'] = np.floor(good_df['cityCenters_nearest'] / 1000)"
   ]
  },
  {
   "cell_type": "code",
   "execution_count": 59,
   "metadata": {},
   "outputs": [
    {
     "data": {
      "text/plain": "<Figure size 432x288 with 1 Axes>",
      "image/png": "[encoded data removed]"
     },
     "metadata": {
      "needs_background": "light"
     },
     "output_type": "display_data"
    }
   ],
   "source": [
    "spb_good_df = good_df.query('locality_name == \"Санкт-Петербург\" & cityCenters_nearest_km.notna()', engine='python')\n",
    "pivot_table_center_spb = (spb_good_df.pivot_table(index='cityCenters_nearest_km', \n",
    "                                                  values='last_price', \n",
    "                                                  aggfunc='median').\n",
    "                         plot(legend=False)\n",
    "                         )\n",
    "\n",
    "plt.xlabel('Distance to center, km')\n",
    "plt.ylabel('Price, 10 millions rub')\n",
    "plt.title('Price vs distance')\n",
    "\n",
    "plt.show()\n"
   ]
  },
  {
   "cell_type": "markdown",
   "metadata": {},
   "source": [
    "Under the city center we will take a radius of 5 km."
   ]
  },
  {
   "cell_type": "markdown",
   "metadata": {},
   "source": [
    "#### Distribution of some parameters in the center of St. Petersburg"
   ]
  },
  {
   "cell_type": "code",
   "execution_count": 60,
   "metadata": {},
   "outputs": [],
   "source": [
    "center_spb_good_df = spb_good_df.query('cityCenters_nearest_km <= 5')\n"
   ]
  },
  {
   "cell_type": "markdown",
   "metadata": {},
   "source": [
    "##### Area"
   ]
  },
  {
   "cell_type": "code",
   "execution_count": 61,
   "metadata": {},
   "outputs": [
    {
     "data": {
      "text/plain": "count    2409.000000\nmean       79.024143\nstd        28.926047\nmin        12.000000\n25%        57.000000\n50%        76.000000\n75%        98.500000\nmax       149.200000\nName: total_area, dtype: float64"
     },
     "execution_count": 61,
     "metadata": {},
     "output_type": "execute_result"
    },
    {
     "data": {
      "text/plain": "<Figure size 360x216 with 1 Axes>",
      "image/png": "[encoded data removed]"
     },
     "metadata": {
      "needs_background": "light"
     },
     "output_type": "display_data"
    }
   ],
   "source": [
    "center_spb_good_df.plot(y='total_area',\n",
    "                        kind='hist', \n",
    "                        bins=40, \n",
    "                        grid=True, \n",
    "                        figsize=(5, 3), \n",
    "                        range=(10, 150), \n",
    "                        legend=False, \n",
    "                        color='darkorange')\n",
    "plt.title('Distribution ')\n",
    "plt.xlabel('Total area, sqm')\n",
    "plt.ylabel('Requency')\n",
    "\n",
    "center_spb_good_df['total_area'].describe()\n"
   ]
  },
  {
   "cell_type": "markdown",
   "metadata": {},
   "source": [
    "We observe a normal distribution, the bulk of housing has an area of 50 to 90 square meters."
   ]
  },
  {
   "cell_type": "markdown",
   "metadata": {},
   "source": [
    "##### Price"
   ]
  },
  {
   "cell_type": "code",
   "execution_count": 62,
   "metadata": {},
   "outputs": [
    {
     "data": {
      "text/plain": "count    2.409000e+03\nmean     1.073505e+07\nstd      7.403570e+06\nmin      1.600000e+06\n25%      6.700000e+06\n50%      8.800000e+06\n75%      1.220000e+07\nmax      1.240000e+08\nName: last_price, dtype: float64"
     },
     "execution_count": 62,
     "metadata": {},
     "output_type": "execute_result"
    },
    {
     "data": {
      "text/plain": "<Figure size 360x216 with 1 Axes>",
      "image/png": "[encoded data removed]"
     },
     "metadata": {
      "needs_background": "light"
     },
     "output_type": "display_data"
    }
   ],
   "source": [
    "center_spb_good_df.plot(y='last_price',\n",
    "                        kind='hist',\n",
    "                        bins=50,\n",
    "                        grid=True,\n",
    "                        figsize=(5, 3),\n",
    "                        range=(0, 15000000),\n",
    "                        legend=False,\n",
    "                        color='darkorange')\n",
    "plt.title('Distribution of price ')\n",
    "plt.xlabel('Price, 10 million rub')\n",
    "plt.ylabel('Frequency')\n",
    "\n",
    "center_spb_good_df['last_price'].describe()\n"
   ]
  },
  {
   "cell_type": "markdown",
   "metadata": {},
   "source": [
    "The distribution is also similar to normal. Basically, prices range from 5 to 11 million rubles."
   ]
  },
  {
   "cell_type": "markdown",
   "metadata": {},
   "source": [
    "##### Ceiling height"
   ]
  },
  {
   "cell_type": "code",
   "execution_count": 63,
   "metadata": {},
   "outputs": [
    {
     "data": {
      "text/plain": "count    2409.000000\nmean        2.976276\nstd         0.844719\nmin         2.510000\n25%         2.650000\n50%         2.860000\n75%         3.160000\nmax        32.000000\nName: ceiling_height, dtype: float64"
     },
     "execution_count": 63,
     "metadata": {},
     "output_type": "execute_result"
    },
    {
     "data": {
      "text/plain": "<Figure size 360x216 with 1 Axes>",
      "image/png": "[encoded data removed]"
     },
     "metadata": {
      "needs_background": "light"
     },
     "output_type": "display_data"
    }
   ],
   "source": [
    "center_spb_good_df.plot(y='ceiling_height',\n",
    "                        kind='hist',\n",
    "                        figsize=(5, 3),\n",
    "                        grid=True,\n",
    "                        legend=False,\n",
    "                        color='darkorange')\n",
    "plt.title('Distribution')\n",
    "plt.xlabel('Ceiling height, m')\n",
    "plt.ylabel('Frequency')\n",
    "\n",
    "center_spb_good_df['ceiling_height'].describe()\n"
   ]
  },
  {
   "cell_type": "markdown",
   "metadata": {},
   "source": [
    "The average ceiling height is 2.65 m."
   ]
  },
  {
   "cell_type": "markdown",
   "metadata": {},
   "source": [
    "##### Rooms"
   ]
  },
  {
   "cell_type": "code",
   "execution_count": 64,
   "metadata": {},
   "outputs": [
    {
     "data": {
      "text/plain": "count    2409.000000\nmean        2.630967\nstd         1.111502\nmin         0.000000\n25%         2.000000\n50%         3.000000\n75%         3.000000\nmax         7.000000\nName: rooms, dtype: float64"
     },
     "execution_count": 64,
     "metadata": {},
     "output_type": "execute_result"
    },
    {
     "data": {
      "text/plain": "<Figure size 360x216 with 1 Axes>",
      "image/png": "[encoded data removed]"
     },
     "metadata": {
      "needs_background": "light"
     },
     "output_type": "display_data"
    }
   ],
   "source": [
    "center_spb_good_df.plot(y='rooms',\n",
    "                        kind='hist',\n",
    "                        figsize=(5, 3),\n",
    "                        grid=True,\n",
    "                        legend=False,\n",
    "                        color='darkorange')\n",
    "plt.title('Distribution')\n",
    "plt.xlabel('Rooms')\n",
    "plt.ylabel('Frequency')\n",
    "\n",
    "center_spb_good_df['rooms'].describe()\n"
   ]
  },
  {
   "cell_type": "markdown",
   "metadata": {},
   "source": [
    "Most of all two- and three-room apartments."
   ]
  },
  {
   "cell_type": "markdown",
   "metadata": {},
   "source": [
    "**Resume**\n",
    "\n",
    "The most likely characteristics of an apartment for sale in the center of St. Petersburg:\n",
    "1. Area - 72 sq m\n",
    "2. Cost - 8.5 million rubles\n",
    "3. Ceiling height - 2.65 m\n",
    "4. Number of rooms - 2"
   ]
  },
  {
   "cell_type": "markdown",
   "metadata": {},
   "source": [
    "#### Factors that affect the cost of housing in the center of St. Petersburg"
   ]
  },
  {
   "cell_type": "markdown",
   "metadata": {},
   "source": [
    "#####  Rooms"
   ]
  },
  {
   "cell_type": "code",
   "execution_count": 65,
   "metadata": {},
   "outputs": [
    {
     "data": {
      "text/plain": "       count      median\nrooms                   \n0         11   3200000.0\n1        364   6100000.0\n2        755   8000000.0\n3        801   9640000.0\n4        356  11000000.0\n5        102  11150000.0\n6         13  12000000.0\n7          7  15000000.0",
      "text/html": "<div>\n<style scoped>\n    .dataframe tbody tr th:only-of-type {\n        vertical-align: middle;\n    }\n\n    .dataframe tbody tr th {\n        vertical-align: top;\n    }\n\n    .dataframe thead th {\n        text-align: right;\n    }\n</style>\n<table border=\"1\" class=\"dataframe\">\n  <thead>\n    <tr style=\"text-align: right;\">\n      <th></th>\n      <th>count</th>\n      <th>median</th>\n    </tr>\n    <tr>\n      <th>rooms</th>\n      <th></th>\n      <th></th>\n    </tr>\n  </thead>\n  <tbody>\n    <tr>\n      <th>0</th>\n      <td>11</td>\n      <td>3200000.0</td>\n    </tr>\n    <tr>\n      <th>1</th>\n      <td>364</td>\n      <td>6100000.0</td>\n    </tr>\n    <tr>\n      <th>2</th>\n      <td>755</td>\n      <td>8000000.0</td>\n    </tr>\n    <tr>\n      <th>3</th>\n      <td>801</td>\n      <td>9640000.0</td>\n    </tr>\n    <tr>\n      <th>4</th>\n      <td>356</td>\n      <td>11000000.0</td>\n    </tr>\n    <tr>\n      <th>5</th>\n      <td>102</td>\n      <td>11150000.0</td>\n    </tr>\n    <tr>\n      <th>6</th>\n      <td>13</td>\n      <td>12000000.0</td>\n    </tr>\n    <tr>\n      <th>7</th>\n      <td>7</td>\n      <td>15000000.0</td>\n    </tr>\n  </tbody>\n</table>\n</div>"
     },
     "execution_count": 65,
     "metadata": {},
     "output_type": "execute_result"
    }
   ],
   "source": [
    "center_spb_rooms = center_spb_good_df.pivot_table(index='rooms',\n",
    "                                                  values='last_price',\n",
    "                                                  aggfunc=['count', 'median'])\n",
    "center_spb_rooms.columns = ['count', 'median']\n",
    "center_spb_rooms\n"
   ]
  },
  {
   "cell_type": "code",
   "execution_count": 66,
   "metadata": {},
   "outputs": [
    {
     "data": {
      "text/plain": "<Figure size 432x288 with 1 Axes>",
      "image/png": "[encoded data removed]"
     },
     "metadata": {
      "needs_background": "light"
     },
     "output_type": "display_data"
    }
   ],
   "source": [
    "center_spb_rooms.plot(y='median',\n",
    "                      kind='bar',\n",
    "                      grid=True,\n",
    "                      legend=False,\n",
    "                      color='tomato')\n",
    "plt.title('Price vs number of rooms')\n",
    "plt.xlabel('Room')\n",
    "plt.ylabel('Price, 10 million rub')\n",
    "plt.show()"
   ]
  },
  {
   "cell_type": "markdown",
   "metadata": {},
   "source": [
    "There ia a clear dependence of the cost of housing on the number of rooms."
   ]
  },
  {
   "cell_type": "markdown",
   "metadata": {},
   "source": [
    "##### Floor"
   ]
  },
  {
   "cell_type": "code",
   "execution_count": 67,
   "metadata": {},
   "outputs": [
    {
     "data": {
      "text/plain": "                count     median\nfloor_category                  \nдругой           1678  9200000.0\nпервый            307  6740000.0\nпоследний         424  8810000.0",
      "text/html": "<div>\n<style scoped>\n    .dataframe tbody tr th:only-of-type {\n        vertical-align: middle;\n    }\n\n    .dataframe tbody tr th {\n        vertical-align: top;\n    }\n\n    .dataframe thead th {\n        text-align: right;\n    }\n</style>\n<table border=\"1\" class=\"dataframe\">\n  <thead>\n    <tr style=\"text-align: right;\">\n      <th></th>\n      <th>count</th>\n      <th>median</th>\n    </tr>\n    <tr>\n      <th>floor_category</th>\n      <th></th>\n      <th></th>\n    </tr>\n  </thead>\n  <tbody>\n    <tr>\n      <th>другой</th>\n      <td>1678</td>\n      <td>9200000.0</td>\n    </tr>\n    <tr>\n      <th>первый</th>\n      <td>307</td>\n      <td>6740000.0</td>\n    </tr>\n    <tr>\n      <th>последний</th>\n      <td>424</td>\n      <td>8810000.0</td>\n    </tr>\n  </tbody>\n</table>\n</div>"
     },
     "execution_count": 67,
     "metadata": {},
     "output_type": "execute_result"
    }
   ],
   "source": [
    "center_spb_floor = center_spb_good_df.pivot_table(index='floor_category', values='last_price', aggfunc=['count', 'median'])\n",
    "center_spb_floor.columns = ['count', 'median']\n",
    "center_spb_floor\n"
   ]
  },
  {
   "cell_type": "code",
   "execution_count": 68,
   "metadata": {},
   "outputs": [
    {
     "data": {
      "text/plain": "<Figure size 432x288 with 1 Axes>",
      "image/png": "[encoded data removed]"
     },
     "metadata": {
      "needs_background": "light"
     },
     "output_type": "display_data"
    }
   ],
   "source": [
    "center_spb_floor.plot(y='median',\n",
    "                      kind='bar',\n",
    "                      ylim=(4000000),\n",
    "                      legend=False,\n",
    "                      grid=True,\n",
    "                      color='tomato')\n",
    "plt.title('Price vs Floor')\n",
    "plt.xlabel('Floor')\n",
    "plt.ylabel('Price, 10 millions rub')\n",
    "plt.show()"
   ]
  },
  {
   "cell_type": "markdown",
   "metadata": {},
   "source": [
    "The cheapest apartments are on the first floor"
   ]
  },
  {
   "cell_type": "markdown",
   "metadata": {},
   "source": [
    "##### Distance to the center"
   ]
  },
  {
   "cell_type": "code",
   "execution_count": 69,
   "metadata": {},
   "outputs": [
    {
     "data": {
      "text/plain": "                        count     median\ncityCenters_nearest_km                  \n0.0                        69  9900000.0\n1.0                       196  9850000.0\n2.0                       258  8900000.0\n3.0                       464  8200000.0\n4.0                       777  9080000.0\n5.0                       645  8500000.0",
      "text/html": "<div>\n<style scoped>\n    .dataframe tbody tr th:only-of-type {\n        vertical-align: middle;\n    }\n\n    .dataframe tbody tr th {\n        vertical-align: top;\n    }\n\n    .dataframe thead th {\n        text-align: right;\n    }\n</style>\n<table border=\"1\" class=\"dataframe\">\n  <thead>\n    <tr style=\"text-align: right;\">\n      <th></th>\n      <th>count</th>\n      <th>median</th>\n    </tr>\n    <tr>\n      <th>cityCenters_nearest_km</th>\n      <th></th>\n      <th></th>\n    </tr>\n  </thead>\n  <tbody>\n    <tr>\n      <th>0.0</th>\n      <td>69</td>\n      <td>9900000.0</td>\n    </tr>\n    <tr>\n      <th>1.0</th>\n      <td>196</td>\n      <td>9850000.0</td>\n    </tr>\n    <tr>\n      <th>2.0</th>\n      <td>258</td>\n      <td>8900000.0</td>\n    </tr>\n    <tr>\n      <th>3.0</th>\n      <td>464</td>\n      <td>8200000.0</td>\n    </tr>\n    <tr>\n      <th>4.0</th>\n      <td>777</td>\n      <td>9080000.0</td>\n    </tr>\n    <tr>\n      <th>5.0</th>\n      <td>645</td>\n      <td>8500000.0</td>\n    </tr>\n  </tbody>\n</table>\n</div>"
     },
     "execution_count": 69,
     "metadata": {},
     "output_type": "execute_result"
    }
   ],
   "source": [
    "center_spb_center = center_spb_good_df.pivot_table(index='cityCenters_nearest_km', values='last_price', aggfunc=['count', 'median'])\n",
    "center_spb_center.columns = ['count', 'median']\n",
    "center_spb_center\n"
   ]
  },
  {
   "cell_type": "code",
   "execution_count": 70,
   "metadata": {},
   "outputs": [
    {
     "data": {
      "text/plain": "<Figure size 432x288 with 1 Axes>",
      "image/png": "[encoded data removed]"
     },
     "metadata": {
      "needs_background": "light"
     },
     "output_type": "display_data"
    }
   ],
   "source": [
    "center_spb_center.plot(y='median',\n",
    "                       kind='bar',\n",
    "                       ylim=(8000000),\n",
    "                       grid=True,\n",
    "                       legend=False,\n",
    "                       color='tomato')\n",
    "plt.title('Price vs Distance')\n",
    "plt.xlabel('Distance to the center')\n",
    "plt.ylabel('Price, 10 million rub')\n",
    "plt.show()"
   ]
  },
  {
   "cell_type": "markdown",
   "metadata": {},
   "source": [
    "The most expensive apartments are within a radius of 1 km, then the cost does not change much."
   ]
  },
  {
   "cell_type": "markdown",
   "metadata": {},
   "source": [
    "##### Day of exposition"
   ]
  },
  {
   "cell_type": "code",
   "execution_count": 71,
   "metadata": {},
   "outputs": [
    {
     "data": {
      "text/plain": "<Figure size 432x288 with 1 Axes>",
      "image/png": "[encoded data removed]"
     },
     "metadata": {
      "needs_background": "light"
     },
     "output_type": "display_data"
    }
   ],
   "source": [
    "center_spb_weekday_exposition = center_spb_good_df.pivot_table(index='day_of_exposition',\n",
    "                                                               values='last_price',\n",
    "                                                               aggfunc=['count', 'median'])\n",
    "center_spb_weekday_exposition.columns = ['count', 'median']\n",
    "center_spb_weekday_exposition.plot(y='median',\n",
    "                                   kind='bar',\n",
    "                                   ylim=(8000000),\n",
    "                                   grid=True,\n",
    "                                   legend=False,\n",
    "                                   color='tomato')\n",
    "plt.xlabel('Day of week')\n",
    "plt.ylabel('Price, rub')\n",
    "plt.title('Price vs day of week')\n",
    "plt.xticks([0, 1, 2, 3, 4, 5, 6], ['Mon', 'T', 'W', 'Th', 'Fr', 'Sat', 'Sun'],\n",
    "       rotation=20)\n",
    "plt.show()"
   ]
  },
  {
   "cell_type": "markdown",
   "metadata": {},
   "source": [
    "No obvious correlation is observed. On Sunday apartments are sold more expensive."
   ]
  },
  {
   "cell_type": "code",
   "execution_count": 72,
   "metadata": {},
   "outputs": [
    {
     "data": {
      "text/plain": "<Figure size 432x288 with 1 Axes>",
      "image/png": "[encoded data removed]"
     },
     "metadata": {
      "needs_background": "light"
     },
     "output_type": "display_data"
    }
   ],
   "source": [
    "center_spb_month_exposition = center_spb_good_df.pivot_table(index='month_of_exposition',\n",
    "                                                             values='last_price',\n",
    "                                                             aggfunc=['count', 'median'])\n",
    "center_spb_month_exposition.columns = ['count', 'median']\n",
    "center_spb_month_exposition.plot(y='median',\n",
    "                                 kind='bar',\n",
    "                                 ylim=(6000000),\n",
    "                                 grid=True,\n",
    "                                 legend=False,\n",
    "                                 color='tomato')\n",
    "plt.xlabel('Month')\n",
    "plt.ylabel('Price, rub')\n",
    "plt.title('Price vs month')\n",
    "plt.xticks([0, 1, 2, 3, 4, 5, 6, 7, 8, 9, 10, 11],\n",
    "           ['Jan', 'Feb', 'March', 'Apr', 'May', 'June', 'July', 'Aug', 'Sent', 'Oct', 'Nov', 'Dec'],\n",
    "           rotation=20)\n",
    "plt.show()"
   ]
  },
  {
   "cell_type": "markdown",
   "metadata": {},
   "source": [
    "No obvious correlation is observed. In June, most apartments were sold."
   ]
  },
  {
   "cell_type": "code",
   "execution_count": 73,
   "metadata": {},
   "outputs": [
    {
     "data": {
      "text/plain": "                    count      median\nyear_of_exposition                   \n2014                   16  17645000.0\n2015                  217   9750000.0\n2016                  341   8700000.0\n2017                  856   8500000.0\n2018                  726   8825000.0\n2019                  253   9476000.0",
      "text/html": "<div>\n<style scoped>\n    .dataframe tbody tr th:only-of-type {\n        vertical-align: middle;\n    }\n\n    .dataframe tbody tr th {\n        vertical-align: top;\n    }\n\n    .dataframe thead th {\n        text-align: right;\n    }\n</style>\n<table border=\"1\" class=\"dataframe\">\n  <thead>\n    <tr style=\"text-align: right;\">\n      <th></th>\n      <th>count</th>\n      <th>median</th>\n    </tr>\n    <tr>\n      <th>year_of_exposition</th>\n      <th></th>\n      <th></th>\n    </tr>\n  </thead>\n  <tbody>\n    <tr>\n      <th>2014</th>\n      <td>16</td>\n      <td>17645000.0</td>\n    </tr>\n    <tr>\n      <th>2015</th>\n      <td>217</td>\n      <td>9750000.0</td>\n    </tr>\n    <tr>\n      <th>2016</th>\n      <td>341</td>\n      <td>8700000.0</td>\n    </tr>\n    <tr>\n      <th>2017</th>\n      <td>856</td>\n      <td>8500000.0</td>\n    </tr>\n    <tr>\n      <th>2018</th>\n      <td>726</td>\n      <td>8825000.0</td>\n    </tr>\n    <tr>\n      <th>2019</th>\n      <td>253</td>\n      <td>9476000.0</td>\n    </tr>\n  </tbody>\n</table>\n</div>"
     },
     "execution_count": 73,
     "metadata": {},
     "output_type": "execute_result"
    },
    {
     "data": {
      "text/plain": "<Figure size 432x288 with 1 Axes>",
      "image/png": "[encoded data removed]"
     },
     "metadata": {
      "needs_background": "light"
     },
     "output_type": "display_data"
    }
   ],
   "source": [
    "center_spb_year_exposition = center_spb_good_df.pivot_table(index='year_of_exposition',\n",
    "                                                            values='last_price',\n",
    "                                                            aggfunc=['count', 'median'])\n",
    "center_spb_year_exposition.columns = ['count', 'median']\n",
    "center_spb_year_exposition.plot(y='median',\n",
    "                                kind='bar',\n",
    "                                ylim=(6000000),\n",
    "                                legend=False,\n",
    "                                grid=True,\n",
    "                                color='tomato')\n",
    "plt.xlabel('Year')\n",
    "plt.ylabel('Price, 10 million rub')\n",
    "plt.title('Price vs year')\n",
    "\n",
    "center_spb_year_exposition"
   ]
  },
  {
   "cell_type": "markdown",
   "metadata": {},
   "source": [
    "No obvious correlation is observed. In 2015, there was a peak in sales."
   ]
  },
  {
   "cell_type": "markdown",
   "metadata": {},
   "source": [
    "**Resume**\n",
    "\n",
    "1. We observe a clear direct dependence of the cost of apartments on the number of rooms. The most expensive will be five-room apartments. This behavior is also typical for the general sample.\n",
    "2. Apartments on the ground floor are on average cheaper than those on the top floor. And apartments on other floors are the most expensive. There are no significant differences from the entire sample of apartments.\n",
    "3. The most expensive apartments are within a radius of 1 km, much less further, but approximately on the same level. As in the general sample, no strong dependence is observed.\n",
    "4. There is no obvious relationship between the date of publication of the announcement and the cost of the apartment. There are small rises in prices on Sundays, as well as in March and June. There was a slight decline after 2016, but then prices rose again. The same behavior is typical for the general sample over the years."
   ]
  },
  {
   "cell_type": "markdown",
   "metadata": {},
   "source": [
    "## Conclusion"
   ]
  },
  {
   "cell_type": "markdown",
   "metadata": {},
   "source": [
    "**Factors that affect the cost of an apartment include:**\n",
    "- The total area of the apartment\n",
    "- Number of rooms\n",
    "- Floor (apartments on the first and last are cheaper)\n",
    "- Distance to the city center (apartments outside a radius of 5 km are cheaper by 4 million rubles)\n",
    "\n",
    "     - *Average cost of an apartment in the center* - 8.5 million rubles with an area of 72 sq.m.\n",
    "     - *The average cost of an apartment in St. Petersburg and the Leningrad Region* - 4.6 million rubles with an area of 52 sq.m.\n",
    "\n",
    "- In 2014-2015 there was a sharp decline in real estate prices. By 2019, prices have stabilized and are steadily rising.\n",
    "\n",
    "**There are several problems in the analyzed data that can be eliminated at the filling stage:**\n",
    "- Anomalies in the ceiling heights are associated with manual input, you need to put restrictions on the values\n",
    "- Missing values in the `balcony` column can be fixed by making this cell mandatory\n",
    "- There are problems with the data in the `days_exposition` column. It is not clear for what reasons the publication was removed: the sale took place or these are the rules of the service"
   ]
  },
  {
   "cell_type": "code",
   "execution_count": 73,
   "outputs": [],
   "source": [],
   "metadata": {
    "collapsed": false
   }
  }
 ],
 "metadata": {
  "ExecuteTimeLog": [
   {
    "duration": 690,
    "start_time": "2022-03-10T11:52:59.128Z"
   },
   {
    "duration": 85,
    "start_time": "2022-03-10T11:54:31.141Z"
   },
   {
    "duration": 64,
    "start_time": "2022-03-10T11:59:17.834Z"
   },
   {
    "duration": 10,
    "start_time": "2022-03-10T11:59:35.679Z"
   },
   {
    "duration": 8,
    "start_time": "2022-03-10T12:09:30.119Z"
   },
   {
    "duration": 2226,
    "start_time": "2022-03-27T09:00:14.577Z"
   },
   {
    "duration": 75,
    "start_time": "2022-03-27T09:00:16.806Z"
   },
   {
    "duration": 11,
    "start_time": "2022-03-27T09:00:16.884Z"
   },
   {
    "duration": 5,
    "start_time": "2022-03-27T09:00:16.898Z"
   },
   {
    "duration": 178,
    "start_time": "2022-03-27T09:00:16.905Z"
   },
   {
    "duration": 12,
    "start_time": "2022-03-27T09:00:17.085Z"
   },
   {
    "duration": 70,
    "start_time": "2022-03-27T09:00:17.100Z"
   },
   {
    "duration": 17,
    "start_time": "2022-03-27T09:00:17.173Z"
   },
   {
    "duration": 5,
    "start_time": "2022-03-27T09:00:17.192Z"
   },
   {
    "duration": 76,
    "start_time": "2022-03-27T09:00:17.201Z"
   },
   {
    "duration": 11,
    "start_time": "2022-03-27T09:00:17.279Z"
   },
   {
    "duration": 6,
    "start_time": "2022-03-27T09:00:17.293Z"
   },
   {
    "duration": 67,
    "start_time": "2022-03-27T09:00:17.301Z"
   },
   {
    "duration": 13,
    "start_time": "2022-03-27T09:00:17.370Z"
   },
   {
    "duration": 8,
    "start_time": "2022-03-27T09:00:17.385Z"
   },
   {
    "duration": 78,
    "start_time": "2022-03-27T09:00:17.395Z"
   },
   {
    "duration": 6,
    "start_time": "2022-03-27T09:00:17.476Z"
   },
   {
    "duration": 20,
    "start_time": "2022-03-27T09:00:17.484Z"
   },
   {
    "duration": 6,
    "start_time": "2022-03-27T09:00:17.568Z"
   },
   {
    "duration": 6,
    "start_time": "2022-03-27T09:00:17.576Z"
   },
   {
    "duration": 6,
    "start_time": "2022-03-27T09:00:17.584Z"
   },
   {
    "duration": 74,
    "start_time": "2022-03-27T09:00:17.593Z"
   },
   {
    "duration": 5,
    "start_time": "2022-03-27T09:00:17.670Z"
   },
   {
    "duration": 5,
    "start_time": "2022-03-27T09:00:17.678Z"
   },
   {
    "duration": 7,
    "start_time": "2022-03-27T09:00:17.686Z"
   },
   {
    "duration": 80,
    "start_time": "2022-03-27T09:00:17.695Z"
   },
   {
    "duration": 11,
    "start_time": "2022-03-27T09:00:17.777Z"
   },
   {
    "duration": 5,
    "start_time": "2022-03-27T09:00:17.795Z"
   },
   {
    "duration": 81,
    "start_time": "2022-03-27T09:00:17.802Z"
   },
   {
    "duration": 927,
    "start_time": "2022-03-27T09:00:17.885Z"
   },
   {
    "duration": 7,
    "start_time": "2022-03-27T09:00:18.867Z"
   },
   {
    "duration": 999,
    "start_time": "2022-03-27T09:00:18.876Z"
   },
   {
    "duration": 805,
    "start_time": "2022-03-27T09:00:19.878Z"
   },
   {
    "duration": 498,
    "start_time": "2022-03-27T09:00:20.685Z"
   },
   {
    "duration": 582,
    "start_time": "2022-03-27T09:00:21.185Z"
   },
   {
    "duration": 614,
    "start_time": "2022-03-27T09:00:21.770Z"
   },
   {
    "duration": 82,
    "start_time": "2022-03-27T09:00:22.387Z"
   },
   {
    "duration": 25,
    "start_time": "2022-03-27T09:00:22.471Z"
   },
   {
    "duration": 481,
    "start_time": "2022-03-27T09:00:22.499Z"
   },
   {
    "duration": 7,
    "start_time": "2022-03-27T09:00:22.982Z"
   },
   {
    "duration": 91,
    "start_time": "2022-03-27T09:00:22.991Z"
   },
   {
    "duration": 411,
    "start_time": "2022-03-27T09:00:23.085Z"
   },
   {
    "duration": 70,
    "start_time": "2022-03-27T09:00:23.498Z"
   },
   {
    "duration": 512,
    "start_time": "2022-03-27T09:00:23.570Z"
   },
   {
    "duration": 89,
    "start_time": "2022-03-27T09:00:24.084Z"
   },
   {
    "duration": 430,
    "start_time": "2022-03-27T09:00:24.175Z"
   },
   {
    "duration": 74,
    "start_time": "2022-03-27T09:00:24.607Z"
   },
   {
    "duration": 90,
    "start_time": "2022-03-27T09:00:24.684Z"
   },
   {
    "duration": 510,
    "start_time": "2022-03-27T09:00:24.777Z"
   },
   {
    "duration": 86,
    "start_time": "2022-03-27T09:00:25.289Z"
   },
   {
    "duration": 695,
    "start_time": "2022-03-27T09:00:25.377Z"
   },
   {
    "duration": 98,
    "start_time": "2022-03-27T09:00:26.075Z"
   },
   {
    "duration": 432,
    "start_time": "2022-03-27T09:00:26.175Z"
   },
   {
    "duration": 81,
    "start_time": "2022-03-27T09:00:26.610Z"
   },
   {
    "duration": 10,
    "start_time": "2022-03-27T09:00:26.693Z"
   },
   {
    "duration": 12,
    "start_time": "2022-03-27T09:00:26.768Z"
   },
   {
    "duration": 7,
    "start_time": "2022-03-27T09:00:26.782Z"
   },
   {
    "duration": 7,
    "start_time": "2022-03-27T09:00:26.791Z"
   },
   {
    "duration": 502,
    "start_time": "2022-03-27T09:00:26.800Z"
   },
   {
    "duration": 65,
    "start_time": "2022-03-27T09:00:27.304Z"
   },
   {
    "duration": 602,
    "start_time": "2022-03-27T09:00:27.372Z"
   },
   {
    "duration": 614,
    "start_time": "2022-03-27T09:00:27.976Z"
   },
   {
    "duration": 479,
    "start_time": "2022-03-27T09:00:28.592Z"
   },
   {
    "duration": 617,
    "start_time": "2022-03-27T09:00:29.073Z"
   },
   {
    "duration": 91,
    "start_time": "2022-03-27T09:00:29.693Z"
   },
   {
    "duration": 593,
    "start_time": "2022-03-27T09:00:29.787Z"
   },
   {
    "duration": 89,
    "start_time": "2022-03-27T09:00:30.383Z"
   },
   {
    "duration": 407,
    "start_time": "2022-03-27T09:00:30.474Z"
   },
   {
    "duration": 90,
    "start_time": "2022-03-27T09:00:30.884Z"
   },
   {
    "duration": 435,
    "start_time": "2022-03-27T09:00:30.977Z"
   },
   {
    "duration": 515,
    "start_time": "2022-03-27T09:00:31.467Z"
   },
   {
    "duration": 797,
    "start_time": "2022-03-27T09:00:31.985Z"
   },
   {
    "duration": 690,
    "start_time": "2022-03-27T09:00:32.784Z"
   },
   {
    "duration": 132,
    "start_time": "2022-03-27T09:00:49.168Z"
   },
   {
    "duration": 278,
    "start_time": "2022-03-27T09:04:43.494Z"
   },
   {
    "duration": 53,
    "start_time": "2022-03-27T09:04:53.729Z"
   },
   {
    "duration": 36,
    "start_time": "2022-03-27T09:05:02.658Z"
   },
   {
    "duration": 43,
    "start_time": "2022-03-27T09:05:47.255Z"
   },
   {
    "duration": 283,
    "start_time": "2022-03-27T09:08:48.213Z"
   },
   {
    "duration": 78,
    "start_time": "2022-03-27T09:08:48.499Z"
   },
   {
    "duration": 11,
    "start_time": "2022-03-27T09:08:48.580Z"
   },
   {
    "duration": 89,
    "start_time": "2022-03-27T09:08:48.594Z"
   },
   {
    "duration": 5,
    "start_time": "2022-03-27T09:08:48.685Z"
   },
   {
    "duration": 176,
    "start_time": "2022-03-27T09:08:48.693Z"
   },
   {
    "duration": 9,
    "start_time": "2022-03-27T09:08:48.871Z"
   },
   {
    "duration": 5,
    "start_time": "2022-03-27T09:08:48.883Z"
   },
   {
    "duration": 79,
    "start_time": "2022-03-27T09:08:48.890Z"
   },
   {
    "duration": 5,
    "start_time": "2022-03-27T09:08:48.973Z"
   },
   {
    "duration": 15,
    "start_time": "2022-03-27T09:08:48.981Z"
   },
   {
    "duration": 76,
    "start_time": "2022-03-27T09:08:48.998Z"
   },
   {
    "duration": 10,
    "start_time": "2022-03-27T09:08:49.077Z"
   },
   {
    "duration": 7,
    "start_time": "2022-03-27T09:08:49.089Z"
   },
   {
    "duration": 78,
    "start_time": "2022-03-27T09:08:49.099Z"
   },
   {
    "duration": 6,
    "start_time": "2022-03-27T09:08:49.180Z"
   },
   {
    "duration": 10,
    "start_time": "2022-03-27T09:08:49.188Z"
   },
   {
    "duration": 72,
    "start_time": "2022-03-27T09:08:49.201Z"
   },
   {
    "duration": 17,
    "start_time": "2022-03-27T09:08:49.276Z"
   },
   {
    "duration": 6,
    "start_time": "2022-03-27T09:08:49.296Z"
   },
   {
    "duration": 68,
    "start_time": "2022-03-27T09:08:49.303Z"
   },
   {
    "duration": 6,
    "start_time": "2022-03-27T09:08:49.373Z"
   },
   {
    "duration": 6,
    "start_time": "2022-03-27T09:08:49.381Z"
   },
   {
    "duration": 7,
    "start_time": "2022-03-27T09:08:49.389Z"
   },
   {
    "duration": 6,
    "start_time": "2022-03-27T09:08:49.468Z"
   },
   {
    "duration": 8,
    "start_time": "2022-03-27T09:08:49.476Z"
   },
   {
    "duration": 12,
    "start_time": "2022-03-27T09:08:49.486Z"
   },
   {
    "duration": 11,
    "start_time": "2022-03-27T09:08:49.569Z"
   },
   {
    "duration": 7,
    "start_time": "2022-03-27T09:08:49.583Z"
   },
   {
    "duration": 78,
    "start_time": "2022-03-27T09:08:49.592Z"
   },
   {
    "duration": 914,
    "start_time": "2022-03-27T09:08:49.672Z"
   },
   {
    "duration": 6,
    "start_time": "2022-03-27T09:08:50.589Z"
   },
   {
    "duration": 894,
    "start_time": "2022-03-27T09:08:50.597Z"
   },
   {
    "duration": 816,
    "start_time": "2022-03-27T09:08:51.495Z"
   },
   {
    "duration": 564,
    "start_time": "2022-03-27T09:08:52.314Z"
   },
   {
    "duration": 735,
    "start_time": "2022-03-27T09:08:52.880Z"
   },
   {
    "duration": 628,
    "start_time": "2022-03-27T09:08:53.668Z"
   },
   {
    "duration": 76,
    "start_time": "2022-03-27T09:08:54.298Z"
   },
   {
    "duration": 92,
    "start_time": "2022-03-27T09:08:54.377Z"
   },
   {
    "duration": 43,
    "start_time": "2022-03-28T09:42:10.235Z"
   },
   {
    "duration": 868,
    "start_time": "2022-03-28T09:42:26.921Z"
   },
   {
    "duration": 14,
    "start_time": "2022-03-28T09:42:27.790Z"
   },
   {
    "duration": 7,
    "start_time": "2022-03-28T09:42:27.805Z"
   },
   {
    "duration": 68,
    "start_time": "2022-03-28T09:42:27.814Z"
   },
   {
    "duration": 3,
    "start_time": "2022-03-28T09:42:27.884Z"
   },
   {
    "duration": 34,
    "start_time": "2022-03-28T09:42:27.889Z"
   },
   {
    "duration": 5,
    "start_time": "2022-03-28T09:42:27.924Z"
   },
   {
    "duration": 4,
    "start_time": "2022-03-28T09:42:27.930Z"
   },
   {
    "duration": 10,
    "start_time": "2022-03-28T09:42:27.935Z"
   },
   {
    "duration": 3,
    "start_time": "2022-03-28T09:42:27.947Z"
   },
   {
    "duration": 36,
    "start_time": "2022-03-28T09:42:27.951Z"
   },
   {
    "duration": 7,
    "start_time": "2022-03-28T09:42:27.989Z"
   },
   {
    "duration": 6,
    "start_time": "2022-03-28T09:42:27.997Z"
   },
   {
    "duration": 4,
    "start_time": "2022-03-28T09:42:28.006Z"
   },
   {
    "duration": 9,
    "start_time": "2022-03-28T09:42:28.012Z"
   },
   {
    "duration": 4,
    "start_time": "2022-03-28T09:42:28.022Z"
   },
   {
    "duration": 5,
    "start_time": "2022-03-28T09:42:28.028Z"
   },
   {
    "duration": 5,
    "start_time": "2022-03-28T09:42:28.035Z"
   },
   {
    "duration": 13,
    "start_time": "2022-03-28T09:42:28.081Z"
   },
   {
    "duration": 4,
    "start_time": "2022-03-28T09:42:28.095Z"
   },
   {
    "duration": 6,
    "start_time": "2022-03-28T09:42:28.103Z"
   },
   {
    "duration": 7,
    "start_time": "2022-03-28T09:42:28.110Z"
   },
   {
    "duration": 8,
    "start_time": "2022-03-28T09:42:28.118Z"
   },
   {
    "duration": 11,
    "start_time": "2022-03-28T09:42:28.128Z"
   },
   {
    "duration": 13,
    "start_time": "2022-03-28T09:42:28.141Z"
   },
   {
    "duration": 6,
    "start_time": "2022-03-28T09:42:28.156Z"
   },
   {
    "duration": 20,
    "start_time": "2022-03-28T09:42:28.164Z"
   },
   {
    "duration": 7,
    "start_time": "2022-03-28T09:42:28.186Z"
   },
   {
    "duration": 7,
    "start_time": "2022-03-28T09:42:28.194Z"
   },
   {
    "duration": 13,
    "start_time": "2022-03-28T09:42:28.203Z"
   },
   {
    "duration": 289,
    "start_time": "2022-03-28T09:42:28.217Z"
   },
   {
    "duration": 4,
    "start_time": "2022-03-28T09:42:28.508Z"
   },
   {
    "duration": 313,
    "start_time": "2022-03-28T09:42:28.514Z"
   },
   {
    "duration": 233,
    "start_time": "2022-03-28T09:42:28.829Z"
   },
   {
    "duration": 144,
    "start_time": "2022-03-28T09:42:29.064Z"
   },
   {
    "duration": 165,
    "start_time": "2022-03-28T09:42:29.210Z"
   },
   {
    "duration": 173,
    "start_time": "2022-03-28T09:42:29.377Z"
   },
   {
    "duration": 14,
    "start_time": "2022-03-28T09:42:29.551Z"
   },
   {
    "duration": 31,
    "start_time": "2022-03-28T09:42:29.566Z"
   },
   {
    "duration": 14,
    "start_time": "2022-03-28T09:42:29.599Z"
   },
   {
    "duration": 133,
    "start_time": "2022-03-28T09:42:29.617Z"
   },
   {
    "duration": 4,
    "start_time": "2022-03-28T09:42:29.752Z"
   },
   {
    "duration": 32,
    "start_time": "2022-03-28T09:42:29.758Z"
   },
   {
    "duration": 120,
    "start_time": "2022-03-28T09:42:29.791Z"
   },
   {
    "duration": 72,
    "start_time": "2022-03-28T09:42:29.912Z"
   },
   {
    "duration": 0,
    "start_time": "2022-03-28T09:42:29.986Z"
   },
   {
    "duration": 0,
    "start_time": "2022-03-28T09:42:29.987Z"
   },
   {
    "duration": 0,
    "start_time": "2022-03-28T09:42:29.988Z"
   },
   {
    "duration": 0,
    "start_time": "2022-03-28T09:42:29.988Z"
   },
   {
    "duration": 0,
    "start_time": "2022-03-28T09:42:29.989Z"
   },
   {
    "duration": 0,
    "start_time": "2022-03-28T09:42:29.990Z"
   },
   {
    "duration": 0,
    "start_time": "2022-03-28T09:42:29.991Z"
   },
   {
    "duration": 0,
    "start_time": "2022-03-28T09:42:29.992Z"
   },
   {
    "duration": 0,
    "start_time": "2022-03-28T09:42:29.994Z"
   },
   {
    "duration": 0,
    "start_time": "2022-03-28T09:42:29.995Z"
   },
   {
    "duration": 0,
    "start_time": "2022-03-28T09:42:29.995Z"
   },
   {
    "duration": 0,
    "start_time": "2022-03-28T09:42:29.996Z"
   },
   {
    "duration": 0,
    "start_time": "2022-03-28T09:42:29.997Z"
   },
   {
    "duration": 0,
    "start_time": "2022-03-28T09:42:29.998Z"
   },
   {
    "duration": 0,
    "start_time": "2022-03-28T09:42:29.999Z"
   },
   {
    "duration": 0,
    "start_time": "2022-03-28T09:42:30.000Z"
   },
   {
    "duration": 0,
    "start_time": "2022-03-28T09:42:30.001Z"
   },
   {
    "duration": 0,
    "start_time": "2022-03-28T09:42:30.002Z"
   },
   {
    "duration": 0,
    "start_time": "2022-03-28T09:42:30.003Z"
   },
   {
    "duration": 0,
    "start_time": "2022-03-28T09:42:30.004Z"
   },
   {
    "duration": 0,
    "start_time": "2022-03-28T09:42:30.005Z"
   },
   {
    "duration": 0,
    "start_time": "2022-03-28T09:42:30.006Z"
   },
   {
    "duration": 0,
    "start_time": "2022-03-28T09:42:30.007Z"
   },
   {
    "duration": 0,
    "start_time": "2022-03-28T09:42:30.009Z"
   },
   {
    "duration": 0,
    "start_time": "2022-03-28T09:42:30.010Z"
   },
   {
    "duration": 0,
    "start_time": "2022-03-28T09:42:30.011Z"
   },
   {
    "duration": 0,
    "start_time": "2022-03-28T09:42:30.012Z"
   },
   {
    "duration": 0,
    "start_time": "2022-03-28T09:42:30.013Z"
   },
   {
    "duration": 0,
    "start_time": "2022-03-28T09:42:30.014Z"
   },
   {
    "duration": 0,
    "start_time": "2022-03-28T09:42:30.016Z"
   },
   {
    "duration": 12,
    "start_time": "2022-03-28T09:43:58.489Z"
   },
   {
    "duration": 6,
    "start_time": "2022-03-28T09:49:54.303Z"
   },
   {
    "duration": 198,
    "start_time": "2022-03-28T09:51:57.395Z"
   },
   {
    "duration": 160,
    "start_time": "2022-03-28T09:52:27.131Z"
   },
   {
    "duration": 188,
    "start_time": "2022-03-28T09:52:30.714Z"
   },
   {
    "duration": 247,
    "start_time": "2022-03-28T09:57:33.371Z"
   },
   {
    "duration": 19,
    "start_time": "2022-03-28T09:57:49.109Z"
   },
   {
    "duration": 107,
    "start_time": "2022-03-28T09:57:49.913Z"
   },
   {
    "duration": 11,
    "start_time": "2022-03-28T09:57:55.720Z"
   },
   {
    "duration": 17,
    "start_time": "2022-03-28T09:58:00.424Z"
   },
   {
    "duration": 126,
    "start_time": "2022-03-28T09:58:02.457Z"
   },
   {
    "duration": 17,
    "start_time": "2022-03-28T09:58:06.632Z"
   },
   {
    "duration": 134,
    "start_time": "2022-03-28T09:58:10.600Z"
   },
   {
    "duration": 21,
    "start_time": "2022-03-28T09:58:11.601Z"
   },
   {
    "duration": 103,
    "start_time": "2022-03-28T09:58:12.543Z"
   },
   {
    "duration": 21,
    "start_time": "2022-03-28T09:58:30.728Z"
   },
   {
    "duration": 8,
    "start_time": "2022-03-28T09:58:31.238Z"
   },
   {
    "duration": 7,
    "start_time": "2022-03-28T09:58:32.215Z"
   },
   {
    "duration": 4,
    "start_time": "2022-03-28T09:58:35.429Z"
   },
   {
    "duration": 4,
    "start_time": "2022-03-28T09:58:44.991Z"
   },
   {
    "duration": 127,
    "start_time": "2022-03-28T09:58:46.702Z"
   },
   {
    "duration": 3,
    "start_time": "2022-03-28T09:58:59.653Z"
   },
   {
    "duration": 3,
    "start_time": "2022-03-28T09:59:00.526Z"
   },
   {
    "duration": 3,
    "start_time": "2022-03-28T09:59:02.454Z"
   },
   {
    "duration": 133,
    "start_time": "2022-03-28T09:59:03.678Z"
   },
   {
    "duration": 7,
    "start_time": "2022-03-28T09:59:11.477Z"
   },
   {
    "duration": 144,
    "start_time": "2022-03-28T09:59:13.830Z"
   },
   {
    "duration": 176,
    "start_time": "2022-03-28T09:59:19.697Z"
   },
   {
    "duration": 115,
    "start_time": "2022-03-28T09:59:24.149Z"
   },
   {
    "duration": 116,
    "start_time": "2022-03-28T09:59:27.117Z"
   },
   {
    "duration": 16,
    "start_time": "2022-03-28T09:59:32.773Z"
   },
   {
    "duration": 184,
    "start_time": "2022-03-28T09:59:35.172Z"
   },
   {
    "duration": 16,
    "start_time": "2022-03-28T09:59:38.861Z"
   },
   {
    "duration": 106,
    "start_time": "2022-03-28T09:59:39.596Z"
   },
   {
    "duration": 17,
    "start_time": "2022-03-28T09:59:41.299Z"
   },
   {
    "duration": 111,
    "start_time": "2022-03-28T09:59:42.021Z"
   },
   {
    "duration": 131,
    "start_time": "2022-03-28T09:59:43.807Z"
   },
   {
    "duration": 176,
    "start_time": "2022-03-28T09:59:46.452Z"
   },
   {
    "duration": 126,
    "start_time": "2022-03-28T09:59:48.909Z"
   },
   {
    "duration": 949,
    "start_time": "2022-03-29T08:26:31.699Z"
   },
   {
    "duration": 16,
    "start_time": "2022-03-29T08:26:32.651Z"
   },
   {
    "duration": 8,
    "start_time": "2022-03-29T08:26:32.668Z"
   },
   {
    "duration": 97,
    "start_time": "2022-03-29T08:26:32.678Z"
   },
   {
    "duration": 59,
    "start_time": "2022-03-29T08:26:32.776Z"
   },
   {
    "duration": 40,
    "start_time": "2022-03-29T08:26:32.836Z"
   },
   {
    "duration": 60,
    "start_time": "2022-03-29T08:26:32.878Z"
   },
   {
    "duration": 5,
    "start_time": "2022-03-29T08:26:32.939Z"
   },
   {
    "duration": 16,
    "start_time": "2022-03-29T08:26:32.946Z"
   },
   {
    "duration": 3,
    "start_time": "2022-03-29T08:26:32.965Z"
   },
   {
    "duration": 10,
    "start_time": "2022-03-29T08:26:32.970Z"
   },
   {
    "duration": 7,
    "start_time": "2022-03-29T08:26:33.034Z"
   },
   {
    "duration": 6,
    "start_time": "2022-03-29T08:26:33.043Z"
   },
   {
    "duration": 6,
    "start_time": "2022-03-29T08:26:33.051Z"
   },
   {
    "duration": 13,
    "start_time": "2022-03-29T08:26:33.058Z"
   },
   {
    "duration": 4,
    "start_time": "2022-03-29T08:26:33.072Z"
   },
   {
    "duration": 59,
    "start_time": "2022-03-29T08:26:33.077Z"
   },
   {
    "duration": 9,
    "start_time": "2022-03-29T08:26:33.138Z"
   },
   {
    "duration": 13,
    "start_time": "2022-03-29T08:26:33.149Z"
   },
   {
    "duration": 3,
    "start_time": "2022-03-29T08:26:33.164Z"
   },
   {
    "duration": 4,
    "start_time": "2022-03-29T08:26:33.168Z"
   },
   {
    "duration": 4,
    "start_time": "2022-03-29T08:26:33.174Z"
   },
   {
    "duration": 55,
    "start_time": "2022-03-29T08:26:33.180Z"
   },
   {
    "duration": 5,
    "start_time": "2022-03-29T08:26:33.237Z"
   },
   {
    "duration": 6,
    "start_time": "2022-03-29T08:26:33.243Z"
   },
   {
    "duration": 6,
    "start_time": "2022-03-29T08:26:33.250Z"
   },
   {
    "duration": 6,
    "start_time": "2022-03-29T08:26:33.258Z"
   },
   {
    "duration": 8,
    "start_time": "2022-03-29T08:26:33.268Z"
   },
   {
    "duration": 60,
    "start_time": "2022-03-29T08:26:33.277Z"
   },
   {
    "duration": 14,
    "start_time": "2022-03-29T08:26:33.339Z"
   },
   {
    "duration": 519,
    "start_time": "2022-03-29T08:26:33.354Z"
   },
   {
    "duration": 5,
    "start_time": "2022-03-29T08:26:33.875Z"
   },
   {
    "duration": 618,
    "start_time": "2022-03-29T08:26:33.934Z"
   },
   {
    "duration": 481,
    "start_time": "2022-03-29T08:26:34.554Z"
   },
   {
    "duration": 306,
    "start_time": "2022-03-29T08:26:35.037Z"
   },
   {
    "duration": 315,
    "start_time": "2022-03-29T08:26:35.344Z"
   },
   {
    "duration": 247,
    "start_time": "2022-03-29T08:26:35.661Z"
   },
   {
    "duration": 23,
    "start_time": "2022-03-29T08:26:35.910Z"
   },
   {
    "duration": 25,
    "start_time": "2022-03-29T08:26:35.935Z"
   },
   {
    "duration": 17,
    "start_time": "2022-03-29T08:26:35.961Z"
   },
   {
    "duration": 155,
    "start_time": "2022-03-29T08:26:35.980Z"
   },
   {
    "duration": 5,
    "start_time": "2022-03-29T08:26:36.137Z"
   },
   {
    "duration": 15,
    "start_time": "2022-03-29T08:26:36.143Z"
   },
   {
    "duration": 150,
    "start_time": "2022-03-29T08:26:36.160Z"
   },
   {
    "duration": 6,
    "start_time": "2022-03-29T08:26:36.311Z"
   },
   {
    "duration": 231,
    "start_time": "2022-03-29T08:26:36.318Z"
   },
   {
    "duration": 182,
    "start_time": "2022-03-29T08:26:36.551Z"
   },
   {
    "duration": 21,
    "start_time": "2022-03-29T08:26:36.735Z"
   },
   {
    "duration": 223,
    "start_time": "2022-03-29T08:26:36.758Z"
   },
   {
    "duration": 3,
    "start_time": "2022-03-29T08:26:36.983Z"
   },
   {
    "duration": 26,
    "start_time": "2022-03-29T08:26:36.988Z"
   },
   {
    "duration": 169,
    "start_time": "2022-03-29T08:26:37.016Z"
   },
   {
    "duration": 20,
    "start_time": "2022-03-29T08:26:37.187Z"
   },
   {
    "duration": 170,
    "start_time": "2022-03-29T08:26:37.208Z"
   },
   {
    "duration": 25,
    "start_time": "2022-03-29T08:26:37.379Z"
   },
   {
    "duration": 149,
    "start_time": "2022-03-29T08:26:37.405Z"
   },
   {
    "duration": 23,
    "start_time": "2022-03-29T08:26:37.556Z"
   },
   {
    "duration": 8,
    "start_time": "2022-03-29T08:26:37.580Z"
   },
   {
    "duration": 11,
    "start_time": "2022-03-29T08:26:37.589Z"
   },
   {
    "duration": 6,
    "start_time": "2022-03-29T08:26:37.602Z"
   },
   {
    "duration": 24,
    "start_time": "2022-03-29T08:26:37.609Z"
   },
   {
    "duration": 5,
    "start_time": "2022-03-29T08:26:37.635Z"
   },
   {
    "duration": 156,
    "start_time": "2022-03-29T08:26:37.642Z"
   },
   {
    "duration": 7,
    "start_time": "2022-03-29T08:26:37.799Z"
   },
   {
    "duration": 174,
    "start_time": "2022-03-29T08:26:37.808Z"
   },
   {
    "duration": 181,
    "start_time": "2022-03-29T08:26:37.983Z"
   },
   {
    "duration": 136,
    "start_time": "2022-03-29T08:26:38.165Z"
   },
   {
    "duration": 134,
    "start_time": "2022-03-29T08:26:38.302Z"
   },
   {
    "duration": 17,
    "start_time": "2022-03-29T08:26:38.437Z"
   },
   {
    "duration": 154,
    "start_time": "2022-03-29T08:26:38.456Z"
   },
   {
    "duration": 26,
    "start_time": "2022-03-29T08:26:38.612Z"
   },
   {
    "duration": 121,
    "start_time": "2022-03-29T08:26:38.639Z"
   },
   {
    "duration": 19,
    "start_time": "2022-03-29T08:26:38.762Z"
   },
   {
    "duration": 215,
    "start_time": "2022-03-29T08:26:38.783Z"
   },
   {
    "duration": 160,
    "start_time": "2022-03-29T08:26:38.999Z"
   },
   {
    "duration": 188,
    "start_time": "2022-03-29T08:26:39.161Z"
   },
   {
    "duration": 139,
    "start_time": "2022-03-29T08:26:39.351Z"
   }
  ],
  "kernelspec": {
   "display_name": "Python 3 (ipykernel)",
   "language": "python",
   "name": "python3"
  },
  "language_info": {
   "codemirror_mode": {
    "name": "ipython",
    "version": 3
   },
   "file_extension": ".py",
   "mimetype": "text/x-python",
   "name": "python",
   "nbconvert_exporter": "python",
   "pygments_lexer": "ipython3",
   "version": "3.9.5"
  },
  "toc": {
   "base_numbering": 1,
   "nav_menu": {},
   "number_sections": true,
   "sideBar": true,
   "skip_h1_title": true,
   "title_cell": "Содержание",
   "title_sidebar": "Contents",
   "toc_cell": true,
   "toc_position": {
    "height": "calc(100% - 180px)",
    "left": "10px",
    "top": "150px",
    "width": "300px"
   },
   "toc_section_display": true,
   "toc_window_display": true
  }
 },
 "nbformat": 4,
 "nbformat_minor": 4
}
