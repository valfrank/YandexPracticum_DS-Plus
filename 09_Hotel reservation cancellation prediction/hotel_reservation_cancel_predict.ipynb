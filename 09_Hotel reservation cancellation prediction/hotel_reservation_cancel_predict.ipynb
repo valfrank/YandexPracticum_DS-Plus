{
 "cells": [
  {
   "cell_type": "markdown",
   "metadata": {},
   "source": [
    "# Hotel reservation cancellation prediction"
   ]
  },
  {
   "cell_type": "markdown",
   "metadata": {},
   "source": [
    "The customer of this study is the hotel chain.\n",
    "\n",
    "To attract customers, this hotel has added the ability to book a room without prepayment on its website. However, if the client canceled the booking, then the company suffered losses. Hotel staff could, for example, buy groceries for the guest's arrival, or simply not have time to find another client.\n",
    "\n",
    "To solve this problem, you need to develop a system that predicts cancelling. If the model shows that the booking will be cancelled, then the client is asked to make a deposit. The deposit is 80% of the cost of the room for one day and the cost of one-time cleaning. The money will be debited from the client's account if he still cancels the reservation."
   ]
  },
  {
   "cell_type": "markdown",
   "metadata": {},
   "source": [
    "## Data Load and EDA"
   ]
  },
  {
   "cell_type": "code",
   "execution_count": 1,
   "metadata": {},
   "outputs": [],
   "source": [
    "# data analysis and wrangling\n",
    "import pandas as pd\n",
    "import matplotlib.pyplot as plt\n",
    "import seaborn as sns\n",
    "import numpy as np\n",
    "\n",
    "# machine learning\n",
    "from sklearn.tree import DecisionTreeClassifier\n",
    "from sklearn.ensemble import RandomForestClassifier\n",
    "from sklearn.linear_model import LogisticRegression\n",
    "from sklearn.model_selection import GridSearchCV, RepeatedStratifiedKFold, cross_val_score\n",
    "from imblearn.over_sampling import SMOTE\n",
    "from imblearn.under_sampling import RandomUnderSampler\n",
    "from imblearn.pipeline import Pipeline, make_pipeline\n",
    "from sklearn.metrics import accuracy_score, recall_score\n",
    "from sklearn.preprocessing import StandardScaler, LabelEncoder\n",
    "\n",
    "import sweetviz as sv\n",
    "\n",
    "import warnings\n",
    "warnings.filterwarnings(\"ignore\")"
   ]
  },
  {
   "cell_type": "code",
   "execution_count": 2,
   "metadata": {},
   "outputs": [],
   "source": [
    "train_data = pd.read_csv('hotel_train.csv')\n",
    "test_data = pd.read_csv('hotel_test.csv')"
   ]
  },
  {
   "cell_type": "code",
   "execution_count": 3,
   "metadata": {},
   "outputs": [
    {
     "data": {
      "text/html": [
       "<div>\n",
       "<style scoped>\n",
       "    .dataframe tbody tr th:only-of-type {\n",
       "        vertical-align: middle;\n",
       "    }\n",
       "\n",
       "    .dataframe tbody tr th {\n",
       "        vertical-align: top;\n",
       "    }\n",
       "\n",
       "    .dataframe thead th {\n",
       "        text-align: right;\n",
       "    }\n",
       "</style>\n",
       "<table border=\"1\" class=\"dataframe\">\n",
       "  <thead>\n",
       "    <tr style=\"text-align: right;\">\n",
       "      <th></th>\n",
       "      <th>id</th>\n",
       "      <th>is_canceled</th>\n",
       "      <th>lead_time</th>\n",
       "      <th>arrival_date_year</th>\n",
       "      <th>arrival_date_month</th>\n",
       "      <th>arrival_date_week_number</th>\n",
       "      <th>arrival_date_day_of_month</th>\n",
       "      <th>stays_in_weekend_nights</th>\n",
       "      <th>stays_in_week_nights</th>\n",
       "      <th>adults</th>\n",
       "      <th>...</th>\n",
       "      <th>is_repeated_guest</th>\n",
       "      <th>previous_cancellations</th>\n",
       "      <th>previous_bookings_not_canceled</th>\n",
       "      <th>reserved_room_type</th>\n",
       "      <th>booking_changes</th>\n",
       "      <th>days_in_waiting_list</th>\n",
       "      <th>customer_type</th>\n",
       "      <th>required_car_parking_spaces</th>\n",
       "      <th>total_of_special_requests</th>\n",
       "      <th>total_nights</th>\n",
       "    </tr>\n",
       "  </thead>\n",
       "  <tbody>\n",
       "    <tr>\n",
       "      <th>0</th>\n",
       "      <td>0</td>\n",
       "      <td>0</td>\n",
       "      <td>7.0</td>\n",
       "      <td>2015</td>\n",
       "      <td>July</td>\n",
       "      <td>27</td>\n",
       "      <td>1</td>\n",
       "      <td>0</td>\n",
       "      <td>1</td>\n",
       "      <td>1.0</td>\n",
       "      <td>...</td>\n",
       "      <td>0</td>\n",
       "      <td>0</td>\n",
       "      <td>0</td>\n",
       "      <td>A</td>\n",
       "      <td>0</td>\n",
       "      <td>0</td>\n",
       "      <td>Transient</td>\n",
       "      <td>0</td>\n",
       "      <td>0</td>\n",
       "      <td>1</td>\n",
       "    </tr>\n",
       "    <tr>\n",
       "      <th>1</th>\n",
       "      <td>1</td>\n",
       "      <td>0</td>\n",
       "      <td>14.0</td>\n",
       "      <td>2015</td>\n",
       "      <td>July</td>\n",
       "      <td>27</td>\n",
       "      <td>1</td>\n",
       "      <td>0</td>\n",
       "      <td>2</td>\n",
       "      <td>2.0</td>\n",
       "      <td>...</td>\n",
       "      <td>0</td>\n",
       "      <td>0</td>\n",
       "      <td>0</td>\n",
       "      <td>A</td>\n",
       "      <td>0</td>\n",
       "      <td>0</td>\n",
       "      <td>Transient</td>\n",
       "      <td>0</td>\n",
       "      <td>1</td>\n",
       "      <td>2</td>\n",
       "    </tr>\n",
       "    <tr>\n",
       "      <th>2</th>\n",
       "      <td>2</td>\n",
       "      <td>0</td>\n",
       "      <td>0.0</td>\n",
       "      <td>2015</td>\n",
       "      <td>July</td>\n",
       "      <td>27</td>\n",
       "      <td>1</td>\n",
       "      <td>0</td>\n",
       "      <td>2</td>\n",
       "      <td>2.0</td>\n",
       "      <td>...</td>\n",
       "      <td>0</td>\n",
       "      <td>0</td>\n",
       "      <td>0</td>\n",
       "      <td>C</td>\n",
       "      <td>0</td>\n",
       "      <td>0</td>\n",
       "      <td>Transient</td>\n",
       "      <td>0</td>\n",
       "      <td>0</td>\n",
       "      <td>2</td>\n",
       "    </tr>\n",
       "    <tr>\n",
       "      <th>3</th>\n",
       "      <td>3</td>\n",
       "      <td>0</td>\n",
       "      <td>9.0</td>\n",
       "      <td>2015</td>\n",
       "      <td>July</td>\n",
       "      <td>27</td>\n",
       "      <td>1</td>\n",
       "      <td>0</td>\n",
       "      <td>2</td>\n",
       "      <td>2.0</td>\n",
       "      <td>...</td>\n",
       "      <td>0</td>\n",
       "      <td>0</td>\n",
       "      <td>0</td>\n",
       "      <td>C</td>\n",
       "      <td>0</td>\n",
       "      <td>0</td>\n",
       "      <td>Transient</td>\n",
       "      <td>0</td>\n",
       "      <td>1</td>\n",
       "      <td>2</td>\n",
       "    </tr>\n",
       "    <tr>\n",
       "      <th>4</th>\n",
       "      <td>4</td>\n",
       "      <td>1</td>\n",
       "      <td>85.0</td>\n",
       "      <td>2015</td>\n",
       "      <td>July</td>\n",
       "      <td>27</td>\n",
       "      <td>1</td>\n",
       "      <td>0</td>\n",
       "      <td>3</td>\n",
       "      <td>2.0</td>\n",
       "      <td>...</td>\n",
       "      <td>0</td>\n",
       "      <td>0</td>\n",
       "      <td>0</td>\n",
       "      <td>A</td>\n",
       "      <td>0</td>\n",
       "      <td>0</td>\n",
       "      <td>Transient</td>\n",
       "      <td>0</td>\n",
       "      <td>1</td>\n",
       "      <td>3</td>\n",
       "    </tr>\n",
       "  </tbody>\n",
       "</table>\n",
       "<p>5 rows × 25 columns</p>\n",
       "</div>"
      ],
      "text/plain": [
       "   id  is_canceled  lead_time  arrival_date_year arrival_date_month  \\\n",
       "0   0            0        7.0               2015               July   \n",
       "1   1            0       14.0               2015               July   \n",
       "2   2            0        0.0               2015               July   \n",
       "3   3            0        9.0               2015               July   \n",
       "4   4            1       85.0               2015               July   \n",
       "\n",
       "   arrival_date_week_number  arrival_date_day_of_month  \\\n",
       "0                        27                          1   \n",
       "1                        27                          1   \n",
       "2                        27                          1   \n",
       "3                        27                          1   \n",
       "4                        27                          1   \n",
       "\n",
       "   stays_in_weekend_nights  stays_in_week_nights  adults  ...  \\\n",
       "0                        0                     1     1.0  ...   \n",
       "1                        0                     2     2.0  ...   \n",
       "2                        0                     2     2.0  ...   \n",
       "3                        0                     2     2.0  ...   \n",
       "4                        0                     3     2.0  ...   \n",
       "\n",
       "   is_repeated_guest  previous_cancellations previous_bookings_not_canceled  \\\n",
       "0                  0                       0                              0   \n",
       "1                  0                       0                              0   \n",
       "2                  0                       0                              0   \n",
       "3                  0                       0                              0   \n",
       "4                  0                       0                              0   \n",
       "\n",
       "  reserved_room_type booking_changes  days_in_waiting_list  customer_type  \\\n",
       "0   A                              0                     0      Transient   \n",
       "1   A                              0                     0      Transient   \n",
       "2   C                              0                     0      Transient   \n",
       "3   C                              0                     0      Transient   \n",
       "4   A                              0                     0      Transient   \n",
       "\n",
       "   required_car_parking_spaces total_of_special_requests  total_nights  \n",
       "0                            0                         0             1  \n",
       "1                            0                         1             2  \n",
       "2                            0                         0             2  \n",
       "3                            0                         1             2  \n",
       "4                            0                         1             3  \n",
       "\n",
       "[5 rows x 25 columns]"
      ]
     },
     "execution_count": 3,
     "metadata": {},
     "output_type": "execute_result"
    }
   ],
   "source": [
    "train_data.head(5)"
   ]
  },
  {
   "cell_type": "code",
   "execution_count": 4,
   "metadata": {},
   "outputs": [
    {
     "name": "stdout",
     "output_type": "stream",
     "text": [
      "<class 'pandas.core.frame.DataFrame'>\n",
      "RangeIndex: 65229 entries, 0 to 65228\n",
      "Data columns (total 25 columns):\n",
      " #   Column                          Non-Null Count  Dtype  \n",
      "---  ------                          --------------  -----  \n",
      " 0   id                              65229 non-null  int64  \n",
      " 1   is_canceled                     65229 non-null  int64  \n",
      " 2   lead_time                       65229 non-null  float64\n",
      " 3   arrival_date_year               65229 non-null  int64  \n",
      " 4   arrival_date_month              65229 non-null  object \n",
      " 5   arrival_date_week_number        65229 non-null  int64  \n",
      " 6   arrival_date_day_of_month       65229 non-null  int64  \n",
      " 7   stays_in_weekend_nights         65229 non-null  int64  \n",
      " 8   stays_in_week_nights            65229 non-null  int64  \n",
      " 9   adults                          65229 non-null  float64\n",
      " 10  children                        65229 non-null  float64\n",
      " 11  babies                          65229 non-null  float64\n",
      " 12  meal                            65229 non-null  object \n",
      " 13  country                         65229 non-null  object \n",
      " 14  distribution_channel            65229 non-null  object \n",
      " 15  is_repeated_guest               65229 non-null  int64  \n",
      " 16  previous_cancellations          65229 non-null  int64  \n",
      " 17  previous_bookings_not_canceled  65229 non-null  int64  \n",
      " 18  reserved_room_type              65229 non-null  object \n",
      " 19  booking_changes                 65229 non-null  int64  \n",
      " 20  days_in_waiting_list            65229 non-null  int64  \n",
      " 21  customer_type                   65229 non-null  object \n",
      " 22  required_car_parking_spaces     65229 non-null  int64  \n",
      " 23  total_of_special_requests       65229 non-null  int64  \n",
      " 24  total_nights                    65229 non-null  int64  \n",
      "dtypes: float64(4), int64(15), object(6)\n",
      "memory usage: 12.4+ MB\n"
     ]
    }
   ],
   "source": [
    "train_data.info()"
   ]
  },
  {
   "cell_type": "code",
   "execution_count": 5,
   "metadata": {},
   "outputs": [
    {
     "name": "stdout",
     "output_type": "stream",
     "text": [
      "<class 'pandas.core.frame.DataFrame'>\n",
      "RangeIndex: 32412 entries, 0 to 32411\n",
      "Data columns (total 25 columns):\n",
      " #   Column                          Non-Null Count  Dtype  \n",
      "---  ------                          --------------  -----  \n",
      " 0   id                              32412 non-null  int64  \n",
      " 1   is_canceled                     32412 non-null  int64  \n",
      " 2   lead_time                       32412 non-null  float64\n",
      " 3   arrival_date_year               32412 non-null  int64  \n",
      " 4   arrival_date_month              32412 non-null  object \n",
      " 5   arrival_date_week_number        32412 non-null  int64  \n",
      " 6   arrival_date_day_of_month       32412 non-null  int64  \n",
      " 7   stays_in_weekend_nights         32412 non-null  int64  \n",
      " 8   stays_in_week_nights            32412 non-null  int64  \n",
      " 9   adults                          32412 non-null  float64\n",
      " 10  children                        32412 non-null  float64\n",
      " 11  babies                          32412 non-null  float64\n",
      " 12  meal                            32412 non-null  object \n",
      " 13  country                         32412 non-null  object \n",
      " 14  distribution_channel            32412 non-null  object \n",
      " 15  is_repeated_guest               32412 non-null  int64  \n",
      " 16  previous_cancellations          32412 non-null  int64  \n",
      " 17  previous_bookings_not_canceled  32412 non-null  int64  \n",
      " 18  reserved_room_type              32412 non-null  object \n",
      " 19  booking_changes                 32412 non-null  int64  \n",
      " 20  days_in_waiting_list            32412 non-null  int64  \n",
      " 21  customer_type                   32412 non-null  object \n",
      " 22  required_car_parking_spaces     32412 non-null  int64  \n",
      " 23  total_of_special_requests       32412 non-null  int64  \n",
      " 24  total_nights                    32412 non-null  int64  \n",
      "dtypes: float64(4), int64(15), object(6)\n",
      "memory usage: 6.2+ MB\n"
     ]
    }
   ],
   "source": [
    "test_data.info()"
   ]
  },
  {
   "cell_type": "code",
   "execution_count": 6,
   "metadata": {},
   "outputs": [],
   "source": [
    "combine = [train_data, test_data]"
   ]
  },
  {
   "cell_type": "markdown",
   "metadata": {},
   "source": [
    "**Define categorical and numerical properties**"
   ]
  },
  {
   "cell_type": "code",
   "execution_count": 7,
   "metadata": {},
   "outputs": [
    {
     "name": "stdout",
     "output_type": "stream",
     "text": [
      "['id' 'is_canceled' 'lead_time' 'arrival_date_year' 'arrival_date_month'\n",
      " 'arrival_date_week_number' 'arrival_date_day_of_month'\n",
      " 'stays_in_weekend_nights' 'stays_in_week_nights' 'adults' 'children'\n",
      " 'babies' 'meal' 'country' 'distribution_channel' 'is_repeated_guest'\n",
      " 'previous_cancellations' 'previous_bookings_not_canceled'\n",
      " 'reserved_room_type' 'booking_changes' 'days_in_waiting_list'\n",
      " 'customer_type' 'required_car_parking_spaces' 'total_of_special_requests'\n",
      " 'total_nights']\n"
     ]
    }
   ],
   "source": [
    "print(train_data.columns.values)"
   ]
  },
  {
   "cell_type": "markdown",
   "metadata": {},
   "source": [
    "1. Categorical - 'is_canceled', 'customer_type', 'is_repeated_guest', 'meal', 'required_car_parking_spaces', 'reserved_room_type', 'distribution_channel', 'arrival_date_year', 'arrival_date_month', 'required_car_parking_spaces'\n",
    "2. Numerical - 'adults', 'children', 'babies',  'total_of_special_requests', 'total_nights',\n",
    " 'lead_time', 'arrival_date_week_number', 'arrival_date_day_of_month', 'stays_in_weekend_nights', 'stays_in_week_nights',\n",
    "'country', 'previous_cancellations', 'previous_bookings_not_canceled', 'booking_changes'\n",
    "\n"
   ]
  },
  {
   "cell_type": "code",
   "execution_count": 95,
   "metadata": {},
   "outputs": [
    {
     "data": {
      "application/vnd.jupyter.widget-view+json": {
       "model_id": "a6b2bed86a2c462eb61a75f4321d3d11",
       "version_major": 2,
       "version_minor": 0
      },
      "text/plain": [
       "                                             |      | [  0%]   00:00 -> (? left)"
      ]
     },
     "metadata": {},
     "output_type": "display_data"
    },
    {
     "ename": "AttributeError",
     "evalue": "module 'numpy' has no attribute 'warnings'",
     "output_type": "error",
     "traceback": [
      "\u001B[0;31m---------------------------------------------------------------------------\u001B[0m",
      "\u001B[0;31mAttributeError\u001B[0m                            Traceback (most recent call last)",
      "Cell \u001B[0;32mIn[95], line 1\u001B[0m\n\u001B[0;32m----> 1\u001B[0m eda_report \u001B[38;5;241m=\u001B[39m \u001B[43msv\u001B[49m\u001B[38;5;241;43m.\u001B[39;49m\u001B[43manalyze\u001B[49m\u001B[43m(\u001B[49m\u001B[43m[\u001B[49m\u001B[43mtrain_data\u001B[49m\u001B[43m,\u001B[49m\u001B[43m \u001B[49m\u001B[38;5;124;43m'\u001B[39;49m\u001B[38;5;124;43mEDA_report\u001B[39;49m\u001B[38;5;124;43m'\u001B[39;49m\u001B[43m]\u001B[49m\u001B[43m,\u001B[49m\u001B[43m \u001B[49m\u001B[43mtarget_feat\u001B[49m\u001B[38;5;241;43m=\u001B[39;49m\u001B[38;5;124;43m'\u001B[39;49m\u001B[38;5;124;43mis_canceled\u001B[39;49m\u001B[38;5;124;43m'\u001B[39;49m\u001B[43m)\u001B[49m\n",
      "File \u001B[0;32m~/miniforge3/envs/boost_new/lib/python3.10/site-packages/sweetviz/sv_public.py:12\u001B[0m, in \u001B[0;36manalyze\u001B[0;34m(source, target_feat, feat_cfg, pairwise_analysis)\u001B[0m\n\u001B[1;32m      8\u001B[0m \u001B[38;5;28;01mdef\u001B[39;00m \u001B[38;5;21manalyze\u001B[39m(source: Union[pd\u001B[38;5;241m.\u001B[39mDataFrame, Tuple[pd\u001B[38;5;241m.\u001B[39mDataFrame, \u001B[38;5;28mstr\u001B[39m]],\n\u001B[1;32m      9\u001B[0m             target_feat: \u001B[38;5;28mstr\u001B[39m \u001B[38;5;241m=\u001B[39m \u001B[38;5;28;01mNone\u001B[39;00m,\n\u001B[1;32m     10\u001B[0m             feat_cfg: FeatureConfig \u001B[38;5;241m=\u001B[39m \u001B[38;5;28;01mNone\u001B[39;00m,\n\u001B[1;32m     11\u001B[0m             pairwise_analysis: \u001B[38;5;28mstr\u001B[39m \u001B[38;5;241m=\u001B[39m \u001B[38;5;124m'\u001B[39m\u001B[38;5;124mauto\u001B[39m\u001B[38;5;124m'\u001B[39m):\n\u001B[0;32m---> 12\u001B[0m     report \u001B[38;5;241m=\u001B[39m \u001B[43msweetviz\u001B[49m\u001B[38;5;241;43m.\u001B[39;49m\u001B[43mDataframeReport\u001B[49m\u001B[43m(\u001B[49m\u001B[43msource\u001B[49m\u001B[43m,\u001B[49m\u001B[43m \u001B[49m\u001B[43mtarget_feat\u001B[49m\u001B[43m,\u001B[49m\u001B[43m \u001B[49m\u001B[38;5;28;43;01mNone\u001B[39;49;00m\u001B[43m,\u001B[49m\n\u001B[1;32m     13\u001B[0m \u001B[43m                                      \u001B[49m\u001B[43mpairwise_analysis\u001B[49m\u001B[43m,\u001B[49m\u001B[43m \u001B[49m\u001B[43mfeat_cfg\u001B[49m\u001B[43m)\u001B[49m\n\u001B[1;32m     14\u001B[0m     \u001B[38;5;28;01mreturn\u001B[39;00m report\n",
      "File \u001B[0;32m~/miniforge3/envs/boost_new/lib/python3.10/site-packages/sweetviz/dataframe_report.py:256\u001B[0m, in \u001B[0;36mDataframeReport.__init__\u001B[0;34m(self, source, target_feature_name, compare, pairwise_analysis, fc)\u001B[0m\n\u001B[1;32m    253\u001B[0m \u001B[38;5;28;01mfor\u001B[39;00m f \u001B[38;5;129;01min\u001B[39;00m features_to_process:\n\u001B[1;32m    254\u001B[0m     \u001B[38;5;66;03m# start = time.perf_counter()\u001B[39;00m\n\u001B[1;32m    255\u001B[0m     \u001B[38;5;28mself\u001B[39m\u001B[38;5;241m.\u001B[39mprogress_bar\u001B[38;5;241m.\u001B[39mset_description_str(\u001B[38;5;124mf\u001B[39m\u001B[38;5;124m\"\u001B[39m\u001B[38;5;124mFeature: \u001B[39m\u001B[38;5;132;01m{\u001B[39;00mf\u001B[38;5;241m.\u001B[39msource\u001B[38;5;241m.\u001B[39mname\u001B[38;5;132;01m}\u001B[39;00m\u001B[38;5;124m\"\u001B[39m)\n\u001B[0;32m--> 256\u001B[0m     \u001B[38;5;28mself\u001B[39m\u001B[38;5;241m.\u001B[39m_features[f\u001B[38;5;241m.\u001B[39msource\u001B[38;5;241m.\u001B[39mname] \u001B[38;5;241m=\u001B[39m \u001B[43msa\u001B[49m\u001B[38;5;241;43m.\u001B[39;49m\u001B[43manalyze_feature_to_dictionary\u001B[49m\u001B[43m(\u001B[49m\u001B[43mf\u001B[49m\u001B[43m)\u001B[49m\n\u001B[1;32m    257\u001B[0m     \u001B[38;5;28mself\u001B[39m\u001B[38;5;241m.\u001B[39mprogress_bar\u001B[38;5;241m.\u001B[39mupdate(\u001B[38;5;241m1\u001B[39m)\n\u001B[1;32m    258\u001B[0m     \u001B[38;5;66;03m# print(f\"DONE FEATURE------> {f.source.name}\"\u001B[39;00m\n\u001B[1;32m    259\u001B[0m     \u001B[38;5;66;03m#       f\" {(time.perf_counter() - start):.2f}   {self._features[f.source.name]['type']}\")\u001B[39;00m\n\u001B[1;32m    260\u001B[0m \u001B[38;5;66;03m# self.progress_bar.set_description_str('[FEATURES DONE]')\u001B[39;00m\n\u001B[1;32m    261\u001B[0m \u001B[38;5;66;03m# self.progress_bar.close()\u001B[39;00m\n\u001B[1;32m    262\u001B[0m \n\u001B[1;32m    263\u001B[0m \u001B[38;5;66;03m# Wrap up summary\u001B[39;00m\n",
      "File \u001B[0;32m~/miniforge3/envs/boost_new/lib/python3.10/site-packages/sweetviz/series_analyzer.py:136\u001B[0m, in \u001B[0;36manalyze_feature_to_dictionary\u001B[0;34m(to_process)\u001B[0m\n\u001B[1;32m    134\u001B[0m \u001B[38;5;66;03m# Perform full analysis on source/compare/target\u001B[39;00m\n\u001B[1;32m    135\u001B[0m \u001B[38;5;28;01mif\u001B[39;00m returned_feature_dict[\u001B[38;5;124m\"\u001B[39m\u001B[38;5;124mtype\u001B[39m\u001B[38;5;124m\"\u001B[39m] \u001B[38;5;241m==\u001B[39m FeatureType\u001B[38;5;241m.\u001B[39mTYPE_NUM:\n\u001B[0;32m--> 136\u001B[0m     \u001B[43msweetviz\u001B[49m\u001B[38;5;241;43m.\u001B[39;49m\u001B[43mseries_analyzer_numeric\u001B[49m\u001B[38;5;241;43m.\u001B[39;49m\u001B[43manalyze\u001B[49m\u001B[43m(\u001B[49m\u001B[43mto_process\u001B[49m\u001B[43m,\u001B[49m\u001B[43m \u001B[49m\u001B[43mreturned_feature_dict\u001B[49m\u001B[43m)\u001B[49m\n\u001B[1;32m    137\u001B[0m \u001B[38;5;28;01melif\u001B[39;00m returned_feature_dict[\u001B[38;5;124m\"\u001B[39m\u001B[38;5;124mtype\u001B[39m\u001B[38;5;124m\"\u001B[39m] \u001B[38;5;241m==\u001B[39m FeatureType\u001B[38;5;241m.\u001B[39mTYPE_CAT:\n\u001B[1;32m    138\u001B[0m     sweetviz\u001B[38;5;241m.\u001B[39mseries_analyzer_cat\u001B[38;5;241m.\u001B[39manalyze(to_process, returned_feature_dict)\n",
      "File \u001B[0;32m~/miniforge3/envs/boost_new/lib/python3.10/site-packages/sweetviz/series_analyzer_numeric.py:101\u001B[0m, in \u001B[0;36manalyze\u001B[0;34m(to_process, feature_dict)\u001B[0m\n\u001B[1;32m     97\u001B[0m     do_stats_numeric(to_process\u001B[38;5;241m.\u001B[39mcompare, compare_dict)\n\u001B[1;32m     99\u001B[0m do_detail_numeric(to_process\u001B[38;5;241m.\u001B[39msource, to_process\u001B[38;5;241m.\u001B[39msource_counts, to_process\u001B[38;5;241m.\u001B[39mcompare_counts, feature_dict)\n\u001B[0;32m--> 101\u001B[0m feature_dict[\u001B[38;5;124m\"\u001B[39m\u001B[38;5;124mminigraph\u001B[39m\u001B[38;5;124m\"\u001B[39m] \u001B[38;5;241m=\u001B[39m \u001B[43mGraphNumeric\u001B[49m\u001B[43m(\u001B[49m\u001B[38;5;124;43m\"\u001B[39;49m\u001B[38;5;124;43mmini\u001B[39;49m\u001B[38;5;124;43m\"\u001B[39;49m\u001B[43m,\u001B[49m\u001B[43m \u001B[49m\u001B[43mto_process\u001B[49m\u001B[43m)\u001B[49m\n\u001B[1;32m    102\u001B[0m feature_dict[\u001B[38;5;124m\"\u001B[39m\u001B[38;5;124mdetail_graphs\u001B[39m\u001B[38;5;124m\"\u001B[39m] \u001B[38;5;241m=\u001B[39m \u001B[38;5;28mlist\u001B[39m()\n\u001B[1;32m    103\u001B[0m \u001B[38;5;28;01mfor\u001B[39;00m num_bins \u001B[38;5;129;01min\u001B[39;00m [\u001B[38;5;241m0\u001B[39m, \u001B[38;5;241m5\u001B[39m, \u001B[38;5;241m15\u001B[39m, \u001B[38;5;241m30\u001B[39m]:\n",
      "File \u001B[0;32m~/miniforge3/envs/boost_new/lib/python3.10/site-packages/sweetviz/graph_numeric.py:70\u001B[0m, in \u001B[0;36mGraphNumeric.__init__\u001B[0;34m(self, which_graph, to_process)\u001B[0m\n\u001B[1;32m     66\u001B[0m     normalizing_weights \u001B[38;5;241m=\u001B[39m norm_source\n\u001B[1;32m     68\u001B[0m gap_percent \u001B[38;5;241m=\u001B[39m config[\u001B[38;5;124m\"\u001B[39m\u001B[38;5;124mGraphs\u001B[39m\u001B[38;5;124m\"\u001B[39m]\u001B[38;5;241m.\u001B[39mgetfloat(\u001B[38;5;124m\"\u001B[39m\u001B[38;5;124msummary_graph_categorical_gap\u001B[39m\u001B[38;5;124m\"\u001B[39m)\n\u001B[0;32m---> 70\u001B[0m \u001B[43mnp\u001B[49m\u001B[38;5;241;43m.\u001B[39;49m\u001B[43mwarnings\u001B[49m\u001B[38;5;241m.\u001B[39mfilterwarnings(\u001B[38;5;124m'\u001B[39m\u001B[38;5;124mignore\u001B[39m\u001B[38;5;124m'\u001B[39m, category\u001B[38;5;241m=\u001B[39mnp\u001B[38;5;241m.\u001B[39mVisibleDeprecationWarning)\n\u001B[1;32m     71\u001B[0m \u001B[38;5;28mself\u001B[39m\u001B[38;5;241m.\u001B[39mhist_specs \u001B[38;5;241m=\u001B[39m axs\u001B[38;5;241m.\u001B[39mhist(plot_data, weights \u001B[38;5;241m=\u001B[39m normalizing_weights, bins\u001B[38;5;241m=\u001B[39m\u001B[38;5;28mself\u001B[39m\u001B[38;5;241m.\u001B[39mnum_bins, \\\n\u001B[1;32m     72\u001B[0m                            rwidth \u001B[38;5;241m=\u001B[39m (\u001B[38;5;241m100.0\u001B[39m \u001B[38;5;241m-\u001B[39m gap_percent) \u001B[38;5;241m/\u001B[39m \u001B[38;5;241m100.0\u001B[39m)\n\u001B[1;32m     73\u001B[0m np\u001B[38;5;241m.\u001B[39mwarnings\u001B[38;5;241m.\u001B[39mfilterwarnings(\u001B[38;5;124m'\u001B[39m\u001B[38;5;124monce\u001B[39m\u001B[38;5;124m'\u001B[39m, category\u001B[38;5;241m=\u001B[39mnp\u001B[38;5;241m.\u001B[39mVisibleDeprecationWarning)\n",
      "File \u001B[0;32m~/miniforge3/envs/boost_new/lib/python3.10/site-packages/numpy/__init__.py:320\u001B[0m, in \u001B[0;36m__getattr__\u001B[0;34m(attr)\u001B[0m\n\u001B[1;32m    317\u001B[0m     \u001B[38;5;28;01mfrom\u001B[39;00m \u001B[38;5;21;01m.\u001B[39;00m\u001B[38;5;21;01mtesting\u001B[39;00m \u001B[38;5;28;01mimport\u001B[39;00m Tester\n\u001B[1;32m    318\u001B[0m     \u001B[38;5;28;01mreturn\u001B[39;00m Tester\n\u001B[0;32m--> 320\u001B[0m \u001B[38;5;28;01mraise\u001B[39;00m \u001B[38;5;167;01mAttributeError\u001B[39;00m(\u001B[38;5;124m\"\u001B[39m\u001B[38;5;124mmodule \u001B[39m\u001B[38;5;132;01m{!r}\u001B[39;00m\u001B[38;5;124m has no attribute \u001B[39m\u001B[38;5;124m\"\u001B[39m\n\u001B[1;32m    321\u001B[0m                      \u001B[38;5;124m\"\u001B[39m\u001B[38;5;132;01m{!r}\u001B[39;00m\u001B[38;5;124m\"\u001B[39m\u001B[38;5;241m.\u001B[39mformat(\u001B[38;5;18m__name__\u001B[39m, attr))\n",
      "\u001B[0;31mAttributeError\u001B[0m: module 'numpy' has no attribute 'warnings'"
     ]
    },
    {
     "data": {
      "image/png": "[encoded data removed]",
      "text/plain": [
       "<Figure size 290x120 with 1 Axes>"
      ]
     },
     "metadata": {},
     "output_type": "display_data"
    }
   ],
   "source": [
    "eda_report = sv.analyze([train_data, 'EDA_report'], target_feat='is_canceled')"
   ]
  },
  {
   "cell_type": "code",
   "execution_count": 8,
   "metadata": {},
   "outputs": [
    {
     "ename": "NameError",
     "evalue": "name 'eda_report' is not defined",
     "output_type": "error",
     "traceback": [
      "\u001B[0;31m---------------------------------------------------------------------------\u001B[0m",
      "\u001B[0;31mNameError\u001B[0m                                 Traceback (most recent call last)",
      "Cell \u001B[0;32mIn[8], line 1\u001B[0m\n\u001B[0;32m----> 1\u001B[0m \u001B[43meda_report\u001B[49m\u001B[38;5;241m.\u001B[39mshow_notebook(layout\u001B[38;5;241m=\u001B[39m\u001B[38;5;124m'\u001B[39m\u001B[38;5;124mvertical\u001B[39m\u001B[38;5;124m'\u001B[39m)\n",
      "\u001B[0;31mNameError\u001B[0m: name 'eda_report' is not defined"
     ]
    }
   ],
   "source": [
    "eda_report.show_notebook(layout='vertical')"
   ]
  },
  {
   "cell_type": "markdown",
   "metadata": {},
   "source": [
    "1. 'id' - You can delete the column, since the value is individual for each user\n",
    "2. 'is_canceled' - target property\n",
    "3. 'lead_time' is a numeric variable, there is a correlation with the target property\n",
    "4. 'arrival_date_year' - data for 2015 - 2016\n",
    "5. 'arrival_date_month' - add a categorical property by time of year\n",
    "6. 'arrival_date_week_number' - repeated information, delete the column\n",
    "7. 'arrival_date_day_of_month' - repeated information, remove the column\n",
    "8. 'stays_in_weekend_nights' - numerical discrete variable, no strong correlation with the target property\n",
    "9. 'stays_in_week_nights' - numerical discrete variable, no strong correlation with the target property\n",
    "10. 'adults' - numerical discrete variable, no strong correlation with the target property\n",
    "11. 'children' - numerical discrete variable, no strong correlation with the target property\n",
    "12. 'babies' - over 99% of guests don't have babies, remove this column\n",
    "13. 'meal' - categorical variable\n",
    "14. 'country' - string variable\n",
    "15. 'distribution_channel' - categorical variable\n",
    "16. 'is_repeated_guest' - more than 97% of the guests have not stayed at the hotel yet, we will delete this column, since this information is in other columns (17,18)\n",
    "17. 'previous_cancellations' - over 91% of guests no cancellation, unbalanced class\n",
    "18. 'previous_bookings_not_canceled' - more than 98% have no confirmed bookings, unbalanced class\n",
    "19. 'reserved_room_type' - categorical variable\n",
    "20. 'booking_changes' - numerical discrete variable, no strong correlation with the target property\n",
    "21. 'days_in_waiting_list' - numerical discrete variable, no strong correlation with the target property\n",
    "22. 'customer_type' - categorical variable\n",
    "23. 'required_car_parking_spaces' - categorical variable\n",
    "24. 'total_of_special_requests' - numerical discrete variable, no strong correlation with the target property\n",
    "25. 'total_nights' numerical discrete variable"
   ]
  },
  {
   "cell_type": "markdown",
   "metadata": {},
   "source": [
    "**Delete unnecessary columns**"
   ]
  },
  {
   "cell_type": "code",
   "execution_count": 9,
   "metadata": {},
   "outputs": [],
   "source": [
    "columns_to_drop = ['id', \n",
    "                   'arrival_date_year', \n",
    "                   'arrival_date_week_number', \n",
    "                   'arrival_date_day_of_month', \n",
    "                   'is_repeated_guest']\n",
    "train_data = train_data.drop(columns_to_drop, axis=1)\n",
    "test_data = test_data.drop(columns_to_drop, axis=1)\n",
    "combine = [train_data, test_data]"
   ]
  },
  {
   "cell_type": "code",
   "execution_count": 10,
   "metadata": {},
   "outputs": [
    {
     "data": {
      "text/plain": [
       "((32412, 20), (65229, 20))"
      ]
     },
     "execution_count": 10,
     "metadata": {},
     "output_type": "execute_result"
    }
   ],
   "source": [
    "test_data.shape, train_data.shape"
   ]
  },
  {
   "cell_type": "markdown",
   "metadata": {},
   "source": [
    "**Duplicates**"
   ]
  },
  {
   "cell_type": "code",
   "execution_count": 11,
   "metadata": {},
   "outputs": [
    {
     "data": {
      "text/plain": [
       "22175"
      ]
     },
     "execution_count": 11,
     "metadata": {},
     "output_type": "execute_result"
    }
   ],
   "source": [
    "train_data.duplicated().sum()"
   ]
  },
  {
   "cell_type": "code",
   "execution_count": 12,
   "metadata": {},
   "outputs": [
    {
     "data": {
      "text/plain": [
       "(43054, 20)"
      ]
     },
     "execution_count": 12,
     "metadata": {},
     "output_type": "execute_result"
    }
   ],
   "source": [
    "train_data = train_data.drop_duplicates()\n",
    "train_data.shape"
   ]
  },
  {
   "cell_type": "markdown",
   "metadata": {},
   "source": [
    "**Outliars**"
   ]
  },
  {
   "cell_type": "code",
   "execution_count": 109,
   "metadata": {},
   "outputs": [
    {
     "data": {
      "text/plain": [
       "count    42141.000000\n",
       "mean         0.010584\n",
       "std          0.103025\n",
       "min          0.000000\n",
       "25%          0.000000\n",
       "50%          0.000000\n",
       "75%          0.000000\n",
       "max          2.000000\n",
       "Name: babies, dtype: float64"
      ]
     },
     "execution_count": 109,
     "metadata": {},
     "output_type": "execute_result"
    },
    {
     "data": {
      "image/png": "[encoded data removed]",
      "text/plain": [
       "<Figure size 400x400 with 1 Axes>"
      ]
     },
     "metadata": {},
     "output_type": "display_data"
    }
   ],
   "source": [
    "train_data.plot(y='babies', kind='hist', figsize=(4, 4))\n",
    "\n",
    "train_data.babies.describe()"
   ]
  },
  {
   "cell_type": "code",
   "execution_count": 14,
   "metadata": {},
   "outputs": [],
   "source": [
    "train_data.loc[train_data['babies'] > 2, ['babies']] = 1"
   ]
  },
  {
   "cell_type": "markdown",
   "metadata": {},
   "source": [
    "Found outliers with a large number of babies, apparently this is a typo, replaced by 1"
   ]
  },
  {
   "cell_type": "code",
   "execution_count": 110,
   "metadata": {},
   "outputs": [
    {
     "data": {
      "text/plain": [
       "count    42141.000000\n",
       "mean         0.420541\n",
       "std          5.095861\n",
       "min          0.000000\n",
       "25%          0.000000\n",
       "50%          0.000000\n",
       "75%          0.000000\n",
       "max         99.000000\n",
       "Name: days_in_waiting_list, dtype: float64"
      ]
     },
     "execution_count": 110,
     "metadata": {},
     "output_type": "execute_result"
    },
    {
     "data": {
      "image/png": "[encoded data removed]",
      "text/plain": [
       "<Figure size 400x400 with 1 Axes>"
      ]
     },
     "metadata": {},
     "output_type": "display_data"
    }
   ],
   "source": [
    "train_data.plot(y='days_in_waiting_list', kind='hist', figsize=(4, 4))\n",
    "train_data.days_in_waiting_list.describe()"
   ]
  },
  {
   "cell_type": "code",
   "execution_count": 16,
   "metadata": {},
   "outputs": [],
   "source": [
    "train_data = train_data[train_data['days_in_waiting_list'] <= 100]"
   ]
  },
  {
   "cell_type": "markdown",
   "metadata": {},
   "source": [
    "Leave only those lines where the values of 'days_in_waiting_list' are less than 100"
   ]
  },
  {
   "cell_type": "code",
   "execution_count": 111,
   "metadata": {},
   "outputs": [
    {
     "data": {
      "text/plain": [
       "count    42141.000000\n",
       "mean         0.026221\n",
       "std          0.175912\n",
       "min          0.000000\n",
       "25%          0.000000\n",
       "50%          0.000000\n",
       "75%          0.000000\n",
       "max          5.000000\n",
       "Name: previous_cancellations, dtype: float64"
      ]
     },
     "execution_count": 111,
     "metadata": {},
     "output_type": "execute_result"
    },
    {
     "data": {
      "image/png": "[encoded data removed]",
      "text/plain": [
       "<Figure size 400x400 with 1 Axes>"
      ]
     },
     "metadata": {},
     "output_type": "display_data"
    }
   ],
   "source": [
    "train_data.plot(y='previous_cancellations', kind='hist', figsize=(4, 4))\n",
    "train_data.previous_cancellations.describe()"
   ]
  },
  {
   "cell_type": "code",
   "execution_count": 18,
   "metadata": {},
   "outputs": [],
   "source": [
    "train_data = train_data[train_data['previous_cancellations'] <= 5]"
   ]
  },
  {
   "cell_type": "markdown",
   "metadata": {},
   "source": [
    "Left only those guests who have less than 5 cancellations"
   ]
  },
  {
   "cell_type": "code",
   "execution_count": 112,
   "metadata": {},
   "outputs": [
    {
     "data": {
      "text/plain": [
       "count    42141.000000\n",
       "mean         0.081821\n",
       "std          0.600622\n",
       "min          0.000000\n",
       "25%          0.000000\n",
       "50%          0.000000\n",
       "75%          0.000000\n",
       "max         10.000000\n",
       "Name: previous_bookings_not_canceled, dtype: float64"
      ]
     },
     "execution_count": 112,
     "metadata": {},
     "output_type": "execute_result"
    },
    {
     "data": {
      "image/png": "[encoded data removed]",
      "text/plain": [
       "<Figure size 400x400 with 1 Axes>"
      ]
     },
     "metadata": {},
     "output_type": "display_data"
    }
   ],
   "source": [
    "train_data.plot(y='previous_bookings_not_canceled', kind='hist', figsize=(4, 4))\n",
    "train_data.previous_bookings_not_canceled.describe()"
   ]
  },
  {
   "cell_type": "code",
   "execution_count": 20,
   "metadata": {},
   "outputs": [],
   "source": [
    "train_data = train_data[train_data['previous_bookings_not_canceled'] <= 10]\n"
   ]
  },
  {
   "cell_type": "markdown",
   "metadata": {},
   "source": [
    "Left only those guests who have less than 10 visits"
   ]
  },
  {
   "cell_type": "code",
   "execution_count": 113,
   "metadata": {},
   "outputs": [
    {
     "data": {
      "text/plain": [
       "count    42141.000000\n",
       "mean         0.241119\n",
       "std          0.604739\n",
       "min          0.000000\n",
       "25%          0.000000\n",
       "50%          0.000000\n",
       "75%          0.000000\n",
       "max          5.000000\n",
       "Name: booking_changes, dtype: float64"
      ]
     },
     "execution_count": 113,
     "metadata": {},
     "output_type": "execute_result"
    },
    {
     "data": {
      "image/png": "[encoded data removed]",
      "text/plain": [
       "<Figure size 400x400 with 1 Axes>"
      ]
     },
     "metadata": {},
     "output_type": "display_data"
    }
   ],
   "source": [
    "train_data.plot(y='booking_changes', kind='hist', figsize=(4, 4))\n",
    "train_data.booking_changes.describe()"
   ]
  },
  {
   "cell_type": "code",
   "execution_count": 22,
   "metadata": {},
   "outputs": [
    {
     "data": {
      "text/plain": [
       "count    42714.000000\n",
       "mean         0.241349\n",
       "std          0.605211\n",
       "min          0.000000\n",
       "25%          0.000000\n",
       "50%          0.000000\n",
       "75%          0.000000\n",
       "max          5.000000\n",
       "Name: booking_changes, dtype: float64"
      ]
     },
     "execution_count": 22,
     "metadata": {},
     "output_type": "execute_result"
    }
   ],
   "source": [
    "train_data = train_data[train_data['booking_changes'] <= 5]\n",
    "train_data.booking_changes.describe()"
   ]
  },
  {
   "cell_type": "markdown",
   "metadata": {},
   "source": [
    "Left only those guests who have less than 5 changes in the booking"
   ]
  },
  {
   "cell_type": "code",
   "execution_count": 23,
   "metadata": {},
   "outputs": [],
   "source": [
    "combine = [train_data, test_data]"
   ]
  },
  {
   "cell_type": "markdown",
   "metadata": {},
   "source": [
    "**Convert the month into a categorical value**"
   ]
  },
  {
   "cell_type": "code",
   "execution_count": 24,
   "metadata": {},
   "outputs": [],
   "source": [
    "winter = ['December','January','February']\n",
    "spring = ['March', 'April', 'May']\n",
    "summer = ['June', 'July', 'August']\n",
    "\n",
    "for data in combine:\n",
    "    seasons = []\n",
    "    for value in data['arrival_date_month']:\n",
    "        if value in winter:\n",
    "            seasons.append(0)\n",
    "        elif value in spring:\n",
    "            seasons.append(1)\n",
    "        elif value in summer:\n",
    "            seasons.append(2)\n",
    "        else:\n",
    "            seasons.append(3)\n",
    "    data['season'] = seasons\n"
   ]
  },
  {
   "cell_type": "code",
   "execution_count": 25,
   "metadata": {},
   "outputs": [],
   "source": [
    "train_data = train_data.drop('arrival_date_month', axis=1)\n",
    "test_data = test_data.drop('arrival_date_month', axis=1)\n",
    "combine = [train_data, test_data]"
   ]
  },
  {
   "cell_type": "code",
   "execution_count": 26,
   "metadata": {},
   "outputs": [
    {
     "name": "stdout",
     "output_type": "stream",
     "text": [
      "<class 'pandas.core.frame.DataFrame'>\n",
      "Int64Index: 42714 entries, 0 to 65228\n",
      "Data columns (total 20 columns):\n",
      " #   Column                          Non-Null Count  Dtype  \n",
      "---  ------                          --------------  -----  \n",
      " 0   is_canceled                     42714 non-null  int64  \n",
      " 1   lead_time                       42714 non-null  float64\n",
      " 2   stays_in_weekend_nights         42714 non-null  int64  \n",
      " 3   stays_in_week_nights            42714 non-null  int64  \n",
      " 4   adults                          42714 non-null  float64\n",
      " 5   children                        42714 non-null  float64\n",
      " 6   babies                          42714 non-null  float64\n",
      " 7   meal                            42714 non-null  object \n",
      " 8   country                         42714 non-null  object \n",
      " 9   distribution_channel            42714 non-null  object \n",
      " 10  previous_cancellations          42714 non-null  int64  \n",
      " 11  previous_bookings_not_canceled  42714 non-null  int64  \n",
      " 12  reserved_room_type              42714 non-null  object \n",
      " 13  booking_changes                 42714 non-null  int64  \n",
      " 14  days_in_waiting_list            42714 non-null  int64  \n",
      " 15  customer_type                   42714 non-null  object \n",
      " 16  required_car_parking_spaces     42714 non-null  int64  \n",
      " 17  total_of_special_requests       42714 non-null  int64  \n",
      " 18  total_nights                    42714 non-null  int64  \n",
      " 19  season                          42714 non-null  int64  \n",
      "dtypes: float64(4), int64(11), object(5)\n",
      "memory usage: 6.8+ MB\n"
     ]
    }
   ],
   "source": [
    "train_data.info()"
   ]
  },
  {
   "cell_type": "markdown",
   "metadata": {},
   "source": [
    "**Convert categorical variables from strings to numbers**"
   ]
  },
  {
   "cell_type": "code",
   "execution_count": 27,
   "metadata": {},
   "outputs": [
    {
     "data": {
      "text/plain": [
       "TA/TO        34624\n",
       "Direct        5509\n",
       "Corporate     2491\n",
       "GDS             90\n",
       "Name: distribution_channel, dtype: int64"
      ]
     },
     "execution_count": 27,
     "metadata": {},
     "output_type": "execute_result"
    }
   ],
   "source": [
    "train_data['distribution_channel'].value_counts()"
   ]
  },
  {
   "cell_type": "code",
   "execution_count": 28,
   "metadata": {},
   "outputs": [
    {
     "data": {
      "text/plain": [
       "BB           34532\n",
       "SC            4591\n",
       "HB            3309\n",
       "SC             149\n",
       "FB             133\n",
       "Name: meal, dtype: int64"
      ]
     },
     "execution_count": 28,
     "metadata": {},
     "output_type": "execute_result"
    }
   ],
   "source": [
    "train_data['meal'].value_counts()\n"
   ]
  },
  {
   "cell_type": "code",
   "execution_count": 29,
   "metadata": {},
   "outputs": [
    {
     "data": {
      "text/plain": [
       "['BB       ', 'FB       ', 'HB       ', 'SC       ', 'SC']"
      ]
     },
     "execution_count": 29,
     "metadata": {},
     "output_type": "execute_result"
    }
   ],
   "source": [
    "col_one_list = train_data['meal'].unique().tolist()\n",
    "col_one_list"
   ]
  },
  {
   "cell_type": "code",
   "execution_count": 30,
   "metadata": {},
   "outputs": [
    {
     "data": {
      "text/plain": [
       "['BB', 'FB', 'HB', 'SC']"
      ]
     },
     "execution_count": 30,
     "metadata": {},
     "output_type": "execute_result"
    }
   ],
   "source": [
    "train_data['meal'] = train_data['meal'].str.strip()\n",
    "test_data['meal'] = test_data['meal'].str.strip()\n",
    "col_one_list = train_data['meal'].unique().tolist()\n",
    "col_one_list"
   ]
  },
  {
   "cell_type": "code",
   "execution_count": 31,
   "metadata": {},
   "outputs": [
    {
     "data": {
      "text/plain": [
       "Transient          34411\n",
       "Transient-Party     6178\n",
       "Contract            1867\n",
       "Group                258\n",
       "Name: customer_type, dtype: int64"
      ]
     },
     "execution_count": 31,
     "metadata": {},
     "output_type": "execute_result"
    }
   ],
   "source": [
    "train_data['customer_type'].value_counts()"
   ]
  },
  {
   "cell_type": "code",
   "execution_count": 32,
   "metadata": {},
   "outputs": [
    {
     "data": {
      "text/plain": [
       "A                   29423\n",
       "D                    8355\n",
       "E                    2220\n",
       "F                    1170\n",
       "B                     742\n",
       "G                     579\n",
       "C                     225\n",
       "Name: reserved_room_type, dtype: int64"
      ]
     },
     "execution_count": 32,
     "metadata": {},
     "output_type": "execute_result"
    }
   ],
   "source": [
    "train_data['reserved_room_type'].value_counts()"
   ]
  },
  {
   "cell_type": "code",
   "execution_count": 33,
   "metadata": {},
   "outputs": [
    {
     "data": {
      "text/plain": [
       "['A               ',\n",
       " 'C               ',\n",
       " 'D               ',\n",
       " 'E               ',\n",
       " 'G               ',\n",
       " 'F               ',\n",
       " 'B               ']"
      ]
     },
     "execution_count": 33,
     "metadata": {},
     "output_type": "execute_result"
    }
   ],
   "source": [
    "col_one_list = train_data['reserved_room_type'].unique().tolist()\n",
    "col_one_list"
   ]
  },
  {
   "cell_type": "code",
   "execution_count": 34,
   "metadata": {},
   "outputs": [
    {
     "data": {
      "text/plain": [
       "['A', 'C', 'D', 'E', 'G', 'F', 'B']"
      ]
     },
     "execution_count": 34,
     "metadata": {},
     "output_type": "execute_result"
    }
   ],
   "source": [
    "train_data['reserved_room_type'] = train_data['reserved_room_type'].str.strip()\n",
    "test_data['reserved_room_type'] = test_data['reserved_room_type'].str.strip()\n",
    "col_one_list = train_data['reserved_room_type'].unique().tolist()\n",
    "col_one_list"
   ]
  },
  {
   "cell_type": "code",
   "execution_count": 35,
   "metadata": {},
   "outputs": [
    {
     "data": {
      "text/html": [
       "<div>\n",
       "<style scoped>\n",
       "    .dataframe tbody tr th:only-of-type {\n",
       "        vertical-align: middle;\n",
       "    }\n",
       "\n",
       "    .dataframe tbody tr th {\n",
       "        vertical-align: top;\n",
       "    }\n",
       "\n",
       "    .dataframe thead th {\n",
       "        text-align: right;\n",
       "    }\n",
       "</style>\n",
       "<table border=\"1\" class=\"dataframe\">\n",
       "  <thead>\n",
       "    <tr style=\"text-align: right;\">\n",
       "      <th></th>\n",
       "      <th>is_canceled</th>\n",
       "      <th>lead_time</th>\n",
       "      <th>stays_in_weekend_nights</th>\n",
       "      <th>stays_in_week_nights</th>\n",
       "      <th>adults</th>\n",
       "      <th>children</th>\n",
       "      <th>babies</th>\n",
       "      <th>meal</th>\n",
       "      <th>country</th>\n",
       "      <th>distribution_channel</th>\n",
       "      <th>previous_cancellations</th>\n",
       "      <th>previous_bookings_not_canceled</th>\n",
       "      <th>reserved_room_type</th>\n",
       "      <th>booking_changes</th>\n",
       "      <th>days_in_waiting_list</th>\n",
       "      <th>customer_type</th>\n",
       "      <th>required_car_parking_spaces</th>\n",
       "      <th>total_of_special_requests</th>\n",
       "      <th>total_nights</th>\n",
       "      <th>season</th>\n",
       "    </tr>\n",
       "  </thead>\n",
       "  <tbody>\n",
       "    <tr>\n",
       "      <th>0</th>\n",
       "      <td>0</td>\n",
       "      <td>7.0</td>\n",
       "      <td>0</td>\n",
       "      <td>1</td>\n",
       "      <td>1.0</td>\n",
       "      <td>0.0</td>\n",
       "      <td>0.0</td>\n",
       "      <td>0</td>\n",
       "      <td>GBR</td>\n",
       "      <td>1</td>\n",
       "      <td>0</td>\n",
       "      <td>0</td>\n",
       "      <td>0</td>\n",
       "      <td>0</td>\n",
       "      <td>0</td>\n",
       "      <td>0</td>\n",
       "      <td>0</td>\n",
       "      <td>0</td>\n",
       "      <td>1</td>\n",
       "      <td>2</td>\n",
       "    </tr>\n",
       "    <tr>\n",
       "      <th>1</th>\n",
       "      <td>0</td>\n",
       "      <td>14.0</td>\n",
       "      <td>0</td>\n",
       "      <td>2</td>\n",
       "      <td>2.0</td>\n",
       "      <td>0.0</td>\n",
       "      <td>0.0</td>\n",
       "      <td>0</td>\n",
       "      <td>GBR</td>\n",
       "      <td>0</td>\n",
       "      <td>0</td>\n",
       "      <td>0</td>\n",
       "      <td>0</td>\n",
       "      <td>0</td>\n",
       "      <td>0</td>\n",
       "      <td>0</td>\n",
       "      <td>0</td>\n",
       "      <td>1</td>\n",
       "      <td>2</td>\n",
       "      <td>2</td>\n",
       "    </tr>\n",
       "    <tr>\n",
       "      <th>2</th>\n",
       "      <td>0</td>\n",
       "      <td>0.0</td>\n",
       "      <td>0</td>\n",
       "      <td>2</td>\n",
       "      <td>2.0</td>\n",
       "      <td>0.0</td>\n",
       "      <td>0.0</td>\n",
       "      <td>0</td>\n",
       "      <td>PRT</td>\n",
       "      <td>1</td>\n",
       "      <td>0</td>\n",
       "      <td>0</td>\n",
       "      <td>2</td>\n",
       "      <td>0</td>\n",
       "      <td>0</td>\n",
       "      <td>0</td>\n",
       "      <td>0</td>\n",
       "      <td>0</td>\n",
       "      <td>2</td>\n",
       "      <td>2</td>\n",
       "    </tr>\n",
       "    <tr>\n",
       "      <th>3</th>\n",
       "      <td>0</td>\n",
       "      <td>9.0</td>\n",
       "      <td>0</td>\n",
       "      <td>2</td>\n",
       "      <td>2.0</td>\n",
       "      <td>0.0</td>\n",
       "      <td>0.0</td>\n",
       "      <td>3</td>\n",
       "      <td>PRT</td>\n",
       "      <td>1</td>\n",
       "      <td>0</td>\n",
       "      <td>0</td>\n",
       "      <td>2</td>\n",
       "      <td>0</td>\n",
       "      <td>0</td>\n",
       "      <td>0</td>\n",
       "      <td>0</td>\n",
       "      <td>1</td>\n",
       "      <td>2</td>\n",
       "      <td>2</td>\n",
       "    </tr>\n",
       "    <tr>\n",
       "      <th>4</th>\n",
       "      <td>1</td>\n",
       "      <td>85.0</td>\n",
       "      <td>0</td>\n",
       "      <td>3</td>\n",
       "      <td>2.0</td>\n",
       "      <td>0.0</td>\n",
       "      <td>0.0</td>\n",
       "      <td>0</td>\n",
       "      <td>PRT</td>\n",
       "      <td>0</td>\n",
       "      <td>0</td>\n",
       "      <td>0</td>\n",
       "      <td>0</td>\n",
       "      <td>0</td>\n",
       "      <td>0</td>\n",
       "      <td>0</td>\n",
       "      <td>0</td>\n",
       "      <td>1</td>\n",
       "      <td>3</td>\n",
       "      <td>2</td>\n",
       "    </tr>\n",
       "  </tbody>\n",
       "</table>\n",
       "</div>"
      ],
      "text/plain": [
       "   is_canceled  lead_time  stays_in_weekend_nights  stays_in_week_nights  \\\n",
       "0            0        7.0                        0                     1   \n",
       "1            0       14.0                        0                     2   \n",
       "2            0        0.0                        0                     2   \n",
       "3            0        9.0                        0                     2   \n",
       "4            1       85.0                        0                     3   \n",
       "\n",
       "   adults  children  babies  meal country  distribution_channel  \\\n",
       "0     1.0       0.0     0.0     0     GBR                     1   \n",
       "1     2.0       0.0     0.0     0     GBR                     0   \n",
       "2     2.0       0.0     0.0     0     PRT                     1   \n",
       "3     2.0       0.0     0.0     3     PRT                     1   \n",
       "4     2.0       0.0     0.0     0     PRT                     0   \n",
       "\n",
       "   previous_cancellations  previous_bookings_not_canceled  reserved_room_type  \\\n",
       "0                       0                               0                   0   \n",
       "1                       0                               0                   0   \n",
       "2                       0                               0                   2   \n",
       "3                       0                               0                   2   \n",
       "4                       0                               0                   0   \n",
       "\n",
       "   booking_changes  days_in_waiting_list  customer_type  \\\n",
       "0                0                     0              0   \n",
       "1                0                     0              0   \n",
       "2                0                     0              0   \n",
       "3                0                     0              0   \n",
       "4                0                     0              0   \n",
       "\n",
       "   required_car_parking_spaces  total_of_special_requests  total_nights  \\\n",
       "0                            0                          0             1   \n",
       "1                            0                          1             2   \n",
       "2                            0                          0             2   \n",
       "3                            0                          1             2   \n",
       "4                            0                          1             3   \n",
       "\n",
       "   season  \n",
       "0       2  \n",
       "1       2  \n",
       "2       2  \n",
       "3       2  \n",
       "4       2  "
      ]
     },
     "execution_count": 35,
     "metadata": {},
     "output_type": "execute_result"
    }
   ],
   "source": [
    "for data in combine:\n",
    "    data['distribution_channel'] = data['distribution_channel'] \\\n",
    "        .map({'TA/TO': 0, 'Direct': 1, 'Corporate': 2, 'GDS': 3})\n",
    "    data['meal'] = data['meal'] \\\n",
    "        .map({'BB': 0, 'HB': 1, 'SC': 2, 'FB': 3})\n",
    "    data['customer_type'] = data['customer_type'] \\\n",
    "        .map({'Transient': 0, 'Transient-Party': 1, 'Contract': 2, 'Group': 3})\n",
    "    data['reserved_room_type'] = data['reserved_room_type'] \\\n",
    "        .map({'A': 0, 'B': 1, 'C': 2, 'D': 3, 'E': 4, 'F': 5, 'G': 6})\n",
    "train_data.head()"
   ]
  },
  {
   "cell_type": "markdown",
   "metadata": {},
   "source": [
    "**Checking the data for adequacy**"
   ]
  },
  {
   "cell_type": "code",
   "execution_count": 36,
   "metadata": {},
   "outputs": [
    {
     "data": {
      "text/html": [
       "<div>\n",
       "<style scoped>\n",
       "    .dataframe tbody tr th:only-of-type {\n",
       "        vertical-align: middle;\n",
       "    }\n",
       "\n",
       "    .dataframe tbody tr th {\n",
       "        vertical-align: top;\n",
       "    }\n",
       "\n",
       "    .dataframe thead th {\n",
       "        text-align: right;\n",
       "    }\n",
       "</style>\n",
       "<table border=\"1\" class=\"dataframe\">\n",
       "  <thead>\n",
       "    <tr style=\"text-align: right;\">\n",
       "      <th></th>\n",
       "      <th>is_canceled</th>\n",
       "      <th>lead_time</th>\n",
       "      <th>stays_in_weekend_nights</th>\n",
       "      <th>stays_in_week_nights</th>\n",
       "      <th>adults</th>\n",
       "      <th>children</th>\n",
       "      <th>babies</th>\n",
       "      <th>meal</th>\n",
       "      <th>country</th>\n",
       "      <th>distribution_channel</th>\n",
       "      <th>previous_cancellations</th>\n",
       "      <th>previous_bookings_not_canceled</th>\n",
       "      <th>reserved_room_type</th>\n",
       "      <th>booking_changes</th>\n",
       "      <th>days_in_waiting_list</th>\n",
       "      <th>customer_type</th>\n",
       "      <th>required_car_parking_spaces</th>\n",
       "      <th>total_of_special_requests</th>\n",
       "      <th>total_nights</th>\n",
       "      <th>season</th>\n",
       "    </tr>\n",
       "  </thead>\n",
       "  <tbody>\n",
       "    <tr>\n",
       "      <th>17540</th>\n",
       "      <td>0</td>\n",
       "      <td>1.0</td>\n",
       "      <td>1</td>\n",
       "      <td>1</td>\n",
       "      <td>0.0</td>\n",
       "      <td>3.0</td>\n",
       "      <td>0.0</td>\n",
       "      <td>0</td>\n",
       "      <td>PRT</td>\n",
       "      <td>1</td>\n",
       "      <td>0</td>\n",
       "      <td>0</td>\n",
       "      <td>1</td>\n",
       "      <td>1</td>\n",
       "      <td>0</td>\n",
       "      <td>1</td>\n",
       "      <td>0</td>\n",
       "      <td>0</td>\n",
       "      <td>2</td>\n",
       "      <td>2</td>\n",
       "    </tr>\n",
       "    <tr>\n",
       "      <th>17598</th>\n",
       "      <td>0</td>\n",
       "      <td>104.0</td>\n",
       "      <td>0</td>\n",
       "      <td>3</td>\n",
       "      <td>0.0</td>\n",
       "      <td>2.0</td>\n",
       "      <td>0.0</td>\n",
       "      <td>0</td>\n",
       "      <td>FRA</td>\n",
       "      <td>0</td>\n",
       "      <td>0</td>\n",
       "      <td>0</td>\n",
       "      <td>1</td>\n",
       "      <td>1</td>\n",
       "      <td>0</td>\n",
       "      <td>1</td>\n",
       "      <td>0</td>\n",
       "      <td>2</td>\n",
       "      <td>3</td>\n",
       "      <td>2</td>\n",
       "    </tr>\n",
       "    <tr>\n",
       "      <th>17982</th>\n",
       "      <td>0</td>\n",
       "      <td>3.0</td>\n",
       "      <td>2</td>\n",
       "      <td>0</td>\n",
       "      <td>0.0</td>\n",
       "      <td>2.0</td>\n",
       "      <td>0.0</td>\n",
       "      <td>0</td>\n",
       "      <td>PRT</td>\n",
       "      <td>1</td>\n",
       "      <td>0</td>\n",
       "      <td>0</td>\n",
       "      <td>1</td>\n",
       "      <td>1</td>\n",
       "      <td>0</td>\n",
       "      <td>1</td>\n",
       "      <td>0</td>\n",
       "      <td>1</td>\n",
       "      <td>2</td>\n",
       "      <td>2</td>\n",
       "    </tr>\n",
       "    <tr>\n",
       "      <th>21556</th>\n",
       "      <td>1</td>\n",
       "      <td>48.0</td>\n",
       "      <td>1</td>\n",
       "      <td>3</td>\n",
       "      <td>0.0</td>\n",
       "      <td>2.0</td>\n",
       "      <td>0.0</td>\n",
       "      <td>0</td>\n",
       "      <td>PRT</td>\n",
       "      <td>0</td>\n",
       "      <td>0</td>\n",
       "      <td>0</td>\n",
       "      <td>1</td>\n",
       "      <td>0</td>\n",
       "      <td>0</td>\n",
       "      <td>1</td>\n",
       "      <td>0</td>\n",
       "      <td>1</td>\n",
       "      <td>4</td>\n",
       "      <td>3</td>\n",
       "    </tr>\n",
       "    <tr>\n",
       "      <th>22516</th>\n",
       "      <td>1</td>\n",
       "      <td>6.0</td>\n",
       "      <td>1</td>\n",
       "      <td>0</td>\n",
       "      <td>0.0</td>\n",
       "      <td>3.0</td>\n",
       "      <td>0.0</td>\n",
       "      <td>0</td>\n",
       "      <td>PRT</td>\n",
       "      <td>0</td>\n",
       "      <td>0</td>\n",
       "      <td>0</td>\n",
       "      <td>1</td>\n",
       "      <td>0</td>\n",
       "      <td>0</td>\n",
       "      <td>1</td>\n",
       "      <td>0</td>\n",
       "      <td>1</td>\n",
       "      <td>1</td>\n",
       "      <td>0</td>\n",
       "    </tr>\n",
       "    <tr>\n",
       "      <th>...</th>\n",
       "      <td>...</td>\n",
       "      <td>...</td>\n",
       "      <td>...</td>\n",
       "      <td>...</td>\n",
       "      <td>...</td>\n",
       "      <td>...</td>\n",
       "      <td>...</td>\n",
       "      <td>...</td>\n",
       "      <td>...</td>\n",
       "      <td>...</td>\n",
       "      <td>...</td>\n",
       "      <td>...</td>\n",
       "      <td>...</td>\n",
       "      <td>...</td>\n",
       "      <td>...</td>\n",
       "      <td>...</td>\n",
       "      <td>...</td>\n",
       "      <td>...</td>\n",
       "      <td>...</td>\n",
       "      <td>...</td>\n",
       "    </tr>\n",
       "    <tr>\n",
       "      <th>64641</th>\n",
       "      <td>0</td>\n",
       "      <td>109.0</td>\n",
       "      <td>2</td>\n",
       "      <td>3</td>\n",
       "      <td>0.0</td>\n",
       "      <td>2.0</td>\n",
       "      <td>0.0</td>\n",
       "      <td>0</td>\n",
       "      <td>BRA</td>\n",
       "      <td>0</td>\n",
       "      <td>0</td>\n",
       "      <td>0</td>\n",
       "      <td>1</td>\n",
       "      <td>0</td>\n",
       "      <td>0</td>\n",
       "      <td>0</td>\n",
       "      <td>0</td>\n",
       "      <td>2</td>\n",
       "      <td>5</td>\n",
       "      <td>0</td>\n",
       "    </tr>\n",
       "    <tr>\n",
       "      <th>64882</th>\n",
       "      <td>0</td>\n",
       "      <td>104.0</td>\n",
       "      <td>2</td>\n",
       "      <td>1</td>\n",
       "      <td>0.0</td>\n",
       "      <td>2.0</td>\n",
       "      <td>0.0</td>\n",
       "      <td>0</td>\n",
       "      <td>PRT</td>\n",
       "      <td>0</td>\n",
       "      <td>0</td>\n",
       "      <td>0</td>\n",
       "      <td>1</td>\n",
       "      <td>1</td>\n",
       "      <td>0</td>\n",
       "      <td>0</td>\n",
       "      <td>0</td>\n",
       "      <td>2</td>\n",
       "      <td>3</td>\n",
       "      <td>0</td>\n",
       "    </tr>\n",
       "    <tr>\n",
       "      <th>64892</th>\n",
       "      <td>0</td>\n",
       "      <td>104.0</td>\n",
       "      <td>2</td>\n",
       "      <td>1</td>\n",
       "      <td>0.0</td>\n",
       "      <td>2.0</td>\n",
       "      <td>0.0</td>\n",
       "      <td>0</td>\n",
       "      <td>FRA</td>\n",
       "      <td>0</td>\n",
       "      <td>0</td>\n",
       "      <td>0</td>\n",
       "      <td>1</td>\n",
       "      <td>0</td>\n",
       "      <td>0</td>\n",
       "      <td>0</td>\n",
       "      <td>0</td>\n",
       "      <td>2</td>\n",
       "      <td>3</td>\n",
       "      <td>0</td>\n",
       "    </tr>\n",
       "    <tr>\n",
       "      <th>64903</th>\n",
       "      <td>0</td>\n",
       "      <td>247.0</td>\n",
       "      <td>2</td>\n",
       "      <td>3</td>\n",
       "      <td>0.0</td>\n",
       "      <td>2.0</td>\n",
       "      <td>0.0</td>\n",
       "      <td>0</td>\n",
       "      <td>PRT</td>\n",
       "      <td>0</td>\n",
       "      <td>0</td>\n",
       "      <td>0</td>\n",
       "      <td>1</td>\n",
       "      <td>0</td>\n",
       "      <td>0</td>\n",
       "      <td>0</td>\n",
       "      <td>0</td>\n",
       "      <td>1</td>\n",
       "      <td>5</td>\n",
       "      <td>0</td>\n",
       "    </tr>\n",
       "    <tr>\n",
       "      <th>64980</th>\n",
       "      <td>0</td>\n",
       "      <td>255.0</td>\n",
       "      <td>0</td>\n",
       "      <td>3</td>\n",
       "      <td>0.0</td>\n",
       "      <td>0.0</td>\n",
       "      <td>0.0</td>\n",
       "      <td>0</td>\n",
       "      <td>PRT</td>\n",
       "      <td>0</td>\n",
       "      <td>0</td>\n",
       "      <td>0</td>\n",
       "      <td>0</td>\n",
       "      <td>3</td>\n",
       "      <td>0</td>\n",
       "      <td>0</td>\n",
       "      <td>0</td>\n",
       "      <td>0</td>\n",
       "      <td>3</td>\n",
       "      <td>0</td>\n",
       "    </tr>\n",
       "  </tbody>\n",
       "</table>\n",
       "<p>163 rows × 20 columns</p>\n",
       "</div>"
      ],
      "text/plain": [
       "       is_canceled  lead_time  stays_in_weekend_nights  stays_in_week_nights  \\\n",
       "17540            0        1.0                        1                     1   \n",
       "17598            0      104.0                        0                     3   \n",
       "17982            0        3.0                        2                     0   \n",
       "21556            1       48.0                        1                     3   \n",
       "22516            1        6.0                        1                     0   \n",
       "...            ...        ...                      ...                   ...   \n",
       "64641            0      109.0                        2                     3   \n",
       "64882            0      104.0                        2                     1   \n",
       "64892            0      104.0                        2                     1   \n",
       "64903            0      247.0                        2                     3   \n",
       "64980            0      255.0                        0                     3   \n",
       "\n",
       "       adults  children  babies  meal country  distribution_channel  \\\n",
       "17540     0.0       3.0     0.0     0     PRT                     1   \n",
       "17598     0.0       2.0     0.0     0     FRA                     0   \n",
       "17982     0.0       2.0     0.0     0     PRT                     1   \n",
       "21556     0.0       2.0     0.0     0     PRT                     0   \n",
       "22516     0.0       3.0     0.0     0     PRT                     0   \n",
       "...       ...       ...     ...   ...     ...                   ...   \n",
       "64641     0.0       2.0     0.0     0     BRA                     0   \n",
       "64882     0.0       2.0     0.0     0     PRT                     0   \n",
       "64892     0.0       2.0     0.0     0     FRA                     0   \n",
       "64903     0.0       2.0     0.0     0     PRT                     0   \n",
       "64980     0.0       0.0     0.0     0     PRT                     0   \n",
       "\n",
       "       previous_cancellations  previous_bookings_not_canceled  \\\n",
       "17540                       0                               0   \n",
       "17598                       0                               0   \n",
       "17982                       0                               0   \n",
       "21556                       0                               0   \n",
       "22516                       0                               0   \n",
       "...                       ...                             ...   \n",
       "64641                       0                               0   \n",
       "64882                       0                               0   \n",
       "64892                       0                               0   \n",
       "64903                       0                               0   \n",
       "64980                       0                               0   \n",
       "\n",
       "       reserved_room_type  booking_changes  days_in_waiting_list  \\\n",
       "17540                   1                1                     0   \n",
       "17598                   1                1                     0   \n",
       "17982                   1                1                     0   \n",
       "21556                   1                0                     0   \n",
       "22516                   1                0                     0   \n",
       "...                   ...              ...                   ...   \n",
       "64641                   1                0                     0   \n",
       "64882                   1                1                     0   \n",
       "64892                   1                0                     0   \n",
       "64903                   1                0                     0   \n",
       "64980                   0                3                     0   \n",
       "\n",
       "       customer_type  required_car_parking_spaces  total_of_special_requests  \\\n",
       "17540              1                            0                          0   \n",
       "17598              1                            0                          2   \n",
       "17982              1                            0                          1   \n",
       "21556              1                            0                          1   \n",
       "22516              1                            0                          1   \n",
       "...              ...                          ...                        ...   \n",
       "64641              0                            0                          2   \n",
       "64882              0                            0                          2   \n",
       "64892              0                            0                          2   \n",
       "64903              0                            0                          1   \n",
       "64980              0                            0                          0   \n",
       "\n",
       "       total_nights  season  \n",
       "17540             2       2  \n",
       "17598             3       2  \n",
       "17982             2       2  \n",
       "21556             4       3  \n",
       "22516             1       0  \n",
       "...             ...     ...  \n",
       "64641             5       0  \n",
       "64882             3       0  \n",
       "64892             3       0  \n",
       "64903             5       0  \n",
       "64980             3       0  \n",
       "\n",
       "[163 rows x 20 columns]"
      ]
     },
     "execution_count": 36,
     "metadata": {},
     "output_type": "execute_result"
    }
   ],
   "source": [
    "train_data[train_data['adults'] == 0]"
   ]
  },
  {
   "cell_type": "code",
   "execution_count": 37,
   "metadata": {},
   "outputs": [],
   "source": [
    "train_data = train_data.drop(train_data[train_data['adults'] == 0].index)"
   ]
  },
  {
   "cell_type": "code",
   "execution_count": 38,
   "metadata": {},
   "outputs": [
    {
     "data": {
      "text/plain": [
       "(42551, 20)"
      ]
     },
     "execution_count": 38,
     "metadata": {},
     "output_type": "execute_result"
    }
   ],
   "source": [
    "train_data.shape"
   ]
  },
  {
   "cell_type": "code",
   "execution_count": 39,
   "metadata": {},
   "outputs": [],
   "source": [
    "combine = [train_data, test_data]"
   ]
  },
  {
   "cell_type": "markdown",
   "metadata": {},
   "source": [
    "**Проверим тестовый датасет на дубликаты**"
   ]
  },
  {
   "cell_type": "code",
   "execution_count": 40,
   "metadata": {},
   "outputs": [
    {
     "data": {
      "text/plain": [
       "8096"
      ]
     },
     "execution_count": 40,
     "metadata": {},
     "output_type": "execute_result"
    }
   ],
   "source": [
    "test_data.duplicated().sum()"
   ]
  },
  {
   "cell_type": "code",
   "execution_count": 41,
   "metadata": {},
   "outputs": [
    {
     "data": {
      "text/plain": [
       "(24316, 20)"
      ]
     },
     "execution_count": 41,
     "metadata": {},
     "output_type": "execute_result"
    }
   ],
   "source": [
    "test_data = test_data.drop_duplicates()\n",
    "test_data.shape"
   ]
  },
  {
   "cell_type": "code",
   "execution_count": 42,
   "metadata": {},
   "outputs": [],
   "source": [
    "combine = [train_data, test_data]"
   ]
  },
  {
   "cell_type": "code",
   "execution_count": 43,
   "metadata": {},
   "outputs": [
    {
     "data": {
      "text/html": [
       "<div>\n",
       "<style scoped>\n",
       "    .dataframe tbody tr th:only-of-type {\n",
       "        vertical-align: middle;\n",
       "    }\n",
       "\n",
       "    .dataframe tbody tr th {\n",
       "        vertical-align: top;\n",
       "    }\n",
       "\n",
       "    .dataframe thead th {\n",
       "        text-align: right;\n",
       "    }\n",
       "</style>\n",
       "<table border=\"1\" class=\"dataframe\">\n",
       "  <thead>\n",
       "    <tr style=\"text-align: right;\">\n",
       "      <th></th>\n",
       "      <th>is_canceled</th>\n",
       "      <th>lead_time</th>\n",
       "      <th>stays_in_weekend_nights</th>\n",
       "      <th>stays_in_week_nights</th>\n",
       "      <th>adults</th>\n",
       "      <th>children</th>\n",
       "      <th>babies</th>\n",
       "      <th>meal</th>\n",
       "      <th>country</th>\n",
       "      <th>distribution_channel</th>\n",
       "      <th>previous_cancellations</th>\n",
       "      <th>previous_bookings_not_canceled</th>\n",
       "      <th>reserved_room_type</th>\n",
       "      <th>booking_changes</th>\n",
       "      <th>days_in_waiting_list</th>\n",
       "      <th>customer_type</th>\n",
       "      <th>required_car_parking_spaces</th>\n",
       "      <th>total_of_special_requests</th>\n",
       "      <th>total_nights</th>\n",
       "      <th>season</th>\n",
       "    </tr>\n",
       "  </thead>\n",
       "  <tbody>\n",
       "    <tr>\n",
       "      <th>0</th>\n",
       "      <td>0</td>\n",
       "      <td>7.0</td>\n",
       "      <td>0</td>\n",
       "      <td>1</td>\n",
       "      <td>1.0</td>\n",
       "      <td>0.0</td>\n",
       "      <td>0.0</td>\n",
       "      <td>0</td>\n",
       "      <td>GBR</td>\n",
       "      <td>1</td>\n",
       "      <td>0</td>\n",
       "      <td>0</td>\n",
       "      <td>0</td>\n",
       "      <td>0</td>\n",
       "      <td>0</td>\n",
       "      <td>0</td>\n",
       "      <td>0</td>\n",
       "      <td>0</td>\n",
       "      <td>1</td>\n",
       "      <td>2</td>\n",
       "    </tr>\n",
       "    <tr>\n",
       "      <th>1</th>\n",
       "      <td>0</td>\n",
       "      <td>14.0</td>\n",
       "      <td>0</td>\n",
       "      <td>2</td>\n",
       "      <td>2.0</td>\n",
       "      <td>0.0</td>\n",
       "      <td>0.0</td>\n",
       "      <td>0</td>\n",
       "      <td>GBR</td>\n",
       "      <td>0</td>\n",
       "      <td>0</td>\n",
       "      <td>0</td>\n",
       "      <td>0</td>\n",
       "      <td>0</td>\n",
       "      <td>0</td>\n",
       "      <td>0</td>\n",
       "      <td>0</td>\n",
       "      <td>1</td>\n",
       "      <td>2</td>\n",
       "      <td>2</td>\n",
       "    </tr>\n",
       "  </tbody>\n",
       "</table>\n",
       "</div>"
      ],
      "text/plain": [
       "   is_canceled  lead_time  stays_in_weekend_nights  stays_in_week_nights  \\\n",
       "0            0        7.0                        0                     1   \n",
       "1            0       14.0                        0                     2   \n",
       "\n",
       "   adults  children  babies  meal country  distribution_channel  \\\n",
       "0     1.0       0.0     0.0     0     GBR                     1   \n",
       "1     2.0       0.0     0.0     0     GBR                     0   \n",
       "\n",
       "   previous_cancellations  previous_bookings_not_canceled  reserved_room_type  \\\n",
       "0                       0                               0                   0   \n",
       "1                       0                               0                   0   \n",
       "\n",
       "   booking_changes  days_in_waiting_list  customer_type  \\\n",
       "0                0                     0              0   \n",
       "1                0                     0              0   \n",
       "\n",
       "   required_car_parking_spaces  total_of_special_requests  total_nights  \\\n",
       "0                            0                          0             1   \n",
       "1                            0                          1             2   \n",
       "\n",
       "   season  \n",
       "0       2  \n",
       "1       2  "
      ]
     },
     "execution_count": 43,
     "metadata": {},
     "output_type": "execute_result"
    }
   ],
   "source": [
    "train_data.head(2)"
   ]
  },
  {
   "cell_type": "markdown",
   "metadata": {},
   "source": [
    "**Cancellation Correlation with Country**"
   ]
  },
  {
   "cell_type": "code",
   "execution_count": 44,
   "metadata": {},
   "outputs": [],
   "source": [
    "countries = train_data.pivot_table(index='country', values='is_canceled', aggfunc=['mean','count'])\n",
    "countries.columns = ['mean', 'count']\n",
    "countries = countries.sort_values(by='count', ascending=False)[:20]"
   ]
  },
  {
   "cell_type": "code",
   "execution_count": 45,
   "metadata": {},
   "outputs": [
    {
     "data": {
      "text/html": [
       "<div>\n",
       "<style scoped>\n",
       "    .dataframe tbody tr th:only-of-type {\n",
       "        vertical-align: middle;\n",
       "    }\n",
       "\n",
       "    .dataframe tbody tr th {\n",
       "        vertical-align: top;\n",
       "    }\n",
       "\n",
       "    .dataframe thead th {\n",
       "        text-align: right;\n",
       "    }\n",
       "</style>\n",
       "<table border=\"1\" class=\"dataframe\">\n",
       "  <thead>\n",
       "    <tr style=\"text-align: right;\">\n",
       "      <th></th>\n",
       "      <th>mean</th>\n",
       "      <th>count</th>\n",
       "    </tr>\n",
       "    <tr>\n",
       "      <th>country</th>\n",
       "      <th></th>\n",
       "      <th></th>\n",
       "    </tr>\n",
       "  </thead>\n",
       "  <tbody>\n",
       "    <tr>\n",
       "      <th>PRT</th>\n",
       "      <td>0.367823</td>\n",
       "      <td>13550</td>\n",
       "    </tr>\n",
       "    <tr>\n",
       "      <th>FRA</th>\n",
       "      <td>0.157517</td>\n",
       "      <td>4736</td>\n",
       "    </tr>\n",
       "    <tr>\n",
       "      <th>GBR</th>\n",
       "      <td>0.167060</td>\n",
       "      <td>4232</td>\n",
       "    </tr>\n",
       "    <tr>\n",
       "      <th>ESP</th>\n",
       "      <td>0.223316</td>\n",
       "      <td>3860</td>\n",
       "    </tr>\n",
       "    <tr>\n",
       "      <th>DEU</th>\n",
       "      <td>0.167524</td>\n",
       "      <td>2722</td>\n",
       "    </tr>\n",
       "    <tr>\n",
       "      <th>ITA</th>\n",
       "      <td>0.339031</td>\n",
       "      <td>1755</td>\n",
       "    </tr>\n",
       "    <tr>\n",
       "      <th>IRL</th>\n",
       "      <td>0.178250</td>\n",
       "      <td>1223</td>\n",
       "    </tr>\n",
       "    <tr>\n",
       "      <th>BEL</th>\n",
       "      <td>0.161626</td>\n",
       "      <td>1058</td>\n",
       "    </tr>\n",
       "    <tr>\n",
       "      <th>NLD</th>\n",
       "      <td>0.159449</td>\n",
       "      <td>1016</td>\n",
       "    </tr>\n",
       "    <tr>\n",
       "      <th>BRA</th>\n",
       "      <td>0.325855</td>\n",
       "      <td>936</td>\n",
       "    </tr>\n",
       "    <tr>\n",
       "      <th>USA</th>\n",
       "      <td>0.205098</td>\n",
       "      <td>863</td>\n",
       "    </tr>\n",
       "    <tr>\n",
       "      <th>CHE</th>\n",
       "      <td>0.184379</td>\n",
       "      <td>781</td>\n",
       "    </tr>\n",
       "    <tr>\n",
       "      <th>AUT</th>\n",
       "      <td>0.145022</td>\n",
       "      <td>462</td>\n",
       "    </tr>\n",
       "    <tr>\n",
       "      <th>CHN</th>\n",
       "      <td>0.449173</td>\n",
       "      <td>423</td>\n",
       "    </tr>\n",
       "    <tr>\n",
       "      <th>CN</th>\n",
       "      <td>0.186732</td>\n",
       "      <td>407</td>\n",
       "    </tr>\n",
       "    <tr>\n",
       "      <th>POL</th>\n",
       "      <td>0.151365</td>\n",
       "      <td>403</td>\n",
       "    </tr>\n",
       "    <tr>\n",
       "      <th>SWE</th>\n",
       "      <td>0.197995</td>\n",
       "      <td>399</td>\n",
       "    </tr>\n",
       "    <tr>\n",
       "      <th>RUS</th>\n",
       "      <td>0.364017</td>\n",
       "      <td>239</td>\n",
       "    </tr>\n",
       "    <tr>\n",
       "      <th>FIN</th>\n",
       "      <td>0.146667</td>\n",
       "      <td>225</td>\n",
       "    </tr>\n",
       "    <tr>\n",
       "      <th>ROU</th>\n",
       "      <td>0.207207</td>\n",
       "      <td>222</td>\n",
       "    </tr>\n",
       "  </tbody>\n",
       "</table>\n",
       "</div>"
      ],
      "text/plain": [
       "             mean  count\n",
       "country                 \n",
       "PRT      0.367823  13550\n",
       "FRA      0.157517   4736\n",
       "GBR      0.167060   4232\n",
       "ESP      0.223316   3860\n",
       "DEU      0.167524   2722\n",
       "ITA      0.339031   1755\n",
       "IRL      0.178250   1223\n",
       "BEL      0.161626   1058\n",
       "NLD      0.159449   1016\n",
       "BRA      0.325855    936\n",
       "USA      0.205098    863\n",
       "CHE      0.184379    781\n",
       "AUT      0.145022    462\n",
       "CHN      0.449173    423\n",
       "CN       0.186732    407\n",
       "POL      0.151365    403\n",
       "SWE      0.197995    399\n",
       "RUS      0.364017    239\n",
       "FIN      0.146667    225\n",
       "ROU      0.207207    222"
      ]
     },
     "execution_count": 45,
     "metadata": {},
     "output_type": "execute_result"
    }
   ],
   "source": [
    "countries"
   ]
  },
  {
   "cell_type": "code",
   "execution_count": 46,
   "metadata": {},
   "outputs": [
    {
     "data": {
      "image/png": "[encoded data removed]",
      "text/plain": [
       "<Figure size 1400x700 with 1 Axes>"
      ]
     },
     "metadata": {},
     "output_type": "display_data"
    }
   ],
   "source": [
    "df_with_top_countries = train_data.where(lambda x: x['country'].isin(countries.index))[['is_canceled', 'country']]\n",
    "plt.figure(figsize=(14,7))\n",
    "sns.countplot(x='country', hue='is_canceled', data=df_with_top_countries)\n",
    "plt.show()"
   ]
  },
  {
   "cell_type": "code",
   "execution_count": 48,
   "metadata": {},
   "outputs": [
    {
     "data": {
      "text/html": [
       "<div>\n",
       "<style scoped>\n",
       "    .dataframe tbody tr th:only-of-type {\n",
       "        vertical-align: middle;\n",
       "    }\n",
       "\n",
       "    .dataframe tbody tr th {\n",
       "        vertical-align: top;\n",
       "    }\n",
       "\n",
       "    .dataframe thead th {\n",
       "        text-align: right;\n",
       "    }\n",
       "</style>\n",
       "<table border=\"1\" class=\"dataframe\">\n",
       "  <thead>\n",
       "    <tr style=\"text-align: right;\">\n",
       "      <th></th>\n",
       "      <th>name</th>\n",
       "      <th>fullname</th>\n",
       "      <th>english</th>\n",
       "      <th>alpha2</th>\n",
       "      <th>alpha3</th>\n",
       "      <th>iso</th>\n",
       "      <th>location</th>\n",
       "      <th>location-precise</th>\n",
       "    </tr>\n",
       "  </thead>\n",
       "  <tbody>\n",
       "    <tr>\n",
       "      <th>0</th>\n",
       "      <td>Абхазия</td>\n",
       "      <td>Республика Абхазия</td>\n",
       "      <td>Abkhazia</td>\n",
       "      <td>AB</td>\n",
       "      <td>ABH</td>\n",
       "      <td>895</td>\n",
       "      <td>Азия</td>\n",
       "      <td>Закавказье</td>\n",
       "    </tr>\n",
       "    <tr>\n",
       "      <th>1</th>\n",
       "      <td>Австралия</td>\n",
       "      <td>NaN</td>\n",
       "      <td>Australia</td>\n",
       "      <td>AU</td>\n",
       "      <td>AUS</td>\n",
       "      <td>36</td>\n",
       "      <td>Океания</td>\n",
       "      <td>Австралия и Новая Зеландия</td>\n",
       "    </tr>\n",
       "    <tr>\n",
       "      <th>2</th>\n",
       "      <td>Австрия</td>\n",
       "      <td>Австрийская Республика</td>\n",
       "      <td>Austria</td>\n",
       "      <td>AT</td>\n",
       "      <td>AUT</td>\n",
       "      <td>40</td>\n",
       "      <td>Европа</td>\n",
       "      <td>Западная Европа</td>\n",
       "    </tr>\n",
       "    <tr>\n",
       "      <th>3</th>\n",
       "      <td>Азербайджан</td>\n",
       "      <td>Республика Азербайджан</td>\n",
       "      <td>Azerbaijan</td>\n",
       "      <td>AZ</td>\n",
       "      <td>AZE</td>\n",
       "      <td>31</td>\n",
       "      <td>Азия</td>\n",
       "      <td>Западная Азия</td>\n",
       "    </tr>\n",
       "    <tr>\n",
       "      <th>4</th>\n",
       "      <td>Албания</td>\n",
       "      <td>Республика Албания</td>\n",
       "      <td>Albania</td>\n",
       "      <td>AL</td>\n",
       "      <td>ALB</td>\n",
       "      <td>8</td>\n",
       "      <td>Европа</td>\n",
       "      <td>Южная Европа</td>\n",
       "    </tr>\n",
       "    <tr>\n",
       "      <th>5</th>\n",
       "      <td>Алжир</td>\n",
       "      <td>Алжирская Народная Демократическая Республика</td>\n",
       "      <td>Algeria</td>\n",
       "      <td>DZ</td>\n",
       "      <td>DZA</td>\n",
       "      <td>12</td>\n",
       "      <td>Африка</td>\n",
       "      <td>Северная Африка</td>\n",
       "    </tr>\n",
       "    <tr>\n",
       "      <th>6</th>\n",
       "      <td>Американское Самоа</td>\n",
       "      <td>NaN</td>\n",
       "      <td>American Samoa</td>\n",
       "      <td>AS</td>\n",
       "      <td>ASM</td>\n",
       "      <td>16</td>\n",
       "      <td>Океания</td>\n",
       "      <td>Полинезия</td>\n",
       "    </tr>\n",
       "    <tr>\n",
       "      <th>7</th>\n",
       "      <td>Ангилья</td>\n",
       "      <td>NaN</td>\n",
       "      <td>Anguilla</td>\n",
       "      <td>AI</td>\n",
       "      <td>AIA</td>\n",
       "      <td>660</td>\n",
       "      <td>Америка</td>\n",
       "      <td>Карибский бассейн</td>\n",
       "    </tr>\n",
       "    <tr>\n",
       "      <th>8</th>\n",
       "      <td>Ангола</td>\n",
       "      <td>Республика Ангола</td>\n",
       "      <td>Angola</td>\n",
       "      <td>AO</td>\n",
       "      <td>AGO</td>\n",
       "      <td>24</td>\n",
       "      <td>Африка</td>\n",
       "      <td>Центральная Африка</td>\n",
       "    </tr>\n",
       "    <tr>\n",
       "      <th>9</th>\n",
       "      <td>Андорра</td>\n",
       "      <td>Княжество Андорра</td>\n",
       "      <td>Andorra</td>\n",
       "      <td>AD</td>\n",
       "      <td>AND</td>\n",
       "      <td>20</td>\n",
       "      <td>Европа</td>\n",
       "      <td>Южная Европа</td>\n",
       "    </tr>\n",
       "  </tbody>\n",
       "</table>\n",
       "</div>"
      ],
      "text/plain": [
       "                 name                                       fullname  \\\n",
       "0             Абхазия                             Республика Абхазия   \n",
       "1           Австралия                                            NaN   \n",
       "2             Австрия                         Австрийская Республика   \n",
       "3         Азербайджан                         Республика Азербайджан   \n",
       "4             Албания                             Республика Албания   \n",
       "5               Алжир  Алжирская Народная Демократическая Республика   \n",
       "6  Американское Самоа                                            NaN   \n",
       "7             Ангилья                                            NaN   \n",
       "8              Ангола                              Республика Ангола   \n",
       "9             Андорра                              Княжество Андорра   \n",
       "\n",
       "          english alpha2 alpha3  iso location            location-precise  \n",
       "0        Abkhazia     AB    ABH  895     Азия                  Закавказье  \n",
       "1       Australia     AU    AUS   36  Океания  Австралия и Новая Зеландия  \n",
       "2         Austria     AT    AUT   40   Европа             Западная Европа  \n",
       "3      Azerbaijan     AZ    AZE   31     Азия               Западная Азия  \n",
       "4         Albania     AL    ALB    8   Европа                Южная Европа  \n",
       "5         Algeria     DZ    DZA   12   Африка             Северная Африка  \n",
       "6  American Samoa     AS    ASM   16  Океания                   Полинезия  \n",
       "7        Anguilla     AI    AIA  660  Америка           Карибский бассейн  \n",
       "8          Angola     AO    AGO   24   Африка          Центральная Африка  \n",
       "9         Andorra     AD    AND   20   Европа                Южная Европа  "
      ]
     },
     "execution_count": 48,
     "metadata": {},
     "output_type": "execute_result"
    }
   ],
   "source": [
    "side_of_the_world = pd.read_csv('https://www.artlebedev.ru/country-list/tab/', sep='\\t')\n",
    "side_of_the_world.head(10)"
   ]
  },
  {
   "cell_type": "code",
   "execution_count": 49,
   "metadata": {},
   "outputs": [
    {
     "data": {
      "text/html": [
       "<div>\n",
       "<style scoped>\n",
       "    .dataframe tbody tr th:only-of-type {\n",
       "        vertical-align: middle;\n",
       "    }\n",
       "\n",
       "    .dataframe tbody tr th {\n",
       "        vertical-align: top;\n",
       "    }\n",
       "\n",
       "    .dataframe thead th {\n",
       "        text-align: right;\n",
       "    }\n",
       "</style>\n",
       "<table border=\"1\" class=\"dataframe\">\n",
       "  <thead>\n",
       "    <tr style=\"text-align: right;\">\n",
       "      <th></th>\n",
       "      <th>country</th>\n",
       "      <th>location</th>\n",
       "    </tr>\n",
       "  </thead>\n",
       "  <tbody>\n",
       "    <tr>\n",
       "      <th>0</th>\n",
       "      <td>ABH</td>\n",
       "      <td>Азия</td>\n",
       "    </tr>\n",
       "    <tr>\n",
       "      <th>1</th>\n",
       "      <td>AUS</td>\n",
       "      <td>Океания</td>\n",
       "    </tr>\n",
       "    <tr>\n",
       "      <th>2</th>\n",
       "      <td>AUT</td>\n",
       "      <td>Европа</td>\n",
       "    </tr>\n",
       "    <tr>\n",
       "      <th>3</th>\n",
       "      <td>AZE</td>\n",
       "      <td>Азия</td>\n",
       "    </tr>\n",
       "    <tr>\n",
       "      <th>4</th>\n",
       "      <td>ALB</td>\n",
       "      <td>Европа</td>\n",
       "    </tr>\n",
       "  </tbody>\n",
       "</table>\n",
       "</div>"
      ],
      "text/plain": [
       "  country location\n",
       "0     ABH     Азия\n",
       "1     AUS  Океания\n",
       "2     AUT   Европа\n",
       "3     AZE     Азия\n",
       "4     ALB   Европа"
      ]
     },
     "execution_count": 49,
     "metadata": {},
     "output_type": "execute_result"
    }
   ],
   "source": [
    "side_of_the_worlds_m = side_of_the_world[['alpha3', 'location']]\n",
    "side_of_the_worlds_m = side_of_the_worlds_m.rename(columns={\"alpha3\": \"country\"})\n",
    "side_of_the_worlds_m.head()"
   ]
  },
  {
   "cell_type": "code",
   "execution_count": 50,
   "metadata": {},
   "outputs": [
    {
     "data": {
      "text/html": [
       "<div>\n",
       "<style scoped>\n",
       "    .dataframe tbody tr th:only-of-type {\n",
       "        vertical-align: middle;\n",
       "    }\n",
       "\n",
       "    .dataframe tbody tr th {\n",
       "        vertical-align: top;\n",
       "    }\n",
       "\n",
       "    .dataframe thead th {\n",
       "        text-align: right;\n",
       "    }\n",
       "</style>\n",
       "<table border=\"1\" class=\"dataframe\">\n",
       "  <thead>\n",
       "    <tr style=\"text-align: right;\">\n",
       "      <th></th>\n",
       "      <th>is_canceled</th>\n",
       "      <th>lead_time</th>\n",
       "      <th>stays_in_weekend_nights</th>\n",
       "      <th>stays_in_week_nights</th>\n",
       "      <th>adults</th>\n",
       "      <th>children</th>\n",
       "      <th>babies</th>\n",
       "      <th>meal</th>\n",
       "      <th>country</th>\n",
       "      <th>distribution_channel</th>\n",
       "      <th>...</th>\n",
       "      <th>previous_bookings_not_canceled</th>\n",
       "      <th>reserved_room_type</th>\n",
       "      <th>booking_changes</th>\n",
       "      <th>days_in_waiting_list</th>\n",
       "      <th>customer_type</th>\n",
       "      <th>required_car_parking_spaces</th>\n",
       "      <th>total_of_special_requests</th>\n",
       "      <th>total_nights</th>\n",
       "      <th>season</th>\n",
       "      <th>location</th>\n",
       "    </tr>\n",
       "  </thead>\n",
       "  <tbody>\n",
       "    <tr>\n",
       "      <th>0</th>\n",
       "      <td>0</td>\n",
       "      <td>7.0</td>\n",
       "      <td>0</td>\n",
       "      <td>1</td>\n",
       "      <td>1.0</td>\n",
       "      <td>0.0</td>\n",
       "      <td>0.0</td>\n",
       "      <td>0</td>\n",
       "      <td>GBR</td>\n",
       "      <td>1</td>\n",
       "      <td>...</td>\n",
       "      <td>0</td>\n",
       "      <td>0</td>\n",
       "      <td>0</td>\n",
       "      <td>0</td>\n",
       "      <td>0</td>\n",
       "      <td>0</td>\n",
       "      <td>0</td>\n",
       "      <td>1</td>\n",
       "      <td>2</td>\n",
       "      <td>Европа</td>\n",
       "    </tr>\n",
       "    <tr>\n",
       "      <th>1</th>\n",
       "      <td>0</td>\n",
       "      <td>14.0</td>\n",
       "      <td>0</td>\n",
       "      <td>2</td>\n",
       "      <td>2.0</td>\n",
       "      <td>0.0</td>\n",
       "      <td>0.0</td>\n",
       "      <td>0</td>\n",
       "      <td>GBR</td>\n",
       "      <td>0</td>\n",
       "      <td>...</td>\n",
       "      <td>0</td>\n",
       "      <td>0</td>\n",
       "      <td>0</td>\n",
       "      <td>0</td>\n",
       "      <td>0</td>\n",
       "      <td>0</td>\n",
       "      <td>1</td>\n",
       "      <td>2</td>\n",
       "      <td>2</td>\n",
       "      <td>Европа</td>\n",
       "    </tr>\n",
       "    <tr>\n",
       "      <th>2</th>\n",
       "      <td>0</td>\n",
       "      <td>7.0</td>\n",
       "      <td>0</td>\n",
       "      <td>4</td>\n",
       "      <td>2.0</td>\n",
       "      <td>0.0</td>\n",
       "      <td>0.0</td>\n",
       "      <td>0</td>\n",
       "      <td>GBR</td>\n",
       "      <td>1</td>\n",
       "      <td>...</td>\n",
       "      <td>0</td>\n",
       "      <td>6</td>\n",
       "      <td>0</td>\n",
       "      <td>0</td>\n",
       "      <td>0</td>\n",
       "      <td>0</td>\n",
       "      <td>1</td>\n",
       "      <td>4</td>\n",
       "      <td>2</td>\n",
       "      <td>Европа</td>\n",
       "    </tr>\n",
       "    <tr>\n",
       "      <th>3</th>\n",
       "      <td>0</td>\n",
       "      <td>12.0</td>\n",
       "      <td>0</td>\n",
       "      <td>1</td>\n",
       "      <td>2.0</td>\n",
       "      <td>0.0</td>\n",
       "      <td>0.0</td>\n",
       "      <td>0</td>\n",
       "      <td>GBR</td>\n",
       "      <td>0</td>\n",
       "      <td>...</td>\n",
       "      <td>0</td>\n",
       "      <td>0</td>\n",
       "      <td>0</td>\n",
       "      <td>0</td>\n",
       "      <td>0</td>\n",
       "      <td>0</td>\n",
       "      <td>0</td>\n",
       "      <td>1</td>\n",
       "      <td>2</td>\n",
       "      <td>Европа</td>\n",
       "    </tr>\n",
       "    <tr>\n",
       "      <th>4</th>\n",
       "      <td>0</td>\n",
       "      <td>92.0</td>\n",
       "      <td>4</td>\n",
       "      <td>6</td>\n",
       "      <td>2.0</td>\n",
       "      <td>0.0</td>\n",
       "      <td>0.0</td>\n",
       "      <td>0</td>\n",
       "      <td>GBR</td>\n",
       "      <td>0</td>\n",
       "      <td>...</td>\n",
       "      <td>0</td>\n",
       "      <td>3</td>\n",
       "      <td>0</td>\n",
       "      <td>0</td>\n",
       "      <td>2</td>\n",
       "      <td>0</td>\n",
       "      <td>1</td>\n",
       "      <td>10</td>\n",
       "      <td>2</td>\n",
       "      <td>Европа</td>\n",
       "    </tr>\n",
       "  </tbody>\n",
       "</table>\n",
       "<p>5 rows × 21 columns</p>\n",
       "</div>"
      ],
      "text/plain": [
       "   is_canceled  lead_time  stays_in_weekend_nights  stays_in_week_nights  \\\n",
       "0            0        7.0                        0                     1   \n",
       "1            0       14.0                        0                     2   \n",
       "2            0        7.0                        0                     4   \n",
       "3            0       12.0                        0                     1   \n",
       "4            0       92.0                        4                     6   \n",
       "\n",
       "   adults  children  babies  meal country  distribution_channel  ...  \\\n",
       "0     1.0       0.0     0.0     0     GBR                     1  ...   \n",
       "1     2.0       0.0     0.0     0     GBR                     0  ...   \n",
       "2     2.0       0.0     0.0     0     GBR                     1  ...   \n",
       "3     2.0       0.0     0.0     0     GBR                     0  ...   \n",
       "4     2.0       0.0     0.0     0     GBR                     0  ...   \n",
       "\n",
       "   previous_bookings_not_canceled  reserved_room_type  booking_changes  \\\n",
       "0                               0                   0                0   \n",
       "1                               0                   0                0   \n",
       "2                               0                   6                0   \n",
       "3                               0                   0                0   \n",
       "4                               0                   3                0   \n",
       "\n",
       "   days_in_waiting_list  customer_type  required_car_parking_spaces  \\\n",
       "0                     0              0                            0   \n",
       "1                     0              0                            0   \n",
       "2                     0              0                            0   \n",
       "3                     0              0                            0   \n",
       "4                     0              2                            0   \n",
       "\n",
       "   total_of_special_requests  total_nights  season  location  \n",
       "0                          0             1       2    Европа  \n",
       "1                          1             2       2    Европа  \n",
       "2                          1             4       2    Европа  \n",
       "3                          0             1       2    Европа  \n",
       "4                          1            10       2    Европа  \n",
       "\n",
       "[5 rows x 21 columns]"
      ]
     },
     "execution_count": 50,
     "metadata": {},
     "output_type": "execute_result"
    }
   ],
   "source": [
    "train_data = train_data.merge(side_of_the_worlds_m, how='inner', on='country' )\n",
    "test_data = test_data.merge(side_of_the_worlds_m, how='inner', on='country' )\n",
    "train_data.head()"
   ]
  },
  {
   "cell_type": "code",
   "execution_count": 51,
   "metadata": {},
   "outputs": [],
   "source": [
    "train_data = train_data.drop('country', axis=1)\n",
    "test_data = test_data.drop('country', axis=1)"
   ]
  },
  {
   "cell_type": "code",
   "execution_count": 52,
   "metadata": {},
   "outputs": [
    {
     "data": {
      "text/plain": [
       "location\n",
       "Европа        38031\n",
       "Америка        2101\n",
       "Азия           1365\n",
       "Африка          457\n",
       "Океания         186\n",
       "Антарктика        1\n",
       "dtype: int64"
      ]
     },
     "execution_count": 52,
     "metadata": {},
     "output_type": "execute_result"
    }
   ],
   "source": [
    "train_data.value_counts('location')"
   ]
  },
  {
   "cell_type": "code",
   "execution_count": 53,
   "metadata": {},
   "outputs": [
    {
     "name": "stdout",
     "output_type": "stream",
     "text": [
      "{0: 'Азия', 1: 'Америка', 2: 'Антарктика', 3: 'Африка', 4: 'Европа', 5: 'Океания'}\n"
     ]
    }
   ],
   "source": [
    "label_encoder = LabelEncoder()\n",
    "\n",
    "train_data['location'] = pd.Series(label_encoder.fit_transform(train_data['location']))\n",
    "print(dict(enumerate(label_encoder.classes_)))"
   ]
  },
  {
   "cell_type": "code",
   "execution_count": 54,
   "metadata": {},
   "outputs": [],
   "source": [
    "test_data['location'] = pd.Series(label_encoder.fit_transform(test_data['location']))"
   ]
  },
  {
   "cell_type": "markdown",
   "metadata": {},
   "source": [
    "### Resume"
   ]
  },
  {
   "cell_type": "markdown",
   "metadata": {},
   "source": [
    "- Conducted exploratory data analysis\n",
    "- Removed obvious duplicates, outliers, columns with duplicate info\n",
    "- Replaced categorical values with numbers\n",
    "- The resulting dataframe for training has a size of (42551, 19)"
   ]
  },
  {
   "cell_type": "markdown",
   "metadata": {},
   "source": [
    "## Calculate the business metric"
   ]
  },
  {
   "cell_type": "code",
   "execution_count": 55,
   "metadata": {},
   "outputs": [],
   "source": [
    "combine = [train_data, test_data]"
   ]
  },
  {
   "cell_type": "code",
   "execution_count": 56,
   "metadata": {},
   "outputs": [],
   "source": [
    "# add columns with the cost of the room, cleaning and seasonal coefficient in accordance with the data of the guest\n",
    "for data in combine:\n",
    "    data['room_cost'] = [1000 if x == 0 else \\\n",
    "                         (800 if x == 1 else \\\n",
    "                         (600 if x == 2 else \\\n",
    "                         (550 if x == 3 else \\\n",
    "                         (500 if x == 4 else \\\n",
    "                         (450 if x == 5 else 350))))) \\\n",
    "                         for x in data['reserved_room_type']]\n",
    "    data['clean_cost'] = [400 if x == 0 else \\\n",
    "                          (350 if (x == 1) | (x == 2) else 150)\n",
    "                          for x in data['reserved_room_type']]\n",
    "    data['season_coef'] = [1 if x == 1 else\n",
    "                               (1.4 if x == 3 else 1.2) for x in data['season']]"
   ]
  },
  {
   "cell_type": "code",
   "execution_count": 57,
   "metadata": {},
   "outputs": [
    {
     "data": {
      "text/html": [
       "<div>\n",
       "<style scoped>\n",
       "    .dataframe tbody tr th:only-of-type {\n",
       "        vertical-align: middle;\n",
       "    }\n",
       "\n",
       "    .dataframe tbody tr th {\n",
       "        vertical-align: top;\n",
       "    }\n",
       "\n",
       "    .dataframe thead th {\n",
       "        text-align: right;\n",
       "    }\n",
       "</style>\n",
       "<table border=\"1\" class=\"dataframe\">\n",
       "  <thead>\n",
       "    <tr style=\"text-align: right;\">\n",
       "      <th></th>\n",
       "      <th>is_canceled</th>\n",
       "      <th>lead_time</th>\n",
       "      <th>stays_in_weekend_nights</th>\n",
       "      <th>stays_in_week_nights</th>\n",
       "      <th>adults</th>\n",
       "      <th>children</th>\n",
       "      <th>babies</th>\n",
       "      <th>meal</th>\n",
       "      <th>distribution_channel</th>\n",
       "      <th>previous_cancellations</th>\n",
       "      <th>...</th>\n",
       "      <th>days_in_waiting_list</th>\n",
       "      <th>customer_type</th>\n",
       "      <th>required_car_parking_spaces</th>\n",
       "      <th>total_of_special_requests</th>\n",
       "      <th>total_nights</th>\n",
       "      <th>season</th>\n",
       "      <th>location</th>\n",
       "      <th>room_cost</th>\n",
       "      <th>clean_cost</th>\n",
       "      <th>season_coef</th>\n",
       "    </tr>\n",
       "  </thead>\n",
       "  <tbody>\n",
       "    <tr>\n",
       "      <th>0</th>\n",
       "      <td>0</td>\n",
       "      <td>7.0</td>\n",
       "      <td>0</td>\n",
       "      <td>1</td>\n",
       "      <td>1.0</td>\n",
       "      <td>0.0</td>\n",
       "      <td>0.0</td>\n",
       "      <td>0</td>\n",
       "      <td>1</td>\n",
       "      <td>0</td>\n",
       "      <td>...</td>\n",
       "      <td>0</td>\n",
       "      <td>0</td>\n",
       "      <td>0</td>\n",
       "      <td>0</td>\n",
       "      <td>1</td>\n",
       "      <td>2</td>\n",
       "      <td>4</td>\n",
       "      <td>1000</td>\n",
       "      <td>400</td>\n",
       "      <td>1.2</td>\n",
       "    </tr>\n",
       "    <tr>\n",
       "      <th>1</th>\n",
       "      <td>0</td>\n",
       "      <td>14.0</td>\n",
       "      <td>0</td>\n",
       "      <td>2</td>\n",
       "      <td>2.0</td>\n",
       "      <td>0.0</td>\n",
       "      <td>0.0</td>\n",
       "      <td>0</td>\n",
       "      <td>0</td>\n",
       "      <td>0</td>\n",
       "      <td>...</td>\n",
       "      <td>0</td>\n",
       "      <td>0</td>\n",
       "      <td>0</td>\n",
       "      <td>1</td>\n",
       "      <td>2</td>\n",
       "      <td>2</td>\n",
       "      <td>4</td>\n",
       "      <td>1000</td>\n",
       "      <td>400</td>\n",
       "      <td>1.2</td>\n",
       "    </tr>\n",
       "    <tr>\n",
       "      <th>2</th>\n",
       "      <td>0</td>\n",
       "      <td>7.0</td>\n",
       "      <td>0</td>\n",
       "      <td>4</td>\n",
       "      <td>2.0</td>\n",
       "      <td>0.0</td>\n",
       "      <td>0.0</td>\n",
       "      <td>0</td>\n",
       "      <td>1</td>\n",
       "      <td>0</td>\n",
       "      <td>...</td>\n",
       "      <td>0</td>\n",
       "      <td>0</td>\n",
       "      <td>0</td>\n",
       "      <td>1</td>\n",
       "      <td>4</td>\n",
       "      <td>2</td>\n",
       "      <td>4</td>\n",
       "      <td>350</td>\n",
       "      <td>150</td>\n",
       "      <td>1.2</td>\n",
       "    </tr>\n",
       "    <tr>\n",
       "      <th>3</th>\n",
       "      <td>0</td>\n",
       "      <td>12.0</td>\n",
       "      <td>0</td>\n",
       "      <td>1</td>\n",
       "      <td>2.0</td>\n",
       "      <td>0.0</td>\n",
       "      <td>0.0</td>\n",
       "      <td>0</td>\n",
       "      <td>0</td>\n",
       "      <td>0</td>\n",
       "      <td>...</td>\n",
       "      <td>0</td>\n",
       "      <td>0</td>\n",
       "      <td>0</td>\n",
       "      <td>0</td>\n",
       "      <td>1</td>\n",
       "      <td>2</td>\n",
       "      <td>4</td>\n",
       "      <td>1000</td>\n",
       "      <td>400</td>\n",
       "      <td>1.2</td>\n",
       "    </tr>\n",
       "    <tr>\n",
       "      <th>4</th>\n",
       "      <td>0</td>\n",
       "      <td>92.0</td>\n",
       "      <td>4</td>\n",
       "      <td>6</td>\n",
       "      <td>2.0</td>\n",
       "      <td>0.0</td>\n",
       "      <td>0.0</td>\n",
       "      <td>0</td>\n",
       "      <td>0</td>\n",
       "      <td>0</td>\n",
       "      <td>...</td>\n",
       "      <td>0</td>\n",
       "      <td>2</td>\n",
       "      <td>0</td>\n",
       "      <td>1</td>\n",
       "      <td>10</td>\n",
       "      <td>2</td>\n",
       "      <td>4</td>\n",
       "      <td>550</td>\n",
       "      <td>150</td>\n",
       "      <td>1.2</td>\n",
       "    </tr>\n",
       "  </tbody>\n",
       "</table>\n",
       "<p>5 rows × 23 columns</p>\n",
       "</div>"
      ],
      "text/plain": [
       "   is_canceled  lead_time  stays_in_weekend_nights  stays_in_week_nights  \\\n",
       "0            0        7.0                        0                     1   \n",
       "1            0       14.0                        0                     2   \n",
       "2            0        7.0                        0                     4   \n",
       "3            0       12.0                        0                     1   \n",
       "4            0       92.0                        4                     6   \n",
       "\n",
       "   adults  children  babies  meal  distribution_channel  \\\n",
       "0     1.0       0.0     0.0     0                     1   \n",
       "1     2.0       0.0     0.0     0                     0   \n",
       "2     2.0       0.0     0.0     0                     1   \n",
       "3     2.0       0.0     0.0     0                     0   \n",
       "4     2.0       0.0     0.0     0                     0   \n",
       "\n",
       "   previous_cancellations  ...  days_in_waiting_list  customer_type  \\\n",
       "0                       0  ...                     0              0   \n",
       "1                       0  ...                     0              0   \n",
       "2                       0  ...                     0              0   \n",
       "3                       0  ...                     0              0   \n",
       "4                       0  ...                     0              2   \n",
       "\n",
       "   required_car_parking_spaces  total_of_special_requests  total_nights  \\\n",
       "0                            0                          0             1   \n",
       "1                            0                          1             2   \n",
       "2                            0                          1             4   \n",
       "3                            0                          0             1   \n",
       "4                            0                          1            10   \n",
       "\n",
       "   season  location  room_cost  clean_cost  season_coef  \n",
       "0       2         4       1000         400          1.2  \n",
       "1       2         4       1000         400          1.2  \n",
       "2       2         4        350         150          1.2  \n",
       "3       2         4       1000         400          1.2  \n",
       "4       2         4        550         150          1.2  \n",
       "\n",
       "[5 rows x 23 columns]"
      ]
     },
     "execution_count": 57,
     "metadata": {},
     "output_type": "execute_result"
    }
   ],
   "source": [
    "train_data.head(5)"
   ]
  },
  {
   "cell_type": "code",
   "execution_count": 58,
   "metadata": {},
   "outputs": [],
   "source": [
    "# function to calculate profit\n",
    "def revenue(is_canceled, season, nights, room, clean):\n",
    "\n",
    "    if is_canceled == 0:\n",
    "        revenue = season * (nights * room - (1 + nights) // 2 * clean)\n",
    "    else:\n",
    "        revenue = - (season * (room + clean))\n",
    "    return revenue"
   ]
  },
  {
   "cell_type": "code",
   "execution_count": 114,
   "metadata": {},
   "outputs": [],
   "source": [
    "train_data['Revenue'] = train_data.apply(lambda x: revenue(x['is_canceled'], \n",
    "                                                           x['season_coef'], \n",
    "                                                           x['total_nights'], \n",
    "                                                           x['room_cost'], \n",
    "                                                           x['clean_cost']), axis=1)"
   ]
  },
  {
   "cell_type": "code",
   "execution_count": 60,
   "metadata": {
    "scrolled": true
   },
   "outputs": [
    {
     "name": "stdout",
     "output_type": "stream",
     "text": [
      "Profit = 63891100 руб.\n"
     ]
    }
   ],
   "source": [
    "print('Profit = {:.0f} руб.'.format(sum(train_data['Revenue'])))"
   ]
  },
  {
   "cell_type": "markdown",
   "metadata": {},
   "source": [
    "## Model"
   ]
  },
  {
   "cell_type": "markdown",
   "metadata": {},
   "source": [
    "+ Train three models: DecisionTreeClassifier, RandomForestClassifier, LogisticRegression\n",
    "+ As a cross-validation, we use the GridSearchCV method\n",
    "+ At the stage of data preprocessing, an imbalance of data was noted, we will solve this problem using the SMOTE () and RandomUnderSampler () methods\n",
    "+ As a metric, we will use recall (Recall) to predict as many cancellations as possible."
   ]
  },
  {
   "cell_type": "code",
   "execution_count": 61,
   "metadata": {},
   "outputs": [],
   "source": [
    "X_train = train_data.drop(['is_canceled', \n",
    "                           'season_coef', \n",
    "                           'clean_cost', \n",
    "                           'room_cost', \n",
    "                           'Revenue', \n",
    "                           'total_nights'], axis=1)\n",
    "y_train = train_data['is_canceled']"
   ]
  },
  {
   "cell_type": "code",
   "execution_count": 62,
   "metadata": {},
   "outputs": [],
   "source": [
    "numeric = ['lead_time', \n",
    "           'stays_in_weekend_nights', \n",
    "           'stays_in_week_nights', \n",
    "           'adults', \n",
    "           'previous_cancellations', \n",
    "           'previous_bookings_not_canceled', \n",
    "           'days_in_waiting_list', \n",
    "           'total_of_special_requests', \n",
    "           'booking_changes']\n",
    "\n",
    "scaler = StandardScaler()\n",
    "scaler.fit(X_train[numeric])\n",
    "X_train[numeric] = scaler.transform(X_train[numeric])"
   ]
  },
  {
   "cell_type": "code",
   "execution_count": 63,
   "metadata": {},
   "outputs": [],
   "source": [
    "# cross-validation\n",
    "cv = RepeatedStratifiedKFold(n_splits=10, n_repeats=3, random_state=0)"
   ]
  },
  {
   "cell_type": "markdown",
   "metadata": {},
   "source": [
    "### DecisionTreeClassifier"
   ]
  },
  {
   "cell_type": "code",
   "execution_count": 64,
   "metadata": {},
   "outputs": [],
   "source": [
    "dt_clf_pipeline = make_pipeline(SMOTE(sampling_strategy='auto', random_state=0),\n",
    "                                DecisionTreeClassifier(random_state=0))"
   ]
  },
  {
   "cell_type": "code",
   "execution_count": 65,
   "metadata": {},
   "outputs": [],
   "source": [
    "dt_clf_params = {'decisiontreeclassifier__max_depth': [5,7,9,11,13,15],\n",
    "                 'decisiontreeclassifier__min_samples_split': [3, 5, 7]}"
   ]
  },
  {
   "cell_type": "code",
   "execution_count": 66,
   "metadata": {},
   "outputs": [],
   "source": [
    "grid_dt_clf = GridSearchCV(dt_clf_pipeline,\n",
    "                           param_grid=dt_clf_params,\n",
    "                           cv=cv,\n",
    "                           scoring='recall', \n",
    "                           return_train_score=True, \n",
    "                           n_jobs=-1)"
   ]
  },
  {
   "cell_type": "code",
   "execution_count": 67,
   "metadata": {
    "pycharm": {
     "is_executing": true
    }
   },
   "outputs": [
    {
     "data": {
      "text/html": [
       "<style>#sk-container-id-1 {color: black;background-color: white;}#sk-container-id-1 pre{padding: 0;}#sk-container-id-1 div.sk-toggleable {background-color: white;}#sk-container-id-1 label.sk-toggleable__label {cursor: pointer;display: block;width: 100%;margin-bottom: 0;padding: 0.3em;box-sizing: border-box;text-align: center;}#sk-container-id-1 label.sk-toggleable__label-arrow:before {content: \"▸\";float: left;margin-right: 0.25em;color: #696969;}#sk-container-id-1 label.sk-toggleable__label-arrow:hover:before {color: black;}#sk-container-id-1 div.sk-estimator:hover label.sk-toggleable__label-arrow:before {color: black;}#sk-container-id-1 div.sk-toggleable__content {max-height: 0;max-width: 0;overflow: hidden;text-align: left;background-color: #f0f8ff;}#sk-container-id-1 div.sk-toggleable__content pre {margin: 0.2em;color: black;border-radius: 0.25em;background-color: #f0f8ff;}#sk-container-id-1 input.sk-toggleable__control:checked~div.sk-toggleable__content {max-height: 200px;max-width: 100%;overflow: auto;}#sk-container-id-1 input.sk-toggleable__control:checked~label.sk-toggleable__label-arrow:before {content: \"▾\";}#sk-container-id-1 div.sk-estimator input.sk-toggleable__control:checked~label.sk-toggleable__label {background-color: #d4ebff;}#sk-container-id-1 div.sk-label input.sk-toggleable__control:checked~label.sk-toggleable__label {background-color: #d4ebff;}#sk-container-id-1 input.sk-hidden--visually {border: 0;clip: rect(1px 1px 1px 1px);clip: rect(1px, 1px, 1px, 1px);height: 1px;margin: -1px;overflow: hidden;padding: 0;position: absolute;width: 1px;}#sk-container-id-1 div.sk-estimator {font-family: monospace;background-color: #f0f8ff;border: 1px dotted black;border-radius: 0.25em;box-sizing: border-box;margin-bottom: 0.5em;}#sk-container-id-1 div.sk-estimator:hover {background-color: #d4ebff;}#sk-container-id-1 div.sk-parallel-item::after {content: \"\";width: 100%;border-bottom: 1px solid gray;flex-grow: 1;}#sk-container-id-1 div.sk-label:hover label.sk-toggleable__label {background-color: #d4ebff;}#sk-container-id-1 div.sk-serial::before {content: \"\";position: absolute;border-left: 1px solid gray;box-sizing: border-box;top: 0;bottom: 0;left: 50%;z-index: 0;}#sk-container-id-1 div.sk-serial {display: flex;flex-direction: column;align-items: center;background-color: white;padding-right: 0.2em;padding-left: 0.2em;position: relative;}#sk-container-id-1 div.sk-item {position: relative;z-index: 1;}#sk-container-id-1 div.sk-parallel {display: flex;align-items: stretch;justify-content: center;background-color: white;position: relative;}#sk-container-id-1 div.sk-item::before, #sk-container-id-1 div.sk-parallel-item::before {content: \"\";position: absolute;border-left: 1px solid gray;box-sizing: border-box;top: 0;bottom: 0;left: 50%;z-index: -1;}#sk-container-id-1 div.sk-parallel-item {display: flex;flex-direction: column;z-index: 1;position: relative;background-color: white;}#sk-container-id-1 div.sk-parallel-item:first-child::after {align-self: flex-end;width: 50%;}#sk-container-id-1 div.sk-parallel-item:last-child::after {align-self: flex-start;width: 50%;}#sk-container-id-1 div.sk-parallel-item:only-child::after {width: 0;}#sk-container-id-1 div.sk-dashed-wrapped {border: 1px dashed gray;margin: 0 0.4em 0.5em 0.4em;box-sizing: border-box;padding-bottom: 0.4em;background-color: white;}#sk-container-id-1 div.sk-label label {font-family: monospace;font-weight: bold;display: inline-block;line-height: 1.2em;}#sk-container-id-1 div.sk-label-container {text-align: center;}#sk-container-id-1 div.sk-container {/* jupyter's `normalize.less` sets `[hidden] { display: none; }` but bootstrap.min.css set `[hidden] { display: none !important; }` so we also need the `!important` here to be able to override the default hidden behavior on the sphinx rendered scikit-learn.org. See: https://github.com/scikit-learn/scikit-learn/issues/21755 */display: inline-block !important;position: relative;}#sk-container-id-1 div.sk-text-repr-fallback {display: none;}</style><div id=\"sk-container-id-1\" class=\"sk-top-container\"><div class=\"sk-text-repr-fallback\"><pre>GridSearchCV(cv=RepeatedStratifiedKFold(n_repeats=3, n_splits=10, random_state=0),\n",
       "             estimator=Pipeline(steps=[(&#x27;smote&#x27;, SMOTE(random_state=0)),\n",
       "                                       (&#x27;decisiontreeclassifier&#x27;,\n",
       "                                        DecisionTreeClassifier(random_state=0))]),\n",
       "             n_jobs=-1,\n",
       "             param_grid={&#x27;decisiontreeclassifier__max_depth&#x27;: [5, 7, 9, 11, 13,\n",
       "                                                               15],\n",
       "                         &#x27;decisiontreeclassifier__min_samples_split&#x27;: [3, 5,\n",
       "                                                                       7]},\n",
       "             return_train_score=True, scoring=&#x27;recall&#x27;)</pre><b>In a Jupyter environment, please rerun this cell to show the HTML representation or trust the notebook. <br />On GitHub, the HTML representation is unable to render, please try loading this page with nbviewer.org.</b></div><div class=\"sk-container\" hidden><div class=\"sk-item sk-dashed-wrapped\"><div class=\"sk-label-container\"><div class=\"sk-label sk-toggleable\"><input class=\"sk-toggleable__control sk-hidden--visually\" id=\"sk-estimator-id-1\" type=\"checkbox\" ><label for=\"sk-estimator-id-1\" class=\"sk-toggleable__label sk-toggleable__label-arrow\">GridSearchCV</label><div class=\"sk-toggleable__content\"><pre>GridSearchCV(cv=RepeatedStratifiedKFold(n_repeats=3, n_splits=10, random_state=0),\n",
       "             estimator=Pipeline(steps=[(&#x27;smote&#x27;, SMOTE(random_state=0)),\n",
       "                                       (&#x27;decisiontreeclassifier&#x27;,\n",
       "                                        DecisionTreeClassifier(random_state=0))]),\n",
       "             n_jobs=-1,\n",
       "             param_grid={&#x27;decisiontreeclassifier__max_depth&#x27;: [5, 7, 9, 11, 13,\n",
       "                                                               15],\n",
       "                         &#x27;decisiontreeclassifier__min_samples_split&#x27;: [3, 5,\n",
       "                                                                       7]},\n",
       "             return_train_score=True, scoring=&#x27;recall&#x27;)</pre></div></div></div><div class=\"sk-parallel\"><div class=\"sk-parallel-item\"><div class=\"sk-item\"><div class=\"sk-label-container\"><div class=\"sk-label sk-toggleable\"><input class=\"sk-toggleable__control sk-hidden--visually\" id=\"sk-estimator-id-2\" type=\"checkbox\" ><label for=\"sk-estimator-id-2\" class=\"sk-toggleable__label sk-toggleable__label-arrow\">estimator: Pipeline</label><div class=\"sk-toggleable__content\"><pre>Pipeline(steps=[(&#x27;smote&#x27;, SMOTE(random_state=0)),\n",
       "                (&#x27;decisiontreeclassifier&#x27;,\n",
       "                 DecisionTreeClassifier(random_state=0))])</pre></div></div></div><div class=\"sk-serial\"><div class=\"sk-item\"><div class=\"sk-serial\"><div class=\"sk-item\"><div class=\"sk-estimator sk-toggleable\"><input class=\"sk-toggleable__control sk-hidden--visually\" id=\"sk-estimator-id-3\" type=\"checkbox\" ><label for=\"sk-estimator-id-3\" class=\"sk-toggleable__label sk-toggleable__label-arrow\">SMOTE</label><div class=\"sk-toggleable__content\"><pre>SMOTE(random_state=0)</pre></div></div></div><div class=\"sk-item\"><div class=\"sk-estimator sk-toggleable\"><input class=\"sk-toggleable__control sk-hidden--visually\" id=\"sk-estimator-id-4\" type=\"checkbox\" ><label for=\"sk-estimator-id-4\" class=\"sk-toggleable__label sk-toggleable__label-arrow\">DecisionTreeClassifier</label><div class=\"sk-toggleable__content\"><pre>DecisionTreeClassifier(random_state=0)</pre></div></div></div></div></div></div></div></div></div></div></div></div>"
      ],
      "text/plain": [
       "GridSearchCV(cv=RepeatedStratifiedKFold(n_repeats=3, n_splits=10, random_state=0),\n",
       "             estimator=Pipeline(steps=[('smote', SMOTE(random_state=0)),\n",
       "                                       ('decisiontreeclassifier',\n",
       "                                        DecisionTreeClassifier(random_state=0))]),\n",
       "             n_jobs=-1,\n",
       "             param_grid={'decisiontreeclassifier__max_depth': [5, 7, 9, 11, 13,\n",
       "                                                               15],\n",
       "                         'decisiontreeclassifier__min_samples_split': [3, 5,\n",
       "                                                                       7]},\n",
       "             return_train_score=True, scoring='recall')"
      ]
     },
     "execution_count": 67,
     "metadata": {},
     "output_type": "execute_result"
    }
   ],
   "source": [
    "grid_dt_clf.fit(X_train, y_train)"
   ]
  },
  {
   "cell_type": "code",
   "execution_count": 68,
   "metadata": {},
   "outputs": [
    {
     "name": "stdout",
     "output_type": "stream",
     "text": [
      "0.7598227925450657\n",
      "{'decisiontreeclassifier__max_depth': 7, 'decisiontreeclassifier__min_samples_split': 7}\n"
     ]
    }
   ],
   "source": [
    "print(grid_dt_clf.best_score_)\n",
    "print(grid_dt_clf.best_params_)"
   ]
  },
  {
   "cell_type": "code",
   "execution_count": 69,
   "metadata": {},
   "outputs": [
    {
     "data": {
      "text/plain": [
       "0.4274366025053469"
      ]
     },
     "execution_count": 69,
     "metadata": {},
     "output_type": "execute_result"
    }
   ],
   "source": [
    "# unbalanced sample\n",
    "dt_clf = DecisionTreeClassifier(random_state=0)\n",
    "parameters = {'max_depth': [5,7,9,11,13,15], \n",
    "              'min_samples_split': [3, 5, 7]}\n",
    "dt_grid_unbalanced = GridSearchCV(dt_clf, \n",
    "                                  parameters, \n",
    "                                  cv=cv, \n",
    "                                  scoring='recall', \n",
    "                                  return_train_score=True, \n",
    "                                  n_jobs=-1) \\\n",
    "                                    .fit(X_train, y_train)\n",
    "dt_grid_unbalanced.best_score_"
   ]
  },
  {
   "cell_type": "markdown",
   "metadata": {},
   "source": [
    "### RandomForestClassifier"
   ]
  },
  {
   "cell_type": "code",
   "execution_count": null,
   "metadata": {},
   "outputs": [],
   "source": [
    "# balanced sample\n",
    "rf_clf_pipeline = make_pipeline(SMOTE(sampling_strategy='auto', random_state=0),\n",
    "                                RandomForestClassifier(criterion='entropy', max_features='log2', random_state=0))\n",
    "rf_parameters = {\n",
    "    'randomforestclassifier__n_estimators': [10, 20, 30, 40, 50],\n",
    "    'randomforestclassifier__max_depth' : [5,7,9,11,13,15],\n",
    "    'randomforestclassifier__min_samples_split': [2, 5, 10]\n",
    "}\n",
    "grid_rf_clf = GridSearchCV(rf_clf_pipeline, \n",
    "                           rf_parameters, \n",
    "                           cv=cv, \n",
    "                           scoring='recall', \n",
    "                           return_train_score=True, n_jobs=-1) \\\n",
    "                            .fit(X_train, y_train)\n",
    "grid_rf_clf.best_score_"
   ]
  },
  {
   "cell_type": "code",
   "execution_count": 70,
   "metadata": {},
   "outputs": [],
   "source": [
    "rf_clf_pipeline = make_pipeline(SMOTE(sampling_strategy='auto', random_state=0),RandomForestClassifier(criterion='entropy', max_features='log2', random_state=0))"
   ]
  },
  {
   "cell_type": "code",
   "execution_count": 71,
   "metadata": {},
   "outputs": [],
   "source": [
    "rf_parameters = {\n",
    "    'randomforestclassifier__n_estimators': [10, 20, 30, 40, 50],\n",
    "    'randomforestclassifier__max_depth' : [5,7,9,11,13,15],\n",
    "    'randomforestclassifier__min_samples_split': [2, 5, 10]\n",
    "}"
   ]
  },
  {
   "cell_type": "code",
   "execution_count": 72,
   "metadata": {},
   "outputs": [],
   "source": [
    "grid_rf_clf = GridSearchCV(rf_clf_pipeline, \n",
    "                           rf_parameters, \n",
    "                           cv=cv, \n",
    "                           scoring='recall', \n",
    "                           return_train_score=True, \n",
    "                           n_jobs=-1)"
   ]
  },
  {
   "cell_type": "code",
   "execution_count": 73,
   "metadata": {},
   "outputs": [
    {
     "data": {
      "text/html": [
       "<style>#sk-container-id-2 {color: black;background-color: white;}#sk-container-id-2 pre{padding: 0;}#sk-container-id-2 div.sk-toggleable {background-color: white;}#sk-container-id-2 label.sk-toggleable__label {cursor: pointer;display: block;width: 100%;margin-bottom: 0;padding: 0.3em;box-sizing: border-box;text-align: center;}#sk-container-id-2 label.sk-toggleable__label-arrow:before {content: \"▸\";float: left;margin-right: 0.25em;color: #696969;}#sk-container-id-2 label.sk-toggleable__label-arrow:hover:before {color: black;}#sk-container-id-2 div.sk-estimator:hover label.sk-toggleable__label-arrow:before {color: black;}#sk-container-id-2 div.sk-toggleable__content {max-height: 0;max-width: 0;overflow: hidden;text-align: left;background-color: #f0f8ff;}#sk-container-id-2 div.sk-toggleable__content pre {margin: 0.2em;color: black;border-radius: 0.25em;background-color: #f0f8ff;}#sk-container-id-2 input.sk-toggleable__control:checked~div.sk-toggleable__content {max-height: 200px;max-width: 100%;overflow: auto;}#sk-container-id-2 input.sk-toggleable__control:checked~label.sk-toggleable__label-arrow:before {content: \"▾\";}#sk-container-id-2 div.sk-estimator input.sk-toggleable__control:checked~label.sk-toggleable__label {background-color: #d4ebff;}#sk-container-id-2 div.sk-label input.sk-toggleable__control:checked~label.sk-toggleable__label {background-color: #d4ebff;}#sk-container-id-2 input.sk-hidden--visually {border: 0;clip: rect(1px 1px 1px 1px);clip: rect(1px, 1px, 1px, 1px);height: 1px;margin: -1px;overflow: hidden;padding: 0;position: absolute;width: 1px;}#sk-container-id-2 div.sk-estimator {font-family: monospace;background-color: #f0f8ff;border: 1px dotted black;border-radius: 0.25em;box-sizing: border-box;margin-bottom: 0.5em;}#sk-container-id-2 div.sk-estimator:hover {background-color: #d4ebff;}#sk-container-id-2 div.sk-parallel-item::after {content: \"\";width: 100%;border-bottom: 1px solid gray;flex-grow: 1;}#sk-container-id-2 div.sk-label:hover label.sk-toggleable__label {background-color: #d4ebff;}#sk-container-id-2 div.sk-serial::before {content: \"\";position: absolute;border-left: 1px solid gray;box-sizing: border-box;top: 0;bottom: 0;left: 50%;z-index: 0;}#sk-container-id-2 div.sk-serial {display: flex;flex-direction: column;align-items: center;background-color: white;padding-right: 0.2em;padding-left: 0.2em;position: relative;}#sk-container-id-2 div.sk-item {position: relative;z-index: 1;}#sk-container-id-2 div.sk-parallel {display: flex;align-items: stretch;justify-content: center;background-color: white;position: relative;}#sk-container-id-2 div.sk-item::before, #sk-container-id-2 div.sk-parallel-item::before {content: \"\";position: absolute;border-left: 1px solid gray;box-sizing: border-box;top: 0;bottom: 0;left: 50%;z-index: -1;}#sk-container-id-2 div.sk-parallel-item {display: flex;flex-direction: column;z-index: 1;position: relative;background-color: white;}#sk-container-id-2 div.sk-parallel-item:first-child::after {align-self: flex-end;width: 50%;}#sk-container-id-2 div.sk-parallel-item:last-child::after {align-self: flex-start;width: 50%;}#sk-container-id-2 div.sk-parallel-item:only-child::after {width: 0;}#sk-container-id-2 div.sk-dashed-wrapped {border: 1px dashed gray;margin: 0 0.4em 0.5em 0.4em;box-sizing: border-box;padding-bottom: 0.4em;background-color: white;}#sk-container-id-2 div.sk-label label {font-family: monospace;font-weight: bold;display: inline-block;line-height: 1.2em;}#sk-container-id-2 div.sk-label-container {text-align: center;}#sk-container-id-2 div.sk-container {/* jupyter's `normalize.less` sets `[hidden] { display: none; }` but bootstrap.min.css set `[hidden] { display: none !important; }` so we also need the `!important` here to be able to override the default hidden behavior on the sphinx rendered scikit-learn.org. See: https://github.com/scikit-learn/scikit-learn/issues/21755 */display: inline-block !important;position: relative;}#sk-container-id-2 div.sk-text-repr-fallback {display: none;}</style><div id=\"sk-container-id-2\" class=\"sk-top-container\"><div class=\"sk-text-repr-fallback\"><pre>GridSearchCV(cv=RepeatedStratifiedKFold(n_repeats=3, n_splits=10, random_state=0),\n",
       "             estimator=Pipeline(steps=[(&#x27;smote&#x27;, SMOTE(random_state=0)),\n",
       "                                       (&#x27;randomforestclassifier&#x27;,\n",
       "                                        RandomForestClassifier(criterion=&#x27;entropy&#x27;,\n",
       "                                                               max_features=&#x27;log2&#x27;,\n",
       "                                                               random_state=0))]),\n",
       "             n_jobs=-1,\n",
       "             param_grid={&#x27;randomforestclassifier__max_depth&#x27;: [5, 7, 9, 11, 13,\n",
       "                                                               15],\n",
       "                         &#x27;randomforestclassifier__min_samples_split&#x27;: [2, 5,\n",
       "                                                                       10],\n",
       "                         &#x27;randomforestclassifier__n_estimators&#x27;: [10, 20, 30,\n",
       "                                                                  40, 50]},\n",
       "             return_train_score=True, scoring=&#x27;recall&#x27;)</pre><b>In a Jupyter environment, please rerun this cell to show the HTML representation or trust the notebook. <br />On GitHub, the HTML representation is unable to render, please try loading this page with nbviewer.org.</b></div><div class=\"sk-container\" hidden><div class=\"sk-item sk-dashed-wrapped\"><div class=\"sk-label-container\"><div class=\"sk-label sk-toggleable\"><input class=\"sk-toggleable__control sk-hidden--visually\" id=\"sk-estimator-id-5\" type=\"checkbox\" ><label for=\"sk-estimator-id-5\" class=\"sk-toggleable__label sk-toggleable__label-arrow\">GridSearchCV</label><div class=\"sk-toggleable__content\"><pre>GridSearchCV(cv=RepeatedStratifiedKFold(n_repeats=3, n_splits=10, random_state=0),\n",
       "             estimator=Pipeline(steps=[(&#x27;smote&#x27;, SMOTE(random_state=0)),\n",
       "                                       (&#x27;randomforestclassifier&#x27;,\n",
       "                                        RandomForestClassifier(criterion=&#x27;entropy&#x27;,\n",
       "                                                               max_features=&#x27;log2&#x27;,\n",
       "                                                               random_state=0))]),\n",
       "             n_jobs=-1,\n",
       "             param_grid={&#x27;randomforestclassifier__max_depth&#x27;: [5, 7, 9, 11, 13,\n",
       "                                                               15],\n",
       "                         &#x27;randomforestclassifier__min_samples_split&#x27;: [2, 5,\n",
       "                                                                       10],\n",
       "                         &#x27;randomforestclassifier__n_estimators&#x27;: [10, 20, 30,\n",
       "                                                                  40, 50]},\n",
       "             return_train_score=True, scoring=&#x27;recall&#x27;)</pre></div></div></div><div class=\"sk-parallel\"><div class=\"sk-parallel-item\"><div class=\"sk-item\"><div class=\"sk-label-container\"><div class=\"sk-label sk-toggleable\"><input class=\"sk-toggleable__control sk-hidden--visually\" id=\"sk-estimator-id-6\" type=\"checkbox\" ><label for=\"sk-estimator-id-6\" class=\"sk-toggleable__label sk-toggleable__label-arrow\">estimator: Pipeline</label><div class=\"sk-toggleable__content\"><pre>Pipeline(steps=[(&#x27;smote&#x27;, SMOTE(random_state=0)),\n",
       "                (&#x27;randomforestclassifier&#x27;,\n",
       "                 RandomForestClassifier(criterion=&#x27;entropy&#x27;,\n",
       "                                        max_features=&#x27;log2&#x27;, random_state=0))])</pre></div></div></div><div class=\"sk-serial\"><div class=\"sk-item\"><div class=\"sk-serial\"><div class=\"sk-item\"><div class=\"sk-estimator sk-toggleable\"><input class=\"sk-toggleable__control sk-hidden--visually\" id=\"sk-estimator-id-7\" type=\"checkbox\" ><label for=\"sk-estimator-id-7\" class=\"sk-toggleable__label sk-toggleable__label-arrow\">SMOTE</label><div class=\"sk-toggleable__content\"><pre>SMOTE(random_state=0)</pre></div></div></div><div class=\"sk-item\"><div class=\"sk-estimator sk-toggleable\"><input class=\"sk-toggleable__control sk-hidden--visually\" id=\"sk-estimator-id-8\" type=\"checkbox\" ><label for=\"sk-estimator-id-8\" class=\"sk-toggleable__label sk-toggleable__label-arrow\">RandomForestClassifier</label><div class=\"sk-toggleable__content\"><pre>RandomForestClassifier(criterion=&#x27;entropy&#x27;, max_features=&#x27;log2&#x27;, random_state=0)</pre></div></div></div></div></div></div></div></div></div></div></div></div>"
      ],
      "text/plain": [
       "GridSearchCV(cv=RepeatedStratifiedKFold(n_repeats=3, n_splits=10, random_state=0),\n",
       "             estimator=Pipeline(steps=[('smote', SMOTE(random_state=0)),\n",
       "                                       ('randomforestclassifier',\n",
       "                                        RandomForestClassifier(criterion='entropy',\n",
       "                                                               max_features='log2',\n",
       "                                                               random_state=0))]),\n",
       "             n_jobs=-1,\n",
       "             param_grid={'randomforestclassifier__max_depth': [5, 7, 9, 11, 13,\n",
       "                                                               15],\n",
       "                         'randomforestclassifier__min_samples_split': [2, 5,\n",
       "                                                                       10],\n",
       "                         'randomforestclassifier__n_estimators': [10, 20, 30,\n",
       "                                                                  40, 50]},\n",
       "             return_train_score=True, scoring='recall')"
      ]
     },
     "execution_count": 73,
     "metadata": {},
     "output_type": "execute_result"
    }
   ],
   "source": [
    "grid_rf_clf.fit(X_train, y_train)"
   ]
  },
  {
   "cell_type": "code",
   "execution_count": 74,
   "metadata": {},
   "outputs": [
    {
     "name": "stdout",
     "output_type": "stream",
     "text": [
      "0.7049801405438436\n",
      "{'randomforestclassifier__max_depth': 7, 'randomforestclassifier__min_samples_split': 10, 'randomforestclassifier__n_estimators': 10}\n"
     ]
    }
   ],
   "source": [
    "print(grid_rf_clf.best_score_)\n",
    "print(grid_rf_clf.best_params_)"
   ]
  },
  {
   "cell_type": "code",
   "execution_count": 115,
   "metadata": {},
   "outputs": [
    {
     "data": {
      "text/plain": [
       "0.3639474488237091"
      ]
     },
     "execution_count": 115,
     "metadata": {},
     "output_type": "execute_result"
    }
   ],
   "source": [
    "# unbalanced sample\n",
    "rf_clf = RandomForestClassifier(criterion='entropy', max_features='log2', random_state=0)\n",
    "rf_parameters = {\n",
    "    'n_estimators': [10, 20, 30, 40, 50],\n",
    "    'max_depth' : [5,7,9,11,13,15],\n",
    "    'min_samples_split': [2, 5, 10]\n",
    "}\n",
    "\n",
    "rf_grid_unbalanced = GridSearchCV(rf_clf, \n",
    "                                  rf_parameters, \n",
    "                                  cv=cv, \n",
    "                                  scoring='recall', \n",
    "                                  return_train_score=True, \n",
    "                                  n_jobs=-1) \\\n",
    "                                    .fit(X_train, y_train)"
   ]
  },
  {
   "cell_type": "code",
   "execution_count": 76,
   "metadata": {},
   "outputs": [
    {
     "name": "stdout",
     "output_type": "stream",
     "text": [
      "0.3639474488237091\n",
      "{'max_depth': 15, 'min_samples_split': 2, 'n_estimators': 50}\n"
     ]
    }
   ],
   "source": [
    "print(rf_grid_unbalanced.best_score_)\n",
    "print(rf_grid_unbalanced.best_params_)"
   ]
  },
  {
   "cell_type": "markdown",
   "metadata": {},
   "source": [
    "### LogisticRegression"
   ]
  },
  {
   "cell_type": "code",
   "execution_count": 77,
   "metadata": {},
   "outputs": [
    {
     "name": "stderr",
     "output_type": "stream",
     "text": [
      "/Users/user/miniforge3/envs/boost_new/lib/python3.10/site-packages/sklearn/linear_model/_logistic.py:458: ConvergenceWarning: lbfgs failed to converge (status=1):\n",
      "STOP: TOTAL NO. of ITERATIONS REACHED LIMIT.\n",
      "\n",
      "Increase the number of iterations (max_iter) or scale the data as shown in:\n",
      "    https://scikit-learn.org/stable/modules/preprocessing.html\n",
      "Please also refer to the documentation for alternative solver options:\n",
      "    https://scikit-learn.org/stable/modules/linear_model.html#logistic-regression\n",
      "  n_iter_i = _check_optimize_result(\n",
      "/Users/user/miniforge3/envs/boost_new/lib/python3.10/site-packages/sklearn/linear_model/_logistic.py:458: ConvergenceWarning: lbfgs failed to converge (status=1):\n",
      "STOP: TOTAL NO. of ITERATIONS REACHED LIMIT.\n",
      "\n",
      "Increase the number of iterations (max_iter) or scale the data as shown in:\n",
      "    https://scikit-learn.org/stable/modules/preprocessing.html\n",
      "Please also refer to the documentation for alternative solver options:\n",
      "    https://scikit-learn.org/stable/modules/linear_model.html#logistic-regression\n",
      "  n_iter_i = _check_optimize_result(\n",
      "/Users/user/miniforge3/envs/boost_new/lib/python3.10/site-packages/sklearn/linear_model/_logistic.py:458: ConvergenceWarning: lbfgs failed to converge (status=1):\n",
      "STOP: TOTAL NO. of ITERATIONS REACHED LIMIT.\n",
      "\n",
      "Increase the number of iterations (max_iter) or scale the data as shown in:\n",
      "    https://scikit-learn.org/stable/modules/preprocessing.html\n",
      "Please also refer to the documentation for alternative solver options:\n",
      "    https://scikit-learn.org/stable/modules/linear_model.html#logistic-regression\n",
      "  n_iter_i = _check_optimize_result(\n",
      "/Users/user/miniforge3/envs/boost_new/lib/python3.10/site-packages/sklearn/linear_model/_logistic.py:458: ConvergenceWarning: lbfgs failed to converge (status=1):\n",
      "STOP: TOTAL NO. of ITERATIONS REACHED LIMIT.\n",
      "\n",
      "Increase the number of iterations (max_iter) or scale the data as shown in:\n",
      "    https://scikit-learn.org/stable/modules/preprocessing.html\n",
      "Please also refer to the documentation for alternative solver options:\n",
      "    https://scikit-learn.org/stable/modules/linear_model.html#logistic-regression\n",
      "  n_iter_i = _check_optimize_result(\n"
     ]
    }
   ],
   "source": [
    "lr_clf_pipeline = make_pipeline(SMOTE(sampling_strategy='auto', random_state=0),\n",
    "                                LogisticRegression(random_state=0))\n",
    "\n",
    "lr_parameters = {\n",
    "    'logisticregression__penalty': ['l1','l2'],\n",
    "    'logisticregression__C': [1, 10, 100, 1000]\n",
    "}\n",
    "\n",
    "grid_lr_clf = GridSearchCV(lr_clf_pipeline, \n",
    "                           lr_parameters, \n",
    "                           cv=cv, \n",
    "                           scoring='recall', \n",
    "                           return_train_score=True, \n",
    "                           n_jobs=-1) \\ \n",
    "                            .fit(X_train, y_train)\n"
   ]
  },
  {
   "cell_type": "code",
   "execution_count": 78,
   "metadata": {},
   "outputs": [
    {
     "name": "stdout",
     "output_type": "stream",
     "text": [
      "0.7190345249007029\n",
      "{'logisticregression__C': 1000, 'logisticregression__penalty': 'l2'}\n"
     ]
    }
   ],
   "source": [
    "print(grid_lr_clf.best_score_)\n",
    "print(grid_lr_clf.best_params_)"
   ]
  },
  {
   "cell_type": "code",
   "execution_count": 79,
   "metadata": {},
   "outputs": [
    {
     "name": "stderr",
     "output_type": "stream",
     "text": [
      "/Users/user/miniforge3/envs/boost_new/lib/python3.10/site-packages/sklearn/linear_model/_logistic.py:458: ConvergenceWarning: lbfgs failed to converge (status=1):\n",
      "STOP: TOTAL NO. of ITERATIONS REACHED LIMIT.\n",
      "\n",
      "Increase the number of iterations (max_iter) or scale the data as shown in:\n",
      "    https://scikit-learn.org/stable/modules/preprocessing.html\n",
      "Please also refer to the documentation for alternative solver options:\n",
      "    https://scikit-learn.org/stable/modules/linear_model.html#logistic-regression\n",
      "  n_iter_i = _check_optimize_result(\n",
      "/Users/user/miniforge3/envs/boost_new/lib/python3.10/site-packages/sklearn/linear_model/_logistic.py:458: ConvergenceWarning: lbfgs failed to converge (status=1):\n",
      "STOP: TOTAL NO. of ITERATIONS REACHED LIMIT.\n",
      "\n",
      "Increase the number of iterations (max_iter) or scale the data as shown in:\n",
      "    https://scikit-learn.org/stable/modules/preprocessing.html\n",
      "Please also refer to the documentation for alternative solver options:\n",
      "    https://scikit-learn.org/stable/modules/linear_model.html#logistic-regression\n",
      "  n_iter_i = _check_optimize_result(\n",
      "/Users/user/miniforge3/envs/boost_new/lib/python3.10/site-packages/sklearn/linear_model/_logistic.py:458: ConvergenceWarning: lbfgs failed to converge (status=1):\n",
      "STOP: TOTAL NO. of ITERATIONS REACHED LIMIT.\n",
      "\n",
      "Increase the number of iterations (max_iter) or scale the data as shown in:\n",
      "    https://scikit-learn.org/stable/modules/preprocessing.html\n",
      "Please also refer to the documentation for alternative solver options:\n",
      "    https://scikit-learn.org/stable/modules/linear_model.html#logistic-regression\n",
      "  n_iter_i = _check_optimize_result(\n",
      "/Users/user/miniforge3/envs/boost_new/lib/python3.10/site-packages/sklearn/linear_model/_logistic.py:458: ConvergenceWarning: lbfgs failed to converge (status=1):\n",
      "STOP: TOTAL NO. of ITERATIONS REACHED LIMIT.\n",
      "\n",
      "Increase the number of iterations (max_iter) or scale the data as shown in:\n",
      "    https://scikit-learn.org/stable/modules/preprocessing.html\n",
      "Please also refer to the documentation for alternative solver options:\n",
      "    https://scikit-learn.org/stable/modules/linear_model.html#logistic-regression\n",
      "  n_iter_i = _check_optimize_result(\n",
      "/Users/user/miniforge3/envs/boost_new/lib/python3.10/site-packages/sklearn/linear_model/_logistic.py:458: ConvergenceWarning: lbfgs failed to converge (status=1):\n",
      "STOP: TOTAL NO. of ITERATIONS REACHED LIMIT.\n",
      "\n",
      "Increase the number of iterations (max_iter) or scale the data as shown in:\n",
      "    https://scikit-learn.org/stable/modules/preprocessing.html\n",
      "Please also refer to the documentation for alternative solver options:\n",
      "    https://scikit-learn.org/stable/modules/linear_model.html#logistic-regression\n",
      "  n_iter_i = _check_optimize_result(\n",
      "/Users/user/miniforge3/envs/boost_new/lib/python3.10/site-packages/sklearn/linear_model/_logistic.py:458: ConvergenceWarning: lbfgs failed to converge (status=1):\n",
      "STOP: TOTAL NO. of ITERATIONS REACHED LIMIT.\n",
      "\n",
      "Increase the number of iterations (max_iter) or scale the data as shown in:\n",
      "    https://scikit-learn.org/stable/modules/preprocessing.html\n",
      "Please also refer to the documentation for alternative solver options:\n",
      "    https://scikit-learn.org/stable/modules/linear_model.html#logistic-regression\n",
      "  n_iter_i = _check_optimize_result(\n",
      "/Users/user/miniforge3/envs/boost_new/lib/python3.10/site-packages/sklearn/linear_model/_logistic.py:458: ConvergenceWarning: lbfgs failed to converge (status=1):\n",
      "STOP: TOTAL NO. of ITERATIONS REACHED LIMIT.\n",
      "\n",
      "Increase the number of iterations (max_iter) or scale the data as shown in:\n",
      "    https://scikit-learn.org/stable/modules/preprocessing.html\n",
      "Please also refer to the documentation for alternative solver options:\n",
      "    https://scikit-learn.org/stable/modules/linear_model.html#logistic-regression\n",
      "  n_iter_i = _check_optimize_result(\n",
      "/Users/user/miniforge3/envs/boost_new/lib/python3.10/site-packages/sklearn/linear_model/_logistic.py:458: ConvergenceWarning: lbfgs failed to converge (status=1):\n",
      "STOP: TOTAL NO. of ITERATIONS REACHED LIMIT.\n",
      "\n",
      "Increase the number of iterations (max_iter) or scale the data as shown in:\n",
      "    https://scikit-learn.org/stable/modules/preprocessing.html\n",
      "Please also refer to the documentation for alternative solver options:\n",
      "    https://scikit-learn.org/stable/modules/linear_model.html#logistic-regression\n",
      "  n_iter_i = _check_optimize_result(\n",
      "/Users/user/miniforge3/envs/boost_new/lib/python3.10/site-packages/sklearn/linear_model/_logistic.py:458: ConvergenceWarning: lbfgs failed to converge (status=1):\n",
      "STOP: TOTAL NO. of ITERATIONS REACHED LIMIT.\n",
      "\n",
      "Increase the number of iterations (max_iter) or scale the data as shown in:\n",
      "    https://scikit-learn.org/stable/modules/preprocessing.html\n",
      "Please also refer to the documentation for alternative solver options:\n",
      "    https://scikit-learn.org/stable/modules/linear_model.html#logistic-regression\n",
      "  n_iter_i = _check_optimize_result(\n",
      "/Users/user/miniforge3/envs/boost_new/lib/python3.10/site-packages/sklearn/linear_model/_logistic.py:458: ConvergenceWarning: lbfgs failed to converge (status=1):\n",
      "STOP: TOTAL NO. of ITERATIONS REACHED LIMIT.\n",
      "\n",
      "Increase the number of iterations (max_iter) or scale the data as shown in:\n",
      "    https://scikit-learn.org/stable/modules/preprocessing.html\n",
      "Please also refer to the documentation for alternative solver options:\n",
      "    https://scikit-learn.org/stable/modules/linear_model.html#logistic-regression\n",
      "  n_iter_i = _check_optimize_result(\n",
      "/Users/user/miniforge3/envs/boost_new/lib/python3.10/site-packages/sklearn/linear_model/_logistic.py:458: ConvergenceWarning: lbfgs failed to converge (status=1):\n",
      "STOP: TOTAL NO. of ITERATIONS REACHED LIMIT.\n",
      "\n",
      "Increase the number of iterations (max_iter) or scale the data as shown in:\n",
      "    https://scikit-learn.org/stable/modules/preprocessing.html\n",
      "Please also refer to the documentation for alternative solver options:\n",
      "    https://scikit-learn.org/stable/modules/linear_model.html#logistic-regression\n",
      "  n_iter_i = _check_optimize_result(\n",
      "/Users/user/miniforge3/envs/boost_new/lib/python3.10/site-packages/sklearn/linear_model/_logistic.py:458: ConvergenceWarning: lbfgs failed to converge (status=1):\n",
      "STOP: TOTAL NO. of ITERATIONS REACHED LIMIT.\n",
      "\n",
      "Increase the number of iterations (max_iter) or scale the data as shown in:\n",
      "    https://scikit-learn.org/stable/modules/preprocessing.html\n",
      "Please also refer to the documentation for alternative solver options:\n",
      "    https://scikit-learn.org/stable/modules/linear_model.html#logistic-regression\n",
      "  n_iter_i = _check_optimize_result(\n",
      "/Users/user/miniforge3/envs/boost_new/lib/python3.10/site-packages/sklearn/linear_model/_logistic.py:458: ConvergenceWarning: lbfgs failed to converge (status=1):\n",
      "STOP: TOTAL NO. of ITERATIONS REACHED LIMIT.\n",
      "\n",
      "Increase the number of iterations (max_iter) or scale the data as shown in:\n",
      "    https://scikit-learn.org/stable/modules/preprocessing.html\n",
      "Please also refer to the documentation for alternative solver options:\n",
      "    https://scikit-learn.org/stable/modules/linear_model.html#logistic-regression\n",
      "  n_iter_i = _check_optimize_result(\n",
      "/Users/user/miniforge3/envs/boost_new/lib/python3.10/site-packages/sklearn/linear_model/_logistic.py:458: ConvergenceWarning: lbfgs failed to converge (status=1):\n",
      "STOP: TOTAL NO. of ITERATIONS REACHED LIMIT.\n",
      "\n",
      "Increase the number of iterations (max_iter) or scale the data as shown in:\n",
      "    https://scikit-learn.org/stable/modules/preprocessing.html\n",
      "Please also refer to the documentation for alternative solver options:\n",
      "    https://scikit-learn.org/stable/modules/linear_model.html#logistic-regression\n",
      "  n_iter_i = _check_optimize_result(\n",
      "/Users/user/miniforge3/envs/boost_new/lib/python3.10/site-packages/sklearn/linear_model/_logistic.py:458: ConvergenceWarning: lbfgs failed to converge (status=1):\n",
      "STOP: TOTAL NO. of ITERATIONS REACHED LIMIT.\n",
      "\n",
      "Increase the number of iterations (max_iter) or scale the data as shown in:\n",
      "    https://scikit-learn.org/stable/modules/preprocessing.html\n",
      "Please also refer to the documentation for alternative solver options:\n",
      "    https://scikit-learn.org/stable/modules/linear_model.html#logistic-regression\n",
      "  n_iter_i = _check_optimize_result(\n",
      "/Users/user/miniforge3/envs/boost_new/lib/python3.10/site-packages/sklearn/linear_model/_logistic.py:458: ConvergenceWarning: lbfgs failed to converge (status=1):\n",
      "STOP: TOTAL NO. of ITERATIONS REACHED LIMIT.\n",
      "\n",
      "Increase the number of iterations (max_iter) or scale the data as shown in:\n",
      "    https://scikit-learn.org/stable/modules/preprocessing.html\n",
      "Please also refer to the documentation for alternative solver options:\n",
      "    https://scikit-learn.org/stable/modules/linear_model.html#logistic-regression\n",
      "  n_iter_i = _check_optimize_result(\n"
     ]
    },
    {
     "name": "stderr",
     "output_type": "stream",
     "text": [
      "/Users/user/miniforge3/envs/boost_new/lib/python3.10/site-packages/sklearn/linear_model/_logistic.py:458: ConvergenceWarning: lbfgs failed to converge (status=1):\n",
      "STOP: TOTAL NO. of ITERATIONS REACHED LIMIT.\n",
      "\n",
      "Increase the number of iterations (max_iter) or scale the data as shown in:\n",
      "    https://scikit-learn.org/stable/modules/preprocessing.html\n",
      "Please also refer to the documentation for alternative solver options:\n",
      "    https://scikit-learn.org/stable/modules/linear_model.html#logistic-regression\n",
      "  n_iter_i = _check_optimize_result(\n",
      "/Users/user/miniforge3/envs/boost_new/lib/python3.10/site-packages/sklearn/linear_model/_logistic.py:458: ConvergenceWarning: lbfgs failed to converge (status=1):\n",
      "STOP: TOTAL NO. of ITERATIONS REACHED LIMIT.\n",
      "\n",
      "Increase the number of iterations (max_iter) or scale the data as shown in:\n",
      "    https://scikit-learn.org/stable/modules/preprocessing.html\n",
      "Please also refer to the documentation for alternative solver options:\n",
      "    https://scikit-learn.org/stable/modules/linear_model.html#logistic-regression\n",
      "  n_iter_i = _check_optimize_result(\n",
      "/Users/user/miniforge3/envs/boost_new/lib/python3.10/site-packages/sklearn/linear_model/_logistic.py:458: ConvergenceWarning: lbfgs failed to converge (status=1):\n",
      "STOP: TOTAL NO. of ITERATIONS REACHED LIMIT.\n",
      "\n",
      "Increase the number of iterations (max_iter) or scale the data as shown in:\n",
      "    https://scikit-learn.org/stable/modules/preprocessing.html\n",
      "Please also refer to the documentation for alternative solver options:\n",
      "    https://scikit-learn.org/stable/modules/linear_model.html#logistic-regression\n",
      "  n_iter_i = _check_optimize_result(\n",
      "/Users/user/miniforge3/envs/boost_new/lib/python3.10/site-packages/sklearn/linear_model/_logistic.py:458: ConvergenceWarning: lbfgs failed to converge (status=1):\n",
      "STOP: TOTAL NO. of ITERATIONS REACHED LIMIT.\n",
      "\n",
      "Increase the number of iterations (max_iter) or scale the data as shown in:\n",
      "    https://scikit-learn.org/stable/modules/preprocessing.html\n",
      "Please also refer to the documentation for alternative solver options:\n",
      "    https://scikit-learn.org/stable/modules/linear_model.html#logistic-regression\n",
      "  n_iter_i = _check_optimize_result(\n",
      "/Users/user/miniforge3/envs/boost_new/lib/python3.10/site-packages/sklearn/linear_model/_logistic.py:458: ConvergenceWarning: lbfgs failed to converge (status=1):\n",
      "STOP: TOTAL NO. of ITERATIONS REACHED LIMIT.\n",
      "\n",
      "Increase the number of iterations (max_iter) or scale the data as shown in:\n",
      "    https://scikit-learn.org/stable/modules/preprocessing.html\n",
      "Please also refer to the documentation for alternative solver options:\n",
      "    https://scikit-learn.org/stable/modules/linear_model.html#logistic-regression\n",
      "  n_iter_i = _check_optimize_result(\n",
      "/Users/user/miniforge3/envs/boost_new/lib/python3.10/site-packages/sklearn/linear_model/_logistic.py:458: ConvergenceWarning: lbfgs failed to converge (status=1):\n",
      "STOP: TOTAL NO. of ITERATIONS REACHED LIMIT.\n",
      "\n",
      "Increase the number of iterations (max_iter) or scale the data as shown in:\n",
      "    https://scikit-learn.org/stable/modules/preprocessing.html\n",
      "Please also refer to the documentation for alternative solver options:\n",
      "    https://scikit-learn.org/stable/modules/linear_model.html#logistic-regression\n",
      "  n_iter_i = _check_optimize_result(\n",
      "/Users/user/miniforge3/envs/boost_new/lib/python3.10/site-packages/sklearn/linear_model/_logistic.py:458: ConvergenceWarning: lbfgs failed to converge (status=1):\n",
      "STOP: TOTAL NO. of ITERATIONS REACHED LIMIT.\n",
      "\n",
      "Increase the number of iterations (max_iter) or scale the data as shown in:\n",
      "    https://scikit-learn.org/stable/modules/preprocessing.html\n",
      "Please also refer to the documentation for alternative solver options:\n",
      "    https://scikit-learn.org/stable/modules/linear_model.html#logistic-regression\n",
      "  n_iter_i = _check_optimize_result(\n",
      "/Users/user/miniforge3/envs/boost_new/lib/python3.10/site-packages/sklearn/linear_model/_logistic.py:458: ConvergenceWarning: lbfgs failed to converge (status=1):\n",
      "STOP: TOTAL NO. of ITERATIONS REACHED LIMIT.\n",
      "\n",
      "Increase the number of iterations (max_iter) or scale the data as shown in:\n",
      "    https://scikit-learn.org/stable/modules/preprocessing.html\n",
      "Please also refer to the documentation for alternative solver options:\n",
      "    https://scikit-learn.org/stable/modules/linear_model.html#logistic-regression\n",
      "  n_iter_i = _check_optimize_result(\n",
      "/Users/user/miniforge3/envs/boost_new/lib/python3.10/site-packages/sklearn/linear_model/_logistic.py:458: ConvergenceWarning: lbfgs failed to converge (status=1):\n",
      "STOP: TOTAL NO. of ITERATIONS REACHED LIMIT.\n",
      "\n",
      "Increase the number of iterations (max_iter) or scale the data as shown in:\n",
      "    https://scikit-learn.org/stable/modules/preprocessing.html\n",
      "Please also refer to the documentation for alternative solver options:\n",
      "    https://scikit-learn.org/stable/modules/linear_model.html#logistic-regression\n",
      "  n_iter_i = _check_optimize_result(\n",
      "/Users/user/miniforge3/envs/boost_new/lib/python3.10/site-packages/sklearn/linear_model/_logistic.py:458: ConvergenceWarning: lbfgs failed to converge (status=1):\n",
      "STOP: TOTAL NO. of ITERATIONS REACHED LIMIT.\n",
      "\n",
      "Increase the number of iterations (max_iter) or scale the data as shown in:\n",
      "    https://scikit-learn.org/stable/modules/preprocessing.html\n",
      "Please also refer to the documentation for alternative solver options:\n",
      "    https://scikit-learn.org/stable/modules/linear_model.html#logistic-regression\n",
      "  n_iter_i = _check_optimize_result(\n",
      "/Users/user/miniforge3/envs/boost_new/lib/python3.10/site-packages/sklearn/linear_model/_logistic.py:458: ConvergenceWarning: lbfgs failed to converge (status=1):\n",
      "STOP: TOTAL NO. of ITERATIONS REACHED LIMIT.\n",
      "\n",
      "Increase the number of iterations (max_iter) or scale the data as shown in:\n",
      "    https://scikit-learn.org/stable/modules/preprocessing.html\n",
      "Please also refer to the documentation for alternative solver options:\n",
      "    https://scikit-learn.org/stable/modules/linear_model.html#logistic-regression\n",
      "  n_iter_i = _check_optimize_result(\n",
      "/Users/user/miniforge3/envs/boost_new/lib/python3.10/site-packages/sklearn/linear_model/_logistic.py:458: ConvergenceWarning: lbfgs failed to converge (status=1):\n",
      "STOP: TOTAL NO. of ITERATIONS REACHED LIMIT.\n",
      "\n",
      "Increase the number of iterations (max_iter) or scale the data as shown in:\n",
      "    https://scikit-learn.org/stable/modules/preprocessing.html\n",
      "Please also refer to the documentation for alternative solver options:\n",
      "    https://scikit-learn.org/stable/modules/linear_model.html#logistic-regression\n",
      "  n_iter_i = _check_optimize_result(\n",
      "/Users/user/miniforge3/envs/boost_new/lib/python3.10/site-packages/sklearn/linear_model/_logistic.py:458: ConvergenceWarning: lbfgs failed to converge (status=1):\n",
      "STOP: TOTAL NO. of ITERATIONS REACHED LIMIT.\n",
      "\n",
      "Increase the number of iterations (max_iter) or scale the data as shown in:\n",
      "    https://scikit-learn.org/stable/modules/preprocessing.html\n",
      "Please also refer to the documentation for alternative solver options:\n",
      "    https://scikit-learn.org/stable/modules/linear_model.html#logistic-regression\n",
      "  n_iter_i = _check_optimize_result(\n",
      "/Users/user/miniforge3/envs/boost_new/lib/python3.10/site-packages/sklearn/linear_model/_logistic.py:458: ConvergenceWarning: lbfgs failed to converge (status=1):\n",
      "STOP: TOTAL NO. of ITERATIONS REACHED LIMIT.\n",
      "\n",
      "Increase the number of iterations (max_iter) or scale the data as shown in:\n",
      "    https://scikit-learn.org/stable/modules/preprocessing.html\n",
      "Please also refer to the documentation for alternative solver options:\n",
      "    https://scikit-learn.org/stable/modules/linear_model.html#logistic-regression\n",
      "  n_iter_i = _check_optimize_result(\n",
      "/Users/user/miniforge3/envs/boost_new/lib/python3.10/site-packages/sklearn/linear_model/_logistic.py:458: ConvergenceWarning: lbfgs failed to converge (status=1):\n",
      "STOP: TOTAL NO. of ITERATIONS REACHED LIMIT.\n",
      "\n",
      "Increase the number of iterations (max_iter) or scale the data as shown in:\n",
      "    https://scikit-learn.org/stable/modules/preprocessing.html\n",
      "Please also refer to the documentation for alternative solver options:\n",
      "    https://scikit-learn.org/stable/modules/linear_model.html#logistic-regression\n",
      "  n_iter_i = _check_optimize_result(\n",
      "/Users/user/miniforge3/envs/boost_new/lib/python3.10/site-packages/sklearn/linear_model/_logistic.py:458: ConvergenceWarning: lbfgs failed to converge (status=1):\n",
      "STOP: TOTAL NO. of ITERATIONS REACHED LIMIT.\n",
      "\n",
      "Increase the number of iterations (max_iter) or scale the data as shown in:\n",
      "    https://scikit-learn.org/stable/modules/preprocessing.html\n",
      "Please also refer to the documentation for alternative solver options:\n",
      "    https://scikit-learn.org/stable/modules/linear_model.html#logistic-regression\n",
      "  n_iter_i = _check_optimize_result(\n",
      "/Users/user/miniforge3/envs/boost_new/lib/python3.10/site-packages/sklearn/linear_model/_logistic.py:458: ConvergenceWarning: lbfgs failed to converge (status=1):\n",
      "STOP: TOTAL NO. of ITERATIONS REACHED LIMIT.\n",
      "\n",
      "Increase the number of iterations (max_iter) or scale the data as shown in:\n",
      "    https://scikit-learn.org/stable/modules/preprocessing.html\n",
      "Please also refer to the documentation for alternative solver options:\n",
      "    https://scikit-learn.org/stable/modules/linear_model.html#logistic-regression\n",
      "  n_iter_i = _check_optimize_result(\n",
      "/Users/user/miniforge3/envs/boost_new/lib/python3.10/site-packages/sklearn/linear_model/_logistic.py:458: ConvergenceWarning: lbfgs failed to converge (status=1):\n",
      "STOP: TOTAL NO. of ITERATIONS REACHED LIMIT.\n",
      "\n",
      "Increase the number of iterations (max_iter) or scale the data as shown in:\n",
      "    https://scikit-learn.org/stable/modules/preprocessing.html\n",
      "Please also refer to the documentation for alternative solver options:\n",
      "    https://scikit-learn.org/stable/modules/linear_model.html#logistic-regression\n",
      "  n_iter_i = _check_optimize_result(\n"
     ]
    },
    {
     "name": "stderr",
     "output_type": "stream",
     "text": [
      "/Users/user/miniforge3/envs/boost_new/lib/python3.10/site-packages/sklearn/linear_model/_logistic.py:458: ConvergenceWarning: lbfgs failed to converge (status=1):\n",
      "STOP: TOTAL NO. of ITERATIONS REACHED LIMIT.\n",
      "\n",
      "Increase the number of iterations (max_iter) or scale the data as shown in:\n",
      "    https://scikit-learn.org/stable/modules/preprocessing.html\n",
      "Please also refer to the documentation for alternative solver options:\n",
      "    https://scikit-learn.org/stable/modules/linear_model.html#logistic-regression\n",
      "  n_iter_i = _check_optimize_result(\n",
      "/Users/user/miniforge3/envs/boost_new/lib/python3.10/site-packages/sklearn/linear_model/_logistic.py:458: ConvergenceWarning: lbfgs failed to converge (status=1):\n",
      "STOP: TOTAL NO. of ITERATIONS REACHED LIMIT.\n",
      "\n",
      "Increase the number of iterations (max_iter) or scale the data as shown in:\n",
      "    https://scikit-learn.org/stable/modules/preprocessing.html\n",
      "Please also refer to the documentation for alternative solver options:\n",
      "    https://scikit-learn.org/stable/modules/linear_model.html#logistic-regression\n",
      "  n_iter_i = _check_optimize_result(\n",
      "/Users/user/miniforge3/envs/boost_new/lib/python3.10/site-packages/sklearn/linear_model/_logistic.py:458: ConvergenceWarning: lbfgs failed to converge (status=1):\n",
      "STOP: TOTAL NO. of ITERATIONS REACHED LIMIT.\n",
      "\n",
      "Increase the number of iterations (max_iter) or scale the data as shown in:\n",
      "    https://scikit-learn.org/stable/modules/preprocessing.html\n",
      "Please also refer to the documentation for alternative solver options:\n",
      "    https://scikit-learn.org/stable/modules/linear_model.html#logistic-regression\n",
      "  n_iter_i = _check_optimize_result(\n",
      "/Users/user/miniforge3/envs/boost_new/lib/python3.10/site-packages/sklearn/linear_model/_logistic.py:458: ConvergenceWarning: lbfgs failed to converge (status=1):\n",
      "STOP: TOTAL NO. of ITERATIONS REACHED LIMIT.\n",
      "\n",
      "Increase the number of iterations (max_iter) or scale the data as shown in:\n",
      "    https://scikit-learn.org/stable/modules/preprocessing.html\n",
      "Please also refer to the documentation for alternative solver options:\n",
      "    https://scikit-learn.org/stable/modules/linear_model.html#logistic-regression\n",
      "  n_iter_i = _check_optimize_result(\n",
      "/Users/user/miniforge3/envs/boost_new/lib/python3.10/site-packages/sklearn/linear_model/_logistic.py:458: ConvergenceWarning: lbfgs failed to converge (status=1):\n",
      "STOP: TOTAL NO. of ITERATIONS REACHED LIMIT.\n",
      "\n",
      "Increase the number of iterations (max_iter) or scale the data as shown in:\n",
      "    https://scikit-learn.org/stable/modules/preprocessing.html\n",
      "Please also refer to the documentation for alternative solver options:\n",
      "    https://scikit-learn.org/stable/modules/linear_model.html#logistic-regression\n",
      "  n_iter_i = _check_optimize_result(\n"
     ]
    }
   ],
   "source": [
    "lr_clf_unbalaced = LogisticRegression(random_state=0)\n",
    "\n",
    "lr_parameters_unbalanced = {\n",
    "    'penalty': ['l1','l2'],\n",
    "    'C': [1, 10, 100, 1000]\n",
    "}\n",
    "\n",
    "\n",
    "grid_lr_clf_unbalanced = GridSearchCV(lr_clf_unbalaced, \n",
    "                                      lr_parameters_unbalanced, \n",
    "                                      cv=cv, \n",
    "                                      scoring='recall', \n",
    "                                      return_train_score=True, \n",
    "                                      n_jobs=-1) \\ \n",
    "                                        .fit(X_train, y_train)"
   ]
  },
  {
   "cell_type": "code",
   "execution_count": 80,
   "metadata": {},
   "outputs": [
    {
     "name": "stdout",
     "output_type": "stream",
     "text": [
      "0.21527650473571647\n",
      "{'C': 100, 'penalty': 'l2'}\n"
     ]
    }
   ],
   "source": [
    "print(grid_lr_clf_unbalanced.best_score_)\n",
    "print(grid_lr_clf_unbalanced.best_params_)"
   ]
  },
  {
   "cell_type": "markdown",
   "metadata": {},
   "source": [
    "**Best Model** - DesicionTreeClassifier с 'max_depth': 7, min_samples_split': 7"
   ]
  },
  {
   "cell_type": "markdown",
   "metadata": {},
   "source": [
    "## Test"
   ]
  },
  {
   "cell_type": "code",
   "execution_count": 81,
   "metadata": {},
   "outputs": [],
   "source": [
    "best_clf = grid_dt_clf.best_estimator_"
   ]
  },
  {
   "cell_type": "code",
   "execution_count": 82,
   "metadata": {},
   "outputs": [],
   "source": [
    "X_test = test_data.drop(['is_canceled', 'season_coef', 'clean_cost', 'room_cost', 'total_nights'], axis=1)\n",
    "y_test = test_data['is_canceled']\n",
    "X_test[numeric] = scaler.transform(X_test[numeric])"
   ]
  },
  {
   "cell_type": "code",
   "execution_count": 83,
   "metadata": {},
   "outputs": [
    {
     "name": "stdout",
     "output_type": "stream",
     "text": [
      "recall: 0.4486574106702375\n",
      "accuracy: 0.6195374900681637\n"
     ]
    }
   ],
   "source": [
    "predictions = best_clf.predict(X_test)\n",
    "print(\"recall:\", recall_score(predictions, y_test))\n",
    "print(\"accuracy:\", accuracy_score(predictions, y_test))"
   ]
  },
  {
   "cell_type": "code",
   "execution_count": 84,
   "metadata": {},
   "outputs": [],
   "source": [
    "test_data['Predict_cancelation'] = predictions"
   ]
  },
  {
   "cell_type": "code",
   "execution_count": 85,
   "metadata": {},
   "outputs": [],
   "source": [
    "test_data['Revenue_true'] = test_data.apply(lambda x: revenue(x['is_canceled'], \n",
    "                                                              x['season_coef'], \n",
    "                                                              x['total_nights'], \n",
    "                                                              x['room_cost'], \n",
    "                                                              x['clean_cost']), axis=1)"
   ]
  },
  {
   "cell_type": "code",
   "execution_count": 86,
   "metadata": {},
   "outputs": [],
   "source": [
    "def revenue_model(is_canceled, predict, revenue):\n",
    "\n",
    "    if is_canceled == 1 and predict == 1:\n",
    "        revenue_predict = revenue * 0.2\n",
    "    else:\n",
    "        revenue_predict = revenue\n",
    " \n",
    "    return revenue_predict"
   ]
  },
  {
   "cell_type": "code",
   "execution_count": 87,
   "metadata": {},
   "outputs": [],
   "source": [
    "test_data['Revenue_predict'] = test_data.apply(lambda x: revenue_model(x['is_canceled'], \n",
    "                                                                       x['Predict_cancelation'], \n",
    "                                                                       x['Revenue_true']), axis=1)"
   ]
  },
  {
   "cell_type": "code",
   "execution_count": 88,
   "metadata": {},
   "outputs": [
    {
     "name": "stdout",
     "output_type": "stream",
     "text": [
      "Predicted revenur = 34247092 руб.\n",
      "Profit without model= 28112380 руб.\n"
     ]
    }
   ],
   "source": [
    "print('Predicted revenur = {:.0f} руб.'.format(sum(test_data['Revenue_predict'])- 400000))\n",
    "print('Profit without model= {:.0f} руб.'.format(sum(test_data['Revenue_true'])))"
   ]
  },
  {
   "cell_type": "markdown",
   "metadata": {},
   "source": [
    "## Unreliable client"
   ]
  },
  {
   "cell_type": "markdown",
   "metadata": {},
   "source": [
    "Highlight the properties that affect the model the most."
   ]
  },
  {
   "cell_type": "code",
   "execution_count": 116,
   "metadata": {},
   "outputs": [
    {
     "data": {
      "text/plain": [
       "<AxesSubplot: >"
      ]
     },
     "execution_count": 116,
     "metadata": {},
     "output_type": "execute_result"
    },
    {
     "data": {
      "image/png": "[encoded data removed]",
      "text/plain": [
       "<Figure size 1200x700 with 1 Axes>"
      ]
     },
     "metadata": {},
     "output_type": "display_data"
    }
   ],
   "source": [
    "feature_importance_rfc = pd.DataFrame(grid_rf_clf.best_estimator_._final_estimator.feature_importances_,\n",
    "                                      index=X_train.columns, \n",
    "                                      columns=['importance'])\n",
    "feature_importance_rfc.sort_values('importance').plot(kind='barh', figsize=(12, 7))"
   ]
  },
  {
   "cell_type": "markdown",
   "metadata": {},
   "source": [
    "Take the first 4 to describe the \"unreliable\" client."
   ]
  },
  {
   "cell_type": "code",
   "execution_count": 101,
   "metadata": {},
   "outputs": [
    {
     "data": {
      "text/html": [
       "<div>\n",
       "<style scoped>\n",
       "    .dataframe tbody tr th:only-of-type {\n",
       "        vertical-align: middle;\n",
       "    }\n",
       "\n",
       "    .dataframe tbody tr th {\n",
       "        vertical-align: top;\n",
       "    }\n",
       "\n",
       "    .dataframe thead th {\n",
       "        text-align: right;\n",
       "    }\n",
       "</style>\n",
       "<table border=\"1\" class=\"dataframe\">\n",
       "  <thead>\n",
       "    <tr style=\"text-align: right;\">\n",
       "      <th></th>\n",
       "      <th>lead_time</th>\n",
       "      <th>is_canceled</th>\n",
       "    </tr>\n",
       "  </thead>\n",
       "  <tbody>\n",
       "    <tr>\n",
       "      <th>368</th>\n",
       "      <td>374.0</td>\n",
       "      <td>1.0</td>\n",
       "    </tr>\n",
       "    <tr>\n",
       "      <th>344</th>\n",
       "      <td>344.0</td>\n",
       "      <td>1.0</td>\n",
       "    </tr>\n",
       "    <tr>\n",
       "      <th>366</th>\n",
       "      <td>372.0</td>\n",
       "      <td>1.0</td>\n",
       "    </tr>\n",
       "    <tr>\n",
       "      <th>365</th>\n",
       "      <td>367.0</td>\n",
       "      <td>1.0</td>\n",
       "    </tr>\n",
       "    <tr>\n",
       "      <th>360</th>\n",
       "      <td>361.0</td>\n",
       "      <td>1.0</td>\n",
       "    </tr>\n",
       "    <tr>\n",
       "      <th>...</th>\n",
       "      <td>...</td>\n",
       "      <td>...</td>\n",
       "    </tr>\n",
       "    <tr>\n",
       "      <th>352</th>\n",
       "      <td>352.0</td>\n",
       "      <td>0.0</td>\n",
       "    </tr>\n",
       "    <tr>\n",
       "      <th>361</th>\n",
       "      <td>362.0</td>\n",
       "      <td>0.0</td>\n",
       "    </tr>\n",
       "    <tr>\n",
       "      <th>340</th>\n",
       "      <td>340.0</td>\n",
       "      <td>0.0</td>\n",
       "    </tr>\n",
       "    <tr>\n",
       "      <th>306</th>\n",
       "      <td>306.0</td>\n",
       "      <td>0.0</td>\n",
       "    </tr>\n",
       "    <tr>\n",
       "      <th>367</th>\n",
       "      <td>373.0</td>\n",
       "      <td>0.0</td>\n",
       "    </tr>\n",
       "  </tbody>\n",
       "</table>\n",
       "<p>369 rows × 2 columns</p>\n",
       "</div>"
      ],
      "text/plain": [
       "     lead_time  is_canceled\n",
       "368      374.0          1.0\n",
       "344      344.0          1.0\n",
       "366      372.0          1.0\n",
       "365      367.0          1.0\n",
       "360      361.0          1.0\n",
       "..         ...          ...\n",
       "352      352.0          0.0\n",
       "361      362.0          0.0\n",
       "340      340.0          0.0\n",
       "306      306.0          0.0\n",
       "367      373.0          0.0\n",
       "\n",
       "[369 rows x 2 columns]"
      ]
     },
     "execution_count": 101,
     "metadata": {},
     "output_type": "execute_result"
    }
   ],
   "source": [
    "train_data[['lead_time', 'is_canceled']] \\\n",
    "    .groupby(['lead_time'], as_index=False) \\\n",
    "    .mean() \\\n",
    "    .sort_values(by='is_canceled', ascending=False)"
   ]
  },
  {
   "cell_type": "code",
   "execution_count": 102,
   "metadata": {},
   "outputs": [
    {
     "data": {
      "text/html": [
       "<div>\n",
       "<style scoped>\n",
       "    .dataframe tbody tr th:only-of-type {\n",
       "        vertical-align: middle;\n",
       "    }\n",
       "\n",
       "    .dataframe tbody tr th {\n",
       "        vertical-align: top;\n",
       "    }\n",
       "\n",
       "    .dataframe thead th {\n",
       "        text-align: right;\n",
       "    }\n",
       "</style>\n",
       "<table border=\"1\" class=\"dataframe\">\n",
       "  <thead>\n",
       "    <tr style=\"text-align: right;\">\n",
       "      <th></th>\n",
       "      <th>previous_cancellations</th>\n",
       "      <th>is_canceled</th>\n",
       "    </tr>\n",
       "  </thead>\n",
       "  <tbody>\n",
       "    <tr>\n",
       "      <th>1</th>\n",
       "      <td>1</td>\n",
       "      <td>0.880536</td>\n",
       "    </tr>\n",
       "    <tr>\n",
       "      <th>3</th>\n",
       "      <td>3</td>\n",
       "      <td>0.625000</td>\n",
       "    </tr>\n",
       "    <tr>\n",
       "      <th>2</th>\n",
       "      <td>2</td>\n",
       "      <td>0.558824</td>\n",
       "    </tr>\n",
       "    <tr>\n",
       "      <th>4</th>\n",
       "      <td>4</td>\n",
       "      <td>0.500000</td>\n",
       "    </tr>\n",
       "    <tr>\n",
       "      <th>5</th>\n",
       "      <td>5</td>\n",
       "      <td>0.500000</td>\n",
       "    </tr>\n",
       "    <tr>\n",
       "      <th>0</th>\n",
       "      <td>0</td>\n",
       "      <td>0.243798</td>\n",
       "    </tr>\n",
       "  </tbody>\n",
       "</table>\n",
       "</div>"
      ],
      "text/plain": [
       "   previous_cancellations  is_canceled\n",
       "1                       1     0.880536\n",
       "3                       3     0.625000\n",
       "2                       2     0.558824\n",
       "4                       4     0.500000\n",
       "5                       5     0.500000\n",
       "0                       0     0.243798"
      ]
     },
     "execution_count": 102,
     "metadata": {},
     "output_type": "execute_result"
    }
   ],
   "source": [
    "train_data[['previous_cancellations', 'is_canceled']] \\\n",
    "    .groupby(['previous_cancellations'], as_index=False) \\\n",
    "    .mean() \\\n",
    "    .sort_values(by='is_canceled', ascending=False)"
   ]
  },
  {
   "cell_type": "code",
   "execution_count": 92,
   "metadata": {},
   "outputs": [
    {
     "data": {
      "text/html": [
       "<div>\n",
       "<style scoped>\n",
       "    .dataframe tbody tr th:only-of-type {\n",
       "        vertical-align: middle;\n",
       "    }\n",
       "\n",
       "    .dataframe tbody tr th {\n",
       "        vertical-align: top;\n",
       "    }\n",
       "\n",
       "    .dataframe thead th {\n",
       "        text-align: right;\n",
       "    }\n",
       "</style>\n",
       "<table border=\"1\" class=\"dataframe\">\n",
       "  <thead>\n",
       "    <tr style=\"text-align: right;\">\n",
       "      <th></th>\n",
       "      <th>total_of_special_requests</th>\n",
       "      <th>is_canceled</th>\n",
       "    </tr>\n",
       "  </thead>\n",
       "  <tbody>\n",
       "    <tr>\n",
       "      <th>0</th>\n",
       "      <td>0</td>\n",
       "      <td>0.329172</td>\n",
       "    </tr>\n",
       "    <tr>\n",
       "      <th>3</th>\n",
       "      <td>3</td>\n",
       "      <td>0.191766</td>\n",
       "    </tr>\n",
       "    <tr>\n",
       "      <th>1</th>\n",
       "      <td>1</td>\n",
       "      <td>0.188441</td>\n",
       "    </tr>\n",
       "    <tr>\n",
       "      <th>2</th>\n",
       "      <td>2</td>\n",
       "      <td>0.184280</td>\n",
       "    </tr>\n",
       "    <tr>\n",
       "      <th>4</th>\n",
       "      <td>4</td>\n",
       "      <td>0.112245</td>\n",
       "    </tr>\n",
       "    <tr>\n",
       "      <th>5</th>\n",
       "      <td>5</td>\n",
       "      <td>0.000000</td>\n",
       "    </tr>\n",
       "  </tbody>\n",
       "</table>\n",
       "</div>"
      ],
      "text/plain": [
       "   total_of_special_requests  is_canceled\n",
       "0                          0     0.329172\n",
       "3                          3     0.191766\n",
       "1                          1     0.188441\n",
       "2                          2     0.184280\n",
       "4                          4     0.112245\n",
       "5                          5     0.000000"
      ]
     },
     "execution_count": 92,
     "metadata": {},
     "output_type": "execute_result"
    }
   ],
   "source": [
    "train_data[['total_of_special_requests', 'is_canceled']] \\\n",
    "    .groupby(['total_of_special_requests'], as_index=False) \\\n",
    "    .mean() \\\n",
    "    .sort_values(by='is_canceled', ascending=False)"
   ]
  },
  {
   "cell_type": "code",
   "execution_count": 93,
   "metadata": {},
   "outputs": [
    {
     "data": {
      "text/html": [
       "<div>\n",
       "<style scoped>\n",
       "    .dataframe tbody tr th:only-of-type {\n",
       "        vertical-align: middle;\n",
       "    }\n",
       "\n",
       "    .dataframe tbody tr th {\n",
       "        vertical-align: top;\n",
       "    }\n",
       "\n",
       "    .dataframe thead th {\n",
       "        text-align: right;\n",
       "    }\n",
       "</style>\n",
       "<table border=\"1\" class=\"dataframe\">\n",
       "  <thead>\n",
       "    <tr style=\"text-align: right;\">\n",
       "      <th></th>\n",
       "      <th>customer_type</th>\n",
       "      <th>is_canceled</th>\n",
       "    </tr>\n",
       "  </thead>\n",
       "  <tbody>\n",
       "    <tr>\n",
       "      <th>0</th>\n",
       "      <td>0</td>\n",
       "      <td>0.279407</td>\n",
       "    </tr>\n",
       "    <tr>\n",
       "      <th>2</th>\n",
       "      <td>2</td>\n",
       "      <td>0.197312</td>\n",
       "    </tr>\n",
       "    <tr>\n",
       "      <th>1</th>\n",
       "      <td>1</td>\n",
       "      <td>0.170756</td>\n",
       "    </tr>\n",
       "    <tr>\n",
       "      <th>3</th>\n",
       "      <td>3</td>\n",
       "      <td>0.074803</td>\n",
       "    </tr>\n",
       "  </tbody>\n",
       "</table>\n",
       "</div>"
      ],
      "text/plain": [
       "   customer_type  is_canceled\n",
       "0              0     0.279407\n",
       "2              2     0.197312\n",
       "1              1     0.170756\n",
       "3              3     0.074803"
      ]
     },
     "execution_count": 93,
     "metadata": {},
     "output_type": "execute_result"
    }
   ],
   "source": [
    "train_data[['customer_type', 'is_canceled']] \\\n",
    "    .groupby(['customer_type'], as_index=False) \\\n",
    "    .mean() \\\n",
    "    .sort_values(by='is_canceled', ascending=False)"
   ]
  },
  {
   "cell_type": "code",
   "execution_count": 94,
   "metadata": {},
   "outputs": [
    {
     "data": {
      "text/html": [
       "<div>\n",
       "<style scoped>\n",
       "    .dataframe tbody tr th:only-of-type {\n",
       "        vertical-align: middle;\n",
       "    }\n",
       "\n",
       "    .dataframe tbody tr th {\n",
       "        vertical-align: top;\n",
       "    }\n",
       "\n",
       "    .dataframe thead th {\n",
       "        text-align: right;\n",
       "    }\n",
       "</style>\n",
       "<table border=\"1\" class=\"dataframe\">\n",
       "  <thead>\n",
       "    <tr style=\"text-align: right;\">\n",
       "      <th></th>\n",
       "      <th>required_car_parking_spaces</th>\n",
       "      <th>is_canceled</th>\n",
       "    </tr>\n",
       "  </thead>\n",
       "  <tbody>\n",
       "    <tr>\n",
       "      <th>0</th>\n",
       "      <td>0</td>\n",
       "      <td>0.282291</td>\n",
       "    </tr>\n",
       "    <tr>\n",
       "      <th>1</th>\n",
       "      <td>1</td>\n",
       "      <td>0.000000</td>\n",
       "    </tr>\n",
       "    <tr>\n",
       "      <th>2</th>\n",
       "      <td>2</td>\n",
       "      <td>0.000000</td>\n",
       "    </tr>\n",
       "    <tr>\n",
       "      <th>3</th>\n",
       "      <td>3</td>\n",
       "      <td>0.000000</td>\n",
       "    </tr>\n",
       "  </tbody>\n",
       "</table>\n",
       "</div>"
      ],
      "text/plain": [
       "   required_car_parking_spaces  is_canceled\n",
       "0                            0     0.282291\n",
       "1                            1     0.000000\n",
       "2                            2     0.000000\n",
       "3                            3     0.000000"
      ]
     },
     "execution_count": 94,
     "metadata": {},
     "output_type": "execute_result"
    }
   ],
   "source": [
    "train_data[['required_car_parking_spaces', 'is_canceled']] \\\n",
    "    .groupby(['required_car_parking_spaces'], as_index=False) \\\n",
    "    .mean() \\\n",
    "    .sort_values(by='is_canceled', ascending=False)"
   ]
  },
  {
   "cell_type": "markdown",
   "metadata": {},
   "source": [
    "**Unwanted customer:**\n",
    "- book a hotel well in advance\n",
    "- already canceled the booking more than once\n",
    "- leaves no special requests\n",
    "- travels alone or for work\n",
    "- traveling without a car"
   ]
  },
  {
   "cell_type": "markdown",
   "metadata": {},
   "source": [
    "## Conclusions"
   ]
  },
  {
   "cell_type": "markdown",
   "metadata": {},
   "source": [
    "1. Conducted an exploratory data analysis, checked for missing values, duplicates.\n",
    "\n",
    "\n",
    "2. Pre-processed data: removed unnecessary columns, brought categorical properties from string to numeric types\n",
    "\n",
    "\n",
    "3. We estimated the profit of the training dataset - 141135098 rubles.\n",
    "\n",
    "\n",
    "4. Trained several models to predict cancellations. The best model is DesicionTree, with a recall metric value of 0.74\n",
    "5. Calculate profits based on the model's prediction, taking into account the deposit, and compare with real data with the calculation of profits in the usual way. The use of deposits can significantly reduce costs. And even taking into account the cost of the model, the hotel still wins.\n",
    "6. Defined trigger properties for a guest canceling a booking."
   ]
  },
  {
   "cell_type": "code",
   "execution_count": null,
   "metadata": {},
   "outputs": [],
   "source": []
  }
 ],
 "metadata": {
  "ExecuteTimeLog": [
   {
    "duration": 1166,
    "start_time": "2022-07-14T16:46:09.466Z"
   },
   {
    "duration": 9356,
    "start_time": "2022-07-14T16:46:23.699Z"
   },
   {
    "duration": 3693,
    "start_time": "2022-07-14T16:46:33.058Z"
   },
   {
    "duration": 34,
    "start_time": "2022-07-14T16:46:40.498Z"
   },
   {
    "duration": 1631,
    "start_time": "2022-07-14T16:46:52.853Z"
   },
   {
    "duration": 146,
    "start_time": "2022-07-14T16:46:55.645Z"
   },
   {
    "duration": 513,
    "start_time": "2022-07-14T16:47:39.356Z"
   },
   {
    "duration": 24,
    "start_time": "2022-07-14T16:47:43.948Z"
   },
   {
    "duration": 30,
    "start_time": "2022-07-14T16:47:45.300Z"
   },
   {
    "duration": 21,
    "start_time": "2022-07-14T16:47:46.454Z"
   },
   {
    "duration": 3,
    "start_time": "2022-07-14T16:47:47.212Z"
   },
   {
    "duration": 4,
    "start_time": "2022-07-14T16:47:50.041Z"
   },
   {
    "duration": 25887,
    "start_time": "2022-07-14T16:47:51.667Z"
   },
   {
    "duration": 307,
    "start_time": "2022-07-14T16:48:19.338Z"
   },
   {
    "duration": 16,
    "start_time": "2022-07-14T16:48:32.994Z"
   },
   {
    "duration": 4,
    "start_time": "2022-07-14T16:48:33.828Z"
   },
   {
    "duration": 47,
    "start_time": "2022-07-14T16:48:35.209Z"
   },
   {
    "duration": 23,
    "start_time": "2022-07-14T16:48:36.594Z"
   },
   {
    "duration": 28,
    "start_time": "2022-07-14T16:48:37.306Z"
   },
   {
    "duration": 11,
    "start_time": "2022-07-14T16:48:38.681Z"
   },
   {
    "duration": 11,
    "start_time": "2022-07-14T16:48:39.353Z"
   },
   {
    "duration": 7,
    "start_time": "2022-07-14T16:48:39.946Z"
   },
   {
    "duration": 39,
    "start_time": "2022-07-14T16:48:40.760Z"
   },
   {
    "duration": 10,
    "start_time": "2022-07-14T16:48:41.716Z"
   },
   {
    "duration": 10,
    "start_time": "2022-07-14T16:48:41.802Z"
   },
   {
    "duration": 7,
    "start_time": "2022-07-14T16:48:42.625Z"
   },
   {
    "duration": 36,
    "start_time": "2022-07-14T16:48:43.399Z"
   },
   {
    "duration": 50,
    "start_time": "2022-07-14T16:48:44.056Z"
   },
   {
    "duration": 4,
    "start_time": "2022-07-14T16:48:46.010Z"
   },
   {
    "duration": 78,
    "start_time": "2022-07-14T16:48:46.635Z"
   },
   {
    "duration": 26,
    "start_time": "2022-07-14T16:48:47.233Z"
   },
   {
    "duration": 2109,
    "start_time": "2022-07-14T16:48:47.993Z"
   },
   {
    "duration": 77,
    "start_time": "2022-07-14T16:48:50.104Z"
   },
   {
    "duration": 6,
    "start_time": "2022-07-14T16:48:51.258Z"
   },
   {
    "duration": 19,
    "start_time": "2022-07-14T16:48:55.250Z"
   },
   {
    "duration": 2574,
    "start_time": "2022-07-14T16:48:55.882Z"
   },
   {
    "duration": 60,
    "start_time": "2022-07-14T16:49:14.554Z"
   },
   {
    "duration": 3,
    "start_time": "2022-07-14T16:49:15.575Z"
   },
   {
    "duration": 50656,
    "start_time": "2022-07-14T16:49:17.113Z"
   },
   {
    "duration": 37833,
    "start_time": "2022-07-14T16:50:07.771Z"
   },
   {
    "duration": 844383,
    "start_time": "2022-07-14T16:50:45.606Z"
   },
   {
    "duration": 616358,
    "start_time": "2022-07-14T17:04:49.991Z"
   },
   {
    "duration": 4,
    "start_time": "2022-07-14T17:15:06.351Z"
   },
   {
    "duration": 6475,
    "start_time": "2022-07-14T17:15:06.356Z"
   },
   {
    "duration": 6393,
    "start_time": "2022-07-14T17:15:12.833Z"
   },
   {
    "duration": 3,
    "start_time": "2022-07-14T17:15:19.228Z"
   },
   {
    "duration": 101,
    "start_time": "2022-07-14T17:15:19.234Z"
   },
   {
    "duration": 199,
    "start_time": "2022-07-14T17:15:19.337Z"
   },
   {
    "duration": 3,
    "start_time": "2022-07-14T17:15:19.538Z"
   },
   {
    "duration": 2209,
    "start_time": "2022-07-14T17:15:19.543Z"
   },
   {
    "duration": 15,
    "start_time": "2022-07-14T17:15:21.753Z"
   },
   {
    "duration": 281,
    "start_time": "2022-07-14T17:15:21.769Z"
   },
   {
    "duration": 17,
    "start_time": "2022-07-14T17:15:22.052Z"
   },
   {
    "duration": 13,
    "start_time": "2022-07-14T17:15:22.070Z"
   },
   {
    "duration": 11,
    "start_time": "2022-07-14T17:15:22.084Z"
   },
   {
    "duration": 35,
    "start_time": "2022-07-14T17:15:22.097Z"
   },
   {
    "duration": 76,
    "start_time": "2022-07-14T17:19:12.661Z"
   },
   {
    "duration": 8140,
    "start_time": "2022-07-15T13:01:58.432Z"
   },
   {
    "duration": 3850,
    "start_time": "2022-07-15T13:02:06.575Z"
   },
   {
    "duration": 1796,
    "start_time": "2022-07-15T13:02:10.427Z"
   },
   {
    "duration": 430,
    "start_time": "2022-07-15T13:02:12.225Z"
   },
   {
    "duration": 24,
    "start_time": "2022-07-15T13:02:12.657Z"
   },
   {
    "duration": 27,
    "start_time": "2022-07-15T13:02:12.683Z"
   },
   {
    "duration": 20,
    "start_time": "2022-07-15T13:02:12.712Z"
   },
   {
    "duration": 13,
    "start_time": "2022-07-15T13:02:12.734Z"
   },
   {
    "duration": 7,
    "start_time": "2022-07-15T13:02:12.749Z"
   },
   {
    "duration": 26730,
    "start_time": "2022-07-15T13:02:12.758Z"
   },
   {
    "duration": 214,
    "start_time": "2022-07-15T13:02:39.490Z"
   },
   {
    "duration": 54,
    "start_time": "2022-07-15T13:02:39.707Z"
   },
   {
    "duration": 29,
    "start_time": "2022-07-15T13:02:39.763Z"
   },
   {
    "duration": 63,
    "start_time": "2022-07-15T13:02:39.797Z"
   },
   {
    "duration": 23,
    "start_time": "2022-07-15T13:02:39.862Z"
   },
   {
    "duration": 26,
    "start_time": "2022-07-15T13:02:39.887Z"
   },
   {
    "duration": 27,
    "start_time": "2022-07-15T13:02:39.916Z"
   },
   {
    "duration": 48,
    "start_time": "2022-07-15T13:02:39.945Z"
   },
   {
    "duration": 446,
    "start_time": "2022-07-15T13:02:39.996Z"
   },
   {
    "duration": 129,
    "start_time": "2022-07-15T13:02:40.444Z"
   },
   {
    "duration": 14,
    "start_time": "2022-07-15T13:02:40.575Z"
   },
   {
    "duration": 19,
    "start_time": "2022-07-15T13:02:40.590Z"
   },
   {
    "duration": 21,
    "start_time": "2022-07-15T13:02:40.610Z"
   },
   {
    "duration": 38,
    "start_time": "2022-07-15T13:02:40.632Z"
   },
   {
    "duration": 54,
    "start_time": "2022-07-15T13:02:40.672Z"
   },
   {
    "duration": 17,
    "start_time": "2022-07-15T13:02:40.729Z"
   },
   {
    "duration": 86,
    "start_time": "2022-07-15T13:02:40.747Z"
   },
   {
    "duration": 27,
    "start_time": "2022-07-15T13:02:40.835Z"
   },
   {
    "duration": 2261,
    "start_time": "2022-07-15T13:02:40.864Z"
   },
   {
    "duration": 78,
    "start_time": "2022-07-15T13:02:43.127Z"
   },
   {
    "duration": 8,
    "start_time": "2022-07-15T13:02:43.207Z"
   },
   {
    "duration": 34,
    "start_time": "2022-07-15T13:02:43.216Z"
   },
   {
    "duration": 2615,
    "start_time": "2022-07-15T13:02:43.252Z"
   },
   {
    "duration": 49,
    "start_time": "2022-07-15T13:02:45.870Z"
   },
   {
    "duration": 3,
    "start_time": "2022-07-15T13:02:45.921Z"
   },
   {
    "duration": 54085,
    "start_time": "2022-07-15T13:02:45.925Z"
   },
   {
    "duration": 40020,
    "start_time": "2022-07-15T13:03:40.012Z"
   },
   {
    "duration": 911327,
    "start_time": "2022-07-15T13:04:20.034Z"
   },
   {
    "duration": 676794,
    "start_time": "2022-07-15T15:24:59.594Z"
   },
   {
    "duration": 4,
    "start_time": "2022-07-15T15:36:16.390Z"
   },
   {
    "duration": 7351,
    "start_time": "2022-07-15T15:36:16.396Z"
   },
   {
    "duration": 7295,
    "start_time": "2022-07-15T15:36:23.750Z"
   },
   {
    "duration": 3,
    "start_time": "2022-07-15T15:36:31.047Z"
   },
   {
    "duration": 33,
    "start_time": "2022-07-15T15:36:31.052Z"
   },
   {
    "duration": 159,
    "start_time": "2022-07-15T15:36:31.087Z"
   },
   {
    "duration": 0,
    "start_time": "2022-07-15T15:36:31.247Z"
   },
   {
    "duration": 0,
    "start_time": "2022-07-15T15:36:31.249Z"
   },
   {
    "duration": 0,
    "start_time": "2022-07-15T15:36:31.250Z"
   },
   {
    "duration": 0,
    "start_time": "2022-07-15T15:36:31.251Z"
   },
   {
    "duration": 0,
    "start_time": "2022-07-15T15:36:31.252Z"
   },
   {
    "duration": 0,
    "start_time": "2022-07-15T15:36:31.253Z"
   },
   {
    "duration": 0,
    "start_time": "2022-07-15T15:36:31.254Z"
   },
   {
    "duration": 0,
    "start_time": "2022-07-15T15:36:31.255Z"
   },
   {
    "duration": 2186,
    "start_time": "2022-07-15T15:44:45.006Z"
   },
   {
    "duration": 2240,
    "start_time": "2022-07-15T15:44:47.194Z"
   },
   {
    "duration": 1596,
    "start_time": "2022-07-15T15:44:49.436Z"
   },
   {
    "duration": 221,
    "start_time": "2022-07-15T15:44:51.034Z"
   },
   {
    "duration": 23,
    "start_time": "2022-07-15T15:44:51.258Z"
   },
   {
    "duration": 25,
    "start_time": "2022-07-15T15:44:51.283Z"
   },
   {
    "duration": 38,
    "start_time": "2022-07-15T15:44:51.309Z"
   },
   {
    "duration": 3,
    "start_time": "2022-07-15T15:44:51.349Z"
   },
   {
    "duration": 22,
    "start_time": "2022-07-15T15:44:51.353Z"
   },
   {
    "duration": 27365,
    "start_time": "2022-07-15T15:44:51.377Z"
   },
   {
    "duration": 268,
    "start_time": "2022-07-15T15:45:18.744Z"
   },
   {
    "duration": 14,
    "start_time": "2022-07-15T15:45:19.015Z"
   },
   {
    "duration": 23,
    "start_time": "2022-07-15T15:45:19.031Z"
   },
   {
    "duration": 89,
    "start_time": "2022-07-15T15:45:19.057Z"
   },
   {
    "duration": 25,
    "start_time": "2022-07-15T15:45:19.148Z"
   },
   {
    "duration": 22,
    "start_time": "2022-07-15T15:45:19.174Z"
   },
   {
    "duration": 10,
    "start_time": "2022-07-15T15:45:19.198Z"
   },
   {
    "duration": 36,
    "start_time": "2022-07-15T15:45:19.210Z"
   },
   {
    "duration": 7,
    "start_time": "2022-07-15T15:45:19.248Z"
   },
   {
    "duration": 47,
    "start_time": "2022-07-15T15:45:19.256Z"
   },
   {
    "duration": 10,
    "start_time": "2022-07-15T15:45:19.305Z"
   },
   {
    "duration": 35,
    "start_time": "2022-07-15T15:45:19.317Z"
   },
   {
    "duration": 10,
    "start_time": "2022-07-15T15:45:19.354Z"
   },
   {
    "duration": 34,
    "start_time": "2022-07-15T15:45:19.366Z"
   },
   {
    "duration": 79,
    "start_time": "2022-07-15T15:45:19.402Z"
   },
   {
    "duration": 4,
    "start_time": "2022-07-15T15:45:19.483Z"
   },
   {
    "duration": 100,
    "start_time": "2022-07-15T15:45:19.489Z"
   },
   {
    "duration": 20,
    "start_time": "2022-07-15T15:45:19.591Z"
   },
   {
    "duration": 2249,
    "start_time": "2022-07-15T15:45:19.613Z"
   },
   {
    "duration": 85,
    "start_time": "2022-07-15T15:45:21.864Z"
   },
   {
    "duration": 7,
    "start_time": "2022-07-15T15:45:21.951Z"
   },
   {
    "duration": 27,
    "start_time": "2022-07-15T15:45:21.959Z"
   },
   {
    "duration": 2648,
    "start_time": "2022-07-15T15:45:21.988Z"
   },
   {
    "duration": 57,
    "start_time": "2022-07-15T15:45:24.638Z"
   },
   {
    "duration": 3,
    "start_time": "2022-07-15T15:45:24.697Z"
   },
   {
    "duration": 54454,
    "start_time": "2022-07-15T15:45:24.702Z"
   },
   {
    "duration": 40363,
    "start_time": "2022-07-15T15:46:19.158Z"
   },
   {
    "duration": 966706,
    "start_time": "2022-07-15T15:46:59.524Z"
   },
   {
    "duration": 756759,
    "start_time": "2022-07-15T16:03:06.232Z"
   },
   {
    "duration": 5,
    "start_time": "2022-07-15T16:15:42.993Z"
   },
   {
    "duration": 8963,
    "start_time": "2022-07-15T16:15:43.002Z"
   },
   {
    "duration": 7394,
    "start_time": "2022-07-15T16:15:51.967Z"
   },
   {
    "duration": 89,
    "start_time": "2022-07-15T16:15:59.363Z"
   },
   {
    "duration": 106,
    "start_time": "2022-07-15T16:15:59.460Z"
   },
   {
    "duration": 246,
    "start_time": "2022-07-15T16:15:59.569Z"
   },
   {
    "duration": 4,
    "start_time": "2022-07-15T16:15:59.817Z"
   },
   {
    "duration": 2803,
    "start_time": "2022-07-15T16:15:59.824Z"
   },
   {
    "duration": 30,
    "start_time": "2022-07-15T16:16:02.629Z"
   },
   {
    "duration": 345,
    "start_time": "2022-07-15T16:16:02.661Z"
   },
   {
    "duration": 18,
    "start_time": "2022-07-15T16:16:03.007Z"
   },
   {
    "duration": 33,
    "start_time": "2022-07-15T16:16:03.026Z"
   },
   {
    "duration": 15,
    "start_time": "2022-07-15T16:16:03.061Z"
   },
   {
    "duration": 13,
    "start_time": "2022-07-15T16:16:03.078Z"
   },
   {
    "duration": 1542,
    "start_time": "2022-07-18T12:37:04.457Z"
   },
   {
    "duration": 478,
    "start_time": "2022-07-18T12:37:23.053Z"
   },
   {
    "duration": 22,
    "start_time": "2022-07-18T12:37:24.812Z"
   },
   {
    "duration": 29,
    "start_time": "2022-07-18T12:37:33.906Z"
   },
   {
    "duration": 21,
    "start_time": "2022-07-18T12:37:37.672Z"
   },
   {
    "duration": 4,
    "start_time": "2022-07-18T12:37:39.972Z"
   },
   {
    "duration": 4,
    "start_time": "2022-07-18T12:37:44.230Z"
   },
   {
    "duration": 27183,
    "start_time": "2022-07-18T12:37:46.116Z"
   },
   {
    "duration": 221,
    "start_time": "2022-07-18T12:38:13.302Z"
   },
   {
    "duration": 53,
    "start_time": "2022-07-18T12:38:26.793Z"
   },
   {
    "duration": 15,
    "start_time": "2022-07-18T12:38:52.790Z"
   },
   {
    "duration": 5,
    "start_time": "2022-07-18T12:38:54.387Z"
   },
   {
    "duration": 76,
    "start_time": "2022-07-18T12:38:56.397Z"
   },
   {
    "duration": 45,
    "start_time": "2022-07-18T12:39:14.367Z"
   },
   {
    "duration": 27,
    "start_time": "2022-07-18T12:39:47.574Z"
   },
   {
    "duration": 13,
    "start_time": "2022-07-18T12:39:55.303Z"
   },
   {
    "duration": 178,
    "start_time": "2022-07-18T12:40:34.961Z"
   },
   {
    "duration": 6,
    "start_time": "2022-07-18T12:40:47.937Z"
   },
   {
    "duration": 170,
    "start_time": "2022-07-18T12:41:05.679Z"
   },
   {
    "duration": 7,
    "start_time": "2022-07-18T12:41:18.481Z"
   },
   {
    "duration": 185,
    "start_time": "2022-07-18T12:41:32.448Z"
   },
   {
    "duration": 8,
    "start_time": "2022-07-18T12:41:42.180Z"
   },
   {
    "duration": 508,
    "start_time": "2022-07-18T12:41:57.732Z"
   },
   {
    "duration": 7,
    "start_time": "2022-07-18T12:42:13.452Z"
   },
   {
    "duration": 195,
    "start_time": "2022-07-18T12:42:28.197Z"
   },
   {
    "duration": 16,
    "start_time": "2022-07-18T12:42:46.485Z"
   },
   {
    "duration": 3,
    "start_time": "2022-07-18T12:43:02.251Z"
   },
   {
    "duration": 39,
    "start_time": "2022-07-18T12:43:05.013Z"
   },
   {
    "duration": 15,
    "start_time": "2022-07-18T12:43:06.940Z"
   },
   {
    "duration": 19,
    "start_time": "2022-07-18T12:43:07.883Z"
   },
   {
    "duration": 9,
    "start_time": "2022-07-18T12:43:10.736Z"
   },
   {
    "duration": 8,
    "start_time": "2022-07-18T12:43:12.000Z"
   },
   {
    "duration": 6,
    "start_time": "2022-07-18T12:43:13.184Z"
   },
   {
    "duration": 45,
    "start_time": "2022-07-18T12:43:27.832Z"
   },
   {
    "duration": 8,
    "start_time": "2022-07-18T12:43:29.188Z"
   },
   {
    "duration": 9,
    "start_time": "2022-07-18T12:43:29.641Z"
   },
   {
    "duration": 6,
    "start_time": "2022-07-18T12:43:30.189Z"
   },
   {
    "duration": 28,
    "start_time": "2022-07-18T12:43:31.017Z"
   },
   {
    "duration": 46,
    "start_time": "2022-07-18T12:43:31.686Z"
   },
   {
    "duration": 22,
    "start_time": "2022-07-18T12:43:58.187Z"
   },
   {
    "duration": 8,
    "start_time": "2022-07-18T12:44:07.590Z"
   },
   {
    "duration": 3,
    "start_time": "2022-07-18T12:44:12.899Z"
   },
   {
    "duration": 4,
    "start_time": "2022-07-18T12:44:21.581Z"
   },
   {
    "duration": 88,
    "start_time": "2022-07-18T12:49:45.555Z"
   },
   {
    "duration": 21,
    "start_time": "2022-07-18T12:49:48.603Z"
   },
   {
    "duration": 11,
    "start_time": "2022-07-18T12:50:13.659Z"
   },
   {
    "duration": 791,
    "start_time": "2022-07-18T12:50:29.217Z"
   },
   {
    "duration": 8,
    "start_time": "2022-07-18T12:50:55.300Z"
   },
   {
    "duration": 2,
    "start_time": "2022-07-18T12:50:59.702Z"
   },
   {
    "duration": 10,
    "start_time": "2022-07-18T12:52:47.200Z"
   },
   {
    "duration": 4,
    "start_time": "2022-07-18T12:53:10.057Z"
   },
   {
    "duration": 2,
    "start_time": "2022-07-18T12:53:12.429Z"
   },
   {
    "duration": 3,
    "start_time": "2022-07-18T12:53:13.056Z"
   },
   {
    "duration": 11,
    "start_time": "2022-07-18T12:53:16.058Z"
   },
   {
    "duration": 4,
    "start_time": "2022-07-18T12:58:21.936Z"
   },
   {
    "duration": 117609,
    "start_time": "2022-07-18T12:58:51.907Z"
   },
   {
    "duration": 91,
    "start_time": "2022-07-18T13:03:17.087Z"
   },
   {
    "duration": 4,
    "start_time": "2022-07-18T13:03:23.268Z"
   },
   {
    "duration": 107395,
    "start_time": "2022-07-18T13:03:23.973Z"
   },
   {
    "duration": 4,
    "start_time": "2022-07-18T13:12:08.208Z"
   },
   {
    "duration": 16341,
    "start_time": "2022-07-18T13:12:26.826Z"
   },
   {
    "duration": 1256906,
    "start_time": "2022-07-18T13:13:37.413Z"
   },
   {
    "duration": 4,
    "start_time": "2022-07-18T13:34:34.320Z"
   },
   {
    "duration": 528936,
    "start_time": "2022-07-18T13:36:41.306Z"
   },
   {
    "duration": 3,
    "start_time": "2022-07-18T13:45:30.244Z"
   },
   {
    "duration": 92817,
    "start_time": "2022-07-18T14:10:36.745Z"
   },
   {
    "duration": 66682,
    "start_time": "2022-07-18T14:16:45.680Z"
   },
   {
    "duration": 9,
    "start_time": "2022-07-18T14:17:52.364Z"
   },
   {
    "duration": 55,
    "start_time": "2022-07-18T14:17:57.055Z"
   },
   {
    "duration": 21,
    "start_time": "2022-07-18T14:17:57.902Z"
   },
   {
    "duration": 493,
    "start_time": "2022-07-18T14:18:28.621Z"
   },
   {
    "duration": 3,
    "start_time": "2022-07-18T14:19:55.569Z"
   },
   {
    "duration": 1217,
    "start_time": "2022-07-18T14:20:07.401Z"
   },
   {
    "duration": 4,
    "start_time": "2022-07-18T14:21:07.358Z"
   },
   {
    "duration": 360,
    "start_time": "2022-07-18T14:21:13.142Z"
   },
   {
    "duration": 11,
    "start_time": "2022-07-18T14:21:18.689Z"
   },
   {
    "duration": 9,
    "start_time": "2022-07-18T14:21:33.568Z"
   },
   {
    "duration": 263,
    "start_time": "2022-07-18T14:23:20.303Z"
   },
   {
    "duration": 12,
    "start_time": "2022-07-18T14:24:11.579Z"
   },
   {
    "duration": 7612,
    "start_time": "2022-07-19T09:38:15.528Z"
   },
   {
    "duration": 4116,
    "start_time": "2022-07-19T09:38:23.142Z"
   },
   {
    "duration": 1765,
    "start_time": "2022-07-19T09:38:27.261Z"
   },
   {
    "duration": 645,
    "start_time": "2022-07-19T09:38:29.029Z"
   },
   {
    "duration": 24,
    "start_time": "2022-07-19T09:38:29.676Z"
   },
   {
    "duration": 42,
    "start_time": "2022-07-19T09:38:29.702Z"
   },
   {
    "duration": 26,
    "start_time": "2022-07-19T09:38:29.747Z"
   },
   {
    "duration": 7,
    "start_time": "2022-07-19T09:38:29.775Z"
   },
   {
    "duration": 20,
    "start_time": "2022-07-19T09:38:29.784Z"
   },
   {
    "duration": 27053,
    "start_time": "2022-07-19T09:38:29.806Z"
   },
   {
    "duration": 253,
    "start_time": "2022-07-19T09:38:56.861Z"
   },
   {
    "duration": 13,
    "start_time": "2022-07-19T09:38:57.116Z"
   },
   {
    "duration": 5,
    "start_time": "2022-07-19T09:38:57.131Z"
   },
   {
    "duration": 92,
    "start_time": "2022-07-19T09:38:57.138Z"
   },
   {
    "duration": 42,
    "start_time": "2022-07-19T09:38:57.232Z"
   },
   {
    "duration": 19,
    "start_time": "2022-07-19T09:38:57.276Z"
   },
   {
    "duration": 35,
    "start_time": "2022-07-19T09:38:57.296Z"
   },
   {
    "duration": 186,
    "start_time": "2022-07-19T09:38:57.333Z"
   },
   {
    "duration": 5,
    "start_time": "2022-07-19T09:38:57.524Z"
   },
   {
    "duration": 186,
    "start_time": "2022-07-19T09:38:57.532Z"
   },
   {
    "duration": 8,
    "start_time": "2022-07-19T09:38:57.723Z"
   },
   {
    "duration": 185,
    "start_time": "2022-07-19T09:38:57.732Z"
   },
   {
    "duration": 11,
    "start_time": "2022-07-19T09:38:57.919Z"
   },
   {
    "duration": 541,
    "start_time": "2022-07-19T09:38:57.931Z"
   },
   {
    "duration": 8,
    "start_time": "2022-07-19T09:38:58.473Z"
   },
   {
    "duration": 197,
    "start_time": "2022-07-19T09:38:58.483Z"
   },
   {
    "duration": 13,
    "start_time": "2022-07-19T09:38:58.682Z"
   },
   {
    "duration": 2,
    "start_time": "2022-07-19T09:38:58.697Z"
   },
   {
    "duration": 61,
    "start_time": "2022-07-19T09:38:58.701Z"
   },
   {
    "duration": 15,
    "start_time": "2022-07-19T09:38:58.764Z"
   },
   {
    "duration": 18,
    "start_time": "2022-07-19T09:38:58.781Z"
   },
   {
    "duration": 27,
    "start_time": "2022-07-19T09:38:58.802Z"
   },
   {
    "duration": 14,
    "start_time": "2022-07-19T09:38:58.831Z"
   },
   {
    "duration": 43,
    "start_time": "2022-07-19T09:38:58.847Z"
   },
   {
    "duration": 51,
    "start_time": "2022-07-19T09:38:58.892Z"
   },
   {
    "duration": 25,
    "start_time": "2022-07-19T09:38:58.945Z"
   },
   {
    "duration": 19,
    "start_time": "2022-07-19T09:38:58.971Z"
   },
   {
    "duration": 20,
    "start_time": "2022-07-19T09:38:58.993Z"
   },
   {
    "duration": 41,
    "start_time": "2022-07-19T09:38:59.015Z"
   },
   {
    "duration": 72,
    "start_time": "2022-07-19T09:38:59.058Z"
   },
   {
    "duration": 35,
    "start_time": "2022-07-19T09:38:59.136Z"
   },
   {
    "duration": 10,
    "start_time": "2022-07-19T09:38:59.174Z"
   },
   {
    "duration": 15,
    "start_time": "2022-07-19T09:38:59.186Z"
   },
   {
    "duration": 22,
    "start_time": "2022-07-19T09:38:59.203Z"
   },
   {
    "duration": 11,
    "start_time": "2022-07-19T09:38:59.228Z"
   },
   {
    "duration": 69,
    "start_time": "2022-07-19T09:38:59.241Z"
   },
   {
    "duration": 29,
    "start_time": "2022-07-19T09:38:59.312Z"
   },
   {
    "duration": 3,
    "start_time": "2022-07-19T09:38:59.343Z"
   },
   {
    "duration": 12,
    "start_time": "2022-07-19T09:38:59.348Z"
   },
   {
    "duration": 749,
    "start_time": "2022-07-19T09:38:59.361Z"
   },
   {
    "duration": 3,
    "start_time": "2022-07-19T09:39:00.112Z"
   },
   {
    "duration": 81,
    "start_time": "2022-07-19T09:39:00.123Z"
   },
   {
    "duration": 25,
    "start_time": "2022-07-19T09:39:00.206Z"
   },
   {
    "duration": 79,
    "start_time": "2022-07-19T09:39:00.234Z"
   },
   {
    "duration": 2,
    "start_time": "2022-07-19T09:39:00.315Z"
   },
   {
    "duration": 30,
    "start_time": "2022-07-19T09:39:00.319Z"
   },
   {
    "duration": 15,
    "start_time": "2022-07-19T09:39:00.351Z"
   },
   {
    "duration": 27,
    "start_time": "2022-07-19T09:39:00.368Z"
   },
   {
    "duration": 28,
    "start_time": "2022-07-19T09:39:00.397Z"
   },
   {
    "duration": 117256,
    "start_time": "2022-07-19T09:39:00.426Z"
   },
   {
    "duration": 4,
    "start_time": "2022-07-19T09:40:57.684Z"
   },
   {
    "duration": 17140,
    "start_time": "2022-07-19T09:40:57.690Z"
   },
   {
    "duration": 1412069,
    "start_time": "2022-07-19T09:41:14.832Z"
   },
   {
    "duration": 4,
    "start_time": "2022-07-19T10:04:46.902Z"
   },
   {
    "duration": 575605,
    "start_time": "2022-07-19T10:04:46.907Z"
   },
   {
    "duration": 18,
    "start_time": "2022-07-19T10:14:22.514Z"
   },
   {
    "duration": 100511,
    "start_time": "2022-07-19T10:14:22.535Z"
   },
   {
    "duration": 69276,
    "start_time": "2022-07-19T10:16:03.048Z"
   },
   {
    "duration": 3,
    "start_time": "2022-07-19T10:17:12.326Z"
   },
   {
    "duration": 171,
    "start_time": "2022-07-19T10:17:12.331Z"
   },
   {
    "duration": 23,
    "start_time": "2022-07-19T10:17:12.505Z"
   },
   {
    "duration": 5,
    "start_time": "2022-07-19T10:17:12.530Z"
   },
   {
    "duration": 10,
    "start_time": "2022-07-19T10:17:12.537Z"
   },
   {
    "duration": 592,
    "start_time": "2022-07-19T10:17:12.549Z"
   },
   {
    "duration": 3,
    "start_time": "2022-07-19T10:17:13.143Z"
   },
   {
    "duration": 433,
    "start_time": "2022-07-19T10:17:13.148Z"
   },
   {
    "duration": 8,
    "start_time": "2022-07-19T10:17:13.582Z"
   },
   {
    "duration": 327,
    "start_time": "2022-07-19T10:17:13.592Z"
   },
   {
    "duration": 22,
    "start_time": "2022-07-19T10:17:13.923Z"
   },
   {
    "duration": 19,
    "start_time": "2022-07-19T10:17:13.947Z"
   },
   {
    "duration": 13,
    "start_time": "2022-07-19T10:17:13.968Z"
   },
   {
    "duration": 15,
    "start_time": "2022-07-19T10:17:13.982Z"
   },
   {
    "duration": 16,
    "start_time": "2022-07-19T10:17:14.024Z"
   },
   {
    "duration": 1628,
    "start_time": "2022-07-20T14:47:31.325Z"
   },
   {
    "duration": 7384,
    "start_time": "2022-07-20T14:47:36.468Z"
   },
   {
    "duration": 3851,
    "start_time": "2022-07-20T14:47:43.854Z"
   },
   {
    "duration": 32,
    "start_time": "2022-07-20T14:47:47.707Z"
   },
   {
    "duration": 21,
    "start_time": "2022-07-20T14:48:46.423Z"
   },
   {
    "duration": 1980,
    "start_time": "2022-07-20T14:49:52.564Z"
   },
   {
    "duration": 2183,
    "start_time": "2022-07-20T14:49:54.546Z"
   },
   {
    "duration": 1473,
    "start_time": "2022-07-20T14:49:58.626Z"
   },
   {
    "duration": 1240,
    "start_time": "2022-07-20T14:50:02.150Z"
   },
   {
    "duration": 32,
    "start_time": "2022-07-20T14:50:03.392Z"
   },
   {
    "duration": 35,
    "start_time": "2022-07-20T14:50:03.488Z"
   },
   {
    "duration": 24,
    "start_time": "2022-07-20T14:50:04.172Z"
   },
   {
    "duration": 2,
    "start_time": "2022-07-20T14:50:04.929Z"
   },
   {
    "duration": 3,
    "start_time": "2022-07-20T14:50:06.444Z"
   },
   {
    "duration": 27136,
    "start_time": "2022-07-20T14:50:07.960Z"
   },
   {
    "duration": 248,
    "start_time": "2022-07-20T14:50:35.098Z"
   },
   {
    "duration": 13,
    "start_time": "2022-07-20T14:50:35.348Z"
   },
   {
    "duration": 3,
    "start_time": "2022-07-20T14:50:36.188Z"
   },
   {
    "duration": 47,
    "start_time": "2022-07-20T14:50:39.401Z"
   },
   {
    "duration": 51,
    "start_time": "2022-07-20T14:50:39.872Z"
   },
   {
    "duration": 171,
    "start_time": "2022-07-20T14:50:42.320Z"
   },
   {
    "duration": 8,
    "start_time": "2022-07-20T14:50:42.881Z"
   },
   {
    "duration": 178,
    "start_time": "2022-07-20T14:50:46.095Z"
   },
   {
    "duration": 9,
    "start_time": "2022-07-20T14:50:46.648Z"
   },
   {
    "duration": 174,
    "start_time": "2022-07-20T14:50:47.968Z"
   },
   {
    "duration": 7,
    "start_time": "2022-07-20T14:50:48.505Z"
   },
   {
    "duration": 171,
    "start_time": "2022-07-20T14:50:49.666Z"
   },
   {
    "duration": 7,
    "start_time": "2022-07-20T14:50:50.209Z"
   },
   {
    "duration": 480,
    "start_time": "2022-07-20T14:50:52.164Z"
   },
   {
    "duration": 13,
    "start_time": "2022-07-20T14:50:53.216Z"
   },
   {
    "duration": 3,
    "start_time": "2022-07-20T14:50:54.600Z"
   },
   {
    "duration": 40,
    "start_time": "2022-07-20T14:50:55.870Z"
   },
   {
    "duration": 12,
    "start_time": "2022-07-20T14:50:56.491Z"
   },
   {
    "duration": 18,
    "start_time": "2022-07-20T14:50:57.474Z"
   },
   {
    "duration": 9,
    "start_time": "2022-07-20T14:50:58.656Z"
   },
   {
    "duration": 9,
    "start_time": "2022-07-20T14:50:59.375Z"
   },
   {
    "duration": 8,
    "start_time": "2022-07-20T14:51:00.097Z"
   },
   {
    "duration": 33,
    "start_time": "2022-07-20T14:51:00.809Z"
   },
   {
    "duration": 9,
    "start_time": "2022-07-20T14:51:01.853Z"
   },
   {
    "duration": 10,
    "start_time": "2022-07-20T14:51:02.708Z"
   },
   {
    "duration": 6,
    "start_time": "2022-07-20T14:51:03.709Z"
   },
   {
    "duration": 29,
    "start_time": "2022-07-20T14:51:04.679Z"
   },
   {
    "duration": 55,
    "start_time": "2022-07-20T14:51:05.106Z"
   },
   {
    "duration": 26,
    "start_time": "2022-07-20T14:51:06.478Z"
   },
   {
    "duration": 9,
    "start_time": "2022-07-20T14:51:07.112Z"
   },
   {
    "duration": 4,
    "start_time": "2022-07-20T14:51:07.615Z"
   },
   {
    "duration": 2,
    "start_time": "2022-07-20T14:51:08.504Z"
   },
   {
    "duration": 18,
    "start_time": "2022-07-20T14:51:12.711Z"
   },
   {
    "duration": 20,
    "start_time": "2022-07-20T14:51:13.364Z"
   },
   {
    "duration": 4,
    "start_time": "2022-07-20T14:51:13.855Z"
   },
   {
    "duration": 15,
    "start_time": "2022-07-20T14:51:14.510Z"
   },
   {
    "duration": 26,
    "start_time": "2022-07-20T14:51:16.652Z"
   },
   {
    "duration": 8,
    "start_time": "2022-07-20T14:51:17.223Z"
   },
   {
    "duration": 380,
    "start_time": "2022-07-20T14:51:17.782Z"
   },
   {
    "duration": 157,
    "start_time": "2022-07-20T14:51:18.782Z"
   },
   {
    "duration": 8,
    "start_time": "2022-07-20T14:51:19.887Z"
   },
   {
    "duration": 65,
    "start_time": "2022-07-20T14:51:20.472Z"
   },
   {
    "duration": 14,
    "start_time": "2022-07-20T14:51:21.117Z"
   },
   {
    "duration": 9,
    "start_time": "2022-07-20T14:51:24.407Z"
   },
   {
    "duration": 12,
    "start_time": "2022-07-20T14:51:25.609Z"
   },
   {
    "duration": 7,
    "start_time": "2022-07-20T14:51:27.057Z"
   },
   {
    "duration": 3,
    "start_time": "2022-07-20T14:51:44.882Z"
   },
   {
    "duration": 61,
    "start_time": "2022-07-20T14:51:45.670Z"
   },
   {
    "duration": 27,
    "start_time": "2022-07-20T14:51:46.663Z"
   },
   {
    "duration": 4,
    "start_time": "2022-07-20T14:51:53.980Z"
   },
   {
    "duration": 840,
    "start_time": "2022-07-20T14:51:55.068Z"
   },
   {
    "duration": 6,
    "start_time": "2022-07-20T14:51:58.656Z"
   },
   {
    "duration": 8,
    "start_time": "2022-07-20T14:52:16.758Z"
   },
   {
    "duration": 72,
    "start_time": "2022-07-20T14:52:17.460Z"
   },
   {
    "duration": 3,
    "start_time": "2022-07-20T14:52:19.664Z"
   },
   {
    "duration": 4,
    "start_time": "2022-07-20T14:52:32.918Z"
   },
   {
    "duration": 336518,
    "start_time": "2022-07-20T14:52:43.456Z"
   },
   {
    "duration": 4,
    "start_time": "2022-07-20T14:58:19.976Z"
   },
   {
    "duration": 50512,
    "start_time": "2022-07-20T14:58:19.982Z"
   },
   {
    "duration": 3900854,
    "start_time": "2022-07-20T14:59:10.497Z"
   },
   {
    "duration": 4,
    "start_time": "2022-07-20T16:04:11.353Z"
   },
   {
    "duration": 1664647,
    "start_time": "2022-07-20T16:04:11.358Z"
   },
   {
    "duration": 4,
    "start_time": "2022-07-20T16:31:56.007Z"
   },
   {
    "duration": 181,
    "start_time": "2022-07-20T16:31:56.013Z"
   },
   {
    "duration": 0,
    "start_time": "2022-07-20T16:31:56.196Z"
   },
   {
    "duration": 505608,
    "start_time": "2022-07-20T16:36:17.801Z"
   },
   {
    "duration": 209,
    "start_time": "2022-07-20T16:44:43.411Z"
   },
   {
    "duration": 322413,
    "start_time": "2022-07-20T16:46:08.302Z"
   },
   {
    "duration": 4,
    "start_time": "2022-07-20T16:51:30.805Z"
   },
   {
    "duration": 45,
    "start_time": "2022-07-20T16:51:58.668Z"
   },
   {
    "duration": 20,
    "start_time": "2022-07-20T16:52:02.745Z"
   },
   {
    "duration": 5,
    "start_time": "2022-07-20T16:52:05.050Z"
   },
   {
    "duration": 494,
    "start_time": "2022-07-20T16:52:16.578Z"
   },
   {
    "duration": 3,
    "start_time": "2022-07-20T16:52:18.050Z"
   },
   {
    "duration": 306,
    "start_time": "2022-07-20T16:52:19.401Z"
   },
   {
    "duration": 7,
    "start_time": "2022-07-20T16:52:21.066Z"
   },
   {
    "duration": 301,
    "start_time": "2022-07-20T16:52:27.710Z"
   },
   {
    "duration": 20,
    "start_time": "2022-07-20T16:52:33.754Z"
   },
   {
    "duration": 14,
    "start_time": "2022-07-20T16:52:34.490Z"
   },
   {
    "duration": 16,
    "start_time": "2022-07-20T16:52:35.092Z"
   },
   {
    "duration": 13,
    "start_time": "2022-07-20T16:52:35.748Z"
   },
   {
    "duration": 14,
    "start_time": "2022-07-20T16:52:37.289Z"
   }
  ],
  "kernelspec": {
   "display_name": "Python 3 (ipykernel)",
   "language": "python",
   "name": "python3"
  },
  "language_info": {
   "codemirror_mode": {
    "name": "ipython",
    "version": 3
   },
   "file_extension": ".py",
   "mimetype": "text/x-python",
   "name": "python",
   "nbconvert_exporter": "python",
   "pygments_lexer": "ipython3",
   "version": "3.10.9"
  },
  "toc": {
   "base_numbering": 1,
   "nav_menu": {},
   "number_sections": false,
   "sideBar": true,
   "skip_h1_title": true,
   "title_cell": "Table of Contents",
   "title_sidebar": "Contents",
   "toc_cell": false,
   "toc_position": {
    "height": "calc(100% - 180px)",
    "left": "10px",
    "top": "150px",
    "width": "259px"
   },
   "toc_section_display": true,
   "toc_window_display": true
  }
 },
 "nbformat": 4,
 "nbformat_minor": 2
}
