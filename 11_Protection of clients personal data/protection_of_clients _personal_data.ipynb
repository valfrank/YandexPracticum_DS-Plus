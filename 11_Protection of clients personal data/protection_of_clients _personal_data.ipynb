{
 "cells": [
  {
   "cell_type": "markdown",
   "metadata": {
    "toc": true
   },
   "source": [
    "<h1>Contents<span class=\"tocSkip\"></span></h1>\n",
    "<div class=\"toc\"><ul class=\"toc-item\"><li><span><a href=\"#Data-loading\" data-toc-modified-id=\"Data-loading-1\"><span class=\"toc-item-num\">1&nbsp;&nbsp;</span>Data loading</a></span></li><li><span><a href=\"#Matrix-multiplication\" data-toc-modified-id=\"Matrix-multiplication-2\"><span class=\"toc-item-num\">2&nbsp;&nbsp;</span>Matrix multiplication</a></span></li><li><span><a href=\"#Conversion-algorithm\" data-toc-modified-id=\"Conversion-algorithm-3\"><span class=\"toc-item-num\">3&nbsp;&nbsp;</span>Conversion algorithm</a></span></li><li><span><a href=\"#Algorithm-verification\" data-toc-modified-id=\"Algorithm-verification-4\"><span class=\"toc-item-num\">4&nbsp;&nbsp;</span>Algorithm verification</a></span></li><li><span><a href=\"#Conclusions\" data-toc-modified-id=\"Conclusions-5\"><span class=\"toc-item-num\">5&nbsp;&nbsp;</span>Conclusions</a></span></li></ul></div>"
   ]
  },
  {
   "cell_type": "markdown",
   "metadata": {},
   "source": [
    "# Protection of clients personal data"
   ]
  },
  {
   "cell_type": "markdown",
   "metadata": {},
   "source": [
    "We need to protect the data of customers of the insurance company . Develop a data transformation method that makes it difficult to recover personal information from it. Justify the correctness of his work.\n",
    "\n",
    "The quality of the machine learning models does not deteriorate during the transformation. \n",
    "\n",
    "+ The dataset is insurance.csv file.\n",
    "+ Features: gender, age and salary of the insured, the number of members of his family.\n",
    "+ Target: the number of insurance payments to the client over the past 5 years."
   ]
  },
  {
   "cell_type": "markdown",
   "metadata": {},
   "source": [
    "## Data loading"
   ]
  },
  {
   "cell_type": "code",
   "execution_count": 1,
   "metadata": {},
   "outputs": [],
   "source": [
    "import pandas as pd\n",
    "import numpy as np\n",
    "import matplotlib.pyplot as plt\n",
    "\n",
    "from sklearn.linear_model import LinearRegression\n",
    "from sklearn.metrics import r2_score\n",
    "import phik\n",
    "from phik.report import plot_correlation_matrix\n",
    "\n",
    "import warnings\n",
    "warnings.filterwarnings('ignore')"
   ]
  },
  {
   "cell_type": "code",
   "execution_count": 2,
   "metadata": {},
   "outputs": [
    {
     "data": {
      "text/html": [
       "<div>\n",
       "<style scoped>\n",
       "    .dataframe tbody tr th:only-of-type {\n",
       "        vertical-align: middle;\n",
       "    }\n",
       "\n",
       "    .dataframe tbody tr th {\n",
       "        vertical-align: top;\n",
       "    }\n",
       "\n",
       "    .dataframe thead th {\n",
       "        text-align: right;\n",
       "    }\n",
       "</style>\n",
       "<table border=\"1\" class=\"dataframe\">\n",
       "  <thead>\n",
       "    <tr style=\"text-align: right;\">\n",
       "      <th></th>\n",
       "      <th>Пол</th>\n",
       "      <th>Возраст</th>\n",
       "      <th>Зарплата</th>\n",
       "      <th>Члены семьи</th>\n",
       "      <th>Страховые выплаты</th>\n",
       "    </tr>\n",
       "  </thead>\n",
       "  <tbody>\n",
       "    <tr>\n",
       "      <th>0</th>\n",
       "      <td>1</td>\n",
       "      <td>41.0</td>\n",
       "      <td>49600.0</td>\n",
       "      <td>1</td>\n",
       "      <td>0</td>\n",
       "    </tr>\n",
       "    <tr>\n",
       "      <th>1</th>\n",
       "      <td>0</td>\n",
       "      <td>46.0</td>\n",
       "      <td>38000.0</td>\n",
       "      <td>1</td>\n",
       "      <td>1</td>\n",
       "    </tr>\n",
       "    <tr>\n",
       "      <th>2</th>\n",
       "      <td>0</td>\n",
       "      <td>29.0</td>\n",
       "      <td>21000.0</td>\n",
       "      <td>0</td>\n",
       "      <td>0</td>\n",
       "    </tr>\n",
       "    <tr>\n",
       "      <th>3</th>\n",
       "      <td>0</td>\n",
       "      <td>21.0</td>\n",
       "      <td>41700.0</td>\n",
       "      <td>2</td>\n",
       "      <td>0</td>\n",
       "    </tr>\n",
       "    <tr>\n",
       "      <th>4</th>\n",
       "      <td>1</td>\n",
       "      <td>28.0</td>\n",
       "      <td>26100.0</td>\n",
       "      <td>0</td>\n",
       "      <td>0</td>\n",
       "    </tr>\n",
       "  </tbody>\n",
       "</table>\n",
       "</div>"
      ],
      "text/plain": [
       "   Пол  Возраст  Зарплата  Члены семьи  Страховые выплаты\n",
       "0    1     41.0   49600.0            1                  0\n",
       "1    0     46.0   38000.0            1                  1\n",
       "2    0     29.0   21000.0            0                  0\n",
       "3    0     21.0   41700.0            2                  0\n",
       "4    1     28.0   26100.0            0                  0"
      ]
     },
     "execution_count": 2,
     "metadata": {},
     "output_type": "execute_result"
    }
   ],
   "source": [
    "data = pd.read_csv('/datasets/insurance.csv')\n",
    "data.head()"
   ]
  },
  {
   "cell_type": "code",
   "execution_count": 3,
   "metadata": {},
   "outputs": [
    {
     "name": "stdout",
     "output_type": "stream",
     "text": [
      "<class 'pandas.core.frame.DataFrame'>\n",
      "RangeIndex: 5000 entries, 0 to 4999\n",
      "Data columns (total 5 columns):\n",
      " #   Column             Non-Null Count  Dtype  \n",
      "---  ------             --------------  -----  \n",
      " 0   Пол                5000 non-null   int64  \n",
      " 1   Возраст            5000 non-null   float64\n",
      " 2   Зарплата           5000 non-null   float64\n",
      " 3   Члены семьи        5000 non-null   int64  \n",
      " 4   Страховые выплаты  5000 non-null   int64  \n",
      "dtypes: float64(2), int64(3)\n",
      "memory usage: 195.4 KB\n"
     ]
    }
   ],
   "source": [
    "data.info()"
   ]
  },
  {
   "cell_type": "code",
   "execution_count": 4,
   "metadata": {},
   "outputs": [
    {
     "data": {
      "text/html": [
       "<div>\n",
       "<style scoped>\n",
       "    .dataframe tbody tr th:only-of-type {\n",
       "        vertical-align: middle;\n",
       "    }\n",
       "\n",
       "    .dataframe tbody tr th {\n",
       "        vertical-align: top;\n",
       "    }\n",
       "\n",
       "    .dataframe thead th {\n",
       "        text-align: right;\n",
       "    }\n",
       "</style>\n",
       "<table border=\"1\" class=\"dataframe\">\n",
       "  <thead>\n",
       "    <tr style=\"text-align: right;\">\n",
       "      <th></th>\n",
       "      <th>Пол</th>\n",
       "      <th>Возраст</th>\n",
       "      <th>Зарплата</th>\n",
       "      <th>Члены семьи</th>\n",
       "      <th>Страховые выплаты</th>\n",
       "    </tr>\n",
       "  </thead>\n",
       "  <tbody>\n",
       "    <tr>\n",
       "      <th>count</th>\n",
       "      <td>5000.000000</td>\n",
       "      <td>5000.000000</td>\n",
       "      <td>5000.000000</td>\n",
       "      <td>5000.000000</td>\n",
       "      <td>5000.000000</td>\n",
       "    </tr>\n",
       "    <tr>\n",
       "      <th>mean</th>\n",
       "      <td>0.499000</td>\n",
       "      <td>30.952800</td>\n",
       "      <td>39916.360000</td>\n",
       "      <td>1.194200</td>\n",
       "      <td>0.148000</td>\n",
       "    </tr>\n",
       "    <tr>\n",
       "      <th>std</th>\n",
       "      <td>0.500049</td>\n",
       "      <td>8.440807</td>\n",
       "      <td>9900.083569</td>\n",
       "      <td>1.091387</td>\n",
       "      <td>0.463183</td>\n",
       "    </tr>\n",
       "    <tr>\n",
       "      <th>min</th>\n",
       "      <td>0.000000</td>\n",
       "      <td>18.000000</td>\n",
       "      <td>5300.000000</td>\n",
       "      <td>0.000000</td>\n",
       "      <td>0.000000</td>\n",
       "    </tr>\n",
       "    <tr>\n",
       "      <th>25%</th>\n",
       "      <td>0.000000</td>\n",
       "      <td>24.000000</td>\n",
       "      <td>33300.000000</td>\n",
       "      <td>0.000000</td>\n",
       "      <td>0.000000</td>\n",
       "    </tr>\n",
       "    <tr>\n",
       "      <th>50%</th>\n",
       "      <td>0.000000</td>\n",
       "      <td>30.000000</td>\n",
       "      <td>40200.000000</td>\n",
       "      <td>1.000000</td>\n",
       "      <td>0.000000</td>\n",
       "    </tr>\n",
       "    <tr>\n",
       "      <th>75%</th>\n",
       "      <td>1.000000</td>\n",
       "      <td>37.000000</td>\n",
       "      <td>46600.000000</td>\n",
       "      <td>2.000000</td>\n",
       "      <td>0.000000</td>\n",
       "    </tr>\n",
       "    <tr>\n",
       "      <th>max</th>\n",
       "      <td>1.000000</td>\n",
       "      <td>65.000000</td>\n",
       "      <td>79000.000000</td>\n",
       "      <td>6.000000</td>\n",
       "      <td>5.000000</td>\n",
       "    </tr>\n",
       "  </tbody>\n",
       "</table>\n",
       "</div>"
      ],
      "text/plain": [
       "               Пол      Возраст      Зарплата  Члены семьи  Страховые выплаты\n",
       "count  5000.000000  5000.000000   5000.000000  5000.000000        5000.000000\n",
       "mean      0.499000    30.952800  39916.360000     1.194200           0.148000\n",
       "std       0.500049     8.440807   9900.083569     1.091387           0.463183\n",
       "min       0.000000    18.000000   5300.000000     0.000000           0.000000\n",
       "25%       0.000000    24.000000  33300.000000     0.000000           0.000000\n",
       "50%       0.000000    30.000000  40200.000000     1.000000           0.000000\n",
       "75%       1.000000    37.000000  46600.000000     2.000000           0.000000\n",
       "max       1.000000    65.000000  79000.000000     6.000000           5.000000"
      ]
     },
     "execution_count": 4,
     "metadata": {},
     "output_type": "execute_result"
    }
   ],
   "source": [
    "data.describe()"
   ]
  },
  {
   "cell_type": "code",
   "execution_count": 5,
   "metadata": {},
   "outputs": [
    {
     "data": {
      "text/plain": [
       "153"
      ]
     },
     "execution_count": 5,
     "metadata": {},
     "output_type": "execute_result"
    }
   ],
   "source": [
    "data.duplicated().sum()"
   ]
  },
  {
   "cell_type": "code",
   "execution_count": 6,
   "metadata": {},
   "outputs": [],
   "source": [
    "data.drop_duplicates(inplace=True)"
   ]
  },
  {
   "cell_type": "markdown",
   "metadata": {},
   "source": [
    "- No missing values.\n",
    "- Checked for duplicates, found 153 and deleted.\n",
    "- No outliers detected."
   ]
  },
  {
   "cell_type": "code",
   "execution_count": 7,
   "metadata": {},
   "outputs": [
    {
     "data": {
      "image/png": "[encoded data removed]",
      "text/plain": [
       "<Figure size 720x576 with 2 Axes>"
      ]
     },
     "metadata": {
      "needs_background": "light"
     },
     "output_type": "display_data"
    }
   ],
   "source": [
    "interval_cols = ['Возраст', 'Зарплата', 'Члены семьи']\n",
    "phik_overview = data.phik_matrix(interval_cols=interval_cols)\n",
    "plot_correlation_matrix(phik_overview.values, \n",
    "                        x_labels=phik_overview.columns, \n",
    "                        y_labels=phik_overview.index, \n",
    "                        vmin=0, vmax=1, color_map=\"Blues\", \n",
    "                        title=r\"correlation $\\phi_K$\", \n",
    "                        fontsize_factor=1.5, \n",
    "                        figsize=(10, 8))\n",
    "plt.tight_layout()"
   ]
  },
  {
   "cell_type": "markdown",
   "metadata": {},
   "source": [
    "Check the data for multicollinearity with the Phik tool. There are no faeatures that would correlate. However, a strong correlation between age and the target can be noted."
   ]
  },
  {
   "cell_type": "markdown",
   "metadata": {},
   "source": [
    "## Matrix multiplication"
   ]
  },
  {
   "cell_type": "markdown",
   "metadata": {},
   "source": [
    "Designations:\n",
    "\n",
    "- $X$ — matrix of features (zero column consists of ones)\n",
    "\n",
    "- $y$ — target feature vector\n",
    "\n",
    "- $P$ — the matrix by which the features are multiplied\n",
    "\n",
    "- $w$ — vector of linear regression weights (zero element is equal to shift)"
   ]
  },
  {
   "cell_type": "markdown",
   "metadata": {},
   "source": [
    "Prediction:\n",
    "\n",
    "$$\n",
    "a = Xw\n",
    "$$\n",
    "\n",
    "Learning task:\n",
    "\n",
    "$$\n",
    "w = \\arg\\min_w MSE(Xw, y)\n",
    "$$\n",
    "\n",
    "Learning Formula:\n",
    "\n",
    "$$\n",
    "w = (X^T X)^{-1} X^T y\n",
    "$$"
   ]
  },
  {
   "cell_type": "markdown",
   "metadata": {},
   "source": [
    "**Ответ:** The quality of the model will not change.\n",
    "\n",
    "**Обоснование:** Prove that the quality of the model does not change when multiplied by any invertible matrix M.\n",
    "\n",
    "New matrix of features \n",
    "$$\n",
    "X' = XM\n",
    "$$\n",
    "\n",
    "Learning Formula \n",
    "\n",
    "$$\n",
    "w = (X^T X)^{-1} X^T y\n",
    "$$\n",
    "\n",
    "New learning Formula\n",
    "\n",
    "$$\n",
    "w' = (X'^T X')^{-1} X'^T y = ((XM)^T XM)^{-1} (XM)^T y\n",
    "$$\n",
    "\n",
    "Open the brackets and transform the expression:\n",
    "\n",
    "$$\n",
    "w' = (M^T (X^T X) M)^{-1} M^T X^T y\n",
    "$$\n",
    "$$\n",
    "w' = M^{-1} (X^T X)^{-1} (M^T)^{-1} M^T X^T y\n",
    "$$\n",
    "\n",
    "By assumption, M is an invertible matrix => $$ M^T(M^T)^{-1} = (M^T)^{-1} M^T = E $$\n",
    "\n",
    "Then the learning formula takes the form:\n",
    "\n",
    "$$\n",
    "w' = M^{-1}(X^T X)^{-1} E X^T y = M^{-1}(X^T X)^{-1} X^T y\n",
    "$$\n",
    "\n",
    "$$\n",
    "w' = M^{-1} w \n",
    "$$\n",
    "\n",
    "Substitute the new value of the weights into the formula for calculating the prediction:\n",
    "$$\n",
    "a = Xw\n",
    "$$\n",
    "$$\n",
    "a' = X'w'\n",
    "$$\n",
    "We substitute the expression w' in terms of w and the matrix M and express the feature matrix X' in terms of X and M:\n",
    "$$\n",
    "a' = X M M^{-1} w  = X E w = X w\n",
    "$$\n",
    "\n",
    "$$\n",
    "a' = a\n",
    "$$\n",
    "\n",
    "**Predictions a' for the feature matrix X multiplied by the invertible matrix M are equal to the predictions a. Therefore, when multiplying features by an invertible matrix, the quality of linear regression will not change.**"
   ]
  },
  {
   "cell_type": "markdown",
   "metadata": {},
   "source": [
    "## Conversion algorithm"
   ]
  },
  {
   "cell_type": "markdown",
   "metadata": {},
   "source": [
    "**Algorithm**\n",
    "\n",
    "- Create a random matrix.\n",
    "- Check it for reversibility.\n",
    "- Multiply by features.\n",
    "- Find the metrics of the trained model on the original features and on the features multiplied by the matrix.\n",
    "- Compare metrics with each other. If they are equal, then the task is completed."
   ]
  },
  {
   "cell_type": "markdown",
   "metadata": {},
   "source": [
    "`Xw = XMw`\n"
   ]
  },
  {
   "cell_type": "markdown",
   "metadata": {},
   "source": [
    "## Algorithm verification"
   ]
  },
  {
   "cell_type": "code",
   "execution_count": 8,
   "metadata": {},
   "outputs": [],
   "source": [
    "X = data.drop('Страховые выплаты', axis=1)\n",
    "y = data['Страховые выплаты']"
   ]
  },
  {
   "cell_type": "code",
   "execution_count": 9,
   "metadata": {},
   "outputs": [
    {
     "name": "stdout",
     "output_type": "stream",
     "text": [
      "R2 for original data: 0.4302010044852066\n"
     ]
    }
   ],
   "source": [
    "linear_model = LinearRegression()\n",
    "linear_model.fit(X, y)\n",
    "norm_predictions = linear_model.predict(X)\n",
    "norm_score = r2_score(y, norm_predictions)\n",
    "print('R2 for original data:', norm_score)"
   ]
  },
  {
   "cell_type": "markdown",
   "metadata": {},
   "source": [
    "**Apply the conversion algorithm**"
   ]
  },
  {
   "cell_type": "code",
   "execution_count": 10,
   "metadata": {},
   "outputs": [
    {
     "data": {
      "text/plain": [
       "array([[-0.36934246,  1.67028292,  0.73132916, -0.04647882],\n",
       "       [ 0.45302221,  0.74548714,  1.07462642,  0.58061663],\n",
       "       [ 1.42425648,  1.31338655, -0.00856318,  0.03514064],\n",
       "       [-0.70400162,  0.35521626, -0.10107082, -0.9887654 ]])"
      ]
     },
     "execution_count": 10,
     "metadata": {},
     "output_type": "execute_result"
    }
   ],
   "source": [
    "random_matrix = np.random.normal(0, 1, (X.shape[1], X.shape[1]))\n",
    "random_matrix"
   ]
  },
  {
   "cell_type": "code",
   "execution_count": 11,
   "metadata": {},
   "outputs": [
    {
     "data": {
      "text/plain": [
       "array([[-0.72905317,  0.53484456,  0.52433187,  0.36697334],\n",
       "       [ 0.76300137, -0.55079775,  0.19895351, -0.35223157],\n",
       "       [-0.68855489,  1.48167589, -0.2074234 ,  0.89505549],\n",
       "       [ 0.86357989, -0.73014078, -0.28064748, -1.49067939]])"
      ]
     },
     "execution_count": 11,
     "metadata": {},
     "output_type": "execute_result"
    }
   ],
   "source": [
    "np.linalg.inv(random_matrix)"
   ]
  },
  {
   "cell_type": "code",
   "execution_count": 12,
   "metadata": {},
   "outputs": [],
   "source": [
    "encoded_X = X @ random_matrix"
   ]
  },
  {
   "cell_type": "code",
   "execution_count": 13,
   "metadata": {},
   "outputs": [
    {
     "name": "stdout",
     "output_type": "stream",
     "text": [
      "R2 on conversed data: 0.4302010044852038\n"
     ]
    }
   ],
   "source": [
    "enc_linear_model = LinearRegression()\n",
    "enc_linear_model.fit(encoded_X, y)\n",
    "enc_predictions = enc_linear_model.predict(encoded_X)\n",
    "enc_score = r2_score(y, enc_predictions)\n",
    "print('R2 on conversed data:', enc_score)"
   ]
  },
  {
   "cell_type": "markdown",
   "metadata": {},
   "source": [
    "The quality of the linear regression model has not changed.\n",
    "\n",
    "The proposed data transformation algorithm copes with the task of feature encryption."
   ]
  },
  {
   "cell_type": "markdown",
   "metadata": {},
   "source": [
    "## Conclusions"
   ]
  },
  {
   "cell_type": "markdown",
   "metadata": {},
   "source": [
    "- By multiplying the features by an invertible matrix, the quality of the linear regression does not change.\n",
    "\n",
    "- The proposed data conversion algorithm solves the problem of protecting user data.\n",
    "\n",
    "- Encrypted data is fully suitable for predictions using linear regression.\n",
    "\n",
    "- Due to the random choice of the matrix, it will be very difficult to restore personal information without the source code.\n"
   ]
  },
  {
   "cell_type": "code",
   "execution_count": null,
   "metadata": {},
   "outputs": [],
   "source": []
  }
 ],
 "metadata": {
  "ExecuteTimeLog": [
   {
    "duration": 1082,
    "start_time": "2022-10-27T10:15:25.715Z"
   },
   {
    "duration": 76,
    "start_time": "2022-10-27T10:15:54.881Z"
   },
   {
    "duration": 40,
    "start_time": "2022-10-27T10:16:01.475Z"
   },
   {
    "duration": 11,
    "start_time": "2022-10-27T10:16:08.978Z"
   },
   {
    "duration": 23,
    "start_time": "2022-10-27T10:16:19.452Z"
   },
   {
    "duration": 7,
    "start_time": "2022-10-27T10:18:28.670Z"
   },
   {
    "duration": 6,
    "start_time": "2022-10-27T10:18:35.205Z"
   },
   {
    "duration": 6,
    "start_time": "2022-10-27T10:18:40.384Z"
   },
   {
    "duration": 5,
    "start_time": "2022-10-27T10:19:00.861Z"
   },
   {
    "duration": 3,
    "start_time": "2022-10-27T10:25:42.019Z"
   },
   {
    "duration": 108,
    "start_time": "2022-10-27T10:26:09.473Z"
   },
   {
    "duration": 3,
    "start_time": "2022-10-27T10:26:15.887Z"
   },
   {
    "duration": 10,
    "start_time": "2022-10-27T10:26:28.451Z"
   },
   {
    "duration": 12,
    "start_time": "2022-10-27T10:27:47.616Z"
   },
   {
    "duration": 4,
    "start_time": "2022-10-27T10:28:59.021Z"
   },
   {
    "duration": 4,
    "start_time": "2022-10-27T10:29:08.887Z"
   },
   {
    "duration": 3,
    "start_time": "2022-10-27T10:29:43.187Z"
   },
   {
    "duration": 16,
    "start_time": "2022-10-27T10:30:44.220Z"
   },
   {
    "duration": 9,
    "start_time": "2022-10-27T10:30:58.985Z"
   },
   {
    "duration": 1213,
    "start_time": "2022-10-27T14:36:53.261Z"
   },
   {
    "duration": 99,
    "start_time": "2022-10-27T14:36:54.476Z"
   },
   {
    "duration": 10,
    "start_time": "2022-10-27T14:36:54.576Z"
   },
   {
    "duration": 26,
    "start_time": "2022-10-27T14:36:54.587Z"
   },
   {
    "duration": 5,
    "start_time": "2022-10-27T14:36:54.616Z"
   },
   {
    "duration": 7,
    "start_time": "2022-10-27T14:36:54.622Z"
   },
   {
    "duration": 5,
    "start_time": "2022-10-27T14:36:54.631Z"
   },
   {
    "duration": 42,
    "start_time": "2022-10-27T14:36:54.638Z"
   },
   {
    "duration": 94,
    "start_time": "2022-10-27T14:36:54.684Z"
   },
   {
    "duration": 4,
    "start_time": "2022-10-27T14:36:54.780Z"
   },
   {
    "duration": 14,
    "start_time": "2022-10-27T14:36:54.785Z"
   },
   {
    "duration": 86,
    "start_time": "2022-10-27T14:36:54.800Z"
   },
   {
    "duration": 660,
    "start_time": "2022-10-28T10:42:39.911Z"
   },
   {
    "duration": 87,
    "start_time": "2022-10-28T10:43:32.384Z"
   },
   {
    "duration": 3046,
    "start_time": "2022-10-28T10:43:36.092Z"
   },
   {
    "duration": 672,
    "start_time": "2022-10-28T10:43:41.702Z"
   },
   {
    "duration": 72,
    "start_time": "2022-10-28T10:50:34.366Z"
   },
   {
    "duration": 1112,
    "start_time": "2022-10-28T10:50:49.383Z"
   },
   {
    "duration": 110,
    "start_time": "2022-10-28T10:50:51.895Z"
   },
   {
    "duration": 12,
    "start_time": "2022-10-28T10:50:52.834Z"
   },
   {
    "duration": 21,
    "start_time": "2022-10-28T10:50:53.494Z"
   },
   {
    "duration": 8,
    "start_time": "2022-10-28T10:50:56.547Z"
   },
   {
    "duration": 5,
    "start_time": "2022-10-28T10:50:57.164Z"
   },
   {
    "duration": 283,
    "start_time": "2022-10-28T10:51:07.041Z"
   },
   {
    "duration": 565,
    "start_time": "2022-10-28T10:51:08.633Z"
   },
   {
    "duration": 522,
    "start_time": "2022-10-28T10:53:04.300Z"
   },
   {
    "duration": 1126,
    "start_time": "2023-02-14T08:38:10.980Z"
   },
   {
    "duration": 102,
    "start_time": "2023-02-14T08:38:12.108Z"
   },
   {
    "duration": 11,
    "start_time": "2023-02-14T08:38:12.212Z"
   },
   {
    "duration": 33,
    "start_time": "2023-02-14T08:38:12.224Z"
   },
   {
    "duration": 7,
    "start_time": "2023-02-14T08:38:12.260Z"
   },
   {
    "duration": 7,
    "start_time": "2023-02-14T08:38:12.269Z"
   },
   {
    "duration": 3046,
    "start_time": "2023-02-14T08:38:12.278Z"
   },
   {
    "duration": 436,
    "start_time": "2023-02-14T08:38:15.326Z"
   },
   {
    "duration": 727,
    "start_time": "2023-02-14T08:38:15.764Z"
   },
   {
    "duration": 4,
    "start_time": "2023-02-14T08:38:16.494Z"
   },
   {
    "duration": 151,
    "start_time": "2023-02-14T08:38:16.500Z"
   },
   {
    "duration": 19,
    "start_time": "2023-02-14T08:38:16.653Z"
   },
   {
    "duration": 8,
    "start_time": "2023-02-14T08:38:16.749Z"
   },
   {
    "duration": 89,
    "start_time": "2023-02-14T08:38:16.761Z"
   },
   {
    "duration": 100,
    "start_time": "2023-02-14T08:38:16.852Z"
   },
   {
    "duration": 3,
    "start_time": "2023-02-14T08:53:17.446Z"
   },
   {
    "duration": 145,
    "start_time": "2023-02-14T08:53:36.841Z"
   },
   {
    "duration": 39,
    "start_time": "2023-02-14T08:53:44.050Z"
   },
   {
    "duration": 476,
    "start_time": "2023-02-14T08:56:12.256Z"
   },
   {
    "duration": 9,
    "start_time": "2023-02-14T09:06:38.629Z"
   },
   {
    "duration": 8,
    "start_time": "2023-02-14T09:07:45.453Z"
   },
   {
    "duration": 1482,
    "start_time": "2023-02-14T09:08:59.662Z"
   },
   {
    "duration": 45,
    "start_time": "2023-02-14T09:09:01.146Z"
   },
   {
    "duration": 13,
    "start_time": "2023-02-14T09:09:01.193Z"
   },
   {
    "duration": 42,
    "start_time": "2023-02-14T09:09:01.208Z"
   },
   {
    "duration": 7,
    "start_time": "2023-02-14T09:09:01.252Z"
   },
   {
    "duration": 23,
    "start_time": "2023-02-14T09:09:01.261Z"
   },
   {
    "duration": 621,
    "start_time": "2023-02-14T09:09:01.286Z"
   },
   {
    "duration": 4,
    "start_time": "2023-02-14T09:09:01.909Z"
   },
   {
    "duration": 36,
    "start_time": "2023-02-14T09:09:01.914Z"
   },
   {
    "duration": 102,
    "start_time": "2023-02-14T09:09:01.951Z"
   },
   {
    "duration": 7,
    "start_time": "2023-02-14T09:09:02.055Z"
   },
   {
    "duration": 88,
    "start_time": "2023-02-14T09:09:02.064Z"
   },
   {
    "duration": 13,
    "start_time": "2023-02-14T09:09:02.154Z"
   }
  ],
  "kernelspec": {
   "display_name": "Python 3 (ipykernel)",
   "language": "python",
   "name": "python3"
  },
  "language_info": {
   "codemirror_mode": {
    "name": "ipython",
    "version": 3
   },
   "file_extension": ".py",
   "mimetype": "text/x-python",
   "name": "python",
   "nbconvert_exporter": "python",
   "pygments_lexer": "ipython3",
   "version": "3.9.5"
  },
  "toc": {
   "base_numbering": 1,
   "nav_menu": {},
   "number_sections": true,
   "sideBar": true,
   "skip_h1_title": true,
   "title_cell": "Contents",
   "title_sidebar": "Contents",
   "toc_cell": true,
   "toc_position": {},
   "toc_section_display": true,
   "toc_window_display": true
  }
 },
 "nbformat": 4,
 "nbformat_minor": 2
}
