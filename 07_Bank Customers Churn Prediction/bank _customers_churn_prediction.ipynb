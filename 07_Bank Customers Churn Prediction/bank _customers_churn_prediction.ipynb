{
 "cells": [
  {
   "cell_type": "markdown",
   "metadata": {},
   "source": [
    "# Bank Customers Churn Prediction"
   ]
  },
  {
   "cell_type": "markdown",
   "metadata": {},
   "source": [
    "Customers began to leave Beta-Bank. Every month. A little, but noticeable. Banking marketers figured it was cheaper to keep current customers than to attract new ones.\n",
    "\n",
    "It is necessary to predict whether the client will leave the bank in the near future or not. We are provided with historical data on customer behavior and termination of agreements with the bank.\n",
    "\n",
    "Build a model with an extremely large *F1*-measure. To pass the project successfully, you need to bring the metric to 0.59. Check the *F1*-measure on the test set yourself.\n",
    "\n",
    "Additionally measure *AUC-ROC*, compare its value with *F1*-measure.\n",
    "\n",
    "\n",
    "Data: [https://www.kaggle.com/barelydedicated/bank-customer-churn-modeling](https://www.kaggle.com/barelydedicated/bank-customer-churn-modeling)"
   ]
  },
  {
   "cell_type": "markdown",
   "metadata": {},
   "source": [
    "## Library import and data review"
   ]
  },
  {
   "cell_type": "code",
   "execution_count": 1,
   "metadata": {},
   "outputs": [],
   "source": [
    "import pandas as pd\n",
    "\n",
    "from sklearn.preprocessing import StandardScaler\n",
    "\n",
    "from sklearn.utils import shuffle\n",
    "\n",
    "from sklearn.model_selection import train_test_split, GridSearchCV\n",
    "\n",
    "from sklearn.metrics import accuracy_score, f1_score, roc_auc_score, roc_curve  \n",
    "\n",
    "from sklearn.tree import DecisionTreeClassifier\n",
    "from sklearn.linear_model import LogisticRegression\n",
    "from sklearn.ensemble import RandomForestClassifier\n",
    "\n",
    "import matplotlib.pyplot as plt\n",
    "\n",
    "import warnings\n",
    "warnings.filterwarnings(\"ignore\")"
   ]
  },
  {
   "cell_type": "code",
   "execution_count": 3,
   "metadata": {},
   "outputs": [],
   "source": [
    "data = pd.read_csv(\"Churn.csv\")"
   ]
  },
  {
   "cell_type": "code",
   "execution_count": 4,
   "metadata": {},
   "outputs": [
    {
     "data": {
      "text/plain": "(10000, 14)"
     },
     "execution_count": 4,
     "metadata": {},
     "output_type": "execute_result"
    }
   ],
   "source": [
    "data.shape"
   ]
  },
  {
   "cell_type": "code",
   "execution_count": 5,
   "metadata": {},
   "outputs": [
    {
     "name": "stdout",
     "output_type": "stream",
     "text": [
      "<class 'pandas.core.frame.DataFrame'>\n",
      "RangeIndex: 10000 entries, 0 to 9999\n",
      "Data columns (total 14 columns):\n",
      " #   Column           Non-Null Count  Dtype  \n",
      "---  ------           --------------  -----  \n",
      " 0   RowNumber        10000 non-null  int64  \n",
      " 1   CustomerId       10000 non-null  int64  \n",
      " 2   Surname          10000 non-null  object \n",
      " 3   CreditScore      10000 non-null  int64  \n",
      " 4   Geography        10000 non-null  object \n",
      " 5   Gender           10000 non-null  object \n",
      " 6   Age              10000 non-null  int64  \n",
      " 7   Tenure           9091 non-null   float64\n",
      " 8   Balance          10000 non-null  float64\n",
      " 9   NumOfProducts    10000 non-null  int64  \n",
      " 10  HasCrCard        10000 non-null  int64  \n",
      " 11  IsActiveMember   10000 non-null  int64  \n",
      " 12  EstimatedSalary  10000 non-null  float64\n",
      " 13  Exited           10000 non-null  int64  \n",
      "dtypes: float64(3), int64(8), object(3)\n",
      "memory usage: 1.1+ MB\n"
     ]
    }
   ],
   "source": [
    "data.info()"
   ]
  },
  {
   "cell_type": "code",
   "execution_count": 6,
   "metadata": {},
   "outputs": [],
   "source": [
    "data.columns = data.columns.str.lower()"
   ]
  },
  {
   "cell_type": "code",
   "execution_count": 7,
   "metadata": {},
   "outputs": [
    {
     "data": {
      "text/plain": "   rownumber  customerid   surname  creditscore geography  gender  age  \\\n0          1    15634602  Hargrave          619    France  Female   42   \n1          2    15647311      Hill          608     Spain  Female   41   \n2          3    15619304      Onio          502    France  Female   42   \n3          4    15701354      Boni          699    France  Female   39   \n4          5    15737888  Mitchell          850     Spain  Female   43   \n\n   tenure    balance  numofproducts  hascrcard  isactivemember  \\\n0     2.0       0.00              1          1               1   \n1     1.0   83807.86              1          0               1   \n2     8.0  159660.80              3          1               0   \n3     1.0       0.00              2          0               0   \n4     2.0  125510.82              1          1               1   \n\n   estimatedsalary  exited  \n0        101348.88       1  \n1        112542.58       0  \n2        113931.57       1  \n3         93826.63       0  \n4         79084.10       0  ",
      "text/html": "<div>\n<style scoped>\n    .dataframe tbody tr th:only-of-type {\n        vertical-align: middle;\n    }\n\n    .dataframe tbody tr th {\n        vertical-align: top;\n    }\n\n    .dataframe thead th {\n        text-align: right;\n    }\n</style>\n<table border=\"1\" class=\"dataframe\">\n  <thead>\n    <tr style=\"text-align: right;\">\n      <th></th>\n      <th>rownumber</th>\n      <th>customerid</th>\n      <th>surname</th>\n      <th>creditscore</th>\n      <th>geography</th>\n      <th>gender</th>\n      <th>age</th>\n      <th>tenure</th>\n      <th>balance</th>\n      <th>numofproducts</th>\n      <th>hascrcard</th>\n      <th>isactivemember</th>\n      <th>estimatedsalary</th>\n      <th>exited</th>\n    </tr>\n  </thead>\n  <tbody>\n    <tr>\n      <th>0</th>\n      <td>1</td>\n      <td>15634602</td>\n      <td>Hargrave</td>\n      <td>619</td>\n      <td>France</td>\n      <td>Female</td>\n      <td>42</td>\n      <td>2.0</td>\n      <td>0.00</td>\n      <td>1</td>\n      <td>1</td>\n      <td>1</td>\n      <td>101348.88</td>\n      <td>1</td>\n    </tr>\n    <tr>\n      <th>1</th>\n      <td>2</td>\n      <td>15647311</td>\n      <td>Hill</td>\n      <td>608</td>\n      <td>Spain</td>\n      <td>Female</td>\n      <td>41</td>\n      <td>1.0</td>\n      <td>83807.86</td>\n      <td>1</td>\n      <td>0</td>\n      <td>1</td>\n      <td>112542.58</td>\n      <td>0</td>\n    </tr>\n    <tr>\n      <th>2</th>\n      <td>3</td>\n      <td>15619304</td>\n      <td>Onio</td>\n      <td>502</td>\n      <td>France</td>\n      <td>Female</td>\n      <td>42</td>\n      <td>8.0</td>\n      <td>159660.80</td>\n      <td>3</td>\n      <td>1</td>\n      <td>0</td>\n      <td>113931.57</td>\n      <td>1</td>\n    </tr>\n    <tr>\n      <th>3</th>\n      <td>4</td>\n      <td>15701354</td>\n      <td>Boni</td>\n      <td>699</td>\n      <td>France</td>\n      <td>Female</td>\n      <td>39</td>\n      <td>1.0</td>\n      <td>0.00</td>\n      <td>2</td>\n      <td>0</td>\n      <td>0</td>\n      <td>93826.63</td>\n      <td>0</td>\n    </tr>\n    <tr>\n      <th>4</th>\n      <td>5</td>\n      <td>15737888</td>\n      <td>Mitchell</td>\n      <td>850</td>\n      <td>Spain</td>\n      <td>Female</td>\n      <td>43</td>\n      <td>2.0</td>\n      <td>125510.82</td>\n      <td>1</td>\n      <td>1</td>\n      <td>1</td>\n      <td>79084.10</td>\n      <td>0</td>\n    </tr>\n  </tbody>\n</table>\n</div>"
     },
     "execution_count": 7,
     "metadata": {},
     "output_type": "execute_result"
    }
   ],
   "source": [
    "data.head()"
   ]
  },
  {
   "cell_type": "markdown",
   "metadata": {},
   "source": [
    "*Target* Exited — the fact that client has left. We will solve the problem by classification methods."
   ]
  },
  {
   "cell_type": "code",
   "execution_count": 8,
   "metadata": {},
   "outputs": [],
   "source": [
    "data['tenure'] = data['tenure'].fillna(-1)"
   ]
  },
  {
   "cell_type": "code",
   "execution_count": 9,
   "metadata": {},
   "outputs": [],
   "source": [
    "# drop columns with individual user characteristics\n",
    "data.drop([\"rownumber\", \"customerid\", \"surname\"], axis=1, inplace=True)"
   ]
  },
  {
   "cell_type": "code",
   "execution_count": 10,
   "metadata": {},
   "outputs": [
    {
     "data": {
      "text/plain": "France     5014\nGermany    2509\nSpain      2477\nName: geography, dtype: int64"
     },
     "execution_count": 10,
     "metadata": {},
     "output_type": "execute_result"
    }
   ],
   "source": [
    "data['geography'].value_counts()"
   ]
  },
  {
   "cell_type": "markdown",
   "metadata": {},
   "source": [
    "**Onehot encoding**"
   ]
  },
  {
   "cell_type": "code",
   "execution_count": 11,
   "metadata": {},
   "outputs": [],
   "source": [
    "data = pd.get_dummies(data, drop_first=True)"
   ]
  },
  {
   "cell_type": "code",
   "execution_count": 12,
   "metadata": {},
   "outputs": [
    {
     "data": {
      "text/plain": "   creditscore  age  tenure    balance  numofproducts  hascrcard  \\\n0          619   42     2.0       0.00              1          1   \n1          608   41     1.0   83807.86              1          0   \n2          502   42     8.0  159660.80              3          1   \n3          699   39     1.0       0.00              2          0   \n4          850   43     2.0  125510.82              1          1   \n\n   isactivemember  estimatedsalary  exited  geography_Germany  \\\n0               1        101348.88       1                  0   \n1               1        112542.58       0                  0   \n2               0        113931.57       1                  0   \n3               0         93826.63       0                  0   \n4               1         79084.10       0                  0   \n\n   geography_Spain  gender_Male  \n0                0            0  \n1                1            0  \n2                0            0  \n3                0            0  \n4                1            0  ",
      "text/html": "<div>\n<style scoped>\n    .dataframe tbody tr th:only-of-type {\n        vertical-align: middle;\n    }\n\n    .dataframe tbody tr th {\n        vertical-align: top;\n    }\n\n    .dataframe thead th {\n        text-align: right;\n    }\n</style>\n<table border=\"1\" class=\"dataframe\">\n  <thead>\n    <tr style=\"text-align: right;\">\n      <th></th>\n      <th>creditscore</th>\n      <th>age</th>\n      <th>tenure</th>\n      <th>balance</th>\n      <th>numofproducts</th>\n      <th>hascrcard</th>\n      <th>isactivemember</th>\n      <th>estimatedsalary</th>\n      <th>exited</th>\n      <th>geography_Germany</th>\n      <th>geography_Spain</th>\n      <th>gender_Male</th>\n    </tr>\n  </thead>\n  <tbody>\n    <tr>\n      <th>0</th>\n      <td>619</td>\n      <td>42</td>\n      <td>2.0</td>\n      <td>0.00</td>\n      <td>1</td>\n      <td>1</td>\n      <td>1</td>\n      <td>101348.88</td>\n      <td>1</td>\n      <td>0</td>\n      <td>0</td>\n      <td>0</td>\n    </tr>\n    <tr>\n      <th>1</th>\n      <td>608</td>\n      <td>41</td>\n      <td>1.0</td>\n      <td>83807.86</td>\n      <td>1</td>\n      <td>0</td>\n      <td>1</td>\n      <td>112542.58</td>\n      <td>0</td>\n      <td>0</td>\n      <td>1</td>\n      <td>0</td>\n    </tr>\n    <tr>\n      <th>2</th>\n      <td>502</td>\n      <td>42</td>\n      <td>8.0</td>\n      <td>159660.80</td>\n      <td>3</td>\n      <td>1</td>\n      <td>0</td>\n      <td>113931.57</td>\n      <td>1</td>\n      <td>0</td>\n      <td>0</td>\n      <td>0</td>\n    </tr>\n    <tr>\n      <th>3</th>\n      <td>699</td>\n      <td>39</td>\n      <td>1.0</td>\n      <td>0.00</td>\n      <td>2</td>\n      <td>0</td>\n      <td>0</td>\n      <td>93826.63</td>\n      <td>0</td>\n      <td>0</td>\n      <td>0</td>\n      <td>0</td>\n    </tr>\n    <tr>\n      <th>4</th>\n      <td>850</td>\n      <td>43</td>\n      <td>2.0</td>\n      <td>125510.82</td>\n      <td>1</td>\n      <td>1</td>\n      <td>1</td>\n      <td>79084.10</td>\n      <td>0</td>\n      <td>0</td>\n      <td>1</td>\n      <td>0</td>\n    </tr>\n  </tbody>\n</table>\n</div>"
     },
     "execution_count": 12,
     "metadata": {},
     "output_type": "execute_result"
    }
   ],
   "source": [
    "data.head()"
   ]
  },
  {
   "cell_type": "markdown",
   "metadata": {},
   "source": [
    "**Splitting data into samples: training, validation, test**"
   ]
  },
  {
   "cell_type": "code",
   "execution_count": null,
   "outputs": [],
   "source": [],
   "metadata": {
    "collapsed": false
   }
  },
  {
   "cell_type": "code",
   "execution_count": 13,
   "metadata": {},
   "outputs": [],
   "source": [
    "features = data.drop('exited', axis=1)\n",
    "target = data['exited']"
   ]
  },
  {
   "cell_type": "code",
   "execution_count": 14,
   "metadata": {},
   "outputs": [],
   "source": [
    "features_train, features_test0, target_train, target_test0 = train_test_split(features, target, \n",
    "                                                                              test_size=0.4, \n",
    "                                                                              random_state=1)"
   ]
  },
  {
   "cell_type": "code",
   "execution_count": 15,
   "metadata": {},
   "outputs": [],
   "source": [
    "features_valid, features_test, target_valid, target_test = train_test_split(features_test0, target_test0, \n",
    "                                                                              test_size=0.5, \n",
    "                                                                              random_state=1)"
   ]
  },
  {
   "cell_type": "code",
   "execution_count": 16,
   "metadata": {},
   "outputs": [
    {
     "name": "stdout",
     "output_type": "stream",
     "text": [
      "(6000, 11) (6000,) (2000, 11) (2000,) (2000, 11) (2000,)\n"
     ]
    }
   ],
   "source": [
    "print(features_train.shape, target_train.shape, features_valid.shape, target_valid.shape, features_test.shape, target_test.shape)\n"
   ]
  },
  {
   "cell_type": "markdown",
   "metadata": {},
   "source": [
    "- Train - 60% (`features_train`, `target_train`)\n",
    "- Valid - 20% (`features_valid`, `target_valid`)\n",
    "- Test - 20% (`features_test`,`target_test`)"
   ]
  },
  {
   "cell_type": "markdown",
   "metadata": {},
   "source": [
    " **Scaling**"
   ]
  },
  {
   "cell_type": "code",
   "execution_count": 17,
   "metadata": {},
   "outputs": [],
   "source": [
    "numeric = ['creditscore', 'age', 'tenure', 'balance', 'estimatedsalary']"
   ]
  },
  {
   "cell_type": "code",
   "execution_count": 18,
   "metadata": {},
   "outputs": [],
   "source": [
    "scaler = StandardScaler()\n",
    "scaler.fit(features_train[numeric]) \n",
    "features_train[numeric] = scaler.transform(features_train[numeric])"
   ]
  },
  {
   "cell_type": "code",
   "execution_count": 19,
   "metadata": {},
   "outputs": [],
   "source": [
    "features_valid[numeric] = scaler.transform(features_valid[numeric])"
   ]
  },
  {
   "cell_type": "code",
   "execution_count": 20,
   "metadata": {},
   "outputs": [],
   "source": [
    "features_test[numeric] = scaler.transform(features_test[numeric])"
   ]
  },
  {
   "cell_type": "markdown",
   "metadata": {},
   "source": [
    "## Model"
   ]
  },
  {
   "cell_type": "markdown",
   "metadata": {},
   "source": [
    "DecisionTreeClassifier, RandomForestClassifier, LogisticRegression"
   ]
  },
  {
   "cell_type": "code",
   "execution_count": 21,
   "metadata": {},
   "outputs": [
    {
     "name": "stdout",
     "output_type": "stream",
     "text": [
      "Accuracy: 0.779\n",
      "F1: 0.48842592592592593\n",
      "AUC-ROC: 0.6771296063686238\n"
     ]
    }
   ],
   "source": [
    "model_dtc = DecisionTreeClassifier(random_state=123)\n",
    "model_dtc.fit(features_train, target_train)\n",
    "predictions_dtc = model_dtc.predict(features_valid)\n",
    "\n",
    "print(\"Accuracy:\", accuracy_score(predictions_dtc, target_valid))\n",
    "print(\"F1:\", f1_score(predictions_dtc, target_valid))\n",
    "print(\"AUC-ROC:\", roc_auc_score(target_valid, predictions_dtc))"
   ]
  },
  {
   "cell_type": "code",
   "execution_count": 22,
   "metadata": {},
   "outputs": [
    {
     "name": "stdout",
     "output_type": "stream",
     "text": [
      "accuracy: 0.865\n",
      "F1: 0.5794392523364486\n",
      "AUC-ROC: 0.7098196489254\n"
     ]
    }
   ],
   "source": [
    "model_rfc = RandomForestClassifier(random_state=123)\n",
    "\n",
    "param_grid = { \n",
    "    'n_estimators': [10, 20, 30, 40, 50],\n",
    "    'max_features': ['log2'],\n",
    "    'max_depth' : [5,7,9,11,13,15],\n",
    "    'criterion' : ['gini']\n",
    "}\n",
    "\n",
    "CV_rfc = GridSearchCV(estimator=model_rfc, param_grid=param_grid, cv=5)\n",
    "CV_rfc.fit(features_train, target_train)\n",
    "\n",
    "\n",
    "predictions_rfc = CV_rfc.best_estimator_.predict(features_valid)\n",
    "print(\"accuracy:\", accuracy_score(predictions_rfc, target_valid))\n",
    "print(\"F1:\", f1_score(predictions_rfc, target_valid))\n",
    "print(\"AUC-ROC:\", roc_auc_score(target_valid, predictions_rfc))"
   ]
  },
  {
   "cell_type": "code",
   "execution_count": 23,
   "metadata": {},
   "outputs": [
    {
     "name": "stdout",
     "output_type": "stream",
     "text": [
      "Accuracy: 0.8105\n",
      "F1: 0.3315696649029982\n",
      "AUC-ROC: 0.5951728370732853\n"
     ]
    }
   ],
   "source": [
    "model_lgr = LogisticRegression(solver = 'liblinear')\n",
    "model_lgr.fit(features_train, target_train)\n",
    "\n",
    "predictions_lgr = model_lgr.predict(features_valid)\n",
    "\n",
    "print(\"Accuracy:\", accuracy_score(predictions_lgr, target_valid))\n",
    "print(\"F1:\", f1_score(predictions_lgr, target_valid))\n",
    "print(\"AUC-ROC:\", roc_auc_score(target_valid, predictions_lgr))"
   ]
  },
  {
   "cell_type": "markdown",
   "metadata": {},
   "source": [
    "Accuracy and F1-score:\n",
    "- decision tree 0.779 and 0.488\n",
    "- random forest 0.865 and 0.579\n",
    "- logistic regression 0.805 and 0.331\n",
    "\n",
    "The random forest model has the highest performance."
   ]
  },
  {
   "cell_type": "markdown",
   "metadata": {},
   "source": [
    "## Imbalance"
   ]
  },
  {
   "cell_type": "code",
   "execution_count": 24,
   "metadata": {},
   "outputs": [
    {
     "data": {
      "text/plain": "0    0.800667\n1    0.199333\nName: exited, dtype: float64"
     },
     "execution_count": 24,
     "metadata": {},
     "output_type": "execute_result"
    }
   ],
   "source": [
    "target_train.value_counts(normalize = 1)"
   ]
  },
  {
   "cell_type": "code",
   "execution_count": 25,
   "metadata": {},
   "outputs": [
    {
     "data": {
      "text/plain": "0    0.7895\n1    0.2105\nName: exited, dtype: float64"
     },
     "execution_count": 25,
     "metadata": {},
     "output_type": "execute_result"
    }
   ],
   "source": [
    "target_valid.value_counts(normalize = 1)"
   ]
  },
  {
   "cell_type": "markdown",
   "metadata": {},
   "source": [
    "There is a noticeable class imbalance in the training and validation samples (0 ≈ 80%, 1 ≈ 20%)"
   ]
  },
  {
   "cell_type": "markdown",
   "metadata": {},
   "source": [
    "**Upsampling**"
   ]
  },
  {
   "cell_type": "code",
   "execution_count": 26,
   "metadata": {},
   "outputs": [],
   "source": [
    "def upsample(features, target, repeat):\n",
    "    features_zeros = features[target == 0]\n",
    "    features_ones = features[target == 1]\n",
    "    target_zeros = target[target == 0]\n",
    "    target_ones = target[target == 1]\n",
    "\n",
    "    features_upsampled = pd.concat([features_zeros] + [features_ones] * repeat)\n",
    "    target_upsampled = pd.concat([target_zeros] + [target_ones] * repeat)\n",
    "    \n",
    "    features_upsampled, target_upsampled = shuffle(\n",
    "        features_upsampled, target_upsampled, random_state=12345)\n",
    "    \n",
    "    return features_upsampled, target_upsampled\n",
    "\n",
    "features_upsampled_train, target_upsampled_train = upsample(features_train, target_train, 4)"
   ]
  },
  {
   "cell_type": "code",
   "execution_count": 27,
   "metadata": {},
   "outputs": [
    {
     "data": {
      "text/plain": "<Figure size 216x216 with 1 Axes>",
      "image/png": "[encoded data removed]"
     },
     "metadata": {
      "needs_background": "light"
     },
     "output_type": "display_data"
    }
   ],
   "source": [
    "target_upsampled_train.plot(kind ='hist', bins=2, figsize=(3, 3))\n",
    "plt.show()"
   ]
  },
  {
   "cell_type": "code",
   "execution_count": 28,
   "metadata": {},
   "outputs": [
    {
     "data": {
      "text/plain": "GridSearchCV(cv=5, estimator=RandomForestClassifier(random_state=123),\n             param_grid={'criterion': ['gini'],\n                         'max_depth': [5, 7, 9, 11, 13, 15],\n                         'max_features': ['log2'],\n                         'n_estimators': [10, 20, 30, 40, 50]})"
     },
     "execution_count": 28,
     "metadata": {},
     "output_type": "execute_result"
    }
   ],
   "source": [
    "CV_rfc = GridSearchCV(estimator=model_rfc, param_grid=param_grid, cv=5)\n",
    "CV_rfc.fit(features_upsampled_train, target_upsampled_train)"
   ]
  },
  {
   "cell_type": "code",
   "execution_count": 29,
   "metadata": {},
   "outputs": [
    {
     "name": "stdout",
     "output_type": "stream",
     "text": [
      "Accuracy: 0.8425\n",
      "F1: 0.6067415730337079\n",
      "AUC-ROC: 0.7452166875514283\n"
     ]
    }
   ],
   "source": [
    "predictions = CV_rfc.best_estimator_.predict(features_valid)\n",
    "\n",
    "\n",
    "print(\"Accuracy:\", accuracy_score(predictions, target_valid))\n",
    "print(\"F1:\", f1_score(predictions, target_valid))\n",
    "print(\"AUC-ROC:\", roc_auc_score(target_valid, predictions))"
   ]
  },
  {
   "cell_type": "code",
   "execution_count": 30,
   "metadata": {},
   "outputs": [
    {
     "data": {
      "text/plain": "<Figure size 432x288 with 1 Axes>",
      "image/png": "[encoded data removed]"
     },
     "metadata": {
      "needs_background": "light"
     },
     "output_type": "display_data"
    }
   ],
   "source": [
    "fpr, tpr, thresholds = roc_curve(target_valid, predictions) \n",
    "plt.figure()\n",
    "\n",
    "plt.plot(fpr, tpr)\n",
    "plt.plot([0, 1], [0, 1], linestyle='--')\n",
    "plt.xlim([0.0, 1.0])\n",
    "plt.ylim([0.0, 1.0])\n",
    "plt.xlabel('False Positive Rate')\n",
    "plt.ylabel('True Positive Rate')\n",
    "plt.title('ROC-curve')\n",
    "\n",
    "plt.show()"
   ]
  },
  {
   "cell_type": "markdown",
   "metadata": {},
   "source": [
    "**Downsampling**"
   ]
  },
  {
   "cell_type": "code",
   "execution_count": 31,
   "metadata": {},
   "outputs": [],
   "source": [
    "def downsample(features, target, fraction):\n",
    "    features_zeros = features[target == 0]\n",
    "    features_ones = features[target == 1]\n",
    "    target_zeros = target[target == 0]\n",
    "    target_ones = target[target == 1]\n",
    "\n",
    "    features_downsampled = pd.concat(\n",
    "        [features_zeros.sample(frac=fraction, random_state=123)] + [features_ones])\n",
    "    target_downsampled = pd.concat(\n",
    "        [target_zeros.sample(frac=fraction, random_state=123)] + [target_ones])\n",
    "    \n",
    "    features_downsampled, target_downsampled = shuffle(\n",
    "        features_downsampled, target_downsampled, random_state=123)\n",
    "    \n",
    "    return features_downsampled, target_downsampled"
   ]
  },
  {
   "cell_type": "code",
   "execution_count": 32,
   "metadata": {},
   "outputs": [],
   "source": [
    "features_downsampled_train, target_downsampled_train = downsample(features_train, \n",
    "                                                                  target_train, \n",
    "                                                                  fraction=0.1)\n"
   ]
  },
  {
   "cell_type": "code",
   "execution_count": 33,
   "metadata": {},
   "outputs": [
    {
     "data": {
      "text/plain": "GridSearchCV(cv=5, estimator=RandomForestClassifier(random_state=123),\n             param_grid={'criterion': ['gini'],\n                         'max_depth': [5, 7, 9, 11, 13, 15],\n                         'max_features': ['log2'],\n                         'n_estimators': [10, 20, 30, 40, 50]})"
     },
     "execution_count": 33,
     "metadata": {},
     "output_type": "execute_result"
    }
   ],
   "source": [
    "CV_rfc_down = GridSearchCV(estimator=model_rfc, param_grid=param_grid, cv=5)\n",
    "CV_rfc_down.fit(features_downsampled_train, target_downsampled_train)"
   ]
  },
  {
   "cell_type": "code",
   "execution_count": 34,
   "metadata": {},
   "outputs": [
    {
     "name": "stdout",
     "output_type": "stream",
     "text": [
      "Accuracy: 0.563\n",
      "F1: 0.47094430992736086\n",
      "AUC-ROC: 0.6953708035543708\n"
     ]
    }
   ],
   "source": [
    "predictions = CV_rfc_down.best_estimator_.predict(features_valid)\n",
    "print(\"Accuracy:\", accuracy_score(predictions, target_valid))\n",
    "print(\"F1:\", f1_score(predictions, target_valid))\n",
    "print(\"AUC-ROC:\", roc_auc_score(target_valid, predictions))"
   ]
  },
  {
   "cell_type": "markdown",
   "metadata": {},
   "source": [
    "Training the Random forest model on a balanced sample (upsampling technique) led to an increase in metrics. Next, we test the model on a test set."
   ]
  },
  {
   "cell_type": "markdown",
   "metadata": {},
   "source": [
    "## Test"
   ]
  },
  {
   "cell_type": "code",
   "execution_count": 35,
   "metadata": {},
   "outputs": [
    {
     "name": "stdout",
     "output_type": "stream",
     "text": [
      "Accuracy: 0.852\n",
      "F1: 0.6105263157894737\n",
      "AUC-ROC: 0.7420132610006027\n"
     ]
    }
   ],
   "source": [
    "predictions = CV_rfc.best_estimator_.predict(features_test)\n",
    "print(\"Accuracy:\", accuracy_score(predictions, target_test))\n",
    "print(\"F1:\", f1_score(predictions, target_test))\n",
    "print(\"AUC-ROC:\", roc_auc_score(target_test, predictions))"
   ]
  },
  {
   "cell_type": "markdown",
   "metadata": {},
   "source": [
    "## Conclusions"
   ]
  },
  {
   "cell_type": "markdown",
   "source": [
    "- Conducted data preparation: removed unnecessary features, filled in gaps, scaled numerical features, applied the OHE technique for categorical features\n",
    "- Research three models. The most accurate was the random forest model with the metric F1=0.58\n",
    "- Identified an imbalance of classes 80/20 (negative/positive). We made upsampling of a positive class, thanks to which we managed to increase F1 to 0.61. Dowmsampling proved to be less efficient.\n",
    "- Checking on the test sample showed that the model trained on upsampling data shows: accuracy 0.852, F1 0.61, AUC-ROC 0.74"
   ],
   "metadata": {
    "collapsed": false
   }
  },
  {
   "cell_type": "code",
   "execution_count": 35,
   "outputs": [],
   "source": [],
   "metadata": {
    "collapsed": false
   }
  }
 ],
 "metadata": {
  "ExecuteTimeLog": [
   {
    "duration": 1072,
    "start_time": "2022-06-15T10:56:31.848Z"
   },
   {
    "duration": 157,
    "start_time": "2022-06-15T10:57:20.451Z"
   },
   {
    "duration": 11,
    "start_time": "2022-06-15T10:57:45.306Z"
   },
   {
    "duration": 13,
    "start_time": "2022-06-15T10:57:55.511Z"
   },
   {
    "duration": 14,
    "start_time": "2022-06-15T10:58:08.790Z"
   },
   {
    "duration": 139,
    "start_time": "2022-06-15T11:10:03.732Z"
   },
   {
    "duration": 3,
    "start_time": "2022-06-15T11:10:47.252Z"
   },
   {
    "duration": 13,
    "start_time": "2022-06-15T11:10:56.190Z"
   },
   {
    "duration": 12,
    "start_time": "2022-06-15T11:11:01.421Z"
   },
   {
    "duration": 14,
    "start_time": "2022-06-15T11:16:01.058Z"
   },
   {
    "duration": 27,
    "start_time": "2022-06-15T11:16:06.187Z"
   },
   {
    "duration": 11,
    "start_time": "2022-06-15T11:16:17.492Z"
   },
   {
    "duration": 16,
    "start_time": "2022-06-15T11:17:25.822Z"
   },
   {
    "duration": 16,
    "start_time": "2022-06-15T11:17:35.463Z"
   },
   {
    "duration": 5,
    "start_time": "2022-06-15T11:17:41.987Z"
   },
   {
    "duration": 8,
    "start_time": "2022-06-15T11:18:09.943Z"
   },
   {
    "duration": 13,
    "start_time": "2022-06-15T11:19:53.356Z"
   },
   {
    "duration": 16,
    "start_time": "2022-06-15T11:19:57.683Z"
   },
   {
    "duration": 13,
    "start_time": "2022-06-15T11:20:08.284Z"
   },
   {
    "duration": 4,
    "start_time": "2022-06-15T11:27:04.782Z"
   },
   {
    "duration": 10,
    "start_time": "2022-06-15T11:41:21.711Z"
   },
   {
    "duration": 14,
    "start_time": "2022-06-15T11:41:28.151Z"
   },
   {
    "duration": 5,
    "start_time": "2022-06-15T11:41:38.414Z"
   },
   {
    "duration": 9,
    "start_time": "2022-06-15T11:43:12.143Z"
   },
   {
    "duration": 22,
    "start_time": "2022-06-15T11:43:23.288Z"
   },
   {
    "duration": 7,
    "start_time": "2022-06-15T11:43:24.317Z"
   },
   {
    "duration": 11,
    "start_time": "2022-06-15T11:43:25.589Z"
   },
   {
    "duration": 4,
    "start_time": "2022-06-15T11:43:36.786Z"
   },
   {
    "duration": 7,
    "start_time": "2022-06-15T11:44:19.345Z"
   },
   {
    "duration": 5,
    "start_time": "2022-06-15T11:44:21.039Z"
   },
   {
    "duration": 5,
    "start_time": "2022-06-15T11:44:21.710Z"
   },
   {
    "duration": 3,
    "start_time": "2022-06-15T11:46:18.614Z"
   },
   {
    "duration": 12,
    "start_time": "2022-06-15T11:47:32.285Z"
   },
   {
    "duration": 15,
    "start_time": "2022-06-15T11:47:46.876Z"
   },
   {
    "duration": 8,
    "start_time": "2022-06-15T11:47:49.806Z"
   },
   {
    "duration": 7,
    "start_time": "2022-06-15T11:48:02.639Z"
   },
   {
    "duration": 8,
    "start_time": "2022-06-15T13:11:08.025Z"
   },
   {
    "duration": 9,
    "start_time": "2022-06-15T13:45:34.836Z"
   },
   {
    "duration": 3,
    "start_time": "2022-06-15T13:46:16.575Z"
   },
   {
    "duration": 30,
    "start_time": "2022-06-15T13:46:20.457Z"
   },
   {
    "duration": 103,
    "start_time": "2022-06-15T14:46:15.613Z"
   },
   {
    "duration": 13,
    "start_time": "2022-06-15T14:46:31.928Z"
   },
   {
    "duration": 13,
    "start_time": "2022-06-15T14:46:44.135Z"
   },
   {
    "duration": 20432,
    "start_time": "2022-06-15T14:47:12.790Z"
   },
   {
    "duration": 112,
    "start_time": "2022-06-15T14:56:13.066Z"
   },
   {
    "duration": 101,
    "start_time": "2022-06-15T14:56:30.277Z"
   },
   {
    "duration": 6,
    "start_time": "2022-06-15T14:58:16.732Z"
   },
   {
    "duration": 7,
    "start_time": "2022-06-15T15:05:23.364Z"
   },
   {
    "duration": 15,
    "start_time": "2022-06-16T18:26:25.217Z"
   },
   {
    "duration": 92,
    "start_time": "2022-06-16T18:26:26.378Z"
   },
   {
    "duration": 1051,
    "start_time": "2022-06-16T18:26:37.344Z"
   },
   {
    "duration": 39,
    "start_time": "2022-06-16T18:26:38.396Z"
   },
   {
    "duration": 10,
    "start_time": "2022-06-16T18:26:38.437Z"
   },
   {
    "duration": 14,
    "start_time": "2022-06-16T18:26:38.448Z"
   },
   {
    "duration": 2,
    "start_time": "2022-06-16T18:26:38.464Z"
   },
   {
    "duration": 18,
    "start_time": "2022-06-16T18:26:38.468Z"
   },
   {
    "duration": 7,
    "start_time": "2022-06-16T18:26:38.487Z"
   },
   {
    "duration": 4,
    "start_time": "2022-06-16T18:26:38.496Z"
   },
   {
    "duration": 7,
    "start_time": "2022-06-16T18:26:38.502Z"
   },
   {
    "duration": 12,
    "start_time": "2022-06-16T18:26:38.511Z"
   },
   {
    "duration": 9,
    "start_time": "2022-06-16T18:26:38.525Z"
   },
   {
    "duration": 7,
    "start_time": "2022-06-16T18:26:38.536Z"
   },
   {
    "duration": 6,
    "start_time": "2022-06-16T18:26:38.545Z"
   },
   {
    "duration": 6,
    "start_time": "2022-06-16T18:26:38.554Z"
   },
   {
    "duration": 4,
    "start_time": "2022-06-16T18:26:38.561Z"
   },
   {
    "duration": 3,
    "start_time": "2022-06-16T18:26:38.594Z"
   },
   {
    "duration": 18,
    "start_time": "2022-06-16T18:26:38.599Z"
   },
   {
    "duration": 7,
    "start_time": "2022-06-16T18:26:38.618Z"
   },
   {
    "duration": 10,
    "start_time": "2022-06-16T18:26:38.627Z"
   },
   {
    "duration": 8,
    "start_time": "2022-06-16T18:26:38.639Z"
   },
   {
    "duration": 51,
    "start_time": "2022-06-16T18:26:38.649Z"
   },
   {
    "duration": 18075,
    "start_time": "2022-06-16T18:26:38.702Z"
   },
   {
    "duration": 30,
    "start_time": "2022-06-16T18:26:56.779Z"
   },
   {
    "duration": 86,
    "start_time": "2022-06-16T18:26:56.811Z"
   },
   {
    "duration": 99,
    "start_time": "2022-06-16T18:26:56.899Z"
   },
   {
    "duration": 13,
    "start_time": "2022-06-16T18:26:57.000Z"
   },
   {
    "duration": 97,
    "start_time": "2022-06-16T18:26:57.014Z"
   },
   {
    "duration": 36251,
    "start_time": "2022-06-16T18:38:13.930Z"
   },
   {
    "duration": 15,
    "start_time": "2022-06-16T18:39:41.729Z"
   },
   {
    "duration": 509,
    "start_time": "2022-06-16T18:43:14.469Z"
   },
   {
    "duration": 16,
    "start_time": "2022-06-16T18:44:29.441Z"
   },
   {
    "duration": 85,
    "start_time": "2022-06-16T18:44:30.287Z"
   },
   {
    "duration": 31746,
    "start_time": "2022-06-16T18:44:34.638Z"
   },
   {
    "duration": 22,
    "start_time": "2022-06-16T18:45:19.158Z"
   },
   {
    "duration": 17,
    "start_time": "2022-06-16T18:45:23.989Z"
   },
   {
    "duration": 123,
    "start_time": "2022-06-16T18:45:25.090Z"
   },
   {
    "duration": 26648,
    "start_time": "2022-06-16T18:45:26.165Z"
   },
   {
    "duration": 30,
    "start_time": "2022-06-16T18:46:00.727Z"
   },
   {
    "duration": 5,
    "start_time": "2022-06-16T18:47:51.484Z"
   },
   {
    "duration": 10,
    "start_time": "2022-06-16T18:47:52.263Z"
   },
   {
    "duration": 14196,
    "start_time": "2022-06-16T18:48:08.631Z"
   },
   {
    "duration": 21,
    "start_time": "2022-06-16T18:50:04.254Z"
   },
   {
    "duration": 13,
    "start_time": "2022-06-16T18:52:38.703Z"
   },
   {
    "duration": 76,
    "start_time": "2022-06-16T18:52:39.888Z"
   },
   {
    "duration": 26828,
    "start_time": "2022-06-16T18:52:41.465Z"
   },
   {
    "duration": 26,
    "start_time": "2022-06-16T18:53:10.302Z"
   },
   {
    "duration": 13,
    "start_time": "2022-06-16T18:54:36.316Z"
   },
   {
    "duration": 9746,
    "start_time": "2022-06-16T18:54:38.117Z"
   },
   {
    "duration": 27,
    "start_time": "2022-06-16T18:54:49.126Z"
   },
   {
    "duration": 19682,
    "start_time": "2022-06-16T18:55:14.724Z"
   },
   {
    "duration": 12,
    "start_time": "2022-06-16T18:55:55.251Z"
   },
   {
    "duration": 70,
    "start_time": "2022-06-16T18:55:58.113Z"
   },
   {
    "duration": 26244,
    "start_time": "2022-06-16T18:55:59.171Z"
   },
   {
    "duration": 19,
    "start_time": "2022-06-16T18:56:29.055Z"
   },
   {
    "duration": 19636,
    "start_time": "2022-06-16T18:57:25.368Z"
   },
   {
    "duration": 1248,
    "start_time": "2022-06-16T19:02:17.790Z"
   },
   {
    "duration": 47,
    "start_time": "2022-06-16T19:02:19.040Z"
   },
   {
    "duration": 15,
    "start_time": "2022-06-16T19:02:19.089Z"
   },
   {
    "duration": 23,
    "start_time": "2022-06-16T19:02:19.106Z"
   },
   {
    "duration": 4,
    "start_time": "2022-06-16T19:02:19.133Z"
   },
   {
    "duration": 25,
    "start_time": "2022-06-16T19:02:19.140Z"
   },
   {
    "duration": 34,
    "start_time": "2022-06-16T19:02:19.167Z"
   },
   {
    "duration": 6,
    "start_time": "2022-06-16T19:02:19.203Z"
   },
   {
    "duration": 13,
    "start_time": "2022-06-16T19:02:19.210Z"
   },
   {
    "duration": 24,
    "start_time": "2022-06-16T19:02:19.225Z"
   },
   {
    "duration": 17,
    "start_time": "2022-06-16T19:02:19.251Z"
   },
   {
    "duration": 28,
    "start_time": "2022-06-16T19:02:19.270Z"
   },
   {
    "duration": 8,
    "start_time": "2022-06-16T19:02:19.301Z"
   },
   {
    "duration": 6,
    "start_time": "2022-06-16T19:02:19.313Z"
   },
   {
    "duration": 31,
    "start_time": "2022-06-16T19:02:19.321Z"
   },
   {
    "duration": 32,
    "start_time": "2022-06-16T19:02:19.354Z"
   },
   {
    "duration": 20,
    "start_time": "2022-06-16T19:02:19.389Z"
   },
   {
    "duration": 9,
    "start_time": "2022-06-16T19:02:19.410Z"
   },
   {
    "duration": 12,
    "start_time": "2022-06-16T19:02:19.422Z"
   },
   {
    "duration": 18,
    "start_time": "2022-06-16T19:02:19.437Z"
   },
   {
    "duration": 60,
    "start_time": "2022-06-16T19:02:19.457Z"
   },
   {
    "duration": 21979,
    "start_time": "2022-06-16T19:02:19.519Z"
   },
   {
    "duration": 30,
    "start_time": "2022-06-16T19:02:41.500Z"
   },
   {
    "duration": 65,
    "start_time": "2022-06-16T19:02:41.532Z"
   },
   {
    "duration": 100,
    "start_time": "2022-06-16T19:02:41.599Z"
   },
   {
    "duration": 27,
    "start_time": "2022-06-16T19:02:41.701Z"
   },
   {
    "duration": 275,
    "start_time": "2022-06-16T19:02:41.730Z"
   },
   {
    "duration": 28830,
    "start_time": "2022-06-16T19:02:42.006Z"
   },
   {
    "duration": 22,
    "start_time": "2022-06-16T19:03:10.838Z"
   },
   {
    "duration": 12,
    "start_time": "2022-06-16T19:03:10.862Z"
   },
   {
    "duration": 25,
    "start_time": "2022-06-16T19:03:10.877Z"
   },
   {
    "duration": 9920,
    "start_time": "2022-06-16T19:03:10.905Z"
   },
   {
    "duration": 30,
    "start_time": "2022-06-16T19:03:20.827Z"
   },
   {
    "duration": 8,
    "start_time": "2022-06-16T19:05:26.765Z"
   },
   {
    "duration": 7,
    "start_time": "2022-06-16T19:05:27.368Z"
   },
   {
    "duration": 4,
    "start_time": "2022-06-16T19:05:27.993Z"
   },
   {
    "duration": 4,
    "start_time": "2022-06-16T19:08:22.989Z"
   },
   {
    "duration": 127,
    "start_time": "2022-06-16T19:08:23.789Z"
   },
   {
    "duration": 671,
    "start_time": "2022-06-16T19:08:24.235Z"
   },
   {
    "duration": 1112,
    "start_time": "2022-06-16T19:08:43.376Z"
   },
   {
    "duration": 40,
    "start_time": "2022-06-16T19:08:44.490Z"
   },
   {
    "duration": 10,
    "start_time": "2022-06-16T19:08:44.532Z"
   },
   {
    "duration": 22,
    "start_time": "2022-06-16T19:08:44.545Z"
   },
   {
    "duration": 4,
    "start_time": "2022-06-16T19:08:44.570Z"
   },
   {
    "duration": 23,
    "start_time": "2022-06-16T19:08:44.577Z"
   },
   {
    "duration": 4,
    "start_time": "2022-06-16T19:08:44.602Z"
   },
   {
    "duration": 7,
    "start_time": "2022-06-16T19:08:44.607Z"
   },
   {
    "duration": 9,
    "start_time": "2022-06-16T19:08:44.616Z"
   },
   {
    "duration": 14,
    "start_time": "2022-06-16T19:08:44.627Z"
   },
   {
    "duration": 10,
    "start_time": "2022-06-16T19:08:44.643Z"
   },
   {
    "duration": 5,
    "start_time": "2022-06-16T19:08:44.655Z"
   },
   {
    "duration": 39,
    "start_time": "2022-06-16T19:08:44.662Z"
   },
   {
    "duration": 7,
    "start_time": "2022-06-16T19:08:44.705Z"
   },
   {
    "duration": 5,
    "start_time": "2022-06-16T19:08:44.714Z"
   },
   {
    "duration": 5,
    "start_time": "2022-06-16T19:08:44.721Z"
   },
   {
    "duration": 25,
    "start_time": "2022-06-16T19:08:44.728Z"
   },
   {
    "duration": 10,
    "start_time": "2022-06-16T19:08:44.755Z"
   },
   {
    "duration": 10,
    "start_time": "2022-06-16T19:08:44.794Z"
   },
   {
    "duration": 14,
    "start_time": "2022-06-16T19:08:44.806Z"
   },
   {
    "duration": 33,
    "start_time": "2022-06-16T19:08:44.822Z"
   },
   {
    "duration": 18838,
    "start_time": "2022-06-16T19:08:44.857Z"
   },
   {
    "duration": 28,
    "start_time": "2022-06-16T19:09:03.696Z"
   },
   {
    "duration": 72,
    "start_time": "2022-06-16T19:09:03.726Z"
   },
   {
    "duration": 107,
    "start_time": "2022-06-16T19:09:03.800Z"
   },
   {
    "duration": 14,
    "start_time": "2022-06-16T19:09:03.909Z"
   },
   {
    "duration": 235,
    "start_time": "2022-06-16T19:09:03.925Z"
   },
   {
    "duration": 25252,
    "start_time": "2022-06-16T19:09:04.162Z"
   },
   {
    "duration": 20,
    "start_time": "2022-06-16T19:09:29.416Z"
   },
   {
    "duration": 4,
    "start_time": "2022-06-16T19:09:29.439Z"
   },
   {
    "duration": 14,
    "start_time": "2022-06-16T19:09:29.444Z"
   },
   {
    "duration": 9530,
    "start_time": "2022-06-16T19:09:29.460Z"
   },
   {
    "duration": 17,
    "start_time": "2022-06-16T19:09:38.995Z"
   },
   {
    "duration": 4,
    "start_time": "2022-06-16T19:10:02.964Z"
   },
   {
    "duration": 168,
    "start_time": "2022-06-16T19:10:03.689Z"
   },
   {
    "duration": 1071,
    "start_time": "2022-06-16T19:10:16.600Z"
   },
   {
    "duration": 41,
    "start_time": "2022-06-16T19:10:17.673Z"
   },
   {
    "duration": 10,
    "start_time": "2022-06-16T19:10:17.716Z"
   },
   {
    "duration": 15,
    "start_time": "2022-06-16T19:10:17.727Z"
   },
   {
    "duration": 5,
    "start_time": "2022-06-16T19:10:17.744Z"
   },
   {
    "duration": 17,
    "start_time": "2022-06-16T19:10:17.750Z"
   },
   {
    "duration": 4,
    "start_time": "2022-06-16T19:10:17.769Z"
   },
   {
    "duration": 4,
    "start_time": "2022-06-16T19:10:17.794Z"
   },
   {
    "duration": 9,
    "start_time": "2022-06-16T19:10:17.800Z"
   },
   {
    "duration": 13,
    "start_time": "2022-06-16T19:10:17.811Z"
   },
   {
    "duration": 11,
    "start_time": "2022-06-16T19:10:17.826Z"
   },
   {
    "duration": 6,
    "start_time": "2022-06-16T19:10:17.839Z"
   },
   {
    "duration": 7,
    "start_time": "2022-06-16T19:10:17.846Z"
   },
   {
    "duration": 43,
    "start_time": "2022-06-16T19:10:17.855Z"
   },
   {
    "duration": 6,
    "start_time": "2022-06-16T19:10:17.899Z"
   },
   {
    "duration": 6,
    "start_time": "2022-06-16T19:10:17.907Z"
   },
   {
    "duration": 18,
    "start_time": "2022-06-16T19:10:17.915Z"
   },
   {
    "duration": 11,
    "start_time": "2022-06-16T19:10:17.934Z"
   },
   {
    "duration": 10,
    "start_time": "2022-06-16T19:10:17.946Z"
   },
   {
    "duration": 43,
    "start_time": "2022-06-16T19:10:17.958Z"
   },
   {
    "duration": 38,
    "start_time": "2022-06-16T19:10:18.003Z"
   },
   {
    "duration": 18697,
    "start_time": "2022-06-16T19:10:18.043Z"
   },
   {
    "duration": 59,
    "start_time": "2022-06-16T19:10:36.742Z"
   },
   {
    "duration": 10,
    "start_time": "2022-06-16T19:10:36.803Z"
   },
   {
    "duration": 8,
    "start_time": "2022-06-16T19:10:36.896Z"
   },
   {
    "duration": 26,
    "start_time": "2022-06-16T19:10:36.906Z"
   },
   {
    "duration": 287,
    "start_time": "2022-06-16T19:10:36.935Z"
   },
   {
    "duration": 25125,
    "start_time": "2022-06-16T19:10:37.224Z"
   },
   {
    "duration": 28,
    "start_time": "2022-06-16T19:11:02.351Z"
   },
   {
    "duration": 17,
    "start_time": "2022-06-16T19:11:02.381Z"
   },
   {
    "duration": 26,
    "start_time": "2022-06-16T19:11:02.401Z"
   },
   {
    "duration": 9285,
    "start_time": "2022-06-16T19:11:02.429Z"
   },
   {
    "duration": 19,
    "start_time": "2022-06-16T19:11:11.716Z"
   },
   {
    "duration": 1164,
    "start_time": "2022-06-17T10:50:30.945Z"
   },
   {
    "duration": 99,
    "start_time": "2022-06-17T10:50:33.010Z"
   },
   {
    "duration": 11,
    "start_time": "2022-06-17T10:50:33.987Z"
   },
   {
    "duration": 15,
    "start_time": "2022-06-17T10:50:35.020Z"
   },
   {
    "duration": 3,
    "start_time": "2022-06-17T10:50:38.190Z"
   },
   {
    "duration": 18,
    "start_time": "2022-06-17T10:50:43.155Z"
   },
   {
    "duration": 4,
    "start_time": "2022-06-17T10:51:07.010Z"
   },
   {
    "duration": 6,
    "start_time": "2022-06-17T10:51:11.285Z"
   },
   {
    "duration": 19,
    "start_time": "2022-06-17T10:51:12.109Z"
   },
   {
    "duration": 12,
    "start_time": "2022-06-17T10:51:45.235Z"
   },
   {
    "duration": 13,
    "start_time": "2022-06-17T10:51:46.129Z"
   },
   {
    "duration": 7,
    "start_time": "2022-06-17T10:51:53.617Z"
   },
   {
    "duration": 7,
    "start_time": "2022-06-17T10:52:16.849Z"
   },
   {
    "duration": 6,
    "start_time": "2022-06-17T10:52:17.752Z"
   },
   {
    "duration": 7,
    "start_time": "2022-06-17T10:52:19.059Z"
   },
   {
    "duration": 3,
    "start_time": "2022-06-17T10:52:42.153Z"
   },
   {
    "duration": 16,
    "start_time": "2022-06-17T10:54:55.825Z"
   },
   {
    "duration": 10,
    "start_time": "2022-06-17T10:54:57.033Z"
   },
   {
    "duration": 10,
    "start_time": "2022-06-17T10:54:58.837Z"
   },
   {
    "duration": 45,
    "start_time": "2022-06-17T10:56:50.635Z"
   },
   {
    "duration": 118,
    "start_time": "2022-06-17T11:04:29.259Z"
   },
   {
    "duration": 23818,
    "start_time": "2022-06-17T11:04:37.604Z"
   },
   {
    "duration": 95,
    "start_time": "2022-06-17T11:05:12.376Z"
   },
   {
    "duration": 40,
    "start_time": "2022-06-17T11:05:24.303Z"
   },
   {
    "duration": 6,
    "start_time": "2022-06-17T11:05:24.902Z"
   },
   {
    "duration": 18,
    "start_time": "2022-06-17T11:06:45.335Z"
   },
   {
    "duration": 499,
    "start_time": "2022-06-17T11:06:47.028Z"
   },
   {
    "duration": 33213,
    "start_time": "2022-06-17T11:06:50.388Z"
   },
   {
    "duration": 36,
    "start_time": "2022-06-17T11:07:28.682Z"
   },
   {
    "duration": 4,
    "start_time": "2022-06-17T11:07:36.197Z"
   },
   {
    "duration": 15,
    "start_time": "2022-06-17T11:07:37.622Z"
   },
   {
    "duration": 11185,
    "start_time": "2022-06-17T11:07:38.806Z"
   },
   {
    "duration": 32,
    "start_time": "2022-06-17T11:09:09.447Z"
   },
   {
    "duration": 32362,
    "start_time": "2022-06-17T11:09:25.323Z"
   },
   {
    "duration": 51,
    "start_time": "2022-06-17T11:10:17.224Z"
   },
   {
    "duration": 5,
    "start_time": "2022-06-17T11:10:44.382Z"
   },
   {
    "duration": 14,
    "start_time": "2022-06-17T11:10:45.254Z"
   },
   {
    "duration": 11888,
    "start_time": "2022-06-17T11:10:45.982Z"
   },
   {
    "duration": 23,
    "start_time": "2022-06-17T11:11:21.268Z"
   },
   {
    "duration": 29,
    "start_time": "2022-06-17T11:13:54.742Z"
   },
   {
    "duration": 3,
    "start_time": "2022-06-17T11:18:06.764Z"
   },
   {
    "duration": 44,
    "start_time": "2022-06-17T11:19:34.302Z"
   },
   {
    "duration": 34,
    "start_time": "2022-06-17T11:20:04.949Z"
   },
   {
    "duration": 39,
    "start_time": "2022-06-17T11:21:16.638Z"
   },
   {
    "duration": 13,
    "start_time": "2022-06-17T11:36:03.592Z"
   },
   {
    "duration": 63,
    "start_time": "2022-06-17T11:36:18.763Z"
   },
   {
    "duration": 126,
    "start_time": "2022-06-17T11:36:24.948Z"
   },
   {
    "duration": 151,
    "start_time": "2022-06-17T11:37:28.531Z"
   },
   {
    "duration": 120,
    "start_time": "2022-06-17T11:37:53.298Z"
   },
   {
    "duration": 123,
    "start_time": "2022-06-17T11:37:57.867Z"
   },
   {
    "duration": 136,
    "start_time": "2022-06-17T11:38:31.648Z"
   },
   {
    "duration": 151,
    "start_time": "2022-06-17T11:40:52.348Z"
   },
   {
    "duration": 56,
    "start_time": "2022-06-17T11:55:42.821Z"
   },
   {
    "duration": 993,
    "start_time": "2022-06-20T05:19:20.663Z"
   },
   {
    "duration": 154,
    "start_time": "2022-06-20T05:19:21.658Z"
   },
   {
    "duration": 8,
    "start_time": "2022-06-20T05:19:21.814Z"
   },
   {
    "duration": 14,
    "start_time": "2022-06-20T05:19:21.823Z"
   },
   {
    "duration": 2,
    "start_time": "2022-06-20T05:19:21.840Z"
   },
   {
    "duration": 15,
    "start_time": "2022-06-20T05:19:21.844Z"
   },
   {
    "duration": 3,
    "start_time": "2022-06-20T05:19:21.860Z"
   },
   {
    "duration": 5,
    "start_time": "2022-06-20T05:19:21.864Z"
   },
   {
    "duration": 9,
    "start_time": "2022-06-20T05:19:21.870Z"
   },
   {
    "duration": 11,
    "start_time": "2022-06-20T05:19:21.880Z"
   },
   {
    "duration": 9,
    "start_time": "2022-06-20T05:19:21.892Z"
   },
   {
    "duration": 4,
    "start_time": "2022-06-20T05:19:21.925Z"
   },
   {
    "duration": 7,
    "start_time": "2022-06-20T05:19:21.930Z"
   },
   {
    "duration": 6,
    "start_time": "2022-06-20T05:19:21.940Z"
   },
   {
    "duration": 4,
    "start_time": "2022-06-20T05:19:21.948Z"
   },
   {
    "duration": 3,
    "start_time": "2022-06-20T05:19:21.954Z"
   },
   {
    "duration": 15,
    "start_time": "2022-06-20T05:19:21.959Z"
   },
   {
    "duration": 7,
    "start_time": "2022-06-20T05:19:21.976Z"
   },
   {
    "duration": 8,
    "start_time": "2022-06-20T05:19:21.984Z"
   },
   {
    "duration": 56,
    "start_time": "2022-06-20T05:19:21.993Z"
   },
   {
    "duration": 18912,
    "start_time": "2022-06-20T05:19:22.051Z"
   },
   {
    "duration": 67,
    "start_time": "2022-06-20T05:19:40.965Z"
   },
   {
    "duration": 107,
    "start_time": "2022-06-20T05:19:41.035Z"
   },
   {
    "duration": 21,
    "start_time": "2022-06-20T05:19:41.144Z"
   },
   {
    "duration": 35,
    "start_time": "2022-06-20T05:19:41.166Z"
   },
   {
    "duration": 454,
    "start_time": "2022-06-20T05:19:41.203Z"
   },
   {
    "duration": 26002,
    "start_time": "2022-06-20T05:19:41.659Z"
   },
   {
    "duration": 28,
    "start_time": "2022-06-20T05:20:07.662Z"
   },
   {
    "duration": 124,
    "start_time": "2022-06-20T05:20:07.692Z"
   },
   {
    "duration": 8,
    "start_time": "2022-06-20T05:20:07.818Z"
   },
   {
    "duration": 20,
    "start_time": "2022-06-20T05:20:07.827Z"
   },
   {
    "duration": 9444,
    "start_time": "2022-06-20T05:20:07.848Z"
   },
   {
    "duration": 20,
    "start_time": "2022-06-20T05:20:17.293Z"
   },
   {
    "duration": 34,
    "start_time": "2022-06-20T05:20:17.314Z"
   },
   {
    "duration": 1077,
    "start_time": "2022-06-20T07:15:42.555Z"
   },
   {
    "duration": 39,
    "start_time": "2022-06-20T07:15:43.634Z"
   },
   {
    "duration": 9,
    "start_time": "2022-06-20T07:15:43.675Z"
   },
   {
    "duration": 18,
    "start_time": "2022-06-20T07:15:43.686Z"
   },
   {
    "duration": 3,
    "start_time": "2022-06-20T07:15:43.706Z"
   },
   {
    "duration": 20,
    "start_time": "2022-06-20T07:15:43.711Z"
   },
   {
    "duration": 5,
    "start_time": "2022-06-20T07:15:43.732Z"
   },
   {
    "duration": 5,
    "start_time": "2022-06-20T07:15:43.738Z"
   },
   {
    "duration": 8,
    "start_time": "2022-06-20T07:15:43.744Z"
   },
   {
    "duration": 11,
    "start_time": "2022-06-20T07:15:43.754Z"
   },
   {
    "duration": 10,
    "start_time": "2022-06-20T07:15:43.766Z"
   },
   {
    "duration": 7,
    "start_time": "2022-06-20T07:15:43.778Z"
   },
   {
    "duration": 6,
    "start_time": "2022-06-20T07:15:43.787Z"
   },
   {
    "duration": 34,
    "start_time": "2022-06-20T07:15:43.795Z"
   },
   {
    "duration": 7,
    "start_time": "2022-06-20T07:15:43.831Z"
   },
   {
    "duration": 3,
    "start_time": "2022-06-20T07:15:43.839Z"
   },
   {
    "duration": 18,
    "start_time": "2022-06-20T07:15:43.844Z"
   },
   {
    "duration": 8,
    "start_time": "2022-06-20T07:15:43.863Z"
   },
   {
    "duration": 13,
    "start_time": "2022-06-20T07:15:43.873Z"
   },
   {
    "duration": 52,
    "start_time": "2022-06-20T07:15:43.888Z"
   },
   {
    "duration": 19324,
    "start_time": "2022-06-20T07:15:43.942Z"
   },
   {
    "duration": 59,
    "start_time": "2022-06-20T07:16:03.268Z"
   },
   {
    "duration": 11,
    "start_time": "2022-06-20T07:16:03.328Z"
   },
   {
    "duration": 9,
    "start_time": "2022-06-20T07:16:03.426Z"
   },
   {
    "duration": 29,
    "start_time": "2022-06-20T07:16:03.436Z"
   },
   {
    "duration": 261,
    "start_time": "2022-06-20T07:16:03.467Z"
   },
   {
    "duration": 27652,
    "start_time": "2022-06-20T07:16:03.732Z"
   },
   {
    "duration": 39,
    "start_time": "2022-06-20T07:16:31.388Z"
   },
   {
    "duration": 107,
    "start_time": "2022-06-20T07:16:31.429Z"
   },
   {
    "duration": 4,
    "start_time": "2022-06-20T07:16:31.538Z"
   },
   {
    "duration": 37,
    "start_time": "2022-06-20T07:16:31.545Z"
   },
   {
    "duration": 9619,
    "start_time": "2022-06-20T07:16:31.584Z"
   },
   {
    "duration": 32,
    "start_time": "2022-06-20T07:16:41.204Z"
   },
   {
    "duration": 36,
    "start_time": "2022-06-20T07:16:41.238Z"
   },
   {
    "duration": 1167,
    "start_time": "2022-06-20T13:51:21.622Z"
   },
   {
    "duration": 221,
    "start_time": "2022-06-20T13:51:22.791Z"
   },
   {
    "duration": 18,
    "start_time": "2022-06-20T13:51:23.013Z"
   },
   {
    "duration": 13,
    "start_time": "2022-06-20T13:51:23.032Z"
   },
   {
    "duration": 2,
    "start_time": "2022-06-20T13:51:23.048Z"
   },
   {
    "duration": 13,
    "start_time": "2022-06-20T13:51:23.052Z"
   },
   {
    "duration": 2,
    "start_time": "2022-06-20T13:51:23.067Z"
   },
   {
    "duration": 5,
    "start_time": "2022-06-20T13:51:23.070Z"
   },
   {
    "duration": 7,
    "start_time": "2022-06-20T13:51:23.077Z"
   },
   {
    "duration": 11,
    "start_time": "2022-06-20T13:51:23.086Z"
   },
   {
    "duration": 46,
    "start_time": "2022-06-20T13:51:23.098Z"
   },
   {
    "duration": 7,
    "start_time": "2022-06-20T13:51:23.146Z"
   },
   {
    "duration": 8,
    "start_time": "2022-06-20T13:51:23.154Z"
   },
   {
    "duration": 8,
    "start_time": "2022-06-20T13:51:23.165Z"
   },
   {
    "duration": 6,
    "start_time": "2022-06-20T13:51:23.174Z"
   },
   {
    "duration": 6,
    "start_time": "2022-06-20T13:51:23.181Z"
   },
   {
    "duration": 40,
    "start_time": "2022-06-20T13:51:23.188Z"
   },
   {
    "duration": 24,
    "start_time": "2022-06-20T13:51:23.229Z"
   },
   {
    "duration": 9,
    "start_time": "2022-06-20T13:51:23.255Z"
   },
   {
    "duration": 38,
    "start_time": "2022-06-20T13:51:23.265Z"
   },
   {
    "duration": 22427,
    "start_time": "2022-06-20T13:51:23.305Z"
   },
   {
    "duration": 56,
    "start_time": "2022-06-20T13:51:45.736Z"
   },
   {
    "duration": 132,
    "start_time": "2022-06-20T13:51:45.800Z"
   },
   {
    "duration": 10,
    "start_time": "2022-06-20T13:51:45.934Z"
   },
   {
    "duration": 12,
    "start_time": "2022-06-20T13:51:45.946Z"
   },
   {
    "duration": 584,
    "start_time": "2022-06-20T13:51:45.960Z"
   },
   {
    "duration": 27589,
    "start_time": "2022-06-20T13:51:46.545Z"
   },
   {
    "duration": 25,
    "start_time": "2022-06-20T13:52:14.135Z"
   },
   {
    "duration": 122,
    "start_time": "2022-06-20T13:52:14.161Z"
   },
   {
    "duration": 6,
    "start_time": "2022-06-20T13:52:14.285Z"
   },
   {
    "duration": 50,
    "start_time": "2022-06-20T13:52:14.293Z"
   },
   {
    "duration": 9992,
    "start_time": "2022-06-20T13:52:14.344Z"
   },
   {
    "duration": 22,
    "start_time": "2022-06-20T13:52:24.338Z"
   },
   {
    "duration": 41,
    "start_time": "2022-06-20T13:52:24.361Z"
   },
   {
    "duration": 1430,
    "start_time": "2022-06-21T10:04:58.446Z"
   },
   {
    "duration": 170,
    "start_time": "2022-06-21T10:05:01.642Z"
   },
   {
    "duration": 4,
    "start_time": "2022-06-21T10:05:02.347Z"
   },
   {
    "duration": 11,
    "start_time": "2022-06-21T10:05:03.107Z"
   },
   {
    "duration": 3,
    "start_time": "2022-06-21T10:05:03.844Z"
   },
   {
    "duration": 23,
    "start_time": "2022-06-21T10:05:04.626Z"
   },
   {
    "duration": 5,
    "start_time": "2022-06-21T10:05:06.192Z"
   },
   {
    "duration": 3,
    "start_time": "2022-06-21T10:05:06.690Z"
   },
   {
    "duration": 5,
    "start_time": "2022-06-21T10:05:07.690Z"
   },
   {
    "duration": 10,
    "start_time": "2022-06-21T10:05:12.001Z"
   },
   {
    "duration": 9,
    "start_time": "2022-06-21T10:05:12.866Z"
   },
   {
    "duration": 5,
    "start_time": "2022-06-21T10:05:14.264Z"
   },
   {
    "duration": 6,
    "start_time": "2022-06-21T10:05:16.465Z"
   },
   {
    "duration": 5,
    "start_time": "2022-06-21T10:05:17.008Z"
   },
   {
    "duration": 3,
    "start_time": "2022-06-21T10:05:17.403Z"
   },
   {
    "duration": 2,
    "start_time": "2022-06-21T10:05:20.452Z"
   },
   {
    "duration": 17,
    "start_time": "2022-06-21T10:05:20.825Z"
   },
   {
    "duration": 8,
    "start_time": "2022-06-21T10:05:21.260Z"
   },
   {
    "duration": 7,
    "start_time": "2022-06-21T10:05:21.666Z"
   },
   {
    "duration": 138,
    "start_time": "2022-06-21T10:05:36.770Z"
   },
   {
    "duration": 35,
    "start_time": "2022-06-21T10:05:48.157Z"
   },
   {
    "duration": 19152,
    "start_time": "2022-06-21T10:05:57.826Z"
   },
   {
    "duration": 20,
    "start_time": "2022-06-21T10:06:28.696Z"
   },
   {
    "duration": 39,
    "start_time": "2022-06-21T10:20:32.541Z"
   },
   {
    "duration": 4,
    "start_time": "2022-06-21T10:20:35.272Z"
   },
   {
    "duration": 15,
    "start_time": "2022-06-21T10:20:35.514Z"
   },
   {
    "duration": 4,
    "start_time": "2022-06-21T10:20:36.078Z"
   },
   {
    "duration": 11,
    "start_time": "2022-06-21T10:20:36.587Z"
   },
   {
    "duration": 3,
    "start_time": "2022-06-21T10:20:37.980Z"
   },
   {
    "duration": 4,
    "start_time": "2022-06-21T10:20:38.991Z"
   },
   {
    "duration": 6,
    "start_time": "2022-06-21T10:20:41.877Z"
   },
   {
    "duration": 11,
    "start_time": "2022-06-21T10:20:42.588Z"
   },
   {
    "duration": 9,
    "start_time": "2022-06-21T10:20:42.838Z"
   },
   {
    "duration": 6,
    "start_time": "2022-06-21T10:20:43.604Z"
   },
   {
    "duration": 6,
    "start_time": "2022-06-21T10:20:43.880Z"
   },
   {
    "duration": 5,
    "start_time": "2022-06-21T10:20:44.221Z"
   },
   {
    "duration": 3,
    "start_time": "2022-06-21T10:20:44.757Z"
   },
   {
    "duration": 3,
    "start_time": "2022-06-21T10:20:46.924Z"
   },
   {
    "duration": 12,
    "start_time": "2022-06-21T10:20:47.292Z"
   },
   {
    "duration": 7,
    "start_time": "2022-06-21T10:20:47.631Z"
   },
   {
    "duration": 8,
    "start_time": "2022-06-21T10:20:47.948Z"
   },
   {
    "duration": 33,
    "start_time": "2022-06-21T10:20:50.389Z"
   },
   {
    "duration": 18301,
    "start_time": "2022-06-21T10:20:51.235Z"
   },
   {
    "duration": 23,
    "start_time": "2022-06-21T10:21:09.537Z"
   },
   {
    "duration": 8,
    "start_time": "2022-06-21T10:26:03.810Z"
   },
   {
    "duration": 1382,
    "start_time": "2022-06-21T10:26:15.714Z"
   },
   {
    "duration": 42,
    "start_time": "2022-06-21T10:26:17.098Z"
   },
   {
    "duration": 5,
    "start_time": "2022-06-21T10:26:17.142Z"
   },
   {
    "duration": 18,
    "start_time": "2022-06-21T10:26:17.149Z"
   },
   {
    "duration": 3,
    "start_time": "2022-06-21T10:26:17.168Z"
   },
   {
    "duration": 21,
    "start_time": "2022-06-21T10:26:17.173Z"
   },
   {
    "duration": 4,
    "start_time": "2022-06-21T10:26:17.196Z"
   },
   {
    "duration": 29,
    "start_time": "2022-06-21T10:26:17.201Z"
   },
   {
    "duration": 7,
    "start_time": "2022-06-21T10:26:17.232Z"
   },
   {
    "duration": 12,
    "start_time": "2022-06-21T10:26:17.242Z"
   },
   {
    "duration": 12,
    "start_time": "2022-06-21T10:26:17.256Z"
   },
   {
    "duration": 5,
    "start_time": "2022-06-21T10:26:17.270Z"
   },
   {
    "duration": 6,
    "start_time": "2022-06-21T10:26:17.277Z"
   },
   {
    "duration": 5,
    "start_time": "2022-06-21T10:26:17.285Z"
   },
   {
    "duration": 4,
    "start_time": "2022-06-21T10:26:17.329Z"
   },
   {
    "duration": 6,
    "start_time": "2022-06-21T10:26:17.335Z"
   },
   {
    "duration": 21,
    "start_time": "2022-06-21T10:26:17.342Z"
   },
   {
    "duration": 10,
    "start_time": "2022-06-21T10:26:17.365Z"
   },
   {
    "duration": 10,
    "start_time": "2022-06-21T10:26:17.377Z"
   },
   {
    "duration": 60,
    "start_time": "2022-06-21T10:26:17.389Z"
   },
   {
    "duration": 19117,
    "start_time": "2022-06-21T10:26:17.451Z"
   },
   {
    "duration": 61,
    "start_time": "2022-06-21T10:26:36.569Z"
   },
   {
    "duration": 98,
    "start_time": "2022-06-21T10:26:36.632Z"
   },
   {
    "duration": 6,
    "start_time": "2022-06-21T10:26:36.732Z"
   },
   {
    "duration": 11,
    "start_time": "2022-06-21T10:26:36.739Z"
   },
   {
    "duration": 98,
    "start_time": "2022-06-21T10:26:36.751Z"
   },
   {
    "duration": 24958,
    "start_time": "2022-06-21T10:26:36.850Z"
   },
   {
    "duration": 32,
    "start_time": "2022-06-21T10:27:01.811Z"
   },
   {
    "duration": 110,
    "start_time": "2022-06-21T10:27:01.845Z"
   },
   {
    "duration": 5,
    "start_time": "2022-06-21T10:27:01.956Z"
   },
   {
    "duration": 17,
    "start_time": "2022-06-21T10:27:01.962Z"
   },
   {
    "duration": 9079,
    "start_time": "2022-06-21T10:27:01.980Z"
   },
   {
    "duration": 20,
    "start_time": "2022-06-21T10:27:11.061Z"
   },
   {
    "duration": 25,
    "start_time": "2022-06-21T10:27:11.082Z"
   }
  ],
  "kernelspec": {
   "display_name": "Python 3 (ipykernel)",
   "language": "python",
   "name": "python3"
  },
  "language_info": {
   "codemirror_mode": {
    "name": "ipython",
    "version": 3
   },
   "file_extension": ".py",
   "mimetype": "text/x-python",
   "name": "python",
   "nbconvert_exporter": "python",
   "pygments_lexer": "ipython3",
   "version": "3.9.5"
  },
  "toc": {
   "base_numbering": 1,
   "nav_menu": {},
   "number_sections": true,
   "sideBar": true,
   "skip_h1_title": true,
   "title_cell": "Содержание",
   "title_sidebar": "Contents",
   "toc_cell": true,
   "toc_position": {
    "height": "calc(100% - 180px)",
    "left": "10px",
    "top": "150px",
    "width": "270.398px"
   },
   "toc_section_display": true,
   "toc_window_display": true
  }
 },
 "nbformat": 4,
 "nbformat_minor": 2
}
