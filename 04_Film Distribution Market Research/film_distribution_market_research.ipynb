{
 "cells": [
  {
   "cell_type": "markdown",
   "id": "4e262ff0",
   "metadata": {},
   "source": [
    "# Film distribution market research\n",
    "\n",
    "**Aim** - to study the Russian film distribution market and identify current trends\n",
    "\n",
    "The customer of the study is the Ministry of Culture of the Russian Federation. For the study, data published on the open data portal of the Ministry of Culture were used: information on distribution certificates, fees and state support for films, as well as information from the KinoPoisk website.\n",
    "\n",
    "**Main areas of research:**\n",
    "- Track the dynamics of fees by years\n",
    "- Analyze what affects film box office\n",
    "- Select films with state support and evaluate their fees and ratings\n",
    "- Find patterns by which grants are allocated\n",
    "\n",
    "**The study contains the following steps:**\n",
    "1. Overview of data\n",
    "2. Data preprocessing\n",
    "3. Hypothesis testing\n",
    "4. Conclusions"
   ]
  },
  {
   "cell_type": "markdown",
   "id": "d1c6877e",
   "metadata": {},
   "source": [
    "## Data Overview"
   ]
  },
  {
   "cell_type": "code",
   "execution_count": 1,
   "id": "fffdc8f1",
   "metadata": {},
   "outputs": [],
   "source": [
    "import pandas as pd\n",
    "import matplotlib.pyplot as plt\n",
    "import numpy as np\n",
    "import seaborn as sns\n",
    "import warnings\n",
    "warnings.filterwarnings('ignore')"
   ]
  },
  {
   "cell_type": "code",
   "execution_count": 2,
   "outputs": [
    {
     "data": {
      "text/plain": "                  title   puNumber           show_start_date            type  \\\n0      Открытый простор  221048915  2015-11-27T12:00:00.000Z  Художественный   \n1  Особо важное задание  111013716  2016-09-13T12:00:00.000Z  Художественный   \n2          Особо опасен  221038416  2016-10-10T12:00:00.000Z  Художественный   \n3          Особо опасен  221026916  2016-06-10T12:00:00.000Z  Художественный   \n4          Особо опасен  221030815  2015-07-29T12:00:00.000Z  Художественный   \n5     Остановился поезд  111013816  2016-09-13T12:00:00.000Z  Художественный   \n6       Любовь и голуби  111007013  2013-10-18T12:00:00.000Z  Художественный   \n7     Любовь и сигареты  221074614  2014-12-29T12:00:00.000Z  Художественный   \n8    Отпетые мошенники.  121011416  2016-05-05T12:00:00.000Z  Художественный   \n9   Отпуск за свой счет  111019114  2014-12-01T12:00:00.000Z  Художественный   \n\n                                         film_studio production_country  \\\n0  Тачстоун Пикчерз, Кобальт Пикчерз, Бикон Пикче...                США   \n1                              Киностудия \"Мосфильм\"               СССР   \n2  Юниверсал Пикчерз, Кикстарт Продакшнз, Марк Пл...                США   \n3  Юниверсал Пикчерз, Кикстарт Продакшнз, Марк Пл...                США   \n4  Юниверсал Пикчерз, Кикстарт Продакшнз, Марк Пл...                США   \n5                              Киностудия \"Мосфильм\"               СССР   \n6                              Киностудия \"Мосфильм\"               СССР   \n7  Юнайтед Артистс, Грин Стрит Филмз, Айкон Интер...                США   \n8                     Пульсар Продюксьон, ТФ1 Фильм             Франция   \n9             Киностудия \"Мосфильм\", Телевидение ВНР      СССР, Венгрия   \n\n            director                                           producer  \\\n0      Кевин Костнер          Дэвид Валдес, Кевин Костнер, Джейк Эбертс   \n1          Е.Матвеев                                                NaN   \n2  Тимур Бекмамбетов  Джим Лемли, Джейсон Нетер, Марк Е.Платт, Яйн Смит   \n3  Тимур Бекмамбетов  Джим Лемли, Джейсон Нетер, Марк Е.Платт, Яйн Смит   \n4  Тимур Бекмамбетов  Джим Лемли, Джейсон Нетер, Марк Е.Платт, Яйн Смит   \n5       В.Абдрашитов                                                NaN   \n6          В.Меньшов                                                NaN   \n7      Джон Туртурро                        Джон Пенотти, Джон Туртурро   \n8       Эрик Беснард                                        Патрис Леду   \n9            В.Титов                                                NaN   \n\n                   age_restriction  refundable_support  nonrefundable_support  \\\n0      «18+» - запрещено для детей                 NaN                    NaN   \n1    «6+» - для детей старше 6 лет                 NaN                    NaN   \n2      «18+» - запрещено для детей                 NaN                    NaN   \n3      «18+» - запрещено для детей                 NaN                    NaN   \n4      «18+» - запрещено для детей                 NaN                    NaN   \n5    «6+» - для детей старше 6 лет                 NaN                    NaN   \n6  «12+» - для детей старше 12 лет                 NaN                    NaN   \n7      «18+» - запрещено для детей                 NaN                    NaN   \n8      «18+» - запрещено для детей                 NaN                    NaN   \n9  «12+» - для детей старше 12 лет                 NaN                    NaN   \n\n   budget financing_source ratings                     genres  \n0     NaN              NaN     7.2     боевик,драма,мелодрама  \n1     NaN              NaN     6.6              драма,военный  \n2     NaN              NaN     6.8  фантастика,боевик,триллер  \n3     NaN              NaN     6.8  фантастика,боевик,триллер  \n4     NaN              NaN     6.8  фантастика,боевик,триллер  \n5     NaN              NaN     7.7                      драма  \n6     NaN              NaN     8.3          мелодрама,комедия  \n7     NaN              NaN     6.6   мюзикл,мелодрама,комедия  \n8     NaN              NaN     8.0           комедия,криминал  \n9     NaN              NaN     7.8          мелодрама,комедия  ",
      "text/html": "<div>\n<style scoped>\n    .dataframe tbody tr th:only-of-type {\n        vertical-align: middle;\n    }\n\n    .dataframe tbody tr th {\n        vertical-align: top;\n    }\n\n    .dataframe thead th {\n        text-align: right;\n    }\n</style>\n<table border=\"1\" class=\"dataframe\">\n  <thead>\n    <tr style=\"text-align: right;\">\n      <th></th>\n      <th>title</th>\n      <th>puNumber</th>\n      <th>show_start_date</th>\n      <th>type</th>\n      <th>film_studio</th>\n      <th>production_country</th>\n      <th>director</th>\n      <th>producer</th>\n      <th>age_restriction</th>\n      <th>refundable_support</th>\n      <th>nonrefundable_support</th>\n      <th>budget</th>\n      <th>financing_source</th>\n      <th>ratings</th>\n      <th>genres</th>\n    </tr>\n  </thead>\n  <tbody>\n    <tr>\n      <th>0</th>\n      <td>Открытый простор</td>\n      <td>221048915</td>\n      <td>2015-11-27T12:00:00.000Z</td>\n      <td>Художественный</td>\n      <td>Тачстоун Пикчерз, Кобальт Пикчерз, Бикон Пикче...</td>\n      <td>США</td>\n      <td>Кевин Костнер</td>\n      <td>Дэвид Валдес, Кевин Костнер, Джейк Эбертс</td>\n      <td>«18+» - запрещено для детей</td>\n      <td>NaN</td>\n      <td>NaN</td>\n      <td>NaN</td>\n      <td>NaN</td>\n      <td>7.2</td>\n      <td>боевик,драма,мелодрама</td>\n    </tr>\n    <tr>\n      <th>1</th>\n      <td>Особо важное задание</td>\n      <td>111013716</td>\n      <td>2016-09-13T12:00:00.000Z</td>\n      <td>Художественный</td>\n      <td>Киностудия \"Мосфильм\"</td>\n      <td>СССР</td>\n      <td>Е.Матвеев</td>\n      <td>NaN</td>\n      <td>«6+» - для детей старше 6 лет</td>\n      <td>NaN</td>\n      <td>NaN</td>\n      <td>NaN</td>\n      <td>NaN</td>\n      <td>6.6</td>\n      <td>драма,военный</td>\n    </tr>\n    <tr>\n      <th>2</th>\n      <td>Особо опасен</td>\n      <td>221038416</td>\n      <td>2016-10-10T12:00:00.000Z</td>\n      <td>Художественный</td>\n      <td>Юниверсал Пикчерз, Кикстарт Продакшнз, Марк Пл...</td>\n      <td>США</td>\n      <td>Тимур Бекмамбетов</td>\n      <td>Джим Лемли, Джейсон Нетер, Марк Е.Платт, Яйн Смит</td>\n      <td>«18+» - запрещено для детей</td>\n      <td>NaN</td>\n      <td>NaN</td>\n      <td>NaN</td>\n      <td>NaN</td>\n      <td>6.8</td>\n      <td>фантастика,боевик,триллер</td>\n    </tr>\n    <tr>\n      <th>3</th>\n      <td>Особо опасен</td>\n      <td>221026916</td>\n      <td>2016-06-10T12:00:00.000Z</td>\n      <td>Художественный</td>\n      <td>Юниверсал Пикчерз, Кикстарт Продакшнз, Марк Пл...</td>\n      <td>США</td>\n      <td>Тимур Бекмамбетов</td>\n      <td>Джим Лемли, Джейсон Нетер, Марк Е.Платт, Яйн Смит</td>\n      <td>«18+» - запрещено для детей</td>\n      <td>NaN</td>\n      <td>NaN</td>\n      <td>NaN</td>\n      <td>NaN</td>\n      <td>6.8</td>\n      <td>фантастика,боевик,триллер</td>\n    </tr>\n    <tr>\n      <th>4</th>\n      <td>Особо опасен</td>\n      <td>221030815</td>\n      <td>2015-07-29T12:00:00.000Z</td>\n      <td>Художественный</td>\n      <td>Юниверсал Пикчерз, Кикстарт Продакшнз, Марк Пл...</td>\n      <td>США</td>\n      <td>Тимур Бекмамбетов</td>\n      <td>Джим Лемли, Джейсон Нетер, Марк Е.Платт, Яйн Смит</td>\n      <td>«18+» - запрещено для детей</td>\n      <td>NaN</td>\n      <td>NaN</td>\n      <td>NaN</td>\n      <td>NaN</td>\n      <td>6.8</td>\n      <td>фантастика,боевик,триллер</td>\n    </tr>\n    <tr>\n      <th>5</th>\n      <td>Остановился поезд</td>\n      <td>111013816</td>\n      <td>2016-09-13T12:00:00.000Z</td>\n      <td>Художественный</td>\n      <td>Киностудия \"Мосфильм\"</td>\n      <td>СССР</td>\n      <td>В.Абдрашитов</td>\n      <td>NaN</td>\n      <td>«6+» - для детей старше 6 лет</td>\n      <td>NaN</td>\n      <td>NaN</td>\n      <td>NaN</td>\n      <td>NaN</td>\n      <td>7.7</td>\n      <td>драма</td>\n    </tr>\n    <tr>\n      <th>6</th>\n      <td>Любовь и голуби</td>\n      <td>111007013</td>\n      <td>2013-10-18T12:00:00.000Z</td>\n      <td>Художественный</td>\n      <td>Киностудия \"Мосфильм\"</td>\n      <td>СССР</td>\n      <td>В.Меньшов</td>\n      <td>NaN</td>\n      <td>«12+» - для детей старше 12 лет</td>\n      <td>NaN</td>\n      <td>NaN</td>\n      <td>NaN</td>\n      <td>NaN</td>\n      <td>8.3</td>\n      <td>мелодрама,комедия</td>\n    </tr>\n    <tr>\n      <th>7</th>\n      <td>Любовь и сигареты</td>\n      <td>221074614</td>\n      <td>2014-12-29T12:00:00.000Z</td>\n      <td>Художественный</td>\n      <td>Юнайтед Артистс, Грин Стрит Филмз, Айкон Интер...</td>\n      <td>США</td>\n      <td>Джон Туртурро</td>\n      <td>Джон Пенотти, Джон Туртурро</td>\n      <td>«18+» - запрещено для детей</td>\n      <td>NaN</td>\n      <td>NaN</td>\n      <td>NaN</td>\n      <td>NaN</td>\n      <td>6.6</td>\n      <td>мюзикл,мелодрама,комедия</td>\n    </tr>\n    <tr>\n      <th>8</th>\n      <td>Отпетые мошенники.</td>\n      <td>121011416</td>\n      <td>2016-05-05T12:00:00.000Z</td>\n      <td>Художественный</td>\n      <td>Пульсар Продюксьон, ТФ1 Фильм</td>\n      <td>Франция</td>\n      <td>Эрик Беснард</td>\n      <td>Патрис Леду</td>\n      <td>«18+» - запрещено для детей</td>\n      <td>NaN</td>\n      <td>NaN</td>\n      <td>NaN</td>\n      <td>NaN</td>\n      <td>8.0</td>\n      <td>комедия,криминал</td>\n    </tr>\n    <tr>\n      <th>9</th>\n      <td>Отпуск за свой счет</td>\n      <td>111019114</td>\n      <td>2014-12-01T12:00:00.000Z</td>\n      <td>Художественный</td>\n      <td>Киностудия \"Мосфильм\", Телевидение ВНР</td>\n      <td>СССР, Венгрия</td>\n      <td>В.Титов</td>\n      <td>NaN</td>\n      <td>«12+» - для детей старше 12 лет</td>\n      <td>NaN</td>\n      <td>NaN</td>\n      <td>NaN</td>\n      <td>NaN</td>\n      <td>7.8</td>\n      <td>мелодрама,комедия</td>\n    </tr>\n  </tbody>\n</table>\n</div>"
     },
     "execution_count": 2,
     "metadata": {},
     "output_type": "execute_result"
    }
   ],
   "source": [
    "movies_df = pd.read_csv('mkrf_movies.csv')\n",
    "movies_df.head(10)"
   ],
   "metadata": {
    "collapsed": false
   }
  },
  {
   "cell_type": "code",
   "execution_count": 3,
   "id": "b5744b47",
   "metadata": {},
   "outputs": [
    {
     "name": "stdout",
     "output_type": "stream",
     "text": [
      "<class 'pandas.core.frame.DataFrame'>\n",
      "RangeIndex: 3158 entries, 0 to 3157\n",
      "Data columns (total 2 columns):\n",
      " #   Column      Non-Null Count  Dtype  \n",
      "---  ------      --------------  -----  \n",
      " 0   puNumber    3158 non-null   int64  \n",
      " 1   box_office  3158 non-null   float64\n",
      "dtypes: float64(1), int64(1)\n",
      "memory usage: 49.5 KB\n"
     ]
    }
   ],
   "source": [
    "shows_df = pd.read_csv('mkrf_shows.csv')\n",
    "shows_df.info()"
   ]
  },
  {
   "cell_type": "code",
   "execution_count": 4,
   "outputs": [],
   "source": [
    "shows_df['puNumber'] = shows_df['puNumber'].astype(str)"
   ],
   "metadata": {
    "collapsed": false
   }
  },
  {
   "cell_type": "code",
   "execution_count": 5,
   "id": "f58e79e4",
   "metadata": {},
   "outputs": [
    {
     "name": "stdout",
     "output_type": "stream",
     "text": [
      "<class 'pandas.core.frame.DataFrame'>\n",
      "RangeIndex: 3158 entries, 0 to 3157\n",
      "Data columns (total 2 columns):\n",
      " #   Column      Non-Null Count  Dtype  \n",
      "---  ------      --------------  -----  \n",
      " 0   puNumber    3158 non-null   object \n",
      " 1   box_office  3158 non-null   float64\n",
      "dtypes: float64(1), object(1)\n",
      "memory usage: 49.5+ KB\n"
     ]
    }
   ],
   "source": [
    "shows_df.info()"
   ]
  },
  {
   "cell_type": "markdown",
   "id": "c6c0f0f7",
   "metadata": {},
   "source": [
    "You need to join two tables. We can do this on the `puNumber` column. To do this, we have reduced the data in this column to one type."
   ]
  },
  {
   "cell_type": "code",
   "execution_count": 6,
   "id": "2ad1f68b",
   "metadata": {},
   "outputs": [
    {
     "name": "stdout",
     "output_type": "stream",
     "text": [
      "<class 'pandas.core.frame.DataFrame'>\n",
      "Int64Index: 7486 entries, 0 to 7485\n",
      "Data columns (total 16 columns):\n",
      " #   Column                 Non-Null Count  Dtype  \n",
      "---  ------                 --------------  -----  \n",
      " 0   title                  7486 non-null   object \n",
      " 1   puNumber               7486 non-null   object \n",
      " 2   show_start_date        7486 non-null   object \n",
      " 3   type                   7486 non-null   object \n",
      " 4   film_studio            7468 non-null   object \n",
      " 5   production_country     7484 non-null   object \n",
      " 6   director               7477 non-null   object \n",
      " 7   producer               6918 non-null   object \n",
      " 8   age_restriction        7486 non-null   object \n",
      " 9   refundable_support     332 non-null    float64\n",
      " 10  nonrefundable_support  332 non-null    float64\n",
      " 11  budget                 332 non-null    float64\n",
      " 12  financing_source       332 non-null    object \n",
      " 13  ratings                6519 non-null   object \n",
      " 14  genres                 6510 non-null   object \n",
      " 15  box_office             3158 non-null   float64\n",
      "dtypes: float64(4), object(12)\n",
      "memory usage: 994.2+ KB\n"
     ]
    }
   ],
   "source": [
    "total_df = movies_df.merge(shows_df, on='puNumber', how='left')\n",
    "total_df.info()"
   ]
  },
  {
   "cell_type": "code",
   "execution_count": 7,
   "id": "707c09fb",
   "metadata": {},
   "outputs": [
    {
     "data": {
      "text/plain": "                  title   puNumber           show_start_date            type  \\\n0      Открытый простор  221048915  2015-11-27T12:00:00.000Z  Художественный   \n1  Особо важное задание  111013716  2016-09-13T12:00:00.000Z  Художественный   \n2          Особо опасен  221038416  2016-10-10T12:00:00.000Z  Художественный   \n3          Особо опасен  221026916  2016-06-10T12:00:00.000Z  Художественный   \n4          Особо опасен  221030815  2015-07-29T12:00:00.000Z  Художественный   \n5     Остановился поезд  111013816  2016-09-13T12:00:00.000Z  Художественный   \n6       Любовь и голуби  111007013  2013-10-18T12:00:00.000Z  Художественный   \n7     Любовь и сигареты  221074614  2014-12-29T12:00:00.000Z  Художественный   \n8    Отпетые мошенники.  121011416  2016-05-05T12:00:00.000Z  Художественный   \n9   Отпуск за свой счет  111019114  2014-12-01T12:00:00.000Z  Художественный   \n\n                                         film_studio production_country  \\\n0  Тачстоун Пикчерз, Кобальт Пикчерз, Бикон Пикче...                США   \n1                              Киностудия \"Мосфильм\"               СССР   \n2  Юниверсал Пикчерз, Кикстарт Продакшнз, Марк Пл...                США   \n3  Юниверсал Пикчерз, Кикстарт Продакшнз, Марк Пл...                США   \n4  Юниверсал Пикчерз, Кикстарт Продакшнз, Марк Пл...                США   \n5                              Киностудия \"Мосфильм\"               СССР   \n6                              Киностудия \"Мосфильм\"               СССР   \n7  Юнайтед Артистс, Грин Стрит Филмз, Айкон Интер...                США   \n8                     Пульсар Продюксьон, ТФ1 Фильм             Франция   \n9             Киностудия \"Мосфильм\", Телевидение ВНР      СССР, Венгрия   \n\n            director                                           producer  \\\n0      Кевин Костнер          Дэвид Валдес, Кевин Костнер, Джейк Эбертс   \n1          Е.Матвеев                                                NaN   \n2  Тимур Бекмамбетов  Джим Лемли, Джейсон Нетер, Марк Е.Платт, Яйн Смит   \n3  Тимур Бекмамбетов  Джим Лемли, Джейсон Нетер, Марк Е.Платт, Яйн Смит   \n4  Тимур Бекмамбетов  Джим Лемли, Джейсон Нетер, Марк Е.Платт, Яйн Смит   \n5       В.Абдрашитов                                                NaN   \n6          В.Меньшов                                                NaN   \n7      Джон Туртурро                        Джон Пенотти, Джон Туртурро   \n8       Эрик Беснард                                        Патрис Леду   \n9            В.Титов                                                NaN   \n\n                   age_restriction  refundable_support  nonrefundable_support  \\\n0      «18+» - запрещено для детей                 NaN                    NaN   \n1    «6+» - для детей старше 6 лет                 NaN                    NaN   \n2      «18+» - запрещено для детей                 NaN                    NaN   \n3      «18+» - запрещено для детей                 NaN                    NaN   \n4      «18+» - запрещено для детей                 NaN                    NaN   \n5    «6+» - для детей старше 6 лет                 NaN                    NaN   \n6  «12+» - для детей старше 12 лет                 NaN                    NaN   \n7      «18+» - запрещено для детей                 NaN                    NaN   \n8      «18+» - запрещено для детей                 NaN                    NaN   \n9  «12+» - для детей старше 12 лет                 NaN                    NaN   \n\n   budget financing_source ratings                     genres  box_office  \n0     NaN              NaN     7.2     боевик,драма,мелодрама         NaN  \n1     NaN              NaN     6.6              драма,военный         NaN  \n2     NaN              NaN     6.8  фантастика,боевик,триллер         NaN  \n3     NaN              NaN     6.8  фантастика,боевик,триллер         NaN  \n4     NaN              NaN     6.8  фантастика,боевик,триллер         NaN  \n5     NaN              NaN     7.7                      драма         NaN  \n6     NaN              NaN     8.3          мелодрама,комедия      2700.0  \n7     NaN              NaN     6.6   мюзикл,мелодрама,комедия         NaN  \n8     NaN              NaN     8.0           комедия,криминал         NaN  \n9     NaN              NaN     7.8          мелодрама,комедия         NaN  ",
      "text/html": "<div>\n<style scoped>\n    .dataframe tbody tr th:only-of-type {\n        vertical-align: middle;\n    }\n\n    .dataframe tbody tr th {\n        vertical-align: top;\n    }\n\n    .dataframe thead th {\n        text-align: right;\n    }\n</style>\n<table border=\"1\" class=\"dataframe\">\n  <thead>\n    <tr style=\"text-align: right;\">\n      <th></th>\n      <th>title</th>\n      <th>puNumber</th>\n      <th>show_start_date</th>\n      <th>type</th>\n      <th>film_studio</th>\n      <th>production_country</th>\n      <th>director</th>\n      <th>producer</th>\n      <th>age_restriction</th>\n      <th>refundable_support</th>\n      <th>nonrefundable_support</th>\n      <th>budget</th>\n      <th>financing_source</th>\n      <th>ratings</th>\n      <th>genres</th>\n      <th>box_office</th>\n    </tr>\n  </thead>\n  <tbody>\n    <tr>\n      <th>0</th>\n      <td>Открытый простор</td>\n      <td>221048915</td>\n      <td>2015-11-27T12:00:00.000Z</td>\n      <td>Художественный</td>\n      <td>Тачстоун Пикчерз, Кобальт Пикчерз, Бикон Пикче...</td>\n      <td>США</td>\n      <td>Кевин Костнер</td>\n      <td>Дэвид Валдес, Кевин Костнер, Джейк Эбертс</td>\n      <td>«18+» - запрещено для детей</td>\n      <td>NaN</td>\n      <td>NaN</td>\n      <td>NaN</td>\n      <td>NaN</td>\n      <td>7.2</td>\n      <td>боевик,драма,мелодрама</td>\n      <td>NaN</td>\n    </tr>\n    <tr>\n      <th>1</th>\n      <td>Особо важное задание</td>\n      <td>111013716</td>\n      <td>2016-09-13T12:00:00.000Z</td>\n      <td>Художественный</td>\n      <td>Киностудия \"Мосфильм\"</td>\n      <td>СССР</td>\n      <td>Е.Матвеев</td>\n      <td>NaN</td>\n      <td>«6+» - для детей старше 6 лет</td>\n      <td>NaN</td>\n      <td>NaN</td>\n      <td>NaN</td>\n      <td>NaN</td>\n      <td>6.6</td>\n      <td>драма,военный</td>\n      <td>NaN</td>\n    </tr>\n    <tr>\n      <th>2</th>\n      <td>Особо опасен</td>\n      <td>221038416</td>\n      <td>2016-10-10T12:00:00.000Z</td>\n      <td>Художественный</td>\n      <td>Юниверсал Пикчерз, Кикстарт Продакшнз, Марк Пл...</td>\n      <td>США</td>\n      <td>Тимур Бекмамбетов</td>\n      <td>Джим Лемли, Джейсон Нетер, Марк Е.Платт, Яйн Смит</td>\n      <td>«18+» - запрещено для детей</td>\n      <td>NaN</td>\n      <td>NaN</td>\n      <td>NaN</td>\n      <td>NaN</td>\n      <td>6.8</td>\n      <td>фантастика,боевик,триллер</td>\n      <td>NaN</td>\n    </tr>\n    <tr>\n      <th>3</th>\n      <td>Особо опасен</td>\n      <td>221026916</td>\n      <td>2016-06-10T12:00:00.000Z</td>\n      <td>Художественный</td>\n      <td>Юниверсал Пикчерз, Кикстарт Продакшнз, Марк Пл...</td>\n      <td>США</td>\n      <td>Тимур Бекмамбетов</td>\n      <td>Джим Лемли, Джейсон Нетер, Марк Е.Платт, Яйн Смит</td>\n      <td>«18+» - запрещено для детей</td>\n      <td>NaN</td>\n      <td>NaN</td>\n      <td>NaN</td>\n      <td>NaN</td>\n      <td>6.8</td>\n      <td>фантастика,боевик,триллер</td>\n      <td>NaN</td>\n    </tr>\n    <tr>\n      <th>4</th>\n      <td>Особо опасен</td>\n      <td>221030815</td>\n      <td>2015-07-29T12:00:00.000Z</td>\n      <td>Художественный</td>\n      <td>Юниверсал Пикчерз, Кикстарт Продакшнз, Марк Пл...</td>\n      <td>США</td>\n      <td>Тимур Бекмамбетов</td>\n      <td>Джим Лемли, Джейсон Нетер, Марк Е.Платт, Яйн Смит</td>\n      <td>«18+» - запрещено для детей</td>\n      <td>NaN</td>\n      <td>NaN</td>\n      <td>NaN</td>\n      <td>NaN</td>\n      <td>6.8</td>\n      <td>фантастика,боевик,триллер</td>\n      <td>NaN</td>\n    </tr>\n    <tr>\n      <th>5</th>\n      <td>Остановился поезд</td>\n      <td>111013816</td>\n      <td>2016-09-13T12:00:00.000Z</td>\n      <td>Художественный</td>\n      <td>Киностудия \"Мосфильм\"</td>\n      <td>СССР</td>\n      <td>В.Абдрашитов</td>\n      <td>NaN</td>\n      <td>«6+» - для детей старше 6 лет</td>\n      <td>NaN</td>\n      <td>NaN</td>\n      <td>NaN</td>\n      <td>NaN</td>\n      <td>7.7</td>\n      <td>драма</td>\n      <td>NaN</td>\n    </tr>\n    <tr>\n      <th>6</th>\n      <td>Любовь и голуби</td>\n      <td>111007013</td>\n      <td>2013-10-18T12:00:00.000Z</td>\n      <td>Художественный</td>\n      <td>Киностудия \"Мосфильм\"</td>\n      <td>СССР</td>\n      <td>В.Меньшов</td>\n      <td>NaN</td>\n      <td>«12+» - для детей старше 12 лет</td>\n      <td>NaN</td>\n      <td>NaN</td>\n      <td>NaN</td>\n      <td>NaN</td>\n      <td>8.3</td>\n      <td>мелодрама,комедия</td>\n      <td>2700.0</td>\n    </tr>\n    <tr>\n      <th>7</th>\n      <td>Любовь и сигареты</td>\n      <td>221074614</td>\n      <td>2014-12-29T12:00:00.000Z</td>\n      <td>Художественный</td>\n      <td>Юнайтед Артистс, Грин Стрит Филмз, Айкон Интер...</td>\n      <td>США</td>\n      <td>Джон Туртурро</td>\n      <td>Джон Пенотти, Джон Туртурро</td>\n      <td>«18+» - запрещено для детей</td>\n      <td>NaN</td>\n      <td>NaN</td>\n      <td>NaN</td>\n      <td>NaN</td>\n      <td>6.6</td>\n      <td>мюзикл,мелодрама,комедия</td>\n      <td>NaN</td>\n    </tr>\n    <tr>\n      <th>8</th>\n      <td>Отпетые мошенники.</td>\n      <td>121011416</td>\n      <td>2016-05-05T12:00:00.000Z</td>\n      <td>Художественный</td>\n      <td>Пульсар Продюксьон, ТФ1 Фильм</td>\n      <td>Франция</td>\n      <td>Эрик Беснард</td>\n      <td>Патрис Леду</td>\n      <td>«18+» - запрещено для детей</td>\n      <td>NaN</td>\n      <td>NaN</td>\n      <td>NaN</td>\n      <td>NaN</td>\n      <td>8.0</td>\n      <td>комедия,криминал</td>\n      <td>NaN</td>\n    </tr>\n    <tr>\n      <th>9</th>\n      <td>Отпуск за свой счет</td>\n      <td>111019114</td>\n      <td>2014-12-01T12:00:00.000Z</td>\n      <td>Художественный</td>\n      <td>Киностудия \"Мосфильм\", Телевидение ВНР</td>\n      <td>СССР, Венгрия</td>\n      <td>В.Титов</td>\n      <td>NaN</td>\n      <td>«12+» - для детей старше 12 лет</td>\n      <td>NaN</td>\n      <td>NaN</td>\n      <td>NaN</td>\n      <td>NaN</td>\n      <td>7.8</td>\n      <td>мелодрама,комедия</td>\n      <td>NaN</td>\n    </tr>\n  </tbody>\n</table>\n</div>"
     },
     "execution_count": 7,
     "metadata": {},
     "output_type": "execute_result"
    }
   ],
   "source": [
    "total_df.head(10)"
   ]
  },
  {
   "cell_type": "markdown",
   "source": [
    "**Resume**\n",
    "\n",
    "- The data contains information about 7486 films.\n",
    "- There are 16 columns in the general table, among which 4 are float, 12 are object.\n",
    "- The names of the columns are informative and correspond to the style.\n",
    "- There are missing values in many columns.\n",
    "\n",
    "*The first stage of the project will be data pre-processing to remove and evaluate the impact of omissions, as well as correct data types.*"
   ],
   "metadata": {
    "collapsed": false
   }
  },
  {
   "cell_type": "markdown",
   "id": "143e62ea",
   "metadata": {},
   "source": [
    "## Data preprocessing"
   ]
  },
  {
   "cell_type": "markdown",
   "id": "7d1a66c3",
   "metadata": {},
   "source": [
    "### Type"
   ]
  },
  {
   "cell_type": "code",
   "execution_count": 8,
   "id": "bab15df4",
   "metadata": {},
   "outputs": [],
   "source": [
    "total_df['show_start_date'] = pd.to_datetime(total_df['show_start_date']).dt.date\n",
    "total_df['show_start_date'] = pd.to_datetime(total_df['show_start_date'])"
   ]
  },
  {
   "cell_type": "markdown",
   "id": "26c4f5bc",
   "metadata": {},
   "source": [
    "### Missing values"
   ]
  },
  {
   "cell_type": "code",
   "execution_count": 9,
   "id": "cf312778",
   "metadata": {},
   "outputs": [
    {
     "name": "stdout",
     "output_type": "stream",
     "text": [
      "title - 0%\n",
      "puNumber - 0%\n",
      "show_start_date - 0%\n",
      "type - 0%\n",
      "film_studio - 0%\n",
      "production_country - 0%\n",
      "director - 0%\n",
      "producer - 8%\n",
      "age_restriction - 0%\n",
      "refundable_support - 96%\n",
      "nonrefundable_support - 96%\n",
      "budget - 96%\n",
      "financing_source - 96%\n",
      "ratings - 13%\n",
      "genres - 13%\n",
      "box_office - 58%\n"
     ]
    }
   ],
   "source": [
    "for col in total_df.columns:\n",
    "    pct_missing = np.mean(total_df[col].isnull())\n",
    "    print('{} - {}%'.format(col, round(pct_missing*100)))\n",
    "    "
   ]
  },
  {
   "cell_type": "code",
   "execution_count": 10,
   "id": "95c4559b",
   "metadata": {},
   "outputs": [],
   "source": [
    "def investigate_column(column):\n",
    "    print('Null or Na count is', column.isna().sum())\n",
    "    print(column.describe())\n",
    "    "
   ]
  },
  {
   "cell_type": "markdown",
   "id": "c3d5354d",
   "metadata": {},
   "source": [
    "#### `film_studio`\n"
   ]
  },
  {
   "cell_type": "code",
   "execution_count": 11,
   "id": "6c71510e",
   "metadata": {},
   "outputs": [
    {
     "name": "stdout",
     "output_type": "stream",
     "text": [
      "Null or Na count is 18\n",
      "count                      7468\n",
      "unique                     5490\n",
      "top       Киностудия \"Мосфильм\"\n",
      "freq                        341\n",
      "Name: film_studio, dtype: object\n"
     ]
    }
   ],
   "source": [
    "investigate_column(total_df['film_studio'])"
   ]
  },
  {
   "cell_type": "code",
   "execution_count": 12,
   "id": "c0f47bfd",
   "metadata": {},
   "outputs": [
    {
     "data": {
      "text/plain": "0"
     },
     "execution_count": 12,
     "metadata": {},
     "output_type": "execute_result"
    }
   ],
   "source": [
    "total_df.dropna(subset=['film_studio'], inplace=True)\n",
    "total_df['film_studio'].isna().sum()\n"
   ]
  },
  {
   "cell_type": "markdown",
   "id": "0c1e6dba",
   "metadata": {},
   "source": [
    "Since very few values are missing and there is no way to fill in the gaps with adequate values, these rows are removed so as not to affect further analysis."
   ]
  },
  {
   "cell_type": "markdown",
   "id": "f61ad0af",
   "metadata": {},
   "source": [
    "#### `production_country`"
   ]
  },
  {
   "cell_type": "code",
   "execution_count": 13,
   "id": "5664a542",
   "metadata": {},
   "outputs": [
    {
     "name": "stdout",
     "output_type": "stream",
     "text": [
      "Null or Na count is 1\n",
      "count     7467\n",
      "unique     950\n",
      "top        США\n",
      "freq      2172\n",
      "Name: production_country, dtype: object\n"
     ]
    }
   ],
   "source": [
    "investigate_column(total_df['production_country'])\n"
   ]
  },
  {
   "cell_type": "code",
   "execution_count": 14,
   "id": "5061a5c9",
   "metadata": {},
   "outputs": [
    {
     "data": {
      "text/plain": "                                                  title   puNumber  \\\n3186  Детский юмористический киножурнал \"Ералаш. Ну ...  111001216   \n\n     show_start_date            type                      film_studio  \\\n3186      2016-02-09  Художественный  ООО \"Продюсерский центр ЕРАЛАШ\"   \n\n     production_country                                           director  \\\n3186                NaN  Р.Светлов, И.Магитон, А.Арутюнян, Л.Мирский, А...   \n\n                             producer                         age_restriction  \\\n3186  ООО \"Продюсерский центр ЕРАЛАШ\"  «0+» - для любой зрительской аудитории   \n\n      refundable_support  nonrefundable_support  budget financing_source  \\\n3186                 NaN                    NaN     NaN              NaN   \n\n     ratings           genres  box_office  \n3186     7.2  детский,комедия    194527.0  ",
      "text/html": "<div>\n<style scoped>\n    .dataframe tbody tr th:only-of-type {\n        vertical-align: middle;\n    }\n\n    .dataframe tbody tr th {\n        vertical-align: top;\n    }\n\n    .dataframe thead th {\n        text-align: right;\n    }\n</style>\n<table border=\"1\" class=\"dataframe\">\n  <thead>\n    <tr style=\"text-align: right;\">\n      <th></th>\n      <th>title</th>\n      <th>puNumber</th>\n      <th>show_start_date</th>\n      <th>type</th>\n      <th>film_studio</th>\n      <th>production_country</th>\n      <th>director</th>\n      <th>producer</th>\n      <th>age_restriction</th>\n      <th>refundable_support</th>\n      <th>nonrefundable_support</th>\n      <th>budget</th>\n      <th>financing_source</th>\n      <th>ratings</th>\n      <th>genres</th>\n      <th>box_office</th>\n    </tr>\n  </thead>\n  <tbody>\n    <tr>\n      <th>3186</th>\n      <td>Детский юмористический киножурнал \"Ералаш. Ну ...</td>\n      <td>111001216</td>\n      <td>2016-02-09</td>\n      <td>Художественный</td>\n      <td>ООО \"Продюсерский центр ЕРАЛАШ\"</td>\n      <td>NaN</td>\n      <td>Р.Светлов, И.Магитон, А.Арутюнян, Л.Мирский, А...</td>\n      <td>ООО \"Продюсерский центр ЕРАЛАШ\"</td>\n      <td>«0+» - для любой зрительской аудитории</td>\n      <td>NaN</td>\n      <td>NaN</td>\n      <td>NaN</td>\n      <td>NaN</td>\n      <td>7.2</td>\n      <td>детский,комедия</td>\n      <td>194527.0</td>\n    </tr>\n  </tbody>\n</table>\n</div>"
     },
     "execution_count": 14,
     "metadata": {},
     "output_type": "execute_result"
    }
   ],
   "source": [
    "total_df[total_df['production_country'].isna()]"
   ]
  },
  {
   "cell_type": "code",
   "execution_count": 15,
   "id": "df7c79fe",
   "metadata": {},
   "outputs": [],
   "source": [
    "total_df.loc[3186, 'production_country'] = 'Россия'\n"
   ]
  },
  {
   "cell_type": "markdown",
   "id": "64a10995",
   "metadata": {},
   "source": [
    "We found one missing value in the column and filled it in manually."
   ]
  },
  {
   "cell_type": "markdown",
   "id": "3c755072",
   "metadata": {},
   "source": [
    "#### `director`"
   ]
  },
  {
   "cell_type": "code",
   "execution_count": 16,
   "id": "491eeea9",
   "metadata": {},
   "outputs": [
    {
     "name": "stdout",
     "output_type": "stream",
     "text": [
      "Null or Na count is 8\n",
      "count           7460\n",
      "unique          4797\n",
      "top       О.Семёнова\n",
      "freq              47\n",
      "Name: director, dtype: object\n"
     ]
    }
   ],
   "source": [
    "investigate_column(total_df['director'])"
   ]
  },
  {
   "cell_type": "code",
   "execution_count": 17,
   "id": "013fa502",
   "metadata": {},
   "outputs": [
    {
     "data": {
      "text/plain": "                                                  title   puNumber  \\\n764   Три звезды. Концерт в Waldbuhne Theater, Берли...  126003512   \n1735                           Помпеи. Британский музей  126003413   \n3840                     Зур концерт (Большой концерт).  217027010   \n4052  Ганс Сэйфуллин \"Авылым чишмэлэре. Ганс Сэйфулл...  217017310   \n4298                        Изге Вэли (Святой Валентин)  217020610   \n4415                          Bon Jovi. The Circle Tour  126001710   \n4923  Георг Фридрих Гендель. Мессия. Оратория. Корол...  126001111   \n4942             Питер Гэбриэл и New Blood Orchestra 3D  126002711   \n\n     show_start_date            type                   film_studio  \\\n764       2012-12-04          Прочие            Райзинг Алтернатив   \n1735      2013-09-11          Прочие  МортуСкрин, Британский музей   \n3840      2010-06-24  Художественный            ООО \"Барс Рекордс\"   \n4052      2010-04-22  Художественный            ООО \"Барс-Рекордс\"   \n4298      2010-05-20  Художественный            ООО \"Барс Рекордс\"   \n4415      2010-11-11          Прочие     Эншутц Интертейнмент Груп   \n4923      2011-04-25          Прочие                      Опус Арт   \n4942      2011-11-11          Прочие               Омниверс Визион   \n\n     production_country director                      producer  \\\n764      Великобритания      NaN               Вальдбюне Театр   \n1735     Великобритания      NaN              Британский музей   \n3840             Россия      NaN                           NaN   \n4052             Россия      NaN                           NaN   \n4298             Россия      NaN                           NaN   \n4415                США      NaN     Эншутц Интертейнмент Груп   \n4923     Великобритания      NaN  Короевский колледж Кембриджа   \n4942     Великобритания      NaN               Омниверс Визион   \n\n                             age_restriction  refundable_support  \\\n764   «0+» - для любой зрительской аудитории                 NaN   \n1735  «0+» - для любой зрительской аудитории                 NaN   \n3840         «12+» - для детей старше 12 лет                 NaN   \n4052  «0+» - для любой зрительской аудитории                 NaN   \n4298         «12+» - для детей старше 12 лет                 NaN   \n4415  «0+» - для любой зрительской аудитории                 NaN   \n4923  «0+» - для любой зрительской аудитории                 NaN   \n4942  «0+» - для любой зрительской аудитории                 NaN   \n\n      nonrefundable_support  budget financing_source ratings          genres  \\\n764                     NaN     NaN              NaN     NaN             NaN   \n1735                    NaN     NaN              NaN     NaN             NaN   \n3840                    NaN     NaN              NaN     NaN             NaN   \n4052                    NaN     NaN              NaN     NaN             NaN   \n4298                    NaN     NaN              NaN     NaN             NaN   \n4415                    NaN     NaN              NaN     7.9  концерт,музыка   \n4923                    NaN     NaN              NaN     NaN             NaN   \n4942                    NaN     NaN              NaN     6.7  концерт,музыка   \n\n      box_office  \n764      44350.0  \n1735         NaN  \n3840         NaN  \n4052         NaN  \n4298         NaN  \n4415         NaN  \n4923         NaN  \n4942         NaN  ",
      "text/html": "<div>\n<style scoped>\n    .dataframe tbody tr th:only-of-type {\n        vertical-align: middle;\n    }\n\n    .dataframe tbody tr th {\n        vertical-align: top;\n    }\n\n    .dataframe thead th {\n        text-align: right;\n    }\n</style>\n<table border=\"1\" class=\"dataframe\">\n  <thead>\n    <tr style=\"text-align: right;\">\n      <th></th>\n      <th>title</th>\n      <th>puNumber</th>\n      <th>show_start_date</th>\n      <th>type</th>\n      <th>film_studio</th>\n      <th>production_country</th>\n      <th>director</th>\n      <th>producer</th>\n      <th>age_restriction</th>\n      <th>refundable_support</th>\n      <th>nonrefundable_support</th>\n      <th>budget</th>\n      <th>financing_source</th>\n      <th>ratings</th>\n      <th>genres</th>\n      <th>box_office</th>\n    </tr>\n  </thead>\n  <tbody>\n    <tr>\n      <th>764</th>\n      <td>Три звезды. Концерт в Waldbuhne Theater, Берли...</td>\n      <td>126003512</td>\n      <td>2012-12-04</td>\n      <td>Прочие</td>\n      <td>Райзинг Алтернатив</td>\n      <td>Великобритания</td>\n      <td>NaN</td>\n      <td>Вальдбюне Театр</td>\n      <td>«0+» - для любой зрительской аудитории</td>\n      <td>NaN</td>\n      <td>NaN</td>\n      <td>NaN</td>\n      <td>NaN</td>\n      <td>NaN</td>\n      <td>NaN</td>\n      <td>44350.0</td>\n    </tr>\n    <tr>\n      <th>1735</th>\n      <td>Помпеи. Британский музей</td>\n      <td>126003413</td>\n      <td>2013-09-11</td>\n      <td>Прочие</td>\n      <td>МортуСкрин, Британский музей</td>\n      <td>Великобритания</td>\n      <td>NaN</td>\n      <td>Британский музей</td>\n      <td>«0+» - для любой зрительской аудитории</td>\n      <td>NaN</td>\n      <td>NaN</td>\n      <td>NaN</td>\n      <td>NaN</td>\n      <td>NaN</td>\n      <td>NaN</td>\n      <td>NaN</td>\n    </tr>\n    <tr>\n      <th>3840</th>\n      <td>Зур концерт (Большой концерт).</td>\n      <td>217027010</td>\n      <td>2010-06-24</td>\n      <td>Художественный</td>\n      <td>ООО \"Барс Рекордс\"</td>\n      <td>Россия</td>\n      <td>NaN</td>\n      <td>NaN</td>\n      <td>«12+» - для детей старше 12 лет</td>\n      <td>NaN</td>\n      <td>NaN</td>\n      <td>NaN</td>\n      <td>NaN</td>\n      <td>NaN</td>\n      <td>NaN</td>\n      <td>NaN</td>\n    </tr>\n    <tr>\n      <th>4052</th>\n      <td>Ганс Сэйфуллин \"Авылым чишмэлэре. Ганс Сэйфулл...</td>\n      <td>217017310</td>\n      <td>2010-04-22</td>\n      <td>Художественный</td>\n      <td>ООО \"Барс-Рекордс\"</td>\n      <td>Россия</td>\n      <td>NaN</td>\n      <td>NaN</td>\n      <td>«0+» - для любой зрительской аудитории</td>\n      <td>NaN</td>\n      <td>NaN</td>\n      <td>NaN</td>\n      <td>NaN</td>\n      <td>NaN</td>\n      <td>NaN</td>\n      <td>NaN</td>\n    </tr>\n    <tr>\n      <th>4298</th>\n      <td>Изге Вэли (Святой Валентин)</td>\n      <td>217020610</td>\n      <td>2010-05-20</td>\n      <td>Художественный</td>\n      <td>ООО \"Барс Рекордс\"</td>\n      <td>Россия</td>\n      <td>NaN</td>\n      <td>NaN</td>\n      <td>«12+» - для детей старше 12 лет</td>\n      <td>NaN</td>\n      <td>NaN</td>\n      <td>NaN</td>\n      <td>NaN</td>\n      <td>NaN</td>\n      <td>NaN</td>\n      <td>NaN</td>\n    </tr>\n    <tr>\n      <th>4415</th>\n      <td>Bon Jovi. The Circle Tour</td>\n      <td>126001710</td>\n      <td>2010-11-11</td>\n      <td>Прочие</td>\n      <td>Эншутц Интертейнмент Груп</td>\n      <td>США</td>\n      <td>NaN</td>\n      <td>Эншутц Интертейнмент Груп</td>\n      <td>«0+» - для любой зрительской аудитории</td>\n      <td>NaN</td>\n      <td>NaN</td>\n      <td>NaN</td>\n      <td>NaN</td>\n      <td>7.9</td>\n      <td>концерт,музыка</td>\n      <td>NaN</td>\n    </tr>\n    <tr>\n      <th>4923</th>\n      <td>Георг Фридрих Гендель. Мессия. Оратория. Корол...</td>\n      <td>126001111</td>\n      <td>2011-04-25</td>\n      <td>Прочие</td>\n      <td>Опус Арт</td>\n      <td>Великобритания</td>\n      <td>NaN</td>\n      <td>Короевский колледж Кембриджа</td>\n      <td>«0+» - для любой зрительской аудитории</td>\n      <td>NaN</td>\n      <td>NaN</td>\n      <td>NaN</td>\n      <td>NaN</td>\n      <td>NaN</td>\n      <td>NaN</td>\n      <td>NaN</td>\n    </tr>\n    <tr>\n      <th>4942</th>\n      <td>Питер Гэбриэл и New Blood Orchestra 3D</td>\n      <td>126002711</td>\n      <td>2011-11-11</td>\n      <td>Прочие</td>\n      <td>Омниверс Визион</td>\n      <td>Великобритания</td>\n      <td>NaN</td>\n      <td>Омниверс Визион</td>\n      <td>«0+» - для любой зрительской аудитории</td>\n      <td>NaN</td>\n      <td>NaN</td>\n      <td>NaN</td>\n      <td>NaN</td>\n      <td>6.7</td>\n      <td>концерт,музыка</td>\n      <td>NaN</td>\n    </tr>\n  </tbody>\n</table>\n</div>"
     },
     "execution_count": 17,
     "metadata": {},
     "output_type": "execute_result"
    }
   ],
   "source": [
    "total_df[total_df['director'].isna()]"
   ]
  },
  {
   "cell_type": "code",
   "execution_count": 18,
   "id": "ab67ac1d",
   "metadata": {},
   "outputs": [],
   "source": [
    "total_df['director'].fillna('Unknown', inplace=True)\n"
   ]
  },
  {
   "cell_type": "markdown",
   "id": "160c5e86",
   "metadata": {},
   "source": [
    "Fill missing values with 'Unknown' so as not to delete rows, and gaps did not affect further analysis."
   ]
  },
  {
   "cell_type": "markdown",
   "id": "265277c2",
   "metadata": {},
   "source": [
    "#### `producer`"
   ]
  },
  {
   "cell_type": "code",
   "execution_count": 19,
   "id": "b98bcecf",
   "metadata": {},
   "outputs": [
    {
     "name": "stdout",
     "output_type": "stream",
     "text": [
      "Null or Na count is 567\n",
      "count          6901\n",
      "unique         5334\n",
      "top       П.Смирнов\n",
      "freq             67\n",
      "Name: producer, dtype: object\n"
     ]
    }
   ],
   "source": [
    "investigate_column(total_df['producer'])\n"
   ]
  },
  {
   "cell_type": "code",
   "execution_count": 20,
   "id": "589a8285",
   "metadata": {},
   "outputs": [],
   "source": [
    "total_df['producer'].fillna('Unknown', inplace=True)\n"
   ]
  },
  {
   "cell_type": "markdown",
   "id": "effa8a6c",
   "metadata": {},
   "source": [
    "Fill missing values with 'Unknown' so as not to delete rows, and gaps did not affect further analysis."
   ]
  },
  {
   "cell_type": "markdown",
   "id": "0e38a5cd",
   "metadata": {},
   "source": [
    "#### `refundable_support`, `nonrefundable_support`, `budget`, `financing_source`"
   ]
  },
  {
   "cell_type": "code",
   "execution_count": 21,
   "id": "21542f2f",
   "metadata": {},
   "outputs": [
    {
     "name": "stdout",
     "output_type": "stream",
     "text": [
      "Null or Na count is 7136\n",
      "count    3.320000e+02\n",
      "mean     1.186446e+07\n",
      "std      2.491656e+07\n",
      "min      0.000000e+00\n",
      "25%      0.000000e+00\n",
      "50%      0.000000e+00\n",
      "75%      1.500000e+07\n",
      "max      1.800000e+08\n",
      "Name: refundable_support, dtype: float64\n"
     ]
    }
   ],
   "source": [
    "investigate_column(total_df['refundable_support']) \n"
   ]
  },
  {
   "cell_type": "markdown",
   "id": "12552048",
   "metadata": {},
   "source": [
    "The data in these columns are only for government-supported films, which are only 4%. We will not do anything with these columns."
   ]
  },
  {
   "cell_type": "markdown",
   "id": "5b93a2c0",
   "metadata": {},
   "source": [
    "#### `ratings`"
   ]
  },
  {
   "cell_type": "code",
   "execution_count": 22,
   "id": "e74da6e3",
   "metadata": {},
   "outputs": [
    {
     "name": "stdout",
     "output_type": "stream",
     "text": [
      "Null or Na count is 954\n",
      "count     6514\n",
      "unique      94\n",
      "top        6.6\n",
      "freq       312\n",
      "Name: ratings, dtype: object\n"
     ]
    }
   ],
   "source": [
    "investigate_column(total_df['ratings']) "
   ]
  },
  {
   "cell_type": "code",
   "execution_count": 23,
   "id": "631f9f3a",
   "metadata": {},
   "outputs": [
    {
     "data": {
      "text/plain": "9.1    1\n64%    1\n62%    1\n90%    1\n19%    1\n9.2    1\n1.0    1\n89%    1\n8.9    1\n1.9    1\n1.8    1\n1.2    1\n28%    1\n1.3    1\n1.4    2\n1.7    2\n79%    2\n9.0    2\n2.1    2\n98%    2\nName: ratings, dtype: int64"
     },
     "execution_count": 23,
     "metadata": {},
     "output_type": "execute_result"
    }
   ],
   "source": [
    "total_df['ratings'].value_counts(ascending=True).head(20)"
   ]
  },
  {
   "cell_type": "markdown",
   "id": "51bfdc9e",
   "metadata": {},
   "source": [
    "The data in a column is presented in different formats. Bring them to one form."
   ]
  },
  {
   "cell_type": "code",
   "execution_count": 24,
   "id": "99b3fc67",
   "metadata": {},
   "outputs": [],
   "source": [
    "total_df['ratings'] = total_df['ratings'].str.rstrip('%').astype(float)\n"
   ]
  },
  {
   "cell_type": "code",
   "execution_count": 25,
   "id": "4df47c22",
   "metadata": {},
   "outputs": [],
   "source": [
    "total_df['ratings'] = total_df['ratings'].apply(lambda x: x if x <= 10 else x / 10)"
   ]
  },
  {
   "cell_type": "code",
   "execution_count": 26,
   "id": "0754b337",
   "metadata": {},
   "outputs": [
    {
     "data": {
      "text/plain": "count    6514.000000\nmean        6.488210\nstd         1.114435\nmin         1.000000\n25%         5.900000\n50%         6.600000\n75%         7.200000\nmax         9.900000\nName: ratings, dtype: float64"
     },
     "execution_count": 26,
     "metadata": {},
     "output_type": "execute_result"
    }
   ],
   "source": [
    "total_df['ratings'].describe()"
   ]
  },
  {
   "cell_type": "code",
   "execution_count": 27,
   "id": "327224a1",
   "metadata": {},
   "outputs": [
    {
     "name": "stdout",
     "output_type": "stream",
     "text": [
      "Null or Na count is 954\n",
      "count    6514.000000\n",
      "mean        6.488210\n",
      "std         1.114435\n",
      "min         1.000000\n",
      "25%         5.900000\n",
      "50%         6.600000\n",
      "75%         7.200000\n",
      "max         9.900000\n",
      "Name: ratings, dtype: float64\n"
     ]
    }
   ],
   "source": [
    "investigate_column(total_df['ratings'])"
   ]
  },
  {
   "cell_type": "markdown",
   "id": "0e1ccb0c",
   "metadata": {},
   "source": [
    "#### `genres`"
   ]
  },
  {
   "cell_type": "code",
   "execution_count": 28,
   "id": "d395918f",
   "metadata": {},
   "outputs": [
    {
     "name": "stdout",
     "output_type": "stream",
     "text": [
      "Null or Na count is 963\n",
      "count      6505\n",
      "unique      741\n",
      "top       драма\n",
      "freq        476\n",
      "Name: genres, dtype: object\n"
     ]
    }
   ],
   "source": [
    "investigate_column(total_df['genres']) "
   ]
  },
  {
   "cell_type": "code",
   "execution_count": 29,
   "id": "d26b02d1",
   "metadata": {},
   "outputs": [
    {
     "data": {
      "text/plain": "array(['боевик,драма,мелодрама', 'драма,военный',\n       'фантастика,боевик,триллер', 'драма', 'мелодрама,комедия',\n       'мюзикл,мелодрама,комедия', 'комедия,криминал',\n       'боевик,триллер,детектив', 'боевик,драма,приключения',\n       'драма,спорт', 'триллер,драма,мелодрама', 'комедия,мелодрама',\n       'драма,мелодрама,комедия', 'драма,мелодрама', 'драма,история',\n       'драма,мелодрама,семейный', 'комедия,мелодрама,криминал',\n       'комедия', 'боевик,драма,криминал', 'драма,комедия',\n       'ужасы,фантастика,комедия', 'мультфильм,короткометражка,мелодрама',\n       'драма,криминал', 'мультфильм,фантастика,фэнтези',\n       'триллер,драма,криминал', 'драма,мелодрама,биография',\n       'драма,комедия,военный', 'фантастика,драма,детектив',\n       'мюзикл,семейный', nan, 'военный,приключения,драма',\n       'документальный,драма', 'драма,биография,история',\n       'боевик,триллер,драма', 'фэнтези,боевик',\n       'боевик,комедия,криминал', 'мюзикл,комедия,детский',\n       'комедия,мелодрама,драма', 'мультфильм,фэнтези,комедия',\n       'комедия,история', 'мелодрама', 'драма,биография,музыка',\n       'фэнтези,драма,мелодрама', 'триллер,военный',\n       'драма,мелодрама,военный', 'мюзикл,драма,мелодрама',\n       'мюзикл,комедия', 'мультфильм,приключения,семейный',\n       'ужасы,триллер', 'боевик,драма,военный', 'драма,боевик',\n       'мультфильм,драма,комедия', 'триллер,криминал',\n       'военный,биография,драма', 'комедия,семейный', 'военный',\n       'драма,семейный,биография', 'фэнтези,приключения,семейный',\n       'драма,криминал,биография', 'ужасы,триллер,детектив',\n       'боевик,история,драма', 'ужасы,триллер,драма',\n       'драма,криминал,спорт', 'документальный,короткометражка',\n       'триллер,драма', 'криминал,детектив,приключения',\n       'драма,комедия,криминал', 'драма,комедия,вестерн',\n       'драма,мелодрама,детектив', 'мелодрама,биография',\n       'фэнтези,мелодрама,драма', 'драма,мелодрама,история',\n       'комедия,приключения,история', 'приключения', 'драма,семейный',\n       'криминал,детектив', 'мультфильм,короткометражка,ужасы',\n       'фантастика,триллер,драма', 'фэнтези,мелодрама,комедия',\n       'драма,биография', 'комедия,криминал,история',\n       'триллер,драма,детектив', 'фантастика,комедия,приключения',\n       'фэнтези,семейный', 'ужасы,фантастика,боевик',\n       'мелодрама,криминал', 'комедия,приключения,мелодрама',\n       'боевик,триллер,приключения', 'боевик,приключения',\n       'боевик,триллер,криминал', 'документальный,военный,история',\n       'драма,музыка', 'боевик,драма', 'приключения,боевик',\n       'драма,военный,биография', 'триллер,драма,приключения',\n       'аниме,мультфильм,фэнтези', 'триллер,детектив,драма',\n       'боевик,триллер,мелодрама', 'боевик,история',\n       'приключения,история', 'драма,комедия,приключения',\n       'фэнтези,комедия,приключения', 'драма,вестерн',\n       'документальный,музыка', 'мелодрама,драма',\n       'триллер,криминал,детектив', 'ужасы', 'боевик,комедия,приключения',\n       'мультфильм,фэнтези,боевик', 'боевик,фэнтези,драма',\n       'фэнтези,драма', 'фэнтези,боевик,комедия',\n       'приключения,детский,комедия', 'документальный',\n       'боевик,триллер,комедия', 'мелодрама,комедия,криминал',\n       'драма,детектив', 'мюзикл,ужасы,триллер', 'детектив,триллер,ужасы',\n       'ужасы,фэнтези', 'ужасы,фэнтези,триллер', 'мультфильм,драма',\n       'ужасы,боевик,фантастика', 'боевик', 'фантастика,боевик',\n       'мелодрама,комедия,приключения', 'триллер,детектив',\n       'мюзикл,мелодрама,фэнтези', 'криминал', 'триллер,комедия,криминал',\n       'боевик,приключения,триллер', 'триллер,драма,военный',\n       'комедия,семейный,музыка', 'комедия,фантастика,мелодрама',\n       'фантастика,триллер,криминал', 'комедия,драма', 'боевик,военный',\n       'ужасы,фантастика,триллер', 'фантастика,драма,мелодрама',\n       'фэнтези,драма,детектив', 'боевик,триллер', 'боевик,драма,история',\n       'мультфильм,мюзикл,фэнтези', 'для взрослых,драма,мелодрама',\n       'мультфильм,боевик,детектив', 'фантастика,мелодрама,боевик',\n       'ужасы,фантастика,детектив', 'фантастика,боевик,приключения',\n       'мелодрама,комедия,спорт', 'комедия,боевик,приключения',\n       'документальный,приключения', 'мультфильм,короткометражка,детский',\n       'комедия,приключения', 'ужасы,драма', 'ужасы,фэнтези,боевик',\n       'мультфильм,фэнтези,детский', 'мюзикл,боевик,драма',\n       'семейный,комедия,драма', 'концерт,музыка', 'фэнтези,боевик,драма',\n       'драма,комедия,музыка', 'фантастика,фэнтези,боевик',\n       'фэнтези,комедия,семейный', 'фэнтези,драма,комедия',\n       'мультфильм,мюзикл,драма', 'триллер', 'боевик,криминал,триллер',\n       'мультфильм,приключения,драма', 'мелодрама,музыка',\n       'документальный,музыка,концерт', 'мультфильм,семейный',\n       'мультфильм,комедия,приключения', 'мультфильм,комедия,семейный',\n       'фантастика,драма', 'фэнтези,боевик,приключения',\n       'мультфильм,приключения', 'драма,военный,история', 'история',\n       'драма,приключения,военный',\n       'документальный,короткометражка,семейный',\n       'мелодрама,история,триллер', 'ужасы,детектив',\n       'мюзикл,комедия,приключения', 'драма,спорт,биография',\n       'фантастика,боевик,комедия', 'фантастика,приключения,детектив',\n       'короткометражка,драма,военный', 'драма,мультфильм',\n       'приключения,семейный', 'детектив', 'триллер,приключения',\n       'аниме,мультфильм,боевик', 'драма,комедия,биография',\n       'драма,комедия,спорт', 'боевик,мелодрама,комедия',\n       'семейный,комедия', 'фэнтези,боевик,триллер',\n       'документальный,фэнтези,семейный', 'фантастика,фэнтези,драма',\n       'ужасы,комедия,фэнтези', 'документальный,биография,музыка',\n       'фантастика,боевик,фэнтези', 'ужасы,боевик,триллер',\n       'комедия,криминал,семейный', 'приключения,драма',\n       'криминал,драма,триллер', 'драма,детектив,криминал',\n       'фэнтези,приключения,комедия', 'комедия,спорт',\n       'мюзикл,фэнтези,мелодрама', 'мультфильм,фэнтези,приключения',\n       'фантастика,фэнтези,приключения', 'фэнтези',\n       'фэнтези,приключения,боевик', 'фантастика,боевик,драма',\n       'криминал,драма', 'криминал,триллер,драма',\n       'драма,мелодрама,приключения', 'детский,комедия',\n       'фантастика,драма,боевик', 'мультфильм,семейный,фэнтези',\n       'концерт,музыка,документальный', 'ужасы,комедия,приключения',\n       'драма,мелодрама,криминал', 'ужасы,фантастика,фэнтези',\n       'боевик,комедия', 'мультфильм,фантастика,комедия', 'триллер,ужасы',\n       'мультфильм,мюзикл,комедия', 'мелодрама,фэнтези,триллер',\n       'детский,приключения,комедия', 'комедия,детектив',\n       'аниме,мультфильм,мелодрама', 'документальный,драма,семейный',\n       'документальный,биография,история', 'военный,боевик,драма',\n       'ужасы,комедия', 'комедия,приключения,семейный',\n       'приключения,биография,история', 'детский,приключения,семейный',\n       'спорт,драма,биография', 'аниме,мультфильм,ужасы',\n       'фантастика,боевик,криминал', 'мюзикл,драма',\n       'драма,криминал,детектив', 'аниме,мультфильм,драма',\n       'драма,триллер,приключения', 'триллер,криминал,драма',\n       'фэнтези,комедия,драма', 'мультфильм,комедия',\n       'драма,комедия,история', 'комедия,биография,история',\n       'мультфильм,фантастика,приключения', 'аниме,мультфильм,фантастика',\n       'мультфильм,фэнтези,семейный', 'мультфильм,боевик,комедия',\n       'комедия,криминал,спорт', 'документальный,мюзикл',\n       'мелодрама,комедия,музыка', 'биография',\n       'триллер,криминал,комедия', 'фантастика,драма,комедия',\n       'комедия,драма,мелодрама', 'фантастика,приключения,боевик',\n       'мультфильм,фэнтези,драма', 'триллер,комедия',\n       'драма,приключения,биография', 'фантастика,комедия',\n       'мелодрама,драма,комедия', 'боевик,криминал',\n       'драма,криминал,боевик', 'мультфильм,мюзикл,детский',\n       'драма,фэнтези', 'документальный,семейный',\n       'фэнтези,драма,приключения', 'ужасы,комедия,фантастика',\n       'драма,мелодрама,музыка', 'фэнтези,драма,семейный',\n       'триллер,мелодрама,драма', 'вестерн,боевик,драма',\n       'мультфильм,короткометражка,комедия', 'триллер,драма,история',\n       'ужасы,фантастика', 'ужасы,мелодрама,комедия',\n       'фэнтези,приключения', 'фантастика,триллер',\n       'ужасы,боевик,фэнтези', 'мультфильм,комедия,детский',\n       'триллер,драма,биография', 'мультфильм,ужасы,фэнтези',\n       'мультфильм,ужасы,фантастика', 'ужасы,боевик,комедия',\n       'драма,биография,спорт', 'мультфильм', 'мелодрама,комедия,драма',\n       'приключения,фантастика,семейный', 'комедия,криминал,детектив',\n       'ужасы,триллер,комедия', 'криминал,комедия,триллер',\n       'семейный,приключения,комедия', 'мультфильм,драма,приключения',\n       'ужасы,драма,детектив', 'драма,приключения,фэнтези',\n       'фантастика,мультфильм,драма', 'драма,триллер,детектив',\n       'драма,история,музыка', 'детский', 'триллер,боевик,криминал',\n       'драма,фантастика', 'комедия,драма,семейный',\n       'боевик,драма,комедия', 'комедия,ужасы',\n       'драма,фантастика,триллер', 'фантастика,драма,триллер',\n       'история,спорт,драма', 'документальный,биография',\n       'биография,история', 'спорт,драма', 'боевик,фэнтези',\n       'мультфильм,фэнтези', 'документальный,комедия,история',\n       'криминал,комедия,боевик', 'фэнтези,приключения,драма',\n       'музыка,концерт', 'триллер,драма,боевик',\n       'комедия,криминал,боевик', 'комедия,фантастика,боевик',\n       'вестерн,приключения,боевик', 'аниме,мультфильм,комедия',\n       'детектив,криминал,триллер', 'мультфильм,комедия,криминал',\n       'комедия,приключения,детектив', 'мелодрама,фантастика,драма',\n       'драма,комедия,семейный', 'приключения,фантастика',\n       'триллер,детектив,ужасы', 'комедия,приключения,фэнтези',\n       'фэнтези,триллер,драма', 'мелодрама,приключения,боевик',\n       'детектив,триллер,криминал', 'фэнтези,семейный,мелодрама',\n       'военный,драма', 'документальный,приключения,семейный',\n       'криминал,комедия,драма', 'комедия,фантастика',\n       'история,биография,драма', 'мелодрама,драма,музыка',\n       'боевик,мелодрама', 'комедия,криминал,триллер',\n       'детектив,триллер,боевик', 'комедия,боевик,криминал',\n       'комедия,вестерн', 'детский,мелодрама,семейный',\n       'короткометражка,мультфильм', 'комедия,фэнтези',\n       'фантастика,драма,ужасы', 'триллер,драма,ужасы',\n       'драма,фэнтези,история', 'комедия,драма,короткометражка',\n       'фэнтези,триллер,приключения', 'семейный',\n       'комедия,криминал,драма', 'комедия,фэнтези,ужасы',\n       'короткометражка,комедия,криминал', 'фантастика',\n       'триллер,ужасы,драма', 'мелодрама,драма,фэнтези',\n       'фантастика,приключения,драма', 'боевик,детектив',\n       'военный,драма,боевик', 'комедия,мелодрама,фэнтези',\n       'вестерн,криминал,триллер', 'драма,история,триллер',\n       'мультфильм,фантастика,боевик', 'детектив,драма,криминал',\n       'приключения,история,драма', 'мультфильм,семейный,детский',\n       'биография,драма,история', 'триллер,криминал,боевик',\n       'история,мелодрама', 'приключения,детский',\n       'музыка,приключения,концерт', 'военный,драма,комедия',\n       'фэнтези,боевик,военный', 'фантастика,детектив,боевик',\n       'мультфильм,фэнтези,история', 'биография,мелодрама,драма',\n       'документальный,биография,спорт', 'фантастика,комедия,детектив',\n       'музыка,концерт,документальный', 'триллер,боевик,приключения',\n       'триллер,драма,комедия', 'детектив,криминал',\n       'мультфильм,приключения,фэнтези', 'мелодрама,приключения',\n       'комедия,музыка', 'мелодрама,комедия,ужасы',\n       'драма,криминал,приключения', 'приключения,детектив,мелодрама',\n       'драма,криминал,фантастика', 'фэнтези,драма,биография',\n       'детектив,фантастика,криминал', 'триллер,драма,фантастика',\n       'ужасы,комедия,боевик', 'мелодрама,история', 'триллер,боевик',\n       'фильм-нуар,триллер,детектив', 'комедия,криминал,приключения',\n       'ужасы,триллер,мелодрама', 'военный,драма,история',\n       'драма,спорт,история', 'документальный,драма,история',\n       'триллер,мелодрама,детектив', 'детский,семейный',\n       'мюзикл,семейный,драма', 'биография,военный,драма',\n       'мультфильм,детский', 'боевик,криминал,драма',\n       'детектив,фэнтези,триллер', 'драма,боевик,приключения',\n       'драма,мелодрама,фэнтези', 'детектив,история,драма',\n       'фэнтези,боевик,ужасы', 'ужасы,фэнтези,мелодрама',\n       'ужасы,приключения', 'боевик,фантастика',\n       'ужасы,мелодрама,детектив', 'фантастика,триллер,приключения',\n       'боевик,приключения,история', 'приключения,боевик,триллер',\n       'детектив,ужасы,криминал', 'семейный,фэнтези', 'мюзикл,мелодрама',\n       'драма,военный,приключения', 'фантастика,драма,приключения',\n       'приключения,семейный,драма', 'история,драма,боевик',\n       'мультфильм,приключения,комедия', 'криминал,драма,комедия',\n       'ужасы,комедия,драма', 'комедия,семейный,приключения',\n       'мюзикл,фэнтези,драма', 'драма,вестерн,боевик',\n       'фантастика,триллер,детектив', 'драма,история,детектив',\n       'короткометражка,биография', 'мультфильм,приключения,фантастика',\n       'комедия,триллер', 'мультфильм,приключения,детектив',\n       'драма,триллер', 'ужасы,триллер,криминал',\n       'документальный,криминал,военный', 'ужасы,фэнтези,драма',\n       'фэнтези,комедия', 'ужасы,фэнтези,комедия', 'комедия,музыка,драма',\n       'мультфильм,приключения,военный', 'мюзикл,фэнтези,комедия',\n       'боевик,фантастика,приключения', 'триллер,ужасы,криминал',\n       'ужасы,фантастика,драма', 'фантастика,приключения,семейный',\n       'короткометражка,музыка', 'мелодрама,детектив,комедия',\n       'документальный,триллер,биография', 'боевик,фантастика,триллер',\n       'спорт,драма,комедия', 'фэнтези,мелодрама,приключения',\n       'триллер,детектив,криминал', 'короткометражка,мелодрама',\n       'мультфильм,семейный,спорт', 'комедия,фэнтези,мелодрама',\n       'драма,спорт,комедия', 'история,драма,мелодрама',\n       'драма,боевик,криминал', 'драма,комедия,триллер',\n       'аниме,мультфильм', 'документальный,ужасы',\n       'мультфильм,короткометражка', 'драма,история,военный',\n       'мультфильм,короткометражка,фэнтези', 'комедия,военный,музыка',\n       'биография,история,драма', 'ужасы,драма,мелодрама',\n       'драма,комедия,детектив', 'комедия,семейный,фантастика',\n       'мультфильм,семейный,комедия', 'история,детектив',\n       'приключения,мелодрама,детектив', 'мюзикл,комедия,мелодрама',\n       'драма,фантастика,ужасы', 'мультфильм,ужасы,комедия',\n       'для взрослых,драма,комедия', 'ужасы,комедия,музыка',\n       'комедия,история,драма', 'семейный,детектив,детский',\n       'короткометражка,драма', 'документальный,новости,драма',\n       'триллер,мелодрама', 'ужасы,драма,вестерн',\n       'мюзикл,фэнтези,семейный', 'вестерн,драма,триллер',\n       'приключения,вестерн,боевик', 'семейный,комедия,музыка',\n       'боевик,драма,вестерн', 'ужасы,драма,триллер',\n       'фантастика,мелодрама', 'комедия,криминал,биография',\n       'семейный,мультфильм,комедия', 'комедия,драма,криминал',\n       'фантастика,боевик,военный', 'приключения,биография,драма',\n       'приключения,триллер,биография', 'криминал,боевик,триллер',\n       'боевик,вестерн,приключения', 'история,драма',\n       'фантастика,фэнтези,комедия', 'мультфильм,детский,комедия',\n       'мелодрама,комедия,триллер', 'документальный,боевик,приключения',\n       'драма,приключения', 'мелодрама,военный,драма', 'триллер,фэнтези',\n       'драма,триллер,биография', 'фэнтези,боевик,семейный',\n       'фантастика,триллер,комедия', 'документальный,фэнтези',\n       'комедия,мультфильм,фантастика', 'криминал,биография,комедия',\n       'биография,спорт,драма', 'приключения,военный',\n       'мультфильм,семейный,драма', 'документальный,фэнтези,драма',\n       'комедия,боевик,фантастика', 'семейный,приключения,военный',\n       'триллер,ужасы,детектив', 'короткометражка',\n       'мелодрама,триллер,история', 'документальный,история',\n       'мультфильм,приключения,детский', 'драма,комедия,мультфильм',\n       'военный,детектив', 'семейный,приключения,документальный',\n       'детский,фэнтези', 'документальный,комедия', 'комедия,биография',\n       'криминал,комедия', 'спорт,мелодрама,криминал',\n       'фантастика,комедия,боевик', 'боевик,приключения,детектив',\n       'детектив,триллер,драма', 'документальный,фантастика',\n       'мелодрама,комедия,семейный', 'мультфильм,мелодрама,комедия',\n       'драма,спорт,семейный', 'фантастика,мелодрама,фэнтези',\n       'мюзикл,комедия,музыка', 'фантастика,триллер,мелодрама',\n       'приключения,комедия,фэнтези', 'фэнтези,боевик,детектив',\n       'фэнтези,боевик,мелодрама', 'комедия,военный',\n       'драма,спорт,боевик', 'мультфильм,боевик,триллер',\n       'мелодрама,семейный', 'фантастика,боевик,детектив',\n       'драма,приключения,история', 'документальный,драма,музыка',\n       'фантастика,триллер,боевик', 'фэнтези,боевик,вестерн',\n       'драма,комедия,мелодрама', 'ужасы,фэнтези,приключения',\n       'триллер,фэнтези,драма', 'мультфильм,мюзикл,мелодрама',\n       'ужасы,триллер,фантастика', 'триллер,мелодрама,комедия',\n       'ужасы,комедия,семейный', 'комедия,приключения,музыка',\n       'документальный,комедия,криминал', 'мелодрама,детектив',\n       'детский,приключения,фантастика', 'короткометражка,боевик,драма',\n       'боевик,комедия,семейный', 'фантастика,боевик,мелодрама',\n       'фэнтези,триллер,мелодрама', 'драма,детектив,история',\n       'боевик,криминал,детектив', 'мультфильм,фэнтези,мелодрама',\n       'мелодрама,драма,боевик', 'драма,вестерн,приключения',\n       'драма,приключения,мелодрама', 'фэнтези,боевик,криминал',\n       'фантастика,комедия,семейный', 'детский,фэнтези,приключения',\n       'ужасы,боевик', 'фантастика,мелодрама,комедия',\n       'семейный,спорт,боевик', 'триллер,биография,драма',\n       'ужасы,драма,комедия', 'мультфильм,фэнтези,триллер', 'мюзикл',\n       'боевик,спорт,драма', 'комедия,приключения,вестерн',\n       'документальный,ужасы,боевик', 'фантастика,боевик,семейный',\n       'военный,история', 'ужасы,боевик,криминал', 'детектив,триллер',\n       'драма,семейный,комедия', 'драма,детектив,приключения',\n       'драма,криминал,история', 'приключения,триллер',\n       'боевик,драма,биография', 'драма,приключения,триллер',\n       'комедия,фэнтези,приключения', 'фантастика,боевик,ужасы',\n       'драма,комедия,фантастика', 'детектив,криминал,драма',\n       'боевик,триллер,фэнтези', 'приключения,детектив,семейный',\n       'ужасы,комедия,криминал', 'мультфильм,биография,драма',\n       'история,боевик,фэнтези', 'детектив,криминал,боевик',\n       'приключения,фэнтези', 'комедия,приключения,спорт',\n       'драма,биография,мюзикл', 'комедия,семейный,фэнтези',\n       'детектив,драма,триллер', 'боевик,приключения,семейный',\n       'биография,спорт,комедия', 'фантастика,приключения,военный',\n       'документальный,драма,биография', 'детектив,приключения,драма',\n       'аниме,мультфильм,приключения', 'семейный,приключения',\n       'ужасы,фэнтези,детектив', 'семейный,документальный',\n       'драма,приключения,семейный', 'приключения,история,военный',\n       'фэнтези,мелодрама', 'фэнтези,триллер,детектив',\n       'документальный,спорт,биография', 'комедия,триллер,драма',\n       'драма,ужасы', 'биография,музыка,драма', 'фэнтези,ужасы',\n       'детектив,мелодрама,фэнтези', 'боевик,военный,история',\n       'биография,драма,криминал', 'триллер,мелодрама,криминал',\n       'семейный,мелодрама', 'биография,драма', 'военный,история,драма',\n       'фантастика,детектив,фэнтези', 'детектив,приключения,триллер',\n       'фантастика,приключения', 'мультфильм,короткометражка,мюзикл',\n       'мультфильм,детский,семейный', 'документальный,драма,комедия',\n       'комедия,приключения,криминал', 'документальный,семейный,музыка',\n       'мелодрама,музыка,драма', 'детектив,фантастика,триллер',\n       'драма,мелодрама,триллер', 'биография,драма,военный',\n       'приключения,фантастика,драма', 'детектив,фильм-нуар,комедия',\n       'документальный,спорт', 'триллер,фантастика,драма',\n       'биография,документальный', 'ужасы,фантастика,мелодрама',\n       'детектив,комедия', 'история,биография,военный',\n       'криминал,мелодрама', 'драма,криминал,вестерн',\n       'мелодрама,семейный,приключения', 'триллер,ужасы,мелодрама',\n       'фэнтези,драма,фильм-нуар', 'детектив,мелодрама',\n       'комедия,драма,биография', 'драма,военный,боевик',\n       'драма,комедия,ужасы', 'фантастика,драма,криминал',\n       'документальный,музыка,биография', 'мультфильм,боевик,приключения',\n       'мультфильм,мелодрама,драма', 'боевик,военный,драма',\n       'фэнтези,семейный,приключения', 'детский,мультфильм,приключения',\n       'семейный,фэнтези,комедия', 'фэнтези,ужасы,триллер',\n       'ужасы,триллер,приключения', 'драма,боевик,история',\n       'фэнтези,комедия,детектив', 'история,приключения',\n       'аниме,мультфильм,короткометражка', 'драма,военный,триллер',\n       'биография,криминал,триллер', 'фантастика,фэнтези,детектив',\n       'вестерн,биография,драма', 'биография,музыка,мюзикл',\n       'драма,история,биография', 'приключения,драма,фантастика',\n       'комедия,фэнтези,криминал', 'биография,спорт,история',\n       'драма,криминал,семейный', 'детектив,боевик,история',\n       'ужасы,комедия,детектив', 'триллер,приключения,драма',\n       'фэнтези,комедия,криминал', 'триллер,криминал,приключения',\n       'комедия,детектив,приключения', 'фэнтези,драма,ужасы',\n       'ужасы,драма,военный', 'реальное ТВ', 'аниме,мультфильм,детектив',\n       'приключения,фэнтези,семейный', 'драма,биография,комедия',\n       'триллер,комедия,ужасы', 'музыка,мелодрама,фэнтези',\n       'мультфильм,история', 'мультфильм,комедия,фантастика',\n       'биография,криминал,драма', 'комедия,мелодрама,фантастика',\n       'криминал,боевик,комедия', 'история,криминал',\n       'детектив,комедия,драма', 'триллер,фантастика,боевик',\n       'криминал,боевик', 'комедия,драма,военный',\n       'драма,триллер,криминал', 'мультфильм,мелодрама,приключения',\n       'фантастика,фэнтези,триллер', 'короткометражка,драма,триллер',\n       'военный,боевик,история', 'боевик,драма,триллер',\n       'документальный,военный,драма', 'драма,криминал,фильм-нуар',\n       'мультфильм,детский,приключения', 'мелодрама,история,драма'],\n      dtype=object)"
     },
     "execution_count": 29,
     "metadata": {},
     "output_type": "execute_result"
    }
   ],
   "source": [
    "total_df['genres'].unique()"
   ]
  },
  {
   "cell_type": "code",
   "execution_count": 30,
   "id": "b042ab6a",
   "metadata": {},
   "outputs": [
    {
     "data": {
      "text/plain": "                                                 title   puNumber  \\\n43            Мемуары гейши (по роману Артура Голдена)  121000606   \n150                                           Жди меня  111013615   \n154   Дом из песка и тумана (по книге Андре Дюбуи III)  221037813   \n159                                  Жемчужная девушка  224011014   \n227                                         Полустанок  111026714   \n...                                                ...        ...   \n7479                                            Эколав  111023219   \n7480                   Акрам Хан: Родом из Карри Хауса  126007919   \n7481         Сад художника: Американский импрессионизм  126008019   \n7483         Щенячий патруль: Скорей спешим на помощь!  124010819   \n7484          Машины песенки. Серия \"Испанские мотивы\"  124010619   \n\n     show_start_date             type  \\\n43        2012-12-14   Художественный   \n150       2015-08-25   Художественный   \n154       2013-10-25   Художественный   \n159       2014-08-28   Художественный   \n227       2014-12-24   Художественный   \n...              ...              ...   \n7479      2019-12-26   Художественный   \n7480      2019-12-23           Прочие   \n7481      2019-12-23           Прочие   \n7483      2019-12-28   Художественный   \n7484      2019-12-30     Анимационный   \n\n                                            film_studio  \\\n43    Коламбия Пикчерз Корпорейшн, ДримУоркс ЭсКейДж...   \n150                               Киностудия \"Мосфильм\"   \n154                                     Кобальт Пикчерз   \n159   Чешское телевидение,Студия \"Три брата\" агентск...   \n227                               Киностудия \"Мосфильм\"   \n...                                                 ...   \n7479                                               ВГИК   \n7480                                         Свон Филмз   \n7481                               Севен Артс Продакшнз   \n7483           Никелодеон Анимейшн Студиос, Спин Мастер   \n7484           Анимаккорд Лтд., ООО Студия \"АНИМАККОРД\"   \n\n           production_country             director  \\\n43                        США          Роб Маршалл   \n150                      СССР  А.Столпер, Б.Иванов   \n154                       США      Вадим Перельман   \n159                     Чехия        Владимир Дрга   \n227                      СССР             Б.Барнет   \n...                       ...                  ...   \n7479                   Россия          Д.Григорьев   \n7480           Великобритания            Ник Пойнц   \n7481           Великобритания          Фил Грабски   \n7483             США - Канада     Чарльз Е.Бастьен   \n7484  Республика Кипр, Россия             А.Беляев   \n\n                                               producer  \\\n43    Стивен Спилберг, Люси Фишер, Дуглас Уик, Джон ...   \n150                                             Unknown   \n154                                        Майкл Лондон   \n159                                             Unknown   \n227                                             Unknown   \n...                                                 ...   \n7479                                               ВГИК   \n7480                             Поппи Бегум, Ник Пойнц   \n7481                                        Фил Грабски   \n7483                                     Дженнифер Додж   \n7484                                          Д.Ловейко   \n\n                             age_restriction  refundable_support  \\\n43           «12+» - для детей старше 12 лет                 NaN   \n150            «6+» - для детей старше 6 лет                 NaN   \n154          «16+» - для детей старше 16 лет                 NaN   \n159   «0+» - для любой зрительской аудитории                 NaN   \n227          «12+» - для детей старше 12 лет                 NaN   \n...                                      ...                 ...   \n7479             «18+» - запрещено для детей                 NaN   \n7480         «12+» - для детей старше 12 лет                 NaN   \n7481         «12+» - для детей старше 12 лет                 NaN   \n7483  «0+» - для любой зрительской аудитории                 NaN   \n7484  «0+» - для любой зрительской аудитории                 NaN   \n\n      nonrefundable_support  budget financing_source  ratings genres  \\\n43                      NaN     NaN              NaN      NaN    NaN   \n150                     NaN     NaN              NaN      NaN    NaN   \n154                     NaN     NaN              NaN      NaN    NaN   \n159                     NaN     NaN              NaN      NaN    NaN   \n227                     NaN     NaN              NaN      NaN    NaN   \n...                     ...     ...              ...      ...    ...   \n7479                    NaN     NaN              NaN      NaN    NaN   \n7480                    NaN     NaN              NaN      NaN    NaN   \n7481                    NaN     NaN              NaN      NaN    NaN   \n7483                    NaN     NaN              NaN      NaN    NaN   \n7484                    NaN     NaN              NaN      NaN    NaN   \n\n      box_office  \n43           NaN  \n150          NaN  \n154          NaN  \n159          NaN  \n227          NaN  \n...          ...  \n7479         NaN  \n7480    219569.0  \n7481         NaN  \n7483         NaN  \n7484         NaN  \n\n[963 rows x 16 columns]",
      "text/html": "<div>\n<style scoped>\n    .dataframe tbody tr th:only-of-type {\n        vertical-align: middle;\n    }\n\n    .dataframe tbody tr th {\n        vertical-align: top;\n    }\n\n    .dataframe thead th {\n        text-align: right;\n    }\n</style>\n<table border=\"1\" class=\"dataframe\">\n  <thead>\n    <tr style=\"text-align: right;\">\n      <th></th>\n      <th>title</th>\n      <th>puNumber</th>\n      <th>show_start_date</th>\n      <th>type</th>\n      <th>film_studio</th>\n      <th>production_country</th>\n      <th>director</th>\n      <th>producer</th>\n      <th>age_restriction</th>\n      <th>refundable_support</th>\n      <th>nonrefundable_support</th>\n      <th>budget</th>\n      <th>financing_source</th>\n      <th>ratings</th>\n      <th>genres</th>\n      <th>box_office</th>\n    </tr>\n  </thead>\n  <tbody>\n    <tr>\n      <th>43</th>\n      <td>Мемуары гейши (по роману Артура Голдена)</td>\n      <td>121000606</td>\n      <td>2012-12-14</td>\n      <td>Художественный</td>\n      <td>Коламбия Пикчерз Корпорейшн, ДримУоркс ЭсКейДж...</td>\n      <td>США</td>\n      <td>Роб Маршалл</td>\n      <td>Стивен Спилберг, Люси Фишер, Дуглас Уик, Джон ...</td>\n      <td>«12+» - для детей старше 12 лет</td>\n      <td>NaN</td>\n      <td>NaN</td>\n      <td>NaN</td>\n      <td>NaN</td>\n      <td>NaN</td>\n      <td>NaN</td>\n      <td>NaN</td>\n    </tr>\n    <tr>\n      <th>150</th>\n      <td>Жди меня</td>\n      <td>111013615</td>\n      <td>2015-08-25</td>\n      <td>Художественный</td>\n      <td>Киностудия \"Мосфильм\"</td>\n      <td>СССР</td>\n      <td>А.Столпер, Б.Иванов</td>\n      <td>Unknown</td>\n      <td>«6+» - для детей старше 6 лет</td>\n      <td>NaN</td>\n      <td>NaN</td>\n      <td>NaN</td>\n      <td>NaN</td>\n      <td>NaN</td>\n      <td>NaN</td>\n      <td>NaN</td>\n    </tr>\n    <tr>\n      <th>154</th>\n      <td>Дом из песка и тумана (по книге Андре Дюбуи III)</td>\n      <td>221037813</td>\n      <td>2013-10-25</td>\n      <td>Художественный</td>\n      <td>Кобальт Пикчерз</td>\n      <td>США</td>\n      <td>Вадим Перельман</td>\n      <td>Майкл Лондон</td>\n      <td>«16+» - для детей старше 16 лет</td>\n      <td>NaN</td>\n      <td>NaN</td>\n      <td>NaN</td>\n      <td>NaN</td>\n      <td>NaN</td>\n      <td>NaN</td>\n      <td>NaN</td>\n    </tr>\n    <tr>\n      <th>159</th>\n      <td>Жемчужная девушка</td>\n      <td>224011014</td>\n      <td>2014-08-28</td>\n      <td>Художественный</td>\n      <td>Чешское телевидение,Студия \"Три брата\" агентск...</td>\n      <td>Чехия</td>\n      <td>Владимир Дрга</td>\n      <td>Unknown</td>\n      <td>«0+» - для любой зрительской аудитории</td>\n      <td>NaN</td>\n      <td>NaN</td>\n      <td>NaN</td>\n      <td>NaN</td>\n      <td>NaN</td>\n      <td>NaN</td>\n      <td>NaN</td>\n    </tr>\n    <tr>\n      <th>227</th>\n      <td>Полустанок</td>\n      <td>111026714</td>\n      <td>2014-12-24</td>\n      <td>Художественный</td>\n      <td>Киностудия \"Мосфильм\"</td>\n      <td>СССР</td>\n      <td>Б.Барнет</td>\n      <td>Unknown</td>\n      <td>«12+» - для детей старше 12 лет</td>\n      <td>NaN</td>\n      <td>NaN</td>\n      <td>NaN</td>\n      <td>NaN</td>\n      <td>NaN</td>\n      <td>NaN</td>\n      <td>NaN</td>\n    </tr>\n    <tr>\n      <th>...</th>\n      <td>...</td>\n      <td>...</td>\n      <td>...</td>\n      <td>...</td>\n      <td>...</td>\n      <td>...</td>\n      <td>...</td>\n      <td>...</td>\n      <td>...</td>\n      <td>...</td>\n      <td>...</td>\n      <td>...</td>\n      <td>...</td>\n      <td>...</td>\n      <td>...</td>\n      <td>...</td>\n    </tr>\n    <tr>\n      <th>7479</th>\n      <td>Эколав</td>\n      <td>111023219</td>\n      <td>2019-12-26</td>\n      <td>Художественный</td>\n      <td>ВГИК</td>\n      <td>Россия</td>\n      <td>Д.Григорьев</td>\n      <td>ВГИК</td>\n      <td>«18+» - запрещено для детей</td>\n      <td>NaN</td>\n      <td>NaN</td>\n      <td>NaN</td>\n      <td>NaN</td>\n      <td>NaN</td>\n      <td>NaN</td>\n      <td>NaN</td>\n    </tr>\n    <tr>\n      <th>7480</th>\n      <td>Акрам Хан: Родом из Карри Хауса</td>\n      <td>126007919</td>\n      <td>2019-12-23</td>\n      <td>Прочие</td>\n      <td>Свон Филмз</td>\n      <td>Великобритания</td>\n      <td>Ник Пойнц</td>\n      <td>Поппи Бегум, Ник Пойнц</td>\n      <td>«12+» - для детей старше 12 лет</td>\n      <td>NaN</td>\n      <td>NaN</td>\n      <td>NaN</td>\n      <td>NaN</td>\n      <td>NaN</td>\n      <td>NaN</td>\n      <td>219569.0</td>\n    </tr>\n    <tr>\n      <th>7481</th>\n      <td>Сад художника: Американский импрессионизм</td>\n      <td>126008019</td>\n      <td>2019-12-23</td>\n      <td>Прочие</td>\n      <td>Севен Артс Продакшнз</td>\n      <td>Великобритания</td>\n      <td>Фил Грабски</td>\n      <td>Фил Грабски</td>\n      <td>«12+» - для детей старше 12 лет</td>\n      <td>NaN</td>\n      <td>NaN</td>\n      <td>NaN</td>\n      <td>NaN</td>\n      <td>NaN</td>\n      <td>NaN</td>\n      <td>NaN</td>\n    </tr>\n    <tr>\n      <th>7483</th>\n      <td>Щенячий патруль: Скорей спешим на помощь!</td>\n      <td>124010819</td>\n      <td>2019-12-28</td>\n      <td>Художественный</td>\n      <td>Никелодеон Анимейшн Студиос, Спин Мастер</td>\n      <td>США - Канада</td>\n      <td>Чарльз Е.Бастьен</td>\n      <td>Дженнифер Додж</td>\n      <td>«0+» - для любой зрительской аудитории</td>\n      <td>NaN</td>\n      <td>NaN</td>\n      <td>NaN</td>\n      <td>NaN</td>\n      <td>NaN</td>\n      <td>NaN</td>\n      <td>NaN</td>\n    </tr>\n    <tr>\n      <th>7484</th>\n      <td>Машины песенки. Серия \"Испанские мотивы\"</td>\n      <td>124010619</td>\n      <td>2019-12-30</td>\n      <td>Анимационный</td>\n      <td>Анимаккорд Лтд., ООО Студия \"АНИМАККОРД\"</td>\n      <td>Республика Кипр, Россия</td>\n      <td>А.Беляев</td>\n      <td>Д.Ловейко</td>\n      <td>«0+» - для любой зрительской аудитории</td>\n      <td>NaN</td>\n      <td>NaN</td>\n      <td>NaN</td>\n      <td>NaN</td>\n      <td>NaN</td>\n      <td>NaN</td>\n      <td>NaN</td>\n    </tr>\n  </tbody>\n</table>\n<p>963 rows × 16 columns</p>\n</div>"
     },
     "execution_count": 30,
     "metadata": {},
     "output_type": "execute_result"
    }
   ],
   "source": [
    "total_df[total_df['genres'].isna()]"
   ]
  },
  {
   "cell_type": "code",
   "execution_count": 31,
   "id": "0202dacf",
   "metadata": {},
   "outputs": [],
   "source": [
    "total_df['genres'].fillna('Unknown', inplace=True)"
   ]
  },
  {
   "cell_type": "markdown",
   "id": "853b566f",
   "metadata": {},
   "source": [
    "Заменили пропуски на 'Unknown', чтобы не удалять строки, и пропуски не влияли на дальнейший анализ."
   ]
  },
  {
   "cell_type": "markdown",
   "id": "ffed0c00",
   "metadata": {},
   "source": [
    "#### `box_office`"
   ]
  },
  {
   "cell_type": "code",
   "execution_count": 32,
   "id": "27818846",
   "metadata": {},
   "outputs": [
    {
     "name": "stdout",
     "output_type": "stream",
     "text": [
      "Null or Na count is 4311\n",
      "count    3.157000e+03\n",
      "mean     7.650291e+07\n",
      "std      2.403873e+08\n",
      "min      0.000000e+00\n",
      "25%      8.638600e+04\n",
      "50%      2.330104e+06\n",
      "75%      2.398312e+07\n",
      "max      3.073569e+09\n",
      "Name: box_office, dtype: float64\n"
     ]
    }
   ],
   "source": [
    "investigate_column(total_df['box_office'])"
   ]
  },
  {
   "cell_type": "markdown",
   "id": "4f87f933",
   "metadata": {},
   "source": [
    "### Duplicates"
   ]
  },
  {
   "cell_type": "code",
   "execution_count": 33,
   "id": "efabd485",
   "metadata": {},
   "outputs": [
    {
     "data": {
      "text/plain": "0"
     },
     "execution_count": 33,
     "metadata": {},
     "output_type": "execute_result"
    }
   ],
   "source": [
    "total_df.duplicated().sum()"
   ]
  },
  {
   "cell_type": "code",
   "execution_count": 34,
   "id": "1318597f",
   "metadata": {},
   "outputs": [
    {
     "data": {
      "text/plain": "221054410    2\n221154310    2\n221048915    1\n221041611    1\n121004611    1\n            ..\n111005015    1\n111004615    1\n111004715    1\n114000515    1\n124010719    1\nName: puNumber, Length: 7466, dtype: int64"
     },
     "execution_count": 34,
     "metadata": {},
     "output_type": "execute_result"
    }
   ],
   "source": [
    "total_df['puNumber'].value_counts()"
   ]
  },
  {
   "cell_type": "code",
   "execution_count": 35,
   "id": "cfebd39b",
   "metadata": {},
   "outputs": [
    {
     "data": {
      "text/plain": "                                                  title   puNumber  \\\n4638                   Как жениться и остаться холостым  221154310   \n4639  Иоанна - женщина на папском престоле /По роман...  221154310   \n5067                                    Анализируй это!  221054410   \n5068                                     Анализируй то!  221054410   \n\n     show_start_date            type  \\\n4638      2010-12-17  Художественный   \n4639      2010-12-17  Художественный   \n5067      2010-05-25  Художественный   \n5068      2010-05-25  Художественный   \n\n                                            film_studio  \\\n4638  Ше Вам, Скрипт Ассосье, Тэ Фэ 1 Фильм Продюксь...   \n4639   Константин Фильм, А Эр Ди Дегето Фильм, Дюне ...   \n5067          Уорнер Бразерс, Вилладж Роудшоу Филмз ЛТД   \n5068  Уорнер Бразерс, Виллидж Роадшоу Пикчерз, Эн-Пи...   \n\n                                production_country        director  \\\n4638                                       Франция    Эрик Лартиго   \n4639  Германия - Великобритания - Италия - Испания  Зенке Вортманн   \n5067                                 США-Австралия   ХЭрольд Рэмис   \n5068                                           США  Гарольд Реймис   \n\n                                        producer  \\\n4638                     Амандин Било, Алан Шаба   \n4639  Оливер Бербен, Дорис Д.Хайнце, Фарук Элтан   \n5067             Джейн Розенталь, Пола Уейнстейн   \n5068             Джейн Розенталь, Паул Уэйнстейн   \n\n                      age_restriction  refundable_support  \\\n4638  «16+» - для детей старше 16 лет                 NaN   \n4639  «16+» - для детей старше 16 лет                 NaN   \n5067  «16+» - для детей старше 16 лет                 NaN   \n5068  «12+» - для детей старше 12 лет                 NaN   \n\n      nonrefundable_support  budget financing_source  ratings  \\\n4638                    NaN     NaN              NaN      7.0   \n4639                    NaN     NaN              NaN      7.6   \n5067                    NaN     NaN              NaN      7.4   \n5068                    NaN     NaN              NaN      6.8   \n\n                       genres  box_office  \n4638        мелодрама,комедия         NaN  \n4639  драма,мелодрама,история         NaN  \n5067         комедия,криминал         NaN  \n5068         комедия,криминал         NaN  ",
      "text/html": "<div>\n<style scoped>\n    .dataframe tbody tr th:only-of-type {\n        vertical-align: middle;\n    }\n\n    .dataframe tbody tr th {\n        vertical-align: top;\n    }\n\n    .dataframe thead th {\n        text-align: right;\n    }\n</style>\n<table border=\"1\" class=\"dataframe\">\n  <thead>\n    <tr style=\"text-align: right;\">\n      <th></th>\n      <th>title</th>\n      <th>puNumber</th>\n      <th>show_start_date</th>\n      <th>type</th>\n      <th>film_studio</th>\n      <th>production_country</th>\n      <th>director</th>\n      <th>producer</th>\n      <th>age_restriction</th>\n      <th>refundable_support</th>\n      <th>nonrefundable_support</th>\n      <th>budget</th>\n      <th>financing_source</th>\n      <th>ratings</th>\n      <th>genres</th>\n      <th>box_office</th>\n    </tr>\n  </thead>\n  <tbody>\n    <tr>\n      <th>4638</th>\n      <td>Как жениться и остаться холостым</td>\n      <td>221154310</td>\n      <td>2010-12-17</td>\n      <td>Художественный</td>\n      <td>Ше Вам, Скрипт Ассосье, Тэ Фэ 1 Фильм Продюксь...</td>\n      <td>Франция</td>\n      <td>Эрик Лартиго</td>\n      <td>Амандин Било, Алан Шаба</td>\n      <td>«16+» - для детей старше 16 лет</td>\n      <td>NaN</td>\n      <td>NaN</td>\n      <td>NaN</td>\n      <td>NaN</td>\n      <td>7.0</td>\n      <td>мелодрама,комедия</td>\n      <td>NaN</td>\n    </tr>\n    <tr>\n      <th>4639</th>\n      <td>Иоанна - женщина на папском престоле /По роман...</td>\n      <td>221154310</td>\n      <td>2010-12-17</td>\n      <td>Художественный</td>\n      <td>Константин Фильм, А Эр Ди Дегето Фильм, Дюне ...</td>\n      <td>Германия - Великобритания - Италия - Испания</td>\n      <td>Зенке Вортманн</td>\n      <td>Оливер Бербен, Дорис Д.Хайнце, Фарук Элтан</td>\n      <td>«16+» - для детей старше 16 лет</td>\n      <td>NaN</td>\n      <td>NaN</td>\n      <td>NaN</td>\n      <td>NaN</td>\n      <td>7.6</td>\n      <td>драма,мелодрама,история</td>\n      <td>NaN</td>\n    </tr>\n    <tr>\n      <th>5067</th>\n      <td>Анализируй это!</td>\n      <td>221054410</td>\n      <td>2010-05-25</td>\n      <td>Художественный</td>\n      <td>Уорнер Бразерс, Вилладж Роудшоу Филмз ЛТД</td>\n      <td>США-Австралия</td>\n      <td>ХЭрольд Рэмис</td>\n      <td>Джейн Розенталь, Пола Уейнстейн</td>\n      <td>«16+» - для детей старше 16 лет</td>\n      <td>NaN</td>\n      <td>NaN</td>\n      <td>NaN</td>\n      <td>NaN</td>\n      <td>7.4</td>\n      <td>комедия,криминал</td>\n      <td>NaN</td>\n    </tr>\n    <tr>\n      <th>5068</th>\n      <td>Анализируй то!</td>\n      <td>221054410</td>\n      <td>2010-05-25</td>\n      <td>Художественный</td>\n      <td>Уорнер Бразерс, Виллидж Роадшоу Пикчерз, Эн-Пи...</td>\n      <td>США</td>\n      <td>Гарольд Реймис</td>\n      <td>Джейн Розенталь, Паул Уэйнстейн</td>\n      <td>«12+» - для детей старше 12 лет</td>\n      <td>NaN</td>\n      <td>NaN</td>\n      <td>NaN</td>\n      <td>NaN</td>\n      <td>6.8</td>\n      <td>комедия,криминал</td>\n      <td>NaN</td>\n    </tr>\n  </tbody>\n</table>\n</div>"
     },
     "execution_count": 35,
     "metadata": {},
     "output_type": "execute_result"
    }
   ],
   "source": [
    "total_df[(total_df['puNumber'] == '221154310') | (total_df['puNumber'] == '221054410')]"
   ]
  },
  {
   "cell_type": "code",
   "execution_count": 36,
   "id": "818533e0",
   "metadata": {},
   "outputs": [
    {
     "data": {
      "text/plain": "                                  title   puNumber show_start_date  \\\n454                  100 миллионов евро  221024616      2016-05-25   \n455                  100 миллионов евро  121013712      2012-06-06   \n5058                          127 часов  221069011      2011-05-18   \n4852                          127 часов  121000811      2011-01-27   \n3129   13 часов: Тайные солдаты Бенгази  221019616      2016-04-19   \n...                                 ...        ...             ...   \n1811             Этим утром в Нью-Йорке  221033214      2014-08-20   \n4071  Я ненавижу день святого Валентина  121002010      2010-02-04   \n4505  Я ненавижу день святого Валентина  221139210      2010-12-03   \n1703                  Я, снова я и мама  121013116      2016-05-23   \n1704                  Я, снова я и мама  121030213      2013-11-21   \n\n                type                                        film_studio  \\\n454   Художественный  Патэ, Эсквуд, Серенити Фильм, ТФ1 Фильм Продюк...   \n455   Художественный  Патэ, Эсквуд, Серенити Фильм, ТФ1 Фильм Продюк...   \n5058  Художественный  Фокс Серчлайт Пикчерз, Клод Эйт Филмз, Филм Фо...   \n4852  Художественный  Фокс Серчлайт Пикчерз, Клод Эйт Филмз, Филм Фо...   \n3129  Художественный  Парамаунт, Дан Филмз, Латина Пикчарз,3 Арт Инт...   \n...              ...                                                ...   \n1811  Художественный  Лэндскейп Интертейнмент, Форс Мажор, Проминент...   \n4071  Художественный  Блю Стар Пикчерз, Ай Хэйт Вдэй Продакшнз, Ай С...   \n4505  Художественный  Блю Стар Пикчерз, Ай Хэйт Вдэй Продакшнз, Ай С...   \n1703  Художественный  Гомон, Эль Джи Эм Продакшнз, Ректанль Продюксь...   \n1704  Художественный  Гомон, Эль Джи Эм Продакшнз, Ректанль Продюксь...   \n\n        production_country            director  \\\n454                Франция        Оливер Барру   \n455                Франция        Оливер Барру   \n5058  США - Великобритания          Дэнни Бойл   \n4852  США - Великобритания          Дэнни Бойл   \n3129                   США           Майкл Бэй   \n...                    ...                 ...   \n1811                   США  Фил Олден Робинсон   \n4071                   США        Ниа Вардалос   \n4505                   США        Ниа Вардалос   \n1703     Франция - Бельгия       Гийом Гальенн   \n1704     Франция - Бельгия       Гийом Гальенн   \n\n                                               producer  \\\n454                                   Ричард Грандпьерр   \n455                                   Ричард Грандпьерр   \n5058            Бернард Беллью, Тесса Росс, Гаррет Смит   \n4852            Бернард Беллью, Тесса Росс, Гаррет Смит   \n3129                             Майкл Бэй, Эрвин Стофф   \n...                                                 ...   \n1811       Боб Купер, Тайлер Митчелл, Дэниэл Дж. Уолкер   \n4071         Доминик Йанно, Мэдлейн Шерак, Уильям Шерак   \n4505         Доминик Йанно, Мэдлейн Шерак, Уильям Шерак   \n1703  Жан-Батист Дюпон, Алис Жирар, Сирил Кольбо-Жюстен   \n1704  Жан-Батист Дюпон, Алис Жирар, Сирил Кольбо-Жюстен   \n\n                      age_restriction  refundable_support  \\\n454   «16+» - для детей старше 16 лет                 NaN   \n455   «16+» - для детей старше 16 лет                 NaN   \n5058  «16+» - для детей старше 16 лет                 NaN   \n4852  «16+» - для детей старше 16 лет                 NaN   \n3129      «18+» - запрещено для детей                 NaN   \n...                               ...                 ...   \n1811  «12+» - для детей старше 12 лет                 NaN   \n4071  «16+» - для детей старше 16 лет                 NaN   \n4505  «16+» - для детей старше 16 лет                 NaN   \n1703  «16+» - для детей старше 16 лет                 NaN   \n1704  «16+» - для детей старше 16 лет                 NaN   \n\n      nonrefundable_support  budget financing_source  ratings  \\\n454                     NaN     NaN              NaN      6.1   \n455                     NaN     NaN              NaN      6.1   \n5058                    NaN     NaN              NaN      7.7   \n4852                    NaN     NaN              NaN      7.7   \n3129                    NaN     NaN              NaN      6.7   \n...                     ...     ...              ...      ...   \n1811                    NaN     NaN              NaN      6.2   \n4071                    NaN     NaN              NaN      5.0   \n4505                    NaN     NaN              NaN      5.0   \n1703                    NaN     NaN              NaN      6.3   \n1704                    NaN     NaN              NaN      6.3   \n\n                       genres  box_office  \n454                   комедия         NaN  \n455                   комедия         NaN  \n5058  триллер,биография,драма         NaN  \n4852  триллер,биография,драма         NaN  \n3129     боевик,триллер,драма         NaN  \n...                       ...         ...  \n1811            драма,комедия      1090.0  \n4071        мелодрама,комедия         NaN  \n4505        мелодрама,комедия         NaN  \n1703  комедия,мелодрама,драма         NaN  \n1704  комедия,мелодрама,драма         NaN  \n\n[1270 rows x 16 columns]",
      "text/html": "<div>\n<style scoped>\n    .dataframe tbody tr th:only-of-type {\n        vertical-align: middle;\n    }\n\n    .dataframe tbody tr th {\n        vertical-align: top;\n    }\n\n    .dataframe thead th {\n        text-align: right;\n    }\n</style>\n<table border=\"1\" class=\"dataframe\">\n  <thead>\n    <tr style=\"text-align: right;\">\n      <th></th>\n      <th>title</th>\n      <th>puNumber</th>\n      <th>show_start_date</th>\n      <th>type</th>\n      <th>film_studio</th>\n      <th>production_country</th>\n      <th>director</th>\n      <th>producer</th>\n      <th>age_restriction</th>\n      <th>refundable_support</th>\n      <th>nonrefundable_support</th>\n      <th>budget</th>\n      <th>financing_source</th>\n      <th>ratings</th>\n      <th>genres</th>\n      <th>box_office</th>\n    </tr>\n  </thead>\n  <tbody>\n    <tr>\n      <th>454</th>\n      <td>100 миллионов евро</td>\n      <td>221024616</td>\n      <td>2016-05-25</td>\n      <td>Художественный</td>\n      <td>Патэ, Эсквуд, Серенити Фильм, ТФ1 Фильм Продюк...</td>\n      <td>Франция</td>\n      <td>Оливер Барру</td>\n      <td>Ричард Грандпьерр</td>\n      <td>«16+» - для детей старше 16 лет</td>\n      <td>NaN</td>\n      <td>NaN</td>\n      <td>NaN</td>\n      <td>NaN</td>\n      <td>6.1</td>\n      <td>комедия</td>\n      <td>NaN</td>\n    </tr>\n    <tr>\n      <th>455</th>\n      <td>100 миллионов евро</td>\n      <td>121013712</td>\n      <td>2012-06-06</td>\n      <td>Художественный</td>\n      <td>Патэ, Эсквуд, Серенити Фильм, ТФ1 Фильм Продюк...</td>\n      <td>Франция</td>\n      <td>Оливер Барру</td>\n      <td>Ричард Грандпьерр</td>\n      <td>«16+» - для детей старше 16 лет</td>\n      <td>NaN</td>\n      <td>NaN</td>\n      <td>NaN</td>\n      <td>NaN</td>\n      <td>6.1</td>\n      <td>комедия</td>\n      <td>NaN</td>\n    </tr>\n    <tr>\n      <th>5058</th>\n      <td>127 часов</td>\n      <td>221069011</td>\n      <td>2011-05-18</td>\n      <td>Художественный</td>\n      <td>Фокс Серчлайт Пикчерз, Клод Эйт Филмз, Филм Фо...</td>\n      <td>США - Великобритания</td>\n      <td>Дэнни Бойл</td>\n      <td>Бернард Беллью, Тесса Росс, Гаррет Смит</td>\n      <td>«16+» - для детей старше 16 лет</td>\n      <td>NaN</td>\n      <td>NaN</td>\n      <td>NaN</td>\n      <td>NaN</td>\n      <td>7.7</td>\n      <td>триллер,биография,драма</td>\n      <td>NaN</td>\n    </tr>\n    <tr>\n      <th>4852</th>\n      <td>127 часов</td>\n      <td>121000811</td>\n      <td>2011-01-27</td>\n      <td>Художественный</td>\n      <td>Фокс Серчлайт Пикчерз, Клод Эйт Филмз, Филм Фо...</td>\n      <td>США - Великобритания</td>\n      <td>Дэнни Бойл</td>\n      <td>Бернард Беллью, Тесса Росс, Гаррет Смит</td>\n      <td>«16+» - для детей старше 16 лет</td>\n      <td>NaN</td>\n      <td>NaN</td>\n      <td>NaN</td>\n      <td>NaN</td>\n      <td>7.7</td>\n      <td>триллер,биография,драма</td>\n      <td>NaN</td>\n    </tr>\n    <tr>\n      <th>3129</th>\n      <td>13 часов: Тайные солдаты Бенгази</td>\n      <td>221019616</td>\n      <td>2016-04-19</td>\n      <td>Художественный</td>\n      <td>Парамаунт, Дан Филмз, Латина Пикчарз,3 Арт Инт...</td>\n      <td>США</td>\n      <td>Майкл Бэй</td>\n      <td>Майкл Бэй, Эрвин Стофф</td>\n      <td>«18+» - запрещено для детей</td>\n      <td>NaN</td>\n      <td>NaN</td>\n      <td>NaN</td>\n      <td>NaN</td>\n      <td>6.7</td>\n      <td>боевик,триллер,драма</td>\n      <td>NaN</td>\n    </tr>\n    <tr>\n      <th>...</th>\n      <td>...</td>\n      <td>...</td>\n      <td>...</td>\n      <td>...</td>\n      <td>...</td>\n      <td>...</td>\n      <td>...</td>\n      <td>...</td>\n      <td>...</td>\n      <td>...</td>\n      <td>...</td>\n      <td>...</td>\n      <td>...</td>\n      <td>...</td>\n      <td>...</td>\n      <td>...</td>\n    </tr>\n    <tr>\n      <th>1811</th>\n      <td>Этим утром в Нью-Йорке</td>\n      <td>221033214</td>\n      <td>2014-08-20</td>\n      <td>Художественный</td>\n      <td>Лэндскейп Интертейнмент, Форс Мажор, Проминент...</td>\n      <td>США</td>\n      <td>Фил Олден Робинсон</td>\n      <td>Боб Купер, Тайлер Митчелл, Дэниэл Дж. Уолкер</td>\n      <td>«12+» - для детей старше 12 лет</td>\n      <td>NaN</td>\n      <td>NaN</td>\n      <td>NaN</td>\n      <td>NaN</td>\n      <td>6.2</td>\n      <td>драма,комедия</td>\n      <td>1090.0</td>\n    </tr>\n    <tr>\n      <th>4071</th>\n      <td>Я ненавижу день святого Валентина</td>\n      <td>121002010</td>\n      <td>2010-02-04</td>\n      <td>Художественный</td>\n      <td>Блю Стар Пикчерз, Ай Хэйт Вдэй Продакшнз, Ай С...</td>\n      <td>США</td>\n      <td>Ниа Вардалос</td>\n      <td>Доминик Йанно, Мэдлейн Шерак, Уильям Шерак</td>\n      <td>«16+» - для детей старше 16 лет</td>\n      <td>NaN</td>\n      <td>NaN</td>\n      <td>NaN</td>\n      <td>NaN</td>\n      <td>5.0</td>\n      <td>мелодрама,комедия</td>\n      <td>NaN</td>\n    </tr>\n    <tr>\n      <th>4505</th>\n      <td>Я ненавижу день святого Валентина</td>\n      <td>221139210</td>\n      <td>2010-12-03</td>\n      <td>Художественный</td>\n      <td>Блю Стар Пикчерз, Ай Хэйт Вдэй Продакшнз, Ай С...</td>\n      <td>США</td>\n      <td>Ниа Вардалос</td>\n      <td>Доминик Йанно, Мэдлейн Шерак, Уильям Шерак</td>\n      <td>«16+» - для детей старше 16 лет</td>\n      <td>NaN</td>\n      <td>NaN</td>\n      <td>NaN</td>\n      <td>NaN</td>\n      <td>5.0</td>\n      <td>мелодрама,комедия</td>\n      <td>NaN</td>\n    </tr>\n    <tr>\n      <th>1703</th>\n      <td>Я, снова я и мама</td>\n      <td>121013116</td>\n      <td>2016-05-23</td>\n      <td>Художественный</td>\n      <td>Гомон, Эль Джи Эм Продакшнз, Ректанль Продюксь...</td>\n      <td>Франция - Бельгия</td>\n      <td>Гийом Гальенн</td>\n      <td>Жан-Батист Дюпон, Алис Жирар, Сирил Кольбо-Жюстен</td>\n      <td>«16+» - для детей старше 16 лет</td>\n      <td>NaN</td>\n      <td>NaN</td>\n      <td>NaN</td>\n      <td>NaN</td>\n      <td>6.3</td>\n      <td>комедия,мелодрама,драма</td>\n      <td>NaN</td>\n    </tr>\n    <tr>\n      <th>1704</th>\n      <td>Я, снова я и мама</td>\n      <td>121030213</td>\n      <td>2013-11-21</td>\n      <td>Художественный</td>\n      <td>Гомон, Эль Джи Эм Продакшнз, Ректанль Продюксь...</td>\n      <td>Франция - Бельгия</td>\n      <td>Гийом Гальенн</td>\n      <td>Жан-Батист Дюпон, Алис Жирар, Сирил Кольбо-Жюстен</td>\n      <td>«16+» - для детей старше 16 лет</td>\n      <td>NaN</td>\n      <td>NaN</td>\n      <td>NaN</td>\n      <td>NaN</td>\n      <td>6.3</td>\n      <td>комедия,мелодрама,драма</td>\n      <td>NaN</td>\n    </tr>\n  </tbody>\n</table>\n<p>1270 rows × 16 columns</p>\n</div>"
     },
     "execution_count": 36,
     "metadata": {},
     "output_type": "execute_result"
    }
   ],
   "source": [
    "total_df[total_df['title'].duplicated(keep=False)].sort_values(by='title')"
   ]
  },
  {
   "cell_type": "markdown",
   "id": "abb05d1d",
   "metadata": {},
   "source": [
    "**Resume**\n",
    "\n",
    "- One movie can have multiple distribution certificates, so we found duplicates in the `title` column\n",
    "- Found that there are 2 rental numbers that correspond to several films. This may be due to a data entry error. This will not affect the research in any way."
   ]
  },
  {
   "cell_type": "markdown",
   "id": "f261adc4",
   "metadata": {},
   "source": [
    "### Categorical values"
   ]
  },
  {
   "cell_type": "code",
   "execution_count": 37,
   "id": "61712a30",
   "metadata": {},
   "outputs": [
    {
     "data": {
      "text/plain": "«16+» - для детей старше 16 лет           2848\n«18+» - запрещено для детей               1601\n«12+» - для детей старше 12 лет           1586\n«0+» - для любой зрительской аудитории     810\n«6+» - для детей старше 6 лет              623\nName: age_restriction, dtype: int64"
     },
     "execution_count": 37,
     "metadata": {},
     "output_type": "execute_result"
    }
   ],
   "source": [
    "total_df['age_restriction'].value_counts()\n"
   ]
  },
  {
   "cell_type": "code",
   "execution_count": 38,
   "id": "b5175819",
   "metadata": {},
   "outputs": [
    {
     "data": {
      "text/plain": "Художественный                4518\n Художественный               1384\nАнимационный                   828\nПрочие                         406\nДокументальный                 280\nНаучно-популярный               50\n Анимационный                    1\nМузыкально-развлекательный       1\nName: type, dtype: int64"
     },
     "execution_count": 38,
     "metadata": {},
     "output_type": "execute_result"
    }
   ],
   "source": [
    "total_df['type'].value_counts()\n"
   ]
  },
  {
   "cell_type": "markdown",
   "id": "6068227d",
   "metadata": {},
   "source": [
    "Fix the incorrect categories in the column and merge similar categories into one."
   ]
  },
  {
   "cell_type": "code",
   "execution_count": 39,
   "id": "9b957139",
   "metadata": {},
   "outputs": [],
   "source": [
    "total_df = total_df.replace(\n",
    "    {'type':{' Художественный': 'Художественный',\n",
    "             ' Анимационный': 'Анимационный',\n",
    "             'Музыкально-развлекательный': 'Прочие',\n",
    "             'Научно-популярный': 'Документальный'}})\n"
   ]
  },
  {
   "cell_type": "code",
   "execution_count": 40,
   "id": "c6a4362d",
   "metadata": {},
   "outputs": [
    {
     "data": {
      "text/plain": "Художественный    5902\nАнимационный       829\nПрочие             407\nДокументальный     330\nName: type, dtype: int64"
     },
     "execution_count": 40,
     "metadata": {},
     "output_type": "execute_result"
    }
   ],
   "source": [
    "total_df['type'].value_counts()"
   ]
  },
  {
   "cell_type": "markdown",
   "id": "a5cd6b0c",
   "metadata": {},
   "source": [
    "### Numeric values"
   ]
  },
  {
   "cell_type": "code",
   "execution_count": 41,
   "id": "9fdabcef",
   "metadata": {},
   "outputs": [
    {
     "data": {
      "text/plain": "count    3.157000e+03\nmean     7.650291e+07\nstd      2.403873e+08\nmin      0.000000e+00\n25%      8.638600e+04\n50%      2.330104e+06\n75%      2.398312e+07\nmax      3.073569e+09\nName: box_office, dtype: float64"
     },
     "execution_count": 41,
     "metadata": {},
     "output_type": "execute_result"
    },
    {
     "data": {
      "text/plain": "<Figure size 360x216 with 1 Axes>",
      "image/png": "[encoded data removed]"
     },
     "metadata": {
      "needs_background": "light"
     },
     "output_type": "display_data"
    }
   ],
   "source": [
    "total_df[total_df['box_office'].notna()].plot(y='box_office',\n",
    "        kind='hist',\n",
    "        grid=True,\n",
    "        bins=100,\n",
    "        figsize=(5, 3),\n",
    "        legend=False,\n",
    "        color='royalblue')\n",
    "plt.title('Distribution')\n",
    "plt.xlabel('Box office, billion rub')\n",
    "plt.ylabel('Frequency')\n",
    "\n",
    "total_df['box_office'].describe()\n"
   ]
  },
  {
   "cell_type": "code",
   "execution_count": 42,
   "outputs": [
    {
     "data": {
      "text/plain": "count    3.157000e+03\nmean     7.650291e+07\nstd      2.403873e+08\nmin      0.000000e+00\n25%      8.638600e+04\n50%      2.330104e+06\n75%      2.398312e+07\nmax      3.073569e+09\nName: box_office, dtype: float64"
     },
     "execution_count": 42,
     "metadata": {},
     "output_type": "execute_result"
    },
    {
     "data": {
      "text/plain": "<Figure size 360x216 with 1 Axes>",
      "image/png": "[encoded data removed]"
     },
     "metadata": {
      "needs_background": "light"
     },
     "output_type": "display_data"
    }
   ],
   "source": [
    "total_df[total_df['box_office'].notna()].plot(y='box_office',\n",
    "        kind='hist',\n",
    "        grid=True,\n",
    "        bins=100,\n",
    "        figsize=(5, 3),\n",
    "        range=(40000,1000000),\n",
    "        legend=False,\n",
    "        color='royalblue')\n",
    "plt.title('Distribution')\n",
    "plt.xlabel('Box office, billion rub')\n",
    "plt.ylabel('Frequency')\n",
    "\n",
    "total_df['box_office'].describe()\n"
   ],
   "metadata": {
    "collapsed": false
   }
  },
  {
   "cell_type": "markdown",
   "id": "e08b998c",
   "metadata": {},
   "source": [
    "Too small values were found in the collection data. But we will need further data that does not contain information about fees, so we will not delete them."
   ]
  },
  {
   "cell_type": "code",
   "execution_count": 43,
   "id": "44168375",
   "metadata": {},
   "outputs": [
    {
     "data": {
      "text/plain": "count    3.320000e+02\nmean     1.186446e+07\nstd      2.491656e+07\nmin      0.000000e+00\n25%      0.000000e+00\n50%      0.000000e+00\n75%      1.500000e+07\nmax      1.800000e+08\nName: refundable_support, dtype: float64"
     },
     "execution_count": 43,
     "metadata": {},
     "output_type": "execute_result"
    },
    {
     "data": {
      "text/plain": "<Figure size 360x216 with 1 Axes>",
      "image/png": "[encoded data removed]"
     },
     "metadata": {
      "needs_background": "light"
     },
     "output_type": "display_data"
    }
   ],
   "source": [
    "total_df[total_df['refundable_support'] > 10000000].plot(y='refundable_support',\n",
    "        kind='hist',\n",
    "        grid=True,\n",
    "        bins=100,\n",
    "        figsize=(5, 3),\n",
    "        legend=False,\n",
    "        color='royalblue')\n",
    "plt.title('Distribution')\n",
    "plt.xlabel('Refundable support, 0.1 billion rub')\n",
    "plt.ylabel('Frequency')\n",
    "\n",
    "total_df['refundable_support'].describe()\n"
   ]
  },
  {
   "cell_type": "code",
   "execution_count": 44,
   "id": "c877da1c",
   "metadata": {},
   "outputs": [
    {
     "data": {
      "text/plain": "count    3.320000e+02\nmean     4.898099e+07\nstd      5.998012e+07\nmin      0.000000e+00\n25%      2.500000e+07\n50%      3.000000e+07\n75%      4.037500e+07\nmax      4.000000e+08\nName: nonrefundable_support, dtype: float64"
     },
     "execution_count": 44,
     "metadata": {},
     "output_type": "execute_result"
    },
    {
     "data": {
      "text/plain": "<Figure size 360x216 with 1 Axes>",
      "image/png": "[encoded data removed]"
     },
     "metadata": {
      "needs_background": "light"
     },
     "output_type": "display_data"
    }
   ],
   "source": [
    "total_df[total_df['nonrefundable_support'] > 10000000].plot(y='nonrefundable_support',\n",
    "        kind='hist',\n",
    "        grid=True,\n",
    "        bins=100,\n",
    "        figsize=(5, 3),\n",
    "        legend=False,\n",
    "        color='royalblue')\n",
    "plt.title('Distribution')\n",
    "plt.xlabel('Nonrefundable support, 0.1 billion rub')\n",
    "plt.ylabel('Frequency')\n",
    "\n",
    "total_df['nonrefundable_support'].describe()\n"
   ]
  },
  {
   "cell_type": "code",
   "execution_count": 45,
   "id": "5a5de86f",
   "metadata": {},
   "outputs": [
    {
     "data": {
      "text/plain": "count    3.320000e+02\nmean     1.272297e+08\nstd      1.885883e+08\nmin      0.000000e+00\n25%      4.200000e+07\n50%      6.864992e+07\n75%      1.419853e+08\nmax      2.305074e+09\nName: budget, dtype: float64"
     },
     "execution_count": 45,
     "metadata": {},
     "output_type": "execute_result"
    },
    {
     "data": {
      "text/plain": "<Figure size 360x216 with 1 Axes>",
      "image/png": "[encoded data removed]"
     },
     "metadata": {
      "needs_background": "light"
     },
     "output_type": "display_data"
    }
   ],
   "source": [
    "total_df[total_df['budget'] > 10000000].plot(y='budget',\n",
    "        kind='hist',\n",
    "        grid=True,\n",
    "        bins=100,\n",
    "        figsize=(5, 3),\n",
    "        legend=False,\n",
    "        color='royalblue')\n",
    "plt.title('Distribution')\n",
    "plt.xlabel('Budget, billion rub')\n",
    "plt.ylabel('Frequency')\n",
    "\n",
    "total_df['budget'].describe()\n"
   ]
  },
  {
   "cell_type": "markdown",
   "id": "38e2bcf8",
   "metadata": {},
   "source": [
    "There are no oitliers in `refundable_support`, `nonrefundable_support`, `budget` columns."
   ]
  },
  {
   "cell_type": "code",
   "execution_count": 46,
   "id": "9337f73b",
   "metadata": {},
   "outputs": [
    {
     "data": {
      "text/plain": "count    6514.000000\nmean        6.488210\nstd         1.114435\nmin         1.000000\n25%         5.900000\n50%         6.600000\n75%         7.200000\nmax         9.900000\nName: ratings, dtype: float64"
     },
     "execution_count": 46,
     "metadata": {},
     "output_type": "execute_result"
    },
    {
     "data": {
      "text/plain": "<Figure size 360x216 with 1 Axes>",
      "image/png": "[encoded data removed]"
     },
     "metadata": {
      "needs_background": "light"
     },
     "output_type": "display_data"
    }
   ],
   "source": [
    "total_df.plot(y='ratings',\n",
    "        kind='hist',\n",
    "        grid=True,\n",
    "        bins=10,\n",
    "        figsize=(5, 3),\n",
    "        legend=False,\n",
    "        color='royalblue')\n",
    "plt.title('Distribution')\n",
    "plt.xlabel('Rating')\n",
    "plt.ylabel('Frequency')\n",
    "\n",
    "total_df['ratings'].describe()"
   ]
  },
  {
   "cell_type": "code",
   "execution_count": 47,
   "id": "4709a49f",
   "metadata": {},
   "outputs": [
    {
     "name": "stdout",
     "output_type": "stream",
     "text": [
      "17\n"
     ]
    },
    {
     "data": {
      "text/plain": "                       title   puNumber show_start_date            type  \\\n2053                     14+  111023614      2014-12-19  Художественный   \n2058               Дуxless 2  111000415      2015-01-26  Художественный   \n2472             Воин (2015)  111017315      2015-09-28  Художественный   \n2532                 Бармен.  111009615      2015-05-26  Художественный   \n2615     Савва. Сердце воина  114001715      2015-07-21    Анимационный   \n2684          Тряпичный союз  111010215      2015-06-08  Художественный   \n2788      Срочно выйду замуж  111017115      2015-09-30  Художественный   \n2874       Помню - не помню!  111004916      2016-03-01  Художественный   \n3047  Любовь с ограничениями  111008216      2016-04-29  Художественный   \n3565       Притяжение (2016)  111018116      2016-12-16  Художественный   \n3675                Чудо-юдо  114001817      2017-06-27    Анимационный   \n3739                    Мифы  111004317      2017-06-07  Художественный   \n5673                   Селфи  111012117      2018-02-01  Художественный   \n5806              Два хвоста  114001018      2018-05-31    Анимационный   \n6008      Принцесса и дракон  114003018      2018-08-23    Анимационный   \n6323                Баба Яга  114006518      2018-11-08    Анимационный   \n6823     Большое путешествие  114002419      2019-04-20    Анимационный   \n\n                                            film_studio production_country  \\\n2053                         ООО Киностудия  \"Сентябрь\"             Россия   \n2058  ООО \"Киностудия \"Слово\", ООО \"Арт Пикчерс Студия\"             Россия   \n2472   ООО \"Форпост Продакшн\", ООО \"Арт Пикчерс Студия\"             Россия   \n2532          АО \"ВайТ Медиа\", ООО \"Арт Пикчерс Студия\"             Россия   \n2615   ООО \"Глюкоза Продакшн\", ООО \"Арт Пикчерс Студия\"             Россия   \n2684                      ООО \"Кинокомпания \"КОКТЕБЕЛЬ\"             Россия   \n2788          АО \"ВайТ Медиа\", ООО \"Арт Пикчерс Студия\"             Россия   \n2874                                    ООО \"КиноФирма\"             Россия   \n3047          АО \"ВайТ Медиа\", ООО \"Арт Пикчерс Студия\"             Россия   \n3565      ООО \"Водород 2011\",  ООО \"Арт Пикчерс Студия\"             Россия   \n3675                                    ООО \"КиноФирма\"             Россия   \n3739           ООО \"ХАЙПФИЛМ\", ООО \"Арт Пикчерс Студия\"             Россия   \n5673  ООО \"Киностудия \"Слово\", ООО \"Арт Пикчерс Студия\"             Россия   \n5806                          ООО \"ЛИЦЕНЗИОННЫЕ БРЕНДЫ\"             Россия   \n6008                          ООО \"ЛИЦЕНЗИОННЫЕ БРЕНДЫ\"             Россия   \n6323                           ООО \"Арт Пикчерс Студия\"             Россия   \n6823                          ООО \"ЛИЦЕНЗИОННЫЕ БРЕНДЫ\"             Россия   \n\n                            director  \\\n2053                        А.Зайцев   \n2058                      Р.Прыгунов   \n2472                     А.Андрианов   \n2532                    Д.Штурманова   \n2615                        М.Фадеев   \n2684                     М.Местецкий   \n2788                       С Чекалов   \n2874                     В.Ровенский   \n3047                         Д.Тюрин   \n3565                     Ф.Бондарчук   \n3675                       А.Лукичев   \n3739                    А.Молочников   \n5673                      Н.Хомерики   \n5806  В.Ровенский, Н.Лопато, В.Азеев   \n6008                      М.Нефедова   \n6323                         В.Саков   \n6823           Н.Лопато, В.Ровенский   \n\n                                               producer  \\\n2053                                О.Гранина, А.Зайцев   \n2058                 П.Ануров, Ф.Бондарчук, Д.Рудовский   \n2472                           ООО \"Арт Пикчерс Студия\"   \n2532                                        Т.Вайнштейн   \n2615                                         А.Чистяков   \n2684                              Р.Борисевич, А.Кушаев   \n2788              Ф.Бондарчук, Т.Вайнштейн, Д.Рудовский   \n2874                                    ООО \"КиноФирма\"   \n3047              Ф.Бондарчук, Т.Вайнштейн, Д.Рудовский   \n3565                           ООО \"Арт Пикчерс Студия\"   \n3675                                    ООО \"КиноФирма\"   \n3739  Ф.Бондарчук, Д.Рудовский, И.Стюарт, М.Османн, ...   \n5673                 П.Ануров, Ф.Бондарчук, Д.Рудовский   \n5806                          ООО \"ЛИЦЕНЗИОННЫЕ БРЕНДЫ\"   \n6008                          ООО \"ЛИЦЕНЗИОННЫЕ БРЕНДЫ\"   \n6323  ООО \"Арт Пикчерс Студия\", ООО \"КРИЭЙТИВ АНИМЭЙ...   \n6823                          ООО \"ЛИЦЕНЗИОННЫЕ БРЕНДЫ\"   \n\n                      age_restriction  refundable_support  \\\n2053  «16+» - для детей старше 16 лет                 0.0   \n2058  «16+» - для детей старше 16 лет                 0.0   \n2472  «12+» - для детей старше 12 лет          10000000.0   \n2532  «16+» - для детей старше 16 лет          20000000.0   \n2615    «6+» - для детей старше 6 лет          60000000.0   \n2684      «18+» - запрещено для детей                 0.0   \n2788  «16+» - для детей старше 16 лет                 0.0   \n2874  «12+» - для детей старше 12 лет                 0.0   \n3047  «16+» - для детей старше 16 лет          19000000.0   \n3565  «12+» - для детей старше 12 лет                 0.0   \n3675    «6+» - для детей старше 6 лет          20000000.0   \n3739  «16+» - для детей старше 16 лет          25000000.0   \n5673  «16+» - для детей старше 16 лет          20000000.0   \n5806    «6+» - для детей старше 6 лет          10000000.0   \n6008    «6+» - для детей старше 6 лет          40000000.0   \n6323    «6+» - для детей старше 6 лет                 0.0   \n6823    «6+» - для детей старше 6 лет          60000000.0   \n\n      nonrefundable_support  budget                  financing_source  \\\n2053             23000000.0     0.0  Министерство культуры, Фонд кино   \n2058             75000000.0     0.0                         Фонд кино   \n2472             70000000.0     0.0                         Фонд кино   \n2532                    0.0     0.0                         Фонд кино   \n2615            100000000.0     0.0                         Фонд кино   \n2684             59000000.0     0.0                         Фонд кино   \n2788             35000000.0     0.0                         Фонд кино   \n2874              6000000.0     0.0             Министерство культуры   \n3047             51000000.0     0.0                         Фонд кино   \n3565            250000000.0     0.0                         Фонд кино   \n3675             20000000.0     0.0                         Фонд кино   \n3739             20000000.0     0.0                         Фонд кино   \n5673             40000000.0     0.0                         Фонд кино   \n5806             60000000.0     0.0                         Фонд кино   \n6008             40000000.0     0.0                         Фонд кино   \n6323            138969465.0     0.0                         Фонд кино   \n6823            120000000.0     0.0                         Фонд кино   \n\n      ratings                          genres    box_office  \n2053      6.6                       мелодрама  1.023402e+07  \n2058      6.6                           драма  4.461635e+08  \n2472      7.8           боевик,драма,криминал  1.965724e+08  \n2532      6.2                 комедия,фэнтези  6.741897e+07  \n2615      4.6  мультфильм,приключения,фэнтези  1.844876e+08  \n2684      6.3                   комедия,драма  1.957739e+06  \n2788      5.1               комедия,мелодрама  7.293778e+07  \n2874      4.3                         комедия  1.536293e+07  \n3047      6.3               комедия,мелодрама  7.029905e+07  \n3565      5.6                      фантастика  1.038321e+09  \n3675      5.2     мультфильм,фэнтези,семейный  5.510801e+07  \n3739      4.8                         комедия  5.045195e+07  \n5673      5.8                   триллер,драма  2.251964e+08  \n5806      5.0              мультфильм,детский  1.065143e+08  \n6008      5.2      мультфильм,фэнтези,детский  8.336633e+07  \n6323      NaN                         Unknown  1.334699e+06  \n6823      6.2  мультфильм,комедия,приключения  1.476068e+08  ",
      "text/html": "<div>\n<style scoped>\n    .dataframe tbody tr th:only-of-type {\n        vertical-align: middle;\n    }\n\n    .dataframe tbody tr th {\n        vertical-align: top;\n    }\n\n    .dataframe thead th {\n        text-align: right;\n    }\n</style>\n<table border=\"1\" class=\"dataframe\">\n  <thead>\n    <tr style=\"text-align: right;\">\n      <th></th>\n      <th>title</th>\n      <th>puNumber</th>\n      <th>show_start_date</th>\n      <th>type</th>\n      <th>film_studio</th>\n      <th>production_country</th>\n      <th>director</th>\n      <th>producer</th>\n      <th>age_restriction</th>\n      <th>refundable_support</th>\n      <th>nonrefundable_support</th>\n      <th>budget</th>\n      <th>financing_source</th>\n      <th>ratings</th>\n      <th>genres</th>\n      <th>box_office</th>\n    </tr>\n  </thead>\n  <tbody>\n    <tr>\n      <th>2053</th>\n      <td>14+</td>\n      <td>111023614</td>\n      <td>2014-12-19</td>\n      <td>Художественный</td>\n      <td>ООО Киностудия  \"Сентябрь\"</td>\n      <td>Россия</td>\n      <td>А.Зайцев</td>\n      <td>О.Гранина, А.Зайцев</td>\n      <td>«16+» - для детей старше 16 лет</td>\n      <td>0.0</td>\n      <td>23000000.0</td>\n      <td>0.0</td>\n      <td>Министерство культуры, Фонд кино</td>\n      <td>6.6</td>\n      <td>мелодрама</td>\n      <td>1.023402e+07</td>\n    </tr>\n    <tr>\n      <th>2058</th>\n      <td>Дуxless 2</td>\n      <td>111000415</td>\n      <td>2015-01-26</td>\n      <td>Художественный</td>\n      <td>ООО \"Киностудия \"Слово\", ООО \"Арт Пикчерс Студия\"</td>\n      <td>Россия</td>\n      <td>Р.Прыгунов</td>\n      <td>П.Ануров, Ф.Бондарчук, Д.Рудовский</td>\n      <td>«16+» - для детей старше 16 лет</td>\n      <td>0.0</td>\n      <td>75000000.0</td>\n      <td>0.0</td>\n      <td>Фонд кино</td>\n      <td>6.6</td>\n      <td>драма</td>\n      <td>4.461635e+08</td>\n    </tr>\n    <tr>\n      <th>2472</th>\n      <td>Воин (2015)</td>\n      <td>111017315</td>\n      <td>2015-09-28</td>\n      <td>Художественный</td>\n      <td>ООО \"Форпост Продакшн\", ООО \"Арт Пикчерс Студия\"</td>\n      <td>Россия</td>\n      <td>А.Андрианов</td>\n      <td>ООО \"Арт Пикчерс Студия\"</td>\n      <td>«12+» - для детей старше 12 лет</td>\n      <td>10000000.0</td>\n      <td>70000000.0</td>\n      <td>0.0</td>\n      <td>Фонд кино</td>\n      <td>7.8</td>\n      <td>боевик,драма,криминал</td>\n      <td>1.965724e+08</td>\n    </tr>\n    <tr>\n      <th>2532</th>\n      <td>Бармен.</td>\n      <td>111009615</td>\n      <td>2015-05-26</td>\n      <td>Художественный</td>\n      <td>АО \"ВайТ Медиа\", ООО \"Арт Пикчерс Студия\"</td>\n      <td>Россия</td>\n      <td>Д.Штурманова</td>\n      <td>Т.Вайнштейн</td>\n      <td>«16+» - для детей старше 16 лет</td>\n      <td>20000000.0</td>\n      <td>0.0</td>\n      <td>0.0</td>\n      <td>Фонд кино</td>\n      <td>6.2</td>\n      <td>комедия,фэнтези</td>\n      <td>6.741897e+07</td>\n    </tr>\n    <tr>\n      <th>2615</th>\n      <td>Савва. Сердце воина</td>\n      <td>114001715</td>\n      <td>2015-07-21</td>\n      <td>Анимационный</td>\n      <td>ООО \"Глюкоза Продакшн\", ООО \"Арт Пикчерс Студия\"</td>\n      <td>Россия</td>\n      <td>М.Фадеев</td>\n      <td>А.Чистяков</td>\n      <td>«6+» - для детей старше 6 лет</td>\n      <td>60000000.0</td>\n      <td>100000000.0</td>\n      <td>0.0</td>\n      <td>Фонд кино</td>\n      <td>4.6</td>\n      <td>мультфильм,приключения,фэнтези</td>\n      <td>1.844876e+08</td>\n    </tr>\n    <tr>\n      <th>2684</th>\n      <td>Тряпичный союз</td>\n      <td>111010215</td>\n      <td>2015-06-08</td>\n      <td>Художественный</td>\n      <td>ООО \"Кинокомпания \"КОКТЕБЕЛЬ\"</td>\n      <td>Россия</td>\n      <td>М.Местецкий</td>\n      <td>Р.Борисевич, А.Кушаев</td>\n      <td>«18+» - запрещено для детей</td>\n      <td>0.0</td>\n      <td>59000000.0</td>\n      <td>0.0</td>\n      <td>Фонд кино</td>\n      <td>6.3</td>\n      <td>комедия,драма</td>\n      <td>1.957739e+06</td>\n    </tr>\n    <tr>\n      <th>2788</th>\n      <td>Срочно выйду замуж</td>\n      <td>111017115</td>\n      <td>2015-09-30</td>\n      <td>Художественный</td>\n      <td>АО \"ВайТ Медиа\", ООО \"Арт Пикчерс Студия\"</td>\n      <td>Россия</td>\n      <td>С Чекалов</td>\n      <td>Ф.Бондарчук, Т.Вайнштейн, Д.Рудовский</td>\n      <td>«16+» - для детей старше 16 лет</td>\n      <td>0.0</td>\n      <td>35000000.0</td>\n      <td>0.0</td>\n      <td>Фонд кино</td>\n      <td>5.1</td>\n      <td>комедия,мелодрама</td>\n      <td>7.293778e+07</td>\n    </tr>\n    <tr>\n      <th>2874</th>\n      <td>Помню - не помню!</td>\n      <td>111004916</td>\n      <td>2016-03-01</td>\n      <td>Художественный</td>\n      <td>ООО \"КиноФирма\"</td>\n      <td>Россия</td>\n      <td>В.Ровенский</td>\n      <td>ООО \"КиноФирма\"</td>\n      <td>«12+» - для детей старше 12 лет</td>\n      <td>0.0</td>\n      <td>6000000.0</td>\n      <td>0.0</td>\n      <td>Министерство культуры</td>\n      <td>4.3</td>\n      <td>комедия</td>\n      <td>1.536293e+07</td>\n    </tr>\n    <tr>\n      <th>3047</th>\n      <td>Любовь с ограничениями</td>\n      <td>111008216</td>\n      <td>2016-04-29</td>\n      <td>Художественный</td>\n      <td>АО \"ВайТ Медиа\", ООО \"Арт Пикчерс Студия\"</td>\n      <td>Россия</td>\n      <td>Д.Тюрин</td>\n      <td>Ф.Бондарчук, Т.Вайнштейн, Д.Рудовский</td>\n      <td>«16+» - для детей старше 16 лет</td>\n      <td>19000000.0</td>\n      <td>51000000.0</td>\n      <td>0.0</td>\n      <td>Фонд кино</td>\n      <td>6.3</td>\n      <td>комедия,мелодрама</td>\n      <td>7.029905e+07</td>\n    </tr>\n    <tr>\n      <th>3565</th>\n      <td>Притяжение (2016)</td>\n      <td>111018116</td>\n      <td>2016-12-16</td>\n      <td>Художественный</td>\n      <td>ООО \"Водород 2011\",  ООО \"Арт Пикчерс Студия\"</td>\n      <td>Россия</td>\n      <td>Ф.Бондарчук</td>\n      <td>ООО \"Арт Пикчерс Студия\"</td>\n      <td>«12+» - для детей старше 12 лет</td>\n      <td>0.0</td>\n      <td>250000000.0</td>\n      <td>0.0</td>\n      <td>Фонд кино</td>\n      <td>5.6</td>\n      <td>фантастика</td>\n      <td>1.038321e+09</td>\n    </tr>\n    <tr>\n      <th>3675</th>\n      <td>Чудо-юдо</td>\n      <td>114001817</td>\n      <td>2017-06-27</td>\n      <td>Анимационный</td>\n      <td>ООО \"КиноФирма\"</td>\n      <td>Россия</td>\n      <td>А.Лукичев</td>\n      <td>ООО \"КиноФирма\"</td>\n      <td>«6+» - для детей старше 6 лет</td>\n      <td>20000000.0</td>\n      <td>20000000.0</td>\n      <td>0.0</td>\n      <td>Фонд кино</td>\n      <td>5.2</td>\n      <td>мультфильм,фэнтези,семейный</td>\n      <td>5.510801e+07</td>\n    </tr>\n    <tr>\n      <th>3739</th>\n      <td>Мифы</td>\n      <td>111004317</td>\n      <td>2017-06-07</td>\n      <td>Художественный</td>\n      <td>ООО \"ХАЙПФИЛМ\", ООО \"Арт Пикчерс Студия\"</td>\n      <td>Россия</td>\n      <td>А.Молочников</td>\n      <td>Ф.Бондарчук, Д.Рудовский, И.Стюарт, М.Османн, ...</td>\n      <td>«16+» - для детей старше 16 лет</td>\n      <td>25000000.0</td>\n      <td>20000000.0</td>\n      <td>0.0</td>\n      <td>Фонд кино</td>\n      <td>4.8</td>\n      <td>комедия</td>\n      <td>5.045195e+07</td>\n    </tr>\n    <tr>\n      <th>5673</th>\n      <td>Селфи</td>\n      <td>111012117</td>\n      <td>2018-02-01</td>\n      <td>Художественный</td>\n      <td>ООО \"Киностудия \"Слово\", ООО \"Арт Пикчерс Студия\"</td>\n      <td>Россия</td>\n      <td>Н.Хомерики</td>\n      <td>П.Ануров, Ф.Бондарчук, Д.Рудовский</td>\n      <td>«16+» - для детей старше 16 лет</td>\n      <td>20000000.0</td>\n      <td>40000000.0</td>\n      <td>0.0</td>\n      <td>Фонд кино</td>\n      <td>5.8</td>\n      <td>триллер,драма</td>\n      <td>2.251964e+08</td>\n    </tr>\n    <tr>\n      <th>5806</th>\n      <td>Два хвоста</td>\n      <td>114001018</td>\n      <td>2018-05-31</td>\n      <td>Анимационный</td>\n      <td>ООО \"ЛИЦЕНЗИОННЫЕ БРЕНДЫ\"</td>\n      <td>Россия</td>\n      <td>В.Ровенский, Н.Лопато, В.Азеев</td>\n      <td>ООО \"ЛИЦЕНЗИОННЫЕ БРЕНДЫ\"</td>\n      <td>«6+» - для детей старше 6 лет</td>\n      <td>10000000.0</td>\n      <td>60000000.0</td>\n      <td>0.0</td>\n      <td>Фонд кино</td>\n      <td>5.0</td>\n      <td>мультфильм,детский</td>\n      <td>1.065143e+08</td>\n    </tr>\n    <tr>\n      <th>6008</th>\n      <td>Принцесса и дракон</td>\n      <td>114003018</td>\n      <td>2018-08-23</td>\n      <td>Анимационный</td>\n      <td>ООО \"ЛИЦЕНЗИОННЫЕ БРЕНДЫ\"</td>\n      <td>Россия</td>\n      <td>М.Нефедова</td>\n      <td>ООО \"ЛИЦЕНЗИОННЫЕ БРЕНДЫ\"</td>\n      <td>«6+» - для детей старше 6 лет</td>\n      <td>40000000.0</td>\n      <td>40000000.0</td>\n      <td>0.0</td>\n      <td>Фонд кино</td>\n      <td>5.2</td>\n      <td>мультфильм,фэнтези,детский</td>\n      <td>8.336633e+07</td>\n    </tr>\n    <tr>\n      <th>6323</th>\n      <td>Баба Яга</td>\n      <td>114006518</td>\n      <td>2018-11-08</td>\n      <td>Анимационный</td>\n      <td>ООО \"Арт Пикчерс Студия\"</td>\n      <td>Россия</td>\n      <td>В.Саков</td>\n      <td>ООО \"Арт Пикчерс Студия\", ООО \"КРИЭЙТИВ АНИМЭЙ...</td>\n      <td>«6+» - для детей старше 6 лет</td>\n      <td>0.0</td>\n      <td>138969465.0</td>\n      <td>0.0</td>\n      <td>Фонд кино</td>\n      <td>NaN</td>\n      <td>Unknown</td>\n      <td>1.334699e+06</td>\n    </tr>\n    <tr>\n      <th>6823</th>\n      <td>Большое путешествие</td>\n      <td>114002419</td>\n      <td>2019-04-20</td>\n      <td>Анимационный</td>\n      <td>ООО \"ЛИЦЕНЗИОННЫЕ БРЕНДЫ\"</td>\n      <td>Россия</td>\n      <td>Н.Лопато, В.Ровенский</td>\n      <td>ООО \"ЛИЦЕНЗИОННЫЕ БРЕНДЫ\"</td>\n      <td>«6+» - для детей старше 6 лет</td>\n      <td>60000000.0</td>\n      <td>120000000.0</td>\n      <td>0.0</td>\n      <td>Фонд кино</td>\n      <td>6.2</td>\n      <td>мультфильм,комедия,приключения</td>\n      <td>1.476068e+08</td>\n    </tr>\n  </tbody>\n</table>\n</div>"
     },
     "execution_count": 47,
     "metadata": {},
     "output_type": "execute_result"
    }
   ],
   "source": [
    "count = 0\n",
    "budget_small = pd.DataFrame()\n",
    "\n",
    "for i in range(len(total_df)):\n",
    "   \n",
    "    if (total_df.iloc[i, 11] - total_df.iloc[i, 9] - total_df.iloc[i, 10]) < 0:\n",
    "        count += 1\n",
    "        budget_small = budget_small.append(total_df.iloc[i], ignore_index=False)\n",
    "    \n",
    "print(count)    \n",
    "budget_small "
   ]
  },
  {
   "cell_type": "code",
   "execution_count": 48,
   "id": "e773ce17",
   "metadata": {},
   "outputs": [
    {
     "name": "stdout",
     "output_type": "stream",
     "text": [
      "0\n"
     ]
    }
   ],
   "source": [
    "total_df.loc[(total_df.budget == 0),'budget'] = total_df['nonrefundable_support'] + total_df['refundable_support']\n",
    "print(len(total_df[total_df['budget'] == 0]))"
   ]
  },
  {
   "cell_type": "markdown",
   "id": "446c6678",
   "metadata": {},
   "source": [
    "Find that 17 films have a budget column of 0, while they were allocated state funds. Replace these 0 with the sum of the two columns `refundable_support` and `nonrefundable_support`"
   ]
  },
  {
   "cell_type": "markdown",
   "id": "06b98ac7",
   "metadata": {},
   "source": [
    "## Feature Engineering"
   ]
  },
  {
   "cell_type": "markdown",
   "id": "833f2f6a",
   "metadata": {},
   "source": [
    "### Year"
   ]
  },
  {
   "cell_type": "code",
   "execution_count": 49,
   "id": "b8d0a618",
   "metadata": {},
   "outputs": [],
   "source": [
    "total_df['year_show'] = total_df['show_start_date'].dt.year "
   ]
  },
  {
   "cell_type": "code",
   "execution_count": 50,
   "id": "b2b72f86",
   "metadata": {},
   "outputs": [
    {
     "data": {
      "text/plain": "count    7468.000000\nmean     2014.587038\nstd         3.006765\nmin      2010.000000\n25%      2012.000000\n50%      2015.000000\n75%      2017.000000\nmax      2019.000000\nName: year_show, dtype: float64"
     },
     "execution_count": 50,
     "metadata": {},
     "output_type": "execute_result"
    }
   ],
   "source": [
    "total_df['year_show'].describe()"
   ]
  },
  {
   "cell_type": "markdown",
   "id": "d033f226",
   "metadata": {},
   "source": [
    "### Producer"
   ]
  },
  {
   "cell_type": "code",
   "execution_count": 51,
   "id": "f14c4cd1",
   "metadata": {},
   "outputs": [],
   "source": [
    "total_df['first_producer'] = total_df['producer'].str.split(',').str[0]"
   ]
  },
  {
   "cell_type": "markdown",
   "source": [
    "### Жанр"
   ],
   "metadata": {
    "collapsed": false
   }
  },
  {
   "cell_type": "code",
   "execution_count": 52,
   "outputs": [],
   "source": [
    "total_df['first_genre'] = total_df['genres'].str.split(',').str[0]"
   ],
   "metadata": {
    "collapsed": false
   }
  },
  {
   "cell_type": "code",
   "execution_count": 53,
   "id": "d888f975",
   "metadata": {},
   "outputs": [
    {
     "data": {
      "text/plain": "                  title   puNumber show_start_date            type  \\\n0      Открытый простор  221048915      2015-11-27  Художественный   \n1  Особо важное задание  111013716      2016-09-13  Художественный   \n2          Особо опасен  221038416      2016-10-10  Художественный   \n3          Особо опасен  221026916      2016-06-10  Художественный   \n4          Особо опасен  221030815      2015-07-29  Художественный   \n\n                                         film_studio production_country  \\\n0  Тачстоун Пикчерз, Кобальт Пикчерз, Бикон Пикче...                США   \n1                              Киностудия \"Мосфильм\"               СССР   \n2  Юниверсал Пикчерз, Кикстарт Продакшнз, Марк Пл...                США   \n3  Юниверсал Пикчерз, Кикстарт Продакшнз, Марк Пл...                США   \n4  Юниверсал Пикчерз, Кикстарт Продакшнз, Марк Пл...                США   \n\n            director                                           producer  \\\n0      Кевин Костнер          Дэвид Валдес, Кевин Костнер, Джейк Эбертс   \n1          Е.Матвеев                                            Unknown   \n2  Тимур Бекмамбетов  Джим Лемли, Джейсон Нетер, Марк Е.Платт, Яйн Смит   \n3  Тимур Бекмамбетов  Джим Лемли, Джейсон Нетер, Марк Е.Платт, Яйн Смит   \n4  Тимур Бекмамбетов  Джим Лемли, Джейсон Нетер, Марк Е.Платт, Яйн Смит   \n\n                 age_restriction  refundable_support  nonrefundable_support  \\\n0    «18+» - запрещено для детей                 NaN                    NaN   \n1  «6+» - для детей старше 6 лет                 NaN                    NaN   \n2    «18+» - запрещено для детей                 NaN                    NaN   \n3    «18+» - запрещено для детей                 NaN                    NaN   \n4    «18+» - запрещено для детей                 NaN                    NaN   \n\n   budget financing_source  ratings                     genres  box_office  \\\n0     NaN              NaN      7.2     боевик,драма,мелодрама         NaN   \n1     NaN              NaN      6.6              драма,военный         NaN   \n2     NaN              NaN      6.8  фантастика,боевик,триллер         NaN   \n3     NaN              NaN      6.8  фантастика,боевик,триллер         NaN   \n4     NaN              NaN      6.8  фантастика,боевик,триллер         NaN   \n\n   year_show first_producer first_genre  \n0       2015   Дэвид Валдес      боевик  \n1       2016        Unknown       драма  \n2       2016     Джим Лемли  фантастика  \n3       2016     Джим Лемли  фантастика  \n4       2015     Джим Лемли  фантастика  ",
      "text/html": "<div>\n<style scoped>\n    .dataframe tbody tr th:only-of-type {\n        vertical-align: middle;\n    }\n\n    .dataframe tbody tr th {\n        vertical-align: top;\n    }\n\n    .dataframe thead th {\n        text-align: right;\n    }\n</style>\n<table border=\"1\" class=\"dataframe\">\n  <thead>\n    <tr style=\"text-align: right;\">\n      <th></th>\n      <th>title</th>\n      <th>puNumber</th>\n      <th>show_start_date</th>\n      <th>type</th>\n      <th>film_studio</th>\n      <th>production_country</th>\n      <th>director</th>\n      <th>producer</th>\n      <th>age_restriction</th>\n      <th>refundable_support</th>\n      <th>nonrefundable_support</th>\n      <th>budget</th>\n      <th>financing_source</th>\n      <th>ratings</th>\n      <th>genres</th>\n      <th>box_office</th>\n      <th>year_show</th>\n      <th>first_producer</th>\n      <th>first_genre</th>\n    </tr>\n  </thead>\n  <tbody>\n    <tr>\n      <th>0</th>\n      <td>Открытый простор</td>\n      <td>221048915</td>\n      <td>2015-11-27</td>\n      <td>Художественный</td>\n      <td>Тачстоун Пикчерз, Кобальт Пикчерз, Бикон Пикче...</td>\n      <td>США</td>\n      <td>Кевин Костнер</td>\n      <td>Дэвид Валдес, Кевин Костнер, Джейк Эбертс</td>\n      <td>«18+» - запрещено для детей</td>\n      <td>NaN</td>\n      <td>NaN</td>\n      <td>NaN</td>\n      <td>NaN</td>\n      <td>7.2</td>\n      <td>боевик,драма,мелодрама</td>\n      <td>NaN</td>\n      <td>2015</td>\n      <td>Дэвид Валдес</td>\n      <td>боевик</td>\n    </tr>\n    <tr>\n      <th>1</th>\n      <td>Особо важное задание</td>\n      <td>111013716</td>\n      <td>2016-09-13</td>\n      <td>Художественный</td>\n      <td>Киностудия \"Мосфильм\"</td>\n      <td>СССР</td>\n      <td>Е.Матвеев</td>\n      <td>Unknown</td>\n      <td>«6+» - для детей старше 6 лет</td>\n      <td>NaN</td>\n      <td>NaN</td>\n      <td>NaN</td>\n      <td>NaN</td>\n      <td>6.6</td>\n      <td>драма,военный</td>\n      <td>NaN</td>\n      <td>2016</td>\n      <td>Unknown</td>\n      <td>драма</td>\n    </tr>\n    <tr>\n      <th>2</th>\n      <td>Особо опасен</td>\n      <td>221038416</td>\n      <td>2016-10-10</td>\n      <td>Художественный</td>\n      <td>Юниверсал Пикчерз, Кикстарт Продакшнз, Марк Пл...</td>\n      <td>США</td>\n      <td>Тимур Бекмамбетов</td>\n      <td>Джим Лемли, Джейсон Нетер, Марк Е.Платт, Яйн Смит</td>\n      <td>«18+» - запрещено для детей</td>\n      <td>NaN</td>\n      <td>NaN</td>\n      <td>NaN</td>\n      <td>NaN</td>\n      <td>6.8</td>\n      <td>фантастика,боевик,триллер</td>\n      <td>NaN</td>\n      <td>2016</td>\n      <td>Джим Лемли</td>\n      <td>фантастика</td>\n    </tr>\n    <tr>\n      <th>3</th>\n      <td>Особо опасен</td>\n      <td>221026916</td>\n      <td>2016-06-10</td>\n      <td>Художественный</td>\n      <td>Юниверсал Пикчерз, Кикстарт Продакшнз, Марк Пл...</td>\n      <td>США</td>\n      <td>Тимур Бекмамбетов</td>\n      <td>Джим Лемли, Джейсон Нетер, Марк Е.Платт, Яйн Смит</td>\n      <td>«18+» - запрещено для детей</td>\n      <td>NaN</td>\n      <td>NaN</td>\n      <td>NaN</td>\n      <td>NaN</td>\n      <td>6.8</td>\n      <td>фантастика,боевик,триллер</td>\n      <td>NaN</td>\n      <td>2016</td>\n      <td>Джим Лемли</td>\n      <td>фантастика</td>\n    </tr>\n    <tr>\n      <th>4</th>\n      <td>Особо опасен</td>\n      <td>221030815</td>\n      <td>2015-07-29</td>\n      <td>Художественный</td>\n      <td>Юниверсал Пикчерз, Кикстарт Продакшнз, Марк Пл...</td>\n      <td>США</td>\n      <td>Тимур Бекмамбетов</td>\n      <td>Джим Лемли, Джейсон Нетер, Марк Е.Платт, Яйн Смит</td>\n      <td>«18+» - запрещено для детей</td>\n      <td>NaN</td>\n      <td>NaN</td>\n      <td>NaN</td>\n      <td>NaN</td>\n      <td>6.8</td>\n      <td>фантастика,боевик,триллер</td>\n      <td>NaN</td>\n      <td>2015</td>\n      <td>Джим Лемли</td>\n      <td>фантастика</td>\n    </tr>\n  </tbody>\n</table>\n</div>"
     },
     "execution_count": 53,
     "metadata": {},
     "output_type": "execute_result"
    }
   ],
   "source": [
    "# final data set\n",
    "total_df.head()"
   ]
  },
  {
   "cell_type": "code",
   "execution_count": 54,
   "id": "05a5b5a0",
   "metadata": {},
   "outputs": [
    {
     "data": {
      "text/plain": "count    332.000000\nmean       0.542098\nstd        0.196925\nmin        0.044043\n25%        0.384615\n50%        0.614038\n75%        0.661412\nmax        1.000000\nName: support_share, dtype: float64"
     },
     "execution_count": 54,
     "metadata": {},
     "output_type": "execute_result"
    }
   ],
   "source": [
    "total_df['support_share'] = (total_df['refundable_support'] + total_df['nonrefundable_support']) / total_df['budget']\n",
    "total_df['support_share'].describe()"
   ]
  },
  {
   "cell_type": "markdown",
   "id": "c17dbc07",
   "metadata": {},
   "source": [
    "**Resume**\n",
    "\n",
    "- Missing values have been processed: Depending on the type of data, gaps have been filled in, removed or left unchanged\n",
    "- Duplicates have been processed\n",
    "- Categorical and quantitative data were processed: incorrect values were removed, the data was brought to one form\n",
    "- New columns have been added\n"
   ]
  },
  {
   "cell_type": "markdown",
   "id": "9f0b80b2",
   "metadata": {},
   "source": [
    "## Analysis of films by year"
   ]
  },
  {
   "cell_type": "markdown",
   "id": "58b2ddd4",
   "metadata": {},
   "source": [
    "**Distribution of films by years**"
   ]
  },
  {
   "cell_type": "code",
   "execution_count": 55,
   "id": "8c5eab0e",
   "metadata": {},
   "outputs": [
    {
     "data": {
      "text/plain": "<Figure size 432x288 with 1 Axes>",
      "image/png": "[encoded data removed]"
     },
     "metadata": {
      "needs_background": "light"
     },
     "output_type": "display_data"
    }
   ],
   "source": [
    "total_df[total_df['box_office'].notna()]['year_show'].hist()\n",
    "total_df['year_show'].hist(alpha=0.3)\n",
    "plt.show()"
   ]
  },
  {
   "cell_type": "code",
   "execution_count": 56,
   "id": "b8fd9df3",
   "metadata": {},
   "outputs": [
    {
     "name": "stdout",
     "output_type": "stream",
     "text": [
      "0.42273701124799146\n"
     ]
    }
   ],
   "source": [
    "print(len(total_df[total_df['box_office'].notna()]['year_show']) / len(total_df['year_show']))"
   ]
  },
  {
   "cell_type": "markdown",
   "id": "2eaa9d32",
   "metadata": {},
   "source": [
    "Movies with box_office data make up about 42% of all data."
   ]
  },
  {
   "cell_type": "markdown",
   "id": "733e8fdb",
   "metadata": {},
   "source": [
    "**Number of box office films**"
   ]
  },
  {
   "cell_type": "code",
   "execution_count": 57,
   "id": "b80482b4",
   "metadata": {},
   "outputs": [
    {
     "data": {
      "text/plain": "           count\nyear_show       \n2010         984\n2011         622\n2012         593\n2013         630\n2014         806\n2015         705\n2016         818\n2017         505\n2018         879\n2019         926",
      "text/html": "<div>\n<style scoped>\n    .dataframe tbody tr th:only-of-type {\n        vertical-align: middle;\n    }\n\n    .dataframe tbody tr th {\n        vertical-align: top;\n    }\n\n    .dataframe thead th {\n        text-align: right;\n    }\n</style>\n<table border=\"1\" class=\"dataframe\">\n  <thead>\n    <tr style=\"text-align: right;\">\n      <th></th>\n      <th>count</th>\n    </tr>\n    <tr>\n      <th>year_show</th>\n      <th></th>\n    </tr>\n  </thead>\n  <tbody>\n    <tr>\n      <th>2010</th>\n      <td>984</td>\n    </tr>\n    <tr>\n      <th>2011</th>\n      <td>622</td>\n    </tr>\n    <tr>\n      <th>2012</th>\n      <td>593</td>\n    </tr>\n    <tr>\n      <th>2013</th>\n      <td>630</td>\n    </tr>\n    <tr>\n      <th>2014</th>\n      <td>806</td>\n    </tr>\n    <tr>\n      <th>2015</th>\n      <td>705</td>\n    </tr>\n    <tr>\n      <th>2016</th>\n      <td>818</td>\n    </tr>\n    <tr>\n      <th>2017</th>\n      <td>505</td>\n    </tr>\n    <tr>\n      <th>2018</th>\n      <td>879</td>\n    </tr>\n    <tr>\n      <th>2019</th>\n      <td>926</td>\n    </tr>\n  </tbody>\n</table>\n</div>"
     },
     "execution_count": 57,
     "metadata": {},
     "output_type": "execute_result"
    }
   ],
   "source": [
    "total_year = total_df.pivot_table(index='year_show', values='title', aggfunc='count')\n",
    "total_year.columns = ['count']\n",
    "total_year"
   ]
  },
  {
   "cell_type": "code",
   "execution_count": 58,
   "id": "f54a7c28",
   "metadata": {},
   "outputs": [
    {
     "data": {
      "text/plain": "           count\nyear_show       \n2010         105\n2011         109\n2012         128\n2013         184\n2014         279\n2015         465\n2016         526\n2017         357\n2018         474\n2019         530",
      "text/html": "<div>\n<style scoped>\n    .dataframe tbody tr th:only-of-type {\n        vertical-align: middle;\n    }\n\n    .dataframe tbody tr th {\n        vertical-align: top;\n    }\n\n    .dataframe thead th {\n        text-align: right;\n    }\n</style>\n<table border=\"1\" class=\"dataframe\">\n  <thead>\n    <tr style=\"text-align: right;\">\n      <th></th>\n      <th>count</th>\n    </tr>\n    <tr>\n      <th>year_show</th>\n      <th></th>\n    </tr>\n  </thead>\n  <tbody>\n    <tr>\n      <th>2010</th>\n      <td>105</td>\n    </tr>\n    <tr>\n      <th>2011</th>\n      <td>109</td>\n    </tr>\n    <tr>\n      <th>2012</th>\n      <td>128</td>\n    </tr>\n    <tr>\n      <th>2013</th>\n      <td>184</td>\n    </tr>\n    <tr>\n      <th>2014</th>\n      <td>279</td>\n    </tr>\n    <tr>\n      <th>2015</th>\n      <td>465</td>\n    </tr>\n    <tr>\n      <th>2016</th>\n      <td>526</td>\n    </tr>\n    <tr>\n      <th>2017</th>\n      <td>357</td>\n    </tr>\n    <tr>\n      <th>2018</th>\n      <td>474</td>\n    </tr>\n    <tr>\n      <th>2019</th>\n      <td>530</td>\n    </tr>\n  </tbody>\n</table>\n</div>"
     },
     "execution_count": 58,
     "metadata": {},
     "output_type": "execute_result"
    }
   ],
   "source": [
    "total_year_with_box_office = total_df[total_df['box_office'].notna()].pivot_table(index='year_show', values='title', aggfunc='count')\n",
    "total_year_with_box_office.columns = ['count']\n",
    "total_year_with_box_office"
   ]
  },
  {
   "cell_type": "code",
   "execution_count": 59,
   "id": "439182a2",
   "metadata": {},
   "outputs": [
    {
     "data": {
      "text/plain": "<Figure size 432x288 with 1 Axes>",
      "image/png": "[encoded data removed]"
     },
     "metadata": {
      "needs_background": "light"
     },
     "output_type": "display_data"
    }
   ],
   "source": [
    "total_year_with_box_office['fraction'] = total_year_with_box_office['count'] / total_year['count']\n",
    "total_year_with_box_office.plot(\n",
    "                                y='fraction',\n",
    "                                kind='bar',\n",
    "                                legend=False\n",
    "                                )\n",
    "plt.xlabel('Year')\n",
    "plt.ylabel('Fraction of films in distribution')\n",
    "plt.show()"
   ]
  },
  {
   "cell_type": "markdown",
   "id": "5ff2dfb0",
   "metadata": {},
   "source": [
    "Starting from 2015, the amount of  data increased sharply and remained at approximately the same level thereafter."
   ]
  },
  {
   "cell_type": "markdown",
   "id": "1701db19",
   "metadata": {},
   "source": [
    "**Min and Max box_office**"
   ]
  },
  {
   "cell_type": "code",
   "execution_count": 60,
   "id": "9f2d849a",
   "metadata": {},
   "outputs": [
    {
     "data": {
      "text/plain": "3073568690.79"
     },
     "execution_count": 60,
     "metadata": {},
     "output_type": "execute_result"
    }
   ],
   "source": [
    "total_df['box_office'].max()"
   ]
  },
  {
   "cell_type": "code",
   "execution_count": 61,
   "id": "76a153d3",
   "metadata": {},
   "outputs": [
    {
     "data": {
      "text/plain": "                   mean           sum       median           max      min\nyear_show                                                                \n2010       4.793334e+04  2.396667e+06     6052.500  1.446400e+06   1820.0\n2012       9.106504e+04  6.920943e+06    16145.000  2.311220e+06   1920.0\n2011       2.100425e+05  1.407284e+07     7185.000  1.161808e+07   1920.0\n2013       2.565210e+05  2.975643e+07    10334.500  1.995703e+07   1820.0\n2014       3.596572e+07  7.444904e+09   178490.000  1.016411e+09   1815.0\n2015       8.757728e+07  3.949735e+10  5443603.000  1.658861e+09   1900.0\n2016       9.348885e+07  4.786629e+10  4505722.750  2.048126e+09   1900.0\n2019       9.136926e+07  4.842571e+10  4627798.345  3.073569e+09   4398.4\n2017       1.360328e+08  4.856371e+10  9968340.000  2.779686e+09   7900.0\n2018       1.047856e+08  4.966836e+10  8911533.935  2.271754e+09  42469.0",
      "text/html": "<div>\n<style scoped>\n    .dataframe tbody tr th:only-of-type {\n        vertical-align: middle;\n    }\n\n    .dataframe tbody tr th {\n        vertical-align: top;\n    }\n\n    .dataframe thead th {\n        text-align: right;\n    }\n</style>\n<table border=\"1\" class=\"dataframe\">\n  <thead>\n    <tr style=\"text-align: right;\">\n      <th></th>\n      <th>mean</th>\n      <th>sum</th>\n      <th>median</th>\n      <th>max</th>\n      <th>min</th>\n    </tr>\n    <tr>\n      <th>year_show</th>\n      <th></th>\n      <th></th>\n      <th></th>\n      <th></th>\n      <th></th>\n    </tr>\n  </thead>\n  <tbody>\n    <tr>\n      <th>2010</th>\n      <td>4.793334e+04</td>\n      <td>2.396667e+06</td>\n      <td>6052.500</td>\n      <td>1.446400e+06</td>\n      <td>1820.0</td>\n    </tr>\n    <tr>\n      <th>2012</th>\n      <td>9.106504e+04</td>\n      <td>6.920943e+06</td>\n      <td>16145.000</td>\n      <td>2.311220e+06</td>\n      <td>1920.0</td>\n    </tr>\n    <tr>\n      <th>2011</th>\n      <td>2.100425e+05</td>\n      <td>1.407284e+07</td>\n      <td>7185.000</td>\n      <td>1.161808e+07</td>\n      <td>1920.0</td>\n    </tr>\n    <tr>\n      <th>2013</th>\n      <td>2.565210e+05</td>\n      <td>2.975643e+07</td>\n      <td>10334.500</td>\n      <td>1.995703e+07</td>\n      <td>1820.0</td>\n    </tr>\n    <tr>\n      <th>2014</th>\n      <td>3.596572e+07</td>\n      <td>7.444904e+09</td>\n      <td>178490.000</td>\n      <td>1.016411e+09</td>\n      <td>1815.0</td>\n    </tr>\n    <tr>\n      <th>2015</th>\n      <td>8.757728e+07</td>\n      <td>3.949735e+10</td>\n      <td>5443603.000</td>\n      <td>1.658861e+09</td>\n      <td>1900.0</td>\n    </tr>\n    <tr>\n      <th>2016</th>\n      <td>9.348885e+07</td>\n      <td>4.786629e+10</td>\n      <td>4505722.750</td>\n      <td>2.048126e+09</td>\n      <td>1900.0</td>\n    </tr>\n    <tr>\n      <th>2019</th>\n      <td>9.136926e+07</td>\n      <td>4.842571e+10</td>\n      <td>4627798.345</td>\n      <td>3.073569e+09</td>\n      <td>4398.4</td>\n    </tr>\n    <tr>\n      <th>2017</th>\n      <td>1.360328e+08</td>\n      <td>4.856371e+10</td>\n      <td>9968340.000</td>\n      <td>2.779686e+09</td>\n      <td>7900.0</td>\n    </tr>\n    <tr>\n      <th>2018</th>\n      <td>1.047856e+08</td>\n      <td>4.966836e+10</td>\n      <td>8911533.935</td>\n      <td>2.271754e+09</td>\n      <td>42469.0</td>\n    </tr>\n  </tbody>\n</table>\n</div>"
     },
     "execution_count": 61,
     "metadata": {},
     "output_type": "execute_result"
    }
   ],
   "source": [
    "box_office_pivot = total_df[total_df['box_office'] > total_df['box_office'].quantile(0.1)].pivot_table(index='year_show', values='box_office', aggfunc=['mean', 'sum', 'median', 'max', 'min'])\n",
    "box_office_pivot.columns = ['mean', 'sum', 'median', 'max', 'min']\n",
    "box_office_pivot.sort_values(by='sum')"
   ]
  },
  {
   "cell_type": "markdown",
   "id": "5ffe7ab3",
   "metadata": {},
   "source": [
    "- The minimum amount of box_office in 2010 was 2.4 million rubles\n",
    "- The maximum amount of box_office was 50 billion rubles in 2018"
   ]
  },
  {
   "cell_type": "code",
   "execution_count": 62,
   "id": "9fed5eca",
   "metadata": {},
   "outputs": [
    {
     "data": {
      "text/plain": "2014"
     },
     "execution_count": 62,
     "metadata": {},
     "output_type": "execute_result"
    }
   ],
   "source": [
    "box_office_pivot['min'].idxmin()"
   ]
  },
  {
   "cell_type": "code",
   "execution_count": 63,
   "id": "45734fca",
   "metadata": {},
   "outputs": [
    {
     "data": {
      "text/plain": "2019"
     },
     "execution_count": 63,
     "metadata": {},
     "output_type": "execute_result"
    }
   ],
   "source": [
    "box_office_pivot['max'].idxmax()"
   ]
  },
  {
   "cell_type": "code",
   "execution_count": 64,
   "id": "9eb7e862",
   "metadata": {},
   "outputs": [
    {
     "data": {
      "text/plain": "<Figure size 432x288 with 1 Axes>",
      "image/png": "[encoded data removed]"
     },
     "metadata": {
      "needs_background": "light"
     },
     "output_type": "display_data"
    }
   ],
   "source": [
    "box_office_pivot.plot(\n",
    "                      y='sum',\n",
    "                      kind='line',\n",
    "                      legend=False\n",
    "                    )\n",
    "plt.xlabel('Year')\n",
    "plt.ylabel('Box office, 10 billion rub')\n",
    "plt.show()"
   ]
  },
  {
   "cell_type": "markdown",
   "id": "f70a16e9",
   "metadata": {},
   "source": [
    "The graph shows that after 2014 there was a sharp jump in box_office"
   ]
  },
  {
   "cell_type": "markdown",
   "id": "8f1b7d49",
   "metadata": {},
   "source": [
    "## Analysis of films by age restriction"
   ]
  },
  {
   "cell_type": "markdown",
   "id": "c7b8e668",
   "metadata": {},
   "source": [
    "**Distribution of box office by age category**"
   ]
  },
  {
   "cell_type": "code",
   "execution_count": 65,
   "id": "82931a4e",
   "metadata": {},
   "outputs": [
    {
     "data": {
      "text/plain": "                                                           sum          mean  \\\nage_restriction                        year_show                               \n«0+» - для любой зрительской аудитории 2015       3.789577e+08  1.184243e+07   \n                                       2016       1.500704e+08  4.413834e+06   \n                                       2017       2.295989e+08  7.653298e+07   \n                                       2018       3.244900e+07  6.489800e+06   \n                                       2019       1.774607e+07  5.915356e+06   \n«12+» - для детей старше 12 лет        2015       1.361571e+10  2.388721e+08   \n                                       2016       1.220418e+10  1.718899e+08   \n                                       2017       7.851357e+09  2.066147e+08   \n                                       2018       1.426713e+10  2.229239e+08   \n                                       2019       1.268012e+10  1.527725e+08   \n«16+» - для детей старше 16 лет        2015       1.136778e+10  7.478805e+07   \n                                       2016       1.666385e+10  1.003846e+08   \n                                       2017       1.874504e+10  1.549177e+08   \n                                       2018       1.650360e+10  1.057923e+08   \n                                       2019       1.275321e+10  7.329431e+07   \n«18+» - запрещено для детей            2015       5.431989e+09  4.380636e+07   \n                                       2016       6.793674e+09  4.852624e+07   \n                                       2017       9.651350e+09  6.656103e+07   \n                                       2018       8.759932e+09  4.977234e+07   \n                                       2019       1.012172e+10  5.561386e+07   \n«6+» - для детей старше 6 лет          2015       8.701648e+09  1.851415e+08   \n                                       2016       1.205296e+10  2.078097e+08   \n                                       2017       1.208614e+10  2.685809e+08   \n                                       2018       1.010497e+10  1.486026e+08   \n                                       2019       1.285251e+10  1.626900e+08   \n\n                                                        median  count  \nage_restriction                        year_show                       \n«0+» - для любой зрительской аудитории 2015       3.681719e+06     32  \n                                       2016       3.136770e+06     34  \n                                       2017       2.217896e+07      3  \n                                       2018       3.616937e+06      5  \n                                       2019       3.885434e+06      3  \n«12+» - для детей старше 12 лет        2015       5.498206e+07     57  \n                                       2016       1.298213e+07     71  \n                                       2017       1.829921e+07     38  \n                                       2018       1.115330e+07     64  \n                                       2019       3.591456e+06     83  \n«16+» - для детей старше 16 лет        2015       9.087017e+06    152  \n                                       2016       6.896861e+06    166  \n                                       2017       9.702077e+06    121  \n                                       2018       9.010639e+06    156  \n                                       2019       3.262237e+06    174  \n«18+» - запрещено для детей            2015       5.803275e+06    124  \n                                       2016       8.564825e+06    140  \n                                       2017       8.216845e+06    145  \n                                       2018       8.160632e+06    176  \n                                       2019       5.658057e+06    182  \n«6+» - для детей старше 6 лет          2015       3.833450e+07     47  \n                                       2016       7.756665e+06     58  \n                                       2017       5.199210e+07     45  \n                                       2018       1.468885e+07     68  \n                                       2019       1.552388e+07     79  ",
      "text/html": "<div>\n<style scoped>\n    .dataframe tbody tr th:only-of-type {\n        vertical-align: middle;\n    }\n\n    .dataframe tbody tr th {\n        vertical-align: top;\n    }\n\n    .dataframe thead th {\n        text-align: right;\n    }\n</style>\n<table border=\"1\" class=\"dataframe\">\n  <thead>\n    <tr style=\"text-align: right;\">\n      <th></th>\n      <th></th>\n      <th>sum</th>\n      <th>mean</th>\n      <th>median</th>\n      <th>count</th>\n    </tr>\n    <tr>\n      <th>age_restriction</th>\n      <th>year_show</th>\n      <th></th>\n      <th></th>\n      <th></th>\n      <th></th>\n    </tr>\n  </thead>\n  <tbody>\n    <tr>\n      <th rowspan=\"5\" valign=\"top\">«0+» - для любой зрительской аудитории</th>\n      <th>2015</th>\n      <td>3.789577e+08</td>\n      <td>1.184243e+07</td>\n      <td>3.681719e+06</td>\n      <td>32</td>\n    </tr>\n    <tr>\n      <th>2016</th>\n      <td>1.500704e+08</td>\n      <td>4.413834e+06</td>\n      <td>3.136770e+06</td>\n      <td>34</td>\n    </tr>\n    <tr>\n      <th>2017</th>\n      <td>2.295989e+08</td>\n      <td>7.653298e+07</td>\n      <td>2.217896e+07</td>\n      <td>3</td>\n    </tr>\n    <tr>\n      <th>2018</th>\n      <td>3.244900e+07</td>\n      <td>6.489800e+06</td>\n      <td>3.616937e+06</td>\n      <td>5</td>\n    </tr>\n    <tr>\n      <th>2019</th>\n      <td>1.774607e+07</td>\n      <td>5.915356e+06</td>\n      <td>3.885434e+06</td>\n      <td>3</td>\n    </tr>\n    <tr>\n      <th rowspan=\"5\" valign=\"top\">«12+» - для детей старше 12 лет</th>\n      <th>2015</th>\n      <td>1.361571e+10</td>\n      <td>2.388721e+08</td>\n      <td>5.498206e+07</td>\n      <td>57</td>\n    </tr>\n    <tr>\n      <th>2016</th>\n      <td>1.220418e+10</td>\n      <td>1.718899e+08</td>\n      <td>1.298213e+07</td>\n      <td>71</td>\n    </tr>\n    <tr>\n      <th>2017</th>\n      <td>7.851357e+09</td>\n      <td>2.066147e+08</td>\n      <td>1.829921e+07</td>\n      <td>38</td>\n    </tr>\n    <tr>\n      <th>2018</th>\n      <td>1.426713e+10</td>\n      <td>2.229239e+08</td>\n      <td>1.115330e+07</td>\n      <td>64</td>\n    </tr>\n    <tr>\n      <th>2019</th>\n      <td>1.268012e+10</td>\n      <td>1.527725e+08</td>\n      <td>3.591456e+06</td>\n      <td>83</td>\n    </tr>\n    <tr>\n      <th rowspan=\"5\" valign=\"top\">«16+» - для детей старше 16 лет</th>\n      <th>2015</th>\n      <td>1.136778e+10</td>\n      <td>7.478805e+07</td>\n      <td>9.087017e+06</td>\n      <td>152</td>\n    </tr>\n    <tr>\n      <th>2016</th>\n      <td>1.666385e+10</td>\n      <td>1.003846e+08</td>\n      <td>6.896861e+06</td>\n      <td>166</td>\n    </tr>\n    <tr>\n      <th>2017</th>\n      <td>1.874504e+10</td>\n      <td>1.549177e+08</td>\n      <td>9.702077e+06</td>\n      <td>121</td>\n    </tr>\n    <tr>\n      <th>2018</th>\n      <td>1.650360e+10</td>\n      <td>1.057923e+08</td>\n      <td>9.010639e+06</td>\n      <td>156</td>\n    </tr>\n    <tr>\n      <th>2019</th>\n      <td>1.275321e+10</td>\n      <td>7.329431e+07</td>\n      <td>3.262237e+06</td>\n      <td>174</td>\n    </tr>\n    <tr>\n      <th rowspan=\"5\" valign=\"top\">«18+» - запрещено для детей</th>\n      <th>2015</th>\n      <td>5.431989e+09</td>\n      <td>4.380636e+07</td>\n      <td>5.803275e+06</td>\n      <td>124</td>\n    </tr>\n    <tr>\n      <th>2016</th>\n      <td>6.793674e+09</td>\n      <td>4.852624e+07</td>\n      <td>8.564825e+06</td>\n      <td>140</td>\n    </tr>\n    <tr>\n      <th>2017</th>\n      <td>9.651350e+09</td>\n      <td>6.656103e+07</td>\n      <td>8.216845e+06</td>\n      <td>145</td>\n    </tr>\n    <tr>\n      <th>2018</th>\n      <td>8.759932e+09</td>\n      <td>4.977234e+07</td>\n      <td>8.160632e+06</td>\n      <td>176</td>\n    </tr>\n    <tr>\n      <th>2019</th>\n      <td>1.012172e+10</td>\n      <td>5.561386e+07</td>\n      <td>5.658057e+06</td>\n      <td>182</td>\n    </tr>\n    <tr>\n      <th rowspan=\"5\" valign=\"top\">«6+» - для детей старше 6 лет</th>\n      <th>2015</th>\n      <td>8.701648e+09</td>\n      <td>1.851415e+08</td>\n      <td>3.833450e+07</td>\n      <td>47</td>\n    </tr>\n    <tr>\n      <th>2016</th>\n      <td>1.205296e+10</td>\n      <td>2.078097e+08</td>\n      <td>7.756665e+06</td>\n      <td>58</td>\n    </tr>\n    <tr>\n      <th>2017</th>\n      <td>1.208614e+10</td>\n      <td>2.685809e+08</td>\n      <td>5.199210e+07</td>\n      <td>45</td>\n    </tr>\n    <tr>\n      <th>2018</th>\n      <td>1.010497e+10</td>\n      <td>1.486026e+08</td>\n      <td>1.468885e+07</td>\n      <td>68</td>\n    </tr>\n    <tr>\n      <th>2019</th>\n      <td>1.285251e+10</td>\n      <td>1.626900e+08</td>\n      <td>1.552388e+07</td>\n      <td>79</td>\n    </tr>\n  </tbody>\n</table>\n</div>"
     },
     "execution_count": 65,
     "metadata": {},
     "output_type": "execute_result"
    }
   ],
   "source": [
    "age_restriction_pivot = total_df.query('year_show > 2014 & box_office > 80000').pivot_table(index=['age_restriction', 'year_show'], values='box_office', aggfunc=['sum', 'mean', 'median', 'count'])\n",
    "age_restriction_pivot.columns = ['sum', 'mean', 'median', 'count']\n",
    "\n",
    "age_restriction_pivot"
   ]
  },
  {
   "cell_type": "markdown",
   "id": "f501c42d",
   "metadata": {},
   "source": [
    "- Внутри одной категории суммы сборов несильно колеблются по годам."
   ]
  },
  {
   "cell_type": "code",
   "execution_count": 66,
   "outputs": [
    {
     "data": {
      "text/plain": "<Figure size 432x288 with 1 Axes>",
      "image/png": "[encoded data removed]"
     },
     "metadata": {
      "needs_background": "light"
     },
     "output_type": "display_data"
    }
   ],
   "source": [
    "(total_df.query('year_show > 2014 & box_office > 80000')\n",
    " .pivot_table(index='year_show',\n",
    "              columns='age_restriction',\n",
    "              values='box_office',\n",
    "              aggfunc='sum')\n",
    " .plot(kind='bar'))\n",
    "\n",
    "plt.ylabel('Сумма сборов, 10 млрд руб')\n",
    "plt.xlabel('Возрастная категория')\n",
    "plt.xticks([0, 1, 2, 3, 4], ['2015', '2016', '2017', '2018', '2019'],\n",
    "           rotation=20)\n",
    "plt.legend(loc='upper right')\n",
    "\n",
    "plt.show()"
   ],
   "metadata": {
    "collapsed": false
   }
  },
  {
   "cell_type": "markdown",
   "id": "b9d871bc",
   "metadata": {},
   "source": [
    "**Resume**\n",
    "- Films 16+ turned out to have the biggest box_office, regardless of the year. The maximum was reached in 2017.\n",
    "- The smallest box_office is typical for 0+ films for the entire period of time.\n",
    "- There is no explicit dependence within one year."
   ]
  },
  {
   "cell_type": "markdown",
   "id": "d011aac2",
   "metadata": {},
   "source": [
    "<div style=\"border: 2px solid green\">\n",
    "\n",
    "*Movies with rental data make up about 42% of all data.*\n",
    "Starting from 2015, the amount of collection data increased sharply and remained at approximately the same level thereafter.\n",
    "- The minimum amount of box_office in 2010 was 1.86 million rubles\n",
    "- The maximum amount of box_office was 50 billion rubles in 2018\n",
    "- In 2014, the film was released with minimal box_office.\n",
    "- In 2019, the maximum box office for the film was reached.\n",
    "\n",
    "*Within one category, fees vary slightly from year to year.*\n",
    "- Films 16+ turned out to have the biggest box_office, regardless of the year. The maximum was reached in 2017.\n",
    "- The smallest box_office is typical for 0+ films for the entire period of time.\n",
    "- There is no explicit dependence within one year.\n",
    "</div>"
   ]
  },
  {
   "cell_type": "markdown",
   "id": "be3c1a1e",
   "metadata": {},
   "source": [
    "## Government Supported Film Analysis"
   ]
  },
  {
   "cell_type": "markdown",
   "id": "0c6e7aeb",
   "metadata": {},
   "source": [
    " ### Dataset"
   ]
  },
  {
   "cell_type": "markdown",
   "id": "de84c9e7",
   "metadata": {},
   "source": [
    "Cut the data only for films with government support."
   ]
  },
  {
   "cell_type": "code",
   "execution_count": 67,
   "id": "26677711",
   "metadata": {},
   "outputs": [],
   "source": [
    "new_df = total_df[total_df['budget'].notna()]\n"
   ]
  },
  {
   "cell_type": "code",
   "execution_count": 68,
   "id": "180c1d06",
   "metadata": {},
   "outputs": [],
   "source": [
    "new_df['gov_support'] = new_df['refundable_support'] + new_df['nonrefundable_support']"
   ]
  },
  {
   "cell_type": "code",
   "execution_count": 69,
   "id": "f1f5ebd1",
   "metadata": {},
   "outputs": [
    {
     "data": {
      "text/plain": "                    title   puNumber show_start_date            type  \\\n1281        Пока еще жива  111005313      2013-10-11  Художественный   \n1448  Бесславные придурки  111003314      2014-03-28  Художественный   \n1498            Невидимки  111004213      2013-09-10  Художественный   \n1524                БЕРЦЫ  111004314      2014-05-05  Художественный   \n1792             Братья Ч  111004414      2014-04-23  Художественный   \n\n                                            film_studio production_country  \\\n1281  АНО содействия развитию кинематографии \"Ангел-...             Россия   \n1448                         ООО \"Компания \"АТК-Студио\"             Россия   \n1498                        ООО \"Компания \"РЕАЛ-ДАКОТА\"             Россия   \n1524                             ООО \"Студия \"Пассажир\"             Россия   \n1792                             ООО \"Студия \"Пассажир\"             Россия   \n\n                                  director  \\\n1281                            А.Атанесян   \n1448                             А.Якимчук   \n1498              Р.Давлетьяров, С.Комаров   \n1524  Е.Миндадзе (псевдоним Катя Шагалова)   \n1792                              М.Угаров   \n\n                                       producer  \\\n1281           А.Атанесян, М.Бабаханов, Р.Бутко   \n1448                                 А.Тютрюмов   \n1498  Р.Давлетьяров, А.Котелевский, А.Олейников   \n1524                                 Л.Антонова   \n1792                     А.Миндадзе, Л.Антонова   \n\n                      age_restriction  refundable_support  ...  \\\n1281  «16+» - для детей старше 16 лет                 0.0  ...   \n1448  «12+» - для детей старше 12 лет                 0.0  ...   \n1498  «12+» - для детей старше 12 лет                 0.0  ...   \n1524  «16+» - для детей старше 16 лет                 0.0  ...   \n1792  «16+» - для детей старше 16 лет                 0.0  ...   \n\n           financing_source  ratings              genres  box_office  \\\n1281  Министерство культуры      8.1     драма,мелодрама    365353.6   \n1448  Министерство культуры      NaN             Unknown     28140.0   \n1498              Фонд кино      5.3  комедия,фантастика  19957031.5   \n1524  Министерство культуры      4.2               драма     55917.5   \n1792  Министерство культуры      6.4               драма    232100.0   \n\n     year_show  first_producer  first_genre support_share  gov_support  \\\n1281      2013      А.Атанесян        драма      0.333703   26500000.0   \n1448      2014      А.Тютрюмов      Unknown      0.700000   26000000.0   \n1498      2013   Р.Давлетьяров      комедия      0.612691  107847945.0   \n1524      2014      Л.Антонова        драма      0.690095   28000000.0   \n1792      2014      А.Миндадзе        драма      0.624764   25000000.0   \n\n      ratio_sup_box  \n1281      72.532473  \n1448     923.951670  \n1498       5.404007  \n1524     500.737694  \n1792     107.712193  \n\n[5 rows x 22 columns]",
      "text/html": "<div>\n<style scoped>\n    .dataframe tbody tr th:only-of-type {\n        vertical-align: middle;\n    }\n\n    .dataframe tbody tr th {\n        vertical-align: top;\n    }\n\n    .dataframe thead th {\n        text-align: right;\n    }\n</style>\n<table border=\"1\" class=\"dataframe\">\n  <thead>\n    <tr style=\"text-align: right;\">\n      <th></th>\n      <th>title</th>\n      <th>puNumber</th>\n      <th>show_start_date</th>\n      <th>type</th>\n      <th>film_studio</th>\n      <th>production_country</th>\n      <th>director</th>\n      <th>producer</th>\n      <th>age_restriction</th>\n      <th>refundable_support</th>\n      <th>...</th>\n      <th>financing_source</th>\n      <th>ratings</th>\n      <th>genres</th>\n      <th>box_office</th>\n      <th>year_show</th>\n      <th>first_producer</th>\n      <th>first_genre</th>\n      <th>support_share</th>\n      <th>gov_support</th>\n      <th>ratio_sup_box</th>\n    </tr>\n  </thead>\n  <tbody>\n    <tr>\n      <th>1281</th>\n      <td>Пока еще жива</td>\n      <td>111005313</td>\n      <td>2013-10-11</td>\n      <td>Художественный</td>\n      <td>АНО содействия развитию кинематографии \"Ангел-...</td>\n      <td>Россия</td>\n      <td>А.Атанесян</td>\n      <td>А.Атанесян, М.Бабаханов, Р.Бутко</td>\n      <td>«16+» - для детей старше 16 лет</td>\n      <td>0.0</td>\n      <td>...</td>\n      <td>Министерство культуры</td>\n      <td>8.1</td>\n      <td>драма,мелодрама</td>\n      <td>365353.6</td>\n      <td>2013</td>\n      <td>А.Атанесян</td>\n      <td>драма</td>\n      <td>0.333703</td>\n      <td>26500000.0</td>\n      <td>72.532473</td>\n    </tr>\n    <tr>\n      <th>1448</th>\n      <td>Бесславные придурки</td>\n      <td>111003314</td>\n      <td>2014-03-28</td>\n      <td>Художественный</td>\n      <td>ООО \"Компания \"АТК-Студио\"</td>\n      <td>Россия</td>\n      <td>А.Якимчук</td>\n      <td>А.Тютрюмов</td>\n      <td>«12+» - для детей старше 12 лет</td>\n      <td>0.0</td>\n      <td>...</td>\n      <td>Министерство культуры</td>\n      <td>NaN</td>\n      <td>Unknown</td>\n      <td>28140.0</td>\n      <td>2014</td>\n      <td>А.Тютрюмов</td>\n      <td>Unknown</td>\n      <td>0.700000</td>\n      <td>26000000.0</td>\n      <td>923.951670</td>\n    </tr>\n    <tr>\n      <th>1498</th>\n      <td>Невидимки</td>\n      <td>111004213</td>\n      <td>2013-09-10</td>\n      <td>Художественный</td>\n      <td>ООО \"Компания \"РЕАЛ-ДАКОТА\"</td>\n      <td>Россия</td>\n      <td>Р.Давлетьяров, С.Комаров</td>\n      <td>Р.Давлетьяров, А.Котелевский, А.Олейников</td>\n      <td>«12+» - для детей старше 12 лет</td>\n      <td>0.0</td>\n      <td>...</td>\n      <td>Фонд кино</td>\n      <td>5.3</td>\n      <td>комедия,фантастика</td>\n      <td>19957031.5</td>\n      <td>2013</td>\n      <td>Р.Давлетьяров</td>\n      <td>комедия</td>\n      <td>0.612691</td>\n      <td>107847945.0</td>\n      <td>5.404007</td>\n    </tr>\n    <tr>\n      <th>1524</th>\n      <td>БЕРЦЫ</td>\n      <td>111004314</td>\n      <td>2014-05-05</td>\n      <td>Художественный</td>\n      <td>ООО \"Студия \"Пассажир\"</td>\n      <td>Россия</td>\n      <td>Е.Миндадзе (псевдоним Катя Шагалова)</td>\n      <td>Л.Антонова</td>\n      <td>«16+» - для детей старше 16 лет</td>\n      <td>0.0</td>\n      <td>...</td>\n      <td>Министерство культуры</td>\n      <td>4.2</td>\n      <td>драма</td>\n      <td>55917.5</td>\n      <td>2014</td>\n      <td>Л.Антонова</td>\n      <td>драма</td>\n      <td>0.690095</td>\n      <td>28000000.0</td>\n      <td>500.737694</td>\n    </tr>\n    <tr>\n      <th>1792</th>\n      <td>Братья Ч</td>\n      <td>111004414</td>\n      <td>2014-04-23</td>\n      <td>Художественный</td>\n      <td>ООО \"Студия \"Пассажир\"</td>\n      <td>Россия</td>\n      <td>М.Угаров</td>\n      <td>А.Миндадзе, Л.Антонова</td>\n      <td>«16+» - для детей старше 16 лет</td>\n      <td>0.0</td>\n      <td>...</td>\n      <td>Министерство культуры</td>\n      <td>6.4</td>\n      <td>драма</td>\n      <td>232100.0</td>\n      <td>2014</td>\n      <td>А.Миндадзе</td>\n      <td>драма</td>\n      <td>0.624764</td>\n      <td>25000000.0</td>\n      <td>107.712193</td>\n    </tr>\n  </tbody>\n</table>\n<p>5 rows × 22 columns</p>\n</div>"
     },
     "execution_count": 69,
     "metadata": {},
     "output_type": "execute_result"
    }
   ],
   "source": [
    "new_df['ratio_sup_box'] = new_df['gov_support'] / new_df['box_office']\n",
    "new_df.head()"
   ]
  },
  {
   "cell_type": "code",
   "execution_count": 70,
   "id": "10dc4adf",
   "metadata": {},
   "outputs": [
    {
     "data": {
      "text/plain": "count      318.000000\nmean       177.597287\nstd       1369.533646\nmin          0.019521\n25%          0.582871\n50%          2.274750\n75%         24.653438\nmax      22580.645161\nName: ratio_sup_box, dtype: float64"
     },
     "execution_count": 70,
     "metadata": {},
     "output_type": "execute_result"
    }
   ],
   "source": [
    "new_df['ratio_sup_box'].describe()"
   ]
  },
  {
   "cell_type": "markdown",
   "id": "67b5638c",
   "metadata": {},
   "source": [
    "Less than 50% of films with government support pay off at the box office."
   ]
  },
  {
   "cell_type": "markdown",
   "id": "a2fa1ce2",
   "metadata": {},
   "source": [
    "### Distribution by year"
   ]
  },
  {
   "cell_type": "code",
   "execution_count": 71,
   "id": "bd2c4bf5",
   "metadata": {},
   "outputs": [
    {
     "data": {
      "text/plain": "<Figure size 360x216 with 1 Axes>",
      "image/png": "[encoded data removed]"
     },
     "metadata": {
      "needs_background": "light"
     },
     "output_type": "display_data"
    }
   ],
   "source": [
    "new_df.plot(y='year_show',\n",
    "            kind='hist', \n",
    "            bins=40, \n",
    "            grid=True, \n",
    "            figsize=(5, 3), \n",
    "            legend=False, \n",
    "            color='darkorange')\n",
    "plt.title('Distribution')\n",
    "plt.xlabel('Year')\n",
    "plt.ylabel('Frequency')\n",
    "plt.show()"
   ]
  },
  {
   "cell_type": "markdown",
   "id": "4e84513c",
   "metadata": {},
   "source": [
    "In 2015, the number of grants increased dramatically. Since 2016, it has remained at approximately the same level."
   ]
  },
  {
   "cell_type": "code",
   "execution_count": 72,
   "id": "8d6a2f5c",
   "metadata": {},
   "outputs": [
    {
     "data": {
      "text/plain": "           count      median          max         min\nyear_show                                            \n2014          16  27500000.0   90000000.0  20000000.0\n2015          86  30000000.0  250000000.0   4700000.0\n2016          61  35000000.0  450000000.0   6000000.0\n2017          41  40000000.0  400000000.0   6000000.0\n2019          70  40000000.0  500000000.0   3000000.0\n2018          56  45000000.0  260000000.0  15000000.0\n2013           2  67173972.5  107847945.0  26500000.0",
      "text/html": "<div>\n<style scoped>\n    .dataframe tbody tr th:only-of-type {\n        vertical-align: middle;\n    }\n\n    .dataframe tbody tr th {\n        vertical-align: top;\n    }\n\n    .dataframe thead th {\n        text-align: right;\n    }\n</style>\n<table border=\"1\" class=\"dataframe\">\n  <thead>\n    <tr style=\"text-align: right;\">\n      <th></th>\n      <th>count</th>\n      <th>median</th>\n      <th>max</th>\n      <th>min</th>\n    </tr>\n    <tr>\n      <th>year_show</th>\n      <th></th>\n      <th></th>\n      <th></th>\n      <th></th>\n    </tr>\n  </thead>\n  <tbody>\n    <tr>\n      <th>2014</th>\n      <td>16</td>\n      <td>27500000.0</td>\n      <td>90000000.0</td>\n      <td>20000000.0</td>\n    </tr>\n    <tr>\n      <th>2015</th>\n      <td>86</td>\n      <td>30000000.0</td>\n      <td>250000000.0</td>\n      <td>4700000.0</td>\n    </tr>\n    <tr>\n      <th>2016</th>\n      <td>61</td>\n      <td>35000000.0</td>\n      <td>450000000.0</td>\n      <td>6000000.0</td>\n    </tr>\n    <tr>\n      <th>2017</th>\n      <td>41</td>\n      <td>40000000.0</td>\n      <td>400000000.0</td>\n      <td>6000000.0</td>\n    </tr>\n    <tr>\n      <th>2019</th>\n      <td>70</td>\n      <td>40000000.0</td>\n      <td>500000000.0</td>\n      <td>3000000.0</td>\n    </tr>\n    <tr>\n      <th>2018</th>\n      <td>56</td>\n      <td>45000000.0</td>\n      <td>260000000.0</td>\n      <td>15000000.0</td>\n    </tr>\n    <tr>\n      <th>2013</th>\n      <td>2</td>\n      <td>67173972.5</td>\n      <td>107847945.0</td>\n      <td>26500000.0</td>\n    </tr>\n  </tbody>\n</table>\n</div>"
     },
     "execution_count": 72,
     "metadata": {},
     "output_type": "execute_result"
    }
   ],
   "source": [
    "year_support_pivot = new_df.pivot_table(index='year_show',\n",
    "                                        values='gov_support',\n",
    "                                        aggfunc=['count', 'median', 'max', 'min'])\n",
    "year_support_pivot.columns = ['count', 'median', 'max', 'min']\n",
    "year_support_pivot.sort_values(by='median')"
   ]
  },
  {
   "cell_type": "code",
   "execution_count": 73,
   "id": "83946644",
   "metadata": {},
   "outputs": [
    {
     "data": {
      "text/plain": "2019"
     },
     "execution_count": 73,
     "metadata": {},
     "output_type": "execute_result"
    }
   ],
   "source": [
    "year_support_pivot['max'].idxmax()"
   ]
  },
  {
   "cell_type": "code",
   "execution_count": 74,
   "id": "409c8eb0",
   "metadata": {},
   "outputs": [
    {
     "data": {
      "text/plain": "2019"
     },
     "execution_count": 74,
     "metadata": {},
     "output_type": "execute_result"
    }
   ],
   "source": [
    "year_support_pivot['min'].idxmin()"
   ]
  },
  {
   "cell_type": "markdown",
   "id": "39007377",
   "metadata": {},
   "source": [
    "- Average grant values have not changed much since 2017.\n",
    "- Min and max budget has been allocated in 2019."
   ]
  },
  {
   "cell_type": "code",
   "execution_count": 75,
   "id": "c9311716",
   "metadata": {},
   "outputs": [
    {
     "data": {
      "text/plain": "           count       median           max       min\nyear_show                                            \n2014          16   5504517.85  3.933446e+08   28140.0\n2015          85   9200824.50  7.049282e+08    1550.0\n2013           2  10161192.55  1.995703e+07  365353.6\n2016          60  17921115.61  1.402255e+09    9000.0\n2019          60  25977291.30  3.073569e+09   75850.0\n2018          56  27023390.31  2.271754e+09   55685.0\n2017          39  50451949.00  2.779686e+09  168512.0",
      "text/html": "<div>\n<style scoped>\n    .dataframe tbody tr th:only-of-type {\n        vertical-align: middle;\n    }\n\n    .dataframe tbody tr th {\n        vertical-align: top;\n    }\n\n    .dataframe thead th {\n        text-align: right;\n    }\n</style>\n<table border=\"1\" class=\"dataframe\">\n  <thead>\n    <tr style=\"text-align: right;\">\n      <th></th>\n      <th>count</th>\n      <th>median</th>\n      <th>max</th>\n      <th>min</th>\n    </tr>\n    <tr>\n      <th>year_show</th>\n      <th></th>\n      <th></th>\n      <th></th>\n      <th></th>\n    </tr>\n  </thead>\n  <tbody>\n    <tr>\n      <th>2014</th>\n      <td>16</td>\n      <td>5504517.85</td>\n      <td>3.933446e+08</td>\n      <td>28140.0</td>\n    </tr>\n    <tr>\n      <th>2015</th>\n      <td>85</td>\n      <td>9200824.50</td>\n      <td>7.049282e+08</td>\n      <td>1550.0</td>\n    </tr>\n    <tr>\n      <th>2013</th>\n      <td>2</td>\n      <td>10161192.55</td>\n      <td>1.995703e+07</td>\n      <td>365353.6</td>\n    </tr>\n    <tr>\n      <th>2016</th>\n      <td>60</td>\n      <td>17921115.61</td>\n      <td>1.402255e+09</td>\n      <td>9000.0</td>\n    </tr>\n    <tr>\n      <th>2019</th>\n      <td>60</td>\n      <td>25977291.30</td>\n      <td>3.073569e+09</td>\n      <td>75850.0</td>\n    </tr>\n    <tr>\n      <th>2018</th>\n      <td>56</td>\n      <td>27023390.31</td>\n      <td>2.271754e+09</td>\n      <td>55685.0</td>\n    </tr>\n    <tr>\n      <th>2017</th>\n      <td>39</td>\n      <td>50451949.00</td>\n      <td>2.779686e+09</td>\n      <td>168512.0</td>\n    </tr>\n  </tbody>\n</table>\n</div>"
     },
     "execution_count": 75,
     "metadata": {},
     "output_type": "execute_result"
    }
   ],
   "source": [
    "year_box_office_pivot = new_df.pivot_table(index='year_show',\n",
    "                                        values='box_office',\n",
    "                                        aggfunc=['count', 'median', 'max', 'min'])\n",
    "year_box_office_pivot.columns = ['count', 'median', 'max', 'min']\n",
    "year_box_office_pivot.sort_values(by='median')"
   ]
  },
  {
   "cell_type": "markdown",
   "id": "33e52034",
   "metadata": {},
   "source": [
    "Box_office do not depend on the year of issue."
   ]
  },
  {
   "cell_type": "code",
   "execution_count": 76,
   "id": "66896401",
   "metadata": {},
   "outputs": [
    {
     "data": {
      "text/plain": "<Figure size 432x864 with 7 Axes>",
      "image/png": "[encoded data removed]"
     },
     "metadata": {
      "needs_background": "light"
     },
     "output_type": "display_data"
    }
   ],
   "source": [
    "vis1 = sns.lmplot(data=new_df,\n",
    "                  x='gov_support',\n",
    "                  y='box_office',\n",
    "                  fit_reg=False,\n",
    "                  col='year_show',\n",
    "                  aspect=1,\n",
    "                  col_wrap=2,\n",
    "                  height=3)"
   ]
  },
  {
   "cell_type": "markdown",
   "id": "9ce1d95b",
   "metadata": {},
   "source": [
    "There is no strong correlation between government support and box_office."
   ]
  },
  {
   "cell_type": "code",
   "execution_count": 77,
   "id": "d77db55b",
   "metadata": {},
   "outputs": [
    {
     "data": {
      "text/plain": "<Figure size 432x288 with 1 Axes>",
      "image/png": "[encoded data removed]"
     },
     "metadata": {
      "needs_background": "light"
     },
     "output_type": "display_data"
    }
   ],
   "source": [
    "new_df.plot(x='gov_support',\n",
    "            y='box_office',\n",
    "            kind='scatter'\n",
    "           )\n",
    "plt.show()"
   ]
  },
  {
   "cell_type": "markdown",
   "id": "9775d797",
   "metadata": {},
   "source": [
    "### Type"
   ]
  },
  {
   "cell_type": "code",
   "execution_count": 78,
   "id": "7fd8395f",
   "metadata": {},
   "outputs": [
    {
     "data": {
      "text/plain": "                count      median          max         min\ntype                                                      \nДокументальный      1   3000000.0    3000000.0   3000000.0\nХудожественный    300  34225000.0  500000000.0   4700000.0\nАнимационный       31  70000000.0  200000000.0  11520000.0",
      "text/html": "<div>\n<style scoped>\n    .dataframe tbody tr th:only-of-type {\n        vertical-align: middle;\n    }\n\n    .dataframe tbody tr th {\n        vertical-align: top;\n    }\n\n    .dataframe thead th {\n        text-align: right;\n    }\n</style>\n<table border=\"1\" class=\"dataframe\">\n  <thead>\n    <tr style=\"text-align: right;\">\n      <th></th>\n      <th>count</th>\n      <th>median</th>\n      <th>max</th>\n      <th>min</th>\n    </tr>\n    <tr>\n      <th>type</th>\n      <th></th>\n      <th></th>\n      <th></th>\n      <th></th>\n    </tr>\n  </thead>\n  <tbody>\n    <tr>\n      <th>Документальный</th>\n      <td>1</td>\n      <td>3000000.0</td>\n      <td>3000000.0</td>\n      <td>3000000.0</td>\n    </tr>\n    <tr>\n      <th>Художественный</th>\n      <td>300</td>\n      <td>34225000.0</td>\n      <td>500000000.0</td>\n      <td>4700000.0</td>\n    </tr>\n    <tr>\n      <th>Анимационный</th>\n      <td>31</td>\n      <td>70000000.0</td>\n      <td>200000000.0</td>\n      <td>11520000.0</td>\n    </tr>\n  </tbody>\n</table>\n</div>"
     },
     "execution_count": 78,
     "metadata": {},
     "output_type": "execute_result"
    }
   ],
   "source": [
    "type_support_pivot = new_df.pivot_table(index='type',\n",
    "                                        values='gov_support',\n",
    "                                        aggfunc=['count', 'median', 'max', 'min'])\n",
    "type_support_pivot.columns = ['count', 'median', 'max', 'min']\n",
    "type_support_pivot.sort_values(by='median')"
   ]
  },
  {
   "cell_type": "markdown",
   "id": "90950616",
   "metadata": {},
   "source": [
    "- Most of the money is allocated to animated films. At the same time, the maximum budget was allocated for fiction.\n",
    "- Only one documentary was supported."
   ]
  },
  {
   "cell_type": "markdown",
   "id": "dc7dadd9",
   "metadata": {},
   "source": [
    "### Age restriction"
   ]
  },
  {
   "cell_type": "code",
   "execution_count": 79,
   "id": "7cfad3ca",
   "metadata": {},
   "outputs": [
    {
     "data": {
      "text/plain": "                                                 sum     ratio_sum  \\\nage_restriction                                                      \n«0+» - для любой зрительской аудитории  2.735200e+08    611.339831   \n«18+» - запрещено для детей             1.012347e+09   9094.450143   \n«6+» - для детей старше 6 лет           5.546374e+09    879.616662   \n«12+» - для детей старше 12 лет         7.799394e+09  38317.011089   \n«16+» - для детей старше 16 лет         5.569053e+09   7573.519694   \n\n                                            median  ratio_median  count  \\\nage_restriction                                                           \n«0+» - для любой зрительской аудитории  29500000.0      0.620255      8   \n«18+» - запрещено для детей             30000000.0     17.001280     28   \n«6+» - для детей старше 6 лет           50000000.0      1.109106     65   \n«12+» - для детей старше 12 лет         41750000.0      1.489410    106   \n«16+» - для детей старше 16 лет         30000000.0      5.161559    125   \n\n                                        ratio_count  \nage_restriction                                      \n«0+» - для любой зрительской аудитории            5  \n«18+» - запрещено для детей                      28  \n«6+» - для детей старше 6 лет                    65  \n«12+» - для детей старше 12 лет                 100  \n«16+» - для детей старше 16 лет                 120  ",
      "text/html": "<div>\n<style scoped>\n    .dataframe tbody tr th:only-of-type {\n        vertical-align: middle;\n    }\n\n    .dataframe tbody tr th {\n        vertical-align: top;\n    }\n\n    .dataframe thead th {\n        text-align: right;\n    }\n</style>\n<table border=\"1\" class=\"dataframe\">\n  <thead>\n    <tr style=\"text-align: right;\">\n      <th></th>\n      <th>sum</th>\n      <th>ratio_sum</th>\n      <th>median</th>\n      <th>ratio_median</th>\n      <th>count</th>\n      <th>ratio_count</th>\n    </tr>\n    <tr>\n      <th>age_restriction</th>\n      <th></th>\n      <th></th>\n      <th></th>\n      <th></th>\n      <th></th>\n      <th></th>\n    </tr>\n  </thead>\n  <tbody>\n    <tr>\n      <th>«0+» - для любой зрительской аудитории</th>\n      <td>2.735200e+08</td>\n      <td>611.339831</td>\n      <td>29500000.0</td>\n      <td>0.620255</td>\n      <td>8</td>\n      <td>5</td>\n    </tr>\n    <tr>\n      <th>«18+» - запрещено для детей</th>\n      <td>1.012347e+09</td>\n      <td>9094.450143</td>\n      <td>30000000.0</td>\n      <td>17.001280</td>\n      <td>28</td>\n      <td>28</td>\n    </tr>\n    <tr>\n      <th>«6+» - для детей старше 6 лет</th>\n      <td>5.546374e+09</td>\n      <td>879.616662</td>\n      <td>50000000.0</td>\n      <td>1.109106</td>\n      <td>65</td>\n      <td>65</td>\n    </tr>\n    <tr>\n      <th>«12+» - для детей старше 12 лет</th>\n      <td>7.799394e+09</td>\n      <td>38317.011089</td>\n      <td>41750000.0</td>\n      <td>1.489410</td>\n      <td>106</td>\n      <td>100</td>\n    </tr>\n    <tr>\n      <th>«16+» - для детей старше 16 лет</th>\n      <td>5.569053e+09</td>\n      <td>7573.519694</td>\n      <td>30000000.0</td>\n      <td>5.161559</td>\n      <td>125</td>\n      <td>120</td>\n    </tr>\n  </tbody>\n</table>\n</div>"
     },
     "execution_count": 79,
     "metadata": {},
     "output_type": "execute_result"
    }
   ],
   "source": [
    "age_restriction_support_pivot = new_df.pivot_table(index='age_restriction',\n",
    "                                                   values=['gov_support', 'ratio_sup_box'],\n",
    "                                                   aggfunc=['sum', 'median', 'count'])\n",
    "age_restriction_support_pivot.columns = ['sum','ratio_sum', 'median','ratio_median','count','ratio_count']\n",
    "\n",
    "age_restriction_support_pivot.sort_values(by='count')"
   ]
  },
  {
   "cell_type": "code",
   "execution_count": 80,
   "id": "e5024b31",
   "metadata": {},
   "outputs": [
    {
     "data": {
      "text/plain": "<Figure size 360x216 with 1 Axes>",
      "image/png": "[encoded data removed]"
     },
     "metadata": {
      "needs_background": "light"
     },
     "output_type": "display_data"
    },
    {
     "data": {
      "text/plain": "<Figure size 360x216 with 1 Axes>",
      "image/png": "[encoded data removed]"
     },
     "metadata": {
      "needs_background": "light"
     },
     "output_type": "display_data"
    }
   ],
   "source": [
    "age_restriction_support_pivot.plot(y='median',\n",
    "                                   kind='bar', \n",
    "                                   grid=True, \n",
    "                                   figsize=(5, 3), \n",
    "                                   legend=False, \n",
    "                                   color='darkorange')\n",
    "plt.ylabel('Сумма государственной поддержки, 10 млн руб')\n",
    "plt.xlabel('Возрастная категория')\n",
    "plt.xticks([0, 1, 2, 3, 4], ['0+', '12+', '16+', '18+', '6+'],\n",
    "       rotation=20)\n",
    "age_restriction_support_pivot.plot(y='ratio_median',\n",
    "                                   kind='bar', \n",
    "                                   grid=True, \n",
    "                                   figsize=(5, 3), \n",
    "                                   legend=False, \n",
    "                                   color='darkblue')\n",
    "plt.ylabel('Отношение суммы поддержки к сборам')\n",
    "plt.xlabel('Возрастная категория')\n",
    "plt.xticks([0, 1, 2, 3, 4], ['0+', '12+', '16+', '18+', '6+'],\n",
    "       rotation=20)\n",
    "plt.show()"
   ]
  },
  {
   "cell_type": "markdown",
   "id": "624c3e1a",
   "metadata": {},
   "source": [
    "- On average, the same amount of money is allocated to all age categories.\n",
    "- Maximum amount - category 6+\n",
    "- The least paid back films are 18+ category\n",
    "- The most paid back - 0+ and 6+"
   ]
  },
  {
   "cell_type": "markdown",
   "id": "b6707c45",
   "metadata": {},
   "source": [
    "### Genre\n"
   ]
  },
  {
   "cell_type": "code",
   "execution_count": 81,
   "id": "1dab2b92",
   "metadata": {},
   "outputs": [
    {
     "data": {
      "text/plain": "                      sum       median  count\nfirst_genre                                  \nреальное ТВ  5.300000e+07   53000000.0      1\nбиография    1.125100e+08   27510000.0      3\nдетский      1.190000e+08   29500000.0      4\nмюзикл       2.404531e+08   37576559.5      4\nкриминал     2.800000e+08   40000000.0      3\nбоевик       3.340000e+08   42500000.0      6\nсемейный     3.390000e+08   35000000.0      7\nужасы        3.550000e+08   30000000.0     10\nмелодрама    3.980000e+08   27500000.0     15\nвоенный      4.220009e+08   45000000.0      9\nспорт        4.550000e+08   40000000.0      3\nдетектив     4.850000e+08   55000000.0      5\nUnknown      6.889695e+08   30000000.0     16\nприключения  6.960000e+08   40000000.0      7\nтриллер      7.696453e+08   40000000.0     15\nистория      1.020000e+09  240000000.0      4\nфэнтези      1.032900e+09   34000000.0     11\nфантастика   1.406000e+09   30000000.0     11\nмультфильм   2.461520e+09   70000000.0     31\nкомедия      3.218283e+09   35000000.0     74\nдрама        5.314407e+09   30000000.0     93",
      "text/html": "<div>\n<style scoped>\n    .dataframe tbody tr th:only-of-type {\n        vertical-align: middle;\n    }\n\n    .dataframe tbody tr th {\n        vertical-align: top;\n    }\n\n    .dataframe thead th {\n        text-align: right;\n    }\n</style>\n<table border=\"1\" class=\"dataframe\">\n  <thead>\n    <tr style=\"text-align: right;\">\n      <th></th>\n      <th>sum</th>\n      <th>median</th>\n      <th>count</th>\n    </tr>\n    <tr>\n      <th>first_genre</th>\n      <th></th>\n      <th></th>\n      <th></th>\n    </tr>\n  </thead>\n  <tbody>\n    <tr>\n      <th>реальное ТВ</th>\n      <td>5.300000e+07</td>\n      <td>53000000.0</td>\n      <td>1</td>\n    </tr>\n    <tr>\n      <th>биография</th>\n      <td>1.125100e+08</td>\n      <td>27510000.0</td>\n      <td>3</td>\n    </tr>\n    <tr>\n      <th>детский</th>\n      <td>1.190000e+08</td>\n      <td>29500000.0</td>\n      <td>4</td>\n    </tr>\n    <tr>\n      <th>мюзикл</th>\n      <td>2.404531e+08</td>\n      <td>37576559.5</td>\n      <td>4</td>\n    </tr>\n    <tr>\n      <th>криминал</th>\n      <td>2.800000e+08</td>\n      <td>40000000.0</td>\n      <td>3</td>\n    </tr>\n    <tr>\n      <th>боевик</th>\n      <td>3.340000e+08</td>\n      <td>42500000.0</td>\n      <td>6</td>\n    </tr>\n    <tr>\n      <th>семейный</th>\n      <td>3.390000e+08</td>\n      <td>35000000.0</td>\n      <td>7</td>\n    </tr>\n    <tr>\n      <th>ужасы</th>\n      <td>3.550000e+08</td>\n      <td>30000000.0</td>\n      <td>10</td>\n    </tr>\n    <tr>\n      <th>мелодрама</th>\n      <td>3.980000e+08</td>\n      <td>27500000.0</td>\n      <td>15</td>\n    </tr>\n    <tr>\n      <th>военный</th>\n      <td>4.220009e+08</td>\n      <td>45000000.0</td>\n      <td>9</td>\n    </tr>\n    <tr>\n      <th>спорт</th>\n      <td>4.550000e+08</td>\n      <td>40000000.0</td>\n      <td>3</td>\n    </tr>\n    <tr>\n      <th>детектив</th>\n      <td>4.850000e+08</td>\n      <td>55000000.0</td>\n      <td>5</td>\n    </tr>\n    <tr>\n      <th>Unknown</th>\n      <td>6.889695e+08</td>\n      <td>30000000.0</td>\n      <td>16</td>\n    </tr>\n    <tr>\n      <th>приключения</th>\n      <td>6.960000e+08</td>\n      <td>40000000.0</td>\n      <td>7</td>\n    </tr>\n    <tr>\n      <th>триллер</th>\n      <td>7.696453e+08</td>\n      <td>40000000.0</td>\n      <td>15</td>\n    </tr>\n    <tr>\n      <th>история</th>\n      <td>1.020000e+09</td>\n      <td>240000000.0</td>\n      <td>4</td>\n    </tr>\n    <tr>\n      <th>фэнтези</th>\n      <td>1.032900e+09</td>\n      <td>34000000.0</td>\n      <td>11</td>\n    </tr>\n    <tr>\n      <th>фантастика</th>\n      <td>1.406000e+09</td>\n      <td>30000000.0</td>\n      <td>11</td>\n    </tr>\n    <tr>\n      <th>мультфильм</th>\n      <td>2.461520e+09</td>\n      <td>70000000.0</td>\n      <td>31</td>\n    </tr>\n    <tr>\n      <th>комедия</th>\n      <td>3.218283e+09</td>\n      <td>35000000.0</td>\n      <td>74</td>\n    </tr>\n    <tr>\n      <th>драма</th>\n      <td>5.314407e+09</td>\n      <td>30000000.0</td>\n      <td>93</td>\n    </tr>\n  </tbody>\n</table>\n</div>"
     },
     "execution_count": 81,
     "metadata": {},
     "output_type": "execute_result"
    }
   ],
   "source": [
    "genre_support_pivot = new_df.pivot_table(index='first_genre',\n",
    "                                         values='gov_support',\n",
    "                                         aggfunc=['sum', 'median', 'count'])\n",
    "genre_support_pivot.columns = ['sum', 'median', 'count']\n",
    "\n",
    "genre_support_pivot.sort_values(by='sum')"
   ]
  },
  {
   "cell_type": "code",
   "execution_count": 82,
   "id": "9245f5e1",
   "metadata": {},
   "outputs": [
    {
     "data": {
      "text/plain": "                median        min           max\nfirst_genre                                    \nспорт         0.237123   0.143901      0.773460\nбиография     0.525900   0.068466     25.293071\nприключения   0.542938   0.047351     80.435362\nсемейный      0.553317   0.290919     72.403357\nмультфильм    0.706570   0.056743    538.744725\nфантастика    0.724492   0.240773    163.150102\nистория       0.818793   0.592813      4.349193\nбоевик        0.822317   0.113765    147.457626\nужасы         0.929465   0.142207    498.661924\nкомедия       1.041328   0.019521    421.146953\nреальное ТВ   1.619750   1.619750      1.619750\nвоенный       1.980322   0.082503     22.512590\nфэнтези       2.269190   0.277572   4316.666667\nкриминал      2.793432   0.918723     84.001848\nдетектив      6.527905   0.826693    749.063670\nдрама         7.858625   0.079234   5555.555556\nтриллер       8.151574   0.212582    408.543461\nмюзикл        9.893676   1.719255    180.476019\nмелодрама    22.307645   1.567450  22580.645161\nдетский      25.575971  17.720335    557.011796\nUnknown      53.121253   0.058794   1261.352170",
      "text/html": "<div>\n<style scoped>\n    .dataframe tbody tr th:only-of-type {\n        vertical-align: middle;\n    }\n\n    .dataframe tbody tr th {\n        vertical-align: top;\n    }\n\n    .dataframe thead th {\n        text-align: right;\n    }\n</style>\n<table border=\"1\" class=\"dataframe\">\n  <thead>\n    <tr style=\"text-align: right;\">\n      <th></th>\n      <th>median</th>\n      <th>min</th>\n      <th>max</th>\n    </tr>\n    <tr>\n      <th>first_genre</th>\n      <th></th>\n      <th></th>\n      <th></th>\n    </tr>\n  </thead>\n  <tbody>\n    <tr>\n      <th>спорт</th>\n      <td>0.237123</td>\n      <td>0.143901</td>\n      <td>0.773460</td>\n    </tr>\n    <tr>\n      <th>биография</th>\n      <td>0.525900</td>\n      <td>0.068466</td>\n      <td>25.293071</td>\n    </tr>\n    <tr>\n      <th>приключения</th>\n      <td>0.542938</td>\n      <td>0.047351</td>\n      <td>80.435362</td>\n    </tr>\n    <tr>\n      <th>семейный</th>\n      <td>0.553317</td>\n      <td>0.290919</td>\n      <td>72.403357</td>\n    </tr>\n    <tr>\n      <th>мультфильм</th>\n      <td>0.706570</td>\n      <td>0.056743</td>\n      <td>538.744725</td>\n    </tr>\n    <tr>\n      <th>фантастика</th>\n      <td>0.724492</td>\n      <td>0.240773</td>\n      <td>163.150102</td>\n    </tr>\n    <tr>\n      <th>история</th>\n      <td>0.818793</td>\n      <td>0.592813</td>\n      <td>4.349193</td>\n    </tr>\n    <tr>\n      <th>боевик</th>\n      <td>0.822317</td>\n      <td>0.113765</td>\n      <td>147.457626</td>\n    </tr>\n    <tr>\n      <th>ужасы</th>\n      <td>0.929465</td>\n      <td>0.142207</td>\n      <td>498.661924</td>\n    </tr>\n    <tr>\n      <th>комедия</th>\n      <td>1.041328</td>\n      <td>0.019521</td>\n      <td>421.146953</td>\n    </tr>\n    <tr>\n      <th>реальное ТВ</th>\n      <td>1.619750</td>\n      <td>1.619750</td>\n      <td>1.619750</td>\n    </tr>\n    <tr>\n      <th>военный</th>\n      <td>1.980322</td>\n      <td>0.082503</td>\n      <td>22.512590</td>\n    </tr>\n    <tr>\n      <th>фэнтези</th>\n      <td>2.269190</td>\n      <td>0.277572</td>\n      <td>4316.666667</td>\n    </tr>\n    <tr>\n      <th>криминал</th>\n      <td>2.793432</td>\n      <td>0.918723</td>\n      <td>84.001848</td>\n    </tr>\n    <tr>\n      <th>детектив</th>\n      <td>6.527905</td>\n      <td>0.826693</td>\n      <td>749.063670</td>\n    </tr>\n    <tr>\n      <th>драма</th>\n      <td>7.858625</td>\n      <td>0.079234</td>\n      <td>5555.555556</td>\n    </tr>\n    <tr>\n      <th>триллер</th>\n      <td>8.151574</td>\n      <td>0.212582</td>\n      <td>408.543461</td>\n    </tr>\n    <tr>\n      <th>мюзикл</th>\n      <td>9.893676</td>\n      <td>1.719255</td>\n      <td>180.476019</td>\n    </tr>\n    <tr>\n      <th>мелодрама</th>\n      <td>22.307645</td>\n      <td>1.567450</td>\n      <td>22580.645161</td>\n    </tr>\n    <tr>\n      <th>детский</th>\n      <td>25.575971</td>\n      <td>17.720335</td>\n      <td>557.011796</td>\n    </tr>\n    <tr>\n      <th>Unknown</th>\n      <td>53.121253</td>\n      <td>0.058794</td>\n      <td>1261.352170</td>\n    </tr>\n  </tbody>\n</table>\n</div>"
     },
     "execution_count": 82,
     "metadata": {},
     "output_type": "execute_result"
    }
   ],
   "source": [
    "genre_support_ratio_pivot = new_df.pivot_table(index='first_genre',\n",
    "                                         values='ratio_sup_box',\n",
    "                                         aggfunc=['median', 'min', 'max'])\n",
    "genre_support_ratio_pivot.columns = ['median', 'min', 'max']\n",
    "\n",
    "genre_support_ratio_pivot.sort_values(by='median')"
   ]
  },
  {
   "cell_type": "markdown",
   "id": "9a7a78da",
   "metadata": {},
   "source": [
    "- Most of the money is allocated to dramas and comedies, both in terms of the number of films and the amount of funds.\n",
    "- The biggest box fall on films in the category \"sports\", \"biography\"."
   ]
  },
  {
   "cell_type": "markdown",
   "id": "3bc965ef",
   "metadata": {},
   "source": [
    "### What is the average rating for films with grant"
   ]
  },
  {
   "cell_type": "code",
   "execution_count": 83,
   "id": "e8165fbe",
   "metadata": {},
   "outputs": [],
   "source": [
    "new_df[new_df['budget'] == 0]['budget'] = new_df['nonrefundable_support'] + new_df['refundable_support']"
   ]
  },
  {
   "cell_type": "code",
   "execution_count": 84,
   "id": "db4428c9",
   "metadata": {},
   "outputs": [
    {
     "data": {
      "text/plain": "count    316.000000\nmean       6.020886\nstd        1.148943\nmin        1.000000\n25%        5.300000\n50%        6.200000\n75%        6.700000\nmax        9.400000\nName: ratings, dtype: float64"
     },
     "execution_count": 84,
     "metadata": {},
     "output_type": "execute_result"
    }
   ],
   "source": [
    "new_df['ratings'].describe()"
   ]
  },
  {
   "cell_type": "markdown",
   "id": "4c804b90",
   "metadata": {},
   "source": [
    "Most films with grant support have a rating on Kinopoisk less than 7"
   ]
  },
  {
   "cell_type": "markdown",
   "id": "de792663",
   "metadata": {},
   "source": [
    "### Are Kinopoisk rating and box office related?\n"
   ]
  },
  {
   "cell_type": "code",
   "execution_count": 85,
   "id": "ebb0b7fd",
   "metadata": {},
   "outputs": [],
   "source": [
    "def rating_group(rating):\n",
    "    if rating >= 8:\n",
    "        return 'высокий'\n",
    "    elif rating < 5:\n",
    "        return 'низкий'\n",
    "    else:\n",
    "        return 'средний'\n",
    "    \n",
    "new_df['rating_category'] = new_df['ratings'].apply(rating_group)"
   ]
  },
  {
   "cell_type": "code",
   "execution_count": 86,
   "id": "3b57120b",
   "metadata": {},
   "outputs": [
    {
     "data": {
      "text/plain": "<Figure size 432x288 with 1 Axes>",
      "image/png": "[encoded data removed]"
     },
     "metadata": {
      "needs_background": "light"
     },
     "output_type": "display_data"
    },
    {
     "data": {
      "text/plain": "<Figure size 432x288 with 1 Axes>",
      "image/png": "[encoded data removed]"
     },
     "metadata": {
      "needs_background": "light"
     },
     "output_type": "display_data"
    }
   ],
   "source": [
    "new_df.plot(x='ratings',\n",
    "            y='box_office',\n",
    "            kind='scatter'\n",
    "           )\n",
    "\n",
    "new_df.plot(x='ratings',\n",
    "            y='gov_support',\n",
    "            kind='scatter',\n",
    "            color='red'\n",
    "           )\n",
    "plt.show()"
   ]
  },
  {
   "cell_type": "markdown",
   "id": "48eb54cc",
   "metadata": {},
   "source": [
    "So far, there is no obvious correlation.\n",
    "\n",
    "Limit the ratio to more commercially successful films"
   ]
  },
  {
   "cell_type": "code",
   "execution_count": 87,
   "id": "bdd11521",
   "metadata": {},
   "outputs": [
    {
     "data": {
      "text/plain": "<Figure size 432x288 with 1 Axes>",
      "image/png": "[encoded data removed]"
     },
     "metadata": {
      "needs_background": "light"
     },
     "output_type": "display_data"
    }
   ],
   "source": [
    "(new_df\n",
    ".query('ratio_sup_box < 2')\n",
    ".pivot_table(index='rating_category', \n",
    "             values='ratio_sup_box', \n",
    "             aggfunc='median')\n",
    ".plot(kind='bar'))\n",
    "plt.show()"
   ]
  },
  {
   "cell_type": "markdown",
   "id": "c9a489ee",
   "metadata": {},
   "source": [
    "Films with an average rating of the highest have a good ratio of fees and government support.\n",
    "\n",
    "Films with low ratings collect less money."
   ]
  },
  {
   "cell_type": "code",
   "execution_count": 88,
   "id": "9161da15",
   "metadata": {},
   "outputs": [
    {
     "data": {
      "text/plain": "        title   puNumber show_start_date            type  \\\n2146  Главный  111003415      2015-03-27  Художественный   \n\n                   film_studio production_country director producer  \\\n2146  ООО \"Киностудия \"МАСТЕР\"             Россия   Ю.Кара   Ю.Кара   \n\n                    age_restriction  refundable_support  ...  ratings  \\\n2146  «6+» - для детей старше 6 лет                 0.0  ...      9.4   \n\n                         genres box_office  year_show first_producer  \\\n2146  фантастика,боевик,комедия   334750.0       2015         Ю.Кара   \n\n      first_genre  support_share gov_support ratio_sup_box  rating_category  \n2146   фантастика           0.25  10000000.0      29.87304          высокий  \n\n[1 rows x 23 columns]",
      "text/html": "<div>\n<style scoped>\n    .dataframe tbody tr th:only-of-type {\n        vertical-align: middle;\n    }\n\n    .dataframe tbody tr th {\n        vertical-align: top;\n    }\n\n    .dataframe thead th {\n        text-align: right;\n    }\n</style>\n<table border=\"1\" class=\"dataframe\">\n  <thead>\n    <tr style=\"text-align: right;\">\n      <th></th>\n      <th>title</th>\n      <th>puNumber</th>\n      <th>show_start_date</th>\n      <th>type</th>\n      <th>film_studio</th>\n      <th>production_country</th>\n      <th>director</th>\n      <th>producer</th>\n      <th>age_restriction</th>\n      <th>refundable_support</th>\n      <th>...</th>\n      <th>ratings</th>\n      <th>genres</th>\n      <th>box_office</th>\n      <th>year_show</th>\n      <th>first_producer</th>\n      <th>first_genre</th>\n      <th>support_share</th>\n      <th>gov_support</th>\n      <th>ratio_sup_box</th>\n      <th>rating_category</th>\n    </tr>\n  </thead>\n  <tbody>\n    <tr>\n      <th>2146</th>\n      <td>Главный</td>\n      <td>111003415</td>\n      <td>2015-03-27</td>\n      <td>Художественный</td>\n      <td>ООО \"Киностудия \"МАСТЕР\"</td>\n      <td>Россия</td>\n      <td>Ю.Кара</td>\n      <td>Ю.Кара</td>\n      <td>«6+» - для детей старше 6 лет</td>\n      <td>0.0</td>\n      <td>...</td>\n      <td>9.4</td>\n      <td>фантастика,боевик,комедия</td>\n      <td>334750.0</td>\n      <td>2015</td>\n      <td>Ю.Кара</td>\n      <td>фантастика</td>\n      <td>0.25</td>\n      <td>10000000.0</td>\n      <td>29.87304</td>\n      <td>высокий</td>\n    </tr>\n  </tbody>\n</table>\n<p>1 rows × 23 columns</p>\n</div>"
     },
     "execution_count": 88,
     "metadata": {},
     "output_type": "execute_result"
    }
   ],
   "source": [
    "new_df[new_df[\"ratings\"] == new_df[\"ratings\"].max()]"
   ]
  },
  {
   "cell_type": "code",
   "execution_count": 89,
   "id": "6ebb844e",
   "metadata": {},
   "outputs": [
    {
     "data": {
      "text/plain": "                  title   puNumber show_start_date            type  \\\n3515  Взломать блогеров  111016616      2016-10-28  Художественный   \n\n       film_studio production_country     director       producer  \\\n3515  ООО \"ТаББаК\"             Россия  М.Свешников  Т.Бекмамбетов   \n\n                    age_restriction  refundable_support  ...  ratings  \\\n3515  «6+» - для детей старше 6 лет                 0.0  ...      1.0   \n\n                             genres box_office  year_show first_producer  \\\n3515  комедия,мультфильм,фантастика  7323648.0       2016  Т.Бекмамбетов   \n\n      first_genre  support_share gov_support ratio_sup_box  rating_category  \n3515      комедия       0.694131  25000000.0      3.413599           низкий  \n\n[1 rows x 23 columns]",
      "text/html": "<div>\n<style scoped>\n    .dataframe tbody tr th:only-of-type {\n        vertical-align: middle;\n    }\n\n    .dataframe tbody tr th {\n        vertical-align: top;\n    }\n\n    .dataframe thead th {\n        text-align: right;\n    }\n</style>\n<table border=\"1\" class=\"dataframe\">\n  <thead>\n    <tr style=\"text-align: right;\">\n      <th></th>\n      <th>title</th>\n      <th>puNumber</th>\n      <th>show_start_date</th>\n      <th>type</th>\n      <th>film_studio</th>\n      <th>production_country</th>\n      <th>director</th>\n      <th>producer</th>\n      <th>age_restriction</th>\n      <th>refundable_support</th>\n      <th>...</th>\n      <th>ratings</th>\n      <th>genres</th>\n      <th>box_office</th>\n      <th>year_show</th>\n      <th>first_producer</th>\n      <th>first_genre</th>\n      <th>support_share</th>\n      <th>gov_support</th>\n      <th>ratio_sup_box</th>\n      <th>rating_category</th>\n    </tr>\n  </thead>\n  <tbody>\n    <tr>\n      <th>3515</th>\n      <td>Взломать блогеров</td>\n      <td>111016616</td>\n      <td>2016-10-28</td>\n      <td>Художественный</td>\n      <td>ООО \"ТаББаК\"</td>\n      <td>Россия</td>\n      <td>М.Свешников</td>\n      <td>Т.Бекмамбетов</td>\n      <td>«6+» - для детей старше 6 лет</td>\n      <td>0.0</td>\n      <td>...</td>\n      <td>1.0</td>\n      <td>комедия,мультфильм,фантастика</td>\n      <td>7323648.0</td>\n      <td>2016</td>\n      <td>Т.Бекмамбетов</td>\n      <td>комедия</td>\n      <td>0.694131</td>\n      <td>25000000.0</td>\n      <td>3.413599</td>\n      <td>низкий</td>\n    </tr>\n  </tbody>\n</table>\n<p>1 rows × 23 columns</p>\n</div>"
     },
     "execution_count": 89,
     "metadata": {},
     "output_type": "execute_result"
    }
   ],
   "source": [
    "new_df[new_df[\"ratings\"] == new_df[\"ratings\"].min()]"
   ]
  },
  {
   "cell_type": "markdown",
   "id": "f80ec295",
   "metadata": {},
   "source": [
    "- The film with the highest rating - \"Главный\"\n",
    "- From the lowest - \"Взломать блогеров\""
   ]
  },
  {
   "cell_type": "markdown",
   "id": "508ae9fb",
   "metadata": {},
   "source": [
    "### What are the sources of funding"
   ]
  },
  {
   "cell_type": "code",
   "execution_count": 90,
   "id": "788d5fd2",
   "metadata": {},
   "outputs": [
    {
     "data": {
      "text/plain": "                                           sum      median  count\nfinancing_source                                                 \nМинистерство культуры, Фонд кино  1.185431e+09  47751149.5     22\nМинистерство культуры             4.836661e+09  28000000.0    164\nФонд кино                         1.417860e+10  60000000.0    146",
      "text/html": "<div>\n<style scoped>\n    .dataframe tbody tr th:only-of-type {\n        vertical-align: middle;\n    }\n\n    .dataframe tbody tr th {\n        vertical-align: top;\n    }\n\n    .dataframe thead th {\n        text-align: right;\n    }\n</style>\n<table border=\"1\" class=\"dataframe\">\n  <thead>\n    <tr style=\"text-align: right;\">\n      <th></th>\n      <th>sum</th>\n      <th>median</th>\n      <th>count</th>\n    </tr>\n    <tr>\n      <th>financing_source</th>\n      <th></th>\n      <th></th>\n      <th></th>\n    </tr>\n  </thead>\n  <tbody>\n    <tr>\n      <th>Министерство культуры, Фонд кино</th>\n      <td>1.185431e+09</td>\n      <td>47751149.5</td>\n      <td>22</td>\n    </tr>\n    <tr>\n      <th>Министерство культуры</th>\n      <td>4.836661e+09</td>\n      <td>28000000.0</td>\n      <td>164</td>\n    </tr>\n    <tr>\n      <th>Фонд кино</th>\n      <td>1.417860e+10</td>\n      <td>60000000.0</td>\n      <td>146</td>\n    </tr>\n  </tbody>\n</table>\n</div>"
     },
     "execution_count": 90,
     "metadata": {},
     "output_type": "execute_result"
    }
   ],
   "source": [
    "financing_source_pivot = new_df.pivot_table(index='financing_source',\n",
    "                                         values='gov_support',\n",
    "                                         aggfunc=['sum', 'median', 'count'])\n",
    "financing_source_pivot.columns = ['sum', 'median', 'count']\n",
    "\n",
    "financing_source_pivot.sort_values(by='sum')"
   ]
  },
  {
   "cell_type": "markdown",
   "id": "902c2405",
   "metadata": {},
   "source": [
    "There are 2 main sources of funding, or the film may be co-financed.\n",
    "\n",
    "- More money is allocated by the Film Fund.\n",
    "- More films are financed by the Ministry of Culture.\n"
   ]
  },
  {
   "cell_type": "code",
   "execution_count": 91,
   "id": "2181faff",
   "metadata": {},
   "outputs": [
    {
     "data": {
      "text/plain": "<Figure size 632.25x864 with 7 Axes>",
      "image/png": "[encoded data removed]"
     },
     "metadata": {
      "needs_background": "light"
     },
     "output_type": "display_data"
    }
   ],
   "source": [
    "vis2 = sns.lmplot(data=new_df,\n",
    "                  x='gov_support',\n",
    "                  y='box_office',\n",
    "                  fit_reg=False,\n",
    "                  col='year_show',\n",
    "                  hue='financing_source',\n",
    "                  aspect=1,\n",
    "                  col_wrap=2,\n",
    "                  height=3)"
   ]
  },
  {
   "cell_type": "markdown",
   "id": "75a78b5c",
   "metadata": {},
   "source": [
    "There is no strong correlation between funding source and fees. The films of the Cinema Fund have higher fees, although in 2016 and 2018 the Ministry of Culture had higher"
   ]
  },
  {
   "cell_type": "markdown",
   "id": "4a8c56a2",
   "metadata": {},
   "source": [
    "### Which studios receive the most funding"
   ]
  },
  {
   "cell_type": "code",
   "execution_count": 92,
   "id": "d0ab4465",
   "metadata": {},
   "outputs": [
    {
     "data": {
      "text/plain": "                                           count_box_office  \\\nfilm_studio                                                   \nООО \"Студия анимационного кино \"Мельница\"                 7   \nООО \"Кинокомпания \"СТВ\"                                   6   \nООО \"ТаББаК\"                                              6   \nООО \"ВИЗАРТ ФИЛЬМ\"                                        4   \nООО \"Продюсерский центр \"Ленфильм\"                        4   \n\n                                           count_gov_support  \\\nfilm_studio                                                    \nООО \"Студия анимационного кино \"Мельница\"                  7   \nООО \"Кинокомпания \"СТВ\"                                    6   \nООО \"ТаББаК\"                                               6   \nООО \"ВИЗАРТ ФИЛЬМ\"                                         4   \nООО \"Продюсерский центр \"Ленфильм\"                         4   \n\n                                           median_box_office  \\\nfilm_studio                                                    \nООО \"Студия анимационного кино \"Мельница\"       5.010692e+08   \nООО \"Кинокомпания \"СТВ\"                         9.370097e+06   \nООО \"ТаББаК\"                                    4.957153e+08   \nООО \"ВИЗАРТ ФИЛЬМ\"                              1.467568e+08   \nООО \"Продюсерский центр \"Ленфильм\"              4.660821e+06   \n\n                                           median_gov_support  \nfilm_studio                                                    \nООО \"Студия анимационного кино \"Мельница\"          75000000.0  \nООО \"Кинокомпания \"СТВ\"                            22500000.0  \nООО \"ТаББаК\"                                      100000000.0  \nООО \"ВИЗАРТ ФИЛЬМ\"                                120000000.0  \nООО \"Продюсерский центр \"Ленфильм\"                 27500000.0  ",
      "text/html": "<div>\n<style scoped>\n    .dataframe tbody tr th:only-of-type {\n        vertical-align: middle;\n    }\n\n    .dataframe tbody tr th {\n        vertical-align: top;\n    }\n\n    .dataframe thead th {\n        text-align: right;\n    }\n</style>\n<table border=\"1\" class=\"dataframe\">\n  <thead>\n    <tr style=\"text-align: right;\">\n      <th></th>\n      <th>count_box_office</th>\n      <th>count_gov_support</th>\n      <th>median_box_office</th>\n      <th>median_gov_support</th>\n    </tr>\n    <tr>\n      <th>film_studio</th>\n      <th></th>\n      <th></th>\n      <th></th>\n      <th></th>\n    </tr>\n  </thead>\n  <tbody>\n    <tr>\n      <th>ООО \"Студия анимационного кино \"Мельница\"</th>\n      <td>7</td>\n      <td>7</td>\n      <td>5.010692e+08</td>\n      <td>75000000.0</td>\n    </tr>\n    <tr>\n      <th>ООО \"Кинокомпания \"СТВ\"</th>\n      <td>6</td>\n      <td>6</td>\n      <td>9.370097e+06</td>\n      <td>22500000.0</td>\n    </tr>\n    <tr>\n      <th>ООО \"ТаББаК\"</th>\n      <td>6</td>\n      <td>6</td>\n      <td>4.957153e+08</td>\n      <td>100000000.0</td>\n    </tr>\n    <tr>\n      <th>ООО \"ВИЗАРТ ФИЛЬМ\"</th>\n      <td>4</td>\n      <td>4</td>\n      <td>1.467568e+08</td>\n      <td>120000000.0</td>\n    </tr>\n    <tr>\n      <th>ООО \"Продюсерский центр \"Ленфильм\"</th>\n      <td>4</td>\n      <td>4</td>\n      <td>4.660821e+06</td>\n      <td>27500000.0</td>\n    </tr>\n  </tbody>\n</table>\n</div>"
     },
     "execution_count": 92,
     "metadata": {},
     "output_type": "execute_result"
    }
   ],
   "source": [
    "studio_pivot = new_df.pivot_table(index='film_studio', values=['gov_support', 'box_office'], aggfunc=['count', 'median'])\n",
    "studio_pivot.columns = ['count_box_office', 'count_gov_support', 'median_box_office', 'median_gov_support']\n",
    "studio_pivot.sort_values(by='count_box_office', ascending=False).query('count_box_office > 1').head(5)\n"
   ]
  },
  {
   "cell_type": "code",
   "execution_count": 93,
   "id": "ff0f4509",
   "metadata": {},
   "outputs": [
    {
     "data": {
      "text/plain": "                                                   count_box_office  \\\nfilm_studio                                                           \nООО \"Студия \"ТРИТЭ\" Никиты Михалкова\"                             2   \nООО \"Студия анимационного кино \"Мельница\"                         7   \nООО \"ТаББаК\"                                                      6   \nООО \"Киностудия \"Слово\", ООО \"Арт Пикчерс Студия\"                 2   \nООО \"Пиманов и партнеры\"                                          3   \n\n                                                   count_gov_support  \\\nfilm_studio                                                            \nООО \"Студия \"ТРИТЭ\" Никиты Михалкова\"                              2   \nООО \"Студия анимационного кино \"Мельница\"                          7   \nООО \"ТаББаК\"                                                       6   \nООО \"Киностудия \"Слово\", ООО \"Арт Пикчерс Студия\"                  2   \nООО \"Пиманов и партнеры\"                                           3   \n\n                                                   median_box_office  \\\nfilm_studio                                                            \nООО \"Студия \"ТРИТЭ\" Никиты Михалкова\"                   2.090971e+09   \nООО \"Студия анимационного кино \"Мельница\"               5.010692e+08   \nООО \"ТаББаК\"                                            4.957153e+08   \nООО \"Киностудия \"Слово\", ООО \"Арт Пикчерс Студия\"       3.356800e+08   \nООО \"Пиманов и партнеры\"                                2.535752e+08   \n\n                                                   median_gov_support  \nfilm_studio                                                            \nООО \"Студия \"ТРИТЭ\" Никиты Михалкова\"                     421052241.0  \nООО \"Студия анимационного кино \"Мельница\"                  75000000.0  \nООО \"ТаББаК\"                                              100000000.0  \nООО \"Киностудия \"Слово\", ООО \"Арт Пикчерс Студия\"          67500000.0  \nООО \"Пиманов и партнеры\"                                   50000000.0  ",
      "text/html": "<div>\n<style scoped>\n    .dataframe tbody tr th:only-of-type {\n        vertical-align: middle;\n    }\n\n    .dataframe tbody tr th {\n        vertical-align: top;\n    }\n\n    .dataframe thead th {\n        text-align: right;\n    }\n</style>\n<table border=\"1\" class=\"dataframe\">\n  <thead>\n    <tr style=\"text-align: right;\">\n      <th></th>\n      <th>count_box_office</th>\n      <th>count_gov_support</th>\n      <th>median_box_office</th>\n      <th>median_gov_support</th>\n    </tr>\n    <tr>\n      <th>film_studio</th>\n      <th></th>\n      <th></th>\n      <th></th>\n      <th></th>\n    </tr>\n  </thead>\n  <tbody>\n    <tr>\n      <th>ООО \"Студия \"ТРИТЭ\" Никиты Михалкова\"</th>\n      <td>2</td>\n      <td>2</td>\n      <td>2.090971e+09</td>\n      <td>421052241.0</td>\n    </tr>\n    <tr>\n      <th>ООО \"Студия анимационного кино \"Мельница\"</th>\n      <td>7</td>\n      <td>7</td>\n      <td>5.010692e+08</td>\n      <td>75000000.0</td>\n    </tr>\n    <tr>\n      <th>ООО \"ТаББаК\"</th>\n      <td>6</td>\n      <td>6</td>\n      <td>4.957153e+08</td>\n      <td>100000000.0</td>\n    </tr>\n    <tr>\n      <th>ООО \"Киностудия \"Слово\", ООО \"Арт Пикчерс Студия\"</th>\n      <td>2</td>\n      <td>2</td>\n      <td>3.356800e+08</td>\n      <td>67500000.0</td>\n    </tr>\n    <tr>\n      <th>ООО \"Пиманов и партнеры\"</th>\n      <td>3</td>\n      <td>3</td>\n      <td>2.535752e+08</td>\n      <td>50000000.0</td>\n    </tr>\n  </tbody>\n</table>\n</div>"
     },
     "execution_count": 93,
     "metadata": {},
     "output_type": "execute_result"
    }
   ],
   "source": [
    "studio_pivot.sort_values(by='median_box_office', ascending=False).query('count_box_office > 1').head(5)"
   ]
  },
  {
   "cell_type": "code",
   "execution_count": 94,
   "id": "c3812157",
   "metadata": {},
   "outputs": [
    {
     "data": {
      "text/plain": "                                           count_box_office  \\\nfilm_studio                                                   \nООО \"Студия \"ТРИТЭ\" Никиты Михалкова\"                     2   \nООО \"Нон-Стоп Продакшн\"                                   3   \nООО \"Продюсерская фирма Игоря Толстунова\"                 2   \nООО \"ВИЗАРТ ФИЛЬМ\"                                        4   \nООО \"ТаББаК\"                                              6   \n\n                                           count_gov_support  \\\nfilm_studio                                                    \nООО \"Студия \"ТРИТЭ\" Никиты Михалкова\"                      2   \nООО \"Нон-Стоп Продакшн\"                                    3   \nООО \"Продюсерская фирма Игоря Толстунова\"                  2   \nООО \"ВИЗАРТ ФИЛЬМ\"                                         4   \nООО \"ТаББаК\"                                               6   \n\n                                           median_box_office  \\\nfilm_studio                                                    \nООО \"Студия \"ТРИТЭ\" Никиты Михалкова\"           2.090971e+09   \nООО \"Нон-Стоп Продакшн\"                         8.812004e+07   \nООО \"Продюсерская фирма Игоря Толстунова\"       2.086798e+08   \nООО \"ВИЗАРТ ФИЛЬМ\"                              1.467568e+08   \nООО \"ТаББаК\"                                    4.957153e+08   \n\n                                           median_gov_support  \nfilm_studio                                                    \nООО \"Студия \"ТРИТЭ\" Никиты Михалкова\"             421052241.0  \nООО \"Нон-Стоп Продакшн\"                           300000000.0  \nООО \"Продюсерская фирма Игоря Толстунова\"         177500000.0  \nООО \"ВИЗАРТ ФИЛЬМ\"                                120000000.0  \nООО \"ТаББаК\"                                      100000000.0  ",
      "text/html": "<div>\n<style scoped>\n    .dataframe tbody tr th:only-of-type {\n        vertical-align: middle;\n    }\n\n    .dataframe tbody tr th {\n        vertical-align: top;\n    }\n\n    .dataframe thead th {\n        text-align: right;\n    }\n</style>\n<table border=\"1\" class=\"dataframe\">\n  <thead>\n    <tr style=\"text-align: right;\">\n      <th></th>\n      <th>count_box_office</th>\n      <th>count_gov_support</th>\n      <th>median_box_office</th>\n      <th>median_gov_support</th>\n    </tr>\n    <tr>\n      <th>film_studio</th>\n      <th></th>\n      <th></th>\n      <th></th>\n      <th></th>\n    </tr>\n  </thead>\n  <tbody>\n    <tr>\n      <th>ООО \"Студия \"ТРИТЭ\" Никиты Михалкова\"</th>\n      <td>2</td>\n      <td>2</td>\n      <td>2.090971e+09</td>\n      <td>421052241.0</td>\n    </tr>\n    <tr>\n      <th>ООО \"Нон-Стоп Продакшн\"</th>\n      <td>3</td>\n      <td>3</td>\n      <td>8.812004e+07</td>\n      <td>300000000.0</td>\n    </tr>\n    <tr>\n      <th>ООО \"Продюсерская фирма Игоря Толстунова\"</th>\n      <td>2</td>\n      <td>2</td>\n      <td>2.086798e+08</td>\n      <td>177500000.0</td>\n    </tr>\n    <tr>\n      <th>ООО \"ВИЗАРТ ФИЛЬМ\"</th>\n      <td>4</td>\n      <td>4</td>\n      <td>1.467568e+08</td>\n      <td>120000000.0</td>\n    </tr>\n    <tr>\n      <th>ООО \"ТаББаК\"</th>\n      <td>6</td>\n      <td>6</td>\n      <td>4.957153e+08</td>\n      <td>100000000.0</td>\n    </tr>\n  </tbody>\n</table>\n</div>"
     },
     "execution_count": 94,
     "metadata": {},
     "output_type": "execute_result"
    }
   ],
   "source": [
    "studio_pivot.sort_values(by='median_gov_support', ascending=False).query('count_box_office > 1').head(5)"
   ]
  },
  {
   "cell_type": "markdown",
   "id": "33b2ad8d",
   "metadata": {},
   "source": [
    "Top 3 film studios by the number of supported films:\n",
    "- ООО \"Студия анимационного кино \"Мельница\"\n",
    "- ООО \"Кинокомпания \"СТВ\"\n",
    "- ООО \"ТаББаК\"\t\n",
    "\n",
    "Top 3 film studios by box office:\n",
    "- ООО \"Студия \"ТРИТЭ\" Никиты Михалкова\"\n",
    "- ООО \"Студия анимационного кино \"Мельница\"\n",
    "- ООО \"ТаББаК\"\t\n",
    "\n",
    "Top 3 film studios by amount of government support:\n",
    "- ООО \"Студия \"ТРИТЭ\" Никиты Михалкова\"\n",
    "- ООО \"Нон-Стоп Продакшн\"\t\n",
    "- ООО \"Продюсерская фирма Игоря Толстунова\"\t"
   ]
  },
  {
   "cell_type": "markdown",
   "id": "c40e2845",
   "metadata": {},
   "source": [
    "### Box office Comparison"
   ]
  },
  {
   "cell_type": "code",
   "execution_count": 95,
   "id": "28952752",
   "metadata": {},
   "outputs": [
    {
     "data": {
      "text/plain": "                  title   puNumber show_start_date            type  \\\n0      Открытый простор  221048915      2015-11-27  Художественный   \n1  Особо важное задание  111013716      2016-09-13  Художественный   \n2          Особо опасен  221038416      2016-10-10  Художественный   \n3          Особо опасен  221026916      2016-06-10  Художественный   \n4          Особо опасен  221030815      2015-07-29  Художественный   \n\n                                         film_studio production_country  \\\n0  Тачстоун Пикчерз, Кобальт Пикчерз, Бикон Пикче...                США   \n1                              Киностудия \"Мосфильм\"               СССР   \n2  Юниверсал Пикчерз, Кикстарт Продакшнз, Марк Пл...                США   \n3  Юниверсал Пикчерз, Кикстарт Продакшнз, Марк Пл...                США   \n4  Юниверсал Пикчерз, Кикстарт Продакшнз, Марк Пл...                США   \n\n            director                                           producer  \\\n0      Кевин Костнер          Дэвид Валдес, Кевин Костнер, Джейк Эбертс   \n1          Е.Матвеев                                            Unknown   \n2  Тимур Бекмамбетов  Джим Лемли, Джейсон Нетер, Марк Е.Платт, Яйн Смит   \n3  Тимур Бекмамбетов  Джим Лемли, Джейсон Нетер, Марк Е.Платт, Яйн Смит   \n4  Тимур Бекмамбетов  Джим Лемли, Джейсон Нетер, Марк Е.Платт, Яйн Смит   \n\n                 age_restriction  refundable_support  nonrefundable_support  \\\n0    «18+» - запрещено для детей                 NaN                    NaN   \n1  «6+» - для детей старше 6 лет                 NaN                    NaN   \n2    «18+» - запрещено для детей                 NaN                    NaN   \n3    «18+» - запрещено для детей                 NaN                    NaN   \n4    «18+» - запрещено для детей                 NaN                    NaN   \n\n   budget financing_source  ratings                     genres  box_office  \\\n0     NaN              NaN      7.2     боевик,драма,мелодрама         NaN   \n1     NaN              NaN      6.6              драма,военный         NaN   \n2     NaN              NaN      6.8  фантастика,боевик,триллер         NaN   \n3     NaN              NaN      6.8  фантастика,боевик,триллер         NaN   \n4     NaN              NaN      6.8  фантастика,боевик,триллер         NaN   \n\n   year_show first_producer first_genre  support_share  \n0       2015   Дэвид Валдес      боевик            NaN  \n1       2016        Unknown       драма            NaN  \n2       2016     Джим Лемли  фантастика            NaN  \n3       2016     Джим Лемли  фантастика            NaN  \n4       2015     Джим Лемли  фантастика            NaN  ",
      "text/html": "<div>\n<style scoped>\n    .dataframe tbody tr th:only-of-type {\n        vertical-align: middle;\n    }\n\n    .dataframe tbody tr th {\n        vertical-align: top;\n    }\n\n    .dataframe thead th {\n        text-align: right;\n    }\n</style>\n<table border=\"1\" class=\"dataframe\">\n  <thead>\n    <tr style=\"text-align: right;\">\n      <th></th>\n      <th>title</th>\n      <th>puNumber</th>\n      <th>show_start_date</th>\n      <th>type</th>\n      <th>film_studio</th>\n      <th>production_country</th>\n      <th>director</th>\n      <th>producer</th>\n      <th>age_restriction</th>\n      <th>refundable_support</th>\n      <th>nonrefundable_support</th>\n      <th>budget</th>\n      <th>financing_source</th>\n      <th>ratings</th>\n      <th>genres</th>\n      <th>box_office</th>\n      <th>year_show</th>\n      <th>first_producer</th>\n      <th>first_genre</th>\n      <th>support_share</th>\n    </tr>\n  </thead>\n  <tbody>\n    <tr>\n      <th>0</th>\n      <td>Открытый простор</td>\n      <td>221048915</td>\n      <td>2015-11-27</td>\n      <td>Художественный</td>\n      <td>Тачстоун Пикчерз, Кобальт Пикчерз, Бикон Пикче...</td>\n      <td>США</td>\n      <td>Кевин Костнер</td>\n      <td>Дэвид Валдес, Кевин Костнер, Джейк Эбертс</td>\n      <td>«18+» - запрещено для детей</td>\n      <td>NaN</td>\n      <td>NaN</td>\n      <td>NaN</td>\n      <td>NaN</td>\n      <td>7.2</td>\n      <td>боевик,драма,мелодрама</td>\n      <td>NaN</td>\n      <td>2015</td>\n      <td>Дэвид Валдес</td>\n      <td>боевик</td>\n      <td>NaN</td>\n    </tr>\n    <tr>\n      <th>1</th>\n      <td>Особо важное задание</td>\n      <td>111013716</td>\n      <td>2016-09-13</td>\n      <td>Художественный</td>\n      <td>Киностудия \"Мосфильм\"</td>\n      <td>СССР</td>\n      <td>Е.Матвеев</td>\n      <td>Unknown</td>\n      <td>«6+» - для детей старше 6 лет</td>\n      <td>NaN</td>\n      <td>NaN</td>\n      <td>NaN</td>\n      <td>NaN</td>\n      <td>6.6</td>\n      <td>драма,военный</td>\n      <td>NaN</td>\n      <td>2016</td>\n      <td>Unknown</td>\n      <td>драма</td>\n      <td>NaN</td>\n    </tr>\n    <tr>\n      <th>2</th>\n      <td>Особо опасен</td>\n      <td>221038416</td>\n      <td>2016-10-10</td>\n      <td>Художественный</td>\n      <td>Юниверсал Пикчерз, Кикстарт Продакшнз, Марк Пл...</td>\n      <td>США</td>\n      <td>Тимур Бекмамбетов</td>\n      <td>Джим Лемли, Джейсон Нетер, Марк Е.Платт, Яйн Смит</td>\n      <td>«18+» - запрещено для детей</td>\n      <td>NaN</td>\n      <td>NaN</td>\n      <td>NaN</td>\n      <td>NaN</td>\n      <td>6.8</td>\n      <td>фантастика,боевик,триллер</td>\n      <td>NaN</td>\n      <td>2016</td>\n      <td>Джим Лемли</td>\n      <td>фантастика</td>\n      <td>NaN</td>\n    </tr>\n    <tr>\n      <th>3</th>\n      <td>Особо опасен</td>\n      <td>221026916</td>\n      <td>2016-06-10</td>\n      <td>Художественный</td>\n      <td>Юниверсал Пикчерз, Кикстарт Продакшнз, Марк Пл...</td>\n      <td>США</td>\n      <td>Тимур Бекмамбетов</td>\n      <td>Джим Лемли, Джейсон Нетер, Марк Е.Платт, Яйн Смит</td>\n      <td>«18+» - запрещено для детей</td>\n      <td>NaN</td>\n      <td>NaN</td>\n      <td>NaN</td>\n      <td>NaN</td>\n      <td>6.8</td>\n      <td>фантастика,боевик,триллер</td>\n      <td>NaN</td>\n      <td>2016</td>\n      <td>Джим Лемли</td>\n      <td>фантастика</td>\n      <td>NaN</td>\n    </tr>\n    <tr>\n      <th>4</th>\n      <td>Особо опасен</td>\n      <td>221030815</td>\n      <td>2015-07-29</td>\n      <td>Художественный</td>\n      <td>Юниверсал Пикчерз, Кикстарт Продакшнз, Марк Пл...</td>\n      <td>США</td>\n      <td>Тимур Бекмамбетов</td>\n      <td>Джим Лемли, Джейсон Нетер, Марк Е.Платт, Яйн Смит</td>\n      <td>«18+» - запрещено для детей</td>\n      <td>NaN</td>\n      <td>NaN</td>\n      <td>NaN</td>\n      <td>NaN</td>\n      <td>6.8</td>\n      <td>фантастика,боевик,триллер</td>\n      <td>NaN</td>\n      <td>2015</td>\n      <td>Джим Лемли</td>\n      <td>фантастика</td>\n      <td>NaN</td>\n    </tr>\n  </tbody>\n</table>\n</div>"
     },
     "execution_count": 95,
     "metadata": {},
     "output_type": "execute_result"
    }
   ],
   "source": [
    "no_sup_df = total_df[total_df['budget'].isna()]\n",
    "no_sup_df.head()"
   ]
  },
  {
   "cell_type": "code",
   "execution_count": 96,
   "id": "2910f5ef",
   "metadata": {},
   "outputs": [
    {
     "data": {
      "text/plain": "count    2.839000e+03\nmean     7.023817e+07\nstd      2.266011e+08\nmin      0.000000e+00\n25%      5.122200e+04\n50%      1.967378e+06\n75%      1.910707e+07\nmax      2.576614e+09\nName: box_office, dtype: float64"
     },
     "execution_count": 96,
     "metadata": {},
     "output_type": "execute_result"
    }
   ],
   "source": [
    "no_sup_df['box_office'].describe()"
   ]
  },
  {
   "cell_type": "code",
   "execution_count": 97,
   "id": "31b8a0b5",
   "metadata": {},
   "outputs": [
    {
     "data": {
      "text/plain": "count    3.180000e+02\nmean     1.324324e+08\nstd      3.348379e+08\nmin      1.550000e+03\n25%      1.236676e+06\n50%      1.572007e+07\n75%      1.063730e+08\nmax      3.073569e+09\nName: box_office, dtype: float64"
     },
     "execution_count": 97,
     "metadata": {},
     "output_type": "execute_result"
    }
   ],
   "source": [
    "new_df['box_office'].describe()"
   ]
  },
  {
   "cell_type": "markdown",
   "id": "60bc9c7a",
   "metadata": {},
   "source": [
    "У фильмов с гос.поддержкой медианное значение сборов выше"
   ]
  },
  {
   "cell_type": "markdown",
   "id": "1561dad9",
   "metadata": {},
   "source": [
    "**Resume**\n",
    "\n",
    "1. Since 2016, the number of state-supported films is about 60 films every year.\n",
    "2. During the period of 2013-2019, 301 feature films were supported.\n",
    "3. The amount of the grant does not depend on the age category of the film. The maximum amount was allocated for films 6+.\n",
    "4. Maximum support for \"dramas\": 5.3 billion rubles, 93 films. Minimum support for \"real TV\": 53 million rubles, 1 film.\n",
    "5. Average rating - 6.2\n",
    "6. The Cinema Fund allocated 14 billion rubles, the Ministry of Culture - 4.8 billion rubles\n",
    "7. Average receipts for films with state funding - 16 million rubles, without government funding - 2 million rubles"
   ]
  },
  {
   "cell_type": "markdown",
   "id": "3f0be7db",
   "metadata": {},
   "source": [
    "## Conclusion\n"
   ]
  },
  {
   "cell_type": "markdown",
   "id": "94b8922c",
   "metadata": {},
   "source": [
    "Data on the Russian film distribution market was received. Part of the data on the budget and collections is missing (more than 60%).\n",
    "1. The most successful year in terms of box office - 2018\n",
    "2. Films with 16+ and 6+ categories have the highest box office\n",
    "\n",
    "**Analysis of government-supported films**\n",
    "1. Less than 50% of government-supported films make money at the box office\n",
    "2. The average amount of allocated funds is 40 million rubles\n",
    "3. Film box office does not depend on government support\n",
    "4. Most Supported Movies - Feature and Animation\n",
    "5. The most profitable films in the category 0+ and 6+\n",
    "6. Comedies and dramas get the most money, but sports and biography make the most money.\n",
    "7. On average, the rating of films with state support is less than 7. The highest fees are for films with an average rating.\n",
    "8. The Cinema Fund has higher fees and the amount of the allocated budget.\n",
    "\n",
    "**Government-supported films were found to have higher grossing averages. Most of these films have average ratings, but there are also hits. In general, financed Russian films are quite popular.**"
   ]
  },
  {
   "cell_type": "code",
   "execution_count": 97,
   "outputs": [],
   "source": [],
   "metadata": {
    "collapsed": false
   }
  }
 ],
 "metadata": {
  "ExecuteTimeLog": [
   {
    "duration": 1580,
    "start_time": "2022-04-25T06:13:47.542Z"
   },
   {
    "duration": 0,
    "start_time": "2022-04-25T06:13:49.128Z"
   },
   {
    "duration": 0,
    "start_time": "2022-04-25T06:13:49.129Z"
   },
   {
    "duration": 0,
    "start_time": "2022-04-25T06:13:49.131Z"
   },
   {
    "duration": 0,
    "start_time": "2022-04-25T06:13:49.132Z"
   },
   {
    "duration": 0,
    "start_time": "2022-04-25T06:13:49.134Z"
   },
   {
    "duration": 0,
    "start_time": "2022-04-25T06:13:49.135Z"
   },
   {
    "duration": 0,
    "start_time": "2022-04-25T06:13:49.136Z"
   },
   {
    "duration": 0,
    "start_time": "2022-04-25T06:13:49.137Z"
   },
   {
    "duration": 0,
    "start_time": "2022-04-25T06:13:49.138Z"
   },
   {
    "duration": 0,
    "start_time": "2022-04-25T06:13:49.140Z"
   },
   {
    "duration": 0,
    "start_time": "2022-04-25T06:13:49.141Z"
   },
   {
    "duration": 0,
    "start_time": "2022-04-25T06:13:49.144Z"
   },
   {
    "duration": 0,
    "start_time": "2022-04-25T06:13:49.145Z"
   },
   {
    "duration": 0,
    "start_time": "2022-04-25T06:13:49.146Z"
   },
   {
    "duration": 0,
    "start_time": "2022-04-25T06:13:49.147Z"
   },
   {
    "duration": 0,
    "start_time": "2022-04-25T06:13:49.148Z"
   },
   {
    "duration": 0,
    "start_time": "2022-04-25T06:13:49.149Z"
   },
   {
    "duration": 0,
    "start_time": "2022-04-25T06:13:49.150Z"
   },
   {
    "duration": 0,
    "start_time": "2022-04-25T06:13:49.151Z"
   },
   {
    "duration": 0,
    "start_time": "2022-04-25T06:13:49.152Z"
   },
   {
    "duration": 0,
    "start_time": "2022-04-25T06:13:49.153Z"
   },
   {
    "duration": 0,
    "start_time": "2022-04-25T06:13:49.155Z"
   },
   {
    "duration": 0,
    "start_time": "2022-04-25T06:13:49.193Z"
   },
   {
    "duration": 0,
    "start_time": "2022-04-25T06:13:49.194Z"
   },
   {
    "duration": 0,
    "start_time": "2022-04-25T06:13:49.195Z"
   },
   {
    "duration": 0,
    "start_time": "2022-04-25T06:13:49.197Z"
   },
   {
    "duration": 0,
    "start_time": "2022-04-25T06:13:49.197Z"
   },
   {
    "duration": 0,
    "start_time": "2022-04-25T06:13:49.198Z"
   },
   {
    "duration": 0,
    "start_time": "2022-04-25T06:13:49.200Z"
   },
   {
    "duration": 0,
    "start_time": "2022-04-25T06:13:49.201Z"
   },
   {
    "duration": 0,
    "start_time": "2022-04-25T06:13:49.202Z"
   },
   {
    "duration": 0,
    "start_time": "2022-04-25T06:13:49.203Z"
   },
   {
    "duration": 0,
    "start_time": "2022-04-25T06:13:49.205Z"
   },
   {
    "duration": 0,
    "start_time": "2022-04-25T06:13:49.207Z"
   },
   {
    "duration": 0,
    "start_time": "2022-04-25T06:13:49.208Z"
   },
   {
    "duration": 0,
    "start_time": "2022-04-25T06:13:49.208Z"
   },
   {
    "duration": 0,
    "start_time": "2022-04-25T06:13:49.210Z"
   },
   {
    "duration": 0,
    "start_time": "2022-04-25T06:13:49.211Z"
   },
   {
    "duration": 0,
    "start_time": "2022-04-25T06:13:49.212Z"
   },
   {
    "duration": 0,
    "start_time": "2022-04-25T06:13:49.213Z"
   },
   {
    "duration": 0,
    "start_time": "2022-04-25T06:13:49.214Z"
   },
   {
    "duration": 0,
    "start_time": "2022-04-25T06:13:49.215Z"
   },
   {
    "duration": 0,
    "start_time": "2022-04-25T06:13:49.216Z"
   },
   {
    "duration": 0,
    "start_time": "2022-04-25T06:13:49.217Z"
   },
   {
    "duration": 0,
    "start_time": "2022-04-25T06:13:49.218Z"
   },
   {
    "duration": 0,
    "start_time": "2022-04-25T06:13:49.220Z"
   },
   {
    "duration": 0,
    "start_time": "2022-04-25T06:13:49.221Z"
   },
   {
    "duration": 0,
    "start_time": "2022-04-25T06:13:49.222Z"
   },
   {
    "duration": 0,
    "start_time": "2022-04-25T06:13:49.223Z"
   },
   {
    "duration": 0,
    "start_time": "2022-04-25T06:13:49.224Z"
   },
   {
    "duration": 0,
    "start_time": "2022-04-25T06:13:49.225Z"
   },
   {
    "duration": 0,
    "start_time": "2022-04-25T06:13:49.226Z"
   },
   {
    "duration": 0,
    "start_time": "2022-04-25T06:13:49.227Z"
   },
   {
    "duration": 0,
    "start_time": "2022-04-25T06:13:49.228Z"
   },
   {
    "duration": 0,
    "start_time": "2022-04-25T06:13:49.229Z"
   },
   {
    "duration": 0,
    "start_time": "2022-04-25T06:13:49.230Z"
   },
   {
    "duration": 0,
    "start_time": "2022-04-25T06:13:49.292Z"
   },
   {
    "duration": 0,
    "start_time": "2022-04-25T06:13:49.293Z"
   },
   {
    "duration": 0,
    "start_time": "2022-04-25T06:13:49.294Z"
   },
   {
    "duration": 0,
    "start_time": "2022-04-25T06:13:49.296Z"
   },
   {
    "duration": 0,
    "start_time": "2022-04-25T06:13:49.297Z"
   },
   {
    "duration": 0,
    "start_time": "2022-04-25T06:13:49.298Z"
   },
   {
    "duration": 0,
    "start_time": "2022-04-25T06:13:49.299Z"
   },
   {
    "duration": 0,
    "start_time": "2022-04-25T06:13:49.301Z"
   },
   {
    "duration": 0,
    "start_time": "2022-04-25T06:13:49.302Z"
   },
   {
    "duration": 0,
    "start_time": "2022-04-25T06:13:49.303Z"
   },
   {
    "duration": 0,
    "start_time": "2022-04-25T06:13:49.304Z"
   },
   {
    "duration": 0,
    "start_time": "2022-04-25T06:13:49.305Z"
   },
   {
    "duration": 0,
    "start_time": "2022-04-25T06:13:49.306Z"
   },
   {
    "duration": 0,
    "start_time": "2022-04-25T06:13:49.307Z"
   },
   {
    "duration": 0,
    "start_time": "2022-04-25T06:13:49.308Z"
   },
   {
    "duration": 0,
    "start_time": "2022-04-25T06:13:49.309Z"
   },
   {
    "duration": 0,
    "start_time": "2022-04-25T06:13:49.310Z"
   },
   {
    "duration": 0,
    "start_time": "2022-04-25T06:13:49.311Z"
   },
   {
    "duration": 0,
    "start_time": "2022-04-25T06:13:49.312Z"
   },
   {
    "duration": 0,
    "start_time": "2022-04-25T06:13:49.313Z"
   },
   {
    "duration": 0,
    "start_time": "2022-04-25T06:13:49.314Z"
   },
   {
    "duration": 0,
    "start_time": "2022-04-25T06:13:49.315Z"
   },
   {
    "duration": 0,
    "start_time": "2022-04-25T06:13:49.316Z"
   },
   {
    "duration": 0,
    "start_time": "2022-04-25T06:13:49.318Z"
   },
   {
    "duration": 0,
    "start_time": "2022-04-25T06:13:49.319Z"
   },
   {
    "duration": 0,
    "start_time": "2022-04-25T06:13:49.320Z"
   },
   {
    "duration": 0,
    "start_time": "2022-04-25T06:13:49.321Z"
   },
   {
    "duration": 0,
    "start_time": "2022-04-25T06:13:49.322Z"
   },
   {
    "duration": 0,
    "start_time": "2022-04-25T06:13:49.323Z"
   },
   {
    "duration": 0,
    "start_time": "2022-04-25T06:13:49.324Z"
   },
   {
    "duration": 0,
    "start_time": "2022-04-25T06:13:49.325Z"
   },
   {
    "duration": 16,
    "start_time": "2022-04-25T06:20:04.632Z"
   },
   {
    "duration": 102,
    "start_time": "2022-04-25T06:20:25.298Z"
   },
   {
    "duration": 11,
    "start_time": "2022-04-25T06:20:26.107Z"
   },
   {
    "duration": 24,
    "start_time": "2022-04-25T06:21:27.464Z"
   },
   {
    "duration": 21,
    "start_time": "2022-04-25T06:21:28.129Z"
   },
   {
    "duration": 9,
    "start_time": "2022-04-25T06:22:44.366Z"
   },
   {
    "duration": 26,
    "start_time": "2022-04-25T06:22:44.377Z"
   },
   {
    "duration": 3,
    "start_time": "2022-04-25T06:22:44.405Z"
   },
   {
    "duration": 18,
    "start_time": "2022-04-25T06:22:44.410Z"
   },
   {
    "duration": 12,
    "start_time": "2022-04-25T06:22:44.430Z"
   },
   {
    "duration": 9,
    "start_time": "2022-04-25T06:22:44.444Z"
   },
   {
    "duration": 18,
    "start_time": "2022-04-25T06:22:44.493Z"
   },
   {
    "duration": 3,
    "start_time": "2022-04-25T06:22:44.513Z"
   },
   {
    "duration": 11,
    "start_time": "2022-04-25T06:22:44.518Z"
   },
   {
    "duration": 62,
    "start_time": "2022-04-25T06:22:44.531Z"
   },
   {
    "duration": 4,
    "start_time": "2022-04-25T06:22:44.595Z"
   },
   {
    "duration": 15,
    "start_time": "2022-04-25T06:22:44.600Z"
   },
   {
    "duration": 4,
    "start_time": "2022-04-25T06:22:44.617Z"
   },
   {
    "duration": 8,
    "start_time": "2022-04-25T06:22:44.624Z"
   },
   {
    "duration": 6,
    "start_time": "2022-04-25T06:22:44.634Z"
   },
   {
    "duration": 9,
    "start_time": "2022-04-25T06:22:44.642Z"
   },
   {
    "duration": 42,
    "start_time": "2022-04-25T06:22:44.653Z"
   },
   {
    "duration": 9,
    "start_time": "2022-04-25T06:22:44.697Z"
   },
   {
    "duration": 9,
    "start_time": "2022-04-25T06:22:44.707Z"
   },
   {
    "duration": 4,
    "start_time": "2022-04-25T06:22:44.718Z"
   },
   {
    "duration": 13,
    "start_time": "2022-04-25T06:22:44.724Z"
   },
   {
    "duration": 9,
    "start_time": "2022-04-25T06:22:44.739Z"
   },
   {
    "duration": 50,
    "start_time": "2022-04-25T06:22:44.749Z"
   },
   {
    "duration": 36,
    "start_time": "2022-04-25T06:22:44.801Z"
   },
   {
    "duration": 4,
    "start_time": "2022-04-25T06:22:44.838Z"
   },
   {
    "duration": 22,
    "start_time": "2022-04-25T06:22:44.844Z"
   },
   {
    "duration": 46,
    "start_time": "2022-04-25T06:22:44.868Z"
   },
   {
    "duration": 9,
    "start_time": "2022-04-25T06:22:44.915Z"
   },
   {
    "duration": 31,
    "start_time": "2022-04-25T06:22:44.926Z"
   },
   {
    "duration": 49,
    "start_time": "2022-04-25T06:22:44.959Z"
   },
   {
    "duration": 6,
    "start_time": "2022-04-25T06:22:45.010Z"
   },
   {
    "duration": 37,
    "start_time": "2022-04-25T06:22:45.018Z"
   },
   {
    "duration": 27,
    "start_time": "2022-04-25T06:22:45.056Z"
   },
   {
    "duration": 24,
    "start_time": "2022-04-25T06:22:45.085Z"
   },
   {
    "duration": 268,
    "start_time": "2022-04-25T06:22:45.110Z"
   },
   {
    "duration": 263,
    "start_time": "2022-04-25T06:22:45.380Z"
   },
   {
    "duration": 289,
    "start_time": "2022-04-25T06:22:45.645Z"
   },
   {
    "duration": 256,
    "start_time": "2022-04-25T06:22:45.936Z"
   },
   {
    "duration": 5,
    "start_time": "2022-04-25T06:22:46.194Z"
   },
   {
    "duration": 12,
    "start_time": "2022-04-25T06:22:46.200Z"
   },
   {
    "duration": 122,
    "start_time": "2022-04-25T06:22:46.217Z"
   },
   {
    "duration": 19,
    "start_time": "2022-04-25T06:22:46.341Z"
   },
   {
    "duration": 45,
    "start_time": "2022-04-25T06:22:46.361Z"
   },
   {
    "duration": 145,
    "start_time": "2022-04-25T06:22:46.408Z"
   },
   {
    "duration": 8,
    "start_time": "2022-04-25T06:22:46.555Z"
   },
   {
    "duration": 31,
    "start_time": "2022-04-25T06:22:46.565Z"
   },
   {
    "duration": 16,
    "start_time": "2022-04-25T06:22:46.598Z"
   },
   {
    "duration": 176,
    "start_time": "2022-04-25T06:22:46.616Z"
   },
   {
    "duration": 5,
    "start_time": "2022-04-25T06:22:46.794Z"
   },
   {
    "duration": 40,
    "start_time": "2022-04-25T06:22:46.801Z"
   },
   {
    "duration": 4,
    "start_time": "2022-04-25T06:22:46.842Z"
   },
   {
    "duration": 8,
    "start_time": "2022-04-25T06:22:46.848Z"
   },
   {
    "duration": 68,
    "start_time": "2022-04-25T06:22:46.858Z"
   },
   {
    "duration": 300,
    "start_time": "2022-04-25T06:22:46.928Z"
   },
   {
    "duration": 6,
    "start_time": "2022-04-25T06:22:47.229Z"
   },
   {
    "duration": 8,
    "start_time": "2022-04-25T06:22:47.237Z"
   },
   {
    "duration": 72,
    "start_time": "2022-04-25T06:22:47.247Z"
   },
   {
    "duration": 8,
    "start_time": "2022-04-25T06:22:47.322Z"
   },
   {
    "duration": 194,
    "start_time": "2022-04-25T06:22:47.332Z"
   },
   {
    "duration": 36,
    "start_time": "2022-04-25T06:22:47.528Z"
   },
   {
    "duration": 27,
    "start_time": "2022-04-25T06:22:47.566Z"
   },
   {
    "duration": 5,
    "start_time": "2022-04-25T06:22:47.594Z"
   },
   {
    "duration": 45,
    "start_time": "2022-04-25T06:22:47.601Z"
   },
   {
    "duration": 1194,
    "start_time": "2022-04-25T06:22:47.648Z"
   },
   {
    "duration": 33,
    "start_time": "2022-04-25T06:22:48.844Z"
   },
   {
    "duration": 40,
    "start_time": "2022-04-25T06:22:48.879Z"
   },
   {
    "duration": 274,
    "start_time": "2022-04-25T06:22:48.921Z"
   },
   {
    "duration": 36,
    "start_time": "2022-04-25T06:22:49.197Z"
   },
   {
    "duration": 31,
    "start_time": "2022-04-25T06:22:49.234Z"
   },
   {
    "duration": 32,
    "start_time": "2022-04-25T06:22:49.267Z"
   },
   {
    "duration": 5,
    "start_time": "2022-04-25T06:22:49.301Z"
   },
   {
    "duration": 211,
    "start_time": "2022-04-25T06:22:49.308Z"
   },
   {
    "duration": 144,
    "start_time": "2022-04-25T06:22:49.521Z"
   },
   {
    "duration": 40,
    "start_time": "2022-04-25T06:22:49.667Z"
   },
   {
    "duration": 26,
    "start_time": "2022-04-25T06:22:49.709Z"
   },
   {
    "duration": 26,
    "start_time": "2022-04-25T06:22:49.737Z"
   },
   {
    "duration": 1671,
    "start_time": "2022-04-25T06:22:49.765Z"
   },
   {
    "duration": 25,
    "start_time": "2022-04-25T06:22:51.437Z"
   },
   {
    "duration": 29,
    "start_time": "2022-04-25T06:22:51.463Z"
   },
   {
    "duration": 12,
    "start_time": "2022-04-25T06:22:51.494Z"
   },
   {
    "duration": 22,
    "start_time": "2022-04-25T06:22:51.507Z"
   },
   {
    "duration": 8,
    "start_time": "2022-04-25T06:22:51.530Z"
   },
   {
    "duration": 8,
    "start_time": "2022-04-25T06:22:51.540Z"
   },
   {
    "duration": 6,
    "start_time": "2022-04-25T06:23:38.015Z"
   },
   {
    "duration": 7,
    "start_time": "2022-04-25T06:24:38.615Z"
   },
   {
    "duration": 12,
    "start_time": "2022-04-25T06:25:10.013Z"
   },
   {
    "duration": 1284,
    "start_time": "2022-04-25T06:31:06.211Z"
   },
   {
    "duration": 13,
    "start_time": "2022-04-25T06:31:07.497Z"
   },
   {
    "duration": 28,
    "start_time": "2022-04-25T06:31:07.512Z"
   },
   {
    "duration": 22,
    "start_time": "2022-04-25T06:31:07.542Z"
   },
   {
    "duration": 108,
    "start_time": "2022-04-25T06:31:19.155Z"
   },
   {
    "duration": 7,
    "start_time": "2022-04-25T06:31:30.188Z"
   },
   {
    "duration": 12,
    "start_time": "2022-04-25T06:31:37.973Z"
   },
   {
    "duration": 299,
    "start_time": "2022-04-25T07:16:34.429Z"
   },
   {
    "duration": 234,
    "start_time": "2022-04-25T07:16:44.716Z"
   },
   {
    "duration": 224,
    "start_time": "2022-04-25T07:16:56.149Z"
   },
   {
    "duration": 249,
    "start_time": "2022-04-25T07:17:01.189Z"
   },
   {
    "duration": 327,
    "start_time": "2022-04-25T07:33:16.808Z"
   },
   {
    "duration": 13,
    "start_time": "2022-04-25T08:03:00.004Z"
   },
   {
    "duration": 1354,
    "start_time": "2022-04-25T08:03:10.170Z"
   },
   {
    "duration": 0,
    "start_time": "2022-04-25T08:03:11.530Z"
   },
   {
    "duration": 0,
    "start_time": "2022-04-25T08:03:11.531Z"
   },
   {
    "duration": 0,
    "start_time": "2022-04-25T08:03:11.533Z"
   },
   {
    "duration": 0,
    "start_time": "2022-04-25T08:03:11.534Z"
   },
   {
    "duration": 0,
    "start_time": "2022-04-25T08:03:11.536Z"
   },
   {
    "duration": 0,
    "start_time": "2022-04-25T08:03:11.537Z"
   },
   {
    "duration": 0,
    "start_time": "2022-04-25T08:03:11.539Z"
   },
   {
    "duration": 0,
    "start_time": "2022-04-25T08:03:11.540Z"
   },
   {
    "duration": 0,
    "start_time": "2022-04-25T08:03:11.541Z"
   },
   {
    "duration": 0,
    "start_time": "2022-04-25T08:03:11.543Z"
   },
   {
    "duration": 0,
    "start_time": "2022-04-25T08:03:11.544Z"
   },
   {
    "duration": 0,
    "start_time": "2022-04-25T08:03:11.546Z"
   },
   {
    "duration": 0,
    "start_time": "2022-04-25T08:03:11.547Z"
   },
   {
    "duration": 0,
    "start_time": "2022-04-25T08:03:11.549Z"
   },
   {
    "duration": 0,
    "start_time": "2022-04-25T08:03:11.550Z"
   },
   {
    "duration": 0,
    "start_time": "2022-04-25T08:03:11.551Z"
   },
   {
    "duration": 0,
    "start_time": "2022-04-25T08:03:11.594Z"
   },
   {
    "duration": 0,
    "start_time": "2022-04-25T08:03:11.595Z"
   },
   {
    "duration": 0,
    "start_time": "2022-04-25T08:03:11.597Z"
   },
   {
    "duration": 0,
    "start_time": "2022-04-25T08:03:11.599Z"
   },
   {
    "duration": 0,
    "start_time": "2022-04-25T08:03:11.600Z"
   },
   {
    "duration": 0,
    "start_time": "2022-04-25T08:03:11.602Z"
   },
   {
    "duration": 0,
    "start_time": "2022-04-25T08:03:11.603Z"
   },
   {
    "duration": 0,
    "start_time": "2022-04-25T08:03:11.605Z"
   },
   {
    "duration": 0,
    "start_time": "2022-04-25T08:03:11.606Z"
   },
   {
    "duration": 0,
    "start_time": "2022-04-25T08:03:11.608Z"
   },
   {
    "duration": 0,
    "start_time": "2022-04-25T08:03:11.609Z"
   },
   {
    "duration": 0,
    "start_time": "2022-04-25T08:03:11.611Z"
   },
   {
    "duration": 0,
    "start_time": "2022-04-25T08:03:11.612Z"
   },
   {
    "duration": 0,
    "start_time": "2022-04-25T08:03:11.614Z"
   },
   {
    "duration": 0,
    "start_time": "2022-04-25T08:03:11.615Z"
   },
   {
    "duration": 0,
    "start_time": "2022-04-25T08:03:11.617Z"
   },
   {
    "duration": 0,
    "start_time": "2022-04-25T08:03:11.619Z"
   },
   {
    "duration": 0,
    "start_time": "2022-04-25T08:03:11.620Z"
   },
   {
    "duration": 0,
    "start_time": "2022-04-25T08:03:11.621Z"
   },
   {
    "duration": 0,
    "start_time": "2022-04-25T08:03:11.623Z"
   },
   {
    "duration": 0,
    "start_time": "2022-04-25T08:03:11.624Z"
   },
   {
    "duration": 0,
    "start_time": "2022-04-25T08:03:11.626Z"
   },
   {
    "duration": 0,
    "start_time": "2022-04-25T08:03:11.627Z"
   },
   {
    "duration": 0,
    "start_time": "2022-04-25T08:03:11.628Z"
   },
   {
    "duration": 0,
    "start_time": "2022-04-25T08:03:11.629Z"
   },
   {
    "duration": 0,
    "start_time": "2022-04-25T08:03:11.630Z"
   },
   {
    "duration": 0,
    "start_time": "2022-04-25T08:03:11.632Z"
   },
   {
    "duration": 0,
    "start_time": "2022-04-25T08:03:11.633Z"
   },
   {
    "duration": 0,
    "start_time": "2022-04-25T08:03:11.697Z"
   },
   {
    "duration": 0,
    "start_time": "2022-04-25T08:03:11.698Z"
   },
   {
    "duration": 0,
    "start_time": "2022-04-25T08:03:11.699Z"
   },
   {
    "duration": 0,
    "start_time": "2022-04-25T08:03:11.700Z"
   },
   {
    "duration": 0,
    "start_time": "2022-04-25T08:03:11.701Z"
   },
   {
    "duration": 0,
    "start_time": "2022-04-25T08:03:11.702Z"
   },
   {
    "duration": 0,
    "start_time": "2022-04-25T08:03:11.703Z"
   },
   {
    "duration": 0,
    "start_time": "2022-04-25T08:03:11.706Z"
   },
   {
    "duration": 0,
    "start_time": "2022-04-25T08:03:11.707Z"
   },
   {
    "duration": 0,
    "start_time": "2022-04-25T08:03:11.709Z"
   },
   {
    "duration": 0,
    "start_time": "2022-04-25T08:03:11.711Z"
   },
   {
    "duration": 0,
    "start_time": "2022-04-25T08:03:11.712Z"
   },
   {
    "duration": 0,
    "start_time": "2022-04-25T08:03:11.714Z"
   },
   {
    "duration": 0,
    "start_time": "2022-04-25T08:03:11.715Z"
   },
   {
    "duration": 0,
    "start_time": "2022-04-25T08:03:11.716Z"
   },
   {
    "duration": 0,
    "start_time": "2022-04-25T08:03:11.717Z"
   },
   {
    "duration": 0,
    "start_time": "2022-04-25T08:03:11.718Z"
   },
   {
    "duration": 0,
    "start_time": "2022-04-25T08:03:11.719Z"
   },
   {
    "duration": 0,
    "start_time": "2022-04-25T08:03:11.721Z"
   },
   {
    "duration": 0,
    "start_time": "2022-04-25T08:03:11.721Z"
   },
   {
    "duration": 0,
    "start_time": "2022-04-25T08:03:11.722Z"
   },
   {
    "duration": 0,
    "start_time": "2022-04-25T08:03:11.723Z"
   },
   {
    "duration": 0,
    "start_time": "2022-04-25T08:03:11.724Z"
   },
   {
    "duration": 0,
    "start_time": "2022-04-25T08:03:11.725Z"
   },
   {
    "duration": 0,
    "start_time": "2022-04-25T08:03:11.727Z"
   },
   {
    "duration": 0,
    "start_time": "2022-04-25T08:03:11.728Z"
   },
   {
    "duration": 0,
    "start_time": "2022-04-25T08:03:11.729Z"
   },
   {
    "duration": 0,
    "start_time": "2022-04-25T08:03:11.730Z"
   },
   {
    "duration": 0,
    "start_time": "2022-04-25T08:03:11.731Z"
   },
   {
    "duration": 0,
    "start_time": "2022-04-25T08:03:11.732Z"
   },
   {
    "duration": 0,
    "start_time": "2022-04-25T08:03:11.733Z"
   },
   {
    "duration": 0,
    "start_time": "2022-04-25T08:03:11.735Z"
   },
   {
    "duration": 0,
    "start_time": "2022-04-25T08:03:11.793Z"
   },
   {
    "duration": 1,
    "start_time": "2022-04-25T08:03:11.793Z"
   },
   {
    "duration": 0,
    "start_time": "2022-04-25T08:03:11.802Z"
   },
   {
    "duration": 0,
    "start_time": "2022-04-25T08:03:11.803Z"
   },
   {
    "duration": 0,
    "start_time": "2022-04-25T08:03:11.805Z"
   },
   {
    "duration": 0,
    "start_time": "2022-04-25T08:03:11.808Z"
   },
   {
    "duration": 0,
    "start_time": "2022-04-25T08:03:11.809Z"
   },
   {
    "duration": 0,
    "start_time": "2022-04-25T08:03:11.810Z"
   },
   {
    "duration": 0,
    "start_time": "2022-04-25T08:03:11.811Z"
   },
   {
    "duration": 0,
    "start_time": "2022-04-25T08:03:11.812Z"
   },
   {
    "duration": 0,
    "start_time": "2022-04-25T08:03:11.814Z"
   },
   {
    "duration": 0,
    "start_time": "2022-04-25T08:03:11.815Z"
   },
   {
    "duration": 0,
    "start_time": "2022-04-25T08:03:11.816Z"
   },
   {
    "duration": 15,
    "start_time": "2022-04-25T08:03:17.513Z"
   },
   {
    "duration": 105,
    "start_time": "2022-04-25T08:03:17.833Z"
   },
   {
    "duration": 12,
    "start_time": "2022-04-25T08:03:18.006Z"
   },
   {
    "duration": 25,
    "start_time": "2022-04-25T08:03:18.335Z"
   },
   {
    "duration": 28,
    "start_time": "2022-04-25T08:03:18.471Z"
   },
   {
    "duration": 7,
    "start_time": "2022-04-25T08:03:19.505Z"
   },
   {
    "duration": 17,
    "start_time": "2022-04-25T08:03:19.943Z"
   },
   {
    "duration": 2,
    "start_time": "2022-04-25T08:03:20.079Z"
   },
   {
    "duration": 13,
    "start_time": "2022-04-25T08:03:20.367Z"
   },
   {
    "duration": 13,
    "start_time": "2022-04-25T08:03:20.687Z"
   },
   {
    "duration": 8,
    "start_time": "2022-04-25T08:03:21.119Z"
   },
   {
    "duration": 16,
    "start_time": "2022-04-25T08:03:21.265Z"
   },
   {
    "duration": 5,
    "start_time": "2022-04-25T08:03:21.400Z"
   },
   {
    "duration": 9,
    "start_time": "2022-04-25T08:03:21.815Z"
   },
   {
    "duration": 18,
    "start_time": "2022-04-25T08:03:21.953Z"
   },
   {
    "duration": 5,
    "start_time": "2022-04-25T08:03:22.191Z"
   },
   {
    "duration": 13,
    "start_time": "2022-04-25T08:03:22.647Z"
   },
   {
    "duration": 4,
    "start_time": "2022-04-25T08:03:22.815Z"
   },
   {
    "duration": 7,
    "start_time": "2022-04-25T08:03:23.263Z"
   },
   {
    "duration": 8,
    "start_time": "2022-04-25T08:03:23.662Z"
   },
   {
    "duration": 7,
    "start_time": "2022-04-25T08:03:23.823Z"
   },
   {
    "duration": 7,
    "start_time": "2022-04-25T08:03:24.079Z"
   },
   {
    "duration": 6,
    "start_time": "2022-04-25T08:03:24.247Z"
   },
   {
    "duration": 8,
    "start_time": "2022-04-25T08:03:24.606Z"
   },
   {
    "duration": 4,
    "start_time": "2022-04-25T08:03:24.809Z"
   },
   {
    "duration": 9,
    "start_time": "2022-04-25T08:03:25.106Z"
   },
   {
    "duration": 8,
    "start_time": "2022-04-25T08:03:26.311Z"
   },
   {
    "duration": 8,
    "start_time": "2022-04-25T08:03:26.977Z"
   },
   {
    "duration": 25,
    "start_time": "2022-04-25T08:03:27.306Z"
   },
   {
    "duration": 4,
    "start_time": "2022-04-25T08:03:27.519Z"
   },
   {
    "duration": 8,
    "start_time": "2022-04-25T08:03:28.431Z"
   },
   {
    "duration": 26,
    "start_time": "2022-04-25T08:03:29.506Z"
   },
   {
    "duration": 18,
    "start_time": "2022-04-25T08:03:29.694Z"
   },
   {
    "duration": 19,
    "start_time": "2022-04-25T08:03:29.855Z"
   },
   {
    "duration": 29,
    "start_time": "2022-04-25T08:03:30.009Z"
   },
   {
    "duration": 6,
    "start_time": "2022-04-25T08:03:30.551Z"
   },
   {
    "duration": 7,
    "start_time": "2022-04-25T08:03:30.679Z"
   },
   {
    "duration": 8,
    "start_time": "2022-04-25T08:03:30.960Z"
   },
   {
    "duration": 7,
    "start_time": "2022-04-25T08:03:31.103Z"
   },
   {
    "duration": 261,
    "start_time": "2022-04-25T08:03:31.832Z"
   },
   {
    "duration": 253,
    "start_time": "2022-04-25T08:03:32.289Z"
   },
   {
    "duration": 273,
    "start_time": "2022-04-25T08:03:32.544Z"
   },
   {
    "duration": 235,
    "start_time": "2022-04-25T08:03:33.049Z"
   },
   {
    "duration": 5,
    "start_time": "2022-04-25T08:03:34.157Z"
   },
   {
    "duration": 10,
    "start_time": "2022-04-25T08:03:34.453Z"
   },
   {
    "duration": 113,
    "start_time": "2022-04-25T08:03:35.079Z"
   },
   {
    "duration": 17,
    "start_time": "2022-04-25T08:03:37.472Z"
   },
   {
    "duration": 8,
    "start_time": "2022-04-25T08:03:37.903Z"
   },
   {
    "duration": 24,
    "start_time": "2022-04-25T08:04:23.911Z"
   },
   {
    "duration": 30,
    "start_time": "2022-04-25T08:04:26.582Z"
   },
   {
    "duration": 134,
    "start_time": "2022-04-25T08:11:19.538Z"
   },
   {
    "duration": 6,
    "start_time": "2022-04-25T08:11:19.913Z"
   },
   {
    "duration": 15,
    "start_time": "2022-04-25T08:16:26.182Z"
   },
   {
    "duration": 15,
    "start_time": "2022-04-25T08:16:26.446Z"
   },
   {
    "duration": 153,
    "start_time": "2022-04-25T08:16:27.022Z"
   },
   {
    "duration": 5,
    "start_time": "2022-04-25T08:21:07.211Z"
   },
   {
    "duration": 41,
    "start_time": "2022-04-25T08:21:07.507Z"
   },
   {
    "duration": 5,
    "start_time": "2022-04-25T08:21:07.809Z"
   },
   {
    "duration": 5,
    "start_time": "2022-04-25T08:21:07.957Z"
   },
   {
    "duration": 42,
    "start_time": "2022-04-25T08:21:08.731Z"
   },
   {
    "duration": 195,
    "start_time": "2022-04-25T08:21:09.067Z"
   },
   {
    "duration": 10,
    "start_time": "2022-04-25T08:23:19.999Z"
   },
   {
    "duration": 21,
    "start_time": "2022-04-25T08:24:12.416Z"
   },
   {
    "duration": 7,
    "start_time": "2022-04-25T08:24:21.856Z"
   },
   {
    "duration": 6,
    "start_time": "2022-04-25T08:42:32.999Z"
   },
   {
    "duration": 6,
    "start_time": "2022-04-25T08:42:54.489Z"
   },
   {
    "duration": 318,
    "start_time": "2022-04-25T09:02:26.130Z"
   },
   {
    "duration": 4,
    "start_time": "2022-04-25T09:09:27.213Z"
   },
   {
    "duration": 5,
    "start_time": "2022-04-25T09:09:27.370Z"
   },
   {
    "duration": 54,
    "start_time": "2022-04-25T09:09:27.531Z"
   },
   {
    "duration": 10,
    "start_time": "2022-04-25T09:09:27.681Z"
   },
   {
    "duration": 290,
    "start_time": "2022-04-25T09:11:57.913Z"
   },
   {
    "duration": 52,
    "start_time": "2022-04-25T09:11:58.427Z"
   },
   {
    "duration": 6,
    "start_time": "2022-04-25T09:11:58.593Z"
   },
   {
    "duration": 6,
    "start_time": "2022-04-25T09:11:58.825Z"
   },
   {
    "duration": 48,
    "start_time": "2022-04-25T09:11:59.249Z"
   },
   {
    "duration": 1530,
    "start_time": "2022-04-25T09:11:59.536Z"
   },
   {
    "duration": 47,
    "start_time": "2022-04-25T09:12:01.069Z"
   },
   {
    "duration": 31,
    "start_time": "2022-04-25T09:12:01.118Z"
   },
   {
    "duration": 385,
    "start_time": "2022-04-25T09:12:01.152Z"
   },
   {
    "duration": 30,
    "start_time": "2022-04-25T09:12:01.539Z"
   },
   {
    "duration": 44,
    "start_time": "2022-04-25T09:12:01.571Z"
   },
   {
    "duration": 9,
    "start_time": "2022-04-25T09:12:01.618Z"
   },
   {
    "duration": 7,
    "start_time": "2022-04-25T09:12:01.865Z"
   },
   {
    "duration": 194,
    "start_time": "2022-04-25T09:12:02.001Z"
   },
   {
    "duration": 223,
    "start_time": "2022-04-25T09:12:02.281Z"
   },
   {
    "duration": 29,
    "start_time": "2022-04-25T09:12:02.576Z"
   },
   {
    "duration": 26,
    "start_time": "2022-04-25T09:12:02.713Z"
   },
   {
    "duration": 28,
    "start_time": "2022-04-25T09:12:03.369Z"
   },
   {
    "duration": 1733,
    "start_time": "2022-04-25T09:12:03.673Z"
   },
   {
    "duration": 33,
    "start_time": "2022-04-25T09:12:05.408Z"
   },
   {
    "duration": 17,
    "start_time": "2022-04-25T09:12:05.444Z"
   },
   {
    "duration": 16,
    "start_time": "2022-04-25T09:12:05.492Z"
   },
   {
    "duration": 24,
    "start_time": "2022-04-25T09:12:06.113Z"
   },
   {
    "duration": 12,
    "start_time": "2022-04-25T09:12:06.249Z"
   },
   {
    "duration": 10,
    "start_time": "2022-04-25T09:12:06.673Z"
   },
   {
    "duration": 1307,
    "start_time": "2022-04-25T09:59:43.104Z"
   },
   {
    "duration": 0,
    "start_time": "2022-04-25T09:59:44.417Z"
   },
   {
    "duration": 0,
    "start_time": "2022-04-25T09:59:44.419Z"
   },
   {
    "duration": 0,
    "start_time": "2022-04-25T09:59:44.420Z"
   },
   {
    "duration": 0,
    "start_time": "2022-04-25T09:59:44.421Z"
   },
   {
    "duration": 0,
    "start_time": "2022-04-25T09:59:44.423Z"
   },
   {
    "duration": 0,
    "start_time": "2022-04-25T09:59:44.424Z"
   },
   {
    "duration": 0,
    "start_time": "2022-04-25T09:59:44.425Z"
   },
   {
    "duration": 0,
    "start_time": "2022-04-25T09:59:44.427Z"
   },
   {
    "duration": 0,
    "start_time": "2022-04-25T09:59:44.428Z"
   },
   {
    "duration": 0,
    "start_time": "2022-04-25T09:59:44.429Z"
   },
   {
    "duration": 0,
    "start_time": "2022-04-25T09:59:44.430Z"
   },
   {
    "duration": 0,
    "start_time": "2022-04-25T09:59:44.432Z"
   },
   {
    "duration": 0,
    "start_time": "2022-04-25T09:59:44.433Z"
   },
   {
    "duration": 0,
    "start_time": "2022-04-25T09:59:44.434Z"
   },
   {
    "duration": 0,
    "start_time": "2022-04-25T09:59:44.436Z"
   },
   {
    "duration": 0,
    "start_time": "2022-04-25T09:59:44.437Z"
   },
   {
    "duration": 0,
    "start_time": "2022-04-25T09:59:44.438Z"
   },
   {
    "duration": 0,
    "start_time": "2022-04-25T09:59:44.440Z"
   },
   {
    "duration": 0,
    "start_time": "2022-04-25T09:59:44.441Z"
   },
   {
    "duration": 0,
    "start_time": "2022-04-25T09:59:44.442Z"
   },
   {
    "duration": 0,
    "start_time": "2022-04-25T09:59:44.443Z"
   },
   {
    "duration": 0,
    "start_time": "2022-04-25T09:59:44.445Z"
   },
   {
    "duration": 0,
    "start_time": "2022-04-25T09:59:44.446Z"
   },
   {
    "duration": 0,
    "start_time": "2022-04-25T09:59:44.493Z"
   },
   {
    "duration": 0,
    "start_time": "2022-04-25T09:59:44.494Z"
   },
   {
    "duration": 0,
    "start_time": "2022-04-25T09:59:44.496Z"
   },
   {
    "duration": 0,
    "start_time": "2022-04-25T09:59:44.498Z"
   },
   {
    "duration": 0,
    "start_time": "2022-04-25T09:59:44.499Z"
   },
   {
    "duration": 0,
    "start_time": "2022-04-25T09:59:44.500Z"
   },
   {
    "duration": 0,
    "start_time": "2022-04-25T09:59:44.501Z"
   },
   {
    "duration": 0,
    "start_time": "2022-04-25T09:59:44.503Z"
   },
   {
    "duration": 0,
    "start_time": "2022-04-25T09:59:44.504Z"
   },
   {
    "duration": 0,
    "start_time": "2022-04-25T09:59:44.505Z"
   },
   {
    "duration": 0,
    "start_time": "2022-04-25T09:59:44.507Z"
   },
   {
    "duration": 0,
    "start_time": "2022-04-25T09:59:44.508Z"
   },
   {
    "duration": 0,
    "start_time": "2022-04-25T09:59:44.509Z"
   },
   {
    "duration": 0,
    "start_time": "2022-04-25T09:59:44.510Z"
   },
   {
    "duration": 0,
    "start_time": "2022-04-25T09:59:44.511Z"
   },
   {
    "duration": 0,
    "start_time": "2022-04-25T09:59:44.513Z"
   },
   {
    "duration": 0,
    "start_time": "2022-04-25T09:59:44.514Z"
   },
   {
    "duration": 0,
    "start_time": "2022-04-25T09:59:44.515Z"
   },
   {
    "duration": 0,
    "start_time": "2022-04-25T09:59:44.516Z"
   },
   {
    "duration": 0,
    "start_time": "2022-04-25T09:59:44.518Z"
   },
   {
    "duration": 0,
    "start_time": "2022-04-25T09:59:44.519Z"
   },
   {
    "duration": 0,
    "start_time": "2022-04-25T09:59:44.520Z"
   },
   {
    "duration": 0,
    "start_time": "2022-04-25T09:59:44.521Z"
   },
   {
    "duration": 0,
    "start_time": "2022-04-25T09:59:44.522Z"
   },
   {
    "duration": 0,
    "start_time": "2022-04-25T09:59:44.524Z"
   },
   {
    "duration": 0,
    "start_time": "2022-04-25T09:59:44.525Z"
   },
   {
    "duration": 0,
    "start_time": "2022-04-25T09:59:44.527Z"
   },
   {
    "duration": 0,
    "start_time": "2022-04-25T09:59:44.528Z"
   },
   {
    "duration": 0,
    "start_time": "2022-04-25T09:59:44.529Z"
   },
   {
    "duration": 0,
    "start_time": "2022-04-25T09:59:44.596Z"
   },
   {
    "duration": 0,
    "start_time": "2022-04-25T09:59:44.597Z"
   },
   {
    "duration": 0,
    "start_time": "2022-04-25T09:59:44.599Z"
   },
   {
    "duration": 0,
    "start_time": "2022-04-25T09:59:44.600Z"
   },
   {
    "duration": 0,
    "start_time": "2022-04-25T09:59:44.601Z"
   },
   {
    "duration": 0,
    "start_time": "2022-04-25T09:59:44.602Z"
   },
   {
    "duration": 0,
    "start_time": "2022-04-25T09:59:44.604Z"
   },
   {
    "duration": 0,
    "start_time": "2022-04-25T09:59:44.605Z"
   },
   {
    "duration": 0,
    "start_time": "2022-04-25T09:59:44.607Z"
   },
   {
    "duration": 0,
    "start_time": "2022-04-25T09:59:44.608Z"
   },
   {
    "duration": 0,
    "start_time": "2022-04-25T09:59:44.610Z"
   },
   {
    "duration": 0,
    "start_time": "2022-04-25T09:59:44.611Z"
   },
   {
    "duration": 0,
    "start_time": "2022-04-25T09:59:44.612Z"
   },
   {
    "duration": 0,
    "start_time": "2022-04-25T09:59:44.614Z"
   },
   {
    "duration": 0,
    "start_time": "2022-04-25T09:59:44.615Z"
   },
   {
    "duration": 0,
    "start_time": "2022-04-25T09:59:44.617Z"
   },
   {
    "duration": 0,
    "start_time": "2022-04-25T09:59:44.619Z"
   },
   {
    "duration": 0,
    "start_time": "2022-04-25T09:59:44.620Z"
   },
   {
    "duration": 0,
    "start_time": "2022-04-25T09:59:44.622Z"
   },
   {
    "duration": 0,
    "start_time": "2022-04-25T09:59:44.623Z"
   },
   {
    "duration": 0,
    "start_time": "2022-04-25T09:59:44.624Z"
   },
   {
    "duration": 0,
    "start_time": "2022-04-25T09:59:44.626Z"
   },
   {
    "duration": 0,
    "start_time": "2022-04-25T09:59:44.627Z"
   },
   {
    "duration": 0,
    "start_time": "2022-04-25T09:59:44.628Z"
   },
   {
    "duration": 0,
    "start_time": "2022-04-25T09:59:44.630Z"
   },
   {
    "duration": 0,
    "start_time": "2022-04-25T09:59:44.631Z"
   },
   {
    "duration": 0,
    "start_time": "2022-04-25T09:59:44.693Z"
   },
   {
    "duration": 0,
    "start_time": "2022-04-25T09:59:44.694Z"
   },
   {
    "duration": 0,
    "start_time": "2022-04-25T09:59:44.695Z"
   },
   {
    "duration": 0,
    "start_time": "2022-04-25T09:59:44.696Z"
   },
   {
    "duration": 0,
    "start_time": "2022-04-25T09:59:44.697Z"
   },
   {
    "duration": 0,
    "start_time": "2022-04-25T09:59:44.699Z"
   },
   {
    "duration": 0,
    "start_time": "2022-04-25T09:59:44.700Z"
   },
   {
    "duration": 0,
    "start_time": "2022-04-25T09:59:44.701Z"
   },
   {
    "duration": 0,
    "start_time": "2022-04-25T09:59:44.702Z"
   },
   {
    "duration": 0,
    "start_time": "2022-04-25T09:59:44.703Z"
   },
   {
    "duration": 16,
    "start_time": "2022-04-25T09:59:49.448Z"
   },
   {
    "duration": 93,
    "start_time": "2022-04-25T09:59:56.285Z"
   },
   {
    "duration": 94,
    "start_time": "2022-04-25T09:59:59.562Z"
   },
   {
    "duration": 11,
    "start_time": "2022-04-25T09:59:59.659Z"
   },
   {
    "duration": 42,
    "start_time": "2022-04-25T09:59:59.672Z"
   },
   {
    "duration": 21,
    "start_time": "2022-04-25T09:59:59.716Z"
   },
   {
    "duration": 7,
    "start_time": "2022-04-25T09:59:59.739Z"
   },
   {
    "duration": 55,
    "start_time": "2022-04-25T09:59:59.748Z"
   },
   {
    "duration": 4,
    "start_time": "2022-04-25T09:59:59.805Z"
   },
   {
    "duration": 24,
    "start_time": "2022-04-25T09:59:59.810Z"
   },
   {
    "duration": 14,
    "start_time": "2022-04-25T09:59:59.836Z"
   },
   {
    "duration": 11,
    "start_time": "2022-04-25T09:59:59.852Z"
   },
   {
    "duration": 25,
    "start_time": "2022-04-25T09:59:59.893Z"
   },
   {
    "duration": 6,
    "start_time": "2022-04-25T09:59:59.920Z"
   },
   {
    "duration": 16,
    "start_time": "2022-04-25T09:59:59.928Z"
   },
   {
    "duration": 54,
    "start_time": "2022-04-25T09:59:59.949Z"
   },
   {
    "duration": 18,
    "start_time": "2022-04-25T10:00:00.006Z"
   },
   {
    "duration": 19,
    "start_time": "2022-04-25T10:00:00.027Z"
   },
   {
    "duration": 8,
    "start_time": "2022-04-25T10:00:00.048Z"
   },
   {
    "duration": 13,
    "start_time": "2022-04-25T10:00:00.058Z"
   },
   {
    "duration": 22,
    "start_time": "2022-04-25T10:00:00.074Z"
   },
   {
    "duration": 30,
    "start_time": "2022-04-25T10:00:00.098Z"
   },
   {
    "duration": 12,
    "start_time": "2022-04-25T10:00:00.131Z"
   },
   {
    "duration": 21,
    "start_time": "2022-04-25T10:00:00.145Z"
   },
   {
    "duration": 15,
    "start_time": "2022-04-25T10:00:00.168Z"
   },
   {
    "duration": 5,
    "start_time": "2022-04-25T10:00:00.185Z"
   },
   {
    "duration": 13,
    "start_time": "2022-04-25T10:00:00.192Z"
   },
   {
    "duration": 12,
    "start_time": "2022-04-25T10:00:00.207Z"
   },
   {
    "duration": 9,
    "start_time": "2022-04-25T10:00:00.222Z"
   },
   {
    "duration": 33,
    "start_time": "2022-04-25T10:00:00.233Z"
   },
   {
    "duration": 5,
    "start_time": "2022-04-25T10:00:00.293Z"
   },
   {
    "duration": 16,
    "start_time": "2022-04-25T10:00:00.301Z"
   },
   {
    "duration": 39,
    "start_time": "2022-04-25T10:00:00.319Z"
   },
   {
    "duration": 35,
    "start_time": "2022-04-25T10:00:00.360Z"
   },
   {
    "duration": 30,
    "start_time": "2022-04-25T10:00:00.397Z"
   },
   {
    "duration": 67,
    "start_time": "2022-04-25T10:00:00.430Z"
   },
   {
    "duration": 9,
    "start_time": "2022-04-25T10:00:00.499Z"
   },
   {
    "duration": 15,
    "start_time": "2022-04-25T10:00:00.510Z"
   },
   {
    "duration": 23,
    "start_time": "2022-04-25T10:00:00.528Z"
   },
   {
    "duration": 15,
    "start_time": "2022-04-25T10:00:00.554Z"
   },
   {
    "duration": 284,
    "start_time": "2022-04-25T10:00:00.571Z"
   },
   {
    "duration": 271,
    "start_time": "2022-04-25T10:00:00.857Z"
   },
   {
    "duration": 294,
    "start_time": "2022-04-25T10:00:01.133Z"
   },
   {
    "duration": 384,
    "start_time": "2022-04-25T10:00:01.429Z"
   },
   {
    "duration": 6,
    "start_time": "2022-04-25T10:00:01.815Z"
   },
   {
    "duration": 18,
    "start_time": "2022-04-25T10:00:01.823Z"
   },
   {
    "duration": 143,
    "start_time": "2022-04-25T10:00:01.844Z"
   },
   {
    "duration": 74,
    "start_time": "2022-04-25T10:00:01.993Z"
   },
   {
    "duration": 84,
    "start_time": "2022-04-25T10:00:02.069Z"
   },
   {
    "duration": 169,
    "start_time": "2022-04-25T10:00:02.155Z"
   },
   {
    "duration": 8,
    "start_time": "2022-04-25T10:00:02.326Z"
   },
   {
    "duration": 21,
    "start_time": "2022-04-25T10:00:02.335Z"
   },
   {
    "duration": 36,
    "start_time": "2022-04-25T10:00:02.358Z"
   },
   {
    "duration": 174,
    "start_time": "2022-04-25T10:00:02.396Z"
   },
   {
    "duration": 5,
    "start_time": "2022-04-25T10:00:02.571Z"
   },
   {
    "duration": 59,
    "start_time": "2022-04-25T10:00:02.578Z"
   },
   {
    "duration": 16,
    "start_time": "2022-04-25T10:00:02.639Z"
   },
   {
    "duration": 41,
    "start_time": "2022-04-25T10:00:02.657Z"
   },
   {
    "duration": 54,
    "start_time": "2022-04-25T10:00:02.700Z"
   },
   {
    "duration": 204,
    "start_time": "2022-04-25T10:00:02.755Z"
   },
   {
    "duration": 5,
    "start_time": "2022-04-25T10:00:02.961Z"
   },
   {
    "duration": 7,
    "start_time": "2022-04-25T10:00:02.968Z"
   },
   {
    "duration": 55,
    "start_time": "2022-04-25T10:00:02.977Z"
   },
   {
    "duration": 11,
    "start_time": "2022-04-25T10:00:03.034Z"
   },
   {
    "duration": 191,
    "start_time": "2022-04-25T10:00:03.047Z"
   },
   {
    "duration": 33,
    "start_time": "2022-04-25T10:00:03.240Z"
   },
   {
    "duration": 22,
    "start_time": "2022-04-25T10:00:03.274Z"
   },
   {
    "duration": 8,
    "start_time": "2022-04-25T10:00:03.297Z"
   },
   {
    "duration": 36,
    "start_time": "2022-04-25T10:00:03.307Z"
   },
   {
    "duration": 1041,
    "start_time": "2022-04-25T10:00:03.345Z"
   },
   {
    "duration": 35,
    "start_time": "2022-04-25T10:00:04.388Z"
   },
   {
    "duration": 32,
    "start_time": "2022-04-25T10:00:04.424Z"
   },
   {
    "duration": 309,
    "start_time": "2022-04-25T10:00:04.458Z"
   },
   {
    "duration": 41,
    "start_time": "2022-04-25T10:00:04.769Z"
   },
   {
    "duration": 30,
    "start_time": "2022-04-25T10:00:04.813Z"
   },
   {
    "duration": 9,
    "start_time": "2022-04-25T10:00:04.845Z"
   },
   {
    "duration": 5,
    "start_time": "2022-04-25T10:00:04.856Z"
   },
   {
    "duration": 249,
    "start_time": "2022-04-25T10:00:04.893Z"
   },
   {
    "duration": 162,
    "start_time": "2022-04-25T10:00:05.144Z"
   },
   {
    "duration": 33,
    "start_time": "2022-04-25T10:00:05.308Z"
   },
   {
    "duration": 50,
    "start_time": "2022-04-25T10:00:05.344Z"
   },
   {
    "duration": 36,
    "start_time": "2022-04-25T10:00:05.397Z"
   },
   {
    "duration": 1772,
    "start_time": "2022-04-25T10:00:05.435Z"
   },
   {
    "duration": 25,
    "start_time": "2022-04-25T10:00:07.209Z"
   },
   {
    "duration": 12,
    "start_time": "2022-04-25T10:00:07.235Z"
   },
   {
    "duration": 13,
    "start_time": "2022-04-25T10:00:07.250Z"
   },
   {
    "duration": 23,
    "start_time": "2022-04-25T10:00:07.293Z"
   },
   {
    "duration": 9,
    "start_time": "2022-04-25T10:00:07.318Z"
   },
   {
    "duration": 96,
    "start_time": "2022-04-25T10:00:07.330Z"
   },
   {
    "duration": 2049,
    "start_time": "2022-04-26T07:53:04.382Z"
   },
   {
    "duration": 53,
    "start_time": "2022-04-26T07:53:21.817Z"
   },
   {
    "duration": 144,
    "start_time": "2022-04-26T07:54:27.135Z"
   },
   {
    "duration": 3,
    "start_time": "2022-04-26T08:00:15.513Z"
   },
   {
    "duration": 142,
    "start_time": "2022-04-26T08:00:17.398Z"
   },
   {
    "duration": 1794,
    "start_time": "2022-04-26T08:00:36.100Z"
   },
   {
    "duration": 36,
    "start_time": "2022-04-26T08:00:39.963Z"
   },
   {
    "duration": 111,
    "start_time": "2022-04-26T08:00:44.248Z"
   },
   {
    "duration": 15,
    "start_time": "2022-04-26T08:00:46.297Z"
   },
   {
    "duration": 35,
    "start_time": "2022-04-26T08:00:50.125Z"
   },
   {
    "duration": 28,
    "start_time": "2022-04-26T08:00:51.024Z"
   },
   {
    "duration": 11,
    "start_time": "2022-04-26T08:00:58.912Z"
   },
   {
    "duration": 21,
    "start_time": "2022-04-26T08:01:13.162Z"
   },
   {
    "duration": 4,
    "start_time": "2022-04-26T08:01:15.369Z"
   },
   {
    "duration": 17,
    "start_time": "2022-04-26T08:01:22.280Z"
   },
   {
    "duration": 16,
    "start_time": "2022-04-26T08:01:23.088Z"
   },
   {
    "duration": 10,
    "start_time": "2022-04-26T08:01:25.244Z"
   },
   {
    "duration": 23,
    "start_time": "2022-04-26T08:01:25.823Z"
   },
   {
    "duration": 5,
    "start_time": "2022-04-26T08:01:26.143Z"
   },
   {
    "duration": 12,
    "start_time": "2022-04-26T08:01:28.184Z"
   },
   {
    "duration": 27,
    "start_time": "2022-04-26T08:01:28.663Z"
   },
   {
    "duration": 6,
    "start_time": "2022-04-26T08:01:29.038Z"
   },
   {
    "duration": 13,
    "start_time": "2022-04-26T08:01:31.397Z"
   },
   {
    "duration": 6,
    "start_time": "2022-04-26T08:01:31.838Z"
   },
   {
    "duration": 10,
    "start_time": "2022-04-26T08:01:34.263Z"
   },
   {
    "duration": 11,
    "start_time": "2022-04-26T08:01:36.208Z"
   },
   {
    "duration": 8,
    "start_time": "2022-04-26T08:01:36.776Z"
   },
   {
    "duration": 9,
    "start_time": "2022-04-26T08:01:38.702Z"
   },
   {
    "duration": 7,
    "start_time": "2022-04-26T08:01:40.153Z"
   },
   {
    "duration": 10,
    "start_time": "2022-04-26T08:01:42.981Z"
   },
   {
    "duration": 3,
    "start_time": "2022-04-26T08:01:45.967Z"
   },
   {
    "duration": 10,
    "start_time": "2022-04-26T08:01:47.472Z"
   },
   {
    "duration": 10,
    "start_time": "2022-04-26T08:03:26.629Z"
   },
   {
    "duration": 11,
    "start_time": "2022-04-26T08:03:27.394Z"
   },
   {
    "duration": 37,
    "start_time": "2022-04-26T08:03:27.940Z"
   },
   {
    "duration": 5,
    "start_time": "2022-04-26T08:03:29.003Z"
   },
   {
    "duration": 11,
    "start_time": "2022-04-26T08:03:30.640Z"
   },
   {
    "duration": 35,
    "start_time": "2022-04-26T08:03:43.222Z"
   },
   {
    "duration": 13,
    "start_time": "2022-04-26T08:03:44.958Z"
   },
   {
    "duration": 28,
    "start_time": "2022-04-26T08:03:45.890Z"
   },
   {
    "duration": 43,
    "start_time": "2022-04-26T08:03:48.037Z"
   },
   {
    "duration": 8,
    "start_time": "2022-04-26T08:03:56.939Z"
   },
   {
    "duration": 9,
    "start_time": "2022-04-26T08:03:58.962Z"
   },
   {
    "duration": 10,
    "start_time": "2022-04-26T08:04:00.979Z"
   },
   {
    "duration": 9,
    "start_time": "2022-04-26T08:04:01.659Z"
   },
   {
    "duration": 395,
    "start_time": "2022-04-26T08:10:23.793Z"
   },
   {
    "duration": 383,
    "start_time": "2022-04-26T08:11:07.626Z"
   },
   {
    "duration": 397,
    "start_time": "2022-04-26T08:12:51.867Z"
   },
   {
    "duration": 415,
    "start_time": "2022-04-26T08:12:52.600Z"
   },
   {
    "duration": 478,
    "start_time": "2022-04-26T08:12:53.408Z"
   },
   {
    "duration": 499,
    "start_time": "2022-04-26T08:15:25.195Z"
   },
   {
    "duration": 419,
    "start_time": "2022-04-26T08:16:07.149Z"
   },
   {
    "duration": 382,
    "start_time": "2022-04-26T08:16:21.775Z"
   },
   {
    "duration": 386,
    "start_time": "2022-04-26T08:17:02.084Z"
   },
   {
    "duration": 677,
    "start_time": "2022-04-26T08:17:21.191Z"
   },
   {
    "duration": 196,
    "start_time": "2022-04-26T08:17:42.829Z"
   },
   {
    "duration": 2333,
    "start_time": "2022-04-26T08:31:00.461Z"
   },
   {
    "duration": 2170,
    "start_time": "2022-04-26T08:31:57.750Z"
   },
   {
    "duration": 1996,
    "start_time": "2022-04-26T08:41:46.691Z"
   },
   {
    "duration": 2182,
    "start_time": "2022-04-26T08:45:37.937Z"
   },
   {
    "duration": 2080,
    "start_time": "2022-04-26T08:47:12.762Z"
   },
   {
    "duration": 128,
    "start_time": "2022-04-26T08:47:52.196Z"
   },
   {
    "duration": 2140,
    "start_time": "2022-04-26T08:48:01.061Z"
   },
   {
    "duration": 1105,
    "start_time": "2022-04-26T08:49:06.545Z"
   },
   {
    "duration": 22,
    "start_time": "2022-04-26T08:52:30.283Z"
   },
   {
    "duration": 2040,
    "start_time": "2022-04-26T08:52:56.917Z"
   },
   {
    "duration": 6,
    "start_time": "2022-04-26T08:56:14.971Z"
   },
   {
    "duration": 5,
    "start_time": "2022-04-26T08:56:30.014Z"
   },
   {
    "duration": 6,
    "start_time": "2022-04-26T08:56:47.262Z"
   },
   {
    "duration": 5,
    "start_time": "2022-04-26T08:57:12.995Z"
   },
   {
    "duration": 51,
    "start_time": "2022-04-26T08:57:18.671Z"
   },
   {
    "duration": 106,
    "start_time": "2022-04-26T08:57:32.920Z"
   },
   {
    "duration": 47,
    "start_time": "2022-04-26T08:57:37.662Z"
   },
   {
    "duration": 67,
    "start_time": "2022-04-26T08:58:02.119Z"
   },
   {
    "duration": 133,
    "start_time": "2022-04-26T08:59:26.247Z"
   },
   {
    "duration": 70,
    "start_time": "2022-04-26T08:59:29.000Z"
   },
   {
    "duration": 808,
    "start_time": "2022-04-26T08:59:57.099Z"
   },
   {
    "duration": 838,
    "start_time": "2022-04-26T09:03:32.659Z"
   },
   {
    "duration": 973,
    "start_time": "2022-04-26T09:04:56.783Z"
   },
   {
    "duration": 1094,
    "start_time": "2022-04-26T09:10:32.424Z"
   },
   {
    "duration": 19,
    "start_time": "2022-04-26T09:12:39.584Z"
   },
   {
    "duration": 11,
    "start_time": "2022-04-26T09:14:28.902Z"
   },
   {
    "duration": 5,
    "start_time": "2022-04-26T09:14:32.750Z"
   },
   {
    "duration": 14,
    "start_time": "2022-04-26T09:14:37.740Z"
   },
   {
    "duration": 19,
    "start_time": "2022-04-26T09:14:45.991Z"
   },
   {
    "duration": 6,
    "start_time": "2022-04-26T09:15:18.740Z"
   },
   {
    "duration": 7,
    "start_time": "2022-04-26T09:16:08.108Z"
   },
   {
    "duration": 9,
    "start_time": "2022-04-26T09:16:39.538Z"
   },
   {
    "duration": 7,
    "start_time": "2022-04-26T09:16:52.320Z"
   },
   {
    "duration": 41,
    "start_time": "2022-04-26T09:17:13.828Z"
   },
   {
    "duration": 7,
    "start_time": "2022-04-26T09:21:06.678Z"
   },
   {
    "duration": 16,
    "start_time": "2022-04-26T09:21:51.813Z"
   },
   {
    "duration": 121,
    "start_time": "2022-04-26T09:22:38.734Z"
   },
   {
    "duration": 7,
    "start_time": "2022-04-26T09:22:45.522Z"
   },
   {
    "duration": 5,
    "start_time": "2022-04-26T09:26:17.585Z"
   },
   {
    "duration": 11,
    "start_time": "2022-04-26T09:26:18.319Z"
   },
   {
    "duration": 25,
    "start_time": "2022-04-26T09:26:20.551Z"
   },
   {
    "duration": 35,
    "start_time": "2022-04-26T09:26:21.113Z"
   },
   {
    "duration": 44,
    "start_time": "2022-04-26T09:26:24.566Z"
   },
   {
    "duration": 5,
    "start_time": "2022-04-26T09:28:59.007Z"
   },
   {
    "duration": 11,
    "start_time": "2022-04-26T09:29:19.682Z"
   },
   {
    "duration": 219,
    "start_time": "2022-04-26T09:31:15.685Z"
   },
   {
    "duration": 8,
    "start_time": "2022-04-26T09:31:16.702Z"
   },
   {
    "duration": 18,
    "start_time": "2022-04-26T09:31:20.847Z"
   },
   {
    "duration": 21,
    "start_time": "2022-04-26T09:31:21.656Z"
   },
   {
    "duration": 365,
    "start_time": "2022-04-26T09:31:22.503Z"
   },
   {
    "duration": 6,
    "start_time": "2022-04-26T09:31:57.078Z"
   },
   {
    "duration": 60,
    "start_time": "2022-04-26T09:32:30.053Z"
   },
   {
    "duration": 2054,
    "start_time": "2022-04-26T09:34:11.013Z"
   },
   {
    "duration": 57,
    "start_time": "2022-04-26T09:34:29.633Z"
   },
   {
    "duration": 6,
    "start_time": "2022-04-26T09:35:28.995Z"
   },
   {
    "duration": 6,
    "start_time": "2022-04-26T09:35:29.821Z"
   },
   {
    "duration": 194,
    "start_time": "2022-04-26T09:36:36.550Z"
   },
   {
    "duration": 201,
    "start_time": "2022-04-26T09:37:29.357Z"
   },
   {
    "duration": 127,
    "start_time": "2022-04-26T09:38:06.804Z"
   },
   {
    "duration": 128,
    "start_time": "2022-04-26T09:38:32.838Z"
   },
   {
    "duration": 203,
    "start_time": "2022-04-26T09:38:37.125Z"
   },
   {
    "duration": 193,
    "start_time": "2022-04-26T09:40:14.744Z"
   },
   {
    "duration": 191,
    "start_time": "2022-04-26T09:40:26.048Z"
   },
   {
    "duration": 284,
    "start_time": "2022-04-26T09:40:45.354Z"
   },
   {
    "duration": 190,
    "start_time": "2022-04-26T09:41:07.402Z"
   },
   {
    "duration": 196,
    "start_time": "2022-04-26T09:41:13.977Z"
   },
   {
    "duration": 197,
    "start_time": "2022-04-26T09:41:22.195Z"
   },
   {
    "duration": 199,
    "start_time": "2022-04-26T09:41:25.625Z"
   },
   {
    "duration": 194,
    "start_time": "2022-04-26T09:41:29.313Z"
   },
   {
    "duration": 190,
    "start_time": "2022-04-26T09:41:34.465Z"
   },
   {
    "duration": 61,
    "start_time": "2022-04-26T09:42:46.912Z"
   },
   {
    "duration": 303,
    "start_time": "2022-04-26T09:42:50.495Z"
   },
   {
    "duration": 125,
    "start_time": "2022-04-26T09:44:23.895Z"
   },
   {
    "duration": 161,
    "start_time": "2022-04-26T09:48:53.261Z"
   },
   {
    "duration": 148,
    "start_time": "2022-04-26T09:49:05.458Z"
   },
   {
    "duration": 363,
    "start_time": "2022-04-26T09:51:05.195Z"
   },
   {
    "duration": 6,
    "start_time": "2022-04-26T09:52:23.042Z"
   },
   {
    "duration": 7,
    "start_time": "2022-04-26T09:52:24.478Z"
   },
   {
    "duration": 62,
    "start_time": "2022-04-26T09:52:25.468Z"
   },
   {
    "duration": 11,
    "start_time": "2022-04-26T09:52:28.527Z"
   },
   {
    "duration": 289,
    "start_time": "2022-04-26T09:52:35.871Z"
   },
   {
    "duration": 49,
    "start_time": "2022-04-26T09:52:46.152Z"
   },
   {
    "duration": 6,
    "start_time": "2022-04-26T09:52:47.160Z"
   },
   {
    "duration": 6,
    "start_time": "2022-04-26T09:52:48.000Z"
   },
   {
    "duration": 51,
    "start_time": "2022-04-26T09:52:49.560Z"
   },
   {
    "duration": 1616,
    "start_time": "2022-04-26T09:52:53.495Z"
   },
   {
    "duration": 1580,
    "start_time": "2022-04-26T09:53:15.918Z"
   },
   {
    "duration": 242,
    "start_time": "2022-04-26T09:56:57.695Z"
   },
   {
    "duration": 47,
    "start_time": "2022-04-26T09:57:34.073Z"
   },
   {
    "duration": 43,
    "start_time": "2022-04-26T09:57:36.171Z"
   },
   {
    "duration": 413,
    "start_time": "2022-04-26T09:57:58.482Z"
   },
   {
    "duration": 44,
    "start_time": "2022-04-26T09:58:01.512Z"
   },
   {
    "duration": 44,
    "start_time": "2022-04-26T09:58:04.151Z"
   },
   {
    "duration": 11,
    "start_time": "2022-04-26T09:58:14.622Z"
   },
   {
    "duration": 7,
    "start_time": "2022-04-26T09:58:21.439Z"
   },
   {
    "duration": 191,
    "start_time": "2022-04-26T09:58:23.413Z"
   },
   {
    "duration": 206,
    "start_time": "2022-04-26T09:59:15.217Z"
   },
   {
    "duration": 407,
    "start_time": "2022-04-26T10:00:00.395Z"
   },
   {
    "duration": 406,
    "start_time": "2022-04-26T10:02:12.041Z"
   },
   {
    "duration": 345,
    "start_time": "2022-04-26T10:04:51.658Z"
   },
   {
    "duration": 214,
    "start_time": "2022-04-26T10:05:26.802Z"
   },
   {
    "duration": 35,
    "start_time": "2022-04-26T10:05:32.131Z"
   },
   {
    "duration": 33,
    "start_time": "2022-04-26T10:05:35.402Z"
   },
   {
    "duration": 38,
    "start_time": "2022-04-26T10:05:38.304Z"
   },
   {
    "duration": 2478,
    "start_time": "2022-04-26T10:05:41.881Z"
   },
   {
    "duration": 36,
    "start_time": "2022-04-26T10:05:49.133Z"
   },
   {
    "duration": 16,
    "start_time": "2022-04-26T10:05:51.716Z"
   },
   {
    "duration": 18,
    "start_time": "2022-04-26T10:05:56.025Z"
   },
   {
    "duration": 41,
    "start_time": "2022-04-26T10:06:13.267Z"
   },
   {
    "duration": 13,
    "start_time": "2022-04-26T10:06:14.095Z"
   },
   {
    "duration": 10,
    "start_time": "2022-04-26T10:06:14.822Z"
   },
   {
    "duration": 1646,
    "start_time": "2022-04-26T10:07:31.495Z"
   },
   {
    "duration": 35,
    "start_time": "2022-04-26T10:07:36.247Z"
   },
   {
    "duration": 115,
    "start_time": "2022-04-26T10:08:23.020Z"
   },
   {
    "duration": 16,
    "start_time": "2022-04-26T10:08:23.915Z"
   },
   {
    "duration": 34,
    "start_time": "2022-04-26T10:08:27.695Z"
   },
   {
    "duration": 29,
    "start_time": "2022-04-26T10:08:31.283Z"
   },
   {
    "duration": 12,
    "start_time": "2022-04-26T10:08:43.168Z"
   },
   {
    "duration": 14,
    "start_time": "2022-04-26T10:09:35.653Z"
   },
   {
    "duration": 19,
    "start_time": "2022-04-26T10:09:42.699Z"
   },
   {
    "duration": 3,
    "start_time": "2022-04-26T10:09:43.409Z"
   },
   {
    "duration": 18,
    "start_time": "2022-04-26T10:09:46.512Z"
   },
   {
    "duration": 17,
    "start_time": "2022-04-26T10:09:47.195Z"
   },
   {
    "duration": 11,
    "start_time": "2022-04-26T10:09:50.568Z"
   },
   {
    "duration": 23,
    "start_time": "2022-04-26T10:09:51.528Z"
   },
   {
    "duration": 4,
    "start_time": "2022-04-26T10:09:53.313Z"
   },
   {
    "duration": 22,
    "start_time": "2022-04-26T10:09:57.673Z"
   },
   {
    "duration": 28,
    "start_time": "2022-04-26T10:09:58.440Z"
   },
   {
    "duration": 6,
    "start_time": "2022-04-26T10:09:59.041Z"
   },
   {
    "duration": 18,
    "start_time": "2022-04-26T10:10:01.177Z"
   },
   {
    "duration": 5,
    "start_time": "2022-04-26T10:10:01.801Z"
   },
   {
    "duration": 13,
    "start_time": "2022-04-26T10:10:06.009Z"
   },
   {
    "duration": 12,
    "start_time": "2022-04-26T10:10:09.080Z"
   },
   {
    "duration": 9,
    "start_time": "2022-04-26T10:10:11.313Z"
   },
   {
    "duration": 10,
    "start_time": "2022-04-26T10:10:15.504Z"
   },
   {
    "duration": 8,
    "start_time": "2022-04-26T10:10:17.167Z"
   },
   {
    "duration": 11,
    "start_time": "2022-04-26T10:10:20.264Z"
   },
   {
    "duration": 3,
    "start_time": "2022-04-26T10:10:35.593Z"
   },
   {
    "duration": 11,
    "start_time": "2022-04-26T10:10:36.738Z"
   },
   {
    "duration": 12,
    "start_time": "2022-04-26T10:10:39.327Z"
   },
   {
    "duration": 12,
    "start_time": "2022-04-26T10:10:41.695Z"
   },
   {
    "duration": 37,
    "start_time": "2022-04-26T10:10:42.447Z"
   },
   {
    "duration": 6,
    "start_time": "2022-04-26T10:10:43.774Z"
   },
   {
    "duration": 10,
    "start_time": "2022-04-26T10:10:46.944Z"
   },
   {
    "duration": 34,
    "start_time": "2022-04-26T10:10:56.496Z"
   },
   {
    "duration": 14,
    "start_time": "2022-04-26T10:10:57.222Z"
   },
   {
    "duration": 28,
    "start_time": "2022-04-26T10:10:57.902Z"
   },
   {
    "duration": 45,
    "start_time": "2022-04-26T10:10:59.766Z"
   },
   {
    "duration": 9,
    "start_time": "2022-04-26T10:11:08.011Z"
   },
   {
    "duration": 9,
    "start_time": "2022-04-26T10:11:08.995Z"
   },
   {
    "duration": 11,
    "start_time": "2022-04-26T10:11:11.081Z"
   },
   {
    "duration": 10,
    "start_time": "2022-04-26T10:11:12.382Z"
   },
   {
    "duration": 510,
    "start_time": "2022-04-26T10:11:28.958Z"
   },
   {
    "duration": 421,
    "start_time": "2022-04-26T10:11:31.013Z"
   },
   {
    "duration": 418,
    "start_time": "2022-04-26T10:11:50.828Z"
   },
   {
    "duration": 440,
    "start_time": "2022-04-26T10:11:51.615Z"
   },
   {
    "duration": 494,
    "start_time": "2022-04-26T10:11:52.398Z"
   },
   {
    "duration": 224,
    "start_time": "2022-04-26T10:12:01.077Z"
   },
   {
    "duration": 1036,
    "start_time": "2022-04-26T10:12:01.773Z"
   },
   {
    "duration": 9,
    "start_time": "2022-04-26T10:12:02.811Z"
   },
   {
    "duration": 5,
    "start_time": "2022-04-26T10:12:10.277Z"
   },
   {
    "duration": 13,
    "start_time": "2022-04-26T10:12:10.782Z"
   },
   {
    "duration": 24,
    "start_time": "2022-04-26T10:12:12.957Z"
   },
   {
    "duration": 34,
    "start_time": "2022-04-26T10:12:13.540Z"
   },
   {
    "duration": 40,
    "start_time": "2022-04-26T10:12:15.306Z"
   },
   {
    "duration": 12,
    "start_time": "2022-04-26T10:12:29.017Z"
   },
   {
    "duration": 216,
    "start_time": "2022-04-26T10:14:30.397Z"
   },
   {
    "duration": 7,
    "start_time": "2022-04-26T10:14:31.221Z"
   },
   {
    "duration": 19,
    "start_time": "2022-04-26T10:14:34.437Z"
   },
   {
    "duration": 20,
    "start_time": "2022-04-26T10:14:35.148Z"
   },
   {
    "duration": 250,
    "start_time": "2022-04-26T10:14:36.180Z"
   },
   {
    "duration": 6,
    "start_time": "2022-04-26T10:15:06.444Z"
   },
   {
    "duration": 59,
    "start_time": "2022-04-26T10:15:11.150Z"
   },
   {
    "duration": 6,
    "start_time": "2022-04-26T10:15:18.096Z"
   },
   {
    "duration": 6,
    "start_time": "2022-04-26T10:15:18.612Z"
   },
   {
    "duration": 194,
    "start_time": "2022-04-26T10:15:20.852Z"
   },
   {
    "duration": 66,
    "start_time": "2022-04-26T10:15:34.095Z"
   },
   {
    "duration": 342,
    "start_time": "2022-04-26T10:15:35.643Z"
   },
   {
    "duration": 5,
    "start_time": "2022-04-26T10:15:39.851Z"
   },
   {
    "duration": 5,
    "start_time": "2022-04-26T10:15:40.611Z"
   },
   {
    "duration": 58,
    "start_time": "2022-04-26T10:15:41.322Z"
   },
   {
    "duration": 13,
    "start_time": "2022-04-26T10:15:41.795Z"
   },
   {
    "duration": 268,
    "start_time": "2022-04-26T10:15:45.026Z"
   },
   {
    "duration": 48,
    "start_time": "2022-04-26T10:15:46.660Z"
   },
   {
    "duration": 6,
    "start_time": "2022-04-26T10:15:47.555Z"
   },
   {
    "duration": 6,
    "start_time": "2022-04-26T10:15:48.013Z"
   },
   {
    "duration": 48,
    "start_time": "2022-04-26T10:15:49.122Z"
   },
   {
    "duration": 1740,
    "start_time": "2022-04-26T10:15:49.930Z"
   },
   {
    "duration": 1615,
    "start_time": "2022-04-26T10:16:03.290Z"
   },
   {
    "duration": 237,
    "start_time": "2022-04-26T10:16:05.275Z"
   },
   {
    "duration": 51,
    "start_time": "2022-04-26T10:16:09.469Z"
   },
   {
    "duration": 41,
    "start_time": "2022-04-26T10:16:11.414Z"
   },
   {
    "duration": 394,
    "start_time": "2022-04-26T10:16:12.833Z"
   },
   {
    "duration": 65,
    "start_time": "2022-04-26T10:16:15.886Z"
   },
   {
    "duration": 39,
    "start_time": "2022-04-26T10:16:16.302Z"
   },
   {
    "duration": 7,
    "start_time": "2022-04-26T10:16:18.798Z"
   },
   {
    "duration": 12,
    "start_time": "2022-04-26T10:16:19.261Z"
   },
   {
    "duration": 7,
    "start_time": "2022-04-26T10:16:21.421Z"
   },
   {
    "duration": 201,
    "start_time": "2022-04-26T10:16:22.155Z"
   },
   {
    "duration": 407,
    "start_time": "2022-04-26T10:16:23.467Z"
   },
   {
    "duration": 230,
    "start_time": "2022-04-26T10:16:25.369Z"
   },
   {
    "duration": 35,
    "start_time": "2022-04-26T10:16:26.618Z"
   },
   {
    "duration": 33,
    "start_time": "2022-04-26T10:16:27.050Z"
   },
   {
    "duration": 44,
    "start_time": "2022-04-26T10:16:28.945Z"
   },
   {
    "duration": 152,
    "start_time": "2022-04-26T10:16:30.195Z"
   },
   {
    "duration": 2799,
    "start_time": "2022-04-26T10:16:47.154Z"
   },
   {
    "duration": 39,
    "start_time": "2022-04-26T10:16:56.031Z"
   },
   {
    "duration": 17,
    "start_time": "2022-04-26T10:16:56.961Z"
   },
   {
    "duration": 16,
    "start_time": "2022-04-26T10:16:57.395Z"
   },
   {
    "duration": 47,
    "start_time": "2022-04-26T10:17:15.520Z"
   },
   {
    "duration": 16,
    "start_time": "2022-04-26T10:17:16.025Z"
   },
   {
    "duration": 15,
    "start_time": "2022-04-26T10:17:16.536Z"
   },
   {
    "duration": 144,
    "start_time": "2022-04-26T10:17:49.425Z"
   },
   {
    "duration": 150,
    "start_time": "2022-04-26T10:18:02.607Z"
   },
   {
    "duration": 1378,
    "start_time": "2022-04-26T11:54:34.109Z"
   },
   {
    "duration": 37,
    "start_time": "2022-04-26T11:54:35.488Z"
   },
   {
    "duration": 89,
    "start_time": "2022-04-26T11:54:35.526Z"
   },
   {
    "duration": 10,
    "start_time": "2022-04-26T11:54:35.617Z"
   },
   {
    "duration": 36,
    "start_time": "2022-04-26T11:54:35.628Z"
   },
   {
    "duration": 15,
    "start_time": "2022-04-26T11:54:35.666Z"
   },
   {
    "duration": 101,
    "start_time": "2022-04-26T11:54:35.682Z"
   },
   {
    "duration": 0,
    "start_time": "2022-04-26T11:54:35.787Z"
   },
   {
    "duration": 0,
    "start_time": "2022-04-26T11:54:35.788Z"
   },
   {
    "duration": 0,
    "start_time": "2022-04-26T11:54:35.789Z"
   },
   {
    "duration": 0,
    "start_time": "2022-04-26T11:54:35.791Z"
   },
   {
    "duration": 0,
    "start_time": "2022-04-26T11:54:35.792Z"
   },
   {
    "duration": 0,
    "start_time": "2022-04-26T11:54:35.794Z"
   },
   {
    "duration": 0,
    "start_time": "2022-04-26T11:54:35.795Z"
   },
   {
    "duration": 0,
    "start_time": "2022-04-26T11:54:35.796Z"
   },
   {
    "duration": 1,
    "start_time": "2022-04-26T11:54:35.797Z"
   },
   {
    "duration": 0,
    "start_time": "2022-04-26T11:54:35.798Z"
   },
   {
    "duration": 0,
    "start_time": "2022-04-26T11:54:35.800Z"
   },
   {
    "duration": 0,
    "start_time": "2022-04-26T11:54:35.801Z"
   },
   {
    "duration": 0,
    "start_time": "2022-04-26T11:54:35.803Z"
   },
   {
    "duration": 0,
    "start_time": "2022-04-26T11:54:35.804Z"
   },
   {
    "duration": 0,
    "start_time": "2022-04-26T11:54:35.805Z"
   },
   {
    "duration": 0,
    "start_time": "2022-04-26T11:54:35.806Z"
   },
   {
    "duration": 0,
    "start_time": "2022-04-26T11:54:35.807Z"
   },
   {
    "duration": 0,
    "start_time": "2022-04-26T11:54:35.848Z"
   },
   {
    "duration": 0,
    "start_time": "2022-04-26T11:54:35.849Z"
   },
   {
    "duration": 0,
    "start_time": "2022-04-26T11:54:35.850Z"
   },
   {
    "duration": 0,
    "start_time": "2022-04-26T11:54:35.851Z"
   },
   {
    "duration": 0,
    "start_time": "2022-04-26T11:54:35.852Z"
   },
   {
    "duration": 0,
    "start_time": "2022-04-26T11:54:35.853Z"
   },
   {
    "duration": 0,
    "start_time": "2022-04-26T11:54:35.853Z"
   },
   {
    "duration": 0,
    "start_time": "2022-04-26T11:54:35.854Z"
   },
   {
    "duration": 0,
    "start_time": "2022-04-26T11:54:35.855Z"
   },
   {
    "duration": 0,
    "start_time": "2022-04-26T11:54:35.856Z"
   },
   {
    "duration": 0,
    "start_time": "2022-04-26T11:54:35.857Z"
   },
   {
    "duration": 0,
    "start_time": "2022-04-26T11:54:35.858Z"
   },
   {
    "duration": 0,
    "start_time": "2022-04-26T11:54:35.859Z"
   },
   {
    "duration": 0,
    "start_time": "2022-04-26T11:54:35.860Z"
   },
   {
    "duration": 0,
    "start_time": "2022-04-26T11:54:35.861Z"
   },
   {
    "duration": 0,
    "start_time": "2022-04-26T11:54:35.862Z"
   },
   {
    "duration": 0,
    "start_time": "2022-04-26T11:54:35.863Z"
   },
   {
    "duration": 0,
    "start_time": "2022-04-26T11:54:35.864Z"
   },
   {
    "duration": 0,
    "start_time": "2022-04-26T11:54:35.865Z"
   },
   {
    "duration": 0,
    "start_time": "2022-04-26T11:54:35.866Z"
   },
   {
    "duration": 0,
    "start_time": "2022-04-26T11:54:35.867Z"
   },
   {
    "duration": 0,
    "start_time": "2022-04-26T11:54:35.868Z"
   },
   {
    "duration": 0,
    "start_time": "2022-04-26T11:54:35.869Z"
   },
   {
    "duration": 0,
    "start_time": "2022-04-26T11:54:35.870Z"
   },
   {
    "duration": 0,
    "start_time": "2022-04-26T11:54:35.871Z"
   },
   {
    "duration": 0,
    "start_time": "2022-04-26T11:54:35.872Z"
   },
   {
    "duration": 0,
    "start_time": "2022-04-26T11:54:35.873Z"
   },
   {
    "duration": 1,
    "start_time": "2022-04-26T11:54:35.873Z"
   },
   {
    "duration": 0,
    "start_time": "2022-04-26T11:54:35.874Z"
   },
   {
    "duration": 1,
    "start_time": "2022-04-26T11:54:35.875Z"
   },
   {
    "duration": 0,
    "start_time": "2022-04-26T11:54:35.877Z"
   },
   {
    "duration": 0,
    "start_time": "2022-04-26T11:54:35.878Z"
   },
   {
    "duration": 0,
    "start_time": "2022-04-26T11:54:35.879Z"
   },
   {
    "duration": 0,
    "start_time": "2022-04-26T11:54:35.880Z"
   },
   {
    "duration": 0,
    "start_time": "2022-04-26T11:54:35.881Z"
   },
   {
    "duration": 0,
    "start_time": "2022-04-26T11:54:35.882Z"
   },
   {
    "duration": 0,
    "start_time": "2022-04-26T11:54:35.883Z"
   },
   {
    "duration": 0,
    "start_time": "2022-04-26T11:54:35.883Z"
   },
   {
    "duration": 0,
    "start_time": "2022-04-26T11:54:35.948Z"
   },
   {
    "duration": 0,
    "start_time": "2022-04-26T11:54:35.949Z"
   },
   {
    "duration": 0,
    "start_time": "2022-04-26T11:54:35.950Z"
   },
   {
    "duration": 0,
    "start_time": "2022-04-26T11:54:35.951Z"
   },
   {
    "duration": 0,
    "start_time": "2022-04-26T11:54:35.952Z"
   },
   {
    "duration": 0,
    "start_time": "2022-04-26T11:54:35.953Z"
   },
   {
    "duration": 0,
    "start_time": "2022-04-26T11:54:35.954Z"
   },
   {
    "duration": 0,
    "start_time": "2022-04-26T11:54:35.955Z"
   },
   {
    "duration": 0,
    "start_time": "2022-04-26T11:54:35.956Z"
   },
   {
    "duration": 0,
    "start_time": "2022-04-26T11:54:35.957Z"
   },
   {
    "duration": 0,
    "start_time": "2022-04-26T11:54:35.958Z"
   },
   {
    "duration": 0,
    "start_time": "2022-04-26T11:54:35.959Z"
   },
   {
    "duration": 0,
    "start_time": "2022-04-26T11:54:35.960Z"
   },
   {
    "duration": 0,
    "start_time": "2022-04-26T11:54:35.961Z"
   },
   {
    "duration": 0,
    "start_time": "2022-04-26T11:54:35.962Z"
   },
   {
    "duration": 0,
    "start_time": "2022-04-26T11:54:35.963Z"
   },
   {
    "duration": 0,
    "start_time": "2022-04-26T11:54:35.964Z"
   },
   {
    "duration": 0,
    "start_time": "2022-04-26T11:54:35.965Z"
   },
   {
    "duration": 0,
    "start_time": "2022-04-26T11:54:35.966Z"
   },
   {
    "duration": 0,
    "start_time": "2022-04-26T11:54:35.967Z"
   },
   {
    "duration": 0,
    "start_time": "2022-04-26T11:54:35.968Z"
   },
   {
    "duration": 0,
    "start_time": "2022-04-26T11:54:35.969Z"
   },
   {
    "duration": 0,
    "start_time": "2022-04-26T11:54:35.970Z"
   },
   {
    "duration": 0,
    "start_time": "2022-04-26T11:54:35.971Z"
   },
   {
    "duration": 0,
    "start_time": "2022-04-26T11:54:35.972Z"
   },
   {
    "duration": 0,
    "start_time": "2022-04-26T11:54:35.973Z"
   },
   {
    "duration": 0,
    "start_time": "2022-04-26T11:54:35.974Z"
   },
   {
    "duration": 0,
    "start_time": "2022-04-26T11:54:35.975Z"
   },
   {
    "duration": 0,
    "start_time": "2022-04-26T11:54:35.976Z"
   },
   {
    "duration": 0,
    "start_time": "2022-04-26T11:54:35.977Z"
   },
   {
    "duration": 0,
    "start_time": "2022-04-26T11:54:35.978Z"
   },
   {
    "duration": 0,
    "start_time": "2022-04-26T11:54:35.979Z"
   },
   {
    "duration": 0,
    "start_time": "2022-04-26T11:54:35.980Z"
   },
   {
    "duration": 0,
    "start_time": "2022-04-26T11:54:35.981Z"
   },
   {
    "duration": 0,
    "start_time": "2022-04-26T11:54:36.052Z"
   },
   {
    "duration": 0,
    "start_time": "2022-04-26T11:54:36.053Z"
   },
   {
    "duration": 1205,
    "start_time": "2022-04-26T11:55:52.900Z"
   },
   {
    "duration": 28,
    "start_time": "2022-04-26T11:55:54.107Z"
   },
   {
    "duration": 3,
    "start_time": "2022-04-26T11:55:54.137Z"
   },
   {
    "duration": 12,
    "start_time": "2022-04-26T11:55:54.143Z"
   },
   {
    "duration": 23,
    "start_time": "2022-04-26T11:55:54.157Z"
   },
   {
    "duration": 16,
    "start_time": "2022-04-26T11:55:54.182Z"
   },
   {
    "duration": 135,
    "start_time": "2022-04-26T11:55:54.200Z"
   },
   {
    "duration": 0,
    "start_time": "2022-04-26T11:55:54.339Z"
   },
   {
    "duration": 0,
    "start_time": "2022-04-26T11:55:54.347Z"
   },
   {
    "duration": 0,
    "start_time": "2022-04-26T11:55:54.348Z"
   },
   {
    "duration": 0,
    "start_time": "2022-04-26T11:55:54.349Z"
   },
   {
    "duration": 0,
    "start_time": "2022-04-26T11:55:54.351Z"
   },
   {
    "duration": 0,
    "start_time": "2022-04-26T11:55:54.351Z"
   },
   {
    "duration": 0,
    "start_time": "2022-04-26T11:55:54.352Z"
   },
   {
    "duration": 0,
    "start_time": "2022-04-26T11:55:54.354Z"
   },
   {
    "duration": 0,
    "start_time": "2022-04-26T11:55:54.355Z"
   },
   {
    "duration": 0,
    "start_time": "2022-04-26T11:55:54.356Z"
   },
   {
    "duration": 0,
    "start_time": "2022-04-26T11:55:54.357Z"
   },
   {
    "duration": 0,
    "start_time": "2022-04-26T11:55:54.358Z"
   },
   {
    "duration": 0,
    "start_time": "2022-04-26T11:55:54.359Z"
   },
   {
    "duration": 0,
    "start_time": "2022-04-26T11:55:54.360Z"
   },
   {
    "duration": 0,
    "start_time": "2022-04-26T11:55:54.362Z"
   },
   {
    "duration": 0,
    "start_time": "2022-04-26T11:55:54.362Z"
   },
   {
    "duration": 0,
    "start_time": "2022-04-26T11:55:54.364Z"
   },
   {
    "duration": 0,
    "start_time": "2022-04-26T11:55:54.365Z"
   },
   {
    "duration": 0,
    "start_time": "2022-04-26T11:55:54.366Z"
   },
   {
    "duration": 0,
    "start_time": "2022-04-26T11:55:54.367Z"
   },
   {
    "duration": 0,
    "start_time": "2022-04-26T11:55:54.368Z"
   },
   {
    "duration": 0,
    "start_time": "2022-04-26T11:55:54.369Z"
   },
   {
    "duration": 0,
    "start_time": "2022-04-26T11:55:54.370Z"
   },
   {
    "duration": 0,
    "start_time": "2022-04-26T11:55:54.371Z"
   },
   {
    "duration": 0,
    "start_time": "2022-04-26T11:55:54.372Z"
   },
   {
    "duration": 0,
    "start_time": "2022-04-26T11:55:54.373Z"
   },
   {
    "duration": 0,
    "start_time": "2022-04-26T11:55:54.375Z"
   },
   {
    "duration": 0,
    "start_time": "2022-04-26T11:55:54.376Z"
   },
   {
    "duration": 0,
    "start_time": "2022-04-26T11:55:54.377Z"
   },
   {
    "duration": 0,
    "start_time": "2022-04-26T11:55:54.378Z"
   },
   {
    "duration": 0,
    "start_time": "2022-04-26T11:55:54.379Z"
   },
   {
    "duration": 0,
    "start_time": "2022-04-26T11:55:54.380Z"
   },
   {
    "duration": 0,
    "start_time": "2022-04-26T11:55:54.381Z"
   },
   {
    "duration": 0,
    "start_time": "2022-04-26T11:55:54.382Z"
   },
   {
    "duration": 0,
    "start_time": "2022-04-26T11:55:54.383Z"
   },
   {
    "duration": 0,
    "start_time": "2022-04-26T11:55:54.384Z"
   },
   {
    "duration": 0,
    "start_time": "2022-04-26T11:55:54.386Z"
   },
   {
    "duration": 0,
    "start_time": "2022-04-26T11:55:54.448Z"
   },
   {
    "duration": 0,
    "start_time": "2022-04-26T11:55:54.448Z"
   },
   {
    "duration": 0,
    "start_time": "2022-04-26T11:55:54.449Z"
   },
   {
    "duration": 0,
    "start_time": "2022-04-26T11:55:54.450Z"
   },
   {
    "duration": 0,
    "start_time": "2022-04-26T11:55:54.451Z"
   },
   {
    "duration": 0,
    "start_time": "2022-04-26T11:55:54.452Z"
   },
   {
    "duration": 0,
    "start_time": "2022-04-26T11:55:54.453Z"
   },
   {
    "duration": 0,
    "start_time": "2022-04-26T11:55:54.454Z"
   },
   {
    "duration": 0,
    "start_time": "2022-04-26T11:55:54.455Z"
   },
   {
    "duration": 0,
    "start_time": "2022-04-26T11:55:54.456Z"
   },
   {
    "duration": 0,
    "start_time": "2022-04-26T11:55:54.457Z"
   },
   {
    "duration": 0,
    "start_time": "2022-04-26T11:55:54.458Z"
   },
   {
    "duration": 0,
    "start_time": "2022-04-26T11:55:54.459Z"
   },
   {
    "duration": 0,
    "start_time": "2022-04-26T11:55:54.460Z"
   },
   {
    "duration": 0,
    "start_time": "2022-04-26T11:55:54.461Z"
   },
   {
    "duration": 0,
    "start_time": "2022-04-26T11:55:54.462Z"
   },
   {
    "duration": 0,
    "start_time": "2022-04-26T11:55:54.463Z"
   },
   {
    "duration": 0,
    "start_time": "2022-04-26T11:55:54.464Z"
   },
   {
    "duration": 0,
    "start_time": "2022-04-26T11:55:54.465Z"
   },
   {
    "duration": 0,
    "start_time": "2022-04-26T11:55:54.467Z"
   },
   {
    "duration": 0,
    "start_time": "2022-04-26T11:55:54.467Z"
   },
   {
    "duration": 0,
    "start_time": "2022-04-26T11:55:54.468Z"
   },
   {
    "duration": 0,
    "start_time": "2022-04-26T11:55:54.469Z"
   },
   {
    "duration": 0,
    "start_time": "2022-04-26T11:55:54.470Z"
   },
   {
    "duration": 0,
    "start_time": "2022-04-26T11:55:54.471Z"
   },
   {
    "duration": 0,
    "start_time": "2022-04-26T11:55:54.472Z"
   },
   {
    "duration": 0,
    "start_time": "2022-04-26T11:55:54.473Z"
   },
   {
    "duration": 0,
    "start_time": "2022-04-26T11:55:54.474Z"
   },
   {
    "duration": 0,
    "start_time": "2022-04-26T11:55:54.475Z"
   },
   {
    "duration": 0,
    "start_time": "2022-04-26T11:55:54.476Z"
   },
   {
    "duration": 0,
    "start_time": "2022-04-26T11:55:54.477Z"
   },
   {
    "duration": 0,
    "start_time": "2022-04-26T11:55:54.477Z"
   },
   {
    "duration": 0,
    "start_time": "2022-04-26T11:55:54.479Z"
   },
   {
    "duration": 0,
    "start_time": "2022-04-26T11:55:54.480Z"
   },
   {
    "duration": 0,
    "start_time": "2022-04-26T11:55:54.481Z"
   },
   {
    "duration": 0,
    "start_time": "2022-04-26T11:55:54.482Z"
   },
   {
    "duration": 0,
    "start_time": "2022-04-26T11:55:54.483Z"
   },
   {
    "duration": 0,
    "start_time": "2022-04-26T11:55:54.484Z"
   },
   {
    "duration": 0,
    "start_time": "2022-04-26T11:55:54.484Z"
   },
   {
    "duration": 0,
    "start_time": "2022-04-26T11:55:54.485Z"
   },
   {
    "duration": 0,
    "start_time": "2022-04-26T11:55:54.486Z"
   },
   {
    "duration": 0,
    "start_time": "2022-04-26T11:55:54.547Z"
   },
   {
    "duration": 0,
    "start_time": "2022-04-26T11:55:54.549Z"
   },
   {
    "duration": 0,
    "start_time": "2022-04-26T11:55:54.550Z"
   },
   {
    "duration": 0,
    "start_time": "2022-04-26T11:55:54.551Z"
   },
   {
    "duration": 0,
    "start_time": "2022-04-26T11:55:54.552Z"
   },
   {
    "duration": 0,
    "start_time": "2022-04-26T11:55:54.553Z"
   },
   {
    "duration": 0,
    "start_time": "2022-04-26T11:55:54.554Z"
   },
   {
    "duration": 0,
    "start_time": "2022-04-26T11:55:54.555Z"
   },
   {
    "duration": 0,
    "start_time": "2022-04-26T11:55:54.556Z"
   },
   {
    "duration": 0,
    "start_time": "2022-04-26T11:55:54.558Z"
   },
   {
    "duration": 0,
    "start_time": "2022-04-26T11:55:54.559Z"
   },
   {
    "duration": 0,
    "start_time": "2022-04-26T11:55:54.559Z"
   },
   {
    "duration": 0,
    "start_time": "2022-04-26T11:55:54.560Z"
   },
   {
    "duration": 13,
    "start_time": "2022-04-26T12:09:42.654Z"
   },
   {
    "duration": 114,
    "start_time": "2022-04-26T12:17:49.273Z"
   },
   {
    "duration": 33,
    "start_time": "2022-04-26T12:17:49.389Z"
   },
   {
    "duration": 3,
    "start_time": "2022-04-26T12:17:49.424Z"
   },
   {
    "duration": 18,
    "start_time": "2022-04-26T12:17:49.429Z"
   },
   {
    "duration": 24,
    "start_time": "2022-04-26T12:17:49.449Z"
   },
   {
    "duration": 17,
    "start_time": "2022-04-26T12:17:49.474Z"
   },
   {
    "duration": 12,
    "start_time": "2022-04-26T12:17:49.492Z"
   },
   {
    "duration": 0,
    "start_time": "2022-04-26T12:17:49.506Z"
   },
   {
    "duration": 12,
    "start_time": "2022-04-26T12:17:57.160Z"
   },
   {
    "duration": 17,
    "start_time": "2022-04-26T12:18:00.336Z"
   },
   {
    "duration": 8,
    "start_time": "2022-04-26T12:18:00.356Z"
   },
   {
    "duration": 14,
    "start_time": "2022-04-26T12:18:00.365Z"
   },
   {
    "duration": 17,
    "start_time": "2022-04-26T12:18:00.381Z"
   },
   {
    "duration": 13,
    "start_time": "2022-04-26T12:18:00.400Z"
   },
   {
    "duration": 42,
    "start_time": "2022-04-26T12:18:00.415Z"
   },
   {
    "duration": 11,
    "start_time": "2022-04-26T12:18:00.459Z"
   },
   {
    "duration": 21,
    "start_time": "2022-04-26T12:18:00.471Z"
   },
   {
    "duration": 28,
    "start_time": "2022-04-26T12:18:00.493Z"
   },
   {
    "duration": 12,
    "start_time": "2022-04-26T12:18:00.550Z"
   },
   {
    "duration": 17,
    "start_time": "2022-04-26T12:18:00.564Z"
   },
   {
    "duration": 10,
    "start_time": "2022-04-26T12:18:00.582Z"
   },
   {
    "duration": 27,
    "start_time": "2022-04-26T12:18:00.594Z"
   },
   {
    "duration": 19,
    "start_time": "2022-04-26T12:18:00.623Z"
   },
   {
    "duration": 17,
    "start_time": "2022-04-26T12:18:00.644Z"
   },
   {
    "duration": 18,
    "start_time": "2022-04-26T12:18:00.663Z"
   },
   {
    "duration": 9,
    "start_time": "2022-04-26T12:18:00.683Z"
   },
   {
    "duration": 22,
    "start_time": "2022-04-26T12:18:00.694Z"
   },
   {
    "duration": 5,
    "start_time": "2022-04-26T12:18:00.718Z"
   },
   {
    "duration": 15,
    "start_time": "2022-04-26T12:18:00.725Z"
   },
   {
    "duration": 19,
    "start_time": "2022-04-26T12:18:00.741Z"
   },
   {
    "duration": 15,
    "start_time": "2022-04-26T12:18:00.762Z"
   },
   {
    "duration": 50,
    "start_time": "2022-04-26T12:18:00.779Z"
   },
   {
    "duration": 4,
    "start_time": "2022-04-26T12:18:00.831Z"
   },
   {
    "duration": 23,
    "start_time": "2022-04-26T12:18:00.836Z"
   },
   {
    "duration": 23,
    "start_time": "2022-04-26T12:18:00.861Z"
   },
   {
    "duration": 10,
    "start_time": "2022-04-26T12:18:00.886Z"
   },
   {
    "duration": 21,
    "start_time": "2022-04-26T12:18:00.901Z"
   },
   {
    "duration": 45,
    "start_time": "2022-04-26T12:18:00.924Z"
   },
   {
    "duration": 6,
    "start_time": "2022-04-26T12:18:00.971Z"
   },
   {
    "duration": 18,
    "start_time": "2022-04-26T12:18:00.978Z"
   },
   {
    "duration": 16,
    "start_time": "2022-04-26T12:18:00.998Z"
   },
   {
    "duration": 11,
    "start_time": "2022-04-26T12:18:01.016Z"
   },
   {
    "duration": 238,
    "start_time": "2022-04-26T12:18:01.029Z"
   },
   {
    "duration": 250,
    "start_time": "2022-04-26T12:18:01.269Z"
   },
   {
    "duration": 373,
    "start_time": "2022-04-26T12:18:01.521Z"
   },
   {
    "duration": 495,
    "start_time": "2022-04-26T12:18:01.896Z"
   },
   {
    "duration": 227,
    "start_time": "2022-04-26T12:18:02.392Z"
   },
   {
    "duration": 130,
    "start_time": "2022-04-26T12:18:02.621Z"
   },
   {
    "duration": 514,
    "start_time": "2022-04-26T12:18:02.753Z"
   },
   {
    "duration": 7,
    "start_time": "2022-04-26T12:18:03.269Z"
   },
   {
    "duration": 8,
    "start_time": "2022-04-26T12:18:03.278Z"
   },
   {
    "duration": 8,
    "start_time": "2022-04-26T12:18:03.288Z"
   },
   {
    "duration": 16,
    "start_time": "2022-04-26T12:18:03.298Z"
   },
   {
    "duration": 50,
    "start_time": "2022-04-26T12:18:03.316Z"
   },
   {
    "duration": 26,
    "start_time": "2022-04-26T12:18:03.368Z"
   },
   {
    "duration": 10,
    "start_time": "2022-04-26T12:18:03.396Z"
   },
   {
    "duration": 157,
    "start_time": "2022-04-26T12:18:03.408Z"
   },
   {
    "duration": 6,
    "start_time": "2022-04-26T12:18:03.567Z"
   },
   {
    "duration": 13,
    "start_time": "2022-04-26T12:18:03.575Z"
   },
   {
    "duration": 16,
    "start_time": "2022-04-26T12:18:03.590Z"
   },
   {
    "duration": 169,
    "start_time": "2022-04-26T12:18:03.608Z"
   },
   {
    "duration": 4,
    "start_time": "2022-04-26T12:18:03.779Z"
   },
   {
    "duration": 38,
    "start_time": "2022-04-26T12:18:03.785Z"
   },
   {
    "duration": 4,
    "start_time": "2022-04-26T12:18:03.825Z"
   },
   {
    "duration": 5,
    "start_time": "2022-04-26T12:18:03.847Z"
   },
   {
    "duration": 133,
    "start_time": "2022-04-26T12:18:03.853Z"
   },
   {
    "duration": 39,
    "start_time": "2022-04-26T12:18:03.988Z"
   },
   {
    "duration": 216,
    "start_time": "2022-04-26T12:18:04.029Z"
   },
   {
    "duration": 4,
    "start_time": "2022-04-26T12:18:04.247Z"
   },
   {
    "duration": 14,
    "start_time": "2022-04-26T12:18:04.252Z"
   },
   {
    "duration": 34,
    "start_time": "2022-04-26T12:18:04.268Z"
   },
   {
    "duration": 7,
    "start_time": "2022-04-26T12:18:04.304Z"
   },
   {
    "duration": 181,
    "start_time": "2022-04-26T12:18:04.313Z"
   },
   {
    "duration": 30,
    "start_time": "2022-04-26T12:18:04.496Z"
   },
   {
    "duration": 22,
    "start_time": "2022-04-26T12:18:04.528Z"
   },
   {
    "duration": 6,
    "start_time": "2022-04-26T12:18:04.552Z"
   },
   {
    "duration": 34,
    "start_time": "2022-04-26T12:18:04.560Z"
   },
   {
    "duration": 974,
    "start_time": "2022-04-26T12:18:04.596Z"
   },
   {
    "duration": 129,
    "start_time": "2022-04-26T12:18:05.572Z"
   },
   {
    "duration": 27,
    "start_time": "2022-04-26T12:18:05.703Z"
   },
   {
    "duration": 37,
    "start_time": "2022-04-26T12:18:05.732Z"
   },
   {
    "duration": 241,
    "start_time": "2022-04-26T12:18:05.771Z"
   },
   {
    "duration": 39,
    "start_time": "2022-04-26T12:18:06.014Z"
   },
   {
    "duration": 23,
    "start_time": "2022-04-26T12:18:06.055Z"
   },
   {
    "duration": 5,
    "start_time": "2022-04-26T12:18:06.080Z"
   },
   {
    "duration": 9,
    "start_time": "2022-04-26T12:18:06.087Z"
   },
   {
    "duration": 6,
    "start_time": "2022-04-26T12:18:06.098Z"
   },
   {
    "duration": 125,
    "start_time": "2022-04-26T12:18:06.106Z"
   },
   {
    "duration": 346,
    "start_time": "2022-04-26T12:18:06.232Z"
   },
   {
    "duration": 197,
    "start_time": "2022-04-26T12:18:06.580Z"
   },
   {
    "duration": 34,
    "start_time": "2022-04-26T12:18:06.785Z"
   },
   {
    "duration": 46,
    "start_time": "2022-04-26T12:18:06.822Z"
   },
   {
    "duration": 24,
    "start_time": "2022-04-26T12:18:06.870Z"
   },
   {
    "duration": 1460,
    "start_time": "2022-04-26T12:18:06.896Z"
   },
   {
    "duration": 22,
    "start_time": "2022-04-26T12:18:08.357Z"
   },
   {
    "duration": 10,
    "start_time": "2022-04-26T12:18:08.380Z"
   },
   {
    "duration": 11,
    "start_time": "2022-04-26T12:18:08.392Z"
   },
   {
    "duration": 46,
    "start_time": "2022-04-26T12:18:08.404Z"
   },
   {
    "duration": 8,
    "start_time": "2022-04-26T12:18:08.451Z"
   },
   {
    "duration": 8,
    "start_time": "2022-04-26T12:18:08.460Z"
   },
   {
    "duration": 3,
    "start_time": "2022-04-26T12:35:00.720Z"
   },
   {
    "duration": 12,
    "start_time": "2022-04-26T12:35:11.158Z"
   }
  ],
  "kernelspec": {
   "display_name": "Python 3 (ipykernel)",
   "language": "python",
   "name": "python3"
  },
  "language_info": {
   "codemirror_mode": {
    "name": "ipython",
    "version": 3
   },
   "file_extension": ".py",
   "mimetype": "text/x-python",
   "name": "python",
   "nbconvert_exporter": "python",
   "pygments_lexer": "ipython3",
   "version": "3.9.5"
  },
  "toc": {
   "base_numbering": 1,
   "nav_menu": {},
   "number_sections": true,
   "sideBar": true,
   "skip_h1_title": true,
   "title_cell": "Table of Contents",
   "title_sidebar": "Contents",
   "toc_cell": true,
   "toc_position": {
    "height": "calc(100% - 180px)",
    "left": "10px",
    "top": "150px",
    "width": "288px"
   },
   "toc_section_display": true,
   "toc_window_display": false
  }
 },
 "nbformat": 4,
 "nbformat_minor": 5
}
