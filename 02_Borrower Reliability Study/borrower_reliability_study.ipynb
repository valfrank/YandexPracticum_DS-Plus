{
 "cells": [
  {
   "cell_type": "markdown",
   "metadata": {
    "datalore": {
     "sheet_delimiter": false,
     "type": "MD"
    },
    "jupyter": {
     "outputs_hidden": false,
     "source_hidden": false
    }
   },
   "source": [
    "# Borrower Reliability Study"
   ]
  },
  {
   "cell_type": "markdown",
   "metadata": {
    "datalore": {
     "sheet_delimiter": false,
     "type": "MD"
    },
    "jupyter": {
     "outputs_hidden": false,
     "source_hidden": false
    }
   },
   "source": [
    "The customer is the credit department of the bank. It is necessary to put forward hypotheses based on general information about clients, what factors can influence the repayment of the loan on time.\n",
    "The results of the study will be taken into account when building a credit scoring model - a special system that assesses the ability of a potential borrower to repay a loan to a bank\n",
    "Data - statistics on the solvency of customers, provided by customers in the form of `.csv`"
   ]
  },
  {
   "cell_type": "markdown",
   "metadata": {
    "datalore": {
     "sheet_delimiter": false,
     "type": "MD"
    },
    "jupyter": {
     "outputs_hidden": false,
     "source_hidden": false
    }
   },
   "source": [
    "## Import basic libraries and data sources"
   ]
  },
  {
   "cell_type": "code",
   "execution_count": 1,
   "metadata": {
    "datalore": {
     "sheet_delimiter": false,
     "type": "CODE"
    },
    "jupyter": {
     "outputs_hidden": false,
     "source_hidden": false
    }
   },
   "outputs": [],
   "source": [
    "import pandas as pd\n",
    "import seaborn as sns\n",
    "import matplotlib.pyplot as plt"
   ]
  },
  {
   "cell_type": "code",
   "execution_count": 2,
   "outputs": [
    {
     "name": "stdout",
     "output_type": "stream",
     "text": [
      "<class 'pandas.core.frame.DataFrame'>\n",
      "RangeIndex: 21525 entries, 0 to 21524\n",
      "Data columns (total 12 columns):\n",
      " #   Column            Non-Null Count  Dtype  \n",
      "---  ------            --------------  -----  \n",
      " 0   children          21525 non-null  int64  \n",
      " 1   days_employed     19351 non-null  float64\n",
      " 2   dob_years         21525 non-null  int64  \n",
      " 3   education         21525 non-null  object \n",
      " 4   education_id      21525 non-null  int64  \n",
      " 5   family_status     21525 non-null  object \n",
      " 6   family_status_id  21525 non-null  int64  \n",
      " 7   gender            21525 non-null  object \n",
      " 8   income_type       21525 non-null  object \n",
      " 9   debt              21525 non-null  int64  \n",
      " 10  total_income      19351 non-null  float64\n",
      " 11  purpose           21525 non-null  object \n",
      "dtypes: float64(2), int64(5), object(5)\n",
      "memory usage: 2.0+ MB\n"
     ]
    },
    {
     "data": {
      "text/plain": "   children  days_employed  dob_years education  education_id  \\\n0         1   -8437.673028         42    высшее             0   \n1         1   -4024.803754         36   среднее             1   \n2         0   -5623.422610         33   Среднее             1   \n3         3   -4124.747207         32   среднее             1   \n4         0  340266.072047         53   среднее             1   \n5         0    -926.185831         27    высшее             0   \n6         0   -2879.202052         43    высшее             0   \n7         0    -152.779569         50   СРЕДНЕЕ             1   \n8         2   -6929.865299         35    ВЫСШЕЕ             0   \n9         0   -2188.756445         41   среднее             1   \n\n      family_status  family_status_id gender income_type  debt   total_income  \\\n0   женат / замужем                 0      F   сотрудник     0  253875.639453   \n1   женат / замужем                 0      F   сотрудник     0  112080.014102   \n2   женат / замужем                 0      M   сотрудник     0  145885.952297   \n3   женат / замужем                 0      M   сотрудник     0  267628.550329   \n4  гражданский брак                 1      F   пенсионер     0  158616.077870   \n5  гражданский брак                 1      M   компаньон     0  255763.565419   \n6   женат / замужем                 0      F   компаньон     0  240525.971920   \n7   женат / замужем                 0      M   сотрудник     0  135823.934197   \n8  гражданский брак                 1      F   сотрудник     0   95856.832424   \n9   женат / замужем                 0      M   сотрудник     0  144425.938277   \n\n                      purpose  \n0               покупка жилья  \n1     приобретение автомобиля  \n2               покупка жилья  \n3  дополнительное образование  \n4             сыграть свадьбу  \n5               покупка жилья  \n6           операции с жильем  \n7                 образование  \n8       на проведение свадьбы  \n9     покупка жилья для семьи  ",
      "text/html": "<div>\n<style scoped>\n    .dataframe tbody tr th:only-of-type {\n        vertical-align: middle;\n    }\n\n    .dataframe tbody tr th {\n        vertical-align: top;\n    }\n\n    .dataframe thead th {\n        text-align: right;\n    }\n</style>\n<table border=\"1\" class=\"dataframe\">\n  <thead>\n    <tr style=\"text-align: right;\">\n      <th></th>\n      <th>children</th>\n      <th>days_employed</th>\n      <th>dob_years</th>\n      <th>education</th>\n      <th>education_id</th>\n      <th>family_status</th>\n      <th>family_status_id</th>\n      <th>gender</th>\n      <th>income_type</th>\n      <th>debt</th>\n      <th>total_income</th>\n      <th>purpose</th>\n    </tr>\n  </thead>\n  <tbody>\n    <tr>\n      <th>0</th>\n      <td>1</td>\n      <td>-8437.673028</td>\n      <td>42</td>\n      <td>высшее</td>\n      <td>0</td>\n      <td>женат / замужем</td>\n      <td>0</td>\n      <td>F</td>\n      <td>сотрудник</td>\n      <td>0</td>\n      <td>253875.639453</td>\n      <td>покупка жилья</td>\n    </tr>\n    <tr>\n      <th>1</th>\n      <td>1</td>\n      <td>-4024.803754</td>\n      <td>36</td>\n      <td>среднее</td>\n      <td>1</td>\n      <td>женат / замужем</td>\n      <td>0</td>\n      <td>F</td>\n      <td>сотрудник</td>\n      <td>0</td>\n      <td>112080.014102</td>\n      <td>приобретение автомобиля</td>\n    </tr>\n    <tr>\n      <th>2</th>\n      <td>0</td>\n      <td>-5623.422610</td>\n      <td>33</td>\n      <td>Среднее</td>\n      <td>1</td>\n      <td>женат / замужем</td>\n      <td>0</td>\n      <td>M</td>\n      <td>сотрудник</td>\n      <td>0</td>\n      <td>145885.952297</td>\n      <td>покупка жилья</td>\n    </tr>\n    <tr>\n      <th>3</th>\n      <td>3</td>\n      <td>-4124.747207</td>\n      <td>32</td>\n      <td>среднее</td>\n      <td>1</td>\n      <td>женат / замужем</td>\n      <td>0</td>\n      <td>M</td>\n      <td>сотрудник</td>\n      <td>0</td>\n      <td>267628.550329</td>\n      <td>дополнительное образование</td>\n    </tr>\n    <tr>\n      <th>4</th>\n      <td>0</td>\n      <td>340266.072047</td>\n      <td>53</td>\n      <td>среднее</td>\n      <td>1</td>\n      <td>гражданский брак</td>\n      <td>1</td>\n      <td>F</td>\n      <td>пенсионер</td>\n      <td>0</td>\n      <td>158616.077870</td>\n      <td>сыграть свадьбу</td>\n    </tr>\n    <tr>\n      <th>5</th>\n      <td>0</td>\n      <td>-926.185831</td>\n      <td>27</td>\n      <td>высшее</td>\n      <td>0</td>\n      <td>гражданский брак</td>\n      <td>1</td>\n      <td>M</td>\n      <td>компаньон</td>\n      <td>0</td>\n      <td>255763.565419</td>\n      <td>покупка жилья</td>\n    </tr>\n    <tr>\n      <th>6</th>\n      <td>0</td>\n      <td>-2879.202052</td>\n      <td>43</td>\n      <td>высшее</td>\n      <td>0</td>\n      <td>женат / замужем</td>\n      <td>0</td>\n      <td>F</td>\n      <td>компаньон</td>\n      <td>0</td>\n      <td>240525.971920</td>\n      <td>операции с жильем</td>\n    </tr>\n    <tr>\n      <th>7</th>\n      <td>0</td>\n      <td>-152.779569</td>\n      <td>50</td>\n      <td>СРЕДНЕЕ</td>\n      <td>1</td>\n      <td>женат / замужем</td>\n      <td>0</td>\n      <td>M</td>\n      <td>сотрудник</td>\n      <td>0</td>\n      <td>135823.934197</td>\n      <td>образование</td>\n    </tr>\n    <tr>\n      <th>8</th>\n      <td>2</td>\n      <td>-6929.865299</td>\n      <td>35</td>\n      <td>ВЫСШЕЕ</td>\n      <td>0</td>\n      <td>гражданский брак</td>\n      <td>1</td>\n      <td>F</td>\n      <td>сотрудник</td>\n      <td>0</td>\n      <td>95856.832424</td>\n      <td>на проведение свадьбы</td>\n    </tr>\n    <tr>\n      <th>9</th>\n      <td>0</td>\n      <td>-2188.756445</td>\n      <td>41</td>\n      <td>среднее</td>\n      <td>1</td>\n      <td>женат / замужем</td>\n      <td>0</td>\n      <td>M</td>\n      <td>сотрудник</td>\n      <td>0</td>\n      <td>144425.938277</td>\n      <td>покупка жилья для семьи</td>\n    </tr>\n  </tbody>\n</table>\n</div>"
     },
     "metadata": {},
     "output_type": "display_data"
    }
   ],
   "source": [
    "df = pd.read_csv('data.csv')\n",
    "\n",
    "df.info()\n",
    "display(df.head(10))"
   ],
   "metadata": {
    "collapsed": false
   }
  },
  {
   "cell_type": "markdown",
   "metadata": {
    "datalore": {
     "sheet_delimiter": false,
     "type": "MD"
    },
    "jupyter": {
     "outputs_hidden": false,
     "source_hidden": false
    }
   },
   "source": [
    "**Resume**\n",
    "\n",
    "1. The table has 12 columns (4 of which are numeric, 8 are categorical or binary) and 21525 rows, each row provides information about a bank client, including information about marital status and children.\n",
    "2. Column names are correct in accordance with the style.\n",
    "3. There are missing values in the data (`days_employed` and `total_income` columns).\n",
    "4. Also on the first 10 lines, you can already notice implicit duplicates (different case in the `education` column, as well as anomalies (for example, negative values in the `days_employed` column).\n",
    "The first stage of the project will be data preprocessing."
   ]
  },
  {
   "cell_type": "markdown",
   "source": [
    "## Data preprocess"
   ],
   "metadata": {
    "collapsed": false
   }
  },
  {
   "cell_type": "markdown",
   "metadata": {
    "datalore": {
     "sheet_delimiter": false,
     "type": "MD"
    },
    "jupyter": {
     "outputs_hidden": false,
     "source_hidden": false
    }
   },
   "source": [
    "### Missing values"
   ]
  },
  {
   "cell_type": "code",
   "execution_count": 3,
   "metadata": {
    "datalore": {
     "sheet_delimiter": false,
     "type": "CODE"
    },
    "jupyter": {
     "outputs_hidden": false,
     "source_hidden": false
    }
   },
   "outputs": [
    {
     "data": {
      "text/plain": "children               0\ndays_employed       2174\ndob_years              0\neducation              0\neducation_id           0\nfamily_status          0\nfamily_status_id       0\ngender                 0\nincome_type            0\ndebt                   0\ntotal_income        2174\npurpose                0\ndtype: int64"
     },
     "execution_count": 3,
     "metadata": {},
     "output_type": "execute_result"
    }
   ],
   "source": [
    "df.isna().sum()"
   ]
  },
  {
   "cell_type": "markdown",
   "metadata": {
    "datalore": {
     "sheet_delimiter": false,
     "type": "MD"
    },
    "jupyter": {
     "outputs_hidden": false,
     "source_hidden": false
    }
   },
   "source": [
    "`days_employed` and `total_income` have missing values (2174)"
   ]
  },
  {
   "cell_type": "markdown",
   "metadata": {
    "datalore": {
     "sheet_delimiter": false,
     "type": "MD"
    },
    "jupyter": {
     "outputs_hidden": false,
     "source_hidden": false
    }
   },
   "source": [
    "**Let's display the table with only missing values:**"
   ]
  },
  {
   "cell_type": "code",
   "execution_count": 4,
   "metadata": {
    "datalore": {
     "sheet_delimiter": false,
     "type": "CODE"
    },
    "jupyter": {
     "outputs_hidden": false,
     "source_hidden": false
    }
   },
   "outputs": [
    {
     "data": {
      "text/plain": "       children  days_employed  dob_years education  education_id  \\\n12            0            NaN         65   среднее             1   \n26            0            NaN         41   среднее             1   \n29            0            NaN         63   среднее             1   \n41            0            NaN         50   среднее             1   \n55            0            NaN         54   среднее             1   \n...         ...            ...        ...       ...           ...   \n21489         2            NaN         47   Среднее             1   \n21495         1            NaN         50   среднее             1   \n21497         0            NaN         48    ВЫСШЕЕ             0   \n21502         1            NaN         42   среднее             1   \n21510         2            NaN         28   среднее             1   \n\n               family_status  family_status_id gender  income_type  debt  \\\n12          гражданский брак                 1      M    пенсионер     0   \n26           женат / замужем                 0      M  госслужащий     0   \n29     Не женат / не замужем                 4      F    пенсионер     0   \n41           женат / замужем                 0      F  госслужащий     0   \n55          гражданский брак                 1      F    пенсионер     1   \n...                      ...               ...    ...          ...   ...   \n21489        женат / замужем                 0      M    компаньон     0   \n21495       гражданский брак                 1      F    сотрудник     0   \n21497        женат / замужем                 0      F    компаньон     0   \n21502        женат / замужем                 0      F    сотрудник     0   \n21510        женат / замужем                 0      F    сотрудник     0   \n\n       total_income                           purpose  \n12              NaN                   сыграть свадьбу  \n26              NaN                       образование  \n29              NaN  строительство жилой недвижимости  \n41              NaN  сделка с подержанным автомобилем  \n55              NaN                   сыграть свадьбу  \n...             ...                               ...  \n21489           NaN              сделка с автомобилем  \n21495           NaN                           свадьба  \n21497           NaN        строительство недвижимости  \n21502           NaN  строительство жилой недвижимости  \n21510           NaN           приобретение автомобиля  \n\n[2174 rows x 12 columns]",
      "text/html": "<div>\n<style scoped>\n    .dataframe tbody tr th:only-of-type {\n        vertical-align: middle;\n    }\n\n    .dataframe tbody tr th {\n        vertical-align: top;\n    }\n\n    .dataframe thead th {\n        text-align: right;\n    }\n</style>\n<table border=\"1\" class=\"dataframe\">\n  <thead>\n    <tr style=\"text-align: right;\">\n      <th></th>\n      <th>children</th>\n      <th>days_employed</th>\n      <th>dob_years</th>\n      <th>education</th>\n      <th>education_id</th>\n      <th>family_status</th>\n      <th>family_status_id</th>\n      <th>gender</th>\n      <th>income_type</th>\n      <th>debt</th>\n      <th>total_income</th>\n      <th>purpose</th>\n    </tr>\n  </thead>\n  <tbody>\n    <tr>\n      <th>12</th>\n      <td>0</td>\n      <td>NaN</td>\n      <td>65</td>\n      <td>среднее</td>\n      <td>1</td>\n      <td>гражданский брак</td>\n      <td>1</td>\n      <td>M</td>\n      <td>пенсионер</td>\n      <td>0</td>\n      <td>NaN</td>\n      <td>сыграть свадьбу</td>\n    </tr>\n    <tr>\n      <th>26</th>\n      <td>0</td>\n      <td>NaN</td>\n      <td>41</td>\n      <td>среднее</td>\n      <td>1</td>\n      <td>женат / замужем</td>\n      <td>0</td>\n      <td>M</td>\n      <td>госслужащий</td>\n      <td>0</td>\n      <td>NaN</td>\n      <td>образование</td>\n    </tr>\n    <tr>\n      <th>29</th>\n      <td>0</td>\n      <td>NaN</td>\n      <td>63</td>\n      <td>среднее</td>\n      <td>1</td>\n      <td>Не женат / не замужем</td>\n      <td>4</td>\n      <td>F</td>\n      <td>пенсионер</td>\n      <td>0</td>\n      <td>NaN</td>\n      <td>строительство жилой недвижимости</td>\n    </tr>\n    <tr>\n      <th>41</th>\n      <td>0</td>\n      <td>NaN</td>\n      <td>50</td>\n      <td>среднее</td>\n      <td>1</td>\n      <td>женат / замужем</td>\n      <td>0</td>\n      <td>F</td>\n      <td>госслужащий</td>\n      <td>0</td>\n      <td>NaN</td>\n      <td>сделка с подержанным автомобилем</td>\n    </tr>\n    <tr>\n      <th>55</th>\n      <td>0</td>\n      <td>NaN</td>\n      <td>54</td>\n      <td>среднее</td>\n      <td>1</td>\n      <td>гражданский брак</td>\n      <td>1</td>\n      <td>F</td>\n      <td>пенсионер</td>\n      <td>1</td>\n      <td>NaN</td>\n      <td>сыграть свадьбу</td>\n    </tr>\n    <tr>\n      <th>...</th>\n      <td>...</td>\n      <td>...</td>\n      <td>...</td>\n      <td>...</td>\n      <td>...</td>\n      <td>...</td>\n      <td>...</td>\n      <td>...</td>\n      <td>...</td>\n      <td>...</td>\n      <td>...</td>\n      <td>...</td>\n    </tr>\n    <tr>\n      <th>21489</th>\n      <td>2</td>\n      <td>NaN</td>\n      <td>47</td>\n      <td>Среднее</td>\n      <td>1</td>\n      <td>женат / замужем</td>\n      <td>0</td>\n      <td>M</td>\n      <td>компаньон</td>\n      <td>0</td>\n      <td>NaN</td>\n      <td>сделка с автомобилем</td>\n    </tr>\n    <tr>\n      <th>21495</th>\n      <td>1</td>\n      <td>NaN</td>\n      <td>50</td>\n      <td>среднее</td>\n      <td>1</td>\n      <td>гражданский брак</td>\n      <td>1</td>\n      <td>F</td>\n      <td>сотрудник</td>\n      <td>0</td>\n      <td>NaN</td>\n      <td>свадьба</td>\n    </tr>\n    <tr>\n      <th>21497</th>\n      <td>0</td>\n      <td>NaN</td>\n      <td>48</td>\n      <td>ВЫСШЕЕ</td>\n      <td>0</td>\n      <td>женат / замужем</td>\n      <td>0</td>\n      <td>F</td>\n      <td>компаньон</td>\n      <td>0</td>\n      <td>NaN</td>\n      <td>строительство недвижимости</td>\n    </tr>\n    <tr>\n      <th>21502</th>\n      <td>1</td>\n      <td>NaN</td>\n      <td>42</td>\n      <td>среднее</td>\n      <td>1</td>\n      <td>женат / замужем</td>\n      <td>0</td>\n      <td>F</td>\n      <td>сотрудник</td>\n      <td>0</td>\n      <td>NaN</td>\n      <td>строительство жилой недвижимости</td>\n    </tr>\n    <tr>\n      <th>21510</th>\n      <td>2</td>\n      <td>NaN</td>\n      <td>28</td>\n      <td>среднее</td>\n      <td>1</td>\n      <td>женат / замужем</td>\n      <td>0</td>\n      <td>F</td>\n      <td>сотрудник</td>\n      <td>0</td>\n      <td>NaN</td>\n      <td>приобретение автомобиля</td>\n    </tr>\n  </tbody>\n</table>\n<p>2174 rows × 12 columns</p>\n</div>"
     },
     "execution_count": 4,
     "metadata": {},
     "output_type": "execute_result"
    }
   ],
   "source": [
    "df[df['days_employed'].isna()]"
   ]
  },
  {
   "cell_type": "markdown",
   "source": [
    "It can be concluded that the omissions are not associated with any specific parameter: omissions occur in all categories of marital status, type of income, credit purposes, gender. Most likely, these omissions are accidental, users did not leave this data."
   ],
   "metadata": {
    "collapsed": false
   }
  },
  {
   "cell_type": "markdown",
   "metadata": {
    "datalore": {
     "sheet_delimiter": false,
     "type": "MD"
    },
    "jupyter": {
     "outputs_hidden": false,
     "source_hidden": false
    }
   },
   "source": [
    "**Let's check Percentage of missing values in each of the missing columns:**"
   ]
  },
  {
   "cell_type": "code",
   "execution_count": 5,
   "metadata": {
    "datalore": {
     "sheet_delimiter": false,
     "type": "CODE"
    },
    "jupyter": {
     "outputs_hidden": false,
     "source_hidden": false
    }
   },
   "outputs": [
    {
     "name": "stdout",
     "output_type": "stream",
     "text": [
      "Percentage of missing values in a column days_employed 10.1%\n",
      "Percentage of missing values in a column total_income 10.1%\n"
     ]
    }
   ],
   "source": [
    "print(f\"Percentage of missing values in a column days_employed {1 - df['days_employed'].count() / df['children'].count():.01%}\")\n",
    "print(f\"Percentage of missing values in a column total_income {1 - df['total_income'].count() / df['children'].count():.01%}\")"
   ]
  },
  {
   "cell_type": "markdown",
   "source": [
    "The gaps take up 10% of all rows, which is quite a lot of data, so deleting rows with 'None' may skew further results. Since the number of days and the amount of incoming funds are quantitative variables, gaps can be replaced by characteristic values (arithmetic mean or median).\n",
    "Both of these parameters determine the center values in the sample. But since we have a large number of variables, some of which will be uncharacteristic for the sample under study, too large or too small, it is more correct to use the median to estimate the center."
   ],
   "metadata": {
    "collapsed": false
   }
  },
  {
   "cell_type": "markdown",
   "metadata": {
    "datalore": {
     "sheet_delimiter": false,
     "type": "MD"
    },
    "jupyter": {
     "outputs_hidden": false,
     "source_hidden": false
    }
   },
   "source": [
    "**`total_income`**"
   ]
  },
  {
   "cell_type": "code",
   "execution_count": 6,
   "metadata": {
    "datalore": {
     "sheet_delimiter": false,
     "type": "CODE"
    },
    "jupyter": {
     "outputs_hidden": false,
     "source_hidden": false
    }
   },
   "outputs": [
    {
     "data": {
      "text/plain": "сотрудник          1105\nкомпаньон           508\nпенсионер           413\nгосслужащий         147\nпредприниматель       1\nName: income_type, dtype: int64"
     },
     "execution_count": 6,
     "metadata": {},
     "output_type": "execute_result"
    }
   ],
   "source": [
    "df.loc[df['total_income'].isnull(), 'income_type'].value_counts()"
   ]
  },
  {
   "cell_type": "code",
   "execution_count": 7,
   "metadata": {
    "datalore": {
     "sheet_delimiter": false,
     "type": "CODE"
    },
    "jupyter": {
     "outputs_hidden": false,
     "source_hidden": false
    }
   },
   "outputs": [
    {
     "data": {
      "text/plain": "income_type\nбезработный        131339\nв декрете           53829\nгосслужащий        150447\nкомпаньон          172357\nпенсионер          118514\nпредприниматель    499163\nсотрудник          142594\nстудент             98201\nName: total_income, dtype: int64"
     },
     "execution_count": 7,
     "metadata": {},
     "output_type": "execute_result"
    }
   ],
   "source": [
    "medians_total_income = df.groupby('income_type')['total_income'].median().astype('int')\n",
    "medians_total_income"
   ]
  },
  {
   "cell_type": "code",
   "execution_count": 8,
   "metadata": {
    "datalore": {
     "sheet_delimiter": false,
     "type": "CODE"
    },
    "jupyter": {
     "outputs_hidden": false,
     "source_hidden": false
    }
   },
   "outputs": [],
   "source": [
    "df.loc[(df['total_income'].isnull()) & (df['income_type'] == 'сотрудник'), 'total_income'] = medians_total_income[6]\n",
    "df.loc[(df['total_income'].isnull()) & (df['income_type'] == 'компаньон'), 'total_income'] = medians_total_income[3]\n",
    "df.loc[(df['total_income'].isnull()) & (df['income_type'] == 'пенсионер'), 'total_income'] = medians_total_income[4]\n",
    "df.loc[(df['total_income'].isnull()) & (df['income_type'] == 'госслужащий'), 'total_income'] = medians_total_income[2]\n",
    "df.loc[(df['total_income'].isnull()) & (df['income_type'] == 'предприниматель'), 'total_income'] = medians_total_income[5]"
   ]
  },
  {
   "cell_type": "code",
   "execution_count": 9,
   "metadata": {
    "datalore": {
     "sheet_delimiter": false,
     "type": "CODE"
    },
    "jupyter": {
     "outputs_hidden": false,
     "source_hidden": false
    }
   },
   "outputs": [
    {
     "name": "stdout",
     "output_type": "stream",
     "text": [
      "0\n"
     ]
    }
   ],
   "source": [
    "print(df['total_income'].isna().sum())"
   ]
  },
  {
   "cell_type": "markdown",
   "metadata": {
    "datalore": {
     "sheet_delimiter": false,
     "type": "MD"
    },
    "jupyter": {
     "outputs_hidden": false,
     "source_hidden": false
    }
   },
   "source": [
    "**days_employed**\n",
    "\n",
    "The number of working days depends on the age of the client, so we need to enter a categorization by this parameter and then find the median values for each category.\n",
    "Let's check what anomalies there are in the `dob_years` column. To do this, we build a distribution of customer age values to see outliers."
   ]
  },
  {
   "cell_type": "code",
   "execution_count": 10,
   "metadata": {},
   "outputs": [
    {
     "data": {
      "text/plain": "<Figure size 432x288 with 1 Axes>",
      "image/png": "[encoded data removed]"
     },
     "metadata": {
      "needs_background": "light"
     },
     "output_type": "display_data"
    }
   ],
   "source": [
    "sns.distplot(df['dob_years'], bins=20)\n",
    "\n",
    "plt.title('Distribution', size=20, weight='bold')\n",
    "plt.xlabel('Age of client', size=14, weight='bold')\n",
    "plt.ylabel(f'Density', size=14, weight='bold')\n",
    "\n",
    "plt.show()"
   ]
  },
  {
   "cell_type": "markdown",
   "metadata": {
    "datalore": {
     "sheet_delimiter": false,
     "type": "MD"
    },
    "jupyter": {
     "outputs_hidden": false,
     "source_hidden": false
    }
   },
   "source": [
    "Null values got into the data on the age of customers, they will need to be eliminated, and also pay attention to whether the error is really caused by a human factor."
   ]
  },
  {
   "cell_type": "code",
   "execution_count": 11,
   "metadata": {
    "datalore": {
     "sheet_delimiter": false,
     "type": "CODE"
    },
    "jupyter": {
     "outputs_hidden": false,
     "source_hidden": false
    }
   },
   "outputs": [
    {
     "data": {
      "text/plain": "сотрудник      55\nпенсионер      20\nкомпаньон      20\nгосслужащий     6\nName: income_type, dtype: int64"
     },
     "execution_count": 11,
     "metadata": {},
     "output_type": "execute_result"
    }
   ],
   "source": [
    "df.loc[df['dob_years'] == 0, 'income_type'].value_counts()"
   ]
  },
  {
   "cell_type": "code",
   "execution_count": 12,
   "metadata": {
    "datalore": {
     "sheet_delimiter": false,
     "type": "CODE"
    },
    "jupyter": {
     "outputs_hidden": false,
     "source_hidden": false
    }
   },
   "outputs": [
    {
     "data": {
      "text/plain": "income_type\nбезработный        38\nв декрете          39\nгосслужащий        40\nкомпаньон          39\nпенсионер          60\nпредприниматель    42\nсотрудник          39\nстудент            22\nName: dob_years, dtype: int64"
     },
     "execution_count": 12,
     "metadata": {},
     "output_type": "execute_result"
    }
   ],
   "source": [
    "age_medians = df.groupby('income_type')['dob_years'].median().astype('int')\n",
    "age_medians"
   ]
  },
  {
   "cell_type": "code",
   "execution_count": 13,
   "metadata": {
    "datalore": {
     "sheet_delimiter": false,
     "type": "CODE"
    },
    "jupyter": {
     "outputs_hidden": false,
     "source_hidden": false
    }
   },
   "outputs": [],
   "source": [
    "df.loc[(df['dob_years'] == 0) & (df['income_type'] == 'сотрудник'), 'dob_years'] = age_medians[6]\n",
    "df.loc[(df['dob_years'] == 0) & (df['income_type'] == 'компаньон'), 'dob_years'] = age_medians[3]\n",
    "df.loc[(df['dob_years'] == 0) & (df['income_type'] == 'пенсионер'), 'dob_years'] = age_medians[4]\n",
    "df.loc[(df['dob_years'] == 0) & (df['income_type'] == 'госслужащий'), 'dob_years'] = age_medians[2]"
   ]
  },
  {
   "cell_type": "code",
   "execution_count": 14,
   "metadata": {
    "datalore": {
     "sheet_delimiter": false,
     "type": "CODE"
    },
    "jupyter": {
     "outputs_hidden": false,
     "source_hidden": false
    }
   },
   "outputs": [
    {
     "data": {
      "text/plain": "Series([], Name: dob_years, dtype: int64)"
     },
     "execution_count": 14,
     "metadata": {},
     "output_type": "execute_result"
    }
   ],
   "source": [
    "df.loc[df['dob_years'] == 0, 'dob_years'].value_counts()"
   ]
  },
  {
   "cell_type": "markdown",
   "metadata": {
    "datalore": {
     "sheet_delimiter": false,
     "type": "MD"
    },
    "jupyter": {
     "outputs_hidden": false,
     "source_hidden": false
    }
   },
   "source": [
    "All Nan values in the age of clients are removed.\n",
    "\n",
    "*Now you can deal with gaps in the `days_employed` column.*\n",
    "1. Let's divide clients into categories by age.\n",
    "2. Find the median values of working days by age category.\n",
    "3. Fill in the gaps in the `days_employed` column with medians."
   ]
  },
  {
   "cell_type": "code",
   "execution_count": 15,
   "metadata": {
    "datalore": {
     "sheet_delimiter": false,
     "type": "CODE"
    },
    "jupyter": {
     "outputs_hidden": false,
     "source_hidden": false
    }
   },
   "outputs": [
    {
     "data": {
      "text/plain": "count    21525.000000\nmean        43.496167\nstd         12.231538\nmin         19.000000\n25%         34.000000\n50%         43.000000\n75%         53.000000\nmax         75.000000\nName: dob_years, dtype: float64"
     },
     "execution_count": 15,
     "metadata": {},
     "output_type": "execute_result"
    }
   ],
   "source": [
    "df['dob_years'].describe()"
   ]
  },
  {
   "cell_type": "markdown",
   "metadata": {
    "datalore": {
     "sheet_delimiter": false,
     "type": "MD"
    },
    "jupyter": {
     "outputs_hidden": false,
     "source_hidden": false
    }
   },
   "source": [
    "Let's break down the age of customers into categories of 25%:\n",
    "- up to 34 (inclusive) - category `'I'`\n",
    "- from 35 to 43 (inclusive) - category ``II'`\n",
    "- from 44 to 53 (inclusive) - category ``III'`\n",
    "- after 53 - category ``IV'`\n"
   ]
  },
  {
   "cell_type": "code",
   "execution_count": 16,
   "metadata": {
    "datalore": {
     "sheet_delimiter": false,
     "type": "CODE"
    },
    "jupyter": {
     "outputs_hidden": false,
     "source_hidden": false
    }
   },
   "outputs": [],
   "source": [
    "def dob_years_group(dob_years):\n",
    "    if dob_years <= 34:\n",
    "        return 'I'\n",
    "    elif 35 <= dob_years <= 43:\n",
    "        return 'II'\n",
    "    elif 44 <= dob_years <= 53:\n",
    "        return 'III'\n",
    "    else:\n",
    "        return 'IV'"
   ]
  },
  {
   "cell_type": "code",
   "execution_count": 17,
   "metadata": {
    "datalore": {
     "sheet_delimiter": false,
     "type": "CODE"
    },
    "jupyter": {
     "outputs_hidden": false,
     "source_hidden": false
    }
   },
   "outputs": [
    {
     "data": {
      "text/plain": "   children  days_employed  dob_years education  education_id  \\\n0         1   -8437.673028         42    высшее             0   \n1         1   -4024.803754         36   среднее             1   \n2         0   -5623.422610         33   Среднее             1   \n3         3   -4124.747207         32   среднее             1   \n4         0  340266.072047         53   среднее             1   \n\n      family_status  family_status_id gender income_type  debt   total_income  \\\n0   женат / замужем                 0      F   сотрудник     0  253875.639453   \n1   женат / замужем                 0      F   сотрудник     0  112080.014102   \n2   женат / замужем                 0      M   сотрудник     0  145885.952297   \n3   женат / замужем                 0      M   сотрудник     0  267628.550329   \n4  гражданский брак                 1      F   пенсионер     0  158616.077870   \n\n                      purpose dob_years_category  \n0               покупка жилья                 II  \n1     приобретение автомобиля                 II  \n2               покупка жилья                  I  \n3  дополнительное образование                  I  \n4             сыграть свадьбу                III  ",
      "text/html": "<div>\n<style scoped>\n    .dataframe tbody tr th:only-of-type {\n        vertical-align: middle;\n    }\n\n    .dataframe tbody tr th {\n        vertical-align: top;\n    }\n\n    .dataframe thead th {\n        text-align: right;\n    }\n</style>\n<table border=\"1\" class=\"dataframe\">\n  <thead>\n    <tr style=\"text-align: right;\">\n      <th></th>\n      <th>children</th>\n      <th>days_employed</th>\n      <th>dob_years</th>\n      <th>education</th>\n      <th>education_id</th>\n      <th>family_status</th>\n      <th>family_status_id</th>\n      <th>gender</th>\n      <th>income_type</th>\n      <th>debt</th>\n      <th>total_income</th>\n      <th>purpose</th>\n      <th>dob_years_category</th>\n    </tr>\n  </thead>\n  <tbody>\n    <tr>\n      <th>0</th>\n      <td>1</td>\n      <td>-8437.673028</td>\n      <td>42</td>\n      <td>высшее</td>\n      <td>0</td>\n      <td>женат / замужем</td>\n      <td>0</td>\n      <td>F</td>\n      <td>сотрудник</td>\n      <td>0</td>\n      <td>253875.639453</td>\n      <td>покупка жилья</td>\n      <td>II</td>\n    </tr>\n    <tr>\n      <th>1</th>\n      <td>1</td>\n      <td>-4024.803754</td>\n      <td>36</td>\n      <td>среднее</td>\n      <td>1</td>\n      <td>женат / замужем</td>\n      <td>0</td>\n      <td>F</td>\n      <td>сотрудник</td>\n      <td>0</td>\n      <td>112080.014102</td>\n      <td>приобретение автомобиля</td>\n      <td>II</td>\n    </tr>\n    <tr>\n      <th>2</th>\n      <td>0</td>\n      <td>-5623.422610</td>\n      <td>33</td>\n      <td>Среднее</td>\n      <td>1</td>\n      <td>женат / замужем</td>\n      <td>0</td>\n      <td>M</td>\n      <td>сотрудник</td>\n      <td>0</td>\n      <td>145885.952297</td>\n      <td>покупка жилья</td>\n      <td>I</td>\n    </tr>\n    <tr>\n      <th>3</th>\n      <td>3</td>\n      <td>-4124.747207</td>\n      <td>32</td>\n      <td>среднее</td>\n      <td>1</td>\n      <td>женат / замужем</td>\n      <td>0</td>\n      <td>M</td>\n      <td>сотрудник</td>\n      <td>0</td>\n      <td>267628.550329</td>\n      <td>дополнительное образование</td>\n      <td>I</td>\n    </tr>\n    <tr>\n      <th>4</th>\n      <td>0</td>\n      <td>340266.072047</td>\n      <td>53</td>\n      <td>среднее</td>\n      <td>1</td>\n      <td>гражданский брак</td>\n      <td>1</td>\n      <td>F</td>\n      <td>пенсионер</td>\n      <td>0</td>\n      <td>158616.077870</td>\n      <td>сыграть свадьбу</td>\n      <td>III</td>\n    </tr>\n  </tbody>\n</table>\n</div>"
     },
     "execution_count": 17,
     "metadata": {},
     "output_type": "execute_result"
    }
   ],
   "source": [
    "df['dob_years_category'] = df['dob_years'].apply(dob_years_group)\n",
    "df.head()"
   ]
  },
  {
   "cell_type": "code",
   "execution_count": 18,
   "metadata": {
    "datalore": {
     "sheet_delimiter": false,
     "type": "CODE"
    },
    "jupyter": {
     "outputs_hidden": false,
     "source_hidden": false
    }
   },
   "outputs": [],
   "source": [
    "days_employed_medians = df.groupby('dob_years_category')['days_employed'].median().astype('int')\n",
    "\n",
    "df.loc[(df['days_employed'].isna()) & (df['dob_years_category'] == 'I'), 'days_employed'] = days_employed_medians[0]\n",
    "df.loc[(df['days_employed'].isna()) & (df['dob_years_category'] == 'II'), 'days_employed'] = days_employed_medians[1]\n",
    "df.loc[(df['days_employed'].isna()) & (df['dob_years_category'] == 'III'), 'days_employed'] = days_employed_medians[2]\n",
    "df.loc[(df['days_employed'].isna()) & (df['dob_years_category'] == 'IV'), 'days_employed'] = days_employed_medians[3]"
   ]
  },
  {
   "cell_type": "markdown",
   "metadata": {
    "datalore": {
     "sheet_delimiter": false,
     "type": "MD"
    },
    "jupyter": {
     "outputs_hidden": false,
     "source_hidden": false
    }
   },
   "source": [
    "**Resume**\n",
    "\n",
    "1. Missing values in the monthly income column were filled in with the median values for each type of employment;\n",
    "2. The zero age values were corrected for the medians of the corresponding type of employment;\n",
    "3. Four categories were created according to the age of clients.\n",
    "4. Missing values in the work experience data were processed based on the medians for each age category."
   ]
  },
  {
   "cell_type": "markdown",
   "metadata": {
    "datalore": {
     "sheet_delimiter": false,
     "type": "MD"
    },
    "jupyter": {
     "outputs_hidden": false,
     "source_hidden": false
    }
   },
   "source": [
    "### Outliers"
   ]
  },
  {
   "cell_type": "markdown",
   "source": [
    "**`days_employed`**"
   ],
   "metadata": {
    "collapsed": false
   }
  },
  {
   "cell_type": "code",
   "execution_count": 19,
   "metadata": {},
   "outputs": [
    {
     "data": {
      "text/plain": "<Figure size 432x288 with 1 Axes>",
      "image/png": "[encoded data removed]"
     },
     "metadata": {
      "needs_background": "light"
     },
     "output_type": "display_data"
    }
   ],
   "source": [
    "sns.distplot(df['days_employed'])\n",
    "plt.title('Distribution', size=20, weight='bold')\n",
    "plt.xlabel('Employed days', size=14, weight='bold')\n",
    "plt.ylabel(f'Density', size=14, weight='bold')\n",
    "plt.show()"
   ]
  },
  {
   "cell_type": "markdown",
   "metadata": {
    "datalore": {
     "sheet_delimiter": false,
     "type": "MD"
    },
    "jupyter": {
     "outputs_hidden": false,
     "source_hidden": false
    }
   },
   "source": [
    "We can see that there are both negative and positive values (but already on a scale of thousands of years). This will require information from the employees who unloaded this data: what exactly is meant by it."
   ]
  },
  {
   "cell_type": "code",
   "execution_count": 20,
   "metadata": {
    "datalore": {
     "sheet_delimiter": false,
     "type": "CODE"
    },
    "jupyter": {
     "outputs_hidden": false,
     "source_hidden": false
    }
   },
   "outputs": [],
   "source": [
    "df['days_employed'] = abs(df['days_employed'])"
   ]
  },
  {
   "cell_type": "markdown",
   "metadata": {
    "datalore": {
     "sheet_delimiter": false,
     "type": "MD"
    },
    "jupyter": {
     "outputs_hidden": false,
     "source_hidden": false
    }
   },
   "source": [
    "**`children`**"
   ]
  },
  {
   "cell_type": "code",
   "execution_count": 21,
   "metadata": {
    "datalore": {
     "sheet_delimiter": false,
     "type": "CODE"
    },
    "jupyter": {
     "outputs_hidden": false,
     "source_hidden": false
    }
   },
   "outputs": [
    {
     "data": {
      "text/plain": " 0     14149\n 1      4818\n 2      2055\n 3       330\n 20       76\n-1        47\n 4        41\n 5         9\nName: children, dtype: int64"
     },
     "execution_count": 21,
     "metadata": {},
     "output_type": "execute_result"
    }
   ],
   "source": [
    "df['children'].value_counts()"
   ]
  },
  {
   "cell_type": "markdown",
   "metadata": {
    "datalore": {
     "sheet_delimiter": false,
     "type": "MD"
    },
    "jupyter": {
     "outputs_hidden": false,
     "source_hidden": false
    }
   },
   "source": [
    "\n",
    "Two values are knocked out: -1 (apparently, when manually entered, - was accidentally added) and 20 (apparently, 2 children are meant). Let's fix these values."
   ]
  },
  {
   "cell_type": "code",
   "execution_count": 22,
   "metadata": {
    "datalore": {
     "sheet_delimiter": false,
     "type": "CODE"
    },
    "jupyter": {
     "outputs_hidden": false,
     "source_hidden": false
    }
   },
   "outputs": [],
   "source": [
    "df['children'] = abs(df['children'])"
   ]
  },
  {
   "cell_type": "code",
   "execution_count": 23,
   "metadata": {
    "datalore": {
     "sheet_delimiter": false,
     "type": "CODE"
    },
    "jupyter": {
     "outputs_hidden": false,
     "source_hidden": false
    }
   },
   "outputs": [],
   "source": [
    "df.loc[df['children'] == 20, 'children'] = df.loc[df['children'] == 20, 'children'] / 10"
   ]
  },
  {
   "cell_type": "code",
   "execution_count": 24,
   "metadata": {
    "datalore": {
     "sheet_delimiter": false,
     "type": "CODE"
    },
    "jupyter": {
     "outputs_hidden": false,
     "source_hidden": false
    }
   },
   "outputs": [
    {
     "data": {
      "text/plain": "0.0    14149\n1.0     4865\n2.0     2131\n3.0      330\n4.0       41\n5.0        9\nName: children, dtype: int64"
     },
     "execution_count": 24,
     "metadata": {},
     "output_type": "execute_result"
    }
   ],
   "source": [
    "df['children'].value_counts()"
   ]
  },
  {
   "cell_type": "markdown",
   "metadata": {},
   "source": [
    "**`dob_years`**"
   ]
  },
  {
   "cell_type": "code",
   "execution_count": 25,
   "metadata": {},
   "outputs": [
    {
     "data": {
      "text/plain": "<Figure size 432x288 with 1 Axes>",
      "image/png": "[encoded data removed]"
     },
     "metadata": {
      "needs_background": "light"
     },
     "output_type": "display_data"
    }
   ],
   "source": [
    "sns.distplot(df['dob_years'])\n",
    "plt.title('Distribution', size=20, weight='bold')\n",
    "plt.xlabel('Age of clients', size=14, weight='bold')\n",
    "plt.ylabel('Density', size=14, weight='bold')\n",
    "plt.show()"
   ]
  },
  {
   "cell_type": "markdown",
   "source": [
    "**`debt`**"
   ],
   "metadata": {
    "collapsed": false
   }
  },
  {
   "cell_type": "code",
   "execution_count": 26,
   "metadata": {
    "datalore": {
     "sheet_delimiter": false,
     "type": "CODE"
    },
    "jupyter": {
     "outputs_hidden": false,
     "source_hidden": false
    }
   },
   "outputs": [
    {
     "data": {
      "text/plain": "0    19784\n1     1741\nName: debt, dtype: int64"
     },
     "execution_count": 26,
     "metadata": {},
     "output_type": "execute_result"
    }
   ],
   "source": [
    "df['debt'].value_counts()"
   ]
  },
  {
   "cell_type": "markdown",
   "source": [
    "**`education_id`**"
   ],
   "metadata": {
    "collapsed": false
   }
  },
  {
   "cell_type": "code",
   "execution_count": 27,
   "metadata": {
    "datalore": {
     "sheet_delimiter": false,
     "type": "CODE"
    },
    "jupyter": {
     "outputs_hidden": false,
     "source_hidden": false
    }
   },
   "outputs": [
    {
     "data": {
      "text/plain": "1    15233\n0     5260\n2      744\n3      282\n4        6\nName: education_id, dtype: int64"
     },
     "execution_count": 27,
     "metadata": {},
     "output_type": "execute_result"
    }
   ],
   "source": [
    "df['education_id'].value_counts()"
   ]
  },
  {
   "cell_type": "markdown",
   "source": [
    "**`family_status_id`**"
   ],
   "metadata": {
    "collapsed": false
   }
  },
  {
   "cell_type": "code",
   "execution_count": 28,
   "metadata": {
    "datalore": {
     "sheet_delimiter": false,
     "type": "CODE"
    },
    "jupyter": {
     "outputs_hidden": false,
     "source_hidden": false
    }
   },
   "outputs": [
    {
     "data": {
      "text/plain": "0    12380\n1     4177\n4     2813\n3     1195\n2      960\nName: family_status_id, dtype: int64"
     },
     "execution_count": 28,
     "metadata": {},
     "output_type": "execute_result"
    }
   ],
   "source": [
    "df['family_status_id'].value_counts()"
   ]
  },
  {
   "cell_type": "markdown",
   "source": [
    "**`total_income`**"
   ],
   "metadata": {
    "collapsed": false
   }
  },
  {
   "cell_type": "code",
   "execution_count": 29,
   "metadata": {},
   "outputs": [
    {
     "data": {
      "text/plain": "<Figure size 432x288 with 1 Axes>",
      "image/png": "[encoded data removed]"
     },
     "metadata": {
      "needs_background": "light"
     },
     "output_type": "display_data"
    }
   ],
   "source": [
    "sns.distplot(df['total_income'])\n",
    "plt.title('Distribution', size=20, weight='bold')\n",
    "plt.xlabel('Monthly income', size=14, weight='bold')\n",
    "plt.ylabel('Density', size=14, weight='bold')\n",
    "plt.show()"
   ]
  },
  {
   "cell_type": "markdown",
   "metadata": {
    "datalore": {
     "sheet_delimiter": false,
     "type": "MD"
    },
    "jupyter": {
     "outputs_hidden": false,
     "source_hidden": false
    }
   },
   "source": [
    "**Resume**\n",
    "\n",
    "Outliers were found in the `'days_employed'` and `'children'` columns, which were corrected for more specific values."
   ]
  },
  {
   "cell_type": "markdown",
   "metadata": {
    "datalore": {
     "sheet_delimiter": false,
     "type": "MD"
    },
    "jupyter": {
     "outputs_hidden": false,
     "source_hidden": false
    }
   },
   "source": [
    "### Data types"
   ]
  },
  {
   "cell_type": "code",
   "execution_count": 30,
   "metadata": {
    "datalore": {
     "sheet_delimiter": false,
     "type": "CODE"
    },
    "jupyter": {
     "outputs_hidden": false,
     "source_hidden": false
    }
   },
   "outputs": [
    {
     "data": {
      "text/plain": "   children  days_employed  dob_years education  education_id  \\\n0       1.0           8437         42    высшее             0   \n1       1.0           4024         36   среднее             1   \n2       0.0           5623         33   Среднее             1   \n3       3.0           4124         32   среднее             1   \n4       0.0         340266         53   среднее             1   \n\n      family_status  family_status_id gender income_type  debt  total_income  \\\n0   женат / замужем                 0      F   сотрудник     0        253875   \n1   женат / замужем                 0      F   сотрудник     0        112080   \n2   женат / замужем                 0      M   сотрудник     0        145885   \n3   женат / замужем                 0      M   сотрудник     0        267628   \n4  гражданский брак                 1      F   пенсионер     0        158616   \n\n                      purpose dob_years_category  \n0               покупка жилья                 II  \n1     приобретение автомобиля                 II  \n2               покупка жилья                  I  \n3  дополнительное образование                  I  \n4             сыграть свадьбу                III  ",
      "text/html": "<div>\n<style scoped>\n    .dataframe tbody tr th:only-of-type {\n        vertical-align: middle;\n    }\n\n    .dataframe tbody tr th {\n        vertical-align: top;\n    }\n\n    .dataframe thead th {\n        text-align: right;\n    }\n</style>\n<table border=\"1\" class=\"dataframe\">\n  <thead>\n    <tr style=\"text-align: right;\">\n      <th></th>\n      <th>children</th>\n      <th>days_employed</th>\n      <th>dob_years</th>\n      <th>education</th>\n      <th>education_id</th>\n      <th>family_status</th>\n      <th>family_status_id</th>\n      <th>gender</th>\n      <th>income_type</th>\n      <th>debt</th>\n      <th>total_income</th>\n      <th>purpose</th>\n      <th>dob_years_category</th>\n    </tr>\n  </thead>\n  <tbody>\n    <tr>\n      <th>0</th>\n      <td>1.0</td>\n      <td>8437</td>\n      <td>42</td>\n      <td>высшее</td>\n      <td>0</td>\n      <td>женат / замужем</td>\n      <td>0</td>\n      <td>F</td>\n      <td>сотрудник</td>\n      <td>0</td>\n      <td>253875</td>\n      <td>покупка жилья</td>\n      <td>II</td>\n    </tr>\n    <tr>\n      <th>1</th>\n      <td>1.0</td>\n      <td>4024</td>\n      <td>36</td>\n      <td>среднее</td>\n      <td>1</td>\n      <td>женат / замужем</td>\n      <td>0</td>\n      <td>F</td>\n      <td>сотрудник</td>\n      <td>0</td>\n      <td>112080</td>\n      <td>приобретение автомобиля</td>\n      <td>II</td>\n    </tr>\n    <tr>\n      <th>2</th>\n      <td>0.0</td>\n      <td>5623</td>\n      <td>33</td>\n      <td>Среднее</td>\n      <td>1</td>\n      <td>женат / замужем</td>\n      <td>0</td>\n      <td>M</td>\n      <td>сотрудник</td>\n      <td>0</td>\n      <td>145885</td>\n      <td>покупка жилья</td>\n      <td>I</td>\n    </tr>\n    <tr>\n      <th>3</th>\n      <td>3.0</td>\n      <td>4124</td>\n      <td>32</td>\n      <td>среднее</td>\n      <td>1</td>\n      <td>женат / замужем</td>\n      <td>0</td>\n      <td>M</td>\n      <td>сотрудник</td>\n      <td>0</td>\n      <td>267628</td>\n      <td>дополнительное образование</td>\n      <td>I</td>\n    </tr>\n    <tr>\n      <th>4</th>\n      <td>0.0</td>\n      <td>340266</td>\n      <td>53</td>\n      <td>среднее</td>\n      <td>1</td>\n      <td>гражданский брак</td>\n      <td>1</td>\n      <td>F</td>\n      <td>пенсионер</td>\n      <td>0</td>\n      <td>158616</td>\n      <td>сыграть свадьбу</td>\n      <td>III</td>\n    </tr>\n  </tbody>\n</table>\n</div>"
     },
     "execution_count": 30,
     "metadata": {},
     "output_type": "execute_result"
    }
   ],
   "source": [
    "df['total_income'] = df['total_income'].astype('int')\n",
    "df['days_employed'] = df['days_employed'].astype('int')\n",
    "df.head()"
   ]
  },
  {
   "cell_type": "markdown",
   "metadata": {
    "datalore": {
     "sheet_delimiter": false,
     "type": "MD"
    },
    "jupyter": {
     "outputs_hidden": false,
     "source_hidden": false
    }
   },
   "source": [
    "### Duplicates"
   ]
  },
  {
   "cell_type": "code",
   "execution_count": 31,
   "metadata": {
    "datalore": {
     "sheet_delimiter": false,
     "type": "CODE"
    },
    "jupyter": {
     "outputs_hidden": false,
     "source_hidden": false
    }
   },
   "outputs": [
    {
     "data": {
      "text/plain": "среднее                13750\nвысшее                  4718\nСРЕДНЕЕ                  772\nСреднее                  711\nнеоконченное высшее      668\nВЫСШЕЕ                   274\nВысшее                   268\nначальное                250\nНеоконченное высшее       47\nНЕОКОНЧЕННОЕ ВЫСШЕЕ       29\nНАЧАЛЬНОЕ                 17\nНачальное                 15\nученая степень             4\nУченая степень             1\nУЧЕНАЯ СТЕПЕНЬ             1\nName: education, dtype: int64"
     },
     "execution_count": 31,
     "metadata": {},
     "output_type": "execute_result"
    }
   ],
   "source": [
    "df['education'].value_counts()"
   ]
  },
  {
   "cell_type": "code",
   "execution_count": 32,
   "metadata": {
    "datalore": {
     "sheet_delimiter": false,
     "type": "CODE"
    },
    "jupyter": {
     "outputs_hidden": false,
     "source_hidden": false
    }
   },
   "outputs": [
    {
     "data": {
      "text/plain": "среднее                15233\nвысшее                  5260\nнеоконченное высшее      744\nначальное                282\nученая степень             6\nName: education, dtype: int64"
     },
     "execution_count": 32,
     "metadata": {},
     "output_type": "execute_result"
    }
   ],
   "source": [
    "df['education'] = df['education'].str.lower()\n",
    "df['education'].value_counts()"
   ]
  },
  {
   "cell_type": "code",
   "execution_count": 33,
   "metadata": {
    "datalore": {
     "sheet_delimiter": false,
     "type": "CODE"
    },
    "jupyter": {
     "outputs_hidden": false,
     "source_hidden": false
    }
   },
   "outputs": [
    {
     "data": {
      "text/plain": "женат / замужем          12380\nгражданский брак          4177\nНе женат / не замужем     2813\nв разводе                 1195\nвдовец / вдова             960\nName: family_status, dtype: int64"
     },
     "execution_count": 33,
     "metadata": {},
     "output_type": "execute_result"
    }
   ],
   "source": [
    "df['family_status'].value_counts()"
   ]
  },
  {
   "cell_type": "code",
   "execution_count": 34,
   "metadata": {
    "datalore": {
     "sheet_delimiter": false,
     "type": "CODE"
    },
    "jupyter": {
     "outputs_hidden": false,
     "source_hidden": false
    }
   },
   "outputs": [
    {
     "data": {
      "text/plain": "сотрудник          11119\nкомпаньон           5085\nпенсионер           3856\nгосслужащий         1459\nбезработный            2\nпредприниматель        2\nстудент                1\nв декрете              1\nName: income_type, dtype: int64"
     },
     "execution_count": 34,
     "metadata": {},
     "output_type": "execute_result"
    }
   ],
   "source": [
    "df['income_type'].value_counts()"
   ]
  },
  {
   "cell_type": "code",
   "execution_count": 35,
   "metadata": {
    "datalore": {
     "sheet_delimiter": false,
     "type": "CODE"
    },
    "jupyter": {
     "outputs_hidden": false,
     "source_hidden": false
    }
   },
   "outputs": [
    {
     "data": {
      "text/plain": "свадьба                                   797\nна проведение свадьбы                     777\nсыграть свадьбу                           774\nоперации с недвижимостью                  676\nпокупка коммерческой недвижимости         664\nпокупка жилья для сдачи                   653\nоперации с жильем                         653\nоперации с коммерческой недвижимостью     651\nпокупка жилья                             647\nжилье                                     647\nпокупка жилья для семьи                   641\nстроительство собственной недвижимости    635\nнедвижимость                              634\nоперации со своей недвижимостью           630\nстроительство жилой недвижимости          626\nпокупка недвижимости                      624\nстроительство недвижимости                620\nпокупка своего жилья                      620\nремонт жилью                              612\nпокупка жилой недвижимости                607\nна покупку своего автомобиля              505\nзаняться высшим образованием              496\nавтомобиль                                495\nсделка с подержанным автомобилем          489\nсвой автомобиль                           480\nна покупку подержанного автомобиля        479\nавтомобили                                478\nна покупку автомобиля                     472\nдополнительное образование                462\nприобретение автомобиля                   462\nсделка с автомобилем                      455\nвысшее образование                        453\nобразование                               447\nполучение дополнительного образования     447\nполучение образования                     443\nпрофильное образование                    436\nполучение высшего образования             426\nзаняться образованием                     412\nName: purpose, dtype: int64"
     },
     "execution_count": 35,
     "metadata": {},
     "output_type": "execute_result"
    }
   ],
   "source": [
    "df['purpose'].value_counts()"
   ]
  },
  {
   "cell_type": "code",
   "execution_count": 36,
   "metadata": {
    "datalore": {
     "sheet_delimiter": false,
     "type": "CODE"
    },
    "jupyter": {
     "outputs_hidden": false,
     "source_hidden": false
    }
   },
   "outputs": [
    {
     "data": {
      "text/plain": "71"
     },
     "execution_count": 36,
     "metadata": {},
     "output_type": "execute_result"
    }
   ],
   "source": [
    "df.duplicated().sum()"
   ]
  },
  {
   "cell_type": "code",
   "execution_count": 37,
   "metadata": {
    "datalore": {
     "sheet_delimiter": false,
     "type": "CODE"
    },
    "jupyter": {
     "outputs_hidden": false,
     "source_hidden": false
    }
   },
   "outputs": [],
   "source": [
    "df = df.drop_duplicates().reset_index(drop=True)"
   ]
  },
  {
   "cell_type": "code",
   "execution_count": 38,
   "metadata": {
    "datalore": {
     "sheet_delimiter": false,
     "type": "CODE"
    },
    "jupyter": {
     "outputs_hidden": false,
     "source_hidden": false
    }
   },
   "outputs": [
    {
     "data": {
      "text/plain": "0"
     },
     "execution_count": 38,
     "metadata": {},
     "output_type": "execute_result"
    }
   ],
   "source": [
    "df.duplicated().sum()"
   ]
  },
  {
   "cell_type": "markdown",
   "metadata": {
    "datalore": {
     "sheet_delimiter": false,
     "type": "MD"
    },
    "jupyter": {
     "outputs_hidden": false,
     "source_hidden": false
    }
   },
   "source": [
    "**Resume**\n",
    "\n",
    "- Most likely, education info were filled in manually, hence the problem with the appearance of values in different registers, for example, \"average\", \"Average\", \"AVERAGE\". Developers should be informed about this in order to introduce restrictions on possible filling options.\n",
    "- When processing data for duplicates by the `duplicated()` method, 71 identical rows were found, which were deleted. It is important to find out what caused their duplicates - a technical problem and a human factor."
   ]
  },
  {
   "cell_type": "markdown",
   "metadata": {
    "datalore": {
     "sheet_delimiter": false,
     "type": "MD"
    },
    "jupyter": {
     "outputs_hidden": false,
     "source_hidden": false
    }
   },
   "source": [
    "### Additional dataframes of dictionaries, decomposition of the original dataframe."
   ]
  },
  {
   "cell_type": "code",
   "execution_count": 39,
   "metadata": {
    "datalore": {
     "sheet_delimiter": false,
     "type": "CODE"
    },
    "jupyter": {
     "outputs_hidden": false,
     "source_hidden": false
    }
   },
   "outputs": [
    {
     "data": {
      "text/plain": "       education_id education\n0                 0    высшее\n1                 1   среднее\n2                 1   среднее\n3                 1   среднее\n4                 1   среднее\n...             ...       ...\n21449             1   среднее\n21450             1   среднее\n21451             1   среднее\n21452             1   среднее\n21453             1   среднее\n\n[21454 rows x 2 columns]",
      "text/html": "<div>\n<style scoped>\n    .dataframe tbody tr th:only-of-type {\n        vertical-align: middle;\n    }\n\n    .dataframe tbody tr th {\n        vertical-align: top;\n    }\n\n    .dataframe thead th {\n        text-align: right;\n    }\n</style>\n<table border=\"1\" class=\"dataframe\">\n  <thead>\n    <tr style=\"text-align: right;\">\n      <th></th>\n      <th>education_id</th>\n      <th>education</th>\n    </tr>\n  </thead>\n  <tbody>\n    <tr>\n      <th>0</th>\n      <td>0</td>\n      <td>высшее</td>\n    </tr>\n    <tr>\n      <th>1</th>\n      <td>1</td>\n      <td>среднее</td>\n    </tr>\n    <tr>\n      <th>2</th>\n      <td>1</td>\n      <td>среднее</td>\n    </tr>\n    <tr>\n      <th>3</th>\n      <td>1</td>\n      <td>среднее</td>\n    </tr>\n    <tr>\n      <th>4</th>\n      <td>1</td>\n      <td>среднее</td>\n    </tr>\n    <tr>\n      <th>...</th>\n      <td>...</td>\n      <td>...</td>\n    </tr>\n    <tr>\n      <th>21449</th>\n      <td>1</td>\n      <td>среднее</td>\n    </tr>\n    <tr>\n      <th>21450</th>\n      <td>1</td>\n      <td>среднее</td>\n    </tr>\n    <tr>\n      <th>21451</th>\n      <td>1</td>\n      <td>среднее</td>\n    </tr>\n    <tr>\n      <th>21452</th>\n      <td>1</td>\n      <td>среднее</td>\n    </tr>\n    <tr>\n      <th>21453</th>\n      <td>1</td>\n      <td>среднее</td>\n    </tr>\n  </tbody>\n</table>\n<p>21454 rows × 2 columns</p>\n</div>"
     },
     "metadata": {},
     "output_type": "display_data"
    }
   ],
   "source": [
    "education_df = df[['education_id', 'education']]\n",
    "family_status_df = df[['family_status_id', 'family_status']]\n",
    "display(education_df)"
   ]
  },
  {
   "cell_type": "code",
   "execution_count": 40,
   "metadata": {
    "datalore": {
     "sheet_delimiter": false,
     "type": "CODE"
    },
    "jupyter": {
     "outputs_hidden": false,
     "source_hidden": false
    },
    "scrolled": true
   },
   "outputs": [
    {
     "data": {
      "text/plain": "       children  days_employed  dob_years  education_id  family_status_id  \\\n0           1.0           8437         42             0                 0   \n1           1.0           4024         36             1                 0   \n2           0.0           5623         33             1                 0   \n3           3.0           4124         32             1                 0   \n4           0.0         340266         53             1                 1   \n...         ...            ...        ...           ...               ...   \n21449       1.0           4529         43             1                 1   \n21450       0.0         343937         67             1                 0   \n21451       1.0           2113         38             1                 1   \n21452       3.0           3112         38             1                 0   \n21453       2.0           1984         40             1                 0   \n\n      gender income_type  debt  total_income                       purpose  \\\n0          F   сотрудник     0        253875                 покупка жилья   \n1          F   сотрудник     0        112080       приобретение автомобиля   \n2          M   сотрудник     0        145885                 покупка жилья   \n3          M   сотрудник     0        267628    дополнительное образование   \n4          F   пенсионер     0        158616               сыграть свадьбу   \n...      ...         ...   ...           ...                           ...   \n21449      F   компаньон     0        224791             операции с жильем   \n21450      F   пенсионер     0        155999          сделка с автомобилем   \n21451      M   сотрудник     1         89672                  недвижимость   \n21452      M   сотрудник     1        244093  на покупку своего автомобиля   \n21453      F   сотрудник     0         82047         на покупку автомобиля   \n\n      dob_years_category  \n0                     II  \n1                     II  \n2                      I  \n3                      I  \n4                    III  \n...                  ...  \n21449                 II  \n21450                 IV  \n21451                 II  \n21452                 II  \n21453                 II  \n\n[21454 rows x 11 columns]",
      "text/html": "<div>\n<style scoped>\n    .dataframe tbody tr th:only-of-type {\n        vertical-align: middle;\n    }\n\n    .dataframe tbody tr th {\n        vertical-align: top;\n    }\n\n    .dataframe thead th {\n        text-align: right;\n    }\n</style>\n<table border=\"1\" class=\"dataframe\">\n  <thead>\n    <tr style=\"text-align: right;\">\n      <th></th>\n      <th>children</th>\n      <th>days_employed</th>\n      <th>dob_years</th>\n      <th>education_id</th>\n      <th>family_status_id</th>\n      <th>gender</th>\n      <th>income_type</th>\n      <th>debt</th>\n      <th>total_income</th>\n      <th>purpose</th>\n      <th>dob_years_category</th>\n    </tr>\n  </thead>\n  <tbody>\n    <tr>\n      <th>0</th>\n      <td>1.0</td>\n      <td>8437</td>\n      <td>42</td>\n      <td>0</td>\n      <td>0</td>\n      <td>F</td>\n      <td>сотрудник</td>\n      <td>0</td>\n      <td>253875</td>\n      <td>покупка жилья</td>\n      <td>II</td>\n    </tr>\n    <tr>\n      <th>1</th>\n      <td>1.0</td>\n      <td>4024</td>\n      <td>36</td>\n      <td>1</td>\n      <td>0</td>\n      <td>F</td>\n      <td>сотрудник</td>\n      <td>0</td>\n      <td>112080</td>\n      <td>приобретение автомобиля</td>\n      <td>II</td>\n    </tr>\n    <tr>\n      <th>2</th>\n      <td>0.0</td>\n      <td>5623</td>\n      <td>33</td>\n      <td>1</td>\n      <td>0</td>\n      <td>M</td>\n      <td>сотрудник</td>\n      <td>0</td>\n      <td>145885</td>\n      <td>покупка жилья</td>\n      <td>I</td>\n    </tr>\n    <tr>\n      <th>3</th>\n      <td>3.0</td>\n      <td>4124</td>\n      <td>32</td>\n      <td>1</td>\n      <td>0</td>\n      <td>M</td>\n      <td>сотрудник</td>\n      <td>0</td>\n      <td>267628</td>\n      <td>дополнительное образование</td>\n      <td>I</td>\n    </tr>\n    <tr>\n      <th>4</th>\n      <td>0.0</td>\n      <td>340266</td>\n      <td>53</td>\n      <td>1</td>\n      <td>1</td>\n      <td>F</td>\n      <td>пенсионер</td>\n      <td>0</td>\n      <td>158616</td>\n      <td>сыграть свадьбу</td>\n      <td>III</td>\n    </tr>\n    <tr>\n      <th>...</th>\n      <td>...</td>\n      <td>...</td>\n      <td>...</td>\n      <td>...</td>\n      <td>...</td>\n      <td>...</td>\n      <td>...</td>\n      <td>...</td>\n      <td>...</td>\n      <td>...</td>\n      <td>...</td>\n    </tr>\n    <tr>\n      <th>21449</th>\n      <td>1.0</td>\n      <td>4529</td>\n      <td>43</td>\n      <td>1</td>\n      <td>1</td>\n      <td>F</td>\n      <td>компаньон</td>\n      <td>0</td>\n      <td>224791</td>\n      <td>операции с жильем</td>\n      <td>II</td>\n    </tr>\n    <tr>\n      <th>21450</th>\n      <td>0.0</td>\n      <td>343937</td>\n      <td>67</td>\n      <td>1</td>\n      <td>0</td>\n      <td>F</td>\n      <td>пенсионер</td>\n      <td>0</td>\n      <td>155999</td>\n      <td>сделка с автомобилем</td>\n      <td>IV</td>\n    </tr>\n    <tr>\n      <th>21451</th>\n      <td>1.0</td>\n      <td>2113</td>\n      <td>38</td>\n      <td>1</td>\n      <td>1</td>\n      <td>M</td>\n      <td>сотрудник</td>\n      <td>1</td>\n      <td>89672</td>\n      <td>недвижимость</td>\n      <td>II</td>\n    </tr>\n    <tr>\n      <th>21452</th>\n      <td>3.0</td>\n      <td>3112</td>\n      <td>38</td>\n      <td>1</td>\n      <td>0</td>\n      <td>M</td>\n      <td>сотрудник</td>\n      <td>1</td>\n      <td>244093</td>\n      <td>на покупку своего автомобиля</td>\n      <td>II</td>\n    </tr>\n    <tr>\n      <th>21453</th>\n      <td>2.0</td>\n      <td>1984</td>\n      <td>40</td>\n      <td>1</td>\n      <td>0</td>\n      <td>F</td>\n      <td>сотрудник</td>\n      <td>0</td>\n      <td>82047</td>\n      <td>на покупку автомобиля</td>\n      <td>II</td>\n    </tr>\n  </tbody>\n</table>\n<p>21454 rows × 11 columns</p>\n</div>"
     },
     "execution_count": 40,
     "metadata": {},
     "output_type": "execute_result"
    }
   ],
   "source": [
    "df.drop(columns = ['education', 'family_status'])"
   ]
  },
  {
   "cell_type": "markdown",
   "metadata": {
    "datalore": {
     "sheet_delimiter": false,
     "type": "MD"
    },
    "jupyter": {
     "outputs_hidden": false,
     "source_hidden": false
    }
   },
   "source": [
    "### Total_income coding"
   ]
  },
  {
   "cell_type": "markdown",
   "metadata": {
    "datalore": {
     "sheet_delimiter": false,
     "type": "MD"
    },
    "jupyter": {
     "outputs_hidden": false,
     "source_hidden": false
    }
   },
   "source": [
    "Let's categorize clients by income.\n",
    "\n",
    "Based on the selected ranges, we create a total_income_category column with categories:\n",
    "0–30000 - 'E';\n",
    "30001–50000 - 'D';\n",
    "50001–200000 - 'C';\n",
    "200001–1000000 - 'B';\n",
    "1000001 and above is 'A'.\n",
    "\n",
    "Let's create a function `total_income_group(total_income)` that we can use to create the `total_income_category` column."
   ]
  },
  {
   "cell_type": "code",
   "execution_count": 41,
   "metadata": {
    "datalore": {
     "sheet_delimiter": false,
     "type": "CODE"
    },
    "jupyter": {
     "outputs_hidden": false,
     "source_hidden": false
    }
   },
   "outputs": [],
   "source": [
    "def total_income_group(total_income):\n",
    "    if 0 <= total_income <= 30000:\n",
    "        return 'E'\n",
    "    elif 30001 <= total_income <= 50000:\n",
    "        return 'D'\n",
    "    elif 50001 <= total_income <= 200000:\n",
    "        return 'C'\n",
    "    elif 200001 <= total_income <= 1000000:\n",
    "        return 'B'\n",
    "    else:\n",
    "        return 'A'"
   ]
  },
  {
   "cell_type": "code",
   "execution_count": 42,
   "metadata": {
    "datalore": {
     "sheet_delimiter": false,
     "type": "CODE"
    },
    "jupyter": {
     "outputs_hidden": false,
     "source_hidden": false
    }
   },
   "outputs": [
    {
     "data": {
      "text/plain": "   children  days_employed  dob_years education  education_id  \\\n0       1.0           8437         42    высшее             0   \n1       1.0           4024         36   среднее             1   \n2       0.0           5623         33   среднее             1   \n3       3.0           4124         32   среднее             1   \n4       0.0         340266         53   среднее             1   \n5       0.0            926         27    высшее             0   \n6       0.0           2879         43    высшее             0   \n7       0.0            152         50   среднее             1   \n8       2.0           6929         35    высшее             0   \n9       0.0           2188         41   среднее             1   \n\n      family_status  family_status_id gender income_type  debt  total_income  \\\n0   женат / замужем                 0      F   сотрудник     0        253875   \n1   женат / замужем                 0      F   сотрудник     0        112080   \n2   женат / замужем                 0      M   сотрудник     0        145885   \n3   женат / замужем                 0      M   сотрудник     0        267628   \n4  гражданский брак                 1      F   пенсионер     0        158616   \n5  гражданский брак                 1      M   компаньон     0        255763   \n6   женат / замужем                 0      F   компаньон     0        240525   \n7   женат / замужем                 0      M   сотрудник     0        135823   \n8  гражданский брак                 1      F   сотрудник     0         95856   \n9   женат / замужем                 0      M   сотрудник     0        144425   \n\n                      purpose dob_years_category total_income_category  \n0               покупка жилья                 II                     B  \n1     приобретение автомобиля                 II                     C  \n2               покупка жилья                  I                     C  \n3  дополнительное образование                  I                     B  \n4             сыграть свадьбу                III                     C  \n5               покупка жилья                  I                     B  \n6           операции с жильем                 II                     B  \n7                 образование                III                     C  \n8       на проведение свадьбы                 II                     C  \n9     покупка жилья для семьи                 II                     C  ",
      "text/html": "<div>\n<style scoped>\n    .dataframe tbody tr th:only-of-type {\n        vertical-align: middle;\n    }\n\n    .dataframe tbody tr th {\n        vertical-align: top;\n    }\n\n    .dataframe thead th {\n        text-align: right;\n    }\n</style>\n<table border=\"1\" class=\"dataframe\">\n  <thead>\n    <tr style=\"text-align: right;\">\n      <th></th>\n      <th>children</th>\n      <th>days_employed</th>\n      <th>dob_years</th>\n      <th>education</th>\n      <th>education_id</th>\n      <th>family_status</th>\n      <th>family_status_id</th>\n      <th>gender</th>\n      <th>income_type</th>\n      <th>debt</th>\n      <th>total_income</th>\n      <th>purpose</th>\n      <th>dob_years_category</th>\n      <th>total_income_category</th>\n    </tr>\n  </thead>\n  <tbody>\n    <tr>\n      <th>0</th>\n      <td>1.0</td>\n      <td>8437</td>\n      <td>42</td>\n      <td>высшее</td>\n      <td>0</td>\n      <td>женат / замужем</td>\n      <td>0</td>\n      <td>F</td>\n      <td>сотрудник</td>\n      <td>0</td>\n      <td>253875</td>\n      <td>покупка жилья</td>\n      <td>II</td>\n      <td>B</td>\n    </tr>\n    <tr>\n      <th>1</th>\n      <td>1.0</td>\n      <td>4024</td>\n      <td>36</td>\n      <td>среднее</td>\n      <td>1</td>\n      <td>женат / замужем</td>\n      <td>0</td>\n      <td>F</td>\n      <td>сотрудник</td>\n      <td>0</td>\n      <td>112080</td>\n      <td>приобретение автомобиля</td>\n      <td>II</td>\n      <td>C</td>\n    </tr>\n    <tr>\n      <th>2</th>\n      <td>0.0</td>\n      <td>5623</td>\n      <td>33</td>\n      <td>среднее</td>\n      <td>1</td>\n      <td>женат / замужем</td>\n      <td>0</td>\n      <td>M</td>\n      <td>сотрудник</td>\n      <td>0</td>\n      <td>145885</td>\n      <td>покупка жилья</td>\n      <td>I</td>\n      <td>C</td>\n    </tr>\n    <tr>\n      <th>3</th>\n      <td>3.0</td>\n      <td>4124</td>\n      <td>32</td>\n      <td>среднее</td>\n      <td>1</td>\n      <td>женат / замужем</td>\n      <td>0</td>\n      <td>M</td>\n      <td>сотрудник</td>\n      <td>0</td>\n      <td>267628</td>\n      <td>дополнительное образование</td>\n      <td>I</td>\n      <td>B</td>\n    </tr>\n    <tr>\n      <th>4</th>\n      <td>0.0</td>\n      <td>340266</td>\n      <td>53</td>\n      <td>среднее</td>\n      <td>1</td>\n      <td>гражданский брак</td>\n      <td>1</td>\n      <td>F</td>\n      <td>пенсионер</td>\n      <td>0</td>\n      <td>158616</td>\n      <td>сыграть свадьбу</td>\n      <td>III</td>\n      <td>C</td>\n    </tr>\n    <tr>\n      <th>5</th>\n      <td>0.0</td>\n      <td>926</td>\n      <td>27</td>\n      <td>высшее</td>\n      <td>0</td>\n      <td>гражданский брак</td>\n      <td>1</td>\n      <td>M</td>\n      <td>компаньон</td>\n      <td>0</td>\n      <td>255763</td>\n      <td>покупка жилья</td>\n      <td>I</td>\n      <td>B</td>\n    </tr>\n    <tr>\n      <th>6</th>\n      <td>0.0</td>\n      <td>2879</td>\n      <td>43</td>\n      <td>высшее</td>\n      <td>0</td>\n      <td>женат / замужем</td>\n      <td>0</td>\n      <td>F</td>\n      <td>компаньон</td>\n      <td>0</td>\n      <td>240525</td>\n      <td>операции с жильем</td>\n      <td>II</td>\n      <td>B</td>\n    </tr>\n    <tr>\n      <th>7</th>\n      <td>0.0</td>\n      <td>152</td>\n      <td>50</td>\n      <td>среднее</td>\n      <td>1</td>\n      <td>женат / замужем</td>\n      <td>0</td>\n      <td>M</td>\n      <td>сотрудник</td>\n      <td>0</td>\n      <td>135823</td>\n      <td>образование</td>\n      <td>III</td>\n      <td>C</td>\n    </tr>\n    <tr>\n      <th>8</th>\n      <td>2.0</td>\n      <td>6929</td>\n      <td>35</td>\n      <td>высшее</td>\n      <td>0</td>\n      <td>гражданский брак</td>\n      <td>1</td>\n      <td>F</td>\n      <td>сотрудник</td>\n      <td>0</td>\n      <td>95856</td>\n      <td>на проведение свадьбы</td>\n      <td>II</td>\n      <td>C</td>\n    </tr>\n    <tr>\n      <th>9</th>\n      <td>0.0</td>\n      <td>2188</td>\n      <td>41</td>\n      <td>среднее</td>\n      <td>1</td>\n      <td>женат / замужем</td>\n      <td>0</td>\n      <td>M</td>\n      <td>сотрудник</td>\n      <td>0</td>\n      <td>144425</td>\n      <td>покупка жилья для семьи</td>\n      <td>II</td>\n      <td>C</td>\n    </tr>\n  </tbody>\n</table>\n</div>"
     },
     "execution_count": 42,
     "metadata": {},
     "output_type": "execute_result"
    }
   ],
   "source": [
    "df['total_income_category'] = df['total_income'].apply(total_income_group)\n",
    "df.head(10)"
   ]
  },
  {
   "cell_type": "markdown",
   "metadata": {
    "datalore": {
     "sheet_delimiter": false,
     "type": "MD"
    },
    "jupyter": {
     "outputs_hidden": false,
     "source_hidden": false
    }
   },
   "source": [
    "### Purpose_category coding"
   ]
  },
  {
   "cell_type": "markdown",
   "metadata": {
    "datalore": {
     "sheet_delimiter": false,
     "type": "MD"
    },
    "jupyter": {
     "outputs_hidden": false,
     "source_hidden": false
    }
   },
   "source": [
    "Among all the possible purposes of obtaining a loan, there are only 4 keywords that reflect the main goal: car, real estate and housing, wedding and education.\n",
    "\n",
    "In accordance with them, we will form a new purpose_category column, which will include the following categories:\n",
    "- 'car operations',\n",
    "- 'real estate transactions',\n",
    "- 'holding a wedding',\n",
    "- 'getting an education'."
   ]
  },
  {
   "cell_type": "code",
   "execution_count": 43,
   "metadata": {
    "datalore": {
     "sheet_delimiter": false,
     "type": "CODE"
    },
    "jupyter": {
     "outputs_hidden": false,
     "source_hidden": false
    }
   },
   "outputs": [
    {
     "data": {
      "text/plain": "свадьба                                   791\nна проведение свадьбы                     768\nсыграть свадьбу                           765\nоперации с недвижимостью                  675\nпокупка коммерческой недвижимости         661\nоперации с жильем                         652\nпокупка жилья для сдачи                   651\nоперации с коммерческой недвижимостью     650\nпокупка жилья                             646\nжилье                                     646\nпокупка жилья для семьи                   638\nстроительство собственной недвижимости    635\nнедвижимость                              633\nоперации со своей недвижимостью           627\nстроительство жилой недвижимости          624\nпокупка недвижимости                      621\nпокупка своего жилья                      620\nстроительство недвижимости                619\nремонт жилью                              607\nпокупка жилой недвижимости                606\nна покупку своего автомобиля              505\nзаняться высшим образованием              496\nавтомобиль                                494\nсделка с подержанным автомобилем          486\nсвой автомобиль                           478\nна покупку подержанного автомобиля        478\nавтомобили                                478\nна покупку автомобиля                     471\nприобретение автомобиля                   461\nдополнительное образование                460\nсделка с автомобилем                      455\nвысшее образование                        452\nобразование                               447\nполучение дополнительного образования     446\nполучение образования                     442\nпрофильное образование                    436\nполучение высшего образования             426\nзаняться образованием                     408\nName: purpose, dtype: int64"
     },
     "execution_count": 43,
     "metadata": {},
     "output_type": "execute_result"
    }
   ],
   "source": [
    "df['purpose'].value_counts()"
   ]
  },
  {
   "cell_type": "code",
   "execution_count": 44,
   "metadata": {
    "datalore": {
     "sheet_delimiter": false,
     "type": "CODE"
    },
    "jupyter": {
     "outputs_hidden": false,
     "source_hidden": false
    }
   },
   "outputs": [],
   "source": [
    "def purpose_group(purpose):\n",
    "    if 'авто' in purpose:\n",
    "        return 'операции с автомобилем'\n",
    "    elif 'недвиж' in purpose or 'жиль'in purpose:\n",
    "        return 'операции с недвижимостью'\n",
    "    elif 'свадьб' in purpose:\n",
    "        return 'проведение свадьбы'\n",
    "    else:\n",
    "        return 'получение образования'"
   ]
  },
  {
   "cell_type": "code",
   "execution_count": 45,
   "metadata": {
    "datalore": {
     "sheet_delimiter": false,
     "type": "CODE"
    },
    "jupyter": {
     "outputs_hidden": false,
     "source_hidden": false
    }
   },
   "outputs": [],
   "source": [
    "df['purpose_category'] = df['purpose'].apply(purpose_group)"
   ]
  },
  {
   "cell_type": "code",
   "execution_count": 46,
   "metadata": {
    "datalore": {
     "sheet_delimiter": false,
     "type": "CODE"
    },
    "jupyter": {
     "outputs_hidden": false,
     "source_hidden": false
    }
   },
   "outputs": [
    {
     "data": {
      "text/plain": "операции с недвижимостью    10811\nоперации с автомобилем       4306\nполучение образования        4013\nпроведение свадьбы           2324\nName: purpose_category, dtype: int64"
     },
     "execution_count": 46,
     "metadata": {},
     "output_type": "execute_result"
    }
   ],
   "source": [
    "df['purpose_category'].value_counts()"
   ]
  },
  {
   "cell_type": "markdown",
   "metadata": {
    "datalore": {
     "sheet_delimiter": false,
     "type": "MD"
    },
    "jupyter": {
     "outputs_hidden": false,
     "source_hidden": false
    }
   },
   "source": [
    "**Resume**\n",
    "\n",
    "From the unique values of the loan purposes, 4 keywords were identified, on the basis of which we divided all customers into categories\n",
    "- 'car transactions',\n",
    "- 'real estate transactions',\n",
    "- 'holding a wedding',\n",
    "- 'getting an education'.\n",
    "\n",
    "Categorization greatly simplifies the analysis and preserves the main meaning of the goal."
   ]
  },
  {
   "cell_type": "markdown",
   "metadata": {
    "datalore": {
     "sheet_delimiter": false,
     "type": "MD"
    },
    "jupyter": {
     "outputs_hidden": false,
     "source_hidden": false
    }
   },
   "source": [
    "## Analysis"
   ]
  },
  {
   "cell_type": "markdown",
   "metadata": {
    "datalore": {
     "sheet_delimiter": false,
     "type": "MD"
    },
    "jupyter": {
     "outputs_hidden": false,
     "source_hidden": false
    }
   },
   "source": [
    "### Q1\n",
    "Is there a relationship between having children and repaying a loan on time?"
   ]
  },
  {
   "cell_type": "code",
   "execution_count": 47,
   "metadata": {
    "datalore": {
     "sheet_delimiter": false,
     "type": "CODE"
    },
    "jupyter": {
     "outputs_hidden": false,
     "source_hidden": false
    }
   },
   "outputs": [
    {
     "data": {
      "text/plain": "debt          0     1\nchildren             \n0.0       13028  1063\n1.0        4410   445\n2.0        1926   202\n3.0         303    27\n4.0          37     4\n5.0           9     0",
      "text/html": "<div>\n<style scoped>\n    .dataframe tbody tr th:only-of-type {\n        vertical-align: middle;\n    }\n\n    .dataframe tbody tr th {\n        vertical-align: top;\n    }\n\n    .dataframe thead th {\n        text-align: right;\n    }\n</style>\n<table border=\"1\" class=\"dataframe\">\n  <thead>\n    <tr style=\"text-align: right;\">\n      <th>debt</th>\n      <th>0</th>\n      <th>1</th>\n    </tr>\n    <tr>\n      <th>children</th>\n      <th></th>\n      <th></th>\n    </tr>\n  </thead>\n  <tbody>\n    <tr>\n      <th>0.0</th>\n      <td>13028</td>\n      <td>1063</td>\n    </tr>\n    <tr>\n      <th>1.0</th>\n      <td>4410</td>\n      <td>445</td>\n    </tr>\n    <tr>\n      <th>2.0</th>\n      <td>1926</td>\n      <td>202</td>\n    </tr>\n    <tr>\n      <th>3.0</th>\n      <td>303</td>\n      <td>27</td>\n    </tr>\n    <tr>\n      <th>4.0</th>\n      <td>37</td>\n      <td>4</td>\n    </tr>\n    <tr>\n      <th>5.0</th>\n      <td>9</td>\n      <td>0</td>\n    </tr>\n  </tbody>\n</table>\n</div>"
     },
     "execution_count": 47,
     "metadata": {},
     "output_type": "execute_result"
    }
   ],
   "source": [
    "df_children_pivot = pd.pivot_table(df,\n",
    "                                   index='children',\n",
    "                                   columns='debt', \n",
    "                                   values='days_employed', \n",
    "                                   aggfunc='count', \n",
    "                                   fill_value=0)\n",
    "df_children_pivot.head(10)"
   ]
  },
  {
   "cell_type": "code",
   "execution_count": 48,
   "metadata": {
    "datalore": {
     "sheet_delimiter": false,
     "type": "CODE"
    },
    "jupyter": {
     "outputs_hidden": false,
     "source_hidden": false
    }
   },
   "outputs": [
    {
     "data": {
      "text/plain": "debt          0     1  fraction_with_debt\nchildren                                 \n4.0          37     4                 9.8\n2.0        1926   202                 9.5\n1.0        4410   445                 9.2\n3.0         303    27                 8.2\n0.0       13028  1063                 7.5\n5.0           9     0                 0.0",
      "text/html": "<div>\n<style scoped>\n    .dataframe tbody tr th:only-of-type {\n        vertical-align: middle;\n    }\n\n    .dataframe tbody tr th {\n        vertical-align: top;\n    }\n\n    .dataframe thead th {\n        text-align: right;\n    }\n</style>\n<table border=\"1\" class=\"dataframe\">\n  <thead>\n    <tr style=\"text-align: right;\">\n      <th>debt</th>\n      <th>0</th>\n      <th>1</th>\n      <th>fraction_with_debt</th>\n    </tr>\n    <tr>\n      <th>children</th>\n      <th></th>\n      <th></th>\n      <th></th>\n    </tr>\n  </thead>\n  <tbody>\n    <tr>\n      <th>4.0</th>\n      <td>37</td>\n      <td>4</td>\n      <td>9.8</td>\n    </tr>\n    <tr>\n      <th>2.0</th>\n      <td>1926</td>\n      <td>202</td>\n      <td>9.5</td>\n    </tr>\n    <tr>\n      <th>1.0</th>\n      <td>4410</td>\n      <td>445</td>\n      <td>9.2</td>\n    </tr>\n    <tr>\n      <th>3.0</th>\n      <td>303</td>\n      <td>27</td>\n      <td>8.2</td>\n    </tr>\n    <tr>\n      <th>0.0</th>\n      <td>13028</td>\n      <td>1063</td>\n      <td>7.5</td>\n    </tr>\n    <tr>\n      <th>5.0</th>\n      <td>9</td>\n      <td>0</td>\n      <td>0.0</td>\n    </tr>\n  </tbody>\n</table>\n</div>"
     },
     "execution_count": 48,
     "metadata": {},
     "output_type": "execute_result"
    }
   ],
   "source": [
    "df_children_pivot['fraction_with_debt'] = round(100 * df_children_pivot[1] / (df_children_pivot[0] + df_children_pivot[1]), 1)\n",
    "df_children_pivot.sort_values(by='fraction_with_debt', ascending=False)"
   ]
  },
  {
   "cell_type": "code",
   "execution_count": 49,
   "metadata": {
    "datalore": {
     "sheet_delimiter": false,
     "type": "CODE"
    },
    "jupyter": {
     "outputs_hidden": false,
     "source_hidden": false
    }
   },
   "outputs": [
    {
     "data": {
      "text/plain": "<Figure size 432x288 with 1 Axes>",
      "image/png": "[encoded data removed]"
     },
     "metadata": {
      "needs_background": "light"
     },
     "output_type": "display_data"
    }
   ],
   "source": [
    "sns.barplot(data=df_children_pivot, x=df_children_pivot.index, y='fraction_with_debt')\n",
    "plt.title('Debt vs Children', size=16, weight='bold')\n",
    "plt.xlabel('Children', size=14, weight='bold')\n",
    "plt.ylabel('Fraction of borrower with debt', size=14, weight='bold')\n",
    "plt.show()"
   ]
  },
  {
   "cell_type": "markdown",
   "metadata": {
    "datalore": {
     "sheet_delimiter": false,
     "type": "MD"
    },
    "jupyter": {
     "outputs_hidden": false,
     "source_hidden": false
    }
   },
   "source": [
    "**Resume**\n",
    "Clients with children have a higher probability of debts (9.2% vs. 7.5%, respectively), while the more children, the higher the probability (9.2% vs. 9.8%, respectively). Although people with 3 children pay more often than those with 1-2 children. Perhaps a larger sample is needed to refine the final conclusion."
   ]
  },
  {
   "cell_type": "markdown",
   "metadata": {
    "datalore": {
     "sheet_delimiter": false,
     "type": "MD"
    },
    "jupyter": {
     "outputs_hidden": false,
     "source_hidden": false
    }
   },
   "source": [
    "### Q2\n",
    "Is there a relationship between marital status and loan repayment on time?"
   ]
  },
  {
   "cell_type": "code",
   "execution_count": 50,
   "metadata": {
    "datalore": {
     "sheet_delimiter": false,
     "type": "CODE"
    },
    "jupyter": {
     "outputs_hidden": false,
     "source_hidden": false
    }
   },
   "outputs": [
    {
     "data": {
      "text/plain": "debt                  0    1\nfamily_status_id            \n0                 11408  931\n1                  3763  388\n2                   896   63\n3                  1110   85\n4                  2536  274",
      "text/html": "<div>\n<style scoped>\n    .dataframe tbody tr th:only-of-type {\n        vertical-align: middle;\n    }\n\n    .dataframe tbody tr th {\n        vertical-align: top;\n    }\n\n    .dataframe thead th {\n        text-align: right;\n    }\n</style>\n<table border=\"1\" class=\"dataframe\">\n  <thead>\n    <tr style=\"text-align: right;\">\n      <th>debt</th>\n      <th>0</th>\n      <th>1</th>\n    </tr>\n    <tr>\n      <th>family_status_id</th>\n      <th></th>\n      <th></th>\n    </tr>\n  </thead>\n  <tbody>\n    <tr>\n      <th>0</th>\n      <td>11408</td>\n      <td>931</td>\n    </tr>\n    <tr>\n      <th>1</th>\n      <td>3763</td>\n      <td>388</td>\n    </tr>\n    <tr>\n      <th>2</th>\n      <td>896</td>\n      <td>63</td>\n    </tr>\n    <tr>\n      <th>3</th>\n      <td>1110</td>\n      <td>85</td>\n    </tr>\n    <tr>\n      <th>4</th>\n      <td>2536</td>\n      <td>274</td>\n    </tr>\n  </tbody>\n</table>\n</div>"
     },
     "execution_count": 50,
     "metadata": {},
     "output_type": "execute_result"
    }
   ],
   "source": [
    "df_family_pivot = pd.pivot_table(df,\n",
    "                                index=['family_status_id'],\n",
    "                                columns='debt',\n",
    "                                values='days_employed',\n",
    "                                aggfunc='count',\n",
    "                                fill_value=0)\n",
    "\n",
    "df_family_pivot.head(10)"
   ]
  },
  {
   "cell_type": "code",
   "execution_count": 51,
   "metadata": {
    "datalore": {
     "sheet_delimiter": false,
     "type": "CODE"
    },
    "jupyter": {
     "outputs_hidden": false,
     "source_hidden": false
    }
   },
   "outputs": [
    {
     "data": {
      "text/plain": "debt                  0    1  fraction_with_debt\nfamily_status_id                                \n4                  2536  274                 9.8\n1                  3763  388                 9.3\n0                 11408  931                 7.5\n3                  1110   85                 7.1\n2                   896   63                 6.6",
      "text/html": "<div>\n<style scoped>\n    .dataframe tbody tr th:only-of-type {\n        vertical-align: middle;\n    }\n\n    .dataframe tbody tr th {\n        vertical-align: top;\n    }\n\n    .dataframe thead th {\n        text-align: right;\n    }\n</style>\n<table border=\"1\" class=\"dataframe\">\n  <thead>\n    <tr style=\"text-align: right;\">\n      <th>debt</th>\n      <th>0</th>\n      <th>1</th>\n      <th>fraction_with_debt</th>\n    </tr>\n    <tr>\n      <th>family_status_id</th>\n      <th></th>\n      <th></th>\n      <th></th>\n    </tr>\n  </thead>\n  <tbody>\n    <tr>\n      <th>4</th>\n      <td>2536</td>\n      <td>274</td>\n      <td>9.8</td>\n    </tr>\n    <tr>\n      <th>1</th>\n      <td>3763</td>\n      <td>388</td>\n      <td>9.3</td>\n    </tr>\n    <tr>\n      <th>0</th>\n      <td>11408</td>\n      <td>931</td>\n      <td>7.5</td>\n    </tr>\n    <tr>\n      <th>3</th>\n      <td>1110</td>\n      <td>85</td>\n      <td>7.1</td>\n    </tr>\n    <tr>\n      <th>2</th>\n      <td>896</td>\n      <td>63</td>\n      <td>6.6</td>\n    </tr>\n  </tbody>\n</table>\n</div>"
     },
     "execution_count": 51,
     "metadata": {},
     "output_type": "execute_result"
    }
   ],
   "source": [
    "df_family_pivot['fraction_with_debt'] = round(100 * df_family_pivot[1] / (df_family_pivot[0] + df_family_pivot[1]), 1)\n",
    "df_family_pivot.sort_values(by='fraction_with_debt', ascending=False) #выводим таблицу отсортированную по убыванию"
   ]
  },
  {
   "cell_type": "code",
   "execution_count": 52,
   "metadata": {
    "datalore": {
     "sheet_delimiter": false,
     "type": "CODE"
    },
    "jupyter": {
     "outputs_hidden": false,
     "source_hidden": false
    }
   },
   "outputs": [
    {
     "data": {
      "text/plain": "<Figure size 432x288 with 1 Axes>",
      "image/png": "[encoded data removed]"
     },
     "metadata": {
      "needs_background": "light"
     },
     "output_type": "display_data"
    }
   ],
   "source": [
    "sns.barplot(data=df_family_pivot, x=df_family_pivot.index, y='fraction_with_debt')\n",
    "plt.title('Debt vs Family', size=16, weight='bold')\n",
    "plt.xlabel('Family status', size=14, weight='bold')\n",
    "plt.ylabel('Fraction of borrower with debt', size=14, weight='bold')\n",
    "plt.show()"
   ]
  },
  {
   "cell_type": "markdown",
   "metadata": {
    "datalore": {
     "sheet_delimiter": false,
     "type": "MD"
    },
    "jupyter": {
     "outputs_hidden": false,
     "source_hidden": false
    }
   },
   "source": [
    "**Resume**\n",
    "\n",
    "There is a dependence on marital status. People who have not been married are more likely to have loan debts. At the same time, those who were married (now divorced or widowed) pay on time more often than those who are now married.\n",
    "\n",
    "- single = 9.8%\n",
    "- civil marriage = 9.3%\n",
    "- married / married = 7.5%\n",
    "- divorced = 7.1%\n",
    "- widower / widow = 6.6%"
   ]
  },
  {
   "cell_type": "markdown",
   "metadata": {
    "datalore": {
     "sheet_delimiter": false,
     "type": "MD"
    },
    "jupyter": {
     "outputs_hidden": false,
     "source_hidden": false
    }
   },
   "source": [
    "### Q3\n",
    "Is there a relationship between income level and loan repayment on time?"
   ]
  },
  {
   "cell_type": "code",
   "execution_count": 53,
   "metadata": {
    "datalore": {
     "sheet_delimiter": false,
     "type": "CODE"
    },
    "jupyter": {
     "outputs_hidden": false,
     "source_hidden": false
    }
   },
   "outputs": [
    {
     "data": {
      "text/plain": "debt                       0     1\ntotal_income_category             \nA                         23     2\nB                       4686   356\nC                      14655  1360\nD                        329    21\nE                         20     2",
      "text/html": "<div>\n<style scoped>\n    .dataframe tbody tr th:only-of-type {\n        vertical-align: middle;\n    }\n\n    .dataframe tbody tr th {\n        vertical-align: top;\n    }\n\n    .dataframe thead th {\n        text-align: right;\n    }\n</style>\n<table border=\"1\" class=\"dataframe\">\n  <thead>\n    <tr style=\"text-align: right;\">\n      <th>debt</th>\n      <th>0</th>\n      <th>1</th>\n    </tr>\n    <tr>\n      <th>total_income_category</th>\n      <th></th>\n      <th></th>\n    </tr>\n  </thead>\n  <tbody>\n    <tr>\n      <th>A</th>\n      <td>23</td>\n      <td>2</td>\n    </tr>\n    <tr>\n      <th>B</th>\n      <td>4686</td>\n      <td>356</td>\n    </tr>\n    <tr>\n      <th>C</th>\n      <td>14655</td>\n      <td>1360</td>\n    </tr>\n    <tr>\n      <th>D</th>\n      <td>329</td>\n      <td>21</td>\n    </tr>\n    <tr>\n      <th>E</th>\n      <td>20</td>\n      <td>2</td>\n    </tr>\n  </tbody>\n</table>\n</div>"
     },
     "metadata": {},
     "output_type": "display_data"
    }
   ],
   "source": [
    "df_income_pivot = pd.pivot_table(df,\n",
    "                                   index=['total_income_category'], \n",
    "                                   columns='debt', \n",
    "                                   values='days_employed', \n",
    "                                   aggfunc='count', \n",
    "                                   fill_value=0)\n",
    "display(df_income_pivot.head(10)) "
   ]
  },
  {
   "cell_type": "code",
   "execution_count": 54,
   "metadata": {
    "datalore": {
     "sheet_delimiter": false,
     "type": "CODE"
    },
    "jupyter": {
     "outputs_hidden": false,
     "source_hidden": false
    }
   },
   "outputs": [
    {
     "data": {
      "text/plain": "debt                       0     1  fraction_with_debt\ntotal_income_category                                 \nE                         20     2                 9.1\nC                      14655  1360                 8.5\nA                         23     2                 8.0\nB                       4686   356                 7.1\nD                        329    21                 6.0",
      "text/html": "<div>\n<style scoped>\n    .dataframe tbody tr th:only-of-type {\n        vertical-align: middle;\n    }\n\n    .dataframe tbody tr th {\n        vertical-align: top;\n    }\n\n    .dataframe thead th {\n        text-align: right;\n    }\n</style>\n<table border=\"1\" class=\"dataframe\">\n  <thead>\n    <tr style=\"text-align: right;\">\n      <th>debt</th>\n      <th>0</th>\n      <th>1</th>\n      <th>fraction_with_debt</th>\n    </tr>\n    <tr>\n      <th>total_income_category</th>\n      <th></th>\n      <th></th>\n      <th></th>\n    </tr>\n  </thead>\n  <tbody>\n    <tr>\n      <th>E</th>\n      <td>20</td>\n      <td>2</td>\n      <td>9.1</td>\n    </tr>\n    <tr>\n      <th>C</th>\n      <td>14655</td>\n      <td>1360</td>\n      <td>8.5</td>\n    </tr>\n    <tr>\n      <th>A</th>\n      <td>23</td>\n      <td>2</td>\n      <td>8.0</td>\n    </tr>\n    <tr>\n      <th>B</th>\n      <td>4686</td>\n      <td>356</td>\n      <td>7.1</td>\n    </tr>\n    <tr>\n      <th>D</th>\n      <td>329</td>\n      <td>21</td>\n      <td>6.0</td>\n    </tr>\n  </tbody>\n</table>\n</div>"
     },
     "execution_count": 54,
     "metadata": {},
     "output_type": "execute_result"
    }
   ],
   "source": [
    "df_income_pivot['fraction_with_debt'] = round(100 * df_income_pivot[1] / (df_income_pivot[0] + df_income_pivot[1]), 1)\n",
    "df_income_pivot.sort_values(by='fraction_with_debt', ascending=False) #выводим таблицу отсортированную по убыванию"
   ]
  },
  {
   "cell_type": "code",
   "execution_count": 55,
   "metadata": {
    "datalore": {
     "sheet_delimiter": false,
     "type": "CODE"
    },
    "jupyter": {
     "outputs_hidden": false,
     "source_hidden": false
    }
   },
   "outputs": [
    {
     "data": {
      "text/plain": "<Figure size 432x288 with 1 Axes>",
      "image/png": "[encoded data removed]"
     },
     "metadata": {
      "needs_background": "light"
     },
     "output_type": "display_data"
    }
   ],
   "source": [
    "sns.barplot(data=df_income_pivot, x=df_income_pivot.index, y='fraction_with_debt')\n",
    "plt.title('Debt vs Total income', size=16, weight='bold')\n",
    "plt.xlabel('Total income category', size=14, weight='bold')\n",
    "plt.ylabel('Fraction of borrower with debt', size=14, weight='bold')\n",
    "plt.show()"
   ]
  },
  {
   "cell_type": "markdown",
   "metadata": {
    "datalore": {
     "sheet_delimiter": false,
     "type": "MD"
    },
    "jupyter": {
     "outputs_hidden": false,
     "source_hidden": false
    }
   },
   "source": [
    "**Resume**\n",
    "\n",
    "The clients who earn the least (9.1%) have the largest number of debts. Probably their salary is not always enough to pay off the loan.\n",
    "The most responsible clients are people with an average salary (6%), apparently they know how to control their budget, unlike those who earn more (7.1 - 8.5%).\n",
    "\n",
    "income in the range up to 30000 rub. per month = 9.1%\n",
    "income in the range from 50 to 200 thousand rub. = 8.5%\n",
    "more than 1000 thousand rub. = 8.0%\n",
    "income in the range from 200 to 1000 thousand rub. = 7.1%\n",
    "income in the range from 30 to 50 thousand rub. = 6.0%"
   ]
  },
  {
   "cell_type": "markdown",
   "metadata": {
    "datalore": {
     "sheet_delimiter": false,
     "type": "MD"
    },
    "jupyter": {
     "outputs_hidden": false,
     "source_hidden": false
    }
   },
   "source": [
    "### Q4\n",
    "How do different purposes of a loan affect its repayment on time?"
   ]
  },
  {
   "cell_type": "code",
   "execution_count": 56,
   "metadata": {
    "datalore": {
     "sheet_delimiter": false,
     "type": "CODE"
    },
    "jupyter": {
     "outputs_hidden": false,
     "source_hidden": false
    }
   },
   "outputs": [
    {
     "data": {
      "text/plain": "debt                          0    1\npurpose_category                    \nоперации с автомобилем     3903  403\nоперации с недвижимостью  10029  782\nполучение образования      3643  370\nпроведение свадьбы         2138  186",
      "text/html": "<div>\n<style scoped>\n    .dataframe tbody tr th:only-of-type {\n        vertical-align: middle;\n    }\n\n    .dataframe tbody tr th {\n        vertical-align: top;\n    }\n\n    .dataframe thead th {\n        text-align: right;\n    }\n</style>\n<table border=\"1\" class=\"dataframe\">\n  <thead>\n    <tr style=\"text-align: right;\">\n      <th>debt</th>\n      <th>0</th>\n      <th>1</th>\n    </tr>\n    <tr>\n      <th>purpose_category</th>\n      <th></th>\n      <th></th>\n    </tr>\n  </thead>\n  <tbody>\n    <tr>\n      <th>операции с автомобилем</th>\n      <td>3903</td>\n      <td>403</td>\n    </tr>\n    <tr>\n      <th>операции с недвижимостью</th>\n      <td>10029</td>\n      <td>782</td>\n    </tr>\n    <tr>\n      <th>получение образования</th>\n      <td>3643</td>\n      <td>370</td>\n    </tr>\n    <tr>\n      <th>проведение свадьбы</th>\n      <td>2138</td>\n      <td>186</td>\n    </tr>\n  </tbody>\n</table>\n</div>"
     },
     "metadata": {},
     "output_type": "display_data"
    }
   ],
   "source": [
    "df_purpose_pivot = pd.pivot_table(df,\n",
    "                                   index=['purpose_category'], \n",
    "                                   columns='debt', \n",
    "                                   values='days_employed', \n",
    "                                   aggfunc='count', \n",
    "                                   fill_value=0)\n",
    "display(df_purpose_pivot.head(10)) "
   ]
  },
  {
   "cell_type": "code",
   "execution_count": 57,
   "metadata": {
    "datalore": {
     "sheet_delimiter": false,
     "type": "CODE"
    },
    "jupyter": {
     "outputs_hidden": false,
     "source_hidden": false
    }
   },
   "outputs": [
    {
     "data": {
      "text/plain": "debt                          0    1  fraction_with_debt\npurpose_category                                        \nоперации с автомобилем     3903  403                 9.4\nполучение образования      3643  370                 9.2\nпроведение свадьбы         2138  186                 8.0\nоперации с недвижимостью  10029  782                 7.2",
      "text/html": "<div>\n<style scoped>\n    .dataframe tbody tr th:only-of-type {\n        vertical-align: middle;\n    }\n\n    .dataframe tbody tr th {\n        vertical-align: top;\n    }\n\n    .dataframe thead th {\n        text-align: right;\n    }\n</style>\n<table border=\"1\" class=\"dataframe\">\n  <thead>\n    <tr style=\"text-align: right;\">\n      <th>debt</th>\n      <th>0</th>\n      <th>1</th>\n      <th>fraction_with_debt</th>\n    </tr>\n    <tr>\n      <th>purpose_category</th>\n      <th></th>\n      <th></th>\n      <th></th>\n    </tr>\n  </thead>\n  <tbody>\n    <tr>\n      <th>операции с автомобилем</th>\n      <td>3903</td>\n      <td>403</td>\n      <td>9.4</td>\n    </tr>\n    <tr>\n      <th>получение образования</th>\n      <td>3643</td>\n      <td>370</td>\n      <td>9.2</td>\n    </tr>\n    <tr>\n      <th>проведение свадьбы</th>\n      <td>2138</td>\n      <td>186</td>\n      <td>8.0</td>\n    </tr>\n    <tr>\n      <th>операции с недвижимостью</th>\n      <td>10029</td>\n      <td>782</td>\n      <td>7.2</td>\n    </tr>\n  </tbody>\n</table>\n</div>"
     },
     "execution_count": 57,
     "metadata": {},
     "output_type": "execute_result"
    }
   ],
   "source": [
    "df_purpose_pivot['fraction_with_debt'] = round(100 * df_purpose_pivot[1] / (df_purpose_pivot[0] + df_purpose_pivot[1]), 1)\n",
    "df_purpose_pivot.sort_values(by='fraction_with_debt', ascending=False) #выводим таблицу отсортированную по убыванию"
   ]
  },
  {
   "cell_type": "code",
   "execution_count": 58,
   "metadata": {
    "datalore": {
     "sheet_delimiter": false,
     "type": "CODE"
    },
    "jupyter": {
     "outputs_hidden": false,
     "source_hidden": false
    }
   },
   "outputs": [
    {
     "data": {
      "text/plain": "<Figure size 432x288 with 1 Axes>",
      "image/png": "[encoded data removed]"
     },
     "metadata": {
      "needs_background": "light"
     },
     "output_type": "display_data"
    }
   ],
   "source": [
    "label = ['car', 'real estate', 'education', 'wedding']\n",
    "sns.barplot(data=df_purpose_pivot, x=df_purpose_pivot.index, y='fraction_with_debt')\n",
    "plt.title('Debt vs Purpose', size=16, weight='bold')\n",
    "plt.xticks(ticks=[0, 1, 2, 3], labels=label)\n",
    "plt.xlabel('Purpose category', size=14, weight='bold')\n",
    "plt.ylabel('Fraction of borrower with debt', size=14, weight='bold')\n",
    "plt.show()"
   ]
  },
  {
   "cell_type": "markdown",
   "metadata": {
    "datalore": {
     "sheet_delimiter": false,
     "type": "MD"
    },
    "jupyter": {
     "outputs_hidden": false,
     "source_hidden": false
    }
   },
   "source": [
    "**Resume**\n",
    "\n",
    "\n",
    "Most often, clients with a loan for real estate (both residential and commercial) pay without delay 7.2%. Worst pay on loans for cars (7.2%).\n",
    "\n",
    "- car - 9.4%\n",
    "- education - 9.2%\n",
    "- wedding - 8.0%\n",
    "- real estate - 7.2%"
   ]
  },
  {
   "cell_type": "markdown",
   "metadata": {
    "datalore": {
     "sheet_delimiter": false,
     "type": "MD"
    },
    "jupyter": {
     "outputs_hidden": false,
     "source_hidden": false
    }
   },
   "source": [
    "## Conclusions\n",
    "\n",
    "Factors that affect loan repayment on time include:\n",
    "- Family status;\n",
    "- Presence of children;\n",
    "- Income;\n",
    "- The purpose of the loan.\n",
    "\n",
    "*The most preferred client for the bank may be a widower / widow without children with an income of 30 to 50 thousand rubles, who is going to buy real estate.*\n",
    "\n",
    "In the future, it will be interesting to study the influence of gender, education, age and work experience of the client on the timely repayment of the loan."
   ]
  },
  {
   "cell_type": "code",
   "execution_count": 58,
   "outputs": [],
   "source": [],
   "metadata": {
    "collapsed": false
   }
  }
 ],
 "metadata": {
  "ExecuteTimeLog": [
   {
    "duration": 1354,
    "start_time": "2022-02-25T15:43:08.790Z"
   },
   {
    "duration": 10,
    "start_time": "2022-02-25T15:43:10.146Z"
   },
   {
    "duration": 36,
    "start_time": "2022-02-25T15:43:10.158Z"
   },
   {
    "duration": 5,
    "start_time": "2022-02-25T15:43:10.196Z"
   },
   {
    "duration": 12,
    "start_time": "2022-02-25T15:43:10.203Z"
   },
   {
    "duration": 11,
    "start_time": "2022-02-25T15:43:10.216Z"
   },
   {
    "duration": 78,
    "start_time": "2022-02-25T15:43:10.229Z"
   },
   {
    "duration": 7,
    "start_time": "2022-02-25T15:43:10.310Z"
   },
   {
    "duration": 388,
    "start_time": "2022-02-25T15:43:10.319Z"
   },
   {
    "duration": -107,
    "start_time": "2022-02-25T15:43:10.817Z"
   },
   {
    "duration": -148,
    "start_time": "2022-02-25T15:43:10.859Z"
   },
   {
    "duration": -150,
    "start_time": "2022-02-25T15:43:10.862Z"
   },
   {
    "duration": -150,
    "start_time": "2022-02-25T15:43:10.864Z"
   },
   {
    "duration": -157,
    "start_time": "2022-02-25T15:43:10.872Z"
   },
   {
    "duration": -170,
    "start_time": "2022-02-25T15:43:10.886Z"
   },
   {
    "duration": -189,
    "start_time": "2022-02-25T15:43:10.906Z"
   },
   {
    "duration": -200,
    "start_time": "2022-02-25T15:43:10.918Z"
   },
   {
    "duration": -272,
    "start_time": "2022-02-25T15:43:10.991Z"
   },
   {
    "duration": -272,
    "start_time": "2022-02-25T15:43:10.993Z"
   },
   {
    "duration": -273,
    "start_time": "2022-02-25T15:43:10.995Z"
   },
   {
    "duration": -276,
    "start_time": "2022-02-25T15:43:10.999Z"
   },
   {
    "duration": -277,
    "start_time": "2022-02-25T15:43:11.001Z"
   },
   {
    "duration": -281,
    "start_time": "2022-02-25T15:43:11.006Z"
   },
   {
    "duration": -281,
    "start_time": "2022-02-25T15:43:11.007Z"
   },
   {
    "duration": -282,
    "start_time": "2022-02-25T15:43:11.009Z"
   },
   {
    "duration": -286,
    "start_time": "2022-02-25T15:43:11.014Z"
   },
   {
    "duration": -286,
    "start_time": "2022-02-25T15:43:11.016Z"
   },
   {
    "duration": -289,
    "start_time": "2022-02-25T15:43:11.020Z"
   },
   {
    "duration": -290,
    "start_time": "2022-02-25T15:43:11.022Z"
   },
   {
    "duration": -295,
    "start_time": "2022-02-25T15:43:11.028Z"
   },
   {
    "duration": -296,
    "start_time": "2022-02-25T15:43:11.030Z"
   },
   {
    "duration": -301,
    "start_time": "2022-02-25T15:43:11.036Z"
   },
   {
    "duration": -306,
    "start_time": "2022-02-25T15:43:11.042Z"
   },
   {
    "duration": -306,
    "start_time": "2022-02-25T15:43:11.044Z"
   },
   {
    "duration": -307,
    "start_time": "2022-02-25T15:43:11.048Z"
   },
   {
    "duration": -308,
    "start_time": "2022-02-25T15:43:11.050Z"
   },
   {
    "duration": -312,
    "start_time": "2022-02-25T15:43:11.055Z"
   },
   {
    "duration": -312,
    "start_time": "2022-02-25T15:43:11.056Z"
   },
   {
    "duration": -313,
    "start_time": "2022-02-25T15:43:11.058Z"
   },
   {
    "duration": -317,
    "start_time": "2022-02-25T15:43:11.063Z"
   },
   {
    "duration": -321,
    "start_time": "2022-02-25T15:43:11.068Z"
   },
   {
    "duration": -322,
    "start_time": "2022-02-25T15:43:11.070Z"
   },
   {
    "duration": -322,
    "start_time": "2022-02-25T15:43:11.071Z"
   },
   {
    "duration": -290,
    "start_time": "2022-02-25T15:43:11.084Z"
   },
   {
    "duration": -495,
    "start_time": "2022-02-25T15:43:11.291Z"
   },
   {
    "duration": -495,
    "start_time": "2022-02-25T15:43:11.292Z"
   },
   {
    "duration": -496,
    "start_time": "2022-02-25T15:43:11.294Z"
   },
   {
    "duration": -499,
    "start_time": "2022-02-25T15:43:11.298Z"
   },
   {
    "duration": -500,
    "start_time": "2022-02-25T15:43:11.300Z"
   },
   {
    "duration": -502,
    "start_time": "2022-02-25T15:43:11.304Z"
   },
   {
    "duration": -503,
    "start_time": "2022-02-25T15:43:11.306Z"
   },
   {
    "duration": -504,
    "start_time": "2022-02-25T15:43:11.308Z"
   },
   {
    "duration": -507,
    "start_time": "2022-02-25T15:43:11.312Z"
   },
   {
    "duration": -509,
    "start_time": "2022-02-25T15:43:11.315Z"
   },
   {
    "duration": -512,
    "start_time": "2022-02-25T15:43:11.319Z"
   },
   {
    "duration": -512,
    "start_time": "2022-02-25T15:43:11.320Z"
   },
   {
    "duration": -512,
    "start_time": "2022-02-25T15:43:11.322Z"
   },
   {
    "duration": -516,
    "start_time": "2022-02-25T15:43:11.327Z"
   },
   {
    "duration": -517,
    "start_time": "2022-02-25T15:43:11.329Z"
   },
   {
    "duration": -520,
    "start_time": "2022-02-25T15:43:11.333Z"
   },
   {
    "duration": 1440,
    "start_time": "2022-02-25T15:47:29.254Z"
   },
   {
    "duration": 10,
    "start_time": "2022-02-25T15:47:30.696Z"
   },
   {
    "duration": 41,
    "start_time": "2022-02-25T15:47:30.709Z"
   },
   {
    "duration": 5,
    "start_time": "2022-02-25T15:47:30.752Z"
   },
   {
    "duration": 27,
    "start_time": "2022-02-25T15:47:30.759Z"
   },
   {
    "duration": 21,
    "start_time": "2022-02-25T15:47:30.789Z"
   },
   {
    "duration": 31,
    "start_time": "2022-02-25T15:47:30.812Z"
   },
   {
    "duration": 7,
    "start_time": "2022-02-25T15:47:30.845Z"
   },
   {
    "duration": 577,
    "start_time": "2022-02-25T15:47:30.855Z"
   },
   {
    "duration": -108,
    "start_time": "2022-02-25T15:47:31.543Z"
   },
   {
    "duration": -109,
    "start_time": "2022-02-25T15:47:31.546Z"
   },
   {
    "duration": -111,
    "start_time": "2022-02-25T15:47:31.549Z"
   },
   {
    "duration": -112,
    "start_time": "2022-02-25T15:47:31.551Z"
   },
   {
    "duration": -116,
    "start_time": "2022-02-25T15:47:31.556Z"
   },
   {
    "duration": -117,
    "start_time": "2022-02-25T15:47:31.558Z"
   },
   {
    "duration": -118,
    "start_time": "2022-02-25T15:47:31.560Z"
   },
   {
    "duration": -119,
    "start_time": "2022-02-25T15:47:31.562Z"
   },
   {
    "duration": -120,
    "start_time": "2022-02-25T15:47:31.564Z"
   },
   {
    "duration": -120,
    "start_time": "2022-02-25T15:47:31.565Z"
   },
   {
    "duration": -120,
    "start_time": "2022-02-25T15:47:31.567Z"
   },
   {
    "duration": -121,
    "start_time": "2022-02-25T15:47:31.569Z"
   },
   {
    "duration": -122,
    "start_time": "2022-02-25T15:47:31.570Z"
   },
   {
    "duration": -122,
    "start_time": "2022-02-25T15:47:31.572Z"
   },
   {
    "duration": -122,
    "start_time": "2022-02-25T15:47:31.573Z"
   },
   {
    "duration": -123,
    "start_time": "2022-02-25T15:47:31.575Z"
   },
   {
    "duration": -123,
    "start_time": "2022-02-25T15:47:31.576Z"
   },
   {
    "duration": -124,
    "start_time": "2022-02-25T15:47:31.578Z"
   },
   {
    "duration": -124,
    "start_time": "2022-02-25T15:47:31.579Z"
   },
   {
    "duration": -124,
    "start_time": "2022-02-25T15:47:31.581Z"
   },
   {
    "duration": -124,
    "start_time": "2022-02-25T15:47:31.582Z"
   },
   {
    "duration": -130,
    "start_time": "2022-02-25T15:47:31.589Z"
   },
   {
    "duration": -130,
    "start_time": "2022-02-25T15:47:31.590Z"
   },
   {
    "duration": -130,
    "start_time": "2022-02-25T15:47:31.592Z"
   },
   {
    "duration": -131,
    "start_time": "2022-02-25T15:47:31.594Z"
   },
   {
    "duration": -132,
    "start_time": "2022-02-25T15:47:31.596Z"
   },
   {
    "duration": -365,
    "start_time": "2022-02-25T15:47:31.830Z"
   },
   {
    "duration": -365,
    "start_time": "2022-02-25T15:47:31.832Z"
   },
   {
    "duration": -367,
    "start_time": "2022-02-25T15:47:31.834Z"
   },
   {
    "duration": -366,
    "start_time": "2022-02-25T15:47:31.835Z"
   },
   {
    "duration": -367,
    "start_time": "2022-02-25T15:47:31.837Z"
   },
   {
    "duration": -368,
    "start_time": "2022-02-25T15:47:31.839Z"
   },
   {
    "duration": -367,
    "start_time": "2022-02-25T15:47:31.840Z"
   },
   {
    "duration": -348,
    "start_time": "2022-02-25T15:47:31.842Z"
   },
   {
    "duration": -347,
    "start_time": "2022-02-25T15:47:31.843Z"
   },
   {
    "duration": -348,
    "start_time": "2022-02-25T15:47:31.845Z"
   },
   {
    "duration": -348,
    "start_time": "2022-02-25T15:47:31.846Z"
   },
   {
    "duration": -349,
    "start_time": "2022-02-25T15:47:31.848Z"
   },
   {
    "duration": -349,
    "start_time": "2022-02-25T15:47:31.849Z"
   },
   {
    "duration": -350,
    "start_time": "2022-02-25T15:47:31.851Z"
   },
   {
    "duration": -350,
    "start_time": "2022-02-25T15:47:31.852Z"
   },
   {
    "duration": -351,
    "start_time": "2022-02-25T15:47:31.854Z"
   },
   {
    "duration": -351,
    "start_time": "2022-02-25T15:47:31.855Z"
   },
   {
    "duration": -352,
    "start_time": "2022-02-25T15:47:31.857Z"
   },
   {
    "duration": -352,
    "start_time": "2022-02-25T15:47:31.858Z"
   },
   {
    "duration": -353,
    "start_time": "2022-02-25T15:47:31.860Z"
   },
   {
    "duration": -353,
    "start_time": "2022-02-25T15:47:31.861Z"
   },
   {
    "duration": -354,
    "start_time": "2022-02-25T15:47:31.863Z"
   },
   {
    "duration": -354,
    "start_time": "2022-02-25T15:47:31.864Z"
   },
   {
    "duration": -355,
    "start_time": "2022-02-25T15:47:31.866Z"
   },
   {
    "duration": -356,
    "start_time": "2022-02-25T15:47:31.868Z"
   },
   {
    "duration": 1185,
    "start_time": "2022-02-27T09:44:18.405Z"
   },
   {
    "duration": 10,
    "start_time": "2022-02-27T09:44:33.273Z"
   },
   {
    "duration": 21,
    "start_time": "2022-02-27T09:44:37.867Z"
   },
   {
    "duration": 4,
    "start_time": "2022-02-27T09:44:52.632Z"
   },
   {
    "duration": 7,
    "start_time": "2022-02-27T09:45:04.228Z"
   },
   {
    "duration": 7,
    "start_time": "2022-02-27T09:45:17.833Z"
   },
   {
    "duration": 9,
    "start_time": "2022-02-27T09:45:20.030Z"
   },
   {
    "duration": 23,
    "start_time": "2022-02-27T09:45:41.319Z"
   },
   {
    "duration": 5,
    "start_time": "2022-02-27T09:45:43.375Z"
   },
   {
    "duration": 312,
    "start_time": "2022-02-27T09:45:48.922Z"
   },
   {
    "duration": 205,
    "start_time": "2022-02-27T09:46:14.419Z"
   },
   {
    "duration": 218,
    "start_time": "2022-02-27T09:46:33.670Z"
   },
   {
    "duration": 549,
    "start_time": "2022-02-27T09:46:56.116Z"
   },
   {
    "duration": 212,
    "start_time": "2022-02-27T09:47:31.527Z"
   },
   {
    "duration": 3,
    "start_time": "2022-02-27T09:49:19.095Z"
   },
   {
    "duration": 8220,
    "start_time": "2022-02-27T09:54:38.669Z"
   },
   {
    "duration": 1137,
    "start_time": "2022-02-27T09:56:29.516Z"
   },
   {
    "duration": 10,
    "start_time": "2022-02-27T09:56:34.867Z"
   },
   {
    "duration": 22,
    "start_time": "2022-02-27T09:56:37.102Z"
   },
   {
    "duration": 5,
    "start_time": "2022-02-27T09:56:40.334Z"
   },
   {
    "duration": 8,
    "start_time": "2022-02-27T09:56:42.635Z"
   },
   {
    "duration": 8,
    "start_time": "2022-02-27T09:56:44.535Z"
   },
   {
    "duration": 22,
    "start_time": "2022-02-27T09:56:47.022Z"
   },
   {
    "duration": 4,
    "start_time": "2022-02-27T09:56:48.836Z"
   },
   {
    "duration": 4,
    "start_time": "2022-02-27T09:56:51.336Z"
   },
   {
    "duration": 59208,
    "start_time": "2022-02-27T09:57:05.854Z"
   },
   {
    "duration": 626,
    "start_time": "2022-02-27T09:58:05.064Z"
   },
   {
    "duration": 7,
    "start_time": "2022-02-27T09:58:27.976Z"
   },
   {
    "duration": 9,
    "start_time": "2022-02-27T09:58:30.375Z"
   },
   {
    "duration": 19,
    "start_time": "2022-02-27T09:58:31.428Z"
   },
   {
    "duration": 7,
    "start_time": "2022-02-27T09:58:32.994Z"
   },
   {
    "duration": 9,
    "start_time": "2022-02-27T09:58:35.876Z"
   },
   {
    "duration": 4,
    "start_time": "2022-02-27T09:58:37.749Z"
   },
   {
    "duration": 20,
    "start_time": "2022-02-27T09:58:39.095Z"
   },
   {
    "duration": 11,
    "start_time": "2022-02-27T09:58:41.681Z"
   },
   {
    "duration": 20,
    "start_time": "2022-02-27T09:58:43.432Z"
   },
   {
    "duration": 7011,
    "start_time": "2022-02-27T09:58:46.530Z"
   },
   {
    "duration": 14,
    "start_time": "2022-02-27T09:59:16.632Z"
   },
   {
    "duration": 6,
    "start_time": "2022-02-27T09:59:20.134Z"
   },
   {
    "duration": 3,
    "start_time": "2022-02-27T09:59:22.038Z"
   },
   {
    "duration": 8,
    "start_time": "2022-02-27T09:59:24.251Z"
   },
   {
    "duration": 6,
    "start_time": "2022-02-27T09:59:24.972Z"
   },
   {
    "duration": 545,
    "start_time": "2022-02-27T09:59:26.104Z"
   },
   {
    "duration": 6,
    "start_time": "2022-02-27T09:59:28.440Z"
   },
   {
    "duration": 6,
    "start_time": "2022-02-27T09:59:29.121Z"
   },
   {
    "duration": 6,
    "start_time": "2022-02-27T09:59:29.609Z"
   },
   {
    "duration": 1425,
    "start_time": "2022-02-27T09:59:31.295Z"
   },
   {
    "duration": 15,
    "start_time": "2022-02-27T09:59:36.620Z"
   },
   {
    "duration": 11,
    "start_time": "2022-02-27T09:59:39.437Z"
   },
   {
    "duration": 19,
    "start_time": "2022-02-27T09:59:40.537Z"
   },
   {
    "duration": 8,
    "start_time": "2022-02-27T09:59:43.337Z"
   },
   {
    "duration": 8,
    "start_time": "2022-02-27T09:59:44.206Z"
   },
   {
    "duration": 10,
    "start_time": "2022-02-27T09:59:46.608Z"
   },
   {
    "duration": 20,
    "start_time": "2022-02-27T09:59:49.406Z"
   },
   {
    "duration": 25,
    "start_time": "2022-02-27T09:59:50.208Z"
   },
   {
    "duration": 18,
    "start_time": "2022-02-27T09:59:50.767Z"
   },
   {
    "duration": 12,
    "start_time": "2022-02-27T09:59:56.675Z"
   },
   {
    "duration": 19,
    "start_time": "2022-02-27T09:59:59.120Z"
   },
   {
    "duration": 4,
    "start_time": "2022-02-27T10:00:02.992Z"
   },
   {
    "duration": 11,
    "start_time": "2022-02-27T10:00:04.526Z"
   },
   {
    "duration": 17,
    "start_time": "2022-02-27T10:00:05.210Z"
   },
   {
    "duration": 8,
    "start_time": "2022-02-27T10:00:09.613Z"
   },
   {
    "duration": 4,
    "start_time": "2022-02-27T10:00:10.876Z"
   },
   {
    "duration": 9,
    "start_time": "2022-02-27T10:00:11.709Z"
   },
   {
    "duration": 8,
    "start_time": "2022-02-27T10:00:13.061Z"
   },
   {
    "duration": 26,
    "start_time": "2022-02-27T10:00:15.098Z"
   },
   {
    "duration": 12,
    "start_time": "2022-02-27T10:00:15.785Z"
   },
   {
    "duration": 184,
    "start_time": "2022-02-27T10:00:16.745Z"
   },
   {
    "duration": 18,
    "start_time": "2022-02-27T10:00:25.867Z"
   },
   {
    "duration": 10,
    "start_time": "2022-02-27T10:00:27.530Z"
   },
   {
    "duration": 175,
    "start_time": "2022-02-27T10:00:28.097Z"
   },
   {
    "duration": 312,
    "start_time": "2022-02-27T10:00:28.947Z"
   },
   {
    "duration": 211,
    "start_time": "2022-02-27T10:00:41.566Z"
   },
   {
    "duration": 277,
    "start_time": "2022-02-27T10:07:09.033Z"
   },
   {
    "duration": 252,
    "start_time": "2022-02-27T10:12:12.595Z"
   },
   {
    "duration": 227,
    "start_time": "2022-02-27T10:12:43.637Z"
   },
   {
    "duration": 26,
    "start_time": "2022-02-27T10:12:54.105Z"
   },
   {
    "duration": 19,
    "start_time": "2022-02-27T10:13:48.659Z"
   },
   {
    "duration": 346,
    "start_time": "2022-02-27T10:15:07.247Z"
   },
   {
    "duration": 12,
    "start_time": "2022-02-27T10:15:15.972Z"
   },
   {
    "duration": 11,
    "start_time": "2022-02-27T10:15:56.966Z"
   },
   {
    "duration": 13,
    "start_time": "2022-02-27T10:16:50.244Z"
   },
   {
    "duration": 238,
    "start_time": "2022-02-27T10:17:39.188Z"
   },
   {
    "duration": 4,
    "start_time": "2022-02-27T10:18:50.523Z"
   },
   {
    "duration": 8,
    "start_time": "2022-02-27T10:19:52.848Z"
   },
   {
    "duration": 19,
    "start_time": "2022-02-27T10:20:36.737Z"
   },
   {
    "duration": 10,
    "start_time": "2022-02-27T10:20:39.855Z"
   },
   {
    "duration": 169,
    "start_time": "2022-02-27T10:20:42.288Z"
   },
   {
    "duration": 20,
    "start_time": "2022-02-27T10:20:46.876Z"
   },
   {
    "duration": 10,
    "start_time": "2022-02-27T10:20:49.493Z"
   },
   {
    "duration": 167,
    "start_time": "2022-02-27T10:20:51.508Z"
   },
   {
    "duration": 4,
    "start_time": "2022-02-27T11:02:56.924Z"
   },
   {
    "duration": 1147,
    "start_time": "2022-02-27T13:06:27.110Z"
   },
   {
    "duration": 11,
    "start_time": "2022-02-27T13:06:33.260Z"
   },
   {
    "duration": 20,
    "start_time": "2022-02-27T13:06:35.561Z"
   },
   {
    "duration": 5,
    "start_time": "2022-02-27T13:06:37.809Z"
   },
   {
    "duration": 7,
    "start_time": "2022-02-27T13:06:41.213Z"
   },
   {
    "duration": 8,
    "start_time": "2022-02-27T13:06:42.563Z"
   },
   {
    "duration": 21,
    "start_time": "2022-02-27T13:06:43.146Z"
   },
   {
    "duration": 4,
    "start_time": "2022-02-27T13:06:44.763Z"
   },
   {
    "duration": 3,
    "start_time": "2022-02-27T13:06:49.932Z"
   },
   {
    "duration": 4,
    "start_time": "2022-02-27T13:06:51.432Z"
   },
   {
    "duration": 33813,
    "start_time": "2022-02-27T13:06:53.566Z"
   },
   {
    "duration": 308,
    "start_time": "2022-02-27T13:07:27.381Z"
   },
   {
    "duration": 383,
    "start_time": "2022-02-27T13:07:32.760Z"
   },
   {
    "duration": 1278,
    "start_time": "2022-02-27T13:08:05.633Z"
   },
   {
    "duration": 10,
    "start_time": "2022-02-27T13:08:06.913Z"
   },
   {
    "duration": 36,
    "start_time": "2022-02-27T13:08:06.926Z"
   },
   {
    "duration": 5,
    "start_time": "2022-02-27T13:08:06.964Z"
   },
   {
    "duration": 10,
    "start_time": "2022-02-27T13:08:06.971Z"
   },
   {
    "duration": 8,
    "start_time": "2022-02-27T13:08:06.982Z"
   },
   {
    "duration": 22,
    "start_time": "2022-02-27T13:08:06.992Z"
   },
   {
    "duration": 45,
    "start_time": "2022-02-27T13:08:07.017Z"
   },
   {
    "duration": 5,
    "start_time": "2022-02-27T13:08:07.065Z"
   },
   {
    "duration": 5,
    "start_time": "2022-02-27T13:08:07.072Z"
   },
   {
    "duration": 17425,
    "start_time": "2022-02-27T13:08:07.079Z"
   },
   {
    "duration": 608,
    "start_time": "2022-02-27T13:08:24.506Z"
   },
   {
    "duration": 7,
    "start_time": "2022-02-27T13:08:25.115Z"
   },
   {
    "duration": 13,
    "start_time": "2022-02-27T13:08:25.123Z"
   },
   {
    "duration": 33,
    "start_time": "2022-02-27T13:08:25.137Z"
   },
   {
    "duration": 6,
    "start_time": "2022-02-27T13:08:25.171Z"
   },
   {
    "duration": 10,
    "start_time": "2022-02-27T13:08:25.178Z"
   },
   {
    "duration": 4,
    "start_time": "2022-02-27T13:08:25.189Z"
   },
   {
    "duration": 19,
    "start_time": "2022-02-27T13:08:25.194Z"
   },
   {
    "duration": 9,
    "start_time": "2022-02-27T13:08:25.214Z"
   },
   {
    "duration": 45,
    "start_time": "2022-02-27T13:08:25.225Z"
   },
   {
    "duration": 6454,
    "start_time": "2022-02-27T13:08:25.272Z"
   },
   {
    "duration": 13,
    "start_time": "2022-02-27T13:08:31.730Z"
   },
   {
    "duration": 15,
    "start_time": "2022-02-27T13:08:31.745Z"
   },
   {
    "duration": 3,
    "start_time": "2022-02-27T13:08:31.761Z"
   },
   {
    "duration": 7,
    "start_time": "2022-02-27T13:08:31.766Z"
   },
   {
    "duration": 6,
    "start_time": "2022-02-27T13:08:31.775Z"
   },
   {
    "duration": 474,
    "start_time": "2022-02-27T13:08:31.782Z"
   },
   {
    "duration": 6,
    "start_time": "2022-02-27T13:08:32.258Z"
   },
   {
    "duration": 9,
    "start_time": "2022-02-27T13:08:32.265Z"
   },
   {
    "duration": 9,
    "start_time": "2022-02-27T13:08:32.276Z"
   },
   {
    "duration": 1371,
    "start_time": "2022-02-27T13:08:32.287Z"
   },
   {
    "duration": 14,
    "start_time": "2022-02-27T13:08:33.660Z"
   },
   {
    "duration": 7,
    "start_time": "2022-02-27T13:08:33.676Z"
   },
   {
    "duration": 32,
    "start_time": "2022-02-27T13:08:33.684Z"
   },
   {
    "duration": 9,
    "start_time": "2022-02-27T13:08:33.717Z"
   },
   {
    "duration": 19,
    "start_time": "2022-02-27T13:08:33.728Z"
   },
   {
    "duration": 22,
    "start_time": "2022-02-27T13:08:33.749Z"
   },
   {
    "duration": 30,
    "start_time": "2022-02-27T13:08:33.773Z"
   },
   {
    "duration": 22,
    "start_time": "2022-02-27T13:08:33.805Z"
   },
   {
    "duration": 16,
    "start_time": "2022-02-27T13:08:33.829Z"
   },
   {
    "duration": 16,
    "start_time": "2022-02-27T13:08:33.847Z"
   },
   {
    "duration": 18,
    "start_time": "2022-02-27T13:08:33.865Z"
   },
   {
    "duration": 4,
    "start_time": "2022-02-27T13:08:33.884Z"
   },
   {
    "duration": 24,
    "start_time": "2022-02-27T13:08:33.889Z"
   },
   {
    "duration": 20,
    "start_time": "2022-02-27T13:08:33.915Z"
   },
   {
    "duration": 13,
    "start_time": "2022-02-27T13:08:33.960Z"
   },
   {
    "duration": 5,
    "start_time": "2022-02-27T13:08:33.975Z"
   },
   {
    "duration": 25,
    "start_time": "2022-02-27T13:08:33.982Z"
   },
   {
    "duration": 14,
    "start_time": "2022-02-27T13:08:34.009Z"
   },
   {
    "duration": 43,
    "start_time": "2022-02-27T13:08:34.025Z"
   },
   {
    "duration": 11,
    "start_time": "2022-02-27T13:08:34.070Z"
   },
   {
    "duration": 188,
    "start_time": "2022-02-27T13:08:34.083Z"
   },
   {
    "duration": 17,
    "start_time": "2022-02-27T13:08:34.273Z"
   },
   {
    "duration": 13,
    "start_time": "2022-02-27T13:08:34.293Z"
   },
   {
    "duration": 180,
    "start_time": "2022-02-27T13:08:34.307Z"
   },
   {
    "duration": 18,
    "start_time": "2022-02-27T13:08:34.489Z"
   },
   {
    "duration": 10,
    "start_time": "2022-02-27T13:08:34.508Z"
   },
   {
    "duration": 184,
    "start_time": "2022-02-27T13:08:34.519Z"
   },
   {
    "duration": 18,
    "start_time": "2022-02-27T13:08:34.704Z"
   },
   {
    "duration": 18,
    "start_time": "2022-02-27T13:08:34.723Z"
   },
   {
    "duration": 169,
    "start_time": "2022-02-27T13:08:34.743Z"
   },
   {
    "duration": 1212,
    "start_time": "2022-02-27T13:31:05.190Z"
   },
   {
    "duration": 9,
    "start_time": "2022-02-27T13:31:06.404Z"
   },
   {
    "duration": 23,
    "start_time": "2022-02-27T13:31:06.415Z"
   },
   {
    "duration": 20,
    "start_time": "2022-02-27T13:31:06.440Z"
   },
   {
    "duration": 7,
    "start_time": "2022-02-27T13:31:06.462Z"
   },
   {
    "duration": 10,
    "start_time": "2022-02-27T13:31:06.470Z"
   },
   {
    "duration": 23,
    "start_time": "2022-02-27T13:31:06.481Z"
   },
   {
    "duration": 3,
    "start_time": "2022-02-27T13:31:06.506Z"
   },
   {
    "duration": 47,
    "start_time": "2022-02-27T13:31:06.512Z"
   },
   {
    "duration": 5,
    "start_time": "2022-02-27T13:31:06.561Z"
   },
   {
    "duration": 20217,
    "start_time": "2022-02-27T13:31:06.568Z"
   },
   {
    "duration": 652,
    "start_time": "2022-02-27T13:31:26.787Z"
   },
   {
    "duration": 6,
    "start_time": "2022-02-27T13:31:27.441Z"
   },
   {
    "duration": 17,
    "start_time": "2022-02-27T13:31:27.448Z"
   },
   {
    "duration": 17,
    "start_time": "2022-02-27T13:31:27.467Z"
   },
   {
    "duration": 5,
    "start_time": "2022-02-27T13:31:27.485Z"
   },
   {
    "duration": 9,
    "start_time": "2022-02-27T13:31:27.492Z"
   },
   {
    "duration": 3,
    "start_time": "2022-02-27T13:31:27.502Z"
   },
   {
    "duration": 19,
    "start_time": "2022-02-27T13:31:27.507Z"
   },
   {
    "duration": 41,
    "start_time": "2022-02-27T13:31:27.528Z"
   },
   {
    "duration": 20,
    "start_time": "2022-02-27T13:31:27.571Z"
   },
   {
    "duration": 1103,
    "start_time": "2022-02-27T13:32:38.912Z"
   },
   {
    "duration": 9,
    "start_time": "2022-02-27T13:32:40.017Z"
   },
   {
    "duration": 32,
    "start_time": "2022-02-27T13:32:40.028Z"
   },
   {
    "duration": 3,
    "start_time": "2022-02-27T13:32:40.062Z"
   },
   {
    "duration": 9,
    "start_time": "2022-02-27T13:32:40.067Z"
   },
   {
    "duration": 7,
    "start_time": "2022-02-27T13:32:40.077Z"
   },
   {
    "duration": 21,
    "start_time": "2022-02-27T13:32:40.085Z"
   },
   {
    "duration": 5,
    "start_time": "2022-02-27T13:32:40.108Z"
   },
   {
    "duration": 45,
    "start_time": "2022-02-27T13:32:40.115Z"
   },
   {
    "duration": 5,
    "start_time": "2022-02-27T13:32:40.162Z"
   },
   {
    "duration": 4,
    "start_time": "2022-02-27T13:32:40.168Z"
   },
   {
    "duration": 534,
    "start_time": "2022-02-27T13:32:40.173Z"
   },
   {
    "duration": 6,
    "start_time": "2022-02-27T13:32:40.709Z"
   },
   {
    "duration": 19,
    "start_time": "2022-02-27T13:32:40.717Z"
   },
   {
    "duration": 26,
    "start_time": "2022-02-27T13:32:40.738Z"
   },
   {
    "duration": 16,
    "start_time": "2022-02-27T13:32:40.766Z"
   },
   {
    "duration": 25,
    "start_time": "2022-02-27T13:32:40.783Z"
   },
   {
    "duration": 8,
    "start_time": "2022-02-27T13:32:40.809Z"
   },
   {
    "duration": 32,
    "start_time": "2022-02-27T13:32:40.818Z"
   },
   {
    "duration": 9,
    "start_time": "2022-02-27T13:32:40.852Z"
   },
   {
    "duration": 16,
    "start_time": "2022-02-27T13:32:40.862Z"
   },
   {
    "duration": 6630,
    "start_time": "2022-02-27T13:32:40.880Z"
   },
   {
    "duration": 13,
    "start_time": "2022-02-27T13:32:47.515Z"
   },
   {
    "duration": 27,
    "start_time": "2022-02-27T13:32:47.532Z"
   },
   {
    "duration": 4,
    "start_time": "2022-02-27T13:32:47.562Z"
   },
   {
    "duration": 9,
    "start_time": "2022-02-27T13:32:47.568Z"
   },
   {
    "duration": 8,
    "start_time": "2022-02-27T13:32:47.579Z"
   },
   {
    "duration": 573,
    "start_time": "2022-02-27T13:32:47.589Z"
   },
   {
    "duration": 7,
    "start_time": "2022-02-27T13:32:48.164Z"
   },
   {
    "duration": 7,
    "start_time": "2022-02-27T13:32:48.173Z"
   },
   {
    "duration": 7,
    "start_time": "2022-02-27T13:32:48.182Z"
   },
   {
    "duration": 1402,
    "start_time": "2022-02-27T13:32:48.191Z"
   },
   {
    "duration": 14,
    "start_time": "2022-02-27T13:32:49.595Z"
   },
   {
    "duration": 6,
    "start_time": "2022-02-27T13:32:49.611Z"
   },
   {
    "duration": 19,
    "start_time": "2022-02-27T13:32:49.618Z"
   },
   {
    "duration": 8,
    "start_time": "2022-02-27T13:32:49.659Z"
   },
   {
    "duration": 8,
    "start_time": "2022-02-27T13:32:49.669Z"
   },
   {
    "duration": 11,
    "start_time": "2022-02-27T13:32:49.678Z"
   },
   {
    "duration": 28,
    "start_time": "2022-02-27T13:32:49.691Z"
   },
   {
    "duration": 51,
    "start_time": "2022-02-27T13:32:49.721Z"
   },
   {
    "duration": 15,
    "start_time": "2022-02-27T13:32:49.774Z"
   },
   {
    "duration": 14,
    "start_time": "2022-02-27T13:32:49.791Z"
   },
   {
    "duration": 21,
    "start_time": "2022-02-27T13:32:49.806Z"
   },
   {
    "duration": 3,
    "start_time": "2022-02-27T13:32:49.829Z"
   },
   {
    "duration": 34,
    "start_time": "2022-02-27T13:32:49.833Z"
   },
   {
    "duration": 17,
    "start_time": "2022-02-27T13:32:49.868Z"
   },
   {
    "duration": 11,
    "start_time": "2022-02-27T13:32:49.887Z"
   },
   {
    "duration": 14,
    "start_time": "2022-02-27T13:32:49.900Z"
   },
   {
    "duration": 30,
    "start_time": "2022-02-27T13:32:49.916Z"
   },
   {
    "duration": 15,
    "start_time": "2022-02-27T13:32:49.947Z"
   },
   {
    "duration": 31,
    "start_time": "2022-02-27T13:32:49.964Z"
   },
   {
    "duration": 11,
    "start_time": "2022-02-27T13:32:49.997Z"
   },
   {
    "duration": 200,
    "start_time": "2022-02-27T13:32:50.010Z"
   },
   {
    "duration": 18,
    "start_time": "2022-02-27T13:32:50.213Z"
   },
   {
    "duration": 27,
    "start_time": "2022-02-27T13:32:50.233Z"
   },
   {
    "duration": 177,
    "start_time": "2022-02-27T13:32:50.262Z"
   },
   {
    "duration": 22,
    "start_time": "2022-02-27T13:32:50.441Z"
   },
   {
    "duration": 9,
    "start_time": "2022-02-27T13:32:50.465Z"
   },
   {
    "duration": 181,
    "start_time": "2022-02-27T13:32:50.475Z"
   },
   {
    "duration": 18,
    "start_time": "2022-02-27T13:32:50.658Z"
   },
   {
    "duration": 10,
    "start_time": "2022-02-27T13:32:50.678Z"
   },
   {
    "duration": 189,
    "start_time": "2022-02-27T13:32:50.689Z"
   },
   {
    "duration": 1126,
    "start_time": "2022-02-27T13:34:42.678Z"
   },
   {
    "duration": 10,
    "start_time": "2022-02-27T13:34:47.280Z"
   },
   {
    "duration": 20,
    "start_time": "2022-02-27T13:34:48.982Z"
   },
   {
    "duration": 6,
    "start_time": "2022-02-27T13:34:49.713Z"
   },
   {
    "duration": 6,
    "start_time": "2022-02-27T13:34:50.669Z"
   },
   {
    "duration": 7,
    "start_time": "2022-02-27T13:34:51.191Z"
   },
   {
    "duration": 21,
    "start_time": "2022-02-27T13:34:51.649Z"
   },
   {
    "duration": 4,
    "start_time": "2022-02-27T13:34:52.245Z"
   },
   {
    "duration": 4,
    "start_time": "2022-02-27T13:34:53.731Z"
   },
   {
    "duration": 3,
    "start_time": "2022-02-27T13:34:55.355Z"
   },
   {
    "duration": 3,
    "start_time": "2022-02-27T13:35:27.552Z"
   },
   {
    "duration": 558,
    "start_time": "2022-02-27T13:35:28.706Z"
   },
   {
    "duration": 1628,
    "start_time": "2022-02-28T08:31:53.847Z"
   },
   {
    "duration": 12,
    "start_time": "2022-02-28T08:31:55.478Z"
   },
   {
    "duration": 39,
    "start_time": "2022-02-28T08:31:55.494Z"
   },
   {
    "duration": 7,
    "start_time": "2022-02-28T08:31:55.536Z"
   },
   {
    "duration": 36,
    "start_time": "2022-02-28T08:31:55.545Z"
   },
   {
    "duration": 24,
    "start_time": "2022-02-28T08:31:55.583Z"
   },
   {
    "duration": 37,
    "start_time": "2022-02-28T08:31:55.609Z"
   },
   {
    "duration": 5,
    "start_time": "2022-02-28T08:31:55.650Z"
   },
   {
    "duration": 6,
    "start_time": "2022-02-28T08:31:55.674Z"
   },
   {
    "duration": 14,
    "start_time": "2022-02-28T08:31:55.683Z"
   },
   {
    "duration": 21,
    "start_time": "2022-02-28T08:31:55.699Z"
   },
   {
    "duration": 485,
    "start_time": "2022-02-28T08:31:55.723Z"
   },
   {
    "duration": 69,
    "start_time": "2022-02-28T08:31:56.144Z"
   },
   {
    "duration": 67,
    "start_time": "2022-02-28T08:31:56.147Z"
   },
   {
    "duration": 66,
    "start_time": "2022-02-28T08:31:56.150Z"
   },
   {
    "duration": 63,
    "start_time": "2022-02-28T08:31:56.154Z"
   },
   {
    "duration": 55,
    "start_time": "2022-02-28T08:31:56.164Z"
   },
   {
    "duration": 53,
    "start_time": "2022-02-28T08:31:56.167Z"
   },
   {
    "duration": 51,
    "start_time": "2022-02-28T08:31:56.171Z"
   },
   {
    "duration": 48,
    "start_time": "2022-02-28T08:31:56.175Z"
   },
   {
    "duration": 47,
    "start_time": "2022-02-28T08:31:56.178Z"
   },
   {
    "duration": 45,
    "start_time": "2022-02-28T08:31:56.181Z"
   },
   {
    "duration": 43,
    "start_time": "2022-02-28T08:31:56.184Z"
   },
   {
    "duration": 42,
    "start_time": "2022-02-28T08:31:56.187Z"
   },
   {
    "duration": 41,
    "start_time": "2022-02-28T08:31:56.189Z"
   },
   {
    "duration": 40,
    "start_time": "2022-02-28T08:31:56.192Z"
   },
   {
    "duration": 37,
    "start_time": "2022-02-28T08:31:56.196Z"
   },
   {
    "duration": 35,
    "start_time": "2022-02-28T08:31:56.200Z"
   },
   {
    "duration": 25,
    "start_time": "2022-02-28T08:31:56.211Z"
   },
   {
    "duration": 23,
    "start_time": "2022-02-28T08:31:56.215Z"
   },
   {
    "duration": 21,
    "start_time": "2022-02-28T08:31:56.218Z"
   },
   {
    "duration": 20,
    "start_time": "2022-02-28T08:31:56.221Z"
   },
   {
    "duration": 19,
    "start_time": "2022-02-28T08:31:56.224Z"
   },
   {
    "duration": 17,
    "start_time": "2022-02-28T08:31:56.227Z"
   },
   {
    "duration": 16,
    "start_time": "2022-02-28T08:31:56.230Z"
   },
   {
    "duration": 13,
    "start_time": "2022-02-28T08:31:56.234Z"
   },
   {
    "duration": 12,
    "start_time": "2022-02-28T08:31:56.237Z"
   },
   {
    "duration": 10,
    "start_time": "2022-02-28T08:31:56.240Z"
   },
   {
    "duration": 33,
    "start_time": "2022-02-28T08:31:56.243Z"
   },
   {
    "duration": 31,
    "start_time": "2022-02-28T08:31:56.247Z"
   },
   {
    "duration": 30,
    "start_time": "2022-02-28T08:31:56.249Z"
   },
   {
    "duration": 29,
    "start_time": "2022-02-28T08:31:56.252Z"
   },
   {
    "duration": 26,
    "start_time": "2022-02-28T08:31:56.256Z"
   },
   {
    "duration": 25,
    "start_time": "2022-02-28T08:31:56.259Z"
   },
   {
    "duration": 16,
    "start_time": "2022-02-28T08:31:56.270Z"
   },
   {
    "duration": 14,
    "start_time": "2022-02-28T08:31:56.273Z"
   },
   {
    "duration": 12,
    "start_time": "2022-02-28T08:31:56.276Z"
   },
   {
    "duration": 11,
    "start_time": "2022-02-28T08:31:56.279Z"
   },
   {
    "duration": -87,
    "start_time": "2022-02-28T08:31:56.379Z"
   },
   {
    "duration": -207,
    "start_time": "2022-02-28T08:31:56.500Z"
   },
   {
    "duration": -284,
    "start_time": "2022-02-28T08:31:56.579Z"
   },
   {
    "duration": -286,
    "start_time": "2022-02-28T08:31:56.582Z"
   },
   {
    "duration": -289,
    "start_time": "2022-02-28T08:31:56.587Z"
   },
   {
    "duration": -293,
    "start_time": "2022-02-28T08:31:56.592Z"
   },
   {
    "duration": -294,
    "start_time": "2022-02-28T08:31:56.595Z"
   },
   {
    "duration": -296,
    "start_time": "2022-02-28T08:31:56.598Z"
   },
   {
    "duration": -297,
    "start_time": "2022-02-28T08:31:56.601Z"
   },
   {
    "duration": -299,
    "start_time": "2022-02-28T08:31:56.604Z"
   },
   {
    "duration": -301,
    "start_time": "2022-02-28T08:31:56.608Z"
   },
   {
    "duration": -302,
    "start_time": "2022-02-28T08:31:56.611Z"
   },
   {
    "duration": -303,
    "start_time": "2022-02-28T08:31:56.613Z"
   },
   {
    "duration": -241,
    "start_time": "2022-02-28T08:31:56.616Z"
   },
   {
    "duration": 1589,
    "start_time": "2022-02-28T08:32:47.284Z"
   },
   {
    "duration": 12,
    "start_time": "2022-02-28T08:32:48.876Z"
   },
   {
    "duration": 35,
    "start_time": "2022-02-28T08:32:48.892Z"
   },
   {
    "duration": 7,
    "start_time": "2022-02-28T08:32:48.930Z"
   },
   {
    "duration": 11,
    "start_time": "2022-02-28T08:32:48.974Z"
   },
   {
    "duration": 14,
    "start_time": "2022-02-28T08:32:48.987Z"
   },
   {
    "duration": 35,
    "start_time": "2022-02-28T08:32:49.003Z"
   },
   {
    "duration": 33,
    "start_time": "2022-02-28T08:32:49.042Z"
   },
   {
    "duration": 11,
    "start_time": "2022-02-28T08:32:49.078Z"
   },
   {
    "duration": 11,
    "start_time": "2022-02-28T08:32:49.091Z"
   },
   {
    "duration": 4908,
    "start_time": "2022-02-28T08:32:49.104Z"
   },
   {
    "duration": 421,
    "start_time": "2022-02-28T08:32:54.015Z"
   },
   {
    "duration": -66,
    "start_time": "2022-02-28T08:32:54.507Z"
   },
   {
    "duration": -68,
    "start_time": "2022-02-28T08:32:54.510Z"
   },
   {
    "duration": -69,
    "start_time": "2022-02-28T08:32:54.513Z"
   },
   {
    "duration": -78,
    "start_time": "2022-02-28T08:32:54.523Z"
   },
   {
    "duration": -80,
    "start_time": "2022-02-28T08:32:54.527Z"
   },
   {
    "duration": -82,
    "start_time": "2022-02-28T08:32:54.530Z"
   },
   {
    "duration": -84,
    "start_time": "2022-02-28T08:32:54.534Z"
   },
   {
    "duration": -84,
    "start_time": "2022-02-28T08:32:54.536Z"
   },
   {
    "duration": -85,
    "start_time": "2022-02-28T08:32:54.539Z"
   },
   {
    "duration": -88,
    "start_time": "2022-02-28T08:32:54.543Z"
   },
   {
    "duration": -88,
    "start_time": "2022-02-28T08:32:54.545Z"
   },
   {
    "duration": -90,
    "start_time": "2022-02-28T08:32:54.548Z"
   },
   {
    "duration": -91,
    "start_time": "2022-02-28T08:32:54.551Z"
   },
   {
    "duration": -92,
    "start_time": "2022-02-28T08:32:54.554Z"
   },
   {
    "duration": -93,
    "start_time": "2022-02-28T08:32:54.557Z"
   },
   {
    "duration": -96,
    "start_time": "2022-02-28T08:32:54.561Z"
   },
   {
    "duration": -97,
    "start_time": "2022-02-28T08:32:54.564Z"
   },
   {
    "duration": -100,
    "start_time": "2022-02-28T08:32:54.568Z"
   },
   {
    "duration": -101,
    "start_time": "2022-02-28T08:32:54.571Z"
   },
   {
    "duration": -102,
    "start_time": "2022-02-28T08:32:54.574Z"
   },
   {
    "duration": -105,
    "start_time": "2022-02-28T08:32:54.578Z"
   },
   {
    "duration": -107,
    "start_time": "2022-02-28T08:32:54.582Z"
   },
   {
    "duration": -110,
    "start_time": "2022-02-28T08:32:54.586Z"
   },
   {
    "duration": -111,
    "start_time": "2022-02-28T08:32:54.589Z"
   },
   {
    "duration": -114,
    "start_time": "2022-02-28T08:32:54.593Z"
   },
   {
    "duration": -116,
    "start_time": "2022-02-28T08:32:54.597Z"
   },
   {
    "duration": -118,
    "start_time": "2022-02-28T08:32:54.600Z"
   },
   {
    "duration": -121,
    "start_time": "2022-02-28T08:32:54.604Z"
   },
   {
    "duration": -122,
    "start_time": "2022-02-28T08:32:54.607Z"
   },
   {
    "duration": -126,
    "start_time": "2022-02-28T08:32:54.612Z"
   },
   {
    "duration": -128,
    "start_time": "2022-02-28T08:32:54.615Z"
   },
   {
    "duration": -130,
    "start_time": "2022-02-28T08:32:54.619Z"
   },
   {
    "duration": -132,
    "start_time": "2022-02-28T08:32:54.622Z"
   },
   {
    "duration": -145,
    "start_time": "2022-02-28T08:32:54.637Z"
   },
   {
    "duration": -147,
    "start_time": "2022-02-28T08:32:54.640Z"
   },
   {
    "duration": -150,
    "start_time": "2022-02-28T08:32:54.644Z"
   },
   {
    "duration": -151,
    "start_time": "2022-02-28T08:32:54.647Z"
   },
   {
    "duration": -154,
    "start_time": "2022-02-28T08:32:54.651Z"
   },
   {
    "duration": -155,
    "start_time": "2022-02-28T08:32:54.653Z"
   },
   {
    "duration": -157,
    "start_time": "2022-02-28T08:32:54.657Z"
   },
   {
    "duration": -160,
    "start_time": "2022-02-28T08:32:54.661Z"
   },
   {
    "duration": -163,
    "start_time": "2022-02-28T08:32:54.665Z"
   },
   {
    "duration": -165,
    "start_time": "2022-02-28T08:32:54.669Z"
   },
   {
    "duration": -168,
    "start_time": "2022-02-28T08:32:54.673Z"
   },
   {
    "duration": -170,
    "start_time": "2022-02-28T08:32:54.676Z"
   },
   {
    "duration": -171,
    "start_time": "2022-02-28T08:32:54.679Z"
   },
   {
    "duration": -173,
    "start_time": "2022-02-28T08:32:54.682Z"
   },
   {
    "duration": -174,
    "start_time": "2022-02-28T08:32:54.685Z"
   },
   {
    "duration": -176,
    "start_time": "2022-02-28T08:32:54.688Z"
   },
   {
    "duration": -178,
    "start_time": "2022-02-28T08:32:54.691Z"
   },
   {
    "duration": 267,
    "start_time": "2022-02-28T08:33:12.803Z"
   },
   {
    "duration": 3442,
    "start_time": "2022-02-28T08:33:28.051Z"
   },
   {
    "duration": 1522,
    "start_time": "2022-02-28T08:33:33.510Z"
   },
   {
    "duration": 11,
    "start_time": "2022-02-28T08:33:35.035Z"
   },
   {
    "duration": 69,
    "start_time": "2022-02-28T08:33:35.049Z"
   },
   {
    "duration": 7,
    "start_time": "2022-02-28T08:33:35.123Z"
   },
   {
    "duration": 31,
    "start_time": "2022-02-28T08:33:35.134Z"
   },
   {
    "duration": 30,
    "start_time": "2022-02-28T08:33:35.167Z"
   },
   {
    "duration": 34,
    "start_time": "2022-02-28T08:33:35.200Z"
   },
   {
    "duration": 4,
    "start_time": "2022-02-28T08:33:35.237Z"
   },
   {
    "duration": 19,
    "start_time": "2022-02-28T08:33:35.247Z"
   },
   {
    "duration": 13,
    "start_time": "2022-02-28T08:33:35.269Z"
   },
   {
    "duration": 3434,
    "start_time": "2022-02-28T08:33:35.285Z"
   },
   {
    "duration": 854,
    "start_time": "2022-02-28T08:33:38.723Z"
   },
   {
    "duration": 10,
    "start_time": "2022-02-28T08:33:39.579Z"
   },
   {
    "duration": 13,
    "start_time": "2022-02-28T08:33:39.592Z"
   },
   {
    "duration": 65,
    "start_time": "2022-02-28T08:33:39.608Z"
   },
   {
    "duration": 10,
    "start_time": "2022-02-28T08:33:39.676Z"
   },
   {
    "duration": 18,
    "start_time": "2022-02-28T08:33:39.688Z"
   },
   {
    "duration": 5,
    "start_time": "2022-02-28T08:33:39.708Z"
   },
   {
    "duration": 33,
    "start_time": "2022-02-28T08:33:39.715Z"
   },
   {
    "duration": 15,
    "start_time": "2022-02-28T08:33:39.775Z"
   },
   {
    "duration": 27,
    "start_time": "2022-02-28T08:33:39.792Z"
   },
   {
    "duration": 11480,
    "start_time": "2022-02-28T08:33:39.822Z"
   },
   {
    "duration": 21,
    "start_time": "2022-02-28T08:33:51.305Z"
   },
   {
    "duration": 9,
    "start_time": "2022-02-28T08:33:51.329Z"
   },
   {
    "duration": 32,
    "start_time": "2022-02-28T08:33:51.341Z"
   },
   {
    "duration": 11,
    "start_time": "2022-02-28T08:33:51.376Z"
   },
   {
    "duration": 9,
    "start_time": "2022-02-28T08:33:51.393Z"
   },
   {
    "duration": 783,
    "start_time": "2022-02-28T08:33:51.405Z"
   },
   {
    "duration": 9,
    "start_time": "2022-02-28T08:33:52.190Z"
   },
   {
    "duration": 9,
    "start_time": "2022-02-28T08:33:52.201Z"
   },
   {
    "duration": 8,
    "start_time": "2022-02-28T08:33:52.212Z"
   },
   {
    "duration": 2059,
    "start_time": "2022-02-28T08:33:52.223Z"
   },
   {
    "duration": 22,
    "start_time": "2022-02-28T08:33:54.285Z"
   },
   {
    "duration": 10,
    "start_time": "2022-02-28T08:33:54.309Z"
   },
   {
    "duration": 56,
    "start_time": "2022-02-28T08:33:54.322Z"
   },
   {
    "duration": 9,
    "start_time": "2022-02-28T08:33:54.380Z"
   },
   {
    "duration": 14,
    "start_time": "2022-02-28T08:33:54.392Z"
   },
   {
    "duration": 13,
    "start_time": "2022-02-28T08:33:54.408Z"
   },
   {
    "duration": 61,
    "start_time": "2022-02-28T08:33:54.424Z"
   },
   {
    "duration": 32,
    "start_time": "2022-02-28T08:33:54.487Z"
   },
   {
    "duration": 26,
    "start_time": "2022-02-28T08:33:54.521Z"
   },
   {
    "duration": 18,
    "start_time": "2022-02-28T08:33:54.573Z"
   },
   {
    "duration": 30,
    "start_time": "2022-02-28T08:33:54.594Z"
   },
   {
    "duration": 4,
    "start_time": "2022-02-28T08:33:54.627Z"
   },
   {
    "duration": 47,
    "start_time": "2022-02-28T08:33:54.634Z"
   },
   {
    "duration": 27,
    "start_time": "2022-02-28T08:33:54.683Z"
   },
   {
    "duration": 12,
    "start_time": "2022-02-28T08:33:54.712Z"
   },
   {
    "duration": 6,
    "start_time": "2022-02-28T08:33:54.726Z"
   },
   {
    "duration": 46,
    "start_time": "2022-02-28T08:33:54.735Z"
   },
   {
    "duration": 10,
    "start_time": "2022-02-28T08:33:54.784Z"
   },
   {
    "duration": 39,
    "start_time": "2022-02-28T08:33:54.796Z"
   },
   {
    "duration": 37,
    "start_time": "2022-02-28T08:33:54.838Z"
   },
   {
    "duration": 296,
    "start_time": "2022-02-28T08:33:54.877Z"
   },
   {
    "duration": 27,
    "start_time": "2022-02-28T08:33:55.175Z"
   },
   {
    "duration": 14,
    "start_time": "2022-02-28T08:33:55.205Z"
   },
   {
    "duration": 286,
    "start_time": "2022-02-28T08:33:55.222Z"
   },
   {
    "duration": 28,
    "start_time": "2022-02-28T08:33:55.511Z"
   },
   {
    "duration": 35,
    "start_time": "2022-02-28T08:33:55.541Z"
   },
   {
    "duration": 272,
    "start_time": "2022-02-28T08:33:55.578Z"
   },
   {
    "duration": 37,
    "start_time": "2022-02-28T08:33:55.852Z"
   },
   {
    "duration": 13,
    "start_time": "2022-02-28T08:33:55.891Z"
   },
   {
    "duration": 278,
    "start_time": "2022-02-28T08:33:55.906Z"
   },
   {
    "duration": 324,
    "start_time": "2022-02-28T08:35:14.631Z"
   },
   {
    "duration": 60,
    "start_time": "2022-02-28T08:35:14.901Z"
   },
   {
    "duration": 58,
    "start_time": "2022-02-28T08:35:14.904Z"
   },
   {
    "duration": 57,
    "start_time": "2022-02-28T08:35:14.907Z"
   },
   {
    "duration": 55,
    "start_time": "2022-02-28T08:35:14.910Z"
   },
   {
    "duration": 48,
    "start_time": "2022-02-28T08:35:14.918Z"
   },
   {
    "duration": 46,
    "start_time": "2022-02-28T08:35:14.922Z"
   },
   {
    "duration": 45,
    "start_time": "2022-02-28T08:35:14.925Z"
   },
   {
    "duration": 43,
    "start_time": "2022-02-28T08:35:14.928Z"
   },
   {
    "duration": 41,
    "start_time": "2022-02-28T08:35:14.931Z"
   },
   {
    "duration": 40,
    "start_time": "2022-02-28T08:35:14.934Z"
   },
   {
    "duration": 39,
    "start_time": "2022-02-28T08:35:14.936Z"
   },
   {
    "duration": 37,
    "start_time": "2022-02-28T08:35:14.940Z"
   },
   {
    "duration": 36,
    "start_time": "2022-02-28T08:35:14.942Z"
   },
   {
    "duration": 35,
    "start_time": "2022-02-28T08:35:14.945Z"
   },
   {
    "duration": 33,
    "start_time": "2022-02-28T08:35:14.948Z"
   },
   {
    "duration": 32,
    "start_time": "2022-02-28T08:35:14.951Z"
   },
   {
    "duration": 31,
    "start_time": "2022-02-28T08:35:14.953Z"
   },
   {
    "duration": 29,
    "start_time": "2022-02-28T08:35:14.957Z"
   },
   {
    "duration": 27,
    "start_time": "2022-02-28T08:35:14.960Z"
   },
   {
    "duration": 25,
    "start_time": "2022-02-28T08:35:14.963Z"
   },
   {
    "duration": 23,
    "start_time": "2022-02-28T08:35:14.967Z"
   },
   {
    "duration": 21,
    "start_time": "2022-02-28T08:35:14.970Z"
   },
   {
    "duration": 12,
    "start_time": "2022-02-28T08:35:14.983Z"
   },
   {
    "duration": 10,
    "start_time": "2022-02-28T08:35:14.986Z"
   },
   {
    "duration": 9,
    "start_time": "2022-02-28T08:35:14.989Z"
   },
   {
    "duration": 1,
    "start_time": "2022-02-28T08:35:14.998Z"
   },
   {
    "duration": -1,
    "start_time": "2022-02-28T08:35:15.001Z"
   },
   {
    "duration": -2,
    "start_time": "2022-02-28T08:35:15.004Z"
   },
   {
    "duration": -4,
    "start_time": "2022-02-28T08:35:15.007Z"
   },
   {
    "duration": -31,
    "start_time": "2022-02-28T08:35:15.035Z"
   },
   {
    "duration": -32,
    "start_time": "2022-02-28T08:35:15.038Z"
   },
   {
    "duration": -34,
    "start_time": "2022-02-28T08:35:15.042Z"
   },
   {
    "duration": -36,
    "start_time": "2022-02-28T08:35:15.045Z"
   },
   {
    "duration": -53,
    "start_time": "2022-02-28T08:35:15.063Z"
   },
   {
    "duration": -53,
    "start_time": "2022-02-28T08:35:15.065Z"
   },
   {
    "duration": -68,
    "start_time": "2022-02-28T08:35:15.081Z"
   },
   {
    "duration": -11,
    "start_time": "2022-02-28T08:35:15.084Z"
   },
   {
    "duration": -113,
    "start_time": "2022-02-28T08:35:15.187Z"
   },
   {
    "duration": -114,
    "start_time": "2022-02-28T08:35:15.190Z"
   },
   {
    "duration": -116,
    "start_time": "2022-02-28T08:35:15.194Z"
   },
   {
    "duration": -118,
    "start_time": "2022-02-28T08:35:15.197Z"
   },
   {
    "duration": -120,
    "start_time": "2022-02-28T08:35:15.201Z"
   },
   {
    "duration": -122,
    "start_time": "2022-02-28T08:35:15.204Z"
   },
   {
    "duration": -210,
    "start_time": "2022-02-28T08:35:15.294Z"
   },
   {
    "duration": -250,
    "start_time": "2022-02-28T08:35:15.335Z"
   },
   {
    "duration": -252,
    "start_time": "2022-02-28T08:35:15.339Z"
   },
   {
    "duration": -313,
    "start_time": "2022-02-28T08:35:15.401Z"
   },
   {
    "duration": -346,
    "start_time": "2022-02-28T08:35:15.436Z"
   },
   {
    "duration": -361,
    "start_time": "2022-02-28T08:35:15.452Z"
   },
   {
    "duration": -362,
    "start_time": "2022-02-28T08:35:15.455Z"
   },
   {
    "duration": -364,
    "start_time": "2022-02-28T08:35:15.458Z"
   },
   {
    "duration": -365,
    "start_time": "2022-02-28T08:35:15.461Z"
   },
   {
    "duration": -376,
    "start_time": "2022-02-28T08:35:15.473Z"
   },
   {
    "duration": -377,
    "start_time": "2022-02-28T08:35:15.476Z"
   },
   {
    "duration": -379,
    "start_time": "2022-02-28T08:35:15.479Z"
   },
   {
    "duration": -380,
    "start_time": "2022-02-28T08:35:15.482Z"
   },
   {
    "duration": -382,
    "start_time": "2022-02-28T08:35:15.485Z"
   },
   {
    "duration": -384,
    "start_time": "2022-02-28T08:35:15.488Z"
   },
   {
    "duration": -386,
    "start_time": "2022-02-28T08:35:15.492Z"
   },
   {
    "duration": -388,
    "start_time": "2022-02-28T08:35:15.496Z"
   },
   {
    "duration": -389,
    "start_time": "2022-02-28T08:35:15.498Z"
   },
   {
    "duration": 1625,
    "start_time": "2022-02-28T08:35:53.904Z"
   },
   {
    "duration": 5,
    "start_time": "2022-02-28T08:35:55.532Z"
   },
   {
    "duration": 6,
    "start_time": "2022-02-28T08:35:55.543Z"
   },
   {
    "duration": 3394,
    "start_time": "2022-02-28T08:35:55.552Z"
   },
   {
    "duration": 15,
    "start_time": "2022-02-28T08:35:58.949Z"
   },
   {
    "duration": 38,
    "start_time": "2022-02-28T08:35:58.967Z"
   },
   {
    "duration": 7,
    "start_time": "2022-02-28T08:35:59.011Z"
   },
   {
    "duration": 13,
    "start_time": "2022-02-28T08:35:59.022Z"
   },
   {
    "duration": 47,
    "start_time": "2022-02-28T08:35:59.038Z"
   },
   {
    "duration": 33,
    "start_time": "2022-02-28T08:35:59.088Z"
   },
   {
    "duration": 6,
    "start_time": "2022-02-28T08:35:59.124Z"
   },
   {
    "duration": 943,
    "start_time": "2022-02-28T08:35:59.133Z"
   },
   {
    "duration": 10,
    "start_time": "2022-02-28T08:36:00.078Z"
   },
   {
    "duration": 16,
    "start_time": "2022-02-28T08:36:00.091Z"
   },
   {
    "duration": 27,
    "start_time": "2022-02-28T08:36:00.109Z"
   },
   {
    "duration": 39,
    "start_time": "2022-02-28T08:36:00.138Z"
   },
   {
    "duration": 14,
    "start_time": "2022-02-28T08:36:00.179Z"
   },
   {
    "duration": 4,
    "start_time": "2022-02-28T08:36:00.196Z"
   },
   {
    "duration": 35,
    "start_time": "2022-02-28T08:36:00.203Z"
   },
   {
    "duration": 16,
    "start_time": "2022-02-28T08:36:00.273Z"
   },
   {
    "duration": 30,
    "start_time": "2022-02-28T08:36:00.291Z"
   },
   {
    "duration": 10542,
    "start_time": "2022-02-28T08:36:00.324Z"
   },
   {
    "duration": 19,
    "start_time": "2022-02-28T08:36:10.868Z"
   },
   {
    "duration": 7,
    "start_time": "2022-02-28T08:36:10.890Z"
   },
   {
    "duration": 27,
    "start_time": "2022-02-28T08:36:10.902Z"
   },
   {
    "duration": 16,
    "start_time": "2022-02-28T08:36:10.932Z"
   },
   {
    "duration": 22,
    "start_time": "2022-02-28T08:36:10.951Z"
   },
   {
    "duration": 744,
    "start_time": "2022-02-28T08:36:10.975Z"
   },
   {
    "duration": 8,
    "start_time": "2022-02-28T08:36:11.721Z"
   },
   {
    "duration": 8,
    "start_time": "2022-02-28T08:36:11.731Z"
   },
   {
    "duration": 38,
    "start_time": "2022-02-28T08:36:11.741Z"
   },
   {
    "duration": 2077,
    "start_time": "2022-02-28T08:36:11.781Z"
   },
   {
    "duration": 29,
    "start_time": "2022-02-28T08:36:13.861Z"
   },
   {
    "duration": 19,
    "start_time": "2022-02-28T08:36:13.893Z"
   },
   {
    "duration": 39,
    "start_time": "2022-02-28T08:36:13.914Z"
   },
   {
    "duration": 23,
    "start_time": "2022-02-28T08:36:13.956Z"
   },
   {
    "duration": 21,
    "start_time": "2022-02-28T08:36:13.982Z"
   },
   {
    "duration": 26,
    "start_time": "2022-02-28T08:36:14.006Z"
   },
   {
    "duration": 44,
    "start_time": "2022-02-28T08:36:14.035Z"
   },
   {
    "duration": 32,
    "start_time": "2022-02-28T08:36:14.082Z"
   },
   {
    "duration": 24,
    "start_time": "2022-02-28T08:36:14.117Z"
   },
   {
    "duration": 42,
    "start_time": "2022-02-28T08:36:14.143Z"
   },
   {
    "duration": 44,
    "start_time": "2022-02-28T08:36:14.188Z"
   },
   {
    "duration": 6,
    "start_time": "2022-02-28T08:36:14.235Z"
   },
   {
    "duration": 38,
    "start_time": "2022-02-28T08:36:14.244Z"
   },
   {
    "duration": 36,
    "start_time": "2022-02-28T08:36:14.284Z"
   },
   {
    "duration": 21,
    "start_time": "2022-02-28T08:36:14.323Z"
   },
   {
    "duration": 19,
    "start_time": "2022-02-28T08:36:14.347Z"
   },
   {
    "duration": 41,
    "start_time": "2022-02-28T08:36:14.369Z"
   },
   {
    "duration": 31,
    "start_time": "2022-02-28T08:36:14.413Z"
   },
   {
    "duration": 39,
    "start_time": "2022-02-28T08:36:14.448Z"
   },
   {
    "duration": 16,
    "start_time": "2022-02-28T08:36:14.490Z"
   },
   {
    "duration": 286,
    "start_time": "2022-02-28T08:36:14.509Z"
   },
   {
    "duration": 28,
    "start_time": "2022-02-28T08:36:14.798Z"
   },
   {
    "duration": 44,
    "start_time": "2022-02-28T08:36:14.829Z"
   },
   {
    "duration": 276,
    "start_time": "2022-02-28T08:36:14.876Z"
   },
   {
    "duration": 36,
    "start_time": "2022-02-28T08:36:15.155Z"
   },
   {
    "duration": 14,
    "start_time": "2022-02-28T08:36:15.194Z"
   },
   {
    "duration": 275,
    "start_time": "2022-02-28T08:36:15.211Z"
   },
   {
    "duration": 28,
    "start_time": "2022-02-28T08:36:15.488Z"
   },
   {
    "duration": 22,
    "start_time": "2022-02-28T08:36:15.518Z"
   },
   {
    "duration": 285,
    "start_time": "2022-02-28T08:36:15.542Z"
   },
   {
    "duration": 1627,
    "start_time": "2022-02-28T08:39:11.755Z"
   },
   {
    "duration": 5,
    "start_time": "2022-02-28T08:39:13.385Z"
   },
   {
    "duration": 5,
    "start_time": "2022-02-28T08:39:13.393Z"
   },
   {
    "duration": 3735,
    "start_time": "2022-02-28T08:39:13.400Z"
   },
   {
    "duration": 13,
    "start_time": "2022-02-28T08:39:17.138Z"
   },
   {
    "duration": 35,
    "start_time": "2022-02-28T08:39:17.153Z"
   },
   {
    "duration": 5,
    "start_time": "2022-02-28T08:39:17.191Z"
   },
   {
    "duration": 14,
    "start_time": "2022-02-28T08:39:17.199Z"
   },
   {
    "duration": 10,
    "start_time": "2022-02-28T08:39:17.216Z"
   },
   {
    "duration": 61,
    "start_time": "2022-02-28T08:39:17.228Z"
   },
   {
    "duration": 4,
    "start_time": "2022-02-28T08:39:17.292Z"
   },
   {
    "duration": 849,
    "start_time": "2022-02-28T08:39:17.299Z"
   },
   {
    "duration": 9,
    "start_time": "2022-02-28T08:39:18.150Z"
   },
   {
    "duration": 20,
    "start_time": "2022-02-28T08:39:18.162Z"
   },
   {
    "duration": 26,
    "start_time": "2022-02-28T08:39:18.184Z"
   },
   {
    "duration": 9,
    "start_time": "2022-02-28T08:39:18.213Z"
   },
   {
    "duration": 49,
    "start_time": "2022-02-28T08:39:18.224Z"
   },
   {
    "duration": 4,
    "start_time": "2022-02-28T08:39:18.276Z"
   },
   {
    "duration": 40,
    "start_time": "2022-02-28T08:39:18.283Z"
   },
   {
    "duration": 18,
    "start_time": "2022-02-28T08:39:18.325Z"
   },
   {
    "duration": 47,
    "start_time": "2022-02-28T08:39:18.346Z"
   },
   {
    "duration": 10349,
    "start_time": "2022-02-28T08:39:18.395Z"
   },
   {
    "duration": 29,
    "start_time": "2022-02-28T08:39:28.750Z"
   },
   {
    "duration": 8,
    "start_time": "2022-02-28T08:39:28.783Z"
   },
   {
    "duration": 4,
    "start_time": "2022-02-28T08:39:28.794Z"
   },
   {
    "duration": 10,
    "start_time": "2022-02-28T08:39:28.801Z"
   },
   {
    "duration": 9,
    "start_time": "2022-02-28T08:39:28.813Z"
   },
   {
    "duration": 775,
    "start_time": "2022-02-28T08:39:28.824Z"
   },
   {
    "duration": 8,
    "start_time": "2022-02-28T08:39:29.602Z"
   },
   {
    "duration": 11,
    "start_time": "2022-02-28T08:39:29.612Z"
   },
   {
    "duration": 8,
    "start_time": "2022-02-28T08:39:29.626Z"
   },
   {
    "duration": 2047,
    "start_time": "2022-02-28T08:39:29.637Z"
   },
   {
    "duration": 21,
    "start_time": "2022-02-28T08:39:31.687Z"
   },
   {
    "duration": 16,
    "start_time": "2022-02-28T08:39:31.711Z"
   },
   {
    "duration": 55,
    "start_time": "2022-02-28T08:39:31.729Z"
   },
   {
    "duration": 9,
    "start_time": "2022-02-28T08:39:31.786Z"
   },
   {
    "duration": 20,
    "start_time": "2022-02-28T08:39:31.797Z"
   },
   {
    "duration": 17,
    "start_time": "2022-02-28T08:39:31.819Z"
   },
   {
    "duration": 51,
    "start_time": "2022-02-28T08:39:31.839Z"
   },
   {
    "duration": 34,
    "start_time": "2022-02-28T08:39:31.892Z"
   },
   {
    "duration": 47,
    "start_time": "2022-02-28T08:39:31.928Z"
   },
   {
    "duration": 16,
    "start_time": "2022-02-28T08:39:31.977Z"
   },
   {
    "duration": 66,
    "start_time": "2022-02-28T08:39:31.995Z"
   },
   {
    "duration": 5,
    "start_time": "2022-02-28T08:39:32.064Z"
   },
   {
    "duration": 24,
    "start_time": "2022-02-28T08:39:32.071Z"
   },
   {
    "duration": 26,
    "start_time": "2022-02-28T08:39:32.097Z"
   },
   {
    "duration": 11,
    "start_time": "2022-02-28T08:39:32.126Z"
   },
   {
    "duration": 5,
    "start_time": "2022-02-28T08:39:32.140Z"
   },
   {
    "duration": 36,
    "start_time": "2022-02-28T08:39:32.147Z"
   },
   {
    "duration": 12,
    "start_time": "2022-02-28T08:39:32.186Z"
   },
   {
    "duration": 40,
    "start_time": "2022-02-28T08:39:32.200Z"
   },
   {
    "duration": 36,
    "start_time": "2022-02-28T08:39:32.242Z"
   },
   {
    "duration": 281,
    "start_time": "2022-02-28T08:39:32.281Z"
   },
   {
    "duration": 31,
    "start_time": "2022-02-28T08:39:32.564Z"
   },
   {
    "duration": 15,
    "start_time": "2022-02-28T08:39:32.597Z"
   },
   {
    "duration": 286,
    "start_time": "2022-02-28T08:39:32.615Z"
   },
   {
    "duration": 28,
    "start_time": "2022-02-28T08:39:32.903Z"
   },
   {
    "duration": 14,
    "start_time": "2022-02-28T08:39:32.934Z"
   },
   {
    "duration": 260,
    "start_time": "2022-02-28T08:39:32.974Z"
   },
   {
    "duration": 48,
    "start_time": "2022-02-28T08:39:33.237Z"
   },
   {
    "duration": 15,
    "start_time": "2022-02-28T08:39:33.287Z"
   },
   {
    "duration": 288,
    "start_time": "2022-02-28T08:39:33.305Z"
   },
   {
    "duration": 1255,
    "start_time": "2022-03-01T07:52:30.117Z"
   },
   {
    "duration": 5,
    "start_time": "2022-03-01T07:52:31.375Z"
   },
   {
    "duration": 12,
    "start_time": "2022-03-01T07:52:31.383Z"
   },
   {
    "duration": 54789,
    "start_time": "2022-03-01T07:52:31.397Z"
   },
   {
    "duration": 10,
    "start_time": "2022-03-01T07:53:26.189Z"
   },
   {
    "duration": 23,
    "start_time": "2022-03-01T07:53:26.201Z"
   },
   {
    "duration": 5,
    "start_time": "2022-03-01T07:53:26.225Z"
   },
   {
    "duration": 7,
    "start_time": "2022-03-01T07:53:26.232Z"
   },
   {
    "duration": 8,
    "start_time": "2022-03-01T07:53:26.242Z"
   },
   {
    "duration": 22,
    "start_time": "2022-03-01T07:53:26.252Z"
   },
   {
    "duration": 4,
    "start_time": "2022-03-01T07:53:26.275Z"
   },
   {
    "duration": 263,
    "start_time": "2022-03-01T07:53:26.281Z"
   },
   {
    "duration": -436,
    "start_time": "2022-03-01T07:53:26.983Z"
   },
   {
    "duration": -438,
    "start_time": "2022-03-01T07:53:26.986Z"
   },
   {
    "duration": -438,
    "start_time": "2022-03-01T07:53:26.987Z"
   },
   {
    "duration": -448,
    "start_time": "2022-03-01T07:53:26.999Z"
   },
   {
    "duration": -449,
    "start_time": "2022-03-01T07:53:27.001Z"
   },
   {
    "duration": -450,
    "start_time": "2022-03-01T07:53:27.003Z"
   },
   {
    "duration": -451,
    "start_time": "2022-03-01T07:53:27.005Z"
   },
   {
    "duration": -542,
    "start_time": "2022-03-01T07:53:27.097Z"
   },
   {
    "duration": -643,
    "start_time": "2022-03-01T07:53:27.199Z"
   },
   {
    "duration": -645,
    "start_time": "2022-03-01T07:53:27.202Z"
   },
   {
    "duration": -645,
    "start_time": "2022-03-01T07:53:27.204Z"
   },
   {
    "duration": -646,
    "start_time": "2022-03-01T07:53:27.206Z"
   },
   {
    "duration": -646,
    "start_time": "2022-03-01T07:53:27.207Z"
   },
   {
    "duration": -649,
    "start_time": "2022-03-01T07:53:27.210Z"
   },
   {
    "duration": -649,
    "start_time": "2022-03-01T07:53:27.212Z"
   },
   {
    "duration": -650,
    "start_time": "2022-03-01T07:53:27.214Z"
   },
   {
    "duration": -662,
    "start_time": "2022-03-01T07:53:27.227Z"
   },
   {
    "duration": -664,
    "start_time": "2022-03-01T07:53:27.229Z"
   },
   {
    "duration": -665,
    "start_time": "2022-03-01T07:53:27.231Z"
   },
   {
    "duration": -665,
    "start_time": "2022-03-01T07:53:27.232Z"
   },
   {
    "duration": -666,
    "start_time": "2022-03-01T07:53:27.234Z"
   },
   {
    "duration": -699,
    "start_time": "2022-03-01T07:53:27.268Z"
   },
   {
    "duration": -864,
    "start_time": "2022-03-01T07:53:27.434Z"
   },
   {
    "duration": -865,
    "start_time": "2022-03-01T07:53:27.436Z"
   },
   {
    "duration": -865,
    "start_time": "2022-03-01T07:53:27.437Z"
   },
   {
    "duration": -866,
    "start_time": "2022-03-01T07:53:27.439Z"
   },
   {
    "duration": -867,
    "start_time": "2022-03-01T07:53:27.441Z"
   },
   {
    "duration": -868,
    "start_time": "2022-03-01T07:53:27.443Z"
   },
   {
    "duration": -869,
    "start_time": "2022-03-01T07:53:27.445Z"
   },
   {
    "duration": -869,
    "start_time": "2022-03-01T07:53:27.446Z"
   },
   {
    "duration": -870,
    "start_time": "2022-03-01T07:53:27.448Z"
   },
   {
    "duration": -878,
    "start_time": "2022-03-01T07:53:27.457Z"
   },
   {
    "duration": -878,
    "start_time": "2022-03-01T07:53:27.458Z"
   },
   {
    "duration": -879,
    "start_time": "2022-03-01T07:53:27.460Z"
   },
   {
    "duration": -880,
    "start_time": "2022-03-01T07:53:27.462Z"
   },
   {
    "duration": -1071,
    "start_time": "2022-03-01T07:53:27.654Z"
   },
   {
    "duration": -1018,
    "start_time": "2022-03-01T07:53:27.655Z"
   },
   {
    "duration": -1020,
    "start_time": "2022-03-01T07:53:27.659Z"
   },
   {
    "duration": -1021,
    "start_time": "2022-03-01T07:53:27.661Z"
   },
   {
    "duration": -1021,
    "start_time": "2022-03-01T07:53:27.662Z"
   },
   {
    "duration": -1022,
    "start_time": "2022-03-01T07:53:27.664Z"
   },
   {
    "duration": -1022,
    "start_time": "2022-03-01T07:53:27.665Z"
   },
   {
    "duration": -1023,
    "start_time": "2022-03-01T07:53:27.667Z"
   },
   {
    "duration": -1024,
    "start_time": "2022-03-01T07:53:27.669Z"
   },
   {
    "duration": -1025,
    "start_time": "2022-03-01T07:53:27.671Z"
   },
   {
    "duration": -1026,
    "start_time": "2022-03-01T07:53:27.673Z"
   },
   {
    "duration": -1027,
    "start_time": "2022-03-01T07:53:27.675Z"
   },
   {
    "duration": -1034,
    "start_time": "2022-03-01T07:53:27.683Z"
   },
   {
    "duration": -1035,
    "start_time": "2022-03-01T07:53:27.685Z"
   },
   {
    "duration": -1036,
    "start_time": "2022-03-01T07:53:27.687Z"
   },
   {
    "duration": 173,
    "start_time": "2022-03-01T07:57:45.758Z"
   },
   {
    "duration": 185,
    "start_time": "2022-03-01T07:57:50.903Z"
   },
   {
    "duration": 3,
    "start_time": "2022-03-01T07:58:15.867Z"
   },
   {
    "duration": 22359,
    "start_time": "2022-03-01T07:58:19.199Z"
   },
   {
    "duration": 4,
    "start_time": "2022-03-01T07:58:41.561Z"
   },
   {
    "duration": 90172,
    "start_time": "2022-03-01T07:58:50.228Z"
   },
   {
    "duration": 5,
    "start_time": "2022-03-01T08:00:20.402Z"
   },
   {
    "duration": 270,
    "start_time": "2022-03-01T08:02:09.475Z"
   },
   {
    "duration": 183,
    "start_time": "2022-03-01T08:02:36.380Z"
   },
   {
    "duration": 213,
    "start_time": "2022-03-01T08:02:48.366Z"
   },
   {
    "duration": 262,
    "start_time": "2022-03-01T08:02:53.692Z"
   },
   {
    "duration": 64,
    "start_time": "2022-03-01T08:03:05.518Z"
   },
   {
    "duration": 4,
    "start_time": "2022-03-01T08:03:05.584Z"
   },
   {
    "duration": 21,
    "start_time": "2022-03-01T08:03:05.589Z"
   },
   {
    "duration": 54348,
    "start_time": "2022-03-01T08:03:05.612Z"
   },
   {
    "duration": 4,
    "start_time": "2022-03-01T08:03:59.962Z"
   },
   {
    "duration": 20,
    "start_time": "2022-03-01T08:03:59.969Z"
   },
   {
    "duration": 32,
    "start_time": "2022-03-01T08:03:59.991Z"
   },
   {
    "duration": 8,
    "start_time": "2022-03-01T08:04:00.026Z"
   },
   {
    "duration": 9,
    "start_time": "2022-03-01T08:04:00.038Z"
   },
   {
    "duration": 19,
    "start_time": "2022-03-01T08:04:00.050Z"
   },
   {
    "duration": 33,
    "start_time": "2022-03-01T08:04:00.072Z"
   },
   {
    "duration": 6,
    "start_time": "2022-03-01T08:04:00.107Z"
   },
   {
    "duration": 288,
    "start_time": "2022-03-01T08:04:00.137Z"
   },
   {
    "duration": 185,
    "start_time": "2022-03-01T08:04:00.427Z"
   },
   {
    "duration": 10,
    "start_time": "2022-03-01T08:04:20.341Z"
   },
   {
    "duration": 9,
    "start_time": "2022-03-01T08:04:20.354Z"
   },
   {
    "duration": 19,
    "start_time": "2022-03-01T08:04:20.366Z"
   },
   {
    "duration": 7,
    "start_time": "2022-03-01T08:04:20.387Z"
   },
   {
    "duration": 46,
    "start_time": "2022-03-01T08:04:20.395Z"
   },
   {
    "duration": 3,
    "start_time": "2022-03-01T08:04:20.443Z"
   },
   {
    "duration": 26,
    "start_time": "2022-03-01T08:04:20.447Z"
   },
   {
    "duration": 11,
    "start_time": "2022-03-01T08:04:20.477Z"
   },
   {
    "duration": 48,
    "start_time": "2022-03-01T08:04:20.490Z"
   },
   {
    "duration": 190,
    "start_time": "2022-03-01T08:04:20.540Z"
   },
   {
    "duration": -192,
    "start_time": "2022-03-01T08:04:20.924Z"
   },
   {
    "duration": -196,
    "start_time": "2022-03-01T08:04:20.929Z"
   },
   {
    "duration": -198,
    "start_time": "2022-03-01T08:04:20.932Z"
   },
   {
    "duration": -201,
    "start_time": "2022-03-01T08:04:20.936Z"
   },
   {
    "duration": -204,
    "start_time": "2022-03-01T08:04:20.940Z"
   },
   {
    "duration": -206,
    "start_time": "2022-03-01T08:04:20.943Z"
   },
   {
    "duration": -210,
    "start_time": "2022-03-01T08:04:20.948Z"
   },
   {
    "duration": -211,
    "start_time": "2022-03-01T08:04:20.950Z"
   },
   {
    "duration": -211,
    "start_time": "2022-03-01T08:04:20.951Z"
   },
   {
    "duration": -211,
    "start_time": "2022-03-01T08:04:20.953Z"
   },
   {
    "duration": -212,
    "start_time": "2022-03-01T08:04:20.955Z"
   },
   {
    "duration": -213,
    "start_time": "2022-03-01T08:04:20.958Z"
   },
   {
    "duration": -215,
    "start_time": "2022-03-01T08:04:20.960Z"
   },
   {
    "duration": -214,
    "start_time": "2022-03-01T08:04:20.961Z"
   },
   {
    "duration": -220,
    "start_time": "2022-03-01T08:04:20.968Z"
   },
   {
    "duration": -222,
    "start_time": "2022-03-01T08:04:20.971Z"
   },
   {
    "duration": -224,
    "start_time": "2022-03-01T08:04:20.974Z"
   },
   {
    "duration": -226,
    "start_time": "2022-03-01T08:04:20.977Z"
   },
   {
    "duration": -228,
    "start_time": "2022-03-01T08:04:20.980Z"
   },
   {
    "duration": -229,
    "start_time": "2022-03-01T08:04:20.982Z"
   },
   {
    "duration": -231,
    "start_time": "2022-03-01T08:04:20.985Z"
   },
   {
    "duration": -232,
    "start_time": "2022-03-01T08:04:20.987Z"
   },
   {
    "duration": -233,
    "start_time": "2022-03-01T08:04:20.989Z"
   },
   {
    "duration": -234,
    "start_time": "2022-03-01T08:04:20.991Z"
   },
   {
    "duration": -234,
    "start_time": "2022-03-01T08:04:20.992Z"
   },
   {
    "duration": -235,
    "start_time": "2022-03-01T08:04:20.994Z"
   },
   {
    "duration": -237,
    "start_time": "2022-03-01T08:04:20.997Z"
   },
   {
    "duration": -238,
    "start_time": "2022-03-01T08:04:20.999Z"
   },
   {
    "duration": -400,
    "start_time": "2022-03-01T08:04:21.162Z"
   },
   {
    "duration": -404,
    "start_time": "2022-03-01T08:04:21.167Z"
   },
   {
    "duration": -405,
    "start_time": "2022-03-01T08:04:21.169Z"
   },
   {
    "duration": -405,
    "start_time": "2022-03-01T08:04:21.171Z"
   },
   {
    "duration": -407,
    "start_time": "2022-03-01T08:04:21.173Z"
   },
   {
    "duration": -408,
    "start_time": "2022-03-01T08:04:21.175Z"
   },
   {
    "duration": -409,
    "start_time": "2022-03-01T08:04:21.177Z"
   },
   {
    "duration": -410,
    "start_time": "2022-03-01T08:04:21.180Z"
   },
   {
    "duration": -412,
    "start_time": "2022-03-01T08:04:21.183Z"
   },
   {
    "duration": -414,
    "start_time": "2022-03-01T08:04:21.186Z"
   },
   {
    "duration": -417,
    "start_time": "2022-03-01T08:04:21.190Z"
   },
   {
    "duration": -421,
    "start_time": "2022-03-01T08:04:21.194Z"
   },
   {
    "duration": 7,
    "start_time": "2022-03-01T10:58:11.662Z"
   },
   {
    "duration": 8,
    "start_time": "2022-03-01T10:58:12.475Z"
   },
   {
    "duration": 269,
    "start_time": "2022-03-01T10:58:44.364Z"
   },
   {
    "duration": 22,
    "start_time": "2022-03-01T10:59:05.089Z"
   },
   {
    "duration": 8,
    "start_time": "2022-03-01T10:59:07.319Z"
   },
   {
    "duration": 5,
    "start_time": "2022-03-01T10:59:09.061Z"
   },
   {
    "duration": 13,
    "start_time": "2022-03-01T10:59:09.779Z"
   },
   {
    "duration": 9,
    "start_time": "2022-03-01T10:59:10.537Z"
   },
   {
    "duration": 343,
    "start_time": "2022-03-01T10:59:18.737Z"
   },
   {
    "duration": 6,
    "start_time": "2022-03-01T10:59:21.315Z"
   },
   {
    "duration": 6,
    "start_time": "2022-03-01T10:59:25.593Z"
   },
   {
    "duration": 5,
    "start_time": "2022-03-01T10:59:27.459Z"
   },
   {
    "duration": 175,
    "start_time": "2022-03-01T10:59:29.035Z"
   },
   {
    "duration": 278,
    "start_time": "2022-03-01T10:59:44.494Z"
   },
   {
    "duration": 15,
    "start_time": "2022-03-01T10:59:50.647Z"
   },
   {
    "duration": 8,
    "start_time": "2022-03-01T10:59:52.190Z"
   },
   {
    "duration": 8,
    "start_time": "2022-03-01T10:59:59.480Z"
   },
   {
    "duration": 22,
    "start_time": "2022-03-01T10:59:59.490Z"
   },
   {
    "duration": 9,
    "start_time": "2022-03-01T10:59:59.525Z"
   },
   {
    "duration": 8,
    "start_time": "2022-03-01T10:59:59.536Z"
   },
   {
    "duration": 8,
    "start_time": "2022-03-01T10:59:59.601Z"
   },
   {
    "duration": 20,
    "start_time": "2022-03-01T11:00:09.727Z"
   },
   {
    "duration": 21,
    "start_time": "2022-03-01T11:00:11.598Z"
   },
   {
    "duration": 19,
    "start_time": "2022-03-01T11:00:14.332Z"
   },
   {
    "duration": 12,
    "start_time": "2022-03-01T11:00:17.358Z"
   },
   {
    "duration": 18,
    "start_time": "2022-03-01T11:00:18.364Z"
   },
   {
    "duration": 3,
    "start_time": "2022-03-01T11:00:20.673Z"
   },
   {
    "duration": 10,
    "start_time": "2022-03-01T11:00:21.372Z"
   },
   {
    "duration": 13,
    "start_time": "2022-03-01T11:00:21.870Z"
   },
   {
    "duration": 8,
    "start_time": "2022-03-01T11:00:24.484Z"
   },
   {
    "duration": 4,
    "start_time": "2022-03-01T11:00:24.962Z"
   },
   {
    "duration": 8,
    "start_time": "2022-03-01T11:00:26.210Z"
   },
   {
    "duration": 9,
    "start_time": "2022-03-01T11:00:26.764Z"
   },
   {
    "duration": 24,
    "start_time": "2022-03-01T11:00:28.575Z"
   },
   {
    "duration": 26,
    "start_time": "2022-03-01T11:00:29.105Z"
   },
   {
    "duration": 12,
    "start_time": "2022-03-01T11:00:30.588Z"
   },
   {
    "duration": 164,
    "start_time": "2022-03-01T11:00:32.506Z"
   },
   {
    "duration": 19,
    "start_time": "2022-03-01T11:00:41.001Z"
   },
   {
    "duration": 10,
    "start_time": "2022-03-01T11:00:41.022Z"
   },
   {
    "duration": 159,
    "start_time": "2022-03-01T11:00:41.034Z"
   },
   {
    "duration": 18,
    "start_time": "2022-03-01T11:00:41.195Z"
   },
   {
    "duration": 9,
    "start_time": "2022-03-01T11:00:41.214Z"
   },
   {
    "duration": 184,
    "start_time": "2022-03-01T11:00:41.224Z"
   },
   {
    "duration": 27,
    "start_time": "2022-03-01T11:00:41.410Z"
   },
   {
    "duration": 11,
    "start_time": "2022-03-01T11:00:41.439Z"
   },
   {
    "duration": 181,
    "start_time": "2022-03-01T11:00:41.452Z"
   }
  ],
  "datalore": {
   "base_environment": "default",
   "computation_mode": "JUPYTER",
   "package_manager": "pip",
   "packages": [],
   "version": 1
  },
  "kernelspec": {
   "display_name": "Python 3 (ipykernel)",
   "language": "python",
   "name": "python3"
  },
  "language_info": {
   "codemirror_mode": {
    "name": "ipython",
    "version": 3
   },
   "file_extension": ".py",
   "mimetype": "text/x-python",
   "name": "python",
   "nbconvert_exporter": "python",
   "pygments_lexer": "ipython3",
   "version": "3.9.5"
  },
  "toc": {
   "base_numbering": 1,
   "nav_menu": {},
   "number_sections": true,
   "sideBar": true,
   "skip_h1_title": true,
   "title_cell": "Содержание",
   "title_sidebar": "Содержание",
   "toc_cell": true,
   "toc_position": {
    "height": "calc(100% - 180px)",
    "left": "10px",
    "top": "150px",
    "width": "270.398px"
   },
   "toc_section_display": true,
   "toc_window_display": true
  }
 },
 "nbformat": 4,
 "nbformat_minor": 4
}
