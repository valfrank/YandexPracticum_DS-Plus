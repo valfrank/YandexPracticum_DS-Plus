{
 "cells": [
  {
   "cell_type": "markdown",
   "metadata": {},
   "source": [
    "# Choosing a location for an oil well"
   ]
  },
  {
   "cell_type": "markdown",
   "source": [
    "We need to decide where to drill a new well for the mining company GlavRosGosNeft.\n",
    "\n",
    "We have been provided with oil samples in three regions: in each of 10,000 fields, where the quality of oil and the volume of its reserves have been measured. Build a machine learning model to help determine the region where mining will bring the most profit. Analyze possible profits and risks using the *Bootstrap* technique\n",
    "\n",
    "Steps to choose a location:\n",
    "\n",
    "- In the selected region, they are looking for deposits, for each, the values of the signs are determined;\n",
    "- Build a model and estimate the volume of reserves;\n",
    "- Select the deposits with the highest value estimates. The number of fields depends on the company's budget and the cost of developing one well;\n",
    "- The profit is equal to the total profit of the selected deposits."
   ],
   "metadata": {
    "collapsed": false
   }
  },
  {
   "cell_type": "markdown",
   "metadata": {},
   "source": [
    "## Data loading and preprocessing"
   ]
  },
  {
   "cell_type": "code",
   "execution_count": 1,
   "metadata": {},
   "outputs": [],
   "source": [
    "import pandas as pd\n",
    "import numpy as np\n",
    "import matplotlib.pyplot as plt\n",
    "\n",
    "from sklearn.linear_model import LinearRegression\n",
    "from sklearn.metrics import mean_squared_error\n",
    "from sklearn.model_selection import train_test_split"
   ]
  },
  {
   "cell_type": "code",
   "execution_count": 2,
   "metadata": {},
   "outputs": [],
   "source": [
    "data_one = pd.read_csv('geo_data_0.csv')\n",
    "data_two = pd.read_csv('geo_data_1.csv')\n",
    "data_three = pd.read_csv('geo_data_2.csv')"
   ]
  },
  {
   "cell_type": "code",
   "execution_count": 3,
   "metadata": {},
   "outputs": [
    {
     "data": {
      "text/plain": "      id        f0        f1        f2     product\n0  txEyH  0.705745 -0.497823  1.221170  105.280062\n1  2acmU  1.334711 -0.340164  4.365080   73.037750\n2  409Wp  1.022732  0.151990  1.419926   85.265647\n3  iJLyR -0.032172  0.139033  2.978566  168.620776\n4  Xdl7t  1.988431  0.155413  4.751769  154.036647",
      "text/html": "<div>\n<style scoped>\n    .dataframe tbody tr th:only-of-type {\n        vertical-align: middle;\n    }\n\n    .dataframe tbody tr th {\n        vertical-align: top;\n    }\n\n    .dataframe thead th {\n        text-align: right;\n    }\n</style>\n<table border=\"1\" class=\"dataframe\">\n  <thead>\n    <tr style=\"text-align: right;\">\n      <th></th>\n      <th>id</th>\n      <th>f0</th>\n      <th>f1</th>\n      <th>f2</th>\n      <th>product</th>\n    </tr>\n  </thead>\n  <tbody>\n    <tr>\n      <th>0</th>\n      <td>txEyH</td>\n      <td>0.705745</td>\n      <td>-0.497823</td>\n      <td>1.221170</td>\n      <td>105.280062</td>\n    </tr>\n    <tr>\n      <th>1</th>\n      <td>2acmU</td>\n      <td>1.334711</td>\n      <td>-0.340164</td>\n      <td>4.365080</td>\n      <td>73.037750</td>\n    </tr>\n    <tr>\n      <th>2</th>\n      <td>409Wp</td>\n      <td>1.022732</td>\n      <td>0.151990</td>\n      <td>1.419926</td>\n      <td>85.265647</td>\n    </tr>\n    <tr>\n      <th>3</th>\n      <td>iJLyR</td>\n      <td>-0.032172</td>\n      <td>0.139033</td>\n      <td>2.978566</td>\n      <td>168.620776</td>\n    </tr>\n    <tr>\n      <th>4</th>\n      <td>Xdl7t</td>\n      <td>1.988431</td>\n      <td>0.155413</td>\n      <td>4.751769</td>\n      <td>154.036647</td>\n    </tr>\n  </tbody>\n</table>\n</div>"
     },
     "execution_count": 3,
     "metadata": {},
     "output_type": "execute_result"
    }
   ],
   "source": [
    "data_one.head(5)"
   ]
  },
  {
   "cell_type": "code",
   "execution_count": 4,
   "metadata": {},
   "outputs": [],
   "source": [
    "def study(data):\n",
    "    print(data.info())\n",
    "    print(f\"Shape:    {data.shape}\")\n",
    "    print(\"Na's:         \", data.isna().sum().sum())\n",
    "    print(\"duplicates:   \", data.duplicated().sum())\n",
    "    print(\"\\nFeature distribution\")\n",
    "    data[[\"f0\",\"f1\",\"f2\"]].hist()\n",
    "    plt.show()"
   ]
  },
  {
   "cell_type": "code",
   "execution_count": 5,
   "metadata": {},
   "outputs": [
    {
     "name": "stdout",
     "output_type": "stream",
     "text": [
      "<class 'pandas.core.frame.DataFrame'>\n",
      "RangeIndex: 100000 entries, 0 to 99999\n",
      "Data columns (total 5 columns):\n",
      " #   Column   Non-Null Count   Dtype  \n",
      "---  ------   --------------   -----  \n",
      " 0   id       100000 non-null  object \n",
      " 1   f0       100000 non-null  float64\n",
      " 2   f1       100000 non-null  float64\n",
      " 3   f2       100000 non-null  float64\n",
      " 4   product  100000 non-null  float64\n",
      "dtypes: float64(4), object(1)\n",
      "memory usage: 3.8+ MB\n",
      "None\n",
      "Shape:    (100000, 5)\n",
      "Na's:          0\n",
      "duplicates:    0\n",
      "\n",
      "Feature distribution\n"
     ]
    },
    {
     "data": {
      "text/plain": "<Figure size 432x288 with 4 Axes>",
      "image/png": "[encoded data removed]"
     },
     "metadata": {
      "needs_background": "light"
     },
     "output_type": "display_data"
    }
   ],
   "source": [
    "study(data_one)"
   ]
  },
  {
   "cell_type": "code",
   "execution_count": 6,
   "metadata": {},
   "outputs": [
    {
     "name": "stdout",
     "output_type": "stream",
     "text": [
      "<class 'pandas.core.frame.DataFrame'>\n",
      "RangeIndex: 100000 entries, 0 to 99999\n",
      "Data columns (total 5 columns):\n",
      " #   Column   Non-Null Count   Dtype  \n",
      "---  ------   --------------   -----  \n",
      " 0   id       100000 non-null  object \n",
      " 1   f0       100000 non-null  float64\n",
      " 2   f1       100000 non-null  float64\n",
      " 3   f2       100000 non-null  float64\n",
      " 4   product  100000 non-null  float64\n",
      "dtypes: float64(4), object(1)\n",
      "memory usage: 3.8+ MB\n",
      "None\n",
      "Shape:    (100000, 5)\n",
      "Na's:          0\n",
      "duplicates:    0\n",
      "\n",
      "Feature distribution\n"
     ]
    },
    {
     "data": {
      "text/plain": "<Figure size 432x288 with 4 Axes>",
      "image/png": "[encoded data removed]"
     },
     "metadata": {
      "needs_background": "light"
     },
     "output_type": "display_data"
    }
   ],
   "source": [
    "study(data_two)"
   ]
  },
  {
   "cell_type": "code",
   "execution_count": 7,
   "metadata": {},
   "outputs": [
    {
     "name": "stdout",
     "output_type": "stream",
     "text": [
      "<class 'pandas.core.frame.DataFrame'>\n",
      "RangeIndex: 100000 entries, 0 to 99999\n",
      "Data columns (total 5 columns):\n",
      " #   Column   Non-Null Count   Dtype  \n",
      "---  ------   --------------   -----  \n",
      " 0   id       100000 non-null  object \n",
      " 1   f0       100000 non-null  float64\n",
      " 2   f1       100000 non-null  float64\n",
      " 3   f2       100000 non-null  float64\n",
      " 4   product  100000 non-null  float64\n",
      "dtypes: float64(4), object(1)\n",
      "memory usage: 3.8+ MB\n",
      "None\n",
      "Shape:    (100000, 5)\n",
      "Na's:          0\n",
      "duplicates:    0\n",
      "\n",
      "Feature distribution\n"
     ]
    },
    {
     "data": {
      "text/plain": "<Figure size 432x288 with 4 Axes>",
      "image/png": "[encoded data removed]"
     },
     "metadata": {
      "needs_background": "light"
     },
     "output_type": "display_data"
    }
   ],
   "source": [
    "study(data_three)"
   ]
  },
  {
   "cell_type": "markdown",
   "metadata": {},
   "source": [
    "**Resume**\n",
    "\n",
    "- Examined the data:\n",
    "    * no duplicates found, no gaps.\n",
    "    * Properties for the model: f0; f1; f2.\n",
    "    * Target attribute: product.\n",
    "- According to the histograms, you can see that the first and third regions have a distribution of properties close to normal.\n",
    "- In the second region, the f2 column data has a strange distribution.\n"
   ]
  },
  {
   "cell_type": "markdown",
   "metadata": {},
   "source": [
    "## Train model"
   ]
  },
  {
   "cell_type": "code",
   "execution_count": 8,
   "metadata": {},
   "outputs": [],
   "source": [
    "def model_train(data):\n",
    "    target = data['product']\n",
    "    features = data.drop(['product', 'id'] , axis=1)\n",
    "    features_train, features_valid, target_train, target_valid = train_test_split(\n",
    "    features, target, test_size=0.25, random_state=12345)\n",
    "\n",
    "    model = LinearRegression()\n",
    "    model.fit(features_train, target_train)\n",
    "    predicted_valid = model.predict(features_valid)\n",
    "    rmse = mean_squared_error(target_valid, predicted_valid) ** 0.5\n",
    "    average_product = sum(predicted_valid) / len(predicted_valid)\n",
    "    \n",
    "    print('RMSE =', rmse)\n",
    "    print('Average =', average_product)\n",
    "    \n",
    "    return rmse, predicted_valid, target_valid.reset_index(drop=True)"
   ]
  },
  {
   "cell_type": "code",
   "execution_count": 9,
   "metadata": {},
   "outputs": [
    {
     "name": "stdout",
     "output_type": "stream",
     "text": [
      "First region\n",
      "RMSE = 37.5794217150813\n",
      "Average = 92.59256778438008\n"
     ]
    }
   ],
   "source": [
    "print('First region')\n",
    "rmse_one, predicted_one, valid_one = model_train(data_one)"
   ]
  },
  {
   "cell_type": "code",
   "execution_count": 10,
   "metadata": {},
   "outputs": [
    {
     "name": "stdout",
     "output_type": "stream",
     "text": [
      "Second region\n",
      "RMSE = 0.8930992867756182\n",
      "Average = 68.72854689544583\n"
     ]
    }
   ],
   "source": [
    "print('Second region')\n",
    "rmse_two, predicted_two, valid_two = model_train(data_two)"
   ]
  },
  {
   "cell_type": "code",
   "execution_count": 11,
   "metadata": {},
   "outputs": [
    {
     "name": "stdout",
     "output_type": "stream",
     "text": [
      "Third region\n",
      "RMSE = 40.02970873393434\n",
      "Average = 94.9650459680051\n"
     ]
    }
   ],
   "source": [
    "print('Third region')\n",
    "rmse_three, predicted_three, valid_three = model_train(data_three)"
   ]
  },
  {
   "cell_type": "markdown",
   "metadata": {},
   "source": [
    "The smallest error was obtained for the model for the second region, but this may be due to initially incorrect data.\n",
    "The first and third regions show an error and average oil reserves are approximately at the same level."
   ]
  },
  {
   "cell_type": "markdown",
   "metadata": {},
   "source": [
    "## Calculation of income and risks"
   ]
  },
  {
   "cell_type": "code",
   "execution_count": 12,
   "outputs": [],
   "source": [
    "budget = 10 ** 10\n",
    "chosen_points = 500\n",
    "best_points = 200\n",
    "income_barrel = 450000"
   ],
   "metadata": {
    "collapsed": false
   }
  },
  {
   "cell_type": "code",
   "execution_count": 13,
   "outputs": [
    {
     "name": "stdout",
     "output_type": "stream",
     "text": [
      "Required quantity for break-even point 112.0 тыс баррелей\n"
     ]
    }
   ],
   "source": [
    "print('Required quantity for break-even point', np.ceil(budget / income_barrel / best_points), 'тыс баррелей')"
   ],
   "metadata": {
    "collapsed": false
   }
  },
  {
   "cell_type": "code",
   "execution_count": 14,
   "outputs": [
    {
     "name": "stdout",
     "output_type": "stream",
     "text": [
      "Average actual oil reserves per well in region 1 92.50000000000001\n",
      "Average actual oil reserves per well in region 2 68.82500000000002\n",
      "Average actual oil reserves per well in region 3 95.00000000000004\n"
     ]
    }
   ],
   "source": [
    "print('Average actual oil reserves per well in region 1', data_one['product'].mean())\n",
    "print('Average actual oil reserves per well in region 2', data_two['product'].mean())\n",
    "print('Average actual oil reserves per well in region 3', data_three['product'].mean())"
   ],
   "metadata": {
    "collapsed": false
   }
  },
  {
   "cell_type": "code",
   "execution_count": 15,
   "metadata": {},
   "outputs": [],
   "source": [
    "def income(valid, predicted):\n",
    "    sort_Series = pd.Series(predicted).sort_values(ascending=False)[:best_points]\n",
    "    valid_sort = (valid.reset_index(drop = True)[sort_Series.index])\n",
    "    sum_true = valid_sort.sum() \n",
    "    return round((sum_true * income_barrel) - budget,2)"
   ]
  },
  {
   "cell_type": "code",
   "execution_count": 16,
   "metadata": {},
   "outputs": [
    {
     "data": {
      "text/plain": "3320826043.14"
     },
     "execution_count": 16,
     "metadata": {},
     "output_type": "execute_result"
    }
   ],
   "source": [
    "income(valid_one, predicted_one)"
   ]
  },
  {
   "cell_type": "code",
   "execution_count": 17,
   "metadata": {},
   "outputs": [
    {
     "data": {
      "text/plain": "2415086696.68"
     },
     "execution_count": 17,
     "metadata": {},
     "output_type": "execute_result"
    }
   ],
   "source": [
    "income(valid_two, predicted_two)"
   ]
  },
  {
   "cell_type": "code",
   "execution_count": 18,
   "metadata": {},
   "outputs": [
    {
     "data": {
      "text/plain": "2710349963.6"
     },
     "execution_count": 18,
     "metadata": {},
     "output_type": "execute_result"
    }
   ],
   "source": [
    "income(valid_three, predicted_three)"
   ]
  },
  {
   "cell_type": "markdown",
   "metadata": {},
   "source": [
    "**The first region can be considered the most profitable**"
   ]
  },
  {
   "cell_type": "code",
   "execution_count": 19,
   "metadata": {},
   "outputs": [],
   "source": [
    "#Use bootstrap to determine average profit, confidence interval and risk of loss\n",
    "state = np.random.RandomState(12345)\n",
    "\n",
    "def bootstrap(valid, predicted):\n",
    "    revenue = []\n",
    "    lost = 0\n",
    "    \n",
    "    for i in range(1000):\n",
    "        target_subsample = valid.sample(n=500, replace=True, random_state=state)    \n",
    "        probs_subsample = predicted[target_subsample.index]    \n",
    "        rev = income(target_subsample, probs_subsample)\n",
    "        revenue.append(rev)\n",
    "        if rev < 0:\n",
    "            lost += 1\n",
    "\n",
    "    values = pd.Series(revenue)\n",
    "    lower = values.quantile(0.025)\n",
    "    higher = values.quantile(0.975)\n",
    "    mean = values.mean()\n",
    "    risk = lost / 1000\n",
    "\n",
    "    print('Average region profit = {:.2f} руб.'.format(mean))\n",
    "    print('95% confidence interval {:.2f} до {:.2f} руб.'.format(lower, higher))\n",
    "    print('Percent risk {:.2%}'.format(risk))\n",
    "    \n",
    "    return mean, (lower, higher), risk"
   ]
  },
  {
   "cell_type": "code",
   "execution_count": 20,
   "metadata": {},
   "outputs": [
    {
     "name": "stdout",
     "output_type": "stream",
     "text": [
      "Average region profit = 396164984.80 руб.\n",
      "95% confidence interval -111215545.89 до 909766941.55 руб.\n",
      "Percent risk 6.90%\n"
     ]
    },
    {
     "data": {
      "text/plain": "(396164984.80228, (-111215545.89, 909766941.5539998), 0.069)"
     },
     "execution_count": 20,
     "metadata": {},
     "output_type": "execute_result"
    }
   ],
   "source": [
    "bootstrap(valid_one, predicted_one)"
   ]
  },
  {
   "cell_type": "code",
   "execution_count": 21,
   "metadata": {},
   "outputs": [
    {
     "name": "stdout",
     "output_type": "stream",
     "text": [
      "Average region profit = 461155817.28 руб.\n",
      "95% confidence interval 78050810.75 до 862952060.26 руб.\n",
      "Percent risk 0.70%\n"
     ]
    },
    {
     "data": {
      "text/plain": "(461155817.2772, (78050810.74800001, 862952060.26), 0.007)"
     },
     "execution_count": 21,
     "metadata": {},
     "output_type": "execute_result"
    }
   ],
   "source": [
    "bootstrap(valid_two, predicted_two)"
   ]
  },
  {
   "cell_type": "code",
   "execution_count": 22,
   "metadata": {},
   "outputs": [
    {
     "name": "stdout",
     "output_type": "stream",
     "text": [
      "Average region profit = 392950475.17 руб.\n",
      "95% confidence interval -112227625.38 до 934562914.55 руб.\n",
      "Percent risk 6.50%\n"
     ]
    },
    {
     "data": {
      "text/plain": "(392950475.17066, (-112227625.37975, 934562914.5469998), 0.065)"
     },
     "execution_count": 22,
     "metadata": {},
     "output_type": "execute_result"
    }
   ],
   "source": [
    "bootstrap(valid_three, predicted_three)"
   ]
  },
  {
   "cell_type": "markdown",
   "metadata": {},
   "source": [
    "**Resume**\n",
    "\n",
    "+ Profit, interval and risks were calculated for three regions.\n",
    "\n",
    "+ In the first and third regions, the risks are quite high (about 7%), but the data for the second region cannot be considered reliable enough for their use.\n",
    "\n",
    "+ You can use the third region, since there are less risks."
   ]
  },
  {
   "cell_type": "markdown",
   "metadata": {},
   "source": [
    "## Conclusions"
   ]
  },
  {
   "cell_type": "markdown",
   "metadata": {},
   "source": [
    "1. Data from three regions were examined, missing values and duplicates were processed. It was found that for the second region, the data had a strange distribution.\n",
    "2. Three models were trained to predict oil volumes.\n",
    "3. We calculated the profit and risks for each region.\n",
    "\n",
    "- Although the lowest risks and high average profit were obtained for the second region, it was decided not to use it for prediction, since one cannot rely on the data provided.\n",
    "- It is proposed to use the third region."
   ]
  }
 ],
 "metadata": {
  "ExecuteTimeLog": [
   {
    "duration": 1088,
    "start_time": "2022-06-29T08:59:49.525Z"
   },
   {
    "duration": 745,
    "start_time": "2022-06-29T09:00:19.497Z"
   },
   {
    "duration": 4,
    "start_time": "2022-06-29T09:13:00.668Z"
   },
   {
    "duration": 14,
    "start_time": "2022-06-29T09:13:28.038Z"
   },
   {
    "duration": 11,
    "start_time": "2022-06-29T09:13:39.428Z"
   },
   {
    "duration": 3,
    "start_time": "2022-06-29T09:14:03.290Z"
   },
   {
    "duration": 871,
    "start_time": "2022-06-29T09:14:16.412Z"
   },
   {
    "duration": 4,
    "start_time": "2022-06-29T09:14:37.540Z"
   },
   {
    "duration": 3,
    "start_time": "2022-06-29T09:14:44.184Z"
   },
   {
    "duration": 325,
    "start_time": "2022-06-29T09:14:46.866Z"
   },
   {
    "duration": 330,
    "start_time": "2022-06-29T09:19:15.685Z"
   },
   {
    "duration": 424,
    "start_time": "2022-06-29T09:19:22.454Z"
   },
   {
    "duration": 78,
    "start_time": "2022-06-29T13:36:36.530Z"
   },
   {
    "duration": 5,
    "start_time": "2022-06-29T13:36:49.622Z"
   },
   {
    "duration": 1597,
    "start_time": "2022-06-29T13:36:58.125Z"
   },
   {
    "duration": 795,
    "start_time": "2022-06-29T13:36:59.724Z"
   },
   {
    "duration": 13,
    "start_time": "2022-06-29T13:37:00.521Z"
   },
   {
    "duration": 7,
    "start_time": "2022-06-29T13:37:00.536Z"
   },
   {
    "duration": 421,
    "start_time": "2022-06-29T13:37:00.545Z"
   },
   {
    "duration": 360,
    "start_time": "2022-06-29T13:37:00.971Z"
   },
   {
    "duration": 450,
    "start_time": "2022-06-29T13:37:01.333Z"
   },
   {
    "duration": 167,
    "start_time": "2022-06-29T13:37:01.785Z"
   },
   {
    "duration": 0,
    "start_time": "2022-06-29T13:37:01.955Z"
   },
   {
    "duration": 4,
    "start_time": "2022-06-29T13:37:08.081Z"
   },
   {
    "duration": 5,
    "start_time": "2022-06-29T13:37:27.114Z"
   },
   {
    "duration": 19,
    "start_time": "2022-06-30T11:29:34.642Z"
   },
   {
    "duration": 1654,
    "start_time": "2022-06-30T11:29:44.447Z"
   },
   {
    "duration": 877,
    "start_time": "2022-06-30T11:29:46.103Z"
   },
   {
    "duration": 19,
    "start_time": "2022-06-30T11:29:46.982Z"
   },
   {
    "duration": 6,
    "start_time": "2022-06-30T11:29:47.003Z"
   },
   {
    "duration": 435,
    "start_time": "2022-06-30T11:29:47.012Z"
   },
   {
    "duration": 357,
    "start_time": "2022-06-30T11:29:47.449Z"
   },
   {
    "duration": 514,
    "start_time": "2022-06-30T11:29:47.808Z"
   },
   {
    "duration": 9,
    "start_time": "2022-06-30T11:29:48.324Z"
   },
   {
    "duration": 380,
    "start_time": "2022-06-30T11:30:38.902Z"
   },
   {
    "duration": 6,
    "start_time": "2022-06-30T11:31:56.165Z"
   },
   {
    "duration": 6,
    "start_time": "2022-06-30T11:32:03.180Z"
   },
   {
    "duration": 44,
    "start_time": "2022-06-30T11:32:04.768Z"
   },
   {
    "duration": 61,
    "start_time": "2022-06-30T11:33:00.081Z"
   },
   {
    "duration": 65,
    "start_time": "2022-06-30T11:33:00.461Z"
   },
   {
    "duration": 3,
    "start_time": "2022-06-30T12:23:02.185Z"
   },
   {
    "duration": 12,
    "start_time": "2022-06-30T12:24:33.303Z"
   },
   {
    "duration": 5,
    "start_time": "2022-06-30T12:24:42.585Z"
   },
   {
    "duration": 5,
    "start_time": "2022-06-30T12:25:08.590Z"
   },
   {
    "duration": 7,
    "start_time": "2022-06-30T12:26:20.316Z"
   },
   {
    "duration": 3,
    "start_time": "2022-06-30T12:48:49.162Z"
   },
   {
    "duration": 9,
    "start_time": "2022-06-30T12:49:27.380Z"
   },
   {
    "duration": 11,
    "start_time": "2022-06-30T12:50:14.318Z"
   },
   {
    "duration": 13,
    "start_time": "2022-06-30T12:50:23.155Z"
   },
   {
    "duration": 4,
    "start_time": "2022-06-30T12:52:50.158Z"
   },
   {
    "duration": 13,
    "start_time": "2022-06-30T12:53:16.872Z"
   },
   {
    "duration": 4,
    "start_time": "2022-06-30T12:53:42.165Z"
   },
   {
    "duration": 16,
    "start_time": "2022-06-30T12:53:44.147Z"
   },
   {
    "duration": 4,
    "start_time": "2022-06-30T12:53:53.461Z"
   },
   {
    "duration": 12,
    "start_time": "2022-06-30T12:53:58.057Z"
   },
   {
    "duration": 69,
    "start_time": "2022-06-30T13:43:34.889Z"
   },
   {
    "duration": 7,
    "start_time": "2022-06-30T13:43:46.786Z"
   },
   {
    "duration": 9,
    "start_time": "2022-06-30T13:45:20.157Z"
   },
   {
    "duration": 1006,
    "start_time": "2022-06-30T13:45:35.665Z"
   },
   {
    "duration": 15,
    "start_time": "2022-06-30T13:45:55.830Z"
   },
   {
    "duration": 1017,
    "start_time": "2022-06-30T13:45:56.669Z"
   },
   {
    "duration": 996,
    "start_time": "2022-06-30T13:47:06.991Z"
   },
   {
    "duration": 940,
    "start_time": "2022-06-30T13:47:09.447Z"
   },
   {
    "duration": 9,
    "start_time": "2022-06-30T13:52:39.932Z"
   },
   {
    "duration": 977,
    "start_time": "2022-06-30T13:52:40.647Z"
   },
   {
    "duration": 1113,
    "start_time": "2022-06-30T13:52:42.519Z"
   },
   {
    "duration": 939,
    "start_time": "2022-06-30T13:52:43.633Z"
   },
   {
    "duration": 5,
    "start_time": "2022-06-30T13:54:47.346Z"
   },
   {
    "duration": 935,
    "start_time": "2022-06-30T13:55:32.632Z"
   },
   {
    "duration": 1376,
    "start_time": "2022-07-01T08:24:16.279Z"
   },
   {
    "duration": 700,
    "start_time": "2022-07-01T08:24:18.345Z"
   },
   {
    "duration": 13,
    "start_time": "2022-07-01T08:24:19.047Z"
   },
   {
    "duration": 4,
    "start_time": "2022-07-01T08:24:20.031Z"
   },
   {
    "duration": 337,
    "start_time": "2022-07-01T08:24:20.977Z"
   },
   {
    "duration": 372,
    "start_time": "2022-07-01T08:24:22.336Z"
   },
   {
    "duration": 393,
    "start_time": "2022-07-01T08:24:23.186Z"
   },
   {
    "duration": 5,
    "start_time": "2022-07-01T08:33:36.096Z"
   },
   {
    "duration": 190,
    "start_time": "2022-07-01T08:41:15.934Z"
   },
   {
    "duration": 66,
    "start_time": "2022-07-01T08:41:16.660Z"
   },
   {
    "duration": 30,
    "start_time": "2022-07-01T08:41:17.293Z"
   },
   {
    "duration": 39,
    "start_time": "2022-07-01T08:41:51.788Z"
   },
   {
    "duration": 35,
    "start_time": "2022-07-01T08:42:01.941Z"
   },
   {
    "duration": 43,
    "start_time": "2022-07-01T08:42:09.181Z"
   },
   {
    "duration": 2,
    "start_time": "2022-07-01T08:46:15.234Z"
   },
   {
    "duration": 4,
    "start_time": "2022-07-01T08:46:19.775Z"
   },
   {
    "duration": 7,
    "start_time": "2022-07-01T08:46:21.446Z"
   },
   {
    "duration": 4,
    "start_time": "2022-07-01T08:52:36.800Z"
   },
   {
    "duration": 6,
    "start_time": "2022-07-01T08:52:49.871Z"
   },
   {
    "duration": 3,
    "start_time": "2022-07-01T08:54:02.041Z"
   },
   {
    "duration": 7,
    "start_time": "2022-07-01T08:54:12.275Z"
   },
   {
    "duration": 8,
    "start_time": "2022-07-01T08:54:12.819Z"
   },
   {
    "duration": 8,
    "start_time": "2022-07-01T08:54:13.242Z"
   },
   {
    "duration": 6,
    "start_time": "2022-07-01T08:56:17.817Z"
   },
   {
    "duration": 6,
    "start_time": "2022-07-01T08:56:25.664Z"
   },
   {
    "duration": 887,
    "start_time": "2022-07-01T08:56:29.070Z"
   },
   {
    "duration": 852,
    "start_time": "2022-07-01T08:56:29.959Z"
   },
   {
    "duration": 822,
    "start_time": "2022-07-01T08:56:31.655Z"
   }
  ],
  "kernelspec": {
   "display_name": "Python 3 (ipykernel)",
   "language": "python",
   "name": "python3"
  },
  "language_info": {
   "codemirror_mode": {
    "name": "ipython",
    "version": 3
   },
   "file_extension": ".py",
   "mimetype": "text/x-python",
   "name": "python",
   "nbconvert_exporter": "python",
   "pygments_lexer": "ipython3",
   "version": "3.9.5"
  },
  "toc": {
   "base_numbering": 1,
   "nav_menu": {},
   "number_sections": true,
   "sideBar": true,
   "skip_h1_title": true,
   "title_cell": "Table of Contents",
   "title_sidebar": "Contents",
   "toc_cell": false,
   "toc_position": {},
   "toc_section_display": true,
   "toc_window_display": false
  }
 },
 "nbformat": 4,
 "nbformat_minor": 2
}
