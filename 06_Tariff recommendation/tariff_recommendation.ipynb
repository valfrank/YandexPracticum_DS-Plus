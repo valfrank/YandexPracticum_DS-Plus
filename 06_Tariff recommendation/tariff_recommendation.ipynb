{
 "cells": [
  {
   "cell_type": "markdown",
   "metadata": {},
   "source": [
    "# Tariff recommendation"
   ]
  },
  {
   "cell_type": "markdown",
   "metadata": {},
   "source": [
    "There is data on the behavior of customers who have already switched to these tariffs. We need to build a model for the classification problem that will select the appropriate rate. Data preprocessing is not required - you have already done it.\n",
    "\n",
    "Build the model with the largest possible *accuracy* value. To pass the project successfully, you need to bring the percentage of correct answers to at least 0.75. Check *accuracy* on the test set yourself."
   ]
  },
  {
   "cell_type": "markdown",
   "metadata": {},
   "source": [
    "**Project plan:**\n",
    "- Examine the data file.\n",
    "- Divide the data into three samples: training, validation and test.\n",
    "- Explore three classification models: Decision Tree, Random Forest and Logistic Regression.\n",
    "- Find the optimal parameters for each model and choose one of them to train the model.\n",
    "- Evaluate the accuracy of the trained model.\n",
    "- Assess the adequacy of the model."
   ]
  },
  {
   "cell_type": "markdown",
   "metadata": {},
   "source": [
    "## Data loading"
   ]
  },
  {
   "cell_type": "code",
   "execution_count": 1,
   "metadata": {
    "scrolled": true
   },
   "outputs": [],
   "source": [
    "import pandas as pd\n",
    "from sklearn.tree import DecisionTreeClassifier\n",
    "from sklearn.metrics import accuracy_score, fbeta_score, precision_score, recall_score, classification_report, confusion_matrix\n",
    "from sklearn.ensemble import RandomForestClassifier\n",
    "from sklearn.linear_model import LogisticRegression\n",
    "from sklearn.model_selection import train_test_split\n"
   ]
  },
  {
   "cell_type": "code",
   "execution_count": 2,
   "metadata": {},
   "outputs": [
    {
     "data": {
      "text/plain": "      calls  minutes  messages   mb_used  is_ultra\n0      40.0   311.90      83.0  19915.42         0\n1      85.0   516.75      56.0  22696.96         0\n2      77.0   467.66      86.0  21060.45         0\n3     106.0   745.53      81.0   8437.39         1\n4      66.0   418.74       1.0  14502.75         0\n...     ...      ...       ...       ...       ...\n3209  122.0   910.98      20.0  35124.90         1\n3210   25.0   190.36       0.0   3275.61         0\n3211   97.0   634.44      70.0  13974.06         0\n3212   64.0   462.32      90.0  31239.78         0\n3213   80.0   566.09       6.0  29480.52         1\n\n[3214 rows x 5 columns]",
      "text/html": "<div>\n<style scoped>\n    .dataframe tbody tr th:only-of-type {\n        vertical-align: middle;\n    }\n\n    .dataframe tbody tr th {\n        vertical-align: top;\n    }\n\n    .dataframe thead th {\n        text-align: right;\n    }\n</style>\n<table border=\"1\" class=\"dataframe\">\n  <thead>\n    <tr style=\"text-align: right;\">\n      <th></th>\n      <th>calls</th>\n      <th>minutes</th>\n      <th>messages</th>\n      <th>mb_used</th>\n      <th>is_ultra</th>\n    </tr>\n  </thead>\n  <tbody>\n    <tr>\n      <th>0</th>\n      <td>40.0</td>\n      <td>311.90</td>\n      <td>83.0</td>\n      <td>19915.42</td>\n      <td>0</td>\n    </tr>\n    <tr>\n      <th>1</th>\n      <td>85.0</td>\n      <td>516.75</td>\n      <td>56.0</td>\n      <td>22696.96</td>\n      <td>0</td>\n    </tr>\n    <tr>\n      <th>2</th>\n      <td>77.0</td>\n      <td>467.66</td>\n      <td>86.0</td>\n      <td>21060.45</td>\n      <td>0</td>\n    </tr>\n    <tr>\n      <th>3</th>\n      <td>106.0</td>\n      <td>745.53</td>\n      <td>81.0</td>\n      <td>8437.39</td>\n      <td>1</td>\n    </tr>\n    <tr>\n      <th>4</th>\n      <td>66.0</td>\n      <td>418.74</td>\n      <td>1.0</td>\n      <td>14502.75</td>\n      <td>0</td>\n    </tr>\n    <tr>\n      <th>...</th>\n      <td>...</td>\n      <td>...</td>\n      <td>...</td>\n      <td>...</td>\n      <td>...</td>\n    </tr>\n    <tr>\n      <th>3209</th>\n      <td>122.0</td>\n      <td>910.98</td>\n      <td>20.0</td>\n      <td>35124.90</td>\n      <td>1</td>\n    </tr>\n    <tr>\n      <th>3210</th>\n      <td>25.0</td>\n      <td>190.36</td>\n      <td>0.0</td>\n      <td>3275.61</td>\n      <td>0</td>\n    </tr>\n    <tr>\n      <th>3211</th>\n      <td>97.0</td>\n      <td>634.44</td>\n      <td>70.0</td>\n      <td>13974.06</td>\n      <td>0</td>\n    </tr>\n    <tr>\n      <th>3212</th>\n      <td>64.0</td>\n      <td>462.32</td>\n      <td>90.0</td>\n      <td>31239.78</td>\n      <td>0</td>\n    </tr>\n    <tr>\n      <th>3213</th>\n      <td>80.0</td>\n      <td>566.09</td>\n      <td>6.0</td>\n      <td>29480.52</td>\n      <td>1</td>\n    </tr>\n  </tbody>\n</table>\n<p>3214 rows × 5 columns</p>\n</div>"
     },
     "execution_count": 2,
     "metadata": {},
     "output_type": "execute_result"
    }
   ],
   "source": [
    "data = pd.read_csv('users_behavior.csv')\n",
    "data"
   ]
  },
  {
   "cell_type": "code",
   "execution_count": 3,
   "metadata": {},
   "outputs": [
    {
     "name": "stdout",
     "output_type": "stream",
     "text": [
      "<class 'pandas.core.frame.DataFrame'>\n",
      "RangeIndex: 3214 entries, 0 to 3213\n",
      "Data columns (total 5 columns):\n",
      " #   Column    Non-Null Count  Dtype  \n",
      "---  ------    --------------  -----  \n",
      " 0   calls     3214 non-null   float64\n",
      " 1   minutes   3214 non-null   float64\n",
      " 2   messages  3214 non-null   float64\n",
      " 3   mb_used   3214 non-null   float64\n",
      " 4   is_ultra  3214 non-null   int64  \n",
      "dtypes: float64(4), int64(1)\n",
      "memory usage: 125.7 KB\n"
     ]
    }
   ],
   "source": [
    "data.info()"
   ]
  },
  {
   "cell_type": "markdown",
   "metadata": {},
   "source": [
    "Target feature - `is_ultra`"
   ]
  },
  {
   "cell_type": "markdown",
   "metadata": {},
   "source": [
    "## Split the data into samples"
   ]
  },
  {
   "cell_type": "markdown",
   "metadata": {},
   "source": [
    "- train (55%) `data_train`\n",
    "- valid (25%) `data_valid`\n",
    "- test (20%) `data_test`"
   ]
  },
  {
   "cell_type": "code",
   "execution_count": 4,
   "metadata": {},
   "outputs": [],
   "source": [
    "data_test, data_left = train_test_split(data, test_size=0.8, shuffle=True, random_state=123)\n",
    "features_test = data_test.drop(['is_ultra'], axis=1)\n",
    "target_test = data_test['is_ultra']\n",
    "\n",
    "data_train, data_valid = train_test_split(data_left, test_size=0.25, shuffle=True, random_state=50)\n",
    "features_train = data_train.drop(['is_ultra'], axis=1)\n",
    "target_train = data_train['is_ultra']\n",
    "features_valid = data_valid.drop(['is_ultra'], axis=1)\n",
    "target_valid = data_valid['is_ultra']"
   ]
  },
  {
   "cell_type": "code",
   "execution_count": 5,
   "metadata": {},
   "outputs": [
    {
     "name": "stdout",
     "output_type": "stream",
     "text": [
      "Train sample size 1929\n",
      "Valid sample size 643\n",
      "Test sample size 642\n"
     ]
    }
   ],
   "source": [
    "print('Train sample size', data_train.shape[0])\n",
    "print('Valid sample size', data_valid.shape[0])\n",
    "print('Test sample size', data_test.shape[0])"
   ]
  },
  {
   "cell_type": "markdown",
   "metadata": {},
   "source": [
    "## Models"
   ]
  },
  {
   "cell_type": "markdown",
   "metadata": {},
   "source": [
    "### DecisionTree"
   ]
  },
  {
   "cell_type": "markdown",
   "metadata": {},
   "source": [
    "Select the optimal max_depth hyperparameter using the loop"
   ]
  },
  {
   "cell_type": "code",
   "execution_count": 6,
   "metadata": {},
   "outputs": [
    {
     "name": "stdout",
     "output_type": "stream",
     "text": [
      "0.744945567651633 1\n",
      "0.7776049766718507 2\n",
      "0.7869362363919129 3\n",
      "0.7807153965785381 4\n",
      "0.7900466562986003 5\n",
      "0.7667185069984448 6\n",
      "0.7822706065318819 7\n",
      "0.7884914463452566 8\n",
      "0.7713841368584758 9\n",
      "0.7853810264385692 10\n",
      "Accuracy of the best model on the validation set: 0.7900466562986003 Tree depth: 5\n"
     ]
    }
   ],
   "source": [
    "best_model = None\n",
    "best_result = 0\n",
    "best_depth = 0\n",
    "result_accuracy = []\n",
    "\n",
    "for depth in range(1, 11):\n",
    "    tree_model = DecisionTreeClassifier(random_state=50, max_depth=depth)\n",
    "    tree_model.fit(features_train, target_train)\n",
    "    predictions_valid = tree_model.predict(features_valid)\n",
    "    result = accuracy_score(target_valid, predictions_valid)\n",
    "    result_accuracy.append(result)\n",
    "    print(result, depth)\n",
    "    \n",
    "    if result > best_result:\n",
    "        best_model = tree_model\n",
    "        best_result = result\n",
    "        best_depth = depth\n",
    "    \n",
    "    \n",
    "print('Accuracy of the best model on the validation set:', best_result, 'Tree depth:', best_depth)"
   ]
  },
  {
   "cell_type": "markdown",
   "metadata": {},
   "source": [
    "### RandomForest"
   ]
  },
  {
   "cell_type": "markdown",
   "metadata": {},
   "source": [
    "Select the optimal max_depth and n_estimators hyperparameters using the loop"
   ]
  },
  {
   "cell_type": "code",
   "execution_count": 8,
   "metadata": {},
   "outputs": [
    {
     "name": "stdout",
     "output_type": "stream",
     "text": [
      "0.7387247278382582 1 1\n",
      "0.7807153965785381 1 2\n",
      "0.7853810264385692 1 3\n",
      "0.7931570762052877 1 4\n",
      "0.7916018662519441 1 5\n",
      "0.7900466562986003 1 6\n",
      "0.7807153965785381 1 7\n",
      "0.7822706065318819 1 8\n",
      "0.7900466562986003 1 9\n",
      "0.7776049766718507 1 10\n",
      "0.7387247278382582 2 1\n",
      "0.7791601866251944 2 2\n",
      "0.7838258164852255 2 3\n",
      "0.7869362363919129 2 4\n",
      "0.7807153965785381 2 5\n",
      "0.7822706065318819 2 6\n",
      "0.7744945567651633 2 7\n",
      "0.7853810264385692 2 8\n",
      "0.7573872472783826 2 9\n",
      "0.7573872472783826 2 10\n",
      "0.7387247278382582 3 1\n",
      "0.7807153965785381 3 2\n",
      "0.7884914463452566 3 3\n",
      "0.7962674961119751 3 4\n",
      "0.7947122861586314 3 5\n",
      "0.7993779160186625 3 6\n",
      "0.7900466562986003 3 7\n",
      "0.7947122861586314 3 8\n",
      "0.7931570762052877 3 9\n",
      "0.7978227060653188 3 10\n",
      "0.7387247278382582 4 1\n",
      "0.7511664074650077 4 2\n",
      "0.7838258164852255 4 3\n",
      "0.7916018662519441 4 4\n",
      "0.7838258164852255 4 5\n",
      "0.7869362363919129 4 6\n",
      "0.7807153965785381 4 7\n",
      "0.7869362363919129 4 8\n",
      "0.7822706065318819 4 9\n",
      "0.7916018662519441 4 10\n",
      "0.7356143079315708 5 1\n",
      "0.744945567651633 5 2\n",
      "0.80248833592535 5 3\n",
      "0.7884914463452566 5 4\n",
      "0.7869362363919129 5 5\n",
      "0.7947122861586314 5 6\n",
      "0.7931570762052877 5 7\n",
      "0.7900466562986003 5 8\n",
      "0.8040435458786936 5 9\n",
      "0.7978227060653188 5 10\n",
      "0.7356143079315708 6 1\n",
      "0.7573872472783826 6 2\n",
      "0.7993779160186625 6 3\n",
      "0.7916018662519441 6 4\n",
      "0.7931570762052877 6 5\n",
      "0.7978227060653188 6 6\n",
      "0.7993779160186625 6 7\n",
      "0.7869362363919129 6 8\n",
      "0.8009331259720062 6 9\n",
      "0.7853810264385692 6 10\n",
      "0.7356143079315708 7 1\n",
      "0.749611197511664 7 2\n",
      "0.7993779160186625 7 3\n",
      "0.7916018662519441 7 4\n",
      "0.7931570762052877 7 5\n",
      "0.7962674961119751 7 6\n",
      "0.80248833592535 7 7\n",
      "0.7900466562986003 7 8\n",
      "0.8040435458786936 7 9\n",
      "0.7869362363919129 7 10\n",
      "0.7402799377916018 8 1\n",
      "0.7589424572317263 8 2\n",
      "0.7993779160186625 8 3\n",
      "0.7931570762052877 8 4\n",
      "0.7947122861586314 8 5\n",
      "0.7962674961119751 8 6\n",
      "0.7931570762052877 8 7\n",
      "0.7900466562986003 8 8\n",
      "0.8055987558320373 8 9\n",
      "0.7900466562986003 8 10\n",
      "0.7356143079315708 9 1\n",
      "0.776049766718507 9 2\n",
      "0.7900466562986003 9 3\n",
      "0.7947122861586314 9 4\n",
      "0.7947122861586314 9 5\n",
      "0.7900466562986003 9 6\n",
      "0.7993779160186625 9 7\n",
      "0.7916018662519441 9 8\n",
      "0.8102643856920684 9 9\n",
      "0.7822706065318819 9 10\n",
      "0.7418351477449455 10 1\n",
      "0.7807153965785381 10 2\n",
      "0.7900466562986003 10 3\n",
      "0.7978227060653188 10 4\n",
      "0.7947122861586314 10 5\n",
      "0.7931570762052877 10 6\n",
      "0.807153965785381 10 7\n",
      "0.7962674961119751 10 8\n",
      "0.8087091757387247 10 9\n",
      "0.7884914463452566 10 10\n",
      "Accuracy of the best model on the validation set: 0.8102643856920684 n_estimators: 9 max_depth: 9\n"
     ]
    }
   ],
   "source": [
    "best_model = None\n",
    "best_result = 0\n",
    "best_est = 0\n",
    "best_depth = 0\n",
    "\n",
    "for est in range(1, 11):\n",
    "    for depth in range(1, 11):\n",
    "        forest_model = RandomForestClassifier(random_state=50, n_estimators=est, max_depth=depth)\n",
    "        forest_model.fit(features_train, target_train)\n",
    "        predictions_valid = forest_model.predict(features_valid)\n",
    "        result = accuracy_score(target_valid, predictions_valid)\n",
    "        print(result, est, depth)\n",
    "    \n",
    "        if result > best_result:\n",
    "            best_model = tree_model\n",
    "            best_result = result\n",
    "            best_est = est\n",
    "            best_depth = depth\n",
    "        \n",
    "print('Accuracy of the best model on the validation set:', best_result,\n",
    "      'n_estimators:', best_est, 'max_depth:', best_depth)\n"
   ]
  },
  {
   "cell_type": "markdown",
   "metadata": {},
   "source": [
    "### LogisticRegression"
   ]
  },
  {
   "cell_type": "code",
   "execution_count": 9,
   "metadata": {},
   "outputs": [
    {
     "name": "stdout",
     "output_type": "stream",
     "text": [
      "Accuracy of the best model on the validation set: 0.7356143079315708\n"
     ]
    }
   ],
   "source": [
    "logistic_model = LogisticRegression(random_state=50, solver='lbfgs', max_iter=1000)\n",
    "logistic_model.fit(features_train, target_train)\n",
    "predictions_valid = logistic_model.predict(features_valid)\n",
    "result = accuracy_score(target_valid, predictions_valid)\n",
    "\n",
    "print('Accuracy of the best model on the validation set:', result)"
   ]
  },
  {
   "cell_type": "markdown",
   "metadata": {},
   "source": [
    "### Выводы"
   ]
  },
  {
   "cell_type": "markdown",
   "metadata": {},
   "source": [
    "**Resume**\n",
    "\n",
    "Accuracy of the best Decision Tree model on the validation set: 0.79 Depth of the tree: 5\n",
    "Accuracy of the best Random Forest model on the validation set: 0.81 Number of trees: 9 Tree depth: 9\n",
    "Accuracy of the best Logistic Regression model on the validation set: 0.74\n",
    "\n",
    "The best result shows a RandomForest with hyperparameter max_depth=9 and n_estimators=9."
   ]
  },
  {
   "cell_type": "markdown",
   "metadata": {},
   "source": [
    "## Test"
   ]
  },
  {
   "cell_type": "code",
   "execution_count": 10,
   "metadata": {},
   "outputs": [
    {
     "name": "stdout",
     "output_type": "stream",
     "text": [
      "0.7897196261682243\n"
     ]
    }
   ],
   "source": [
    "forest_model = RandomForestClassifier(random_state=50, n_estimators=9, max_depth=9)\n",
    "forest_model.fit(features_train, target_train)\n",
    "predictions_test = forest_model.predict(features_test)\n",
    "accuracy_test = accuracy_score(target_test, predictions_test)\n",
    "\n",
    "print(accuracy_test)"
   ]
  },
  {
   "cell_type": "markdown",
   "metadata": {},
   "source": [
    "The accuracy of the model on the test set is 0.79"
   ]
  },
  {
   "cell_type": "markdown",
   "metadata": {},
   "source": [
    "## Check models"
   ]
  },
  {
   "cell_type": "markdown",
   "metadata": {},
   "source": [
    "Precision, recall и F-мера"
   ]
  },
  {
   "cell_type": "code",
   "execution_count": 11,
   "metadata": {},
   "outputs": [
    {
     "name": "stdout",
     "output_type": "stream",
     "text": [
      "              precision    recall  f1-score   support\n",
      "\n",
      "   Non-ultra       0.80      0.93      0.86       442\n",
      "       Ultra       0.76      0.48      0.59       200\n",
      "\n",
      "    accuracy                           0.79       642\n",
      "   macro avg       0.78      0.70      0.72       642\n",
      "weighted avg       0.78      0.79      0.77       642\n",
      "\n"
     ]
    }
   ],
   "source": [
    "report = classification_report(target_test, predictions_test, target_names=['Non-ultra', 'Ultra'])\n",
    "print(report)"
   ]
  },
  {
   "cell_type": "code",
   "execution_count": 12,
   "metadata": {},
   "outputs": [
    {
     "data": {
      "text/plain": "0.6884735202492211"
     },
     "execution_count": 12,
     "metadata": {},
     "output_type": "execute_result"
    }
   ],
   "source": [
    "from sklearn.dummy import DummyClassifier\n",
    "\n",
    "dummy_clf = DummyClassifier(strategy=\"most_frequent\")\n",
    "dummy_clf.fit(features_train, target_train)\n",
    "dummy_predict = dummy_clf.predict(features_test)\n",
    "dummy_clf.score(dummy_predict, target_test)"
   ]
  },
  {
   "cell_type": "markdown",
   "metadata": {},
   "source": [
    "## Cocnlusions"
   ]
  },
  {
   "cell_type": "markdown",
   "metadata": {},
   "source": [
    "1) Various classification models were analyzed: Decision Tree, Random Forest, Logistic Regression using various hyperparameters\n",
    "\n",
    "The best result shows a random forest with hyperparameter max_depth=9 and n_estimators=9.\n",
    "Accuracy on validation set: 0.81\n",
    "\n",
    "2) The model was tested on a test sample with the following indicators:\n",
    "\n",
    "- Share of correct answers (accuracy) = 0.79\n",
    "- Precision = 0.78\n",
    "- Recall (recall) = 0.70\n",
    "- F-metric = 0.72\n",
    "\n",
    "We got a fairly good model that well solves the task of determining the appropriate tariff for users."
   ]
  },
  {
   "cell_type": "code",
   "execution_count": 12,
   "outputs": [],
   "source": [],
   "metadata": {
    "collapsed": false
   }
  }
 ],
 "metadata": {
  "ExecuteTimeLog": [
   {
    "duration": 584,
    "start_time": "2022-05-12T11:19:01.262Z"
   },
   {
    "duration": 48,
    "start_time": "2022-05-12T11:19:05.060Z"
   },
   {
    "duration": 27,
    "start_time": "2022-05-12T11:27:35.371Z"
   },
   {
    "duration": 6,
    "start_time": "2022-05-12T11:28:09.282Z"
   },
   {
    "duration": 11,
    "start_time": "2022-05-12T11:31:17.093Z"
   },
   {
    "duration": 59,
    "start_time": "2022-05-14T09:50:21.913Z"
   },
   {
    "duration": 1326,
    "start_time": "2022-05-14T09:50:25.448Z"
   },
   {
    "duration": 9,
    "start_time": "2022-05-14T09:50:29.479Z"
   },
   {
    "duration": 69,
    "start_time": "2022-05-14T09:56:12.049Z"
   },
   {
    "duration": 66,
    "start_time": "2022-05-14T09:56:32.767Z"
   },
   {
    "duration": 64,
    "start_time": "2022-05-14T09:56:48.625Z"
   },
   {
    "duration": 74,
    "start_time": "2022-05-14T09:57:31.202Z"
   },
   {
    "duration": 85,
    "start_time": "2022-05-14T09:59:30.353Z"
   },
   {
    "duration": 68,
    "start_time": "2022-05-14T10:01:50.557Z"
   },
   {
    "duration": 38,
    "start_time": "2022-05-14T10:02:24.953Z"
   },
   {
    "duration": 2001,
    "start_time": "2022-05-14T10:02:27.934Z"
   },
   {
    "duration": 27,
    "start_time": "2022-05-14T10:04:16.339Z"
   },
   {
    "duration": 360,
    "start_time": "2022-05-14T10:07:10.183Z"
   },
   {
    "duration": 669,
    "start_time": "2022-05-14T10:07:25.767Z"
   },
   {
    "duration": 1400,
    "start_time": "2022-05-14T10:07:31.743Z"
   },
   {
    "duration": 1449,
    "start_time": "2022-05-14T10:07:36.991Z"
   },
   {
    "duration": 1976,
    "start_time": "2022-05-14T10:07:43.895Z"
   },
   {
    "duration": 11,
    "start_time": "2022-05-14T10:16:56.969Z"
   },
   {
    "duration": 9,
    "start_time": "2022-05-14T10:17:10.825Z"
   },
   {
    "duration": 11,
    "start_time": "2022-05-14T10:17:20.143Z"
   },
   {
    "duration": 8,
    "start_time": "2022-05-14T10:17:38.350Z"
   },
   {
    "duration": 4,
    "start_time": "2022-05-14T10:17:41.231Z"
   },
   {
    "duration": 4,
    "start_time": "2022-05-14T10:17:50.961Z"
   },
   {
    "duration": 9,
    "start_time": "2022-05-14T10:17:59.133Z"
   },
   {
    "duration": 4,
    "start_time": "2022-05-14T10:18:00.637Z"
   },
   {
    "duration": 5,
    "start_time": "2022-05-14T10:18:01.365Z"
   },
   {
    "duration": 8,
    "start_time": "2022-05-14T10:18:09.884Z"
   },
   {
    "duration": 4,
    "start_time": "2022-05-14T10:18:22.300Z"
   },
   {
    "duration": 4,
    "start_time": "2022-05-14T10:18:34.285Z"
   },
   {
    "duration": 10,
    "start_time": "2022-05-14T10:19:08.588Z"
   },
   {
    "duration": 15,
    "start_time": "2022-05-14T10:19:25.436Z"
   },
   {
    "duration": 3,
    "start_time": "2022-05-14T10:19:26.691Z"
   },
   {
    "duration": 3,
    "start_time": "2022-05-14T10:19:27.125Z"
   },
   {
    "duration": 4,
    "start_time": "2022-05-14T10:19:27.473Z"
   },
   {
    "duration": 3,
    "start_time": "2022-05-14T10:19:27.900Z"
   },
   {
    "duration": 71,
    "start_time": "2022-05-14T10:19:29.782Z"
   },
   {
    "duration": 1811,
    "start_time": "2022-05-14T10:19:30.899Z"
   },
   {
    "duration": 48,
    "start_time": "2022-05-14T10:19:34.426Z"
   },
   {
    "duration": 3,
    "start_time": "2022-05-14T10:19:56.738Z"
   },
   {
    "duration": 10,
    "start_time": "2022-05-14T10:21:08.634Z"
   },
   {
    "duration": 1814,
    "start_time": "2022-05-14T10:21:11.229Z"
   },
   {
    "duration": 13,
    "start_time": "2022-05-14T10:21:33.720Z"
   },
   {
    "duration": 17,
    "start_time": "2022-05-14T10:22:14.096Z"
   },
   {
    "duration": 39,
    "start_time": "2022-05-14T10:22:20.046Z"
   },
   {
    "duration": 40,
    "start_time": "2022-05-14T10:22:30.865Z"
   },
   {
    "duration": 9,
    "start_time": "2022-05-14T10:35:05.360Z"
   },
   {
    "duration": 326,
    "start_time": "2022-05-14T10:35:56.494Z"
   },
   {
    "duration": 10,
    "start_time": "2022-05-14T10:37:01.621Z"
   },
   {
    "duration": 10,
    "start_time": "2022-05-14T10:37:06.458Z"
   },
   {
    "duration": 11,
    "start_time": "2022-05-14T10:37:15.979Z"
   },
   {
    "duration": 549,
    "start_time": "2022-05-14T10:37:38.389Z"
   },
   {
    "duration": 22,
    "start_time": "2022-05-14T10:37:52.860Z"
   },
   {
    "duration": 12,
    "start_time": "2022-05-14T10:40:24.671Z"
   },
   {
    "duration": 12,
    "start_time": "2022-05-14T10:40:34.167Z"
   },
   {
    "duration": 47,
    "start_time": "2022-05-14T10:57:02.349Z"
   },
   {
    "duration": 10,
    "start_time": "2022-05-14T10:57:29.704Z"
   },
   {
    "duration": 15,
    "start_time": "2022-05-14T10:58:51.926Z"
   },
   {
    "duration": 12,
    "start_time": "2022-05-14T10:59:00.354Z"
   },
   {
    "duration": 14,
    "start_time": "2022-05-14T10:59:52.824Z"
   },
   {
    "duration": 10,
    "start_time": "2022-05-14T11:01:25.570Z"
   },
   {
    "duration": 1320,
    "start_time": "2022-05-14T11:02:38.258Z"
   },
   {
    "duration": 11,
    "start_time": "2022-05-14T11:02:39.580Z"
   },
   {
    "duration": 7,
    "start_time": "2022-05-14T11:02:39.592Z"
   },
   {
    "duration": 6,
    "start_time": "2022-05-14T11:02:39.601Z"
   },
   {
    "duration": 6,
    "start_time": "2022-05-14T11:02:39.609Z"
   },
   {
    "duration": 20,
    "start_time": "2022-05-14T11:02:39.616Z"
   },
   {
    "duration": 80,
    "start_time": "2022-05-14T11:02:39.639Z"
   },
   {
    "duration": 2104,
    "start_time": "2022-05-14T11:02:39.735Z"
   },
   {
    "duration": 41,
    "start_time": "2022-05-14T11:02:41.842Z"
   },
   {
    "duration": 55,
    "start_time": "2022-05-14T11:02:41.885Z"
   },
   {
    "duration": 11,
    "start_time": "2022-05-14T11:02:41.943Z"
   },
   {
    "duration": 9,
    "start_time": "2022-05-14T11:21:34.671Z"
   },
   {
    "duration": 1238,
    "start_time": "2022-05-14T11:21:44.360Z"
   },
   {
    "duration": 10,
    "start_time": "2022-05-14T11:21:45.600Z"
   },
   {
    "duration": 7,
    "start_time": "2022-05-14T11:21:45.612Z"
   },
   {
    "duration": 6,
    "start_time": "2022-05-14T11:21:45.621Z"
   },
   {
    "duration": 6,
    "start_time": "2022-05-14T11:21:45.629Z"
   },
   {
    "duration": 5,
    "start_time": "2022-05-14T11:21:45.637Z"
   },
   {
    "duration": 77,
    "start_time": "2022-05-14T11:21:45.644Z"
   },
   {
    "duration": 1819,
    "start_time": "2022-05-14T11:21:45.733Z"
   },
   {
    "duration": 38,
    "start_time": "2022-05-14T11:21:47.553Z"
   },
   {
    "duration": 54,
    "start_time": "2022-05-14T11:21:47.592Z"
   },
   {
    "duration": 8,
    "start_time": "2022-05-14T11:21:47.648Z"
   },
   {
    "duration": 119,
    "start_time": "2022-05-14T11:21:47.658Z"
   },
   {
    "duration": 29,
    "start_time": "2022-05-14T11:22:07.603Z"
   },
   {
    "duration": 1167,
    "start_time": "2022-05-14T11:22:15.484Z"
   },
   {
    "duration": 10,
    "start_time": "2022-05-14T11:22:16.653Z"
   },
   {
    "duration": 1205,
    "start_time": "2022-05-14T11:26:01.157Z"
   },
   {
    "duration": 11,
    "start_time": "2022-05-14T11:26:02.364Z"
   },
   {
    "duration": 22,
    "start_time": "2022-05-14T11:26:02.377Z"
   },
   {
    "duration": 15,
    "start_time": "2022-05-14T11:26:02.401Z"
   },
   {
    "duration": 15,
    "start_time": "2022-05-14T11:26:02.419Z"
   },
   {
    "duration": 15,
    "start_time": "2022-05-14T11:26:02.436Z"
   },
   {
    "duration": 83,
    "start_time": "2022-05-14T11:26:02.453Z"
   },
   {
    "duration": 1759,
    "start_time": "2022-05-14T11:26:02.538Z"
   },
   {
    "duration": 44,
    "start_time": "2022-05-14T11:26:04.299Z"
   },
   {
    "duration": 39,
    "start_time": "2022-05-14T11:26:04.345Z"
   },
   {
    "duration": 9,
    "start_time": "2022-05-14T11:26:04.385Z"
   },
   {
    "duration": 8,
    "start_time": "2022-05-14T11:26:04.396Z"
   },
   {
    "duration": 30,
    "start_time": "2022-05-14T11:26:57.863Z"
   },
   {
    "duration": 111,
    "start_time": "2022-05-14T11:27:46.372Z"
   },
   {
    "duration": 319,
    "start_time": "2022-05-14T11:28:07.451Z"
   },
   {
    "duration": 282,
    "start_time": "2022-05-14T11:29:09.091Z"
   },
   {
    "duration": 209,
    "start_time": "2022-05-14T11:30:11.587Z"
   },
   {
    "duration": 357,
    "start_time": "2022-05-14T11:32:33.879Z"
   },
   {
    "duration": 6,
    "start_time": "2022-05-14T11:46:17.660Z"
   },
   {
    "duration": 144,
    "start_time": "2022-05-14T12:04:56.261Z"
   },
   {
    "duration": 6,
    "start_time": "2022-05-14T12:05:00.126Z"
   },
   {
    "duration": 6,
    "start_time": "2022-05-14T12:05:11.773Z"
   },
   {
    "duration": 1224,
    "start_time": "2022-05-14T12:16:47.844Z"
   },
   {
    "duration": 10,
    "start_time": "2022-05-14T12:16:49.070Z"
   },
   {
    "duration": 20,
    "start_time": "2022-05-14T12:16:49.081Z"
   },
   {
    "duration": 95,
    "start_time": "2022-05-14T12:16:49.103Z"
   },
   {
    "duration": 1810,
    "start_time": "2022-05-14T12:16:49.200Z"
   },
   {
    "duration": 48,
    "start_time": "2022-05-14T12:16:51.011Z"
   },
   {
    "duration": 39,
    "start_time": "2022-05-14T12:16:51.061Z"
   },
   {
    "duration": 8,
    "start_time": "2022-05-14T12:16:51.102Z"
   },
   {
    "duration": 1689,
    "start_time": "2022-05-14T15:07:12.968Z"
   },
   {
    "duration": 17,
    "start_time": "2022-05-14T15:07:14.661Z"
   },
   {
    "duration": 6,
    "start_time": "2022-05-14T15:07:14.680Z"
   },
   {
    "duration": 124,
    "start_time": "2022-05-14T15:07:14.688Z"
   },
   {
    "duration": 2566,
    "start_time": "2022-05-14T15:07:14.815Z"
   },
   {
    "duration": 45,
    "start_time": "2022-05-14T15:07:17.383Z"
   },
   {
    "duration": 71,
    "start_time": "2022-05-14T15:07:17.430Z"
   },
   {
    "duration": 12,
    "start_time": "2022-05-14T15:07:17.503Z"
   },
   {
    "duration": 1980,
    "start_time": "2022-05-14T15:07:23.968Z"
   },
   {
    "duration": 18,
    "start_time": "2022-05-14T15:07:25.951Z"
   },
   {
    "duration": 15,
    "start_time": "2022-05-14T15:07:25.971Z"
   },
   {
    "duration": 166,
    "start_time": "2022-05-14T15:07:25.989Z"
   },
   {
    "duration": 3434,
    "start_time": "2022-05-14T15:07:26.158Z"
   },
   {
    "duration": 63,
    "start_time": "2022-05-14T15:07:29.594Z"
   },
   {
    "duration": 56,
    "start_time": "2022-05-14T15:07:29.662Z"
   },
   {
    "duration": 32,
    "start_time": "2022-05-14T15:07:29.720Z"
   },
   {
    "duration": 68,
    "start_time": "2022-05-15T10:36:07.793Z"
   },
   {
    "duration": 1562,
    "start_time": "2022-05-15T10:36:10.501Z"
   },
   {
    "duration": 28,
    "start_time": "2022-05-15T10:36:15.869Z"
   },
   {
    "duration": 16,
    "start_time": "2022-05-15T10:36:27.716Z"
   },
   {
    "duration": 94,
    "start_time": "2022-05-15T10:39:18.163Z"
   },
   {
    "duration": 1712,
    "start_time": "2022-05-15T10:39:29.207Z"
   },
   {
    "duration": 25,
    "start_time": "2022-05-15T10:39:31.808Z"
   },
   {
    "duration": 16,
    "start_time": "2022-05-15T10:39:32.892Z"
   },
   {
    "duration": 15,
    "start_time": "2022-05-15T10:39:37.880Z"
   },
   {
    "duration": 7,
    "start_time": "2022-05-15T10:39:47.998Z"
   },
   {
    "duration": 105,
    "start_time": "2022-05-15T10:39:54.566Z"
   },
   {
    "duration": 105,
    "start_time": "2022-05-15T10:40:32.327Z"
   },
   {
    "duration": 104,
    "start_time": "2022-05-15T10:43:10.993Z"
   },
   {
    "duration": 921,
    "start_time": "2022-05-15T10:43:35.024Z"
   },
   {
    "duration": 201,
    "start_time": "2022-05-15T10:43:54.322Z"
   },
   {
    "duration": 172,
    "start_time": "2022-05-15T10:44:02.169Z"
   },
   {
    "duration": 188,
    "start_time": "2022-05-15T10:44:07.767Z"
   },
   {
    "duration": 28,
    "start_time": "2022-05-15T10:45:38.304Z"
   },
   {
    "duration": 17,
    "start_time": "2022-05-15T10:45:45.036Z"
   },
   {
    "duration": 17,
    "start_time": "2022-05-15T10:46:07.488Z"
   },
   {
    "duration": 19,
    "start_time": "2022-05-15T10:46:17.001Z"
   },
   {
    "duration": 204,
    "start_time": "2022-05-15T10:46:23.081Z"
   },
   {
    "duration": 19,
    "start_time": "2022-05-15T10:47:14.929Z"
   },
   {
    "duration": 193,
    "start_time": "2022-05-15T10:47:24.425Z"
   },
   {
    "duration": 3148,
    "start_time": "2022-05-15T10:48:13.298Z"
   },
   {
    "duration": 74,
    "start_time": "2022-05-15T10:48:26.672Z"
   },
   {
    "duration": 52,
    "start_time": "2022-05-15T10:48:36.198Z"
   },
   {
    "duration": 13,
    "start_time": "2022-05-15T10:48:40.339Z"
   },
   {
    "duration": 7,
    "start_time": "2022-05-15T10:51:07.060Z"
   },
   {
    "duration": 9,
    "start_time": "2022-05-15T10:51:53.105Z"
   },
   {
    "duration": 6,
    "start_time": "2022-05-15T10:52:05.167Z"
   },
   {
    "duration": 8,
    "start_time": "2022-05-15T10:52:32.383Z"
   },
   {
    "duration": 9,
    "start_time": "2022-05-15T10:53:11.486Z"
   },
   {
    "duration": 9,
    "start_time": "2022-05-15T10:56:01.586Z"
   },
   {
    "duration": 8,
    "start_time": "2022-05-15T10:56:08.137Z"
   },
   {
    "duration": 9,
    "start_time": "2022-05-15T11:04:18.644Z"
   }
  ],
  "kernelspec": {
   "display_name": "Python 3 (ipykernel)",
   "language": "python",
   "name": "python3"
  },
  "language_info": {
   "codemirror_mode": {
    "name": "ipython",
    "version": 3
   },
   "file_extension": ".py",
   "mimetype": "text/x-python",
   "name": "python",
   "nbconvert_exporter": "python",
   "pygments_lexer": "ipython3",
   "version": "3.9.5"
  },
  "toc": {
   "base_numbering": 1,
   "nav_menu": {},
   "number_sections": true,
   "sideBar": true,
   "skip_h1_title": true,
   "title_cell": "Table of Contents",
   "title_sidebar": "Contents",
   "toc_cell": false,
   "toc_position": {},
   "toc_section_display": true,
   "toc_window_display": false
  }
 },
 "nbformat": 4,
 "nbformat_minor": 2
}
