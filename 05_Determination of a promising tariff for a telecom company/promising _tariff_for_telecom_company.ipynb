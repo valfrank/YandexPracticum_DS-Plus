{
 "cells": [
  {
   "cell_type": "markdown",
   "metadata": {},
   "source": [
    "# Determination of a promising tariff for a telecom company"
   ]
  },
  {
   "cell_type": "markdown",
   "metadata": {},
   "source": [
    "Clients are offered two tariff plans: \"Smart\" and \"Ultra\". To adjust the advertising budget, the commercial department of the federal mobile operator wants to understand which tariff brings in more money.\n",
    "\n",
    "**Aim:** Conduct tariff analysis on a sample of mobile operator's clients and identify a more promising tariff.\n",
    "\n",
    "**Main areas of research:**\n",
    "\n",
    "- Analyze what services are used\n",
    "- Highlight services for which the user spends in excess of the monthly fee\n",
    "- Test hypotheses about average revenue from users of different tariffs and different regions\n",
    "\n",
    "**The study contains the following steps:**\n",
    "\n",
    "- Data overview\n",
    "- Data preprocessing\n",
    "- Analysis\n",
    "- Hypothesis testing\n",
    "- Conclusions"
   ]
  },
  {
   "cell_type": "markdown",
   "metadata": {},
   "source": [
    "## Data loading"
   ]
  },
  {
   "cell_type": "code",
   "execution_count": 1,
   "metadata": {},
   "outputs": [],
   "source": [
    "import pandas as pd\n",
    "import matplotlib.pyplot as plt\n",
    "import numpy as np\n",
    "from scipy import stats as st"
   ]
  },
  {
   "cell_type": "code",
   "execution_count": 2,
   "outputs": [],
   "source": [
    "calls = pd.read_csv('calls.csv')\n",
    "internet = pd.read_csv('internet.csv', index_col=0)\n",
    "messages = pd.read_csv('messages.csv')\n",
    "tariffs = pd.read_csv('tariffs.csv')\n",
    "users = pd.read_csv('users.csv')\n"
   ],
   "metadata": {
    "collapsed": false
   }
  },
  {
   "cell_type": "markdown",
   "metadata": {},
   "source": [
    "## Data preprocessing"
   ]
  },
  {
   "cell_type": "markdown",
   "metadata": {},
   "source": [
    "### сalls"
   ]
  },
  {
   "cell_type": "code",
   "execution_count": 3,
   "outputs": [
    {
     "data": {
      "text/plain": "       id   call_date  duration  user_id\n0  1000_0  2018-07-25      0.00     1000\n1  1000_1  2018-08-17      0.00     1000\n2  1000_2  2018-06-11      2.85     1000\n3  1000_3  2018-09-21     13.80     1000\n4  1000_4  2018-12-15      5.18     1000",
      "text/html": "<div>\n<style scoped>\n    .dataframe tbody tr th:only-of-type {\n        vertical-align: middle;\n    }\n\n    .dataframe tbody tr th {\n        vertical-align: top;\n    }\n\n    .dataframe thead th {\n        text-align: right;\n    }\n</style>\n<table border=\"1\" class=\"dataframe\">\n  <thead>\n    <tr style=\"text-align: right;\">\n      <th></th>\n      <th>id</th>\n      <th>call_date</th>\n      <th>duration</th>\n      <th>user_id</th>\n    </tr>\n  </thead>\n  <tbody>\n    <tr>\n      <th>0</th>\n      <td>1000_0</td>\n      <td>2018-07-25</td>\n      <td>0.00</td>\n      <td>1000</td>\n    </tr>\n    <tr>\n      <th>1</th>\n      <td>1000_1</td>\n      <td>2018-08-17</td>\n      <td>0.00</td>\n      <td>1000</td>\n    </tr>\n    <tr>\n      <th>2</th>\n      <td>1000_2</td>\n      <td>2018-06-11</td>\n      <td>2.85</td>\n      <td>1000</td>\n    </tr>\n    <tr>\n      <th>3</th>\n      <td>1000_3</td>\n      <td>2018-09-21</td>\n      <td>13.80</td>\n      <td>1000</td>\n    </tr>\n    <tr>\n      <th>4</th>\n      <td>1000_4</td>\n      <td>2018-12-15</td>\n      <td>5.18</td>\n      <td>1000</td>\n    </tr>\n  </tbody>\n</table>\n</div>"
     },
     "execution_count": 3,
     "metadata": {},
     "output_type": "execute_result"
    }
   ],
   "source": [
    "calls.head()"
   ],
   "metadata": {
    "collapsed": false
   }
  },
  {
   "cell_type": "code",
   "execution_count": 4,
   "metadata": {},
   "outputs": [
    {
     "name": "stdout",
     "output_type": "stream",
     "text": [
      "<class 'pandas.core.frame.DataFrame'>\n",
      "RangeIndex: 202607 entries, 0 to 202606\n",
      "Data columns (total 4 columns):\n",
      " #   Column     Non-Null Count   Dtype  \n",
      "---  ------     --------------   -----  \n",
      " 0   id         202607 non-null  object \n",
      " 1   call_date  202607 non-null  object \n",
      " 2   duration   202607 non-null  float64\n",
      " 3   user_id    202607 non-null  int64  \n",
      "dtypes: float64(1), int64(1), object(2)\n",
      "memory usage: 6.2+ MB\n"
     ]
    }
   ],
   "source": [
    "calls.info()"
   ]
  },
  {
   "cell_type": "markdown",
   "metadata": {},
   "source": [
    "<div style=\"background-color: #F2E0C9\">\n",
    "\n",
    "- 4 columns, no missing values\n",
    "- Convert `call_date` to date format and select a separate month column\n",
    "- In the `duration` column, round all values towards a larger integer and replace 0 with 1, since billing is by minutes.\n",
    "\n",
    "</div>"
   ]
  },
  {
   "cell_type": "code",
   "execution_count": 5,
   "metadata": {},
   "outputs": [],
   "source": [
    "calls['call_date'] = pd.to_datetime(calls['call_date'], format='%Y-%m-%d')"
   ]
  },
  {
   "cell_type": "code",
   "execution_count": 6,
   "metadata": {},
   "outputs": [],
   "source": [
    "calls['month'] = calls['call_date'].astype('datetime64[M]')\n"
   ]
  },
  {
   "cell_type": "code",
   "execution_count": 7,
   "metadata": {},
   "outputs": [
    {
     "data": {
      "text/plain": "       id  call_date  duration  user_id      month\n0  1000_0 2018-07-25       1.0     1000 2018-07-01\n1  1000_1 2018-08-17       1.0     1000 2018-08-01\n2  1000_2 2018-06-11       3.0     1000 2018-06-01\n3  1000_3 2018-09-21      14.0     1000 2018-09-01\n4  1000_4 2018-12-15       6.0     1000 2018-12-01",
      "text/html": "<div>\n<style scoped>\n    .dataframe tbody tr th:only-of-type {\n        vertical-align: middle;\n    }\n\n    .dataframe tbody tr th {\n        vertical-align: top;\n    }\n\n    .dataframe thead th {\n        text-align: right;\n    }\n</style>\n<table border=\"1\" class=\"dataframe\">\n  <thead>\n    <tr style=\"text-align: right;\">\n      <th></th>\n      <th>id</th>\n      <th>call_date</th>\n      <th>duration</th>\n      <th>user_id</th>\n      <th>month</th>\n    </tr>\n  </thead>\n  <tbody>\n    <tr>\n      <th>0</th>\n      <td>1000_0</td>\n      <td>2018-07-25</td>\n      <td>1.0</td>\n      <td>1000</td>\n      <td>2018-07-01</td>\n    </tr>\n    <tr>\n      <th>1</th>\n      <td>1000_1</td>\n      <td>2018-08-17</td>\n      <td>1.0</td>\n      <td>1000</td>\n      <td>2018-08-01</td>\n    </tr>\n    <tr>\n      <th>2</th>\n      <td>1000_2</td>\n      <td>2018-06-11</td>\n      <td>3.0</td>\n      <td>1000</td>\n      <td>2018-06-01</td>\n    </tr>\n    <tr>\n      <th>3</th>\n      <td>1000_3</td>\n      <td>2018-09-21</td>\n      <td>14.0</td>\n      <td>1000</td>\n      <td>2018-09-01</td>\n    </tr>\n    <tr>\n      <th>4</th>\n      <td>1000_4</td>\n      <td>2018-12-15</td>\n      <td>6.0</td>\n      <td>1000</td>\n      <td>2018-12-01</td>\n    </tr>\n  </tbody>\n</table>\n</div>"
     },
     "execution_count": 7,
     "metadata": {},
     "output_type": "execute_result"
    }
   ],
   "source": [
    "calls['duration'] = np.ceil(calls['duration'])\n",
    "calls.loc[calls['duration'] == 0, 'duration'] = 1\n",
    "calls.head()"
   ]
  },
  {
   "cell_type": "markdown",
   "metadata": {},
   "source": [
    "### internet"
   ]
  },
  {
   "cell_type": "code",
   "execution_count": 8,
   "outputs": [
    {
     "data": {
      "text/plain": "       id  mb_used session_date  user_id\n0  1000_0   112.95   2018-11-25     1000\n1  1000_1  1052.81   2018-09-07     1000\n2  1000_2  1197.26   2018-06-25     1000\n3  1000_3   550.27   2018-08-22     1000\n4  1000_4   302.56   2018-09-24     1000",
      "text/html": "<div>\n<style scoped>\n    .dataframe tbody tr th:only-of-type {\n        vertical-align: middle;\n    }\n\n    .dataframe tbody tr th {\n        vertical-align: top;\n    }\n\n    .dataframe thead th {\n        text-align: right;\n    }\n</style>\n<table border=\"1\" class=\"dataframe\">\n  <thead>\n    <tr style=\"text-align: right;\">\n      <th></th>\n      <th>id</th>\n      <th>mb_used</th>\n      <th>session_date</th>\n      <th>user_id</th>\n    </tr>\n  </thead>\n  <tbody>\n    <tr>\n      <th>0</th>\n      <td>1000_0</td>\n      <td>112.95</td>\n      <td>2018-11-25</td>\n      <td>1000</td>\n    </tr>\n    <tr>\n      <th>1</th>\n      <td>1000_1</td>\n      <td>1052.81</td>\n      <td>2018-09-07</td>\n      <td>1000</td>\n    </tr>\n    <tr>\n      <th>2</th>\n      <td>1000_2</td>\n      <td>1197.26</td>\n      <td>2018-06-25</td>\n      <td>1000</td>\n    </tr>\n    <tr>\n      <th>3</th>\n      <td>1000_3</td>\n      <td>550.27</td>\n      <td>2018-08-22</td>\n      <td>1000</td>\n    </tr>\n    <tr>\n      <th>4</th>\n      <td>1000_4</td>\n      <td>302.56</td>\n      <td>2018-09-24</td>\n      <td>1000</td>\n    </tr>\n  </tbody>\n</table>\n</div>"
     },
     "execution_count": 8,
     "metadata": {},
     "output_type": "execute_result"
    }
   ],
   "source": [
    "internet.head()"
   ],
   "metadata": {
    "collapsed": false
   }
  },
  {
   "cell_type": "code",
   "execution_count": 9,
   "metadata": {},
   "outputs": [
    {
     "name": "stdout",
     "output_type": "stream",
     "text": [
      "<class 'pandas.core.frame.DataFrame'>\n",
      "Int64Index: 149396 entries, 0 to 149395\n",
      "Data columns (total 4 columns):\n",
      " #   Column        Non-Null Count   Dtype  \n",
      "---  ------        --------------   -----  \n",
      " 0   id            149396 non-null  object \n",
      " 1   mb_used       149396 non-null  float64\n",
      " 2   session_date  149396 non-null  object \n",
      " 3   user_id       149396 non-null  int64  \n",
      "dtypes: float64(1), int64(1), object(2)\n",
      "memory usage: 5.7+ MB\n"
     ]
    }
   ],
   "source": [
    "internet.info()"
   ]
  },
  {
   "cell_type": "markdown",
   "source": [
    "<div style=\"background-color: #F2E0C9\">\n",
    "\n",
    "- 5 columns, no missing values\n",
    "- Convert `session_date` to date format and select a separate month column\n",
    "- In the `mb_used` column, round all values towards a larger integer and replace 0 with 1, since billing is by Gb.\n",
    "\n",
    "</div>"
   ],
   "metadata": {
    "collapsed": false
   }
  },
  {
   "cell_type": "code",
   "execution_count": 10,
   "metadata": {},
   "outputs": [],
   "source": [
    "internet['session_date'] = pd.to_datetime(internet['session_date'], format='%Y-%m-%d')\n",
    "internet['month'] = internet['session_date'].dt.month"
   ]
  },
  {
   "cell_type": "code",
   "execution_count": 11,
   "metadata": {},
   "outputs": [],
   "source": [
    "internet.loc[internet['mb_used'] == 0, 'mb_used'] = 1"
   ]
  },
  {
   "cell_type": "markdown",
   "metadata": {},
   "source": [
    "### messages"
   ]
  },
  {
   "cell_type": "code",
   "execution_count": 12,
   "outputs": [
    {
     "data": {
      "text/plain": "       id message_date  user_id\n0  1000_0   2018-06-27     1000\n1  1000_1   2018-10-08     1000\n2  1000_2   2018-08-04     1000\n3  1000_3   2018-06-16     1000\n4  1000_4   2018-12-05     1000",
      "text/html": "<div>\n<style scoped>\n    .dataframe tbody tr th:only-of-type {\n        vertical-align: middle;\n    }\n\n    .dataframe tbody tr th {\n        vertical-align: top;\n    }\n\n    .dataframe thead th {\n        text-align: right;\n    }\n</style>\n<table border=\"1\" class=\"dataframe\">\n  <thead>\n    <tr style=\"text-align: right;\">\n      <th></th>\n      <th>id</th>\n      <th>message_date</th>\n      <th>user_id</th>\n    </tr>\n  </thead>\n  <tbody>\n    <tr>\n      <th>0</th>\n      <td>1000_0</td>\n      <td>2018-06-27</td>\n      <td>1000</td>\n    </tr>\n    <tr>\n      <th>1</th>\n      <td>1000_1</td>\n      <td>2018-10-08</td>\n      <td>1000</td>\n    </tr>\n    <tr>\n      <th>2</th>\n      <td>1000_2</td>\n      <td>2018-08-04</td>\n      <td>1000</td>\n    </tr>\n    <tr>\n      <th>3</th>\n      <td>1000_3</td>\n      <td>2018-06-16</td>\n      <td>1000</td>\n    </tr>\n    <tr>\n      <th>4</th>\n      <td>1000_4</td>\n      <td>2018-12-05</td>\n      <td>1000</td>\n    </tr>\n  </tbody>\n</table>\n</div>"
     },
     "execution_count": 12,
     "metadata": {},
     "output_type": "execute_result"
    }
   ],
   "source": [
    "messages.head()"
   ],
   "metadata": {
    "collapsed": false
   }
  },
  {
   "cell_type": "code",
   "execution_count": 13,
   "metadata": {},
   "outputs": [
    {
     "name": "stdout",
     "output_type": "stream",
     "text": [
      "<class 'pandas.core.frame.DataFrame'>\n",
      "RangeIndex: 123036 entries, 0 to 123035\n",
      "Data columns (total 3 columns):\n",
      " #   Column        Non-Null Count   Dtype \n",
      "---  ------        --------------   ----- \n",
      " 0   id            123036 non-null  object\n",
      " 1   message_date  123036 non-null  object\n",
      " 2   user_id       123036 non-null  int64 \n",
      "dtypes: int64(1), object(2)\n",
      "memory usage: 2.8+ MB\n"
     ]
    }
   ],
   "source": [
    "messages.info()"
   ]
  },
  {
   "cell_type": "markdown",
   "source": [
    "<div style=\"background-color: #F2E0C9\">\n",
    "\n",
    "- 3 columns, no missing values\n",
    "- Convert `message_date` to date format and select a separate month column\n",
    "\n",
    "</div>"
   ],
   "metadata": {
    "collapsed": false
   }
  },
  {
   "cell_type": "code",
   "execution_count": 14,
   "metadata": {},
   "outputs": [],
   "source": [
    "messages['message_date'] = pd.to_datetime(messages['message_date'], format='%Y-%m-%d')\n",
    "messages['month'] = messages['message_date'].dt.month"
   ]
  },
  {
   "cell_type": "markdown",
   "metadata": {},
   "source": [
    "### users"
   ]
  },
  {
   "cell_type": "code",
   "execution_count": 15,
   "outputs": [
    {
     "data": {
      "text/plain": "   user_id  age churn_date         city first_name  last_name    reg_date  \\\n0     1000   52        NaN    Краснодар     Рафаил  Верещагин  2018-05-25   \n1     1001   41        NaN       Москва       Иван       Ежов  2018-11-01   \n2     1002   59        NaN  Стерлитамак    Евгений  Абрамович  2018-06-17   \n3     1003   23        NaN       Москва      Белла   Белякова  2018-08-17   \n4     1004   68        NaN  Новокузнецк    Татьяна   Авдеенко  2018-05-14   \n\n  tariff  \n0  ultra  \n1  smart  \n2  smart  \n3  ultra  \n4  ultra  ",
      "text/html": "<div>\n<style scoped>\n    .dataframe tbody tr th:only-of-type {\n        vertical-align: middle;\n    }\n\n    .dataframe tbody tr th {\n        vertical-align: top;\n    }\n\n    .dataframe thead th {\n        text-align: right;\n    }\n</style>\n<table border=\"1\" class=\"dataframe\">\n  <thead>\n    <tr style=\"text-align: right;\">\n      <th></th>\n      <th>user_id</th>\n      <th>age</th>\n      <th>churn_date</th>\n      <th>city</th>\n      <th>first_name</th>\n      <th>last_name</th>\n      <th>reg_date</th>\n      <th>tariff</th>\n    </tr>\n  </thead>\n  <tbody>\n    <tr>\n      <th>0</th>\n      <td>1000</td>\n      <td>52</td>\n      <td>NaN</td>\n      <td>Краснодар</td>\n      <td>Рафаил</td>\n      <td>Верещагин</td>\n      <td>2018-05-25</td>\n      <td>ultra</td>\n    </tr>\n    <tr>\n      <th>1</th>\n      <td>1001</td>\n      <td>41</td>\n      <td>NaN</td>\n      <td>Москва</td>\n      <td>Иван</td>\n      <td>Ежов</td>\n      <td>2018-11-01</td>\n      <td>smart</td>\n    </tr>\n    <tr>\n      <th>2</th>\n      <td>1002</td>\n      <td>59</td>\n      <td>NaN</td>\n      <td>Стерлитамак</td>\n      <td>Евгений</td>\n      <td>Абрамович</td>\n      <td>2018-06-17</td>\n      <td>smart</td>\n    </tr>\n    <tr>\n      <th>3</th>\n      <td>1003</td>\n      <td>23</td>\n      <td>NaN</td>\n      <td>Москва</td>\n      <td>Белла</td>\n      <td>Белякова</td>\n      <td>2018-08-17</td>\n      <td>ultra</td>\n    </tr>\n    <tr>\n      <th>4</th>\n      <td>1004</td>\n      <td>68</td>\n      <td>NaN</td>\n      <td>Новокузнецк</td>\n      <td>Татьяна</td>\n      <td>Авдеенко</td>\n      <td>2018-05-14</td>\n      <td>ultra</td>\n    </tr>\n  </tbody>\n</table>\n</div>"
     },
     "execution_count": 15,
     "metadata": {},
     "output_type": "execute_result"
    }
   ],
   "source": [
    "users.head()"
   ],
   "metadata": {
    "collapsed": false
   }
  },
  {
   "cell_type": "code",
   "execution_count": 16,
   "metadata": {},
   "outputs": [
    {
     "name": "stdout",
     "output_type": "stream",
     "text": [
      "<class 'pandas.core.frame.DataFrame'>\n",
      "RangeIndex: 500 entries, 0 to 499\n",
      "Data columns (total 8 columns):\n",
      " #   Column      Non-Null Count  Dtype \n",
      "---  ------      --------------  ----- \n",
      " 0   user_id     500 non-null    int64 \n",
      " 1   age         500 non-null    int64 \n",
      " 2   churn_date  38 non-null     object\n",
      " 3   city        500 non-null    object\n",
      " 4   first_name  500 non-null    object\n",
      " 5   last_name   500 non-null    object\n",
      " 6   reg_date    500 non-null    object\n",
      " 7   tariff      500 non-null    object\n",
      "dtypes: int64(2), object(6)\n",
      "memory usage: 31.4+ KB\n"
     ]
    }
   ],
   "source": [
    "users.info()"
   ]
  },
  {
   "cell_type": "markdown",
   "source": [
    "<div style=\"background-color: #F2E0C9\">\n",
    "\n",
    "- 8 columns, There are missing values in churn_date\n",
    "- Convert `churn_date` and `reg_date` to date format\n",
    "- Replace smart - 1, ultra - 0 in `tariff`\n",
    "\n",
    "</div>"
   ],
   "metadata": {
    "collapsed": false
   }
  },
  {
   "cell_type": "code",
   "execution_count": 17,
   "metadata": {},
   "outputs": [],
   "source": [
    "users['churn_date'] = pd.to_datetime(users['churn_date'], format='%Y-%m-%d')\n",
    "users['reg_date'] = pd.to_datetime(users['reg_date'], format='%Y-%m-%d')"
   ]
  },
  {
   "cell_type": "code",
   "execution_count": 18,
   "metadata": {},
   "outputs": [],
   "source": [
    "def tariff_id(object):\n",
    "    if object == 'smart':\n",
    "        return 1\n",
    "    elif object == 'ultra':\n",
    "        return 0\n",
    "users['tariff_id'] = users['tariff'].apply(tariff_id)"
   ]
  },
  {
   "cell_type": "markdown",
   "metadata": {},
   "source": [
    "### tarrifs"
   ]
  },
  {
   "cell_type": "code",
   "execution_count": 19,
   "metadata": {},
   "outputs": [
    {
     "name": "stdout",
     "output_type": "stream",
     "text": [
      "<class 'pandas.core.frame.DataFrame'>\n",
      "RangeIndex: 2 entries, 0 to 1\n",
      "Data columns (total 8 columns):\n",
      " #   Column                 Non-Null Count  Dtype \n",
      "---  ------                 --------------  ----- \n",
      " 0   messages_included      2 non-null      int64 \n",
      " 1   mb_per_month_included  2 non-null      int64 \n",
      " 2   minutes_included       2 non-null      int64 \n",
      " 3   rub_monthly_fee        2 non-null      int64 \n",
      " 4   rub_per_gb             2 non-null      int64 \n",
      " 5   rub_per_message        2 non-null      int64 \n",
      " 6   rub_per_minute         2 non-null      int64 \n",
      " 7   tariff_name            2 non-null      object\n",
      "dtypes: int64(7), object(1)\n",
      "memory usage: 256.0+ bytes\n"
     ]
    }
   ],
   "source": [
    "tariffs.info()"
   ]
  },
  {
   "cell_type": "code",
   "execution_count": 20,
   "outputs": [
    {
     "data": {
      "text/plain": "   messages_included  mb_per_month_included  minutes_included  \\\n0                 50                  15360               500   \n1               1000                  30720              3000   \n\n   rub_monthly_fee  rub_per_gb  rub_per_message  rub_per_minute tariff_name  \n0              550         200                3               3       smart  \n1             1950         150                1               1       ultra  ",
      "text/html": "<div>\n<style scoped>\n    .dataframe tbody tr th:only-of-type {\n        vertical-align: middle;\n    }\n\n    .dataframe tbody tr th {\n        vertical-align: top;\n    }\n\n    .dataframe thead th {\n        text-align: right;\n    }\n</style>\n<table border=\"1\" class=\"dataframe\">\n  <thead>\n    <tr style=\"text-align: right;\">\n      <th></th>\n      <th>messages_included</th>\n      <th>mb_per_month_included</th>\n      <th>minutes_included</th>\n      <th>rub_monthly_fee</th>\n      <th>rub_per_gb</th>\n      <th>rub_per_message</th>\n      <th>rub_per_minute</th>\n      <th>tariff_name</th>\n    </tr>\n  </thead>\n  <tbody>\n    <tr>\n      <th>0</th>\n      <td>50</td>\n      <td>15360</td>\n      <td>500</td>\n      <td>550</td>\n      <td>200</td>\n      <td>3</td>\n      <td>3</td>\n      <td>smart</td>\n    </tr>\n    <tr>\n      <th>1</th>\n      <td>1000</td>\n      <td>30720</td>\n      <td>3000</td>\n      <td>1950</td>\n      <td>150</td>\n      <td>1</td>\n      <td>1</td>\n      <td>ultra</td>\n    </tr>\n  </tbody>\n</table>\n</div>"
     },
     "execution_count": 20,
     "metadata": {},
     "output_type": "execute_result"
    }
   ],
   "source": [
    "tariffs.head()"
   ],
   "metadata": {
    "collapsed": false
   }
  },
  {
   "cell_type": "markdown",
   "metadata": {},
   "source": [
    "## Feature engineering"
   ]
  },
  {
   "cell_type": "markdown",
   "metadata": {},
   "source": [
    "For each user it is necessary to calculate:\n",
    "\n",
    "- the number of calls made and spent minutes of conversation by month;\n",
    "- the number of sent messages by month;\n",
    "- volume of Internet traffic by months;\n",
    "- monthly revenue from each user"
   ]
  },
  {
   "cell_type": "code",
   "execution_count": 21,
   "metadata": {},
   "outputs": [
    {
     "data": {
      "text/plain": "                    calls  duration\nuser_id month                      \n1000    2018-05-01     22     164.0\n        2018-06-01     43     187.0\n        2018-07-01     47     346.0\n        2018-08-01     52     418.0\n        2018-09-01     58     478.0\n...                   ...       ...\n1498    2018-10-01     41     258.0\n1499    2018-09-01      9      71.0\n        2018-10-01     68     473.0\n        2018-11-01     74     624.0\n        2018-12-01     69     505.0\n\n[3174 rows x 2 columns]",
      "text/html": "<div>\n<style scoped>\n    .dataframe tbody tr th:only-of-type {\n        vertical-align: middle;\n    }\n\n    .dataframe tbody tr th {\n        vertical-align: top;\n    }\n\n    .dataframe thead th {\n        text-align: right;\n    }\n</style>\n<table border=\"1\" class=\"dataframe\">\n  <thead>\n    <tr style=\"text-align: right;\">\n      <th></th>\n      <th></th>\n      <th>calls</th>\n      <th>duration</th>\n    </tr>\n    <tr>\n      <th>user_id</th>\n      <th>month</th>\n      <th></th>\n      <th></th>\n    </tr>\n  </thead>\n  <tbody>\n    <tr>\n      <th rowspan=\"5\" valign=\"top\">1000</th>\n      <th>2018-05-01</th>\n      <td>22</td>\n      <td>164.0</td>\n    </tr>\n    <tr>\n      <th>2018-06-01</th>\n      <td>43</td>\n      <td>187.0</td>\n    </tr>\n    <tr>\n      <th>2018-07-01</th>\n      <td>47</td>\n      <td>346.0</td>\n    </tr>\n    <tr>\n      <th>2018-08-01</th>\n      <td>52</td>\n      <td>418.0</td>\n    </tr>\n    <tr>\n      <th>2018-09-01</th>\n      <td>58</td>\n      <td>478.0</td>\n    </tr>\n    <tr>\n      <th>...</th>\n      <th>...</th>\n      <td>...</td>\n      <td>...</td>\n    </tr>\n    <tr>\n      <th>1498</th>\n      <th>2018-10-01</th>\n      <td>41</td>\n      <td>258.0</td>\n    </tr>\n    <tr>\n      <th rowspan=\"4\" valign=\"top\">1499</th>\n      <th>2018-09-01</th>\n      <td>9</td>\n      <td>71.0</td>\n    </tr>\n    <tr>\n      <th>2018-10-01</th>\n      <td>68</td>\n      <td>473.0</td>\n    </tr>\n    <tr>\n      <th>2018-11-01</th>\n      <td>74</td>\n      <td>624.0</td>\n    </tr>\n    <tr>\n      <th>2018-12-01</th>\n      <td>69</td>\n      <td>505.0</td>\n    </tr>\n  </tbody>\n</table>\n<p>3174 rows × 2 columns</p>\n</div>"
     },
     "execution_count": 21,
     "metadata": {},
     "output_type": "execute_result"
    }
   ],
   "source": [
    "calls_grouped = calls.pivot_table(values='duration',\n",
    "                                  index=['user_id', 'month'],\n",
    "                                  aggfunc=['count', 'sum'])\n",
    "calls_grouped.columns = ['calls', 'duration']\n",
    "\n",
    "calls_grouped"
   ]
  },
  {
   "cell_type": "code",
   "execution_count": 22,
   "metadata": {},
   "outputs": [
    {
     "data": {
      "text/plain": "               messages\nuser_id month          \n1000    5            22\n        6            60\n        7            75\n        8            81\n        9            57\n...                 ...\n1498    10           42\n1499    9            11\n        10           48\n        11           59\n        12           66\n\n[2717 rows x 1 columns]",
      "text/html": "<div>\n<style scoped>\n    .dataframe tbody tr th:only-of-type {\n        vertical-align: middle;\n    }\n\n    .dataframe tbody tr th {\n        vertical-align: top;\n    }\n\n    .dataframe thead th {\n        text-align: right;\n    }\n</style>\n<table border=\"1\" class=\"dataframe\">\n  <thead>\n    <tr style=\"text-align: right;\">\n      <th></th>\n      <th></th>\n      <th>messages</th>\n    </tr>\n    <tr>\n      <th>user_id</th>\n      <th>month</th>\n      <th></th>\n    </tr>\n  </thead>\n  <tbody>\n    <tr>\n      <th rowspan=\"5\" valign=\"top\">1000</th>\n      <th>5</th>\n      <td>22</td>\n    </tr>\n    <tr>\n      <th>6</th>\n      <td>60</td>\n    </tr>\n    <tr>\n      <th>7</th>\n      <td>75</td>\n    </tr>\n    <tr>\n      <th>8</th>\n      <td>81</td>\n    </tr>\n    <tr>\n      <th>9</th>\n      <td>57</td>\n    </tr>\n    <tr>\n      <th>...</th>\n      <th>...</th>\n      <td>...</td>\n    </tr>\n    <tr>\n      <th>1498</th>\n      <th>10</th>\n      <td>42</td>\n    </tr>\n    <tr>\n      <th rowspan=\"4\" valign=\"top\">1499</th>\n      <th>9</th>\n      <td>11</td>\n    </tr>\n    <tr>\n      <th>10</th>\n      <td>48</td>\n    </tr>\n    <tr>\n      <th>11</th>\n      <td>59</td>\n    </tr>\n    <tr>\n      <th>12</th>\n      <td>66</td>\n    </tr>\n  </tbody>\n</table>\n<p>2717 rows × 1 columns</p>\n</div>"
     },
     "execution_count": 22,
     "metadata": {},
     "output_type": "execute_result"
    }
   ],
   "source": [
    "messages_grouped = messages.pivot_table(values='id',\n",
    "                                  index=['user_id', 'month'],\n",
    "                                  aggfunc='count')\n",
    "messages_grouped.columns = ['messages']\n",
    "\n",
    "messages_grouped"
   ]
  },
  {
   "cell_type": "code",
   "execution_count": 23,
   "metadata": {},
   "outputs": [
    {
     "data": {
      "text/plain": "                     mb\nuser_id month          \n1000    5       2254.49\n        6      23238.77\n        7      14004.64\n        8      14057.93\n        9      14570.91\n...                 ...\n1498    10     20589.36\n1499    9       1846.75\n        10     17803.51\n        11     17973.31\n        12     13060.58\n\n[3203 rows x 1 columns]",
      "text/html": "<div>\n<style scoped>\n    .dataframe tbody tr th:only-of-type {\n        vertical-align: middle;\n    }\n\n    .dataframe tbody tr th {\n        vertical-align: top;\n    }\n\n    .dataframe thead th {\n        text-align: right;\n    }\n</style>\n<table border=\"1\" class=\"dataframe\">\n  <thead>\n    <tr style=\"text-align: right;\">\n      <th></th>\n      <th></th>\n      <th>mb</th>\n    </tr>\n    <tr>\n      <th>user_id</th>\n      <th>month</th>\n      <th></th>\n    </tr>\n  </thead>\n  <tbody>\n    <tr>\n      <th rowspan=\"5\" valign=\"top\">1000</th>\n      <th>5</th>\n      <td>2254.49</td>\n    </tr>\n    <tr>\n      <th>6</th>\n      <td>23238.77</td>\n    </tr>\n    <tr>\n      <th>7</th>\n      <td>14004.64</td>\n    </tr>\n    <tr>\n      <th>8</th>\n      <td>14057.93</td>\n    </tr>\n    <tr>\n      <th>9</th>\n      <td>14570.91</td>\n    </tr>\n    <tr>\n      <th>...</th>\n      <th>...</th>\n      <td>...</td>\n    </tr>\n    <tr>\n      <th>1498</th>\n      <th>10</th>\n      <td>20589.36</td>\n    </tr>\n    <tr>\n      <th rowspan=\"4\" valign=\"top\">1499</th>\n      <th>9</th>\n      <td>1846.75</td>\n    </tr>\n    <tr>\n      <th>10</th>\n      <td>17803.51</td>\n    </tr>\n    <tr>\n      <th>11</th>\n      <td>17973.31</td>\n    </tr>\n    <tr>\n      <th>12</th>\n      <td>13060.58</td>\n    </tr>\n  </tbody>\n</table>\n<p>3203 rows × 1 columns</p>\n</div>"
     },
     "execution_count": 23,
     "metadata": {},
     "output_type": "execute_result"
    }
   ],
   "source": [
    "internet_grouped = internet.pivot_table(values='mb_used',\n",
    "                                        index=['user_id', 'month'],\n",
    "                                        aggfunc='sum')\n",
    "internet_grouped.columns = ['mb']\n",
    "\n",
    "internet_grouped"
   ]
  },
  {
   "cell_type": "code",
   "execution_count": 24,
   "metadata": {},
   "outputs": [
    {
     "data": {
      "text/plain": "     user_id  age churn_date         city first_name  last_name   reg_date  \\\n0       1000   52        NaT    Краснодар     Рафаил  Верещагин 2018-05-25   \n1       1001   41        NaT       Москва       Иван       Ежов 2018-11-01   \n2       1002   59        NaT  Стерлитамак    Евгений  Абрамович 2018-06-17   \n3       1003   23        NaT       Москва      Белла   Белякова 2018-08-17   \n4       1004   68        NaT  Новокузнецк    Татьяна   Авдеенко 2018-05-14   \n..       ...  ...        ...          ...        ...        ...        ...   \n495     1495   65        NaT      Иркутск  Авксентий      Фокин 2018-08-28   \n496     1496   36        NaT      Вологда     Трифон     Блохин 2018-01-27   \n497     1497   32        NaT    Челябинск   Каролина     Агеева 2018-10-09   \n498     1498   68 2018-10-25  Владикавказ   Всеволод    Акимчин 2018-07-19   \n499     1499   35        NaT        Пермь     Гектор   Корнилов 2018-09-27   \n\n    tariff  tariff_id  messages_included  mb_per_month_included  \\\n0    ultra          0               1000                  30720   \n1    smart          1                 50                  15360   \n2    smart          1                 50                  15360   \n3    ultra          0               1000                  30720   \n4    ultra          0               1000                  30720   \n..     ...        ...                ...                    ...   \n495  ultra          0               1000                  30720   \n496  smart          1                 50                  15360   \n497  smart          1                 50                  15360   \n498  smart          1                 50                  15360   \n499  smart          1                 50                  15360   \n\n     minutes_included  rub_monthly_fee  rub_per_gb  rub_per_message  \\\n0                3000             1950         150                1   \n1                 500              550         200                3   \n2                 500              550         200                3   \n3                3000             1950         150                1   \n4                3000             1950         150                1   \n..                ...              ...         ...              ...   \n495              3000             1950         150                1   \n496               500              550         200                3   \n497               500              550         200                3   \n498               500              550         200                3   \n499               500              550         200                3   \n\n     rub_per_minute tariff_name  \n0                 1       ultra  \n1                 3       smart  \n2                 3       smart  \n3                 1       ultra  \n4                 1       ultra  \n..              ...         ...  \n495               1       ultra  \n496               3       smart  \n497               3       smart  \n498               3       smart  \n499               3       smart  \n\n[500 rows x 17 columns]",
      "text/html": "<div>\n<style scoped>\n    .dataframe tbody tr th:only-of-type {\n        vertical-align: middle;\n    }\n\n    .dataframe tbody tr th {\n        vertical-align: top;\n    }\n\n    .dataframe thead th {\n        text-align: right;\n    }\n</style>\n<table border=\"1\" class=\"dataframe\">\n  <thead>\n    <tr style=\"text-align: right;\">\n      <th></th>\n      <th>user_id</th>\n      <th>age</th>\n      <th>churn_date</th>\n      <th>city</th>\n      <th>first_name</th>\n      <th>last_name</th>\n      <th>reg_date</th>\n      <th>tariff</th>\n      <th>tariff_id</th>\n      <th>messages_included</th>\n      <th>mb_per_month_included</th>\n      <th>minutes_included</th>\n      <th>rub_monthly_fee</th>\n      <th>rub_per_gb</th>\n      <th>rub_per_message</th>\n      <th>rub_per_minute</th>\n      <th>tariff_name</th>\n    </tr>\n  </thead>\n  <tbody>\n    <tr>\n      <th>0</th>\n      <td>1000</td>\n      <td>52</td>\n      <td>NaT</td>\n      <td>Краснодар</td>\n      <td>Рафаил</td>\n      <td>Верещагин</td>\n      <td>2018-05-25</td>\n      <td>ultra</td>\n      <td>0</td>\n      <td>1000</td>\n      <td>30720</td>\n      <td>3000</td>\n      <td>1950</td>\n      <td>150</td>\n      <td>1</td>\n      <td>1</td>\n      <td>ultra</td>\n    </tr>\n    <tr>\n      <th>1</th>\n      <td>1001</td>\n      <td>41</td>\n      <td>NaT</td>\n      <td>Москва</td>\n      <td>Иван</td>\n      <td>Ежов</td>\n      <td>2018-11-01</td>\n      <td>smart</td>\n      <td>1</td>\n      <td>50</td>\n      <td>15360</td>\n      <td>500</td>\n      <td>550</td>\n      <td>200</td>\n      <td>3</td>\n      <td>3</td>\n      <td>smart</td>\n    </tr>\n    <tr>\n      <th>2</th>\n      <td>1002</td>\n      <td>59</td>\n      <td>NaT</td>\n      <td>Стерлитамак</td>\n      <td>Евгений</td>\n      <td>Абрамович</td>\n      <td>2018-06-17</td>\n      <td>smart</td>\n      <td>1</td>\n      <td>50</td>\n      <td>15360</td>\n      <td>500</td>\n      <td>550</td>\n      <td>200</td>\n      <td>3</td>\n      <td>3</td>\n      <td>smart</td>\n    </tr>\n    <tr>\n      <th>3</th>\n      <td>1003</td>\n      <td>23</td>\n      <td>NaT</td>\n      <td>Москва</td>\n      <td>Белла</td>\n      <td>Белякова</td>\n      <td>2018-08-17</td>\n      <td>ultra</td>\n      <td>0</td>\n      <td>1000</td>\n      <td>30720</td>\n      <td>3000</td>\n      <td>1950</td>\n      <td>150</td>\n      <td>1</td>\n      <td>1</td>\n      <td>ultra</td>\n    </tr>\n    <tr>\n      <th>4</th>\n      <td>1004</td>\n      <td>68</td>\n      <td>NaT</td>\n      <td>Новокузнецк</td>\n      <td>Татьяна</td>\n      <td>Авдеенко</td>\n      <td>2018-05-14</td>\n      <td>ultra</td>\n      <td>0</td>\n      <td>1000</td>\n      <td>30720</td>\n      <td>3000</td>\n      <td>1950</td>\n      <td>150</td>\n      <td>1</td>\n      <td>1</td>\n      <td>ultra</td>\n    </tr>\n    <tr>\n      <th>...</th>\n      <td>...</td>\n      <td>...</td>\n      <td>...</td>\n      <td>...</td>\n      <td>...</td>\n      <td>...</td>\n      <td>...</td>\n      <td>...</td>\n      <td>...</td>\n      <td>...</td>\n      <td>...</td>\n      <td>...</td>\n      <td>...</td>\n      <td>...</td>\n      <td>...</td>\n      <td>...</td>\n      <td>...</td>\n    </tr>\n    <tr>\n      <th>495</th>\n      <td>1495</td>\n      <td>65</td>\n      <td>NaT</td>\n      <td>Иркутск</td>\n      <td>Авксентий</td>\n      <td>Фокин</td>\n      <td>2018-08-28</td>\n      <td>ultra</td>\n      <td>0</td>\n      <td>1000</td>\n      <td>30720</td>\n      <td>3000</td>\n      <td>1950</td>\n      <td>150</td>\n      <td>1</td>\n      <td>1</td>\n      <td>ultra</td>\n    </tr>\n    <tr>\n      <th>496</th>\n      <td>1496</td>\n      <td>36</td>\n      <td>NaT</td>\n      <td>Вологда</td>\n      <td>Трифон</td>\n      <td>Блохин</td>\n      <td>2018-01-27</td>\n      <td>smart</td>\n      <td>1</td>\n      <td>50</td>\n      <td>15360</td>\n      <td>500</td>\n      <td>550</td>\n      <td>200</td>\n      <td>3</td>\n      <td>3</td>\n      <td>smart</td>\n    </tr>\n    <tr>\n      <th>497</th>\n      <td>1497</td>\n      <td>32</td>\n      <td>NaT</td>\n      <td>Челябинск</td>\n      <td>Каролина</td>\n      <td>Агеева</td>\n      <td>2018-10-09</td>\n      <td>smart</td>\n      <td>1</td>\n      <td>50</td>\n      <td>15360</td>\n      <td>500</td>\n      <td>550</td>\n      <td>200</td>\n      <td>3</td>\n      <td>3</td>\n      <td>smart</td>\n    </tr>\n    <tr>\n      <th>498</th>\n      <td>1498</td>\n      <td>68</td>\n      <td>2018-10-25</td>\n      <td>Владикавказ</td>\n      <td>Всеволод</td>\n      <td>Акимчин</td>\n      <td>2018-07-19</td>\n      <td>smart</td>\n      <td>1</td>\n      <td>50</td>\n      <td>15360</td>\n      <td>500</td>\n      <td>550</td>\n      <td>200</td>\n      <td>3</td>\n      <td>3</td>\n      <td>smart</td>\n    </tr>\n    <tr>\n      <th>499</th>\n      <td>1499</td>\n      <td>35</td>\n      <td>NaT</td>\n      <td>Пермь</td>\n      <td>Гектор</td>\n      <td>Корнилов</td>\n      <td>2018-09-27</td>\n      <td>smart</td>\n      <td>1</td>\n      <td>50</td>\n      <td>15360</td>\n      <td>500</td>\n      <td>550</td>\n      <td>200</td>\n      <td>3</td>\n      <td>3</td>\n      <td>smart</td>\n    </tr>\n  </tbody>\n</table>\n<p>500 rows × 17 columns</p>\n</div>"
     },
     "execution_count": 24,
     "metadata": {},
     "output_type": "execute_result"
    }
   ],
   "source": [
    "total_df = users.merge(tariffs, left_on='tariff', right_on='tariff_name', how='left')\n",
    "total_df"
   ]
  },
  {
   "cell_type": "code",
   "execution_count": 25,
   "metadata": {},
   "outputs": [
    {
     "data": {
      "text/plain": "         calls  duration  messages        mb\nuser_id                                     \n1000      22.0     164.0      22.0   2254.49\n1000      22.0     164.0      22.0  23238.77\n1000      22.0     164.0      22.0  14004.64\n1000      22.0     164.0      22.0  14057.93\n1000      22.0     164.0      22.0  14570.91\n...        ...       ...       ...       ...\n1489       NaN       NaN      35.0  11056.56\n1489       NaN       NaN      35.0  17220.30\n1489       NaN       NaN      35.0  19570.44\n1489       NaN       NaN      35.0  17501.56\n1489       NaN       NaN      35.0  17330.51\n\n[207177 rows x 4 columns]",
      "text/html": "<div>\n<style scoped>\n    .dataframe tbody tr th:only-of-type {\n        vertical-align: middle;\n    }\n\n    .dataframe tbody tr th {\n        vertical-align: top;\n    }\n\n    .dataframe thead th {\n        text-align: right;\n    }\n</style>\n<table border=\"1\" class=\"dataframe\">\n  <thead>\n    <tr style=\"text-align: right;\">\n      <th></th>\n      <th>calls</th>\n      <th>duration</th>\n      <th>messages</th>\n      <th>mb</th>\n    </tr>\n    <tr>\n      <th>user_id</th>\n      <th></th>\n      <th></th>\n      <th></th>\n      <th></th>\n    </tr>\n  </thead>\n  <tbody>\n    <tr>\n      <th>1000</th>\n      <td>22.0</td>\n      <td>164.0</td>\n      <td>22.0</td>\n      <td>2254.49</td>\n    </tr>\n    <tr>\n      <th>1000</th>\n      <td>22.0</td>\n      <td>164.0</td>\n      <td>22.0</td>\n      <td>23238.77</td>\n    </tr>\n    <tr>\n      <th>1000</th>\n      <td>22.0</td>\n      <td>164.0</td>\n      <td>22.0</td>\n      <td>14004.64</td>\n    </tr>\n    <tr>\n      <th>1000</th>\n      <td>22.0</td>\n      <td>164.0</td>\n      <td>22.0</td>\n      <td>14057.93</td>\n    </tr>\n    <tr>\n      <th>1000</th>\n      <td>22.0</td>\n      <td>164.0</td>\n      <td>22.0</td>\n      <td>14570.91</td>\n    </tr>\n    <tr>\n      <th>...</th>\n      <td>...</td>\n      <td>...</td>\n      <td>...</td>\n      <td>...</td>\n    </tr>\n    <tr>\n      <th>1489</th>\n      <td>NaN</td>\n      <td>NaN</td>\n      <td>35.0</td>\n      <td>11056.56</td>\n    </tr>\n    <tr>\n      <th>1489</th>\n      <td>NaN</td>\n      <td>NaN</td>\n      <td>35.0</td>\n      <td>17220.30</td>\n    </tr>\n    <tr>\n      <th>1489</th>\n      <td>NaN</td>\n      <td>NaN</td>\n      <td>35.0</td>\n      <td>19570.44</td>\n    </tr>\n    <tr>\n      <th>1489</th>\n      <td>NaN</td>\n      <td>NaN</td>\n      <td>35.0</td>\n      <td>17501.56</td>\n    </tr>\n    <tr>\n      <th>1489</th>\n      <td>NaN</td>\n      <td>NaN</td>\n      <td>35.0</td>\n      <td>17330.51</td>\n    </tr>\n  </tbody>\n</table>\n<p>207177 rows × 4 columns</p>\n</div>"
     },
     "execution_count": 25,
     "metadata": {},
     "output_type": "execute_result"
    }
   ],
   "source": [
    "from functools import reduce\n",
    "\n",
    "data_frames = [calls_grouped, messages_grouped, internet_grouped]\n",
    "all_data = reduce(lambda  left,right: pd.merge(left,right,on=['user_id'],\n",
    "                                            how='outer'), data_frames)\n",
    "\n",
    "all_data"
   ]
  },
  {
   "cell_type": "code",
   "execution_count": 26,
   "metadata": {},
   "outputs": [
    {
     "data": {
      "text/plain": "        user_id  calls  duration  messages        mb  age churn_date  \\\n0          1000   22.0     164.0      22.0   2254.49   52        NaT   \n1          1000   22.0     164.0      22.0  23238.77   52        NaT   \n2          1000   22.0     164.0      22.0  14004.64   52        NaT   \n3          1000   22.0     164.0      22.0  14057.93   52        NaT   \n4          1000   22.0     164.0      22.0  14570.91   52        NaT   \n...         ...    ...       ...       ...       ...  ...        ...   \n207172     1489    NaN       NaN      35.0  11056.56   35        NaT   \n207173     1489    NaN       NaN      35.0  17220.30   35        NaT   \n207174     1489    NaN       NaN      35.0  19570.44   35        NaT   \n207175     1489    NaN       NaN      35.0  17501.56   35        NaT   \n207176     1489    NaN       NaN      35.0  17330.51   35        NaT   \n\n                   city first_name  last_name  ... tariff tariff_id  \\\n0             Краснодар     Рафаил  Верещагин  ...  ultra         0   \n1             Краснодар     Рафаил  Верещагин  ...  ultra         0   \n2             Краснодар     Рафаил  Верещагин  ...  ultra         0   \n3             Краснодар     Рафаил  Верещагин  ...  ultra         0   \n4             Краснодар     Рафаил  Верещагин  ...  ultra         0   \n...                 ...        ...        ...  ...    ...       ...   \n207172  Санкт-Петербург      Павел   Гончаров  ...  smart         1   \n207173  Санкт-Петербург      Павел   Гончаров  ...  smart         1   \n207174  Санкт-Петербург      Павел   Гончаров  ...  smart         1   \n207175  Санкт-Петербург      Павел   Гончаров  ...  smart         1   \n207176  Санкт-Петербург      Павел   Гончаров  ...  smart         1   \n\n        messages_included  mb_per_month_included  minutes_included  \\\n0                    1000                  30720              3000   \n1                    1000                  30720              3000   \n2                    1000                  30720              3000   \n3                    1000                  30720              3000   \n4                    1000                  30720              3000   \n...                   ...                    ...               ...   \n207172                 50                  15360               500   \n207173                 50                  15360               500   \n207174                 50                  15360               500   \n207175                 50                  15360               500   \n207176                 50                  15360               500   \n\n        rub_monthly_fee  rub_per_gb  rub_per_message  rub_per_minute  \\\n0                  1950         150                1               1   \n1                  1950         150                1               1   \n2                  1950         150                1               1   \n3                  1950         150                1               1   \n4                  1950         150                1               1   \n...                 ...         ...              ...             ...   \n207172              550         200                3               3   \n207173              550         200                3               3   \n207174              550         200                3               3   \n207175              550         200                3               3   \n207176              550         200                3               3   \n\n        tariff_name  \n0             ultra  \n1             ultra  \n2             ultra  \n3             ultra  \n4             ultra  \n...             ...  \n207172        smart  \n207173        smart  \n207174        smart  \n207175        smart  \n207176        smart  \n\n[207177 rows x 21 columns]",
      "text/html": "<div>\n<style scoped>\n    .dataframe tbody tr th:only-of-type {\n        vertical-align: middle;\n    }\n\n    .dataframe tbody tr th {\n        vertical-align: top;\n    }\n\n    .dataframe thead th {\n        text-align: right;\n    }\n</style>\n<table border=\"1\" class=\"dataframe\">\n  <thead>\n    <tr style=\"text-align: right;\">\n      <th></th>\n      <th>user_id</th>\n      <th>calls</th>\n      <th>duration</th>\n      <th>messages</th>\n      <th>mb</th>\n      <th>age</th>\n      <th>churn_date</th>\n      <th>city</th>\n      <th>first_name</th>\n      <th>last_name</th>\n      <th>...</th>\n      <th>tariff</th>\n      <th>tariff_id</th>\n      <th>messages_included</th>\n      <th>mb_per_month_included</th>\n      <th>minutes_included</th>\n      <th>rub_monthly_fee</th>\n      <th>rub_per_gb</th>\n      <th>rub_per_message</th>\n      <th>rub_per_minute</th>\n      <th>tariff_name</th>\n    </tr>\n  </thead>\n  <tbody>\n    <tr>\n      <th>0</th>\n      <td>1000</td>\n      <td>22.0</td>\n      <td>164.0</td>\n      <td>22.0</td>\n      <td>2254.49</td>\n      <td>52</td>\n      <td>NaT</td>\n      <td>Краснодар</td>\n      <td>Рафаил</td>\n      <td>Верещагин</td>\n      <td>...</td>\n      <td>ultra</td>\n      <td>0</td>\n      <td>1000</td>\n      <td>30720</td>\n      <td>3000</td>\n      <td>1950</td>\n      <td>150</td>\n      <td>1</td>\n      <td>1</td>\n      <td>ultra</td>\n    </tr>\n    <tr>\n      <th>1</th>\n      <td>1000</td>\n      <td>22.0</td>\n      <td>164.0</td>\n      <td>22.0</td>\n      <td>23238.77</td>\n      <td>52</td>\n      <td>NaT</td>\n      <td>Краснодар</td>\n      <td>Рафаил</td>\n      <td>Верещагин</td>\n      <td>...</td>\n      <td>ultra</td>\n      <td>0</td>\n      <td>1000</td>\n      <td>30720</td>\n      <td>3000</td>\n      <td>1950</td>\n      <td>150</td>\n      <td>1</td>\n      <td>1</td>\n      <td>ultra</td>\n    </tr>\n    <tr>\n      <th>2</th>\n      <td>1000</td>\n      <td>22.0</td>\n      <td>164.0</td>\n      <td>22.0</td>\n      <td>14004.64</td>\n      <td>52</td>\n      <td>NaT</td>\n      <td>Краснодар</td>\n      <td>Рафаил</td>\n      <td>Верещагин</td>\n      <td>...</td>\n      <td>ultra</td>\n      <td>0</td>\n      <td>1000</td>\n      <td>30720</td>\n      <td>3000</td>\n      <td>1950</td>\n      <td>150</td>\n      <td>1</td>\n      <td>1</td>\n      <td>ultra</td>\n    </tr>\n    <tr>\n      <th>3</th>\n      <td>1000</td>\n      <td>22.0</td>\n      <td>164.0</td>\n      <td>22.0</td>\n      <td>14057.93</td>\n      <td>52</td>\n      <td>NaT</td>\n      <td>Краснодар</td>\n      <td>Рафаил</td>\n      <td>Верещагин</td>\n      <td>...</td>\n      <td>ultra</td>\n      <td>0</td>\n      <td>1000</td>\n      <td>30720</td>\n      <td>3000</td>\n      <td>1950</td>\n      <td>150</td>\n      <td>1</td>\n      <td>1</td>\n      <td>ultra</td>\n    </tr>\n    <tr>\n      <th>4</th>\n      <td>1000</td>\n      <td>22.0</td>\n      <td>164.0</td>\n      <td>22.0</td>\n      <td>14570.91</td>\n      <td>52</td>\n      <td>NaT</td>\n      <td>Краснодар</td>\n      <td>Рафаил</td>\n      <td>Верещагин</td>\n      <td>...</td>\n      <td>ultra</td>\n      <td>0</td>\n      <td>1000</td>\n      <td>30720</td>\n      <td>3000</td>\n      <td>1950</td>\n      <td>150</td>\n      <td>1</td>\n      <td>1</td>\n      <td>ultra</td>\n    </tr>\n    <tr>\n      <th>...</th>\n      <td>...</td>\n      <td>...</td>\n      <td>...</td>\n      <td>...</td>\n      <td>...</td>\n      <td>...</td>\n      <td>...</td>\n      <td>...</td>\n      <td>...</td>\n      <td>...</td>\n      <td>...</td>\n      <td>...</td>\n      <td>...</td>\n      <td>...</td>\n      <td>...</td>\n      <td>...</td>\n      <td>...</td>\n      <td>...</td>\n      <td>...</td>\n      <td>...</td>\n      <td>...</td>\n    </tr>\n    <tr>\n      <th>207172</th>\n      <td>1489</td>\n      <td>NaN</td>\n      <td>NaN</td>\n      <td>35.0</td>\n      <td>11056.56</td>\n      <td>35</td>\n      <td>NaT</td>\n      <td>Санкт-Петербург</td>\n      <td>Павел</td>\n      <td>Гончаров</td>\n      <td>...</td>\n      <td>smart</td>\n      <td>1</td>\n      <td>50</td>\n      <td>15360</td>\n      <td>500</td>\n      <td>550</td>\n      <td>200</td>\n      <td>3</td>\n      <td>3</td>\n      <td>smart</td>\n    </tr>\n    <tr>\n      <th>207173</th>\n      <td>1489</td>\n      <td>NaN</td>\n      <td>NaN</td>\n      <td>35.0</td>\n      <td>17220.30</td>\n      <td>35</td>\n      <td>NaT</td>\n      <td>Санкт-Петербург</td>\n      <td>Павел</td>\n      <td>Гончаров</td>\n      <td>...</td>\n      <td>smart</td>\n      <td>1</td>\n      <td>50</td>\n      <td>15360</td>\n      <td>500</td>\n      <td>550</td>\n      <td>200</td>\n      <td>3</td>\n      <td>3</td>\n      <td>smart</td>\n    </tr>\n    <tr>\n      <th>207174</th>\n      <td>1489</td>\n      <td>NaN</td>\n      <td>NaN</td>\n      <td>35.0</td>\n      <td>19570.44</td>\n      <td>35</td>\n      <td>NaT</td>\n      <td>Санкт-Петербург</td>\n      <td>Павел</td>\n      <td>Гончаров</td>\n      <td>...</td>\n      <td>smart</td>\n      <td>1</td>\n      <td>50</td>\n      <td>15360</td>\n      <td>500</td>\n      <td>550</td>\n      <td>200</td>\n      <td>3</td>\n      <td>3</td>\n      <td>smart</td>\n    </tr>\n    <tr>\n      <th>207175</th>\n      <td>1489</td>\n      <td>NaN</td>\n      <td>NaN</td>\n      <td>35.0</td>\n      <td>17501.56</td>\n      <td>35</td>\n      <td>NaT</td>\n      <td>Санкт-Петербург</td>\n      <td>Павел</td>\n      <td>Гончаров</td>\n      <td>...</td>\n      <td>smart</td>\n      <td>1</td>\n      <td>50</td>\n      <td>15360</td>\n      <td>500</td>\n      <td>550</td>\n      <td>200</td>\n      <td>3</td>\n      <td>3</td>\n      <td>smart</td>\n    </tr>\n    <tr>\n      <th>207176</th>\n      <td>1489</td>\n      <td>NaN</td>\n      <td>NaN</td>\n      <td>35.0</td>\n      <td>17330.51</td>\n      <td>35</td>\n      <td>NaT</td>\n      <td>Санкт-Петербург</td>\n      <td>Павел</td>\n      <td>Гончаров</td>\n      <td>...</td>\n      <td>smart</td>\n      <td>1</td>\n      <td>50</td>\n      <td>15360</td>\n      <td>500</td>\n      <td>550</td>\n      <td>200</td>\n      <td>3</td>\n      <td>3</td>\n      <td>smart</td>\n    </tr>\n  </tbody>\n</table>\n<p>207177 rows × 21 columns</p>\n</div>"
     },
     "execution_count": 26,
     "metadata": {},
     "output_type": "execute_result"
    }
   ],
   "source": [
    "all_data = pd.merge(all_data, total_df, on='user_id')\n",
    "all_data"
   ]
  },
  {
   "cell_type": "code",
   "execution_count": 27,
   "metadata": {},
   "outputs": [
    {
     "data": {
      "text/plain": "        user_id  calls  duration  messages        mb  age churn_date  \\\n0          1000   22.0     164.0      22.0   2254.49   52        NaT   \n1          1000   22.0     164.0      22.0  23238.77   52        NaT   \n2          1000   22.0     164.0      22.0  14004.64   52        NaT   \n3          1000   22.0     164.0      22.0  14057.93   52        NaT   \n4          1000   22.0     164.0      22.0  14570.91   52        NaT   \n...         ...    ...       ...       ...       ...  ...        ...   \n207172     1489    NaN       NaN      35.0  11056.56   35        NaT   \n207173     1489    NaN       NaN      35.0  17220.30   35        NaT   \n207174     1489    NaN       NaN      35.0  19570.44   35        NaT   \n207175     1489    NaN       NaN      35.0  17501.56   35        NaT   \n207176     1489    NaN       NaN      35.0  17330.51   35        NaT   \n\n                   city first_name  last_name  ... tariff_id  \\\n0             Краснодар     Рафаил  Верещагин  ...         0   \n1             Краснодар     Рафаил  Верещагин  ...         0   \n2             Краснодар     Рафаил  Верещагин  ...         0   \n3             Краснодар     Рафаил  Верещагин  ...         0   \n4             Краснодар     Рафаил  Верещагин  ...         0   \n...                 ...        ...        ...  ...       ...   \n207172  Санкт-Петербург      Павел   Гончаров  ...         1   \n207173  Санкт-Петербург      Павел   Гончаров  ...         1   \n207174  Санкт-Петербург      Павел   Гончаров  ...         1   \n207175  Санкт-Петербург      Павел   Гончаров  ...         1   \n207176  Санкт-Петербург      Павел   Гончаров  ...         1   \n\n       messages_included  mb_per_month_included  minutes_included  \\\n0                   1000                  30720              3000   \n1                   1000                  30720              3000   \n2                   1000                  30720              3000   \n3                   1000                  30720              3000   \n4                   1000                  30720              3000   \n...                  ...                    ...               ...   \n207172                50                  15360               500   \n207173                50                  15360               500   \n207174                50                  15360               500   \n207175                50                  15360               500   \n207176                50                  15360               500   \n\n        rub_monthly_fee  rub_per_gb  rub_per_message  rub_per_minute  \\\n0                  1950         150                1               1   \n1                  1950         150                1               1   \n2                  1950         150                1               1   \n3                  1950         150                1               1   \n4                  1950         150                1               1   \n...                 ...         ...              ...             ...   \n207172              550         200                3               3   \n207173              550         200                3               3   \n207174              550         200                3               3   \n207175              550         200                3               3   \n207176              550         200                3               3   \n\n        tariff_name  revenue  \n0             ultra   1950.0  \n1             ultra   1950.0  \n2             ultra   1950.0  \n3             ultra   1950.0  \n4             ultra   1950.0  \n...             ...      ...  \n207172        smart    550.0  \n207173        smart    950.0  \n207174        smart   1550.0  \n207175        smart   1150.0  \n207176        smart    950.0  \n\n[207177 rows x 22 columns]",
      "text/html": "<div>\n<style scoped>\n    .dataframe tbody tr th:only-of-type {\n        vertical-align: middle;\n    }\n\n    .dataframe tbody tr th {\n        vertical-align: top;\n    }\n\n    .dataframe thead th {\n        text-align: right;\n    }\n</style>\n<table border=\"1\" class=\"dataframe\">\n  <thead>\n    <tr style=\"text-align: right;\">\n      <th></th>\n      <th>user_id</th>\n      <th>calls</th>\n      <th>duration</th>\n      <th>messages</th>\n      <th>mb</th>\n      <th>age</th>\n      <th>churn_date</th>\n      <th>city</th>\n      <th>first_name</th>\n      <th>last_name</th>\n      <th>...</th>\n      <th>tariff_id</th>\n      <th>messages_included</th>\n      <th>mb_per_month_included</th>\n      <th>minutes_included</th>\n      <th>rub_monthly_fee</th>\n      <th>rub_per_gb</th>\n      <th>rub_per_message</th>\n      <th>rub_per_minute</th>\n      <th>tariff_name</th>\n      <th>revenue</th>\n    </tr>\n  </thead>\n  <tbody>\n    <tr>\n      <th>0</th>\n      <td>1000</td>\n      <td>22.0</td>\n      <td>164.0</td>\n      <td>22.0</td>\n      <td>2254.49</td>\n      <td>52</td>\n      <td>NaT</td>\n      <td>Краснодар</td>\n      <td>Рафаил</td>\n      <td>Верещагин</td>\n      <td>...</td>\n      <td>0</td>\n      <td>1000</td>\n      <td>30720</td>\n      <td>3000</td>\n      <td>1950</td>\n      <td>150</td>\n      <td>1</td>\n      <td>1</td>\n      <td>ultra</td>\n      <td>1950.0</td>\n    </tr>\n    <tr>\n      <th>1</th>\n      <td>1000</td>\n      <td>22.0</td>\n      <td>164.0</td>\n      <td>22.0</td>\n      <td>23238.77</td>\n      <td>52</td>\n      <td>NaT</td>\n      <td>Краснодар</td>\n      <td>Рафаил</td>\n      <td>Верещагин</td>\n      <td>...</td>\n      <td>0</td>\n      <td>1000</td>\n      <td>30720</td>\n      <td>3000</td>\n      <td>1950</td>\n      <td>150</td>\n      <td>1</td>\n      <td>1</td>\n      <td>ultra</td>\n      <td>1950.0</td>\n    </tr>\n    <tr>\n      <th>2</th>\n      <td>1000</td>\n      <td>22.0</td>\n      <td>164.0</td>\n      <td>22.0</td>\n      <td>14004.64</td>\n      <td>52</td>\n      <td>NaT</td>\n      <td>Краснодар</td>\n      <td>Рафаил</td>\n      <td>Верещагин</td>\n      <td>...</td>\n      <td>0</td>\n      <td>1000</td>\n      <td>30720</td>\n      <td>3000</td>\n      <td>1950</td>\n      <td>150</td>\n      <td>1</td>\n      <td>1</td>\n      <td>ultra</td>\n      <td>1950.0</td>\n    </tr>\n    <tr>\n      <th>3</th>\n      <td>1000</td>\n      <td>22.0</td>\n      <td>164.0</td>\n      <td>22.0</td>\n      <td>14057.93</td>\n      <td>52</td>\n      <td>NaT</td>\n      <td>Краснодар</td>\n      <td>Рафаил</td>\n      <td>Верещагин</td>\n      <td>...</td>\n      <td>0</td>\n      <td>1000</td>\n      <td>30720</td>\n      <td>3000</td>\n      <td>1950</td>\n      <td>150</td>\n      <td>1</td>\n      <td>1</td>\n      <td>ultra</td>\n      <td>1950.0</td>\n    </tr>\n    <tr>\n      <th>4</th>\n      <td>1000</td>\n      <td>22.0</td>\n      <td>164.0</td>\n      <td>22.0</td>\n      <td>14570.91</td>\n      <td>52</td>\n      <td>NaT</td>\n      <td>Краснодар</td>\n      <td>Рафаил</td>\n      <td>Верещагин</td>\n      <td>...</td>\n      <td>0</td>\n      <td>1000</td>\n      <td>30720</td>\n      <td>3000</td>\n      <td>1950</td>\n      <td>150</td>\n      <td>1</td>\n      <td>1</td>\n      <td>ultra</td>\n      <td>1950.0</td>\n    </tr>\n    <tr>\n      <th>...</th>\n      <td>...</td>\n      <td>...</td>\n      <td>...</td>\n      <td>...</td>\n      <td>...</td>\n      <td>...</td>\n      <td>...</td>\n      <td>...</td>\n      <td>...</td>\n      <td>...</td>\n      <td>...</td>\n      <td>...</td>\n      <td>...</td>\n      <td>...</td>\n      <td>...</td>\n      <td>...</td>\n      <td>...</td>\n      <td>...</td>\n      <td>...</td>\n      <td>...</td>\n      <td>...</td>\n    </tr>\n    <tr>\n      <th>207172</th>\n      <td>1489</td>\n      <td>NaN</td>\n      <td>NaN</td>\n      <td>35.0</td>\n      <td>11056.56</td>\n      <td>35</td>\n      <td>NaT</td>\n      <td>Санкт-Петербург</td>\n      <td>Павел</td>\n      <td>Гончаров</td>\n      <td>...</td>\n      <td>1</td>\n      <td>50</td>\n      <td>15360</td>\n      <td>500</td>\n      <td>550</td>\n      <td>200</td>\n      <td>3</td>\n      <td>3</td>\n      <td>smart</td>\n      <td>550.0</td>\n    </tr>\n    <tr>\n      <th>207173</th>\n      <td>1489</td>\n      <td>NaN</td>\n      <td>NaN</td>\n      <td>35.0</td>\n      <td>17220.30</td>\n      <td>35</td>\n      <td>NaT</td>\n      <td>Санкт-Петербург</td>\n      <td>Павел</td>\n      <td>Гончаров</td>\n      <td>...</td>\n      <td>1</td>\n      <td>50</td>\n      <td>15360</td>\n      <td>500</td>\n      <td>550</td>\n      <td>200</td>\n      <td>3</td>\n      <td>3</td>\n      <td>smart</td>\n      <td>950.0</td>\n    </tr>\n    <tr>\n      <th>207174</th>\n      <td>1489</td>\n      <td>NaN</td>\n      <td>NaN</td>\n      <td>35.0</td>\n      <td>19570.44</td>\n      <td>35</td>\n      <td>NaT</td>\n      <td>Санкт-Петербург</td>\n      <td>Павел</td>\n      <td>Гончаров</td>\n      <td>...</td>\n      <td>1</td>\n      <td>50</td>\n      <td>15360</td>\n      <td>500</td>\n      <td>550</td>\n      <td>200</td>\n      <td>3</td>\n      <td>3</td>\n      <td>smart</td>\n      <td>1550.0</td>\n    </tr>\n    <tr>\n      <th>207175</th>\n      <td>1489</td>\n      <td>NaN</td>\n      <td>NaN</td>\n      <td>35.0</td>\n      <td>17501.56</td>\n      <td>35</td>\n      <td>NaT</td>\n      <td>Санкт-Петербург</td>\n      <td>Павел</td>\n      <td>Гончаров</td>\n      <td>...</td>\n      <td>1</td>\n      <td>50</td>\n      <td>15360</td>\n      <td>500</td>\n      <td>550</td>\n      <td>200</td>\n      <td>3</td>\n      <td>3</td>\n      <td>smart</td>\n      <td>1150.0</td>\n    </tr>\n    <tr>\n      <th>207176</th>\n      <td>1489</td>\n      <td>NaN</td>\n      <td>NaN</td>\n      <td>35.0</td>\n      <td>17330.51</td>\n      <td>35</td>\n      <td>NaT</td>\n      <td>Санкт-Петербург</td>\n      <td>Павел</td>\n      <td>Гончаров</td>\n      <td>...</td>\n      <td>1</td>\n      <td>50</td>\n      <td>15360</td>\n      <td>500</td>\n      <td>550</td>\n      <td>200</td>\n      <td>3</td>\n      <td>3</td>\n      <td>smart</td>\n      <td>950.0</td>\n    </tr>\n  </tbody>\n</table>\n<p>207177 rows × 22 columns</p>\n</div>"
     },
     "execution_count": 27,
     "metadata": {},
     "output_type": "execute_result"
    }
   ],
   "source": [
    "# function to calculate monthly revenue from a client\n",
    "def find_revenue(row):\n",
    "    revenue = row['rub_monthly_fee']\n",
    "\n",
    "    if row['duration'] > row['minutes_included']:\n",
    "        revenue += (row['duration'] - row['minutes_included']) * row['rub_per_minute']\n",
    "    if row['messages'] > row['messages_included']:\n",
    "        revenue += (row['messages'] - row['messages_included']) * row['rub_per_message']\n",
    "    if row['mb'] > row['mb_per_month_included']:\n",
    "        revenue += np.ceil((row['mb'] - row['mb_per_month_included']) / 1024) * row['rub_per_gb']\n",
    "\n",
    "    return revenue\n",
    "\n",
    "all_data['revenue'] = all_data.apply(find_revenue, axis=1)\n",
    "\n",
    "all_data"
   ]
  },
  {
   "cell_type": "markdown",
   "metadata": {},
   "source": [
    "##  Data analysis"
   ]
  },
  {
   "cell_type": "code",
   "execution_count": 28,
   "metadata": {},
   "outputs": [],
   "source": [
    "def stat_tarif(column, tariff):\n",
    "\n",
    "    print('Tarif \"' + tariff + '\":')\n",
    "\n",
    "    print('Average:', round(all_data.loc[(all_data['tariff'] == tariff), column].mean(), 0))\n",
    "    print('Mediana:', round(all_data.loc[(all_data['tariff'] == tariff), column].median(), 0))\n",
    "    print('Dispersion:', round(np.var(all_data.loc[(all_data['tariff'] == tariff), column]), 0))\n",
    "    print('Standard deviation:', round(np.std(all_data.loc[(all_data['tariff'] == tariff), column]), 0))\n",
    "\n",
    "    return"
   ]
  },
  {
   "cell_type": "markdown",
   "metadata": {},
   "source": [
    "### Call duration analysis"
   ]
  },
  {
   "cell_type": "code",
   "execution_count": 29,
   "metadata": {},
   "outputs": [
    {
     "name": "stdout",
     "output_type": "stream",
     "text": [
      "Tarif \"smart\":\n",
      "Average: 429.0\n",
      "Mediana: 449.0\n",
      "Dispersion: 35399.0\n",
      "Standard deviation: 188.0\n"
     ]
    }
   ],
   "source": [
    "minutes_smart = stat_tarif('duration', 'smart')"
   ]
  },
  {
   "cell_type": "code",
   "execution_count": 30,
   "metadata": {},
   "outputs": [
    {
     "name": "stdout",
     "output_type": "stream",
     "text": [
      "Tarif \"ultra\":\n",
      "Average: 584.0\n",
      "Mediana: 566.0\n",
      "Dispersion: 93782.0\n",
      "Standard deviation: 306.0\n"
     ]
    }
   ],
   "source": [
    "minutes_ultra = stat_tarif('duration', 'ultra')"
   ]
  },
  {
   "cell_type": "code",
   "execution_count": 31,
   "metadata": {},
   "outputs": [
    {
     "data": {
      "text/plain": "<Figure size 432x288 with 1 Axes>",
      "image/png": "[encoded data removed]"
     },
     "metadata": {
      "needs_background": "light"
     },
     "output_type": "display_data"
    }
   ],
   "source": [
    "all_data[all_data['tariff'] == 'smart']['duration'].hist(bins=30, density=True, label='smart')\n",
    "all_data[all_data['tariff'] == 'ultra']['duration'].hist(bins=30, density=True, alpha=0.6, label='ultra')\n",
    "\n",
    "plt.title('Talk time distribution density, min')\n",
    "plt.xlabel('Talk time, min')\n",
    "plt.ylabel('Density')\n",
    "plt.legend(loc=\"upper right\", frameon=False)\n",
    "\n",
    "plt.show()"
   ]
  },
  {
   "cell_type": "markdown",
   "metadata": {},
   "source": [
    "<div style=\"background-color: #F2E0C9\">\n",
    "\n",
    "- For the *Smart* tariff, the distribution is normal with a maximum of around 500 minutes. It is important to note that many users spend minutes over the tariff limit (500 min)\n",
    "- For the *Ultra* tariff, the distribution is smoother, there is no obvious peak. Compared to Smart, more people spend up to 250 minutes and more than 750 minutes.\n",
    "\n",
    "</div>"
   ]
  },
  {
   "cell_type": "markdown",
   "metadata": {},
   "source": [
    " ### Analysis of the number of messages"
   ]
  },
  {
   "cell_type": "code",
   "execution_count": 32,
   "metadata": {},
   "outputs": [
    {
     "name": "stdout",
     "output_type": "stream",
     "text": [
      "Tarif \"smart\":\n",
      "Average: 39.0\n",
      "Mediana: 35.0\n",
      "Dispersion: 661.0\n",
      "Standard deviation: 26.0\n"
     ]
    }
   ],
   "source": [
    "messages_smart = stat_tarif('messages', 'smart')"
   ]
  },
  {
   "cell_type": "code",
   "execution_count": 33,
   "metadata": {},
   "outputs": [
    {
     "name": "stdout",
     "output_type": "stream",
     "text": [
      "Tarif \"ultra\":\n",
      "Average: 57.0\n",
      "Mediana: 49.0\n",
      "Dispersion: 1818.0\n",
      "Standard deviation: 43.0\n"
     ]
    }
   ],
   "source": [
    "messages_ultra = stat_tarif('messages', 'ultra')"
   ]
  },
  {
   "cell_type": "code",
   "execution_count": 34,
   "metadata": {},
   "outputs": [
    {
     "data": {
      "text/plain": "<Figure size 432x288 with 1 Axes>",
      "image/png": "[encoded data removed]"
     },
     "metadata": {
      "needs_background": "light"
     },
     "output_type": "display_data"
    }
   ],
   "source": [
    "all_data[all_data['tariff'] == 'smart']['messages'].hist(bins=20, density=True, label='smart')\n",
    "all_data[all_data['tariff'] == 'ultra']['messages'].hist(bins=20, density=True, alpha=0.6, label='ultra')\n",
    "\n",
    "plt.title('Message Density')\n",
    "plt.xlabel('Number of messages')\n",
    "plt.ylabel('Density')\n",
    "plt.legend(loc=\"upper right\", frameon=False)\n",
    "\n",
    "plt.show()"
   ]
  },
  {
   "cell_type": "markdown",
   "metadata": {},
   "source": [
    "<div style=\"background-color: #F2E0C9\">\n",
    "\n",
    "- The data distributions are close to the Poisson distribution.\n",
    "- Users of the *Smart* tariff send an average of 39 sms, which does not exceed the limit of 50. Although there are users who send more than 100.\n",
    "- Users of the *Ultra* tariff send an average of 62 messages. In general, more users send a large number of SMS per month.\n",
    "\n",
    "</div>"
   ]
  },
  {
   "cell_type": "markdown",
   "metadata": {},
   "source": [
    "### Internet usage analysis"
   ]
  },
  {
   "cell_type": "code",
   "execution_count": 35,
   "metadata": {},
   "outputs": [
    {
     "name": "stdout",
     "output_type": "stream",
     "text": [
      "Tarif \"smart\":\n",
      "Average: 16034.0\n",
      "Mediana: 16296.0\n",
      "Dispersion: 30461581.0\n",
      "Standard deviation: 5519.0\n"
     ]
    }
   ],
   "source": [
    "internet_smart = stat_tarif('mb', 'smart')"
   ]
  },
  {
   "cell_type": "code",
   "execution_count": 36,
   "metadata": {},
   "outputs": [
    {
     "name": "stdout",
     "output_type": "stream",
     "text": [
      "Tarif \"ultra\":\n",
      "Average: 19729.0\n",
      "Mediana: 19461.0\n",
      "Dispersion: 86148373.0\n",
      "Standard deviation: 9282.0\n"
     ]
    }
   ],
   "source": [
    "internet_ultra = stat_tarif('mb', 'ultra')"
   ]
  },
  {
   "cell_type": "code",
   "execution_count": 37,
   "metadata": {},
   "outputs": [
    {
     "data": {
      "text/plain": "<Figure size 432x288 with 1 Axes>",
      "image/png": "[encoded data removed]"
     },
     "metadata": {
      "needs_background": "light"
     },
     "output_type": "display_data"
    }
   ],
   "source": [
    "all_data[all_data['tariff'] == 'smart']['mb'].hist(bins=20, density=True, label='smart')\n",
    "all_data[all_data['tariff'] == 'ultra']['mb'].hist(bins=20, density=True, alpha=0.6, label='ultra')\n",
    "\n",
    "plt.title('Internet used density')\n",
    "plt.xlabel('Megabyte')\n",
    "plt.ylabel('Density')\n",
    "plt.legend(loc=\"upper right\", frameon=False)\n",
    "\n",
    "plt.show()"
   ]
  },
  {
   "cell_type": "markdown",
   "metadata": {},
   "source": [
    "<div style=\"background-color: #F2E0C9\">\n",
    "\n",
    "- Distribution for both types of tariffs is normal. Both there and there there is a small part of users who do not use the Internet at all.\n",
    "- Users of the *Smart* tariff spend an average of 16 GB, which is slightly more than the established limit. At the same time, half of the users spend more than the limit.\n",
    "- Users of the *Ultra* tariff spend an average of 19 GB. There is no clear peak in the distribution. Users in general use more internet. There is a small peak at the 30 GB limit.\n",
    "\n",
    "</div>"
   ]
  },
  {
   "cell_type": "markdown",
   "metadata": {},
   "source": [
    "### Analysis of user spending within the tariff"
   ]
  },
  {
   "cell_type": "code",
   "execution_count": 38,
   "metadata": {},
   "outputs": [
    {
     "data": {
      "text/plain": "             revenue    duration  messages            mb\nuser_id                                                 \n1001      950.000000  437.000000       NaN  16240.000000\n1002     1035.714286  223.000000      10.0  16586.931429\n1005      862.000000  564.333333      46.0   8310.442500\n1006      931.818182  326.818182       NaN  14935.346364\n1007      932.777778  501.111111      25.0  14634.407778\n...              ...         ...       ...           ...\n1494      996.000000  398.600000       NaN  15404.832000\n1496     2392.833333  512.083333      39.0  22590.274167\n1497      947.333333  483.666667      17.0  15196.990000\n1498     1659.000000  331.750000      42.0  18616.555000\n1499      965.500000  418.250000      46.0  12671.037500\n\n[350 rows x 4 columns]",
      "text/html": "<div>\n<style scoped>\n    .dataframe tbody tr th:only-of-type {\n        vertical-align: middle;\n    }\n\n    .dataframe tbody tr th {\n        vertical-align: top;\n    }\n\n    .dataframe thead th {\n        text-align: right;\n    }\n</style>\n<table border=\"1\" class=\"dataframe\">\n  <thead>\n    <tr style=\"text-align: right;\">\n      <th></th>\n      <th>revenue</th>\n      <th>duration</th>\n      <th>messages</th>\n      <th>mb</th>\n    </tr>\n    <tr>\n      <th>user_id</th>\n      <th></th>\n      <th></th>\n      <th></th>\n      <th></th>\n    </tr>\n  </thead>\n  <tbody>\n    <tr>\n      <th>1001</th>\n      <td>950.000000</td>\n      <td>437.000000</td>\n      <td>NaN</td>\n      <td>16240.000000</td>\n    </tr>\n    <tr>\n      <th>1002</th>\n      <td>1035.714286</td>\n      <td>223.000000</td>\n      <td>10.0</td>\n      <td>16586.931429</td>\n    </tr>\n    <tr>\n      <th>1005</th>\n      <td>862.000000</td>\n      <td>564.333333</td>\n      <td>46.0</td>\n      <td>8310.442500</td>\n    </tr>\n    <tr>\n      <th>1006</th>\n      <td>931.818182</td>\n      <td>326.818182</td>\n      <td>NaN</td>\n      <td>14935.346364</td>\n    </tr>\n    <tr>\n      <th>1007</th>\n      <td>932.777778</td>\n      <td>501.111111</td>\n      <td>25.0</td>\n      <td>14634.407778</td>\n    </tr>\n    <tr>\n      <th>...</th>\n      <td>...</td>\n      <td>...</td>\n      <td>...</td>\n      <td>...</td>\n    </tr>\n    <tr>\n      <th>1494</th>\n      <td>996.000000</td>\n      <td>398.600000</td>\n      <td>NaN</td>\n      <td>15404.832000</td>\n    </tr>\n    <tr>\n      <th>1496</th>\n      <td>2392.833333</td>\n      <td>512.083333</td>\n      <td>39.0</td>\n      <td>22590.274167</td>\n    </tr>\n    <tr>\n      <th>1497</th>\n      <td>947.333333</td>\n      <td>483.666667</td>\n      <td>17.0</td>\n      <td>15196.990000</td>\n    </tr>\n    <tr>\n      <th>1498</th>\n      <td>1659.000000</td>\n      <td>331.750000</td>\n      <td>42.0</td>\n      <td>18616.555000</td>\n    </tr>\n    <tr>\n      <th>1499</th>\n      <td>965.500000</td>\n      <td>418.250000</td>\n      <td>46.0</td>\n      <td>12671.037500</td>\n    </tr>\n  </tbody>\n</table>\n<p>350 rows × 4 columns</p>\n</div>"
     },
     "execution_count": 38,
     "metadata": {},
     "output_type": "execute_result"
    }
   ],
   "source": [
    "smart = all_data[all_data['tariff'] == 'smart'].groupby(['user_id']).agg(\n",
    "    {'revenue': 'mean',\n",
    "     'duration': 'mean',\n",
    "     'messages': 'mean',\n",
    "     'mb': 'mean'})\n",
    "smart"
   ]
  },
  {
   "cell_type": "code",
   "execution_count": 39,
   "metadata": {},
   "outputs": [
    {
     "name": "stdout",
     "output_type": "stream",
     "text": [
      "Number of users with subscription fee only: 17\n",
      "Percentage of users exceeding the limit by minutes: 0.37\n",
      "Percentage of users exceeding the SMS limit: 0.27\n",
      "Percentage of users exceeding the GB limit: 0.71\n",
      "Total revenue from the tariff per month: 470529.0\n"
     ]
    }
   ],
   "source": [
    "print('Number of users with subscription fee only:', len(smart[smart['revenue'] == 550]))\n",
    "print('Percentage of users exceeding the limit by minutes:', round((len(smart[smart['duration']  > 500]) / 301), 2))\n",
    "print('Percentage of users exceeding the SMS limit:', round((len(smart[smart['messages']  > 50]) / 301), 2))\n",
    "print('Percentage of users exceeding the GB limit:', round((len(smart[smart['mb']  > 15375]) / 301), 2))\n",
    "print('Total revenue from the tariff per month:', np.ceil(smart['revenue'].sum()))"
   ]
  },
  {
   "cell_type": "code",
   "execution_count": 40,
   "metadata": {},
   "outputs": [
    {
     "data": {
      "text/plain": "         revenue    duration  messages            mb\nuser_id                                             \n1000      1950.0  330.125000    62.000  13425.788750\n1003      1950.0  782.800000    76.000  11456.528000\n1004      1950.0  128.000000   149.000  18632.685000\n1013      1950.0  486.000000    21.000  15261.580000\n1016      1950.0   64.000000    71.000  13405.720000\n...          ...         ...       ...           ...\n1476      1950.0  536.375000     5.625  16699.990000\n1485      1950.0  606.000000   155.000  23425.760000\n1491      1950.0  526.888889    48.000  17942.137778\n1493      2850.0  383.000000    47.000  27210.685000\n1495      2310.0  803.800000    68.000  25484.112000\n\n[148 rows x 4 columns]",
      "text/html": "<div>\n<style scoped>\n    .dataframe tbody tr th:only-of-type {\n        vertical-align: middle;\n    }\n\n    .dataframe tbody tr th {\n        vertical-align: top;\n    }\n\n    .dataframe thead th {\n        text-align: right;\n    }\n</style>\n<table border=\"1\" class=\"dataframe\">\n  <thead>\n    <tr style=\"text-align: right;\">\n      <th></th>\n      <th>revenue</th>\n      <th>duration</th>\n      <th>messages</th>\n      <th>mb</th>\n    </tr>\n    <tr>\n      <th>user_id</th>\n      <th></th>\n      <th></th>\n      <th></th>\n      <th></th>\n    </tr>\n  </thead>\n  <tbody>\n    <tr>\n      <th>1000</th>\n      <td>1950.0</td>\n      <td>330.125000</td>\n      <td>62.000</td>\n      <td>13425.788750</td>\n    </tr>\n    <tr>\n      <th>1003</th>\n      <td>1950.0</td>\n      <td>782.800000</td>\n      <td>76.000</td>\n      <td>11456.528000</td>\n    </tr>\n    <tr>\n      <th>1004</th>\n      <td>1950.0</td>\n      <td>128.000000</td>\n      <td>149.000</td>\n      <td>18632.685000</td>\n    </tr>\n    <tr>\n      <th>1013</th>\n      <td>1950.0</td>\n      <td>486.000000</td>\n      <td>21.000</td>\n      <td>15261.580000</td>\n    </tr>\n    <tr>\n      <th>1016</th>\n      <td>1950.0</td>\n      <td>64.000000</td>\n      <td>71.000</td>\n      <td>13405.720000</td>\n    </tr>\n    <tr>\n      <th>...</th>\n      <td>...</td>\n      <td>...</td>\n      <td>...</td>\n      <td>...</td>\n    </tr>\n    <tr>\n      <th>1476</th>\n      <td>1950.0</td>\n      <td>536.375000</td>\n      <td>5.625</td>\n      <td>16699.990000</td>\n    </tr>\n    <tr>\n      <th>1485</th>\n      <td>1950.0</td>\n      <td>606.000000</td>\n      <td>155.000</td>\n      <td>23425.760000</td>\n    </tr>\n    <tr>\n      <th>1491</th>\n      <td>1950.0</td>\n      <td>526.888889</td>\n      <td>48.000</td>\n      <td>17942.137778</td>\n    </tr>\n    <tr>\n      <th>1493</th>\n      <td>2850.0</td>\n      <td>383.000000</td>\n      <td>47.000</td>\n      <td>27210.685000</td>\n    </tr>\n    <tr>\n      <th>1495</th>\n      <td>2310.0</td>\n      <td>803.800000</td>\n      <td>68.000</td>\n      <td>25484.112000</td>\n    </tr>\n  </tbody>\n</table>\n<p>148 rows × 4 columns</p>\n</div>"
     },
     "execution_count": 40,
     "metadata": {},
     "output_type": "execute_result"
    }
   ],
   "source": [
    "ultra = all_data[all_data['tariff'] == 'ultra'].groupby(['user_id']).agg(\n",
    "    {'revenue': 'mean',\n",
    "     'duration': 'mean',\n",
    "     'messages': 'mean',\n",
    "     'mb': 'mean'})\n",
    "ultra"
   ]
  },
  {
   "cell_type": "code",
   "execution_count": 41,
   "metadata": {},
   "outputs": [
    {
     "name": "stdout",
     "output_type": "stream",
     "text": [
      "Number of users with subscription fee only: 105\n",
      "Percentage of users exceeding the limit by minutes: 0.0\n",
      "Percentage of users exceeding the SMS limit: 0.0\n",
      "Percentage of users exceeding the GB limit: 0.14\n",
      "Total revenue from the tariff per month: 308814.0\n"
     ]
    }
   ],
   "source": [
    "print('Number of users with subscription fee only:', len(ultra[ultra['revenue'] == 1950]))\n",
    "print('Percentage of users exceeding the limit by minutes:', round((len(ultra[ultra['duration']  > 3000]) / 118), 2))\n",
    "print('Percentage of users exceeding the SMS limit:', round((len(ultra[ultra['messages']  > 1000]) / 118), 2))\n",
    "print('Percentage of users exceeding the GB limit:', round((len(ultra[ultra['mb']  > 30750]) / 118), 2))\n",
    "print('Total revenue from the tariff per month:', np.ceil(ultra['revenue'].sum()))"
   ]
  },
  {
   "cell_type": "markdown",
   "metadata": {},
   "source": [
    "<div style=\"background-color: #F2E0C9\">\n",
    "\n",
    "- Among the users of both tariffs there are those who exceed the limits for minutes, messages and GB.\n",
    "- For *Smart* explicit peaks are highlighted on the values corresponding to the limits. This says that users keep track of how much they spend. The more expensive *Ultra* tariff is characterized by a smoother distribution, without obvious peaks.\n",
    "- The total revenue of the *Smart* tariff is higher.\n",
    "- Basically, users spend more for the Internet.\n",
    "\n",
    "</div>"
   ]
  },
  {
   "cell_type": "markdown",
   "metadata": {},
   "source": [
    "## Hypothesis testing"
   ]
  },
  {
   "cell_type": "markdown",
   "metadata": {},
   "source": [
    "### Hypothesis about the revenue of two tariffs"
   ]
  },
  {
   "cell_type": "markdown",
   "metadata": {},
   "source": [
    "*H0:* the average revenue of users of the Ultra and Smart tariffs do not differ\n",
    "\n",
    "*H1:* The average revenue of Ultra and Smart users is different"
   ]
  },
  {
   "cell_type": "code",
   "execution_count": 42,
   "metadata": {},
   "outputs": [
    {
     "name": "stdout",
     "output_type": "stream",
     "text": [
      "p-value: 0.0\n",
      "Rejecting the null hypothesis\n"
     ]
    }
   ],
   "source": [
    "smart_revenue = all_data[all_data['tariff'] == 'smart']['revenue']\n",
    "ultra_revenue = all_data[all_data['tariff'] == 'ultra']['revenue']\n",
    "alpha = .05\n",
    "\n",
    "results = st.ttest_ind(\n",
    "    smart_revenue,\n",
    "    ultra_revenue)\n",
    "\n",
    "print('p-value:', results.pvalue)\n",
    "\n",
    "if results.pvalue < alpha:\n",
    "    print(\"Rejecting the null hypothesis\")\n",
    "else:\n",
    "    print(\"Failed to reject the null hypothesis\")"
   ]
  },
  {
   "cell_type": "code",
   "execution_count": 43,
   "metadata": {},
   "outputs": [
    {
     "name": "stdout",
     "output_type": "stream",
     "text": [
      "Average revenue from \"Smart\" users: 1254.0\n",
      "Average revenue from \"Ultra\" users: 2036.0\n"
     ]
    }
   ],
   "source": [
    "print('Average revenue from \"Smart\" users:', np.ceil(smart_revenue.mean()))\n",
    "print('Average revenue from \"Ultra\" users:', np.ceil(ultra_revenue.mean()))"
   ]
  },
  {
   "cell_type": "markdown",
   "metadata": {},
   "source": [
    "<div style=\"background-color: #F2E0C9\">\n",
    "\n",
    " **Resume**\n",
    "\n",
    "- Based on testing hypotheses, we can say that the average revenue from tariff users is different.\n",
    "- Users of the *Smart* tariff pay almost twice as much as the cost of the tariff itself. This means that they often go beyond the limits of the tariff.\n",
    "- Users of the *Ultra* tariff, on average, pay almost only the subscription fee for the tariff. However, this is still more than the revenue from the *Smart* tariff.\n",
    "\n",
    "</div>"
   ]
  },
  {
   "cell_type": "markdown",
   "metadata": {},
   "source": [
    "### Hypothesis about revenue from users in different regions"
   ]
  },
  {
   "cell_type": "markdown",
   "metadata": {},
   "source": [
    "*H0*: The average revenue of users from Moscow does not differ from the revenue of users from other regions.\n",
    "\n",
    "*H1*: The average revenue of users from Moscow differs from the revenue of users from other regions."
   ]
  },
  {
   "cell_type": "code",
   "execution_count": 44,
   "metadata": {},
   "outputs": [
    {
     "name": "stdout",
     "output_type": "stream",
     "text": [
      "p-value: 9.032872630444846e-158\n",
      "Rejecting the null hypothesis\n"
     ]
    }
   ],
   "source": [
    "moscow_revenue = all_data[all_data['city'] == 'Москва']['revenue']\n",
    "region_revenue = all_data[all_data['city'] != 'Москва']['revenue']\n",
    "alpha = .05\n",
    "\n",
    "results = st.ttest_ind(\n",
    "    moscow_revenue,\n",
    "    region_revenue\n",
    ")\n",
    "\n",
    "print('p-value:', results.pvalue)\n",
    "\n",
    "if results.pvalue < alpha:\n",
    "    print(\"Rejecting the null hypothesis\")\n",
    "else:\n",
    "    print(\"Failed to reject the null hypothesis\")"
   ]
  },
  {
   "cell_type": "code",
   "execution_count": 45,
   "metadata": {},
   "outputs": [
    {
     "name": "stdout",
     "output_type": "stream",
     "text": [
      "Average revenue from users in Moscow: 1563.0\n",
      "Average revenue from users from other regions: 1450.0\n"
     ]
    }
   ],
   "source": [
    "print('Average revenue from users in Moscow:', np.ceil(moscow_revenue.mean()))\n",
    "print('Average revenue from users from other regions:', np.ceil(region_revenue.mean()))"
   ]
  },
  {
   "cell_type": "markdown",
   "metadata": {},
   "source": [
    "<div style=\"background-color: #F2E0C9\">\n",
    "\n",
    "**Resume**\n",
    "\n",
    "- We cannot disprove the null hypothesis: the average revenue of users from Moscow does not differ from the revenue of users from other regions.\n",
    "- The average revenue from users from Moscow and other regions is practically the same (approximately 1500-1600 rubles per month)\n",
    "\n",
    "</div>\n"
   ]
  },
  {
   "cell_type": "markdown",
   "metadata": {},
   "source": [
    "## Conclusions"
   ]
  },
  {
   "cell_type": "markdown",
   "metadata": {},
   "source": [
    "- More users are connected to the tariff *Smart*\n",
    "- Total profit per month comes from *Smart* tariff\n",
    "- Basically, users pay extra for the Internet, regardless of the tariff\n",
    "- Users of the *Ultra* tariff practically do not exceed the limits, except for megabytes of the Internet.\n",
    "- Despite the fact that *Smart* brings more profit, the average revenue is higher for *Ultra*.\n",
    "- The difference in average revenue from Moscow and other regions is insignificant.\n",
    "\n",
    "**For promotion, you should pay attention to the tariff *Ultra*. In the future, users will be able to bring more profit. Since users don't go beyond their minute and message limits, you can suggest that they change them to GB when they get close to the threshold.\n",
    "  *Smart* users who often exceed tariff limits can advertise *Ultra* tariff**\n"
   ]
  },
  {
   "cell_type": "code",
   "execution_count": 45,
   "outputs": [],
   "source": [],
   "metadata": {
    "collapsed": false
   }
  }
 ],
 "metadata": {
  "ExecuteTimeLog": [
   {
    "duration": 375,
    "start_time": "2022-05-04T12:26:01.321Z"
   },
   {
    "duration": 57,
    "start_time": "2022-05-04T12:26:01.698Z"
   },
   {
    "duration": 74,
    "start_time": "2022-05-04T12:26:01.758Z"
   },
   {
    "duration": 30,
    "start_time": "2022-05-04T12:26:01.834Z"
   },
   {
    "duration": 42,
    "start_time": "2022-05-04T12:26:01.866Z"
   },
   {
    "duration": 32,
    "start_time": "2022-05-04T12:26:01.910Z"
   },
   {
    "duration": 8,
    "start_time": "2022-05-04T12:26:01.943Z"
   },
   {
    "duration": 58,
    "start_time": "2022-05-04T12:26:01.952Z"
   },
   {
    "duration": 23,
    "start_time": "2022-05-04T12:26:02.012Z"
   },
   {
    "duration": 32,
    "start_time": "2022-05-04T12:26:02.037Z"
   },
   {
    "duration": 41,
    "start_time": "2022-05-04T12:26:02.071Z"
   },
   {
    "duration": 27,
    "start_time": "2022-05-04T12:26:02.115Z"
   },
   {
    "duration": 7,
    "start_time": "2022-05-04T12:26:02.144Z"
   },
   {
    "duration": 12,
    "start_time": "2022-05-04T12:26:02.153Z"
   },
   {
    "duration": 41,
    "start_time": "2022-05-04T12:26:02.167Z"
   },
   {
    "duration": 87,
    "start_time": "2022-05-04T12:26:02.210Z"
   },
   {
    "duration": 46,
    "start_time": "2022-05-04T12:26:02.299Z"
   },
   {
    "duration": 48,
    "start_time": "2022-05-04T12:26:02.347Z"
   },
   {
    "duration": 33,
    "start_time": "2022-05-04T12:26:02.397Z"
   },
   {
    "duration": 33,
    "start_time": "2022-05-04T12:26:02.432Z"
   },
   {
    "duration": 70,
    "start_time": "2022-05-04T12:26:02.467Z"
   },
   {
    "duration": 312,
    "start_time": "2022-05-04T12:26:02.539Z"
   },
   {
    "duration": 6,
    "start_time": "2022-05-04T12:26:02.853Z"
   },
   {
    "duration": 12,
    "start_time": "2022-05-04T12:26:02.860Z"
   },
   {
    "duration": 19,
    "start_time": "2022-05-04T12:26:02.874Z"
   },
   {
    "duration": 258,
    "start_time": "2022-05-04T12:26:02.896Z"
   },
   {
    "duration": 10,
    "start_time": "2022-05-04T12:26:03.156Z"
   },
   {
    "duration": 30,
    "start_time": "2022-05-04T12:26:03.168Z"
   },
   {
    "duration": 393,
    "start_time": "2022-05-04T12:26:03.200Z"
   },
   {
    "duration": 10,
    "start_time": "2022-05-04T12:26:03.595Z"
   },
   {
    "duration": 10,
    "start_time": "2022-05-04T12:26:03.607Z"
   },
   {
    "duration": 325,
    "start_time": "2022-05-04T12:26:03.619Z"
   },
   {
    "duration": 25,
    "start_time": "2022-05-04T12:26:03.947Z"
   },
   {
    "duration": 23,
    "start_time": "2022-05-04T12:26:03.975Z"
   },
   {
    "duration": 19,
    "start_time": "2022-05-04T12:26:04.001Z"
   },
   {
    "duration": 8,
    "start_time": "2022-05-04T12:26:04.021Z"
   },
   {
    "duration": 9,
    "start_time": "2022-05-04T12:26:04.031Z"
   },
   {
    "duration": 13,
    "start_time": "2022-05-04T12:26:04.041Z"
   },
   {
    "duration": 37,
    "start_time": "2022-05-04T12:26:04.056Z"
   },
   {
    "duration": 7,
    "start_time": "2022-05-04T12:26:04.096Z"
   },
   {
    "duration": 1796,
    "start_time": "2022-05-04T16:33:22.194Z"
   },
   {
    "duration": 62,
    "start_time": "2022-05-04T16:33:23.993Z"
   },
   {
    "duration": 74,
    "start_time": "2022-05-04T16:33:24.057Z"
   },
   {
    "duration": 32,
    "start_time": "2022-05-04T16:33:24.134Z"
   },
   {
    "duration": 42,
    "start_time": "2022-05-04T16:33:24.168Z"
   },
   {
    "duration": 50,
    "start_time": "2022-05-04T16:33:24.212Z"
   },
   {
    "duration": 9,
    "start_time": "2022-05-04T16:33:24.265Z"
   },
   {
    "duration": 62,
    "start_time": "2022-05-04T16:33:24.293Z"
   },
   {
    "duration": 8,
    "start_time": "2022-05-04T16:33:24.357Z"
   },
   {
    "duration": 61,
    "start_time": "2022-05-04T16:33:24.368Z"
   },
   {
    "duration": 67,
    "start_time": "2022-05-04T16:33:24.431Z"
   },
   {
    "duration": 28,
    "start_time": "2022-05-04T16:33:24.500Z"
   },
   {
    "duration": 9,
    "start_time": "2022-05-04T16:33:24.530Z"
   },
   {
    "duration": 7,
    "start_time": "2022-05-04T16:33:24.541Z"
   },
   {
    "duration": 49,
    "start_time": "2022-05-04T16:33:24.550Z"
   },
   {
    "duration": 100,
    "start_time": "2022-05-04T16:33:24.602Z"
   },
   {
    "duration": 51,
    "start_time": "2022-05-04T16:33:24.705Z"
   },
   {
    "duration": 60,
    "start_time": "2022-05-04T16:33:24.759Z"
   },
   {
    "duration": 36,
    "start_time": "2022-05-04T16:33:24.822Z"
   },
   {
    "duration": 56,
    "start_time": "2022-05-04T16:33:24.860Z"
   },
   {
    "duration": 49,
    "start_time": "2022-05-04T16:33:24.919Z"
   },
   {
    "duration": 170,
    "start_time": "2022-05-04T16:33:24.970Z"
   },
   {
    "duration": 4,
    "start_time": "2022-05-04T16:33:25.142Z"
   },
   {
    "duration": 14,
    "start_time": "2022-05-04T16:33:25.148Z"
   },
   {
    "duration": 29,
    "start_time": "2022-05-04T16:33:25.164Z"
   },
   {
    "duration": 306,
    "start_time": "2022-05-04T16:33:25.195Z"
   },
   {
    "duration": 9,
    "start_time": "2022-05-04T16:33:25.503Z"
   },
   {
    "duration": 12,
    "start_time": "2022-05-04T16:33:25.516Z"
   },
   {
    "duration": 222,
    "start_time": "2022-05-04T16:33:25.530Z"
   },
   {
    "duration": 9,
    "start_time": "2022-05-04T16:33:25.754Z"
   },
   {
    "duration": 28,
    "start_time": "2022-05-04T16:33:25.765Z"
   },
   {
    "duration": 309,
    "start_time": "2022-05-04T16:33:25.797Z"
   },
   {
    "duration": 23,
    "start_time": "2022-05-04T16:33:26.108Z"
   },
   {
    "duration": 10,
    "start_time": "2022-05-04T16:33:26.133Z"
   },
   {
    "duration": 47,
    "start_time": "2022-05-04T16:33:26.145Z"
   },
   {
    "duration": 28,
    "start_time": "2022-05-04T16:33:26.194Z"
   },
   {
    "duration": 29,
    "start_time": "2022-05-04T16:33:26.224Z"
   },
   {
    "duration": 19,
    "start_time": "2022-05-04T16:33:26.255Z"
   },
   {
    "duration": 13,
    "start_time": "2022-05-04T16:33:26.275Z"
   },
   {
    "duration": 16,
    "start_time": "2022-05-04T16:33:26.289Z"
   },
   {
    "duration": 21,
    "start_time": "2022-05-04T16:35:54.233Z"
   },
   {
    "duration": 2203,
    "start_time": "2022-05-05T07:42:15.756Z"
   },
   {
    "duration": 51,
    "start_time": "2022-05-05T07:42:19.980Z"
   },
   {
    "duration": 53,
    "start_time": "2022-05-05T07:47:32.433Z"
   },
   {
    "duration": 30,
    "start_time": "2022-05-05T07:47:34.352Z"
   },
   {
    "duration": 33,
    "start_time": "2022-05-05T07:47:40.315Z"
   },
   {
    "duration": 30,
    "start_time": "2022-05-05T07:47:52.836Z"
   },
   {
    "duration": 29,
    "start_time": "2022-05-05T07:48:00.204Z"
   },
   {
    "duration": 24,
    "start_time": "2022-05-05T07:48:02.100Z"
   },
   {
    "duration": 44,
    "start_time": "2022-05-05T07:48:12.772Z"
   },
   {
    "duration": 12,
    "start_time": "2022-05-05T07:48:15.165Z"
   },
   {
    "duration": 57,
    "start_time": "2022-05-05T07:48:20.813Z"
   },
   {
    "duration": 7,
    "start_time": "2022-05-05T07:48:21.533Z"
   },
   {
    "duration": 40,
    "start_time": "2022-05-05T07:49:21.606Z"
   },
   {
    "duration": 46,
    "start_time": "2022-05-05T07:49:23.347Z"
   },
   {
    "duration": 31,
    "start_time": "2022-05-05T07:49:25.946Z"
   },
   {
    "duration": 8,
    "start_time": "2022-05-05T07:49:27.431Z"
   },
   {
    "duration": 6,
    "start_time": "2022-05-05T07:49:28.007Z"
   },
   {
    "duration": 33,
    "start_time": "2022-05-05T07:49:29.496Z"
   },
   {
    "duration": 91,
    "start_time": "2022-05-05T07:49:32.056Z"
   },
   {
    "duration": 1633,
    "start_time": "2022-05-05T07:49:33.282Z"
   },
   {
    "duration": 132,
    "start_time": "2022-05-05T07:49:34.918Z"
   },
   {
    "duration": 36,
    "start_time": "2022-05-05T07:49:35.895Z"
   },
   {
    "duration": 31,
    "start_time": "2022-05-05T07:49:36.900Z"
   },
   {
    "duration": 22,
    "start_time": "2022-05-05T07:51:13.006Z"
   },
   {
    "duration": 132,
    "start_time": "2022-05-05T07:56:20.378Z"
   },
   {
    "duration": 32,
    "start_time": "2022-05-05T07:56:40.161Z"
   },
   {
    "duration": 45,
    "start_time": "2022-05-05T07:56:47.700Z"
   },
   {
    "duration": 324,
    "start_time": "2022-05-05T07:58:04.745Z"
   },
   {
    "duration": 12279,
    "start_time": "2022-05-05T07:58:18.757Z"
   },
   {
    "duration": 6,
    "start_time": "2022-05-05T07:59:35.623Z"
   },
   {
    "duration": 81,
    "start_time": "2022-05-05T07:59:38.680Z"
   },
   {
    "duration": 75,
    "start_time": "2022-05-05T07:59:39.520Z"
   },
   {
    "duration": 440,
    "start_time": "2022-05-05T07:59:40.161Z"
   },
   {
    "duration": 75,
    "start_time": "2022-05-05T07:59:43.772Z"
   },
   {
    "duration": 71,
    "start_time": "2022-05-05T08:00:04.628Z"
   },
   {
    "duration": 363,
    "start_time": "2022-05-05T08:00:05.480Z"
   },
   {
    "duration": 78,
    "start_time": "2022-05-05T08:00:09.436Z"
   },
   {
    "duration": 77,
    "start_time": "2022-05-05T08:00:09.881Z"
   },
   {
    "duration": 387,
    "start_time": "2022-05-05T08:00:10.483Z"
   },
   {
    "duration": 66,
    "start_time": "2022-05-05T08:00:12.587Z"
   },
   {
    "duration": 11,
    "start_time": "2022-05-05T08:00:13.639Z"
   },
   {
    "duration": 50,
    "start_time": "2022-05-05T08:00:15.264Z"
   },
   {
    "duration": 12,
    "start_time": "2022-05-05T08:00:16.088Z"
   },
   {
    "duration": 74,
    "start_time": "2022-05-05T08:00:54.455Z"
   },
   {
    "duration": 9,
    "start_time": "2022-05-05T08:00:55.255Z"
   },
   {
    "duration": 68,
    "start_time": "2022-05-05T08:00:58.975Z"
   },
   {
    "duration": 7,
    "start_time": "2022-05-05T08:01:00.615Z"
   },
   {
    "duration": 9,
    "start_time": "2022-05-05T08:13:21.639Z"
   },
   {
    "duration": 6,
    "start_time": "2022-05-05T08:18:05.723Z"
   },
   {
    "duration": 9,
    "start_time": "2022-05-05T08:18:09.531Z"
   },
   {
    "duration": 1836,
    "start_time": "2022-05-05T08:18:20.879Z"
   },
   {
    "duration": 51,
    "start_time": "2022-05-05T08:18:22.718Z"
   },
   {
    "duration": 52,
    "start_time": "2022-05-05T08:18:22.771Z"
   },
   {
    "duration": 28,
    "start_time": "2022-05-05T08:18:22.826Z"
   },
   {
    "duration": 48,
    "start_time": "2022-05-05T08:18:22.856Z"
   },
   {
    "duration": 42,
    "start_time": "2022-05-05T08:18:22.906Z"
   },
   {
    "duration": 12,
    "start_time": "2022-05-05T08:18:22.950Z"
   },
   {
    "duration": 55,
    "start_time": "2022-05-05T08:18:22.994Z"
   },
   {
    "duration": 7,
    "start_time": "2022-05-05T08:18:23.051Z"
   },
   {
    "duration": 32,
    "start_time": "2022-05-05T08:18:23.062Z"
   },
   {
    "duration": 37,
    "start_time": "2022-05-05T08:18:23.096Z"
   },
   {
    "duration": 73,
    "start_time": "2022-05-05T08:18:23.135Z"
   },
   {
    "duration": 30,
    "start_time": "2022-05-05T08:18:23.210Z"
   },
   {
    "duration": 8,
    "start_time": "2022-05-05T08:18:23.242Z"
   },
   {
    "duration": 9,
    "start_time": "2022-05-05T08:18:23.252Z"
   },
   {
    "duration": 52,
    "start_time": "2022-05-05T08:18:23.263Z"
   },
   {
    "duration": 108,
    "start_time": "2022-05-05T08:18:23.317Z"
   },
   {
    "duration": 44,
    "start_time": "2022-05-05T08:18:23.427Z"
   },
   {
    "duration": 57,
    "start_time": "2022-05-05T08:18:23.473Z"
   },
   {
    "duration": 36,
    "start_time": "2022-05-05T08:18:23.532Z"
   },
   {
    "duration": 23,
    "start_time": "2022-05-05T08:18:23.570Z"
   },
   {
    "duration": 49,
    "start_time": "2022-05-05T08:18:23.595Z"
   },
   {
    "duration": 304,
    "start_time": "2022-05-05T08:18:23.646Z"
   },
   {
    "duration": 11546,
    "start_time": "2022-05-05T08:18:23.952Z"
   },
   {
    "duration": 6,
    "start_time": "2022-05-05T08:18:35.501Z"
   },
   {
    "duration": 97,
    "start_time": "2022-05-05T08:18:35.509Z"
   },
   {
    "duration": 85,
    "start_time": "2022-05-05T08:18:35.608Z"
   },
   {
    "duration": 443,
    "start_time": "2022-05-05T08:18:35.699Z"
   },
   {
    "duration": 91,
    "start_time": "2022-05-05T08:18:36.145Z"
   },
   {
    "duration": 89,
    "start_time": "2022-05-05T08:18:36.238Z"
   },
   {
    "duration": 379,
    "start_time": "2022-05-05T08:18:36.329Z"
   },
   {
    "duration": 88,
    "start_time": "2022-05-05T08:18:36.710Z"
   },
   {
    "duration": 69,
    "start_time": "2022-05-05T08:18:36.800Z"
   },
   {
    "duration": 384,
    "start_time": "2022-05-05T08:18:36.872Z"
   },
   {
    "duration": 78,
    "start_time": "2022-05-05T08:18:37.258Z"
   },
   {
    "duration": 14,
    "start_time": "2022-05-05T08:18:37.338Z"
   },
   {
    "duration": 69,
    "start_time": "2022-05-05T08:18:37.354Z"
   },
   {
    "duration": 12,
    "start_time": "2022-05-05T08:18:37.425Z"
   },
   {
    "duration": 87,
    "start_time": "2022-05-05T08:18:37.439Z"
   },
   {
    "duration": 7,
    "start_time": "2022-05-05T08:18:37.528Z"
   },
   {
    "duration": 86,
    "start_time": "2022-05-05T08:18:37.537Z"
   },
   {
    "duration": 7,
    "start_time": "2022-05-05T08:18:37.625Z"
   }
  ],
  "kernelspec": {
   "display_name": "Python 3 (ipykernel)",
   "language": "python",
   "name": "python3"
  },
  "language_info": {
   "codemirror_mode": {
    "name": "ipython",
    "version": 3
   },
   "file_extension": ".py",
   "mimetype": "text/x-python",
   "name": "python",
   "nbconvert_exporter": "python",
   "pygments_lexer": "ipython3",
   "version": "3.9.5"
  },
  "toc": {
   "base_numbering": 1,
   "nav_menu": {},
   "number_sections": true,
   "sideBar": true,
   "skip_h1_title": true,
   "title_cell": "Table of Contents",
   "title_sidebar": "Contents",
   "toc_cell": true,
   "toc_position": {},
   "toc_section_display": true,
   "toc_window_display": true
  }
 },
 "nbformat": 4,
 "nbformat_minor": 1
}
